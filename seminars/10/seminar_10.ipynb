{
 "cells": [
  {
   "cell_type": "markdown",
   "id": "3d50089a-8c01-455a-85ae-efd82fc10941",
   "metadata": {},
   "source": [
    "# Семинар 10: Ядерные методы (Kernel methods) и машина опорных векторов (Support vector machine). Kernelized Nearest Neighbor. Kernelized Ridge Regression. Kernelized LASSO Regression."
   ]
  },
  {
   "cell_type": "markdown",
   "id": "f30b4127-f490-4e5b-836c-4bedee87f9ee",
   "metadata": {},
   "source": [
    "<a href=\"https://colab.research.google.com/github/SergeyMalashenko/MachineLearning_Summer_2023/blob/main/seminars/10/seminar_10.ipynb\"><img align=\"left\" src=\"https://colab.research.google.com/assets/colab-badge.svg\" alt=\"Open in Colab\" title=\"Open and Execute in Google Colaboratory\"></a>"
   ]
  },
  {
   "cell_type": "code",
   "execution_count": 1,
   "id": "dcf1ca65-39ae-4f39-a49b-81acdc8dff62",
   "metadata": {
    "tags": []
   },
   "outputs": [],
   "source": [
    "%matplotlib inline\n",
    "import matplotlib.pyplot as plt\n",
    "import pandas            as pd\n",
    "import numpy             as np\n",
    "import scipy             as sp"
   ]
  },
  {
   "cell_type": "markdown",
   "id": "9efc69f6-dafd-44ca-8aa1-0641167c4a6e",
   "metadata": {},
   "source": [
    "## Ядерные функции (Kernel function)"
   ]
  },
  {
   "cell_type": "markdown",
   "id": "ccc2a317-8dd4-4891-944d-bfde34f8090b",
   "metadata": {},
   "source": [
    "### Ядро RBF (Radial Basis Function)\n",
    "\n",
    "$$k(x, x') = exp(-\\frac{1}{2}(x-x')\\Sigma^{-1}(x-x'))$$\n",
    "\n",
    ", если матрица $\\Sigma$ диагональная\n",
    "\n",
    "$$k(x, x') = exp(-\\frac{1}{2}\\Sigma_{i=1}^{D}\\frac{1}{\\sigma_i^2}(x-x')^2)$$"
   ]
  },
  {
   "cell_type": "code",
   "execution_count": null,
   "id": "6be997dd-30df-4e8a-bc28-28cfc8a4c396",
   "metadata": {},
   "outputs": [],
   "source": []
  },
  {
   "cell_type": "markdown",
   "id": "25b50260-37ee-4199-8ee4-cb6da4a2ac36",
   "metadata": {},
   "source": [
    "### Ядра Мерсера (Mercer kernel)"
   ]
  },
  {
   "cell_type": "code",
   "execution_count": null,
   "id": "1644e623-bc1c-48cc-98a9-23caf2503bdd",
   "metadata": {},
   "outputs": [],
   "source": []
  },
  {
   "cell_type": "markdown",
   "id": "b544975d-125b-4b4c-a128-d64f539cd39b",
   "metadata": {},
   "source": [
    "## Ядерные ближайшие соседи (Kernelized Nearest Neighbor)"
   ]
  },
  {
   "cell_type": "code",
   "execution_count": null,
   "id": "32858b54-f37f-490d-af64-ea361851b824",
   "metadata": {},
   "outputs": [],
   "source": []
  },
  {
   "cell_type": "markdown",
   "id": "c69b83b9-da6a-4538-a1b1-fb1366724e02",
   "metadata": {},
   "source": [
    "## Ядерная гребневая регрессия (Kernelized ridge regression)"
   ]
  },
  {
   "cell_type": "code",
   "execution_count": null,
   "id": "42250af3-62d5-41a8-afb1-5e6dc31a8946",
   "metadata": {},
   "outputs": [],
   "source": []
  },
  {
   "cell_type": "markdown",
   "id": "85cbab4d-2c94-46c2-9b9f-23a0303aeeab",
   "metadata": {},
   "source": [
    "## Машина разреженных векторов (Sparse vector machine)"
   ]
  },
  {
   "cell_type": "code",
   "execution_count": null,
   "id": "c57da6e2-ef49-46ee-9f80-6140a5a34ea0",
   "metadata": {},
   "outputs": [],
   "source": []
  },
  {
   "cell_type": "markdown",
   "id": "8d28458c-9763-488b-81b0-972c55f5ef8f",
   "metadata": {},
   "source": [
    "## Машина опорных векторов (Support vector  machine)"
   ]
  },
  {
   "cell_type": "code",
   "execution_count": null,
   "id": "17d262fb-22e9-4476-bc17-b0d686b3a2c6",
   "metadata": {},
   "outputs": [],
   "source": [
    "from sklearn.pipeline import Pipeline\n",
    "from sklearn.preprocessing import PolynomialFeatures\n",
    "from sklearn.preprocessing import StandardScaler\n",
    "\n",
    "from sklearn.svm import LinearSVR\n",
    "from sklearn.svm import SVR\n",
    "\n",
    "def plot_svm_regression(svm_reg, X, y, axes):\n",
    "    x1s = np.linspace(axes[0], axes[1], 100).reshape(100, 1)\n",
    "    y_pred = svm_reg.predict(x1s)\n",
    "    plt.plot(x1s, y_pred, \"k-\", linewidth=2, label=r\"$\\hat{y}$\")\n",
    "    plt.plot(x1s, y_pred + svm_reg.epsilon, \"k--\")\n",
    "    plt.plot(x1s, y_pred - svm_reg.epsilon, \"k--\")\n",
    "    plt.scatter(X[svm_reg.support_], y[svm_reg.support_], s=180, facecolors=\"#FFAAAA\")\n",
    "    plt.plot(X, y, \"bo\")\n",
    "    plt.xlabel(r\"$x_1$\", fontsize=18)\n",
    "    # plt.legend(loc=\"upper left\", fontsize=18)\n",
    "    plt.axis(axes)\n",
    "\n",
    "\n",
    "np.random.seed(42)\n",
    "m = 100\n",
    "X = 2 * np.random.rand(m, 1) - 1\n",
    "# y = (0.2 + 0.1 * X + 0.5 * X**2 + np.random.randn(m, 1)/10).ravel()\n",
    "y = (0.2 + 0.1 * X + 0.5 * X**2 + 0.1 * X**3 + np.random.randn(m, 1) / 10).ravel()\n",
    "\n",
    "epsilons = [0.1, 0.05]\n",
    "eps_names = [\"0p1\", \"0p05\"]\n",
    "for i, eps in enumerate(epsilons):\n",
    "    # svm_poly_reg1 = SVR(kernel=\"poly\", degree=5, C=1e3, epsilon=eps, gamma=\"scale\")\n",
    "    # svm_poly_reg2 = SVR(kernel=\"poly\", degree=5, C=1e-3, epsilon=eps, gamma=\"scale\")\n",
    "    svm_reg1 = SVR(kernel=\"rbf\", gamma=1, C=100, epsilon=eps)\n",
    "    svm_reg2 = SVR(kernel=\"rbf\", gamma=1, C=0.01, epsilon=eps)\n",
    "\n",
    "    svm_reg1.fit(X, y)\n",
    "    svm_reg2.fit(X, y)\n",
    "\n",
    "    fig, axes = plt.subplots(ncols=2, figsize=(9, 4), sharey=True)\n",
    "    plt.sca(axes[0])\n",
    "    plot_svm_regression(svm_reg1, X, y, [-1, 1, 0, 1])\n",
    "    plt.title(r\"$C={}, \\epsilon = {}$\".format(svm_reg1.C, svm_reg1.epsilon), fontsize=18)\n",
    "    plt.ylabel(r\"$y$\", fontsize=18, rotation=0)\n",
    "    plt.sca(axes[1])\n",
    "    plot_svm_regression(svm_reg2, X, y, [-1, 1, 0, 1])\n",
    "    plt.title(r\"$C={}, \\epsilon = {}$\".format(svm_reg2.C, svm_reg2.epsilon), fontsize=18)\n",
    "    fname = \"figures/svm_regression_e{}.pdf\".format(eps_names[i])\n",
    "    #plt.savefig(fname, dpi=300)\n",
    "    plt.show()"
   ]
  }
 ],
 "metadata": {
  "kernelspec": {
   "display_name": "Python 3 (ipykernel)",
   "language": "python",
   "name": "python3"
  },
  "language_info": {
   "codemirror_mode": {
    "name": "ipython",
    "version": 3
   },
   "file_extension": ".py",
   "mimetype": "text/x-python",
   "name": "python",
   "nbconvert_exporter": "python",
   "pygments_lexer": "ipython3",
   "version": "3.8.16"
  }
 },
 "nbformat": 4,
 "nbformat_minor": 5
}
