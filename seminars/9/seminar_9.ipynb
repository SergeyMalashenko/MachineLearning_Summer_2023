{
 "cells": [
  {
   "cell_type": "markdown",
   "id": "3d50089a-8c01-455a-85ae-efd82fc10941",
   "metadata": {},
   "source": [
    "# Семинар 9: Ядерные методы (Kernel methods). Kernelized Nearest Neighbor. Kernelized Ridge Regression. Kernelized LASSO Regression."
   ]
  },
  {
   "cell_type": "markdown",
   "id": "f30b4127-f490-4e5b-836c-4bedee87f9ee",
   "metadata": {},
   "source": [
    "<a href=\"https://colab.research.google.com/github/SergeyMalashenko/MachineLearning_Summer_2023/blob/main/seminars/9/seminar_9.ipynb\"><img align=\"left\" src=\"https://colab.research.google.com/assets/colab-badge.svg\" alt=\"Open in Colab\" title=\"Open and Execute in Google Colaboratory\"></a>"
   ]
  },
  {
   "cell_type": "code",
   "execution_count": 1,
   "id": "dcf1ca65-39ae-4f39-a49b-81acdc8dff62",
   "metadata": {
    "tags": []
   },
   "outputs": [],
   "source": [
    "%matplotlib inline\n",
    "import matplotlib.pyplot as plt\n",
    "import pandas            as pd\n",
    "import numpy             as np\n",
    "import scipy             as sp"
   ]
  },
  {
   "cell_type": "code",
   "execution_count": null,
   "id": "1644e623-bc1c-48cc-98a9-23caf2503bdd",
   "metadata": {},
   "outputs": [],
   "source": []
  },
  {
   "cell_type": "markdown",
   "id": "b544975d-125b-4b4c-a128-d64f539cd39b",
   "metadata": {},
   "source": [
    "## Kernelized Nearest Neighbor"
   ]
  },
  {
   "cell_type": "code",
   "execution_count": null,
   "id": "32858b54-f37f-490d-af64-ea361851b824",
   "metadata": {},
   "outputs": [],
   "source": []
  },
  {
   "cell_type": "markdown",
   "id": "c69b83b9-da6a-4538-a1b1-fb1366724e02",
   "metadata": {},
   "source": [
    "## Kernelized ridge regression"
   ]
  },
  {
   "cell_type": "code",
   "execution_count": null,
   "id": "42250af3-62d5-41a8-afb1-5e6dc31a8946",
   "metadata": {},
   "outputs": [],
   "source": []
  },
  {
   "cell_type": "markdown",
   "id": "85cbab4d-2c94-46c2-9b9f-23a0303aeeab",
   "metadata": {},
   "source": [
    "## Sparse vector machine"
   ]
  },
  {
   "cell_type": "code",
   "execution_count": null,
   "id": "c57da6e2-ef49-46ee-9f80-6140a5a34ea0",
   "metadata": {},
   "outputs": [],
   "source": []
  },
  {
   "cell_type": "markdown",
   "id": "8d28458c-9763-488b-81b0-972c55f5ef8f",
   "metadata": {},
   "source": []
  },
  {
   "cell_type": "code",
   "execution_count": null,
   "id": "17d262fb-22e9-4476-bc17-b0d686b3a2c6",
   "metadata": {},
   "outputs": [],
   "source": []
  }
 ],
 "metadata": {
  "kernelspec": {
   "display_name": "Python 3 (ipykernel)",
   "language": "python",
   "name": "python3"
  },
  "language_info": {
   "codemirror_mode": {
    "name": "ipython",
    "version": 3
   },
   "file_extension": ".py",
   "mimetype": "text/x-python",
   "name": "python",
   "nbconvert_exporter": "python",
   "pygments_lexer": "ipython3",
   "version": "3.8.16"
  }
 },
 "nbformat": 4,
 "nbformat_minor": 5
}
