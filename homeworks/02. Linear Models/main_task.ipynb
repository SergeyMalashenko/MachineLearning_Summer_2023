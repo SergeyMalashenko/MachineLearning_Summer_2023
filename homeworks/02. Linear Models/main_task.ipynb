{
 "cells": [
  {
   "cell_type": "markdown",
   "id": "da58e83d",
   "metadata": {},
   "source": [
    "# Большое практическое задание 2\n",
    "# Классификация заемщиков линейными моделями\n",
    "\n",
    "## курс \"Машинное обучение 1\", программа AIMasters, 2022\n",
    "\n",
    "## Студент: <Введите ваше ФИО>"
   ]
  },
  {
   "cell_type": "markdown",
   "id": "2c75a807",
   "metadata": {},
   "source": [
    "## Формулировка задания\n",
    "Данное задание направлено на ознакомление с линейными моделями и градиентными методами обучения. В\n",
    "задании необходимо: <br>\n",
    "1. Написать на языке Python собственную реализацию линейного классификатора с произвольной функцией потерь и реализацию функции и градиента функции потерь для логистической регрессии. Реализации можно частично проверить через юнит-тесты и с помощью системы ejudge в соответствующем соревновании. <br><br> **Внимание.** Прохождение всех тестов в соревновании не гарантирует правильность решения. \n",
    "\n",
    "\n",
    "2. Вывести все необходимые формулы, привести выкладки в отчёте. \n",
    "\n",
    "\n",
    "3. Провести описанные ниже эксперименты с модельными данными и приложенным датасетом в данном ноутбуке. Подготовить отчёт о проделанной работе. Удалите черновые выводы, оставьте только тот код, который является ответом к пунктам задания. Сохраните ноутбук в форматах .ipynb и .html одновременно. <br><br> **Замечание.** Чтобы экспорировать jupyter notebook в .html нужно выбрать: `File -> Download as -> HTML (.html)`. Для экспорта notebook в .html в Google Colab, воспользуйтесь [следующим кодом](https://gist.github.com/vbugaevskii/b9c6181f2ad83e11f5b9c92d315cb2de). Большая просьба: подписывайте свой отчет (в названии файла и внутри ноутбука).\n",
    "\n",
    "\n",
    "4. В систему проверки необходимо сдать отчёт в обоих форматах и .zip архив с написанными модулями. <br><br> Большая просьба: jupyter notebook и html файл не запаковывать в архив, а сдавать отдельно.\n"
   ]
  },
  {
   "cell_type": "markdown",
   "id": "cc896cbb",
   "metadata": {},
   "source": [
    "### Некоторые полезные советы\n",
    "1. Для того, чтобы не перезагружать jupyter notebook каждый раз после того, как вы внесли изменения в модуль knn, можно добавить ячейку с таким содержимым:\n",
    "```python\n",
    "%load_ext autoreload\n",
    "%autoreload 2\n",
    "```\n",
    "\n",
    "\n",
    "2. Не нужно копировать свой код из модулей в jupyter notebook, пользуйтесь им, как если бы это была библиотека. Для этого поместите директорию `modules` рядом с notebook-ом. Пример, как может выглядеть содержимое вашей рабочей директории:\n",
    "```text\n",
    "tree\n",
    "    ---modules\n",
    "    ------__init__.py\n",
    "    ------linear_model.py\n",
    "    ------losses.py\n",
    "    ------utils.py\n",
    "    ------tests.py\n",
    "    HW2_*.ipynb\n",
    "```"
   ]
  },
  {
   "cell_type": "markdown",
   "id": "52ad3c6b",
   "metadata": {},
   "source": [
    "## Теоретическая часть (1 балл)\n",
    "Выведите формулу градиента функции потерь (по параметру $w$) для задачи бинарной логистической регрессии. <br>\n",
    "Считайте для удобства, что $x[0] = 1$ для любого объекта, то есть $w[0] - \\texttt{bias}$. <br>\n",
    "Так, в выведенном вами градиенте, $\\texttt{grad}[1:]$ - градиент по весам, $\\texttt{grad}[0]$ - градиент по $\\texttt{bias}$.\n",
    "\n",
    "$$L(a(x), y) = \\log(1 + \\exp(-y\\langle w, x\\rangle)), \\quad y \\in \\{-1, 1\\}$$\n",
    "\n",
    "Запишите вывод градиента ниже."
   ]
  },
  {
   "cell_type": "code",
   "execution_count": null,
   "id": "ef6d315d",
   "metadata": {},
   "outputs": [],
   "source": []
  },
  {
   "cell_type": "markdown",
   "id": "f8235138",
   "metadata": {},
   "source": [
    "## Реализация алгоритмов (9 баллов)\n",
    "Прототипы функций должны строго соответствовать прототипам, описанным в спецификации и проходить все\n",
    "тесты. Задание, не проходящее все тесты, приравнивается к невыполненному. \n",
    "\n",
    "\n",
    "При написании необходимо пользоваться стандартными средствами языка Python, библиотеками `numpy, scipy и matplotlib`. Библиотекой `scikit-learn` для реализаций пользоваться запрещается, но разрешается использовать её в процессе экспериментов. Все\n",
    "подробности реализации алгоритмов подробно описаны в спецификации к заданию.\n",
    "\n",
    "\n",
    "Ожидается, что реализациия всех классов и функций будет максимально эффективной. Дополнительно вам предоставлены открытые тесты, которые находятся в модуле `modules`. Чтобы запустить тесты в консоли требуется выполнить команду:\n",
    "```c\n",
    "$ pytest ./modules/tests.py\n",
    "\n",
    "```\n",
    "\n",
    "Разрешается дополнять файл тестами для самопроверки. Доп баллы за написание своих тестов не будет :)"
   ]
  },
  {
   "cell_type": "markdown",
   "id": "243392a9",
   "metadata": {},
   "source": [
    "## Эксперименты (15 баллов)\n",
    "\n",
    "Эксперименты будем проводить на [датасете](https://www.kaggle.com/competitions/home-credit-default-risk/overview) по классификации заемщиков на плохих (target = 1: клиент с \"payment difficulties\") и хороших (target = 0: все остальные). Для экспериментов будем использовать лишь основной файл `application_train.csv`, а также перекодируем таргет в метки -1, 1.\n",
    "\n",
    "Описание колонок находится в файле `description.csv`.\n",
    "\n",
    "Для начала мы за вас считаем данные и поделим на обучение, валидацию и тест случайным образом."
   ]
  },
  {
   "cell_type": "code",
   "execution_count": 6,
   "id": "09435945",
   "metadata": {},
   "outputs": [
    {
     "name": "stdout",
     "output_type": "stream",
     "text": [
      "The autoreload extension is already loaded. To reload it, use:\n",
      "  %reload_ext autoreload\n",
      "\n",
      "target value_counts:\n"
     ]
    },
    {
     "data": {
      "text/plain": [
       "-1    282686\n",
       " 1     24825\n",
       "Name: target, dtype: int64"
      ]
     },
     "metadata": {},
     "output_type": "display_data"
    },
    {
     "data": {
      "text/html": [
       "<div>\n",
       "<style scoped>\n",
       "    .dataframe tbody tr th:only-of-type {\n",
       "        vertical-align: middle;\n",
       "    }\n",
       "\n",
       "    .dataframe tbody tr th {\n",
       "        vertical-align: top;\n",
       "    }\n",
       "\n",
       "    .dataframe thead th {\n",
       "        text-align: right;\n",
       "    }\n",
       "</style>\n",
       "<table border=\"1\" class=\"dataframe\">\n",
       "  <thead>\n",
       "    <tr style=\"text-align: right;\">\n",
       "      <th></th>\n",
       "      <th>sk_id_curr</th>\n",
       "      <th>target</th>\n",
       "      <th>name_contract_type</th>\n",
       "      <th>code_gender</th>\n",
       "      <th>flag_own_car</th>\n",
       "      <th>flag_own_realty</th>\n",
       "      <th>cnt_children</th>\n",
       "      <th>amt_income_total</th>\n",
       "      <th>amt_credit</th>\n",
       "      <th>amt_annuity</th>\n",
       "      <th>amt_goods_price</th>\n",
       "      <th>name_type_suite</th>\n",
       "      <th>name_income_type</th>\n",
       "      <th>name_education_type</th>\n",
       "      <th>name_family_status</th>\n",
       "      <th>name_housing_type</th>\n",
       "      <th>region_population_relative</th>\n",
       "      <th>days_birth</th>\n",
       "      <th>days_employed</th>\n",
       "      <th>days_registration</th>\n",
       "      <th>days_id_publish</th>\n",
       "      <th>own_car_age</th>\n",
       "      <th>flag_mobil</th>\n",
       "      <th>flag_emp_phone</th>\n",
       "      <th>flag_work_phone</th>\n",
       "      <th>flag_cont_mobile</th>\n",
       "      <th>flag_phone</th>\n",
       "      <th>flag_email</th>\n",
       "      <th>occupation_type</th>\n",
       "      <th>cnt_fam_members</th>\n",
       "      <th>region_rating_client</th>\n",
       "      <th>region_rating_client_w_city</th>\n",
       "      <th>weekday_appr_process_start</th>\n",
       "      <th>hour_appr_process_start</th>\n",
       "      <th>reg_region_not_live_region</th>\n",
       "      <th>reg_region_not_work_region</th>\n",
       "      <th>live_region_not_work_region</th>\n",
       "      <th>reg_city_not_live_city</th>\n",
       "      <th>reg_city_not_work_city</th>\n",
       "      <th>live_city_not_work_city</th>\n",
       "      <th>organization_type</th>\n",
       "      <th>ext_source_1</th>\n",
       "      <th>ext_source_2</th>\n",
       "      <th>ext_source_3</th>\n",
       "      <th>apartments_avg</th>\n",
       "      <th>basementarea_avg</th>\n",
       "      <th>years_beginexpluatation_avg</th>\n",
       "      <th>years_build_avg</th>\n",
       "      <th>commonarea_avg</th>\n",
       "      <th>elevators_avg</th>\n",
       "      <th>...</th>\n",
       "      <th>apartments_medi</th>\n",
       "      <th>basementarea_medi</th>\n",
       "      <th>years_beginexpluatation_medi</th>\n",
       "      <th>years_build_medi</th>\n",
       "      <th>commonarea_medi</th>\n",
       "      <th>elevators_medi</th>\n",
       "      <th>entrances_medi</th>\n",
       "      <th>floorsmax_medi</th>\n",
       "      <th>floorsmin_medi</th>\n",
       "      <th>landarea_medi</th>\n",
       "      <th>livingapartments_medi</th>\n",
       "      <th>livingarea_medi</th>\n",
       "      <th>nonlivingapartments_medi</th>\n",
       "      <th>nonlivingarea_medi</th>\n",
       "      <th>fondkapremont_mode</th>\n",
       "      <th>housetype_mode</th>\n",
       "      <th>totalarea_mode</th>\n",
       "      <th>wallsmaterial_mode</th>\n",
       "      <th>emergencystate_mode</th>\n",
       "      <th>obs_30_cnt_social_circle</th>\n",
       "      <th>def_30_cnt_social_circle</th>\n",
       "      <th>obs_60_cnt_social_circle</th>\n",
       "      <th>def_60_cnt_social_circle</th>\n",
       "      <th>days_last_phone_change</th>\n",
       "      <th>flag_document_2</th>\n",
       "      <th>flag_document_3</th>\n",
       "      <th>flag_document_4</th>\n",
       "      <th>flag_document_5</th>\n",
       "      <th>flag_document_6</th>\n",
       "      <th>flag_document_7</th>\n",
       "      <th>flag_document_8</th>\n",
       "      <th>flag_document_9</th>\n",
       "      <th>flag_document_10</th>\n",
       "      <th>flag_document_11</th>\n",
       "      <th>flag_document_12</th>\n",
       "      <th>flag_document_13</th>\n",
       "      <th>flag_document_14</th>\n",
       "      <th>flag_document_15</th>\n",
       "      <th>flag_document_16</th>\n",
       "      <th>flag_document_17</th>\n",
       "      <th>flag_document_18</th>\n",
       "      <th>flag_document_19</th>\n",
       "      <th>flag_document_20</th>\n",
       "      <th>flag_document_21</th>\n",
       "      <th>amt_req_credit_bureau_hour</th>\n",
       "      <th>amt_req_credit_bureau_day</th>\n",
       "      <th>amt_req_credit_bureau_week</th>\n",
       "      <th>amt_req_credit_bureau_mon</th>\n",
       "      <th>amt_req_credit_bureau_qrt</th>\n",
       "      <th>amt_req_credit_bureau_year</th>\n",
       "    </tr>\n",
       "  </thead>\n",
       "  <tbody>\n",
       "    <tr>\n",
       "      <th>0</th>\n",
       "      <td>100002</td>\n",
       "      <td>1</td>\n",
       "      <td>Cash loans</td>\n",
       "      <td>M</td>\n",
       "      <td>N</td>\n",
       "      <td>Y</td>\n",
       "      <td>0</td>\n",
       "      <td>202500.0</td>\n",
       "      <td>406597.5</td>\n",
       "      <td>24700.5</td>\n",
       "      <td>351000.0</td>\n",
       "      <td>Unaccompanied</td>\n",
       "      <td>Working</td>\n",
       "      <td>Secondary / secondary special</td>\n",
       "      <td>Single / not married</td>\n",
       "      <td>House / apartment</td>\n",
       "      <td>0.018801</td>\n",
       "      <td>-9461</td>\n",
       "      <td>-637</td>\n",
       "      <td>-3648.0</td>\n",
       "      <td>-2120</td>\n",
       "      <td>NaN</td>\n",
       "      <td>1</td>\n",
       "      <td>1</td>\n",
       "      <td>0</td>\n",
       "      <td>1</td>\n",
       "      <td>1</td>\n",
       "      <td>0</td>\n",
       "      <td>Laborers</td>\n",
       "      <td>1.0</td>\n",
       "      <td>2</td>\n",
       "      <td>2</td>\n",
       "      <td>WEDNESDAY</td>\n",
       "      <td>10</td>\n",
       "      <td>0</td>\n",
       "      <td>0</td>\n",
       "      <td>0</td>\n",
       "      <td>0</td>\n",
       "      <td>0</td>\n",
       "      <td>0</td>\n",
       "      <td>Business Entity Type 3</td>\n",
       "      <td>0.083037</td>\n",
       "      <td>0.262949</td>\n",
       "      <td>0.139376</td>\n",
       "      <td>0.0247</td>\n",
       "      <td>0.0369</td>\n",
       "      <td>0.9722</td>\n",
       "      <td>0.6192</td>\n",
       "      <td>0.0143</td>\n",
       "      <td>0.00</td>\n",
       "      <td>...</td>\n",
       "      <td>0.0250</td>\n",
       "      <td>0.0369</td>\n",
       "      <td>0.9722</td>\n",
       "      <td>0.6243</td>\n",
       "      <td>0.0144</td>\n",
       "      <td>0.00</td>\n",
       "      <td>0.0690</td>\n",
       "      <td>0.0833</td>\n",
       "      <td>0.1250</td>\n",
       "      <td>0.0375</td>\n",
       "      <td>0.0205</td>\n",
       "      <td>0.0193</td>\n",
       "      <td>0.0000</td>\n",
       "      <td>0.00</td>\n",
       "      <td>reg oper account</td>\n",
       "      <td>block of flats</td>\n",
       "      <td>0.0149</td>\n",
       "      <td>Stone, brick</td>\n",
       "      <td>No</td>\n",
       "      <td>2.0</td>\n",
       "      <td>2.0</td>\n",
       "      <td>2.0</td>\n",
       "      <td>2.0</td>\n",
       "      <td>-1134.0</td>\n",
       "      <td>0</td>\n",
       "      <td>1</td>\n",
       "      <td>0</td>\n",
       "      <td>0</td>\n",
       "      <td>0</td>\n",
       "      <td>0</td>\n",
       "      <td>0</td>\n",
       "      <td>0</td>\n",
       "      <td>0</td>\n",
       "      <td>0</td>\n",
       "      <td>0</td>\n",
       "      <td>0</td>\n",
       "      <td>0</td>\n",
       "      <td>0</td>\n",
       "      <td>0</td>\n",
       "      <td>0</td>\n",
       "      <td>0</td>\n",
       "      <td>0</td>\n",
       "      <td>0</td>\n",
       "      <td>0</td>\n",
       "      <td>0.0</td>\n",
       "      <td>0.0</td>\n",
       "      <td>0.0</td>\n",
       "      <td>0.0</td>\n",
       "      <td>0.0</td>\n",
       "      <td>1.0</td>\n",
       "    </tr>\n",
       "    <tr>\n",
       "      <th>1</th>\n",
       "      <td>100003</td>\n",
       "      <td>-1</td>\n",
       "      <td>Cash loans</td>\n",
       "      <td>F</td>\n",
       "      <td>N</td>\n",
       "      <td>N</td>\n",
       "      <td>0</td>\n",
       "      <td>270000.0</td>\n",
       "      <td>1293502.5</td>\n",
       "      <td>35698.5</td>\n",
       "      <td>1129500.0</td>\n",
       "      <td>Family</td>\n",
       "      <td>State servant</td>\n",
       "      <td>Higher education</td>\n",
       "      <td>Married</td>\n",
       "      <td>House / apartment</td>\n",
       "      <td>0.003541</td>\n",
       "      <td>-16765</td>\n",
       "      <td>-1188</td>\n",
       "      <td>-1186.0</td>\n",
       "      <td>-291</td>\n",
       "      <td>NaN</td>\n",
       "      <td>1</td>\n",
       "      <td>1</td>\n",
       "      <td>0</td>\n",
       "      <td>1</td>\n",
       "      <td>1</td>\n",
       "      <td>0</td>\n",
       "      <td>Core staff</td>\n",
       "      <td>2.0</td>\n",
       "      <td>1</td>\n",
       "      <td>1</td>\n",
       "      <td>MONDAY</td>\n",
       "      <td>11</td>\n",
       "      <td>0</td>\n",
       "      <td>0</td>\n",
       "      <td>0</td>\n",
       "      <td>0</td>\n",
       "      <td>0</td>\n",
       "      <td>0</td>\n",
       "      <td>School</td>\n",
       "      <td>0.311267</td>\n",
       "      <td>0.622246</td>\n",
       "      <td>NaN</td>\n",
       "      <td>0.0959</td>\n",
       "      <td>0.0529</td>\n",
       "      <td>0.9851</td>\n",
       "      <td>0.7960</td>\n",
       "      <td>0.0605</td>\n",
       "      <td>0.08</td>\n",
       "      <td>...</td>\n",
       "      <td>0.0968</td>\n",
       "      <td>0.0529</td>\n",
       "      <td>0.9851</td>\n",
       "      <td>0.7987</td>\n",
       "      <td>0.0608</td>\n",
       "      <td>0.08</td>\n",
       "      <td>0.0345</td>\n",
       "      <td>0.2917</td>\n",
       "      <td>0.3333</td>\n",
       "      <td>0.0132</td>\n",
       "      <td>0.0787</td>\n",
       "      <td>0.0558</td>\n",
       "      <td>0.0039</td>\n",
       "      <td>0.01</td>\n",
       "      <td>reg oper account</td>\n",
       "      <td>block of flats</td>\n",
       "      <td>0.0714</td>\n",
       "      <td>Block</td>\n",
       "      <td>No</td>\n",
       "      <td>1.0</td>\n",
       "      <td>0.0</td>\n",
       "      <td>1.0</td>\n",
       "      <td>0.0</td>\n",
       "      <td>-828.0</td>\n",
       "      <td>0</td>\n",
       "      <td>1</td>\n",
       "      <td>0</td>\n",
       "      <td>0</td>\n",
       "      <td>0</td>\n",
       "      <td>0</td>\n",
       "      <td>0</td>\n",
       "      <td>0</td>\n",
       "      <td>0</td>\n",
       "      <td>0</td>\n",
       "      <td>0</td>\n",
       "      <td>0</td>\n",
       "      <td>0</td>\n",
       "      <td>0</td>\n",
       "      <td>0</td>\n",
       "      <td>0</td>\n",
       "      <td>0</td>\n",
       "      <td>0</td>\n",
       "      <td>0</td>\n",
       "      <td>0</td>\n",
       "      <td>0.0</td>\n",
       "      <td>0.0</td>\n",
       "      <td>0.0</td>\n",
       "      <td>0.0</td>\n",
       "      <td>0.0</td>\n",
       "      <td>0.0</td>\n",
       "    </tr>\n",
       "    <tr>\n",
       "      <th>2</th>\n",
       "      <td>100004</td>\n",
       "      <td>-1</td>\n",
       "      <td>Revolving loans</td>\n",
       "      <td>M</td>\n",
       "      <td>Y</td>\n",
       "      <td>Y</td>\n",
       "      <td>0</td>\n",
       "      <td>67500.0</td>\n",
       "      <td>135000.0</td>\n",
       "      <td>6750.0</td>\n",
       "      <td>135000.0</td>\n",
       "      <td>Unaccompanied</td>\n",
       "      <td>Working</td>\n",
       "      <td>Secondary / secondary special</td>\n",
       "      <td>Single / not married</td>\n",
       "      <td>House / apartment</td>\n",
       "      <td>0.010032</td>\n",
       "      <td>-19046</td>\n",
       "      <td>-225</td>\n",
       "      <td>-4260.0</td>\n",
       "      <td>-2531</td>\n",
       "      <td>26.0</td>\n",
       "      <td>1</td>\n",
       "      <td>1</td>\n",
       "      <td>1</td>\n",
       "      <td>1</td>\n",
       "      <td>1</td>\n",
       "      <td>0</td>\n",
       "      <td>Laborers</td>\n",
       "      <td>1.0</td>\n",
       "      <td>2</td>\n",
       "      <td>2</td>\n",
       "      <td>MONDAY</td>\n",
       "      <td>9</td>\n",
       "      <td>0</td>\n",
       "      <td>0</td>\n",
       "      <td>0</td>\n",
       "      <td>0</td>\n",
       "      <td>0</td>\n",
       "      <td>0</td>\n",
       "      <td>Government</td>\n",
       "      <td>NaN</td>\n",
       "      <td>0.555912</td>\n",
       "      <td>0.729567</td>\n",
       "      <td>NaN</td>\n",
       "      <td>NaN</td>\n",
       "      <td>NaN</td>\n",
       "      <td>NaN</td>\n",
       "      <td>NaN</td>\n",
       "      <td>NaN</td>\n",
       "      <td>...</td>\n",
       "      <td>NaN</td>\n",
       "      <td>NaN</td>\n",
       "      <td>NaN</td>\n",
       "      <td>NaN</td>\n",
       "      <td>NaN</td>\n",
       "      <td>NaN</td>\n",
       "      <td>NaN</td>\n",
       "      <td>NaN</td>\n",
       "      <td>NaN</td>\n",
       "      <td>NaN</td>\n",
       "      <td>NaN</td>\n",
       "      <td>NaN</td>\n",
       "      <td>NaN</td>\n",
       "      <td>NaN</td>\n",
       "      <td>NaN</td>\n",
       "      <td>NaN</td>\n",
       "      <td>NaN</td>\n",
       "      <td>NaN</td>\n",
       "      <td>NaN</td>\n",
       "      <td>0.0</td>\n",
       "      <td>0.0</td>\n",
       "      <td>0.0</td>\n",
       "      <td>0.0</td>\n",
       "      <td>-815.0</td>\n",
       "      <td>0</td>\n",
       "      <td>0</td>\n",
       "      <td>0</td>\n",
       "      <td>0</td>\n",
       "      <td>0</td>\n",
       "      <td>0</td>\n",
       "      <td>0</td>\n",
       "      <td>0</td>\n",
       "      <td>0</td>\n",
       "      <td>0</td>\n",
       "      <td>0</td>\n",
       "      <td>0</td>\n",
       "      <td>0</td>\n",
       "      <td>0</td>\n",
       "      <td>0</td>\n",
       "      <td>0</td>\n",
       "      <td>0</td>\n",
       "      <td>0</td>\n",
       "      <td>0</td>\n",
       "      <td>0</td>\n",
       "      <td>0.0</td>\n",
       "      <td>0.0</td>\n",
       "      <td>0.0</td>\n",
       "      <td>0.0</td>\n",
       "      <td>0.0</td>\n",
       "      <td>0.0</td>\n",
       "    </tr>\n",
       "  </tbody>\n",
       "</table>\n",
       "<p>3 rows × 122 columns</p>\n",
       "</div>"
      ],
      "text/plain": [
       "   sk_id_curr  target name_contract_type code_gender flag_own_car  \\\n",
       "0      100002       1         Cash loans           M            N   \n",
       "1      100003      -1         Cash loans           F            N   \n",
       "2      100004      -1    Revolving loans           M            Y   \n",
       "\n",
       "  flag_own_realty  cnt_children  amt_income_total  amt_credit  amt_annuity  \\\n",
       "0               Y             0          202500.0    406597.5      24700.5   \n",
       "1               N             0          270000.0   1293502.5      35698.5   \n",
       "2               Y             0           67500.0    135000.0       6750.0   \n",
       "\n",
       "   amt_goods_price name_type_suite name_income_type  \\\n",
       "0         351000.0   Unaccompanied          Working   \n",
       "1        1129500.0          Family    State servant   \n",
       "2         135000.0   Unaccompanied          Working   \n",
       "\n",
       "             name_education_type    name_family_status  name_housing_type  \\\n",
       "0  Secondary / secondary special  Single / not married  House / apartment   \n",
       "1               Higher education               Married  House / apartment   \n",
       "2  Secondary / secondary special  Single / not married  House / apartment   \n",
       "\n",
       "   region_population_relative  days_birth  days_employed  days_registration  \\\n",
       "0                    0.018801       -9461           -637            -3648.0   \n",
       "1                    0.003541      -16765          -1188            -1186.0   \n",
       "2                    0.010032      -19046           -225            -4260.0   \n",
       "\n",
       "   days_id_publish  own_car_age  flag_mobil  flag_emp_phone  flag_work_phone  \\\n",
       "0            -2120          NaN           1               1                0   \n",
       "1             -291          NaN           1               1                0   \n",
       "2            -2531         26.0           1               1                1   \n",
       "\n",
       "   flag_cont_mobile  flag_phone  flag_email occupation_type  cnt_fam_members  \\\n",
       "0                 1           1           0        Laborers              1.0   \n",
       "1                 1           1           0      Core staff              2.0   \n",
       "2                 1           1           0        Laborers              1.0   \n",
       "\n",
       "   region_rating_client  region_rating_client_w_city  \\\n",
       "0                     2                            2   \n",
       "1                     1                            1   \n",
       "2                     2                            2   \n",
       "\n",
       "  weekday_appr_process_start  hour_appr_process_start  \\\n",
       "0                  WEDNESDAY                       10   \n",
       "1                     MONDAY                       11   \n",
       "2                     MONDAY                        9   \n",
       "\n",
       "   reg_region_not_live_region  reg_region_not_work_region  \\\n",
       "0                           0                           0   \n",
       "1                           0                           0   \n",
       "2                           0                           0   \n",
       "\n",
       "   live_region_not_work_region  reg_city_not_live_city  \\\n",
       "0                            0                       0   \n",
       "1                            0                       0   \n",
       "2                            0                       0   \n",
       "\n",
       "   reg_city_not_work_city  live_city_not_work_city       organization_type  \\\n",
       "0                       0                        0  Business Entity Type 3   \n",
       "1                       0                        0                  School   \n",
       "2                       0                        0              Government   \n",
       "\n",
       "   ext_source_1  ext_source_2  ext_source_3  apartments_avg  basementarea_avg  \\\n",
       "0      0.083037      0.262949      0.139376          0.0247            0.0369   \n",
       "1      0.311267      0.622246           NaN          0.0959            0.0529   \n",
       "2           NaN      0.555912      0.729567             NaN               NaN   \n",
       "\n",
       "   years_beginexpluatation_avg  years_build_avg  commonarea_avg  \\\n",
       "0                       0.9722           0.6192          0.0143   \n",
       "1                       0.9851           0.7960          0.0605   \n",
       "2                          NaN              NaN             NaN   \n",
       "\n",
       "   elevators_avg  ...  apartments_medi  basementarea_medi  \\\n",
       "0           0.00  ...           0.0250             0.0369   \n",
       "1           0.08  ...           0.0968             0.0529   \n",
       "2            NaN  ...              NaN                NaN   \n",
       "\n",
       "   years_beginexpluatation_medi  years_build_medi  commonarea_medi  \\\n",
       "0                        0.9722            0.6243           0.0144   \n",
       "1                        0.9851            0.7987           0.0608   \n",
       "2                           NaN               NaN              NaN   \n",
       "\n",
       "   elevators_medi  entrances_medi  floorsmax_medi  floorsmin_medi  \\\n",
       "0            0.00          0.0690          0.0833          0.1250   \n",
       "1            0.08          0.0345          0.2917          0.3333   \n",
       "2             NaN             NaN             NaN             NaN   \n",
       "\n",
       "   landarea_medi  livingapartments_medi  livingarea_medi  \\\n",
       "0         0.0375                 0.0205           0.0193   \n",
       "1         0.0132                 0.0787           0.0558   \n",
       "2            NaN                    NaN              NaN   \n",
       "\n",
       "   nonlivingapartments_medi  nonlivingarea_medi  fondkapremont_mode  \\\n",
       "0                    0.0000                0.00    reg oper account   \n",
       "1                    0.0039                0.01    reg oper account   \n",
       "2                       NaN                 NaN                 NaN   \n",
       "\n",
       "   housetype_mode  totalarea_mode  wallsmaterial_mode  emergencystate_mode  \\\n",
       "0  block of flats          0.0149        Stone, brick                   No   \n",
       "1  block of flats          0.0714               Block                   No   \n",
       "2             NaN             NaN                 NaN                  NaN   \n",
       "\n",
       "   obs_30_cnt_social_circle  def_30_cnt_social_circle  \\\n",
       "0                       2.0                       2.0   \n",
       "1                       1.0                       0.0   \n",
       "2                       0.0                       0.0   \n",
       "\n",
       "   obs_60_cnt_social_circle  def_60_cnt_social_circle  days_last_phone_change  \\\n",
       "0                       2.0                       2.0                 -1134.0   \n",
       "1                       1.0                       0.0                  -828.0   \n",
       "2                       0.0                       0.0                  -815.0   \n",
       "\n",
       "   flag_document_2  flag_document_3  flag_document_4  flag_document_5  \\\n",
       "0                0                1                0                0   \n",
       "1                0                1                0                0   \n",
       "2                0                0                0                0   \n",
       "\n",
       "   flag_document_6  flag_document_7  flag_document_8  flag_document_9  \\\n",
       "0                0                0                0                0   \n",
       "1                0                0                0                0   \n",
       "2                0                0                0                0   \n",
       "\n",
       "   flag_document_10  flag_document_11  flag_document_12  flag_document_13  \\\n",
       "0                 0                 0                 0                 0   \n",
       "1                 0                 0                 0                 0   \n",
       "2                 0                 0                 0                 0   \n",
       "\n",
       "  flag_document_14 flag_document_15  flag_document_16 flag_document_17  \\\n",
       "0                0                0                 0                0   \n",
       "1                0                0                 0                0   \n",
       "2                0                0                 0                0   \n",
       "\n",
       "  flag_document_18  flag_document_19  flag_document_20  flag_document_21  \\\n",
       "0                0                 0                 0                 0   \n",
       "1                0                 0                 0                 0   \n",
       "2                0                 0                 0                 0   \n",
       "\n",
       "   amt_req_credit_bureau_hour  amt_req_credit_bureau_day  \\\n",
       "0                         0.0                        0.0   \n",
       "1                         0.0                        0.0   \n",
       "2                         0.0                        0.0   \n",
       "\n",
       "   amt_req_credit_bureau_week  amt_req_credit_bureau_mon  \\\n",
       "0                         0.0                        0.0   \n",
       "1                         0.0                        0.0   \n",
       "2                         0.0                        0.0   \n",
       "\n",
       "   amt_req_credit_bureau_qrt  amt_req_credit_bureau_year  \n",
       "0                        0.0                         1.0  \n",
       "1                        0.0                         0.0  \n",
       "2                        0.0                         0.0  \n",
       "\n",
       "[3 rows x 122 columns]"
      ]
     },
     "execution_count": 6,
     "metadata": {},
     "output_type": "execute_result"
    }
   ],
   "source": [
    "import numpy as np, pandas as pd\n",
    "\n",
    "%load_ext autoreload\n",
    "%autoreload 2\n",
    "\n",
    "# %load_ext - https://ipython.readthedocs.io/en/stable/interactive/magics.html\n",
    "# %autoreload - https://ipython.org/ipython-doc/3/config/extensions/autoreload.html\n",
    "\n",
    "data = pd.read_csv('data/application_train.csv')\n",
    "data.columns = ['_'.join([word.lower() for word in col_name.split(' ') if word != '-']) for col_name in data.columns]\n",
    "\n",
    "data.target = data.target.map({0: -1, 1: 1})\n",
    "\n",
    "from IPython.display import display\n",
    "\n",
    "print('\\ntarget value_counts:')\n",
    "display(data['target'].value_counts(dropna=False))\n",
    "\n",
    "pd.options.display.max_columns = 100\n",
    "pd.options.display.max_rows = 150\n",
    "\n",
    "data.head(3)"
   ]
  },
  {
   "cell_type": "markdown",
   "id": "fd9f6bfd",
   "metadata": {},
   "source": [
    "**Неожиданная заметка**\n",
    "\n",
    "С этого момента предлагается некоторым образом отмечать все \"неоднозначные\" моменты, которые диктует вам домашка. Пример комментирования таких мест в коде - ниже. Если такие места находятся в текстовой ячейке, нужно после нее создать ячейку и прокомментировать желаемые места. Пример:"
   ]
  },
  {
   "cell_type": "code",
   "execution_count": 5,
   "id": "f9f5f8ef",
   "metadata": {},
   "outputs": [],
   "source": [
    "#*! что такое \"неоднозначные\" моменты?\n",
    "#*! \"Если такие места находятся в текстовой ячейке...\" - не раскрыт случай нахождения таких мест \"между строк\""
   ]
  },
  {
   "cell_type": "markdown",
   "id": "6215fdfd",
   "metadata": {},
   "source": [
    "Под \"неоднозначными\" понимается нечто, что навязывается вам домашкой, но не является по вашему мнению оптимальным / единственно правильным способом сделать / делать то или иное с точки зрения логики.\n",
    "\n",
    "К таким моментам НЕ относятся, например: <br>\n",
    "разные способы фиксация сида, способы выбрать рандомные индексы без повторений, в общем все, что \"в разных случаях\" делает \"примерно одно и то же\" и работает \"примерно одинаково\".\n",
    "\n",
    "Точное количество таких моментов в домашке не определено. Вы сами решаете, что комментировать.\n",
    "\n",
    "За проявление внимательности можно будет получить бонусные баллы за работу! <br>\n",
    "За проявление вопиющей невнимательности можно будет потерять баллы за работу!"
   ]
  },
  {
   "cell_type": "code",
   "execution_count": 3,
   "id": "97481754",
   "metadata": {},
   "outputs": [
    {
     "name": "stdout",
     "output_type": "stream",
     "text": [
      "tst shape: (61502, 122)\n",
      "val shape: (73802, 122)\n",
      "tr shape: (172207, 122)\n"
     ]
    }
   ],
   "source": [
    "np.random.seed(911)\n",
    "\n",
    "test_size = int(0.2 * data.shape[0]) #*! почему 0.2?\n",
    "val_size = int(0.3 * (data.shape[0] - test_size)) #*! почему 0.3?\n",
    "test_idx = np.random.choice(data.shape[0], size=test_size, replace=False)\n",
    "\n",
    "val_idx_candidates = np.setdiff1d(np.arange(data.shape[0]), test_idx)\n",
    "val_idx = np.random.choice(val_idx_candidates, size=val_size, replace=False)\n",
    "\n",
    "data_dict = dict()\n",
    "data_dict['tst'] = data.loc[test_idx].reset_index(drop=True)\n",
    "data_dict['val'] = data.loc[val_idx].reset_index(drop=True)\n",
    "\n",
    "not_train_idx = np.union1d(test_idx, val_idx)\n",
    "data_dict['tr'] = data.drop(index=not_train_idx)\n",
    "data_dict['tr'].reset_index(drop=True, inplace=True)\n",
    "\n",
    "for key, df in data_dict.items():\n",
    "    print(key, 'shape:', df.shape)"
   ]
  },
  {
   "cell_type": "code",
   "execution_count": null,
   "id": "912f9642",
   "metadata": {},
   "outputs": [],
   "source": []
  },
  {
   "cell_type": "markdown",
   "id": "feea470a",
   "metadata": {},
   "source": [
    "### Часть первая. Погружаемся в \"зону адекватности\" гиперпараметров (5 баллов)\n",
    "\n",
    "Будем считать, для начала, что мы провели какую-то предобработку данных, и теперь мы готовы обучать на них нашу модель. Гиперпараметрами, которые хочется подобрать, являются `step_alpha`, `step_beta`, `batch_size`, `l2_coef`. Будем двигаться к тому, чтобы поизучать, как связаны между собой первые три. Для этого нужно зафиксировать коэффициент l2-регуляризации лосса на каком-нибудь адекватном значении. Будем использовать `optuna`, чтобы его выяснить (см. соответствующий семинар)."
   ]
  },
  {
   "cell_type": "markdown",
   "id": "c3232e24",
   "metadata": {},
   "source": [
    "Напишите ниже свою `objective_function`, которую в дальнейшем будем оптимизировать. Перебираемые гиперпараметры даны выше; подумайте, как лучше задать их распределения. Положите `tolerance = 1e-4, max_iter = 30, random_seed = 911`. \n",
    "\n",
    "  В качестве меры качества предлагается использовать ваш реализованный `BinaryLogisticLoss` на валидации без учета слагаемого, отвечающего за регуляризацию.\n",
    "\n",
    "  **Совет:** не включайте значения `batch_size` сильно меньше 300, это приведет к долгому времени одной эпохи."
   ]
  },
  {
   "cell_type": "code",
   "execution_count": null,
   "id": "49b79fd3",
   "metadata": {},
   "outputs": [],
   "source": [
    "from modules.linear_model import LinearModel\n",
    "from modules.losses import BinaryLogisticLoss\n",
    "\n",
    "def objective(trial, X_tr, y_tr, X_val, y_val):\n",
    "    # your code here\n",
    "    pass"
   ]
  },
  {
   "cell_type": "markdown",
   "id": "d816d5d3",
   "metadata": {},
   "source": [
    "Напишите функцию `start_optimization`, запускающую сессию оптимизации, используя входные параметры для предобработки данных:\n",
    "\n",
    "В ней создайте объект сессии оптимизации - `study` с sampler=sampler. Подготовьте ваш `objective_func` и данные (в качестве фичей по умолчанию будем использовать все числовые признаки, а обрабатывать данные по умолчанию будем минимальным простым пайплайном, приведенным ниже).\n",
    "\n",
    "Функция должна возвращать `study`."
   ]
  },
  {
   "cell_type": "code",
   "execution_count": null,
   "id": "666291be",
   "metadata": {},
   "outputs": [],
   "source": [
    "from sklearn.preprocessing import StandardScaler\n",
    "from sklearn.impute import SimpleImputer\n",
    "from sklearn.pipeline import make_pipeline\n",
    "    \n",
    "def start_optimization(\n",
    "    objective_func, # принимает trial, X_tr, y_tr, X_val, y_val, **other_objective_kwargs\n",
    "    n_trials,\n",
    "    n_jobs,\n",
    "    data_dict,\n",
    "    study_direction=None,\n",
    "    study_directions=None,\n",
    "    sampler=None,\n",
    "    prep=None,\n",
    "    features=None,\n",
    "    **other_objective_kwargs\n",
    "):\n",
    "    if prep is None:\n",
    "        prep = make_pipeline(\n",
    "            StandardScaler(),\n",
    "            SimpleImputer(strategy='median')\n",
    "        )\n",
    "    \n",
    "    if features is None:\n",
    "        features = data.select_dtypes(np.number).drop(columns=['target', 'sk_id_curr']).columns\n",
    "\n",
    "    # your code here\n",
    "    \n",
    "    return study"
   ]
  },
  {
   "cell_type": "markdown",
   "id": "894a3ff8",
   "metadata": {},
   "source": [
    "Запустите процесс оптимизации с `TPESampler`, предварительно настроив, как минимум, `n_startup_trials`; подумайте, какое `n_trials` выбрать."
   ]
  },
  {
   "cell_type": "code",
   "execution_count": null,
   "id": "3ed6eb28",
   "metadata": {},
   "outputs": [],
   "source": [
    "# your code here"
   ]
  },
  {
   "cell_type": "markdown",
   "id": "37cfcd59",
   "metadata": {},
   "source": [
    "Визуализируйте результаты оптимизации с помощью `optuna.visualization.plot_slice`. "
   ]
  },
  {
   "cell_type": "code",
   "execution_count": null,
   "id": "b8448621",
   "metadata": {},
   "outputs": [],
   "source": [
    "# your code here"
   ]
  },
  {
   "cell_type": "markdown",
   "id": "b0e42067",
   "metadata": {},
   "source": [
    "Опишите свои наблюдения. Если наблюдать вам мешает кривой масштаб графиков из-за слишком высоких значений лосса для некоторых trials, можно \"зазумиться\" в нужный интервал, выделяя на графике нужное подмножество точек или использовать аргумент `target`."
   ]
  },
  {
   "cell_type": "code",
   "execution_count": null,
   "id": "70988330",
   "metadata": {},
   "outputs": [],
   "source": []
  },
  {
   "cell_type": "markdown",
   "id": "3a3ec811",
   "metadata": {},
   "source": [
    "**Ответьте на вопросы:**\n",
    "\n",
    "1) Почему не нужно включать слагаемое, отвечающее за регуляризацию, в подсчет лосса для подбора гиперпараметров?"
   ]
  },
  {
   "cell_type": "code",
   "execution_count": null,
   "id": "a4338217",
   "metadata": {},
   "outputs": [],
   "source": []
  },
  {
   "cell_type": "markdown",
   "id": "9e61afa7",
   "metadata": {},
   "source": [
    "2) Почему, если нашей целью является подбор адекватного коэффициента l2-регуляризации, мы включали в перебор остальные гиперпараметры?"
   ]
  },
  {
   "cell_type": "code",
   "execution_count": null,
   "id": "2ca5dd22",
   "metadata": {},
   "outputs": [],
   "source": []
  },
  {
   "cell_type": "markdown",
   "id": "0b079a7a",
   "metadata": {},
   "source": [
    "Давайте теперь посмотрим на то, что у нас получилось. Предлагается не сразу брать лучший по скору оптимизации trial, а сделать вывод, используя дополнительные данные.\n",
    "\n",
    "  Используя график `plot_slice` выше и `study.trials`, выберите 3 лучших на ваш взгляд trial-кандидата для дальнейшего изучения.<br> Объясните ваш выбор. Если нужно, визуализируйте адекватным и наглядным образом вашу логику, чтобы проверяющий мог без труда в ней убедиться. "
   ]
  },
  {
   "cell_type": "code",
   "execution_count": null,
   "id": "6990592d",
   "metadata": {},
   "outputs": [],
   "source": [
    "# your code here"
   ]
  },
  {
   "cell_type": "code",
   "execution_count": null,
   "id": "ef443432",
   "metadata": {},
   "outputs": [],
   "source": []
  },
  {
   "cell_type": "markdown",
   "id": "b38df008",
   "metadata": {},
   "source": [
    "Обучите по модели на каждый trial, собирая историю на обучении и валидации. Положите обученные модели и полученные истории в словари по ключу trial.number."
   ]
  },
  {
   "cell_type": "code",
   "execution_count": null,
   "id": "9d7b1541",
   "metadata": {},
   "outputs": [],
   "source": [
    "# your code here"
   ]
  },
  {
   "cell_type": "markdown",
   "id": "ff5e0e25",
   "metadata": {},
   "source": [
    "Напишите функцию `plot_trial_info`, которая выводит \"информацию\" о поданном trial. В эту \"информацию\" обязательно должно входить:\n",
    "- График `feature - weight`, показывающий `top_k` признаков по модулю веса и их значения весов. Признаки должны идти по убыванию модуля веса.<br>Используйте `ax.barh`. <br> Используйте `ax.bar_label`, чтобы подписать веса к барам.<br> Используйте `ax.set_title(f'l2_coef: {l2_coef:.2e}', fontsize=15)` для этого графика.\n",
    "\n",
    "\n",
    "- График \"время обучения - лосс\" - на обучении и валидации. Укажите \"количество эпох | batch_size\" в качестве title к этому графику. <br> Используйте `ax.plot`.\n",
    "\n",
    "\n",
    "- Что угодно еще, что поможет вам принять решение о том, почему вы выберете один trial из этих трех.\n",
    "<br><br>\n",
    "\n",
    "Настройте размер графиков, шрифт, легенду. Убедитесь, что в вашей \"информации\" присутствует `trial.number, batch_size`. <br>\n",
    "Визуализируйте выбранные вами trials. Убедитесь в адекватности графиков."
   ]
  },
  {
   "cell_type": "code",
   "execution_count": null,
   "id": "e45c710e",
   "metadata": {},
   "outputs": [],
   "source": [
    "import matplotlib.pyplot as plt\n",
    "\n",
    "def plot_trial_info(trial, models, history, top_k, *your_args, **your_kwargs):\n",
    "    # your code here\n",
    "    pass\n",
    "\n",
    "top_k = ...\n",
    "for trial in top_trials:\n",
    "    # maybe some code here\n",
    "    plot_trial_info(trial, models=models, history=history, top_k=top_k)\n",
    "    # maybe some code here"
   ]
  },
  {
   "cell_type": "markdown",
   "id": "867468d1",
   "metadata": {},
   "source": [
    "Опишите свои наблюдения. Если нужно, подключите визуализацию."
   ]
  },
  {
   "cell_type": "code",
   "execution_count": null,
   "id": "91d10466",
   "metadata": {},
   "outputs": [],
   "source": []
  },
  {
   "cell_type": "markdown",
   "id": "66d0bd31",
   "metadata": {},
   "source": [
    "Какой в итоге коэффициент l2-регуляризации будем фиксировать для дальнейших экспериментов? <br>\n",
    "Ответ объясните :)"
   ]
  },
  {
   "cell_type": "code",
   "execution_count": null,
   "id": "f1b8494c",
   "metadata": {},
   "outputs": [],
   "source": []
  },
  {
   "cell_type": "markdown",
   "id": "4bd205f5",
   "metadata": {},
   "source": [
    "### Часть вторая. Research (6 баллов)\n",
    "\n",
    "Давайте зафиксируем выбранный коэффициент регуляризации и проведем несколько экспериментов с `step_alpha, step_beta, batch_size`. Но для начала посмотрим - возможно, нам удастся уменьшить размер признакового пространства без сильной потери качества, чтобы ускорить наши эксперименты."
   ]
  },
  {
   "cell_type": "markdown",
   "id": "e448531d",
   "metadata": {},
   "source": [
    "Достаньте из словаря модель, соответствующую выбранному вами лучшему trial, и нарисуйте график отсортированных модулей ее весов."
   ]
  },
  {
   "cell_type": "code",
   "execution_count": null,
   "id": "d46b7279",
   "metadata": {},
   "outputs": [],
   "source": [
    "# your code here"
   ]
  },
  {
   "cell_type": "markdown",
   "id": "ec8e1564",
   "metadata": {},
   "source": [
    "Подумайте, можно ли убрать какую-то долю признаков? Если да, то какие признаки вы уберете для дальнейших экспериментов? <br>\n",
    "Ответ объясните. Могут ли возникнуть какие-то проблемы в дальнейшем?"
   ]
  },
  {
   "cell_type": "code",
   "execution_count": null,
   "id": "b5dc5de7",
   "metadata": {},
   "outputs": [],
   "source": []
  },
  {
   "cell_type": "markdown",
   "id": "e3b40cd4",
   "metadata": {},
   "source": [
    "Напишите новую функцию `research_objective` для перебора `step_alpha, step_beta` при фиксированных `l2_coef, batch_size`. Остальные гиперпараметры оставьте без изменений с прошлого раза. Для перебора step_alpha используйте log-шкалу от 1e-3 до 20, для перебора step_beta - log-шкалу от 0.1 до 5.\n",
    "\n",
    "Для `batch_size = 300, 1000, 10000, None` запустите по сессии оптимизации на выбранном вами (под)множестве признаков, собирая каждый `study` в словарик по ключу batch_size. Используйте `n_trials = 200`, TPESampler с параметром `n_startup_trials = 100`.<br>"
   ]
  },
  {
   "cell_type": "code",
   "execution_count": null,
   "id": "bdbf044e",
   "metadata": {},
   "outputs": [],
   "source": [
    "# your code here"
   ]
  },
  {
   "cell_type": "markdown",
   "id": "ce0a2bf1",
   "metadata": {},
   "source": [
    "Используя `optuna.visualization.plot_contour`, нарисуйте график зависимости `step_alpha - step_beta - objective`. Используйте аргумент `target`, чтобы обрезать значения лоссов, которые портят тепловую карту. <br>\n",
    "Для каждого `batch_size` выведите такой график в отдельной ячейке."
   ]
  },
  {
   "cell_type": "code",
   "execution_count": null,
   "id": "09a84c33",
   "metadata": {},
   "outputs": [],
   "source": [
    "def clipper_example(frozen_trial):\n",
    "    max_value = ...\n",
    "    return min(frozen_trial.value, max_value)\n",
    "\n",
    "# your code here"
   ]
  },
  {
   "cell_type": "code",
   "execution_count": null,
   "id": "5b745e6c",
   "metadata": {},
   "outputs": [],
   "source": []
  },
  {
   "cell_type": "markdown",
   "id": "2d91d6c2",
   "metadata": {},
   "source": [
    "Опишите подробно все свои наблюдения."
   ]
  },
  {
   "cell_type": "code",
   "execution_count": null,
   "id": "0835be25",
   "metadata": {},
   "outputs": [],
   "source": []
  },
  {
   "cell_type": "markdown",
   "id": "3ae9ec61",
   "metadata": {},
   "source": [
    "Мы поставили довольно большое значение `n_startup_trials` в TPESampler. Как думаете, для чего?"
   ]
  },
  {
   "cell_type": "code",
   "execution_count": null,
   "id": "c890c0bd",
   "metadata": {},
   "outputs": [],
   "source": []
  },
  {
   "cell_type": "markdown",
   "id": "a700e6e2",
   "metadata": {},
   "source": [
    "Обучите по модели для каждого `batch_size` с лучшими `step_alpha, step_beta`. Соберите историю, сложите все в словари по ключу batch_size."
   ]
  },
  {
   "cell_type": "code",
   "execution_count": null,
   "id": "d76da2c1",
   "metadata": {},
   "outputs": [],
   "source": [
    "# your code here"
   ]
  },
  {
   "cell_type": "markdown",
   "id": "197d238a",
   "metadata": {},
   "source": [
    "Визуализируйте результаты эксперимента. Нарисуйте графики `time-loss`, `epoch-loss`, `epoch-learning_rate` для каждого `batch_size`. <br>\n",
    "На графике `epoch-loss` должно быть каким-либо образом отображено среднее время эпохи для каждого размера батча. <br>\n",
    "Под `learning_rate` имеется в виду:\n",
    "$$\\eta_k  = \\frac{\\alpha}{k^{\\beta}}, \\quad \\text{где $k$ - номер итерации (эпохи)}$$\n",
    "\n",
    "Убедитесь, что различия между графиками, относящимися к разным `batch_size`, хорошо видны."
   ]
  },
  {
   "cell_type": "code",
   "execution_count": null,
   "id": "018423ed",
   "metadata": {},
   "outputs": [],
   "source": [
    "# your code here"
   ]
  },
  {
   "cell_type": "markdown",
   "id": "c40862cf",
   "metadata": {},
   "source": [
    "Какие выводы можно сделать из увиденного?"
   ]
  },
  {
   "cell_type": "code",
   "execution_count": null,
   "id": "30156b7f",
   "metadata": {},
   "outputs": [],
   "source": []
  },
  {
   "cell_type": "markdown",
   "id": "8ec320a2",
   "metadata": {},
   "source": [
    "### Часть третья. Метрика (4 балла)\n",
    "\n",
    "Настало время проверить, во что вылились наши усилия. Посмотрим на метрику `sklearn.metrics.balanced_accuracy_score`."
   ]
  },
  {
   "cell_type": "markdown",
   "id": "b70b302e",
   "metadata": {},
   "source": [
    "Выберите по графикам выше оптимальные параметры для вашей финальной модели. Посчитайте для этой модели значение `balanced_accuracy` на обучающей, валидационной и тестовой выборках. Используйте `model.get_optimal_threshold` для подсчета порога бинаризации."
   ]
  },
  {
   "cell_type": "code",
   "execution_count": null,
   "id": "7244b673",
   "metadata": {},
   "outputs": [],
   "source": [
    "from sklearn.metrics import balanced_accuracy_score\n",
    "\n",
    "# your code here"
   ]
  },
  {
   "cell_type": "markdown",
   "id": "1285b7d1",
   "metadata": {},
   "source": [
    "Что скажете?"
   ]
  },
  {
   "cell_type": "code",
   "execution_count": null,
   "id": "4bdcf3c0",
   "metadata": {},
   "outputs": [],
   "source": []
  },
  {
   "cell_type": "markdown",
   "id": "b6de992f",
   "metadata": {},
   "source": [
    "В качестве послесловия предлагается на обсуждение вопрос, который мог возникнуть еще в самом начале экспериментов: почему мы подбираем гиперпараметры по лоссу, если в результате мы хотим получить модель с лучшим показателем метрики `balanced_accuracy`? Первое, что хочется ответить, так это то, что каждый раз подбирать оптимальный порог и считать метрику дольше, чем просто посчитать лосс.\n",
    "\n",
    "  Замерьте время подсчета лосса и подбора оптимального порога + подсчет метрики, [используя](https://ipython.readthedocs.io/en/stable/interactive/magics.html) `%timeit` или `%%timeit`."
   ]
  },
  {
   "cell_type": "code",
   "execution_count": null,
   "id": "ebf4d6fb",
   "metadata": {},
   "outputs": [],
   "source": [
    "# your code here"
   ]
  },
  {
   "cell_type": "markdown",
   "id": "de7ce4fc",
   "metadata": {},
   "source": [
    "Подумайте (и напишите), есть ли другие причины, по которым использовать `balanced_accuracy` в нашем процессе подбора гиперпараметров не стоит?"
   ]
  },
  {
   "cell_type": "code",
   "execution_count": null,
   "id": "f963bfcd",
   "metadata": {},
   "outputs": [],
   "source": []
  },
  {
   "cell_type": "markdown",
   "id": "86df86a6",
   "metadata": {},
   "source": [
    "По логике, уменьшение лосса есть \"улучшение качества работы алгоритма\", как и увеличение нашей метрики. Может быть, мы имели право перебирать гиперпараметры по лоссу, даже если на самом деле хотели от модели лишь `balanced_accuracy` побольше?\n",
    "\n",
    "Давайте проверим. Напишите функцию `multiobjective`, которая перебирает `step_alpha, step_beta`. Зафиксируйте все остальное на адекватных значениях, согласно предыдущим экспериментам. Функция должна возвращать tuple `(loss, balanced_acc_score)` - лосс и balanced_accuracy_score с подбором оптимального порога, полученные на валидации."
   ]
  },
  {
   "cell_type": "code",
   "execution_count": null,
   "id": "019c67ee",
   "metadata": {},
   "outputs": [],
   "source": [
    "# your code here"
   ]
  },
  {
   "cell_type": "markdown",
   "id": "2d2abb5e",
   "metadata": {},
   "source": [
    "Optuna [позволяет](https://optuna.readthedocs.io/en/stable/tutorial/20_recipes/002_multi_objective.html#sphx-glr-tutorial-20-recipes-002-multi-objective-py) оптимизировать `multiobjective-функции`, которые возвращают больше одного аргумента.\n",
    "\n",
    "Запустите сессию оптимизации с сэмплером по умолчанию. Используйте 100-300 `n_trials`, `study_directions = ['minimize', 'maximize']`."
   ]
  },
  {
   "cell_type": "code",
   "execution_count": null,
   "id": "6f423afb",
   "metadata": {},
   "outputs": [],
   "source": [
    "# your code here"
   ]
  },
  {
   "cell_type": "markdown",
   "id": "d80971c0",
   "metadata": {},
   "source": [
    "С помощью `optuna.visualization.plot_pareto_front` визуализируйте результаты сессии. В разных ячейках используйте разные значения аргумента `include_dominated_trials`. Используйте зум для выделения наглядной зоны, если необходимо. Подпишите ваши objectives с помощью аргумента `target_names`."
   ]
  },
  {
   "cell_type": "code",
   "execution_count": null,
   "id": "2ea26a4e",
   "metadata": {},
   "outputs": [],
   "source": [
    "# your code here"
   ]
  },
  {
   "cell_type": "code",
   "execution_count": null,
   "id": "44ad0a49",
   "metadata": {},
   "outputs": [],
   "source": [
    "# your code here"
   ]
  },
  {
   "cell_type": "markdown",
   "id": "fc6ab81e",
   "metadata": {},
   "source": [
    "Что вы можете сказать об увиденном?"
   ]
  },
  {
   "cell_type": "code",
   "execution_count": null,
   "id": "f14935ba",
   "metadata": {},
   "outputs": [],
   "source": []
  },
  {
   "cell_type": "markdown",
   "id": "8c48c85b",
   "metadata": {},
   "source": [
    "Ура! А теперь..."
   ]
  },
  {
   "cell_type": "markdown",
   "id": "8e78a549",
   "metadata": {},
   "source": [
    "## Бонусная часть. Постигая ASHA (7 баллов)"
   ]
  },
  {
   "cell_type": "markdown",
   "id": "055c0821",
   "metadata": {},
   "source": [
    "В бонусной части забудем датасет и линейные модели! Вам предстоит наглядно убедиться и разобраться в том, как работает `optuna.pruners.SuccessiveHalvingPruner`, он же **ASHA**. Важно понимать, как устроены `optuna.pruners` - правильное их использование заметно сократит время ожидания и может улучшить качество.\n",
    "\n",
    "В вашем распоряжении семинар, документация и исходный код классов в `optuna`.\n",
    "\n",
    "### 0\n",
    "Начнем с простого - будем использовать предложенный простенький `objective`, чтобы убедиться, что все `trials` успешно доходят до конца.\n",
    "\n",
    "Все указанные параметры не изменяйте в дальнейшем, если этого не просят в задании."
   ]
  },
  {
   "cell_type": "code",
   "execution_count": null,
   "id": "cd7d7c86",
   "metadata": {},
   "outputs": [],
   "source": [
    "def objective_0(trial):\n",
    "    for i in range(31):\n",
    "        trial.report(val=trial.number, step=i)\n",
    "        if trial.should_prune():\n",
    "            raise optuna.TrialPruned()\n",
    "    return 0\n",
    "\n",
    "pruner = optuna.pruners.SuccessiveHalvingPruner(min_resource=2, reduction_factor=2,\n",
    "                                                bootstrap_count=0, min_early_stopping_rate=0)\n",
    "study = optuna.create_study(direction='maximize', pruner=pruner)\n",
    "\n",
    "study.optimize(objective_0, n_trials=16, n_jobs=4)"
   ]
  },
  {
   "cell_type": "markdown",
   "id": "9cadc370",
   "metadata": {},
   "source": [
    "Давайте визуализируем наш `study`. Напишите функцию `plot_study_info`, отрисовывающую жизненный путь всех `trials`. Используйте данный ниже шаблон. Под визулизацией будем понимать нечто похожее на картинки с семинара:\n",
    "\n",
    "- ось Х - `step`, ось Y - `trial.number`.\n",
    "\n",
    "- каждый trial - горизонтальная синяя прямая от -1 до `trial.last_step`.\n",
    "\n",
    "- если trial [дошел до конца](https://optuna.readthedocs.io/en/stable/reference/generated/optuna.trial.TrialState.html#optuna.trial.TrialState), на конце прямой поставьте зеленый кружок, если обрезался - красный крестик [`plt.scatter(..., marker=...)`].\n",
    "\n",
    "- синяя вертикальная прямая на отметке `step = 0` - \"день рождения\" trial.\n",
    "\n",
    "- черными вертикальными прямыми расставьте `rungs`. Воспользуйтесь [исходным кодом](https://optuna.readthedocs.io/en/stable/_modules/optuna/pruners/_successive_halving.html#SuccessiveHalvingPruner) `SuccessiveHalvingPruner` для выяснения всех обстоятельств.\n",
    "\n",
    "- зелеными вертикальными линиями отметьте те `steps`, на которых делается `trial.report`. Сделайте так, чтобы эти линии были видны поверх линий, обозначающих `rungs`, если такие случаи будут иметь место.\n",
    "\n",
    "- что еще хотите от себя! Учтите, что trials после сессии оптимизации являются [`FrozenTrials`](https://optuna.readthedocs.io/en/stable/reference/generated/optuna.trial.FrozenTrial.html#optuna.trial.FrozenTrial).\n",
    "\n",
    "Пожалуйста, уделите должное внимание этой функции и отладьте ее. Убедитесь, что все хорошо видно, что все адекватного размера. Вы будете ее часто использовать далее."
   ]
  },
  {
   "cell_type": "code",
   "execution_count": null,
   "id": "ef5427b5",
   "metadata": {},
   "outputs": [],
   "source": [
    "def plot_study_info(study, min_resource, max_resource, gamma, early_stopping=0, *your_args, **your_kwargs):\n",
    "    # your code here\n",
    "    pass"
   ]
  },
  {
   "cell_type": "markdown",
   "id": "773a16b3",
   "metadata": {},
   "source": [
    "Визуализируйте первую сессию, используя вашу фукнцию. Что в данном случае такое `max_resource`?"
   ]
  },
  {
   "cell_type": "code",
   "execution_count": null,
   "id": "a824738f",
   "metadata": {},
   "outputs": [],
   "source": [
    "# your code here"
   ]
  },
  {
   "cell_type": "markdown",
   "id": "c020aac8",
   "metadata": {},
   "source": [
    "Почему все trials дошли до конца?"
   ]
  },
  {
   "cell_type": "code",
   "execution_count": null,
   "id": "71e2e283",
   "metadata": {},
   "outputs": [],
   "source": []
  },
  {
   "cell_type": "markdown",
   "id": "cbcebc33",
   "metadata": {},
   "source": [
    "### 1\n",
    "\n",
    "Напишите новый `objective` - попробуйте порепортить случайные значения, устроив беспорядок. Создайте новый `study` и запустите сессию оптимизации с теми же параметрами. Визуализируйте процесс и убедитесь, что все правильно. Далее, эту цепочку будем называть \"запустите и визуализируйте\"."
   ]
  },
  {
   "cell_type": "code",
   "execution_count": null,
   "id": "1b4dfe8b",
   "metadata": {},
   "outputs": [],
   "source": [
    "# your code here"
   ]
  },
  {
   "cell_type": "markdown",
   "id": "900d32fb",
   "metadata": {},
   "source": [
    "Что-нибудь интересное на картинке?"
   ]
  },
  {
   "cell_type": "code",
   "execution_count": null,
   "id": "7575b4bc",
   "metadata": {},
   "outputs": [],
   "source": []
  },
  {
   "cell_type": "markdown",
   "id": "a65a4a01",
   "metadata": {},
   "source": [
    "### 2\n",
    "\n",
    "Теперь напишите еще один `objective` - все должны дойти до конца, но теперь не по порядку, то есть i-й по скорости trial не должен иметь `trial.number = i - 1`. Запустите и визуализируйте."
   ]
  },
  {
   "cell_type": "code",
   "execution_count": null,
   "id": "7978cc53",
   "metadata": {},
   "outputs": [],
   "source": [
    "# your code here"
   ]
  },
  {
   "cell_type": "markdown",
   "id": "f775729a",
   "metadata": {},
   "source": [
    "Объясните, как вы добились того, что trials заканчивают не по порядку."
   ]
  },
  {
   "cell_type": "code",
   "execution_count": null,
   "id": "d889f39b",
   "metadata": {},
   "outputs": [],
   "source": []
  },
  {
   "cell_type": "markdown",
   "id": "dc8a0624",
   "metadata": {},
   "source": [
    "### 3\n",
    "\n",
    "Оставьте прошлый `objective` и положите `bootstrap_count=2`. Запустите и визуализируйте."
   ]
  },
  {
   "cell_type": "code",
   "execution_count": null,
   "id": "1b31ae31",
   "metadata": {},
   "outputs": [],
   "source": [
    "# your code here"
   ]
  },
  {
   "cell_type": "markdown",
   "id": "099aa67e",
   "metadata": {},
   "source": [
    "Как в итоге работает этот аргумент?"
   ]
  },
  {
   "cell_type": "code",
   "execution_count": null,
   "id": "6de5682e",
   "metadata": {},
   "outputs": [],
   "source": []
  },
  {
   "cell_type": "markdown",
   "id": "6d3842be",
   "metadata": {},
   "source": [
    "### 4\n",
    "\n",
    "Напишите новый `objective`, чтобы `trial.report` не всегда приходился на `step = rung`. Запустите и визуализируйте."
   ]
  },
  {
   "cell_type": "code",
   "execution_count": null,
   "id": "d83c542e",
   "metadata": {},
   "outputs": [],
   "source": [
    "# your code here"
   ]
  },
  {
   "cell_type": "markdown",
   "id": "15a4e194",
   "metadata": {},
   "source": [
    "Объясните увиденное"
   ]
  },
  {
   "cell_type": "code",
   "execution_count": null,
   "id": "c833ad31",
   "metadata": {},
   "outputs": [],
   "source": []
  },
  {
   "cell_type": "markdown",
   "id": "ffa10627",
   "metadata": {},
   "source": [
    "### 5\n",
    "\n",
    "Используя предыдущий `objective`, запустите сессии с аргументом прунера `min_early_stopping = 0, 1, 2, 3`.\n",
    "\n",
    "Визуализируйте их друг под другом. Если к этому моменту вы убедились, что ваша рисовалка работает правильно, используйте `optuna.logging.set_verbosity`, чтобы скрыть вывод о ходе сессии."
   ]
  },
  {
   "cell_type": "code",
   "execution_count": null,
   "id": "5d6b0257",
   "metadata": {},
   "outputs": [],
   "source": [
    "# your code here"
   ]
  },
  {
   "cell_type": "markdown",
   "id": "c46a35a6",
   "metadata": {},
   "source": [
    "Объясните, за что отвечает этот аргумент и при чем здесь `early_stopping`."
   ]
  },
  {
   "cell_type": "code",
   "execution_count": null,
   "id": "e040cfaf",
   "metadata": {},
   "outputs": [],
   "source": []
  },
  {
   "cell_type": "markdown",
   "id": "f0268b5f",
   "metadata": {},
   "source": [
    "### 6\n",
    "\n",
    "Мы достигли достаточного уровня мастерства чтобы визуализировать `optuna.pruners.HyperbandPruner`! `Hyperband` создает несколько `brackets`, отправляя тот или иной trial в тот или иной `bracket` по хэшу. Подробнее - см. семинар, \n",
    "[описание](https://optuna.readthedocs.io/en/stable/reference/generated/optuna.pruners.HyperbandPruner.html) или \n",
    "[исходный код](https://optuna.readthedocs.io/en/stable/_modules/optuna/pruners/_hyperband.html#HyperbandPruner).\n",
    "\n",
    "Используя `objective` на ваш вкус, создайте новый `study` с `HyperbandPruner`. Подберите `max_resource` так, чтобы получилось 4 брэкета. На что еще влияет `max_resource` в `HyperbandPruner`?\n",
    "\n",
    "Запустите и визуализируйте брэкеты друг под другом. Если нужно, напишите новую фукнцию для отрисовки брэкетов по `study`, хотя по сути - прошлая функция как раз отрисовывала один брэкет; возможно, можно лишь немного изменить её."
   ]
  },
  {
   "cell_type": "code",
   "execution_count": null,
   "id": "5263338a",
   "metadata": {},
   "outputs": [],
   "source": []
  },
  {
   "cell_type": "code",
   "execution_count": null,
   "id": "2427d56f",
   "metadata": {},
   "outputs": [],
   "source": [
    "# your code here"
   ]
  },
  {
   "cell_type": "markdown",
   "id": "6dae170d",
   "metadata": {},
   "source": [
    "Опишите свои наблюдения."
   ]
  },
  {
   "cell_type": "code",
   "execution_count": null,
   "id": "1bd26cd1",
   "metadata": {},
   "outputs": [],
   "source": []
  },
  {
   "cell_type": "markdown",
   "id": "4c5f3651",
   "metadata": {},
   "source": [
    "### 7. Босс!\n",
    "\n",
    "Отрисуйте слепки одного брэкета (используйте `ASHA`) в режиме реального времени, используя `ask-tell` интерфейс вместо `study.optimize`. Например, вы можете рисовать состояние брэкета (в данном случае, `study = bracket`) когда появляется каждый второй trial. Используйте `time.sleep` для того чтобы сделать картинку интереснее. Подумайте, как лучше отрисовывать, чтобы хорошо было видно развитие сюжета. Если нужно, используйте другую функцию для отрисовки. "
   ]
  },
  {
   "cell_type": "code",
   "execution_count": null,
   "id": "768bbd26",
   "metadata": {},
   "outputs": [],
   "source": [
    "# your code here"
   ]
  },
  {
   "cell_type": "markdown",
   "id": "47502dbf",
   "metadata": {},
   "source": [
    "Опишите свои наблюдения."
   ]
  },
  {
   "cell_type": "code",
   "execution_count": null,
   "id": "606aa02b",
   "metadata": {},
   "outputs": [],
   "source": []
  },
  {
   "cell_type": "markdown",
   "id": "dc5b72ab",
   "metadata": {},
   "source": [
    "Еще одно ура! Как впечатления?"
   ]
  },
  {
   "cell_type": "code",
   "execution_count": null,
   "id": "0ae27c9b",
   "metadata": {},
   "outputs": [],
   "source": []
  }
 ],
 "metadata": {
  "kernelspec": {
   "display_name": "Python 3 (ipykernel)",
   "language": "python",
   "name": "python3"
  },
  "language_info": {
   "codemirror_mode": {
    "name": "ipython",
    "version": 3
   },
   "file_extension": ".py",
   "mimetype": "text/x-python",
   "name": "python",
   "nbconvert_exporter": "python",
   "pygments_lexer": "ipython3",
   "version": "3.9.11"
  }
 },
 "nbformat": 4,
 "nbformat_minor": 5
}
