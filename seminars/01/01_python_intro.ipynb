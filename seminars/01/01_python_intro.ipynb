{
  "nbformat": 4,
  "nbformat_minor": 0,
  "metadata": {
    "colab": {
      "provenance": []
    },
    "kernelspec": {
      "display_name": "Python 3",
      "language": "python",
      "name": "python3"
    },
    "language_info": {
      "codemirror_mode": {
        "name": "ipython",
        "version": 3
      },
      "file_extension": ".py",
      "mimetype": "text/x-python",
      "name": "python",
      "nbconvert_exporter": "python",
      "pygments_lexer": "ipython3",
      "version": "3.7.6"
    }
  },
  "cells": [
    {
      "cell_type": "markdown",
      "source": [
        "## Семинар 1: Введение в Python и Jupyter Notebook"
      ],
      "metadata": {
        "id": "oVlE7wQJ7pl9"
      }
    },
    {
      "cell_type": "markdown",
      "source": [
        "# Почему будем использовать Python\n",
        "\n",
        "\n",
        "**Python** — высокоуровневый язык программирования общего назначения с динамической строгой типизацией и автоматическим управлением памятью, ориентированный на повышение производительности разработчика, читаемости кода и его качества, а также на обеспечение переносимости написанных на нём программ ([wiki](https://ru.wikipedia.org/wiki/Python))\n",
        "\n",
        "Для нас он наиболее удобен по нескольким причинам:\n",
        "\n",
        "1. Низкий порог входа\n",
        "2. Есть множестве библиотек для анализа данных на python\n",
        "3. Удобный интерфейс IPython-ноутбуков\n",
        "\n"
      ],
      "metadata": {
        "id": "RlrpReCk7pn_"
      }
    },
    {
      "cell_type": "markdown",
      "source": [
        "# Jupyter Notebook\n",
        "\n",
        "Мы с вами сейчас находимся внутри **Jupyter Notebook**.\n",
        "На русском подобные обычно называют *ноутбуками* или, что правильнее, *тетрадками*.\n",
        "\n",
        "В Data science такие тетрадки получили широкое распространение т.к. в них можно структурно проводить исследования данных и строить модельки, чередуя код с заголовками, текстом, картинками и т.д.  \n",
        "\n",
        "В тетрадках можно:\n",
        "1. Делить код на блоки и выполнять их в любом порядке\n",
        "2. Делать текстовые вставки с форматированием\n",
        "3. Делить исследования на блоки\n",
        "4. Писать код блок-за-блоком (последовательно изучая что происходит в разных частях кода)\n",
        "\n",
        "Такие тетрадки можно затем выгружать в различных форматах. Самые популярные из них:\n",
        "1. IPython Notebook (.ipynb): Формат по умолчанию для Jupyter Notebook, который содержит все ячейки кода, текста, изображений и вывода, а также метаданные блокнота.\n",
        "2. HTML (.html): Позволяет просматривать блокнот веб-браузере без установки Jupyter Notebook.\n",
        "3. PDF (.pdf): Удобен для обмена документацией и отчетами.\n",
        "4. Executable Script (.py): Можно экспортировать только код ячеек в виде исполняемого Python скрипта.\n"
      ],
      "metadata": {
        "id": "Ouq-26B47pp9"
      }
    },
    {
      "cell_type": "markdown",
      "source": [
        "# Как работает Jupyter Notebook\n",
        "\n",
        "Любой блокнот состоит из *ячеек*. Даже текущий текст написан в ячейке.\n",
        "\n",
        "**Новая ячейка**\n",
        "Для создания новой ячейки можно использовать один из следующих вариантов:\n",
        "- нажмите кнопку \"+\" на панели управления сверху;\n",
        "- нажмите клавишу \"B\" на клавиатуре, и новая ячейка появится после текущей активной;\n",
        "- с клавиатуры нажмите клавишу \"A\", и новая ячейка появится перед текущей активной\n",
        "\n",
        "**Типы ячеек**   \n",
        "\n",
        "Есть два типа ячеек: Код и Текст\n",
        "\n",
        "Изменение типа ячейки осуществляется через верхнюю панель управления: нужно кликнуть на ячейку и выбрать её тип.\n",
        "\n",
        "**Редактирование ячейки**\n",
        "Неактивная ячейка отображается серым цветом.\n",
        "Ячейка активируется одним кликом курсора и становится синей.\n",
        "Чтобы перейти в режим редактирования ячейки, дважды кликните по курсору, и она станет зеленой.\n",
        "\n",
        "**Прерывание работы**\n",
        "Иногда бывает полезно остановить выполняющуюся ячейку.\n",
        "Вы можете нажать кнопку остановки, когда активная ячейка выполняется. Знак STOP на верхней панели.\n",
        "Можно воспользоваться опцией в меню Kernel - Interrupt (Прервать).\n",
        "Можно выполнить \"перезагрузку\" ноутбука в меню Kernel - Restart and Clear Output (Перезапустить и Очистить вывод).\n",
        "\n"
      ],
      "metadata": {
        "id": "kXmRbh5f7pr4"
      }
    },
    {
      "cell_type": "markdown",
      "source": [
        "\n",
        "\n",
        "# Google Colab\n",
        "<a href=\"https://colab.research.google.com/\">Colab</a> - это среда разработки на языке Python, работающая в браузере с использованием Google Cloud, то есть вы можете работать в Colab, не устанавливая Python на свой компьютер.\n",
        "\n",
        "Быстрое введение в Colab и Python доступно по ссылке <a href=\"https://colab.research.google.com/github/tensorflow/examples/blob/master/courses/udacity_intro_to_tensorflow_for_deep_learning/l01c01_introduction_to_colab_and_python.ipynb\">здесь</a>.\n"
      ],
      "metadata": {
        "id": "cwDgMFoN7pt-"
      }
    },
    {
      "cell_type": "markdown",
      "source": [
        "# Основы языка Python\n",
        "\n",
        "Что изучим:\n",
        "\n",
        "- Стандартный функционал языка\n",
        "- Типы данных и операции над ними\n",
        "- Функции и исключения в Python"
      ],
      "metadata": {
        "id": "f5wgnjax7pv7"
      }
    },
    {
      "cell_type": "markdown",
      "source": [
        "## Стандартный функционал языка\n"
      ],
      "metadata": {
        "id": "_ON2gtPv7pyB"
      }
    },
    {
      "cell_type": "markdown",
      "source": [
        "### print()\n",
        "\n",
        "Вот полный синтаксис функции, скрытый от наших глаз:\n",
        "\n",
        "`print(value, ..., sep=' ', end='\\n', file=sys.stdout, flush=False)`\n",
        "\n",
        "Аргументы функции здесь — это sep, end, file и flush:\n",
        "\n",
        "- **sep** позволяет задать разделитель, который будет выводиться между элементами, переданными в функцию print(). По умолчанию разделителем является пробел, но с помощью sep пробел можно заменить на другой разделитель, к примеру, на запятую.\n",
        "- **end** позволяет определять символ, который будет добавлен в конец сообщения после вывода. По умолчанию это символ перевода строки. Поменять его можно, к примеру, на точку с запятой.\n",
        "- **file** позволяет перенаправить вывод текста в нужный вам файл. По умолчанию функция выводит текст в консоль, в которой вы и задаёте команды Python. Аргумент file полезен, если нужно сохранить вывод для дальнейшего использования.\n",
        "- **flush** позволяет управлять буферизацией вывода. Если этот аргумент установлен в True, то вывод не будет буферизоваться и будет выводиться немедленно."
      ],
      "metadata": {
        "id": "ZV5tc4tf7p0G"
      }
    },
    {
      "cell_type": "code",
      "source": [
        "print?"
      ],
      "metadata": {
        "id": "P2x300zP7lxx"
      },
      "execution_count": 1,
      "outputs": []
    },
    {
      "cell_type": "code",
      "source": [
        "print(5)"
      ],
      "metadata": {
        "colab": {
          "base_uri": "https://localhost:8080/"
        },
        "id": "Bz5AXYpC7lz2",
        "outputId": "6e4d3d97-d593-42da-b80c-7429f173c8c3"
      },
      "execution_count": 2,
      "outputs": [
        {
          "output_type": "stream",
          "name": "stdout",
          "text": [
            "5\n"
          ]
        }
      ]
    },
    {
      "cell_type": "code",
      "source": [
        "print(5, 6, 7, 8)"
      ],
      "metadata": {
        "colab": {
          "base_uri": "https://localhost:8080/"
        },
        "id": "wyoPS7bw7l2D",
        "outputId": "09494359-b94c-49b6-de09-001a0d4f64eb"
      },
      "execution_count": 3,
      "outputs": [
        {
          "output_type": "stream",
          "name": "stdout",
          "text": [
            "5 6 7 8\n"
          ]
        }
      ]
    },
    {
      "cell_type": "code",
      "source": [
        "print(5, 6, 7, 8, sep='_')"
      ],
      "metadata": {
        "colab": {
          "base_uri": "https://localhost:8080/"
        },
        "id": "8HA20ICg7l3o",
        "outputId": "72e8039b-ba1f-4737-b7b2-9d1fdf921857"
      },
      "execution_count": 5,
      "outputs": [
        {
          "output_type": "stream",
          "name": "stdout",
          "text": [
            "5_6_7_8\n"
          ]
        }
      ]
    },
    {
      "cell_type": "code",
      "source": [
        "print('January')"
      ],
      "metadata": {
        "colab": {
          "base_uri": "https://localhost:8080/"
        },
        "id": "UyeX1yFW7l5k",
        "outputId": "4b91a13e-2bf1-42da-9b8b-2d8e8dd72450"
      },
      "execution_count": 6,
      "outputs": [
        {
          "output_type": "stream",
          "name": "stdout",
          "text": [
            "January\n"
          ]
        }
      ]
    },
    {
      "cell_type": "markdown",
      "source": [
        "### input()\n",
        "Функция для чтения данных с клавиатуры"
      ],
      "metadata": {
        "id": "fsUhmYHD8JT6"
      }
    },
    {
      "cell_type": "code",
      "source": [
        "name = input()\n",
        "print(name)"
      ],
      "metadata": {
        "colab": {
          "base_uri": "https://localhost:8080/"
        },
        "id": "mrLCAAhY7l7h",
        "outputId": "cc7675b7-7370-4002-c582-f50f8c65b66a"
      },
      "execution_count": 7,
      "outputs": [
        {
          "output_type": "stream",
          "name": "stdout",
          "text": [
            "Roman\n",
            "Roman\n"
          ]
        }
      ]
    },
    {
      "cell_type": "code",
      "source": [
        "name = input('Input your name: ')\n",
        "print(name)"
      ],
      "metadata": {
        "colab": {
          "base_uri": "https://localhost:8080/"
        },
        "id": "e25L6gfw7l9n",
        "outputId": "4805bff5-7d34-4c24-de74-e2aeaf99cc21"
      },
      "execution_count": 17,
      "outputs": [
        {
          "output_type": "stream",
          "name": "stdout",
          "text": [
            "Input your name: Роман\n",
            "Роман\n"
          ]
        }
      ]
    },
    {
      "cell_type": "markdown",
      "source": [
        "### Арифметические операции\n",
        "- Сложение: +\n",
        "- Вычитание: -\n",
        "- Умножение: *\n",
        "- Деление: /\n",
        "- Возведение в степень: **\n",
        "- Целая часть от деления: //\n",
        "- Остаток от деления: %"
      ],
      "metadata": {
        "id": "RkTNkM5c8S50"
      }
    },
    {
      "cell_type": "code",
      "source": [
        "print('Числа:', 5, 'и', 2)\n",
        "print(5 + 2)\n",
        "print(5 - 2)\n",
        "print(5*2)\n",
        "print(5 / 2)\n",
        "print( 5 // 2)\n",
        "print('Остаток от деления:', 5 % 2)\n",
        "print('5 в степени 2:', 5**2)"
      ],
      "metadata": {
        "colab": {
          "base_uri": "https://localhost:8080/"
        },
        "id": "uHmtBZSC7l_e",
        "outputId": "714ccc83-9f40-426f-da5d-d65f71b2ca64"
      },
      "execution_count": 18,
      "outputs": [
        {
          "output_type": "stream",
          "name": "stdout",
          "text": [
            "Числа: 5 и 2\n",
            "7\n",
            "3\n",
            "10\n",
            "2.5\n",
            "2\n",
            "Остаток от деления: 1\n",
            "5 в степени 2: 25\n"
          ]
        }
      ]
    },
    {
      "cell_type": "markdown",
      "source": [
        "### Переменные"
      ],
      "metadata": {
        "id": "rEQlctO68ps3"
      }
    },
    {
      "cell_type": "code",
      "source": [
        "savings_2017 = 2000\n",
        "savings_2016 = 1800\n",
        "increase = ((2000 - 1800) / 1800)*100"
      ],
      "metadata": {
        "id": "K6nsiunl80O0"
      },
      "execution_count": 19,
      "outputs": []
    },
    {
      "cell_type": "code",
      "source": [
        "print(round(increase), '%', sep='')"
      ],
      "metadata": {
        "colab": {
          "base_uri": "https://localhost:8080/"
        },
        "id": "P90uUwL68260",
        "outputId": "2790b300-6dfe-4a2c-8777-ded1ace1c71f"
      },
      "execution_count": 22,
      "outputs": [
        {
          "output_type": "stream",
          "name": "stdout",
          "text": [
            "11%\n"
          ]
        }
      ]
    },
    {
      "cell_type": "code",
      "source": [
        "print(type(savings_2017))\n",
        "print(type(increase))"
      ],
      "metadata": {
        "colab": {
          "base_uri": "https://localhost:8080/"
        },
        "id": "Qr0u0N3W8dws",
        "outputId": "ea5aeab8-b5bb-42d0-f70e-1cf23301acc3"
      },
      "execution_count": 23,
      "outputs": [
        {
          "output_type": "stream",
          "name": "stdout",
          "text": [
            "<class 'int'>\n",
            "<class 'float'>\n"
          ]
        }
      ]
    },
    {
      "cell_type": "markdown",
      "source": [
        "## Типы данных"
      ],
      "metadata": {
        "id": "zB-NshLK9Ari"
      }
    },
    {
      "cell_type": "markdown",
      "metadata": {
        "id": "ImVD-d6bB2AS"
      },
      "source": [
        "В Python есть 2 основных категории типов данных: изменямые и неизменяемые.  \n",
        "\n",
        "*Неизменяемые объекты*:  \n",
        "* числовые данные (int, float),\n",
        "* bool,\n",
        "* None,\n",
        "* символьные строки (class 'str'),\n",
        "* кортежи (tuple).  \n",
        "\n",
        "*Изменяемые объекты*:  \n",
        "* списки (list),\n",
        "* множества (set),\n",
        "* словари (dict).  \n",
        "\n",
        "Новые типы данных (введенные пользователем) могут быть как изменямыми, иак и неизменяемыми. Изменяемость объектов определённого типа является принципиально важной характеристикой, определяющей, может ли объект такого типа **выступать в качестве ключа для словарей (dict)** или нет.\n"
      ]
    },
    {
      "cell_type": "markdown",
      "metadata": {
        "id": "r_TIXTIyCdui"
      },
      "source": [
        "Понять какого типа та или иная переменная можно с помощью функции type().\n",
        "Давайте пробежимся по всем типам данных.\n"
      ]
    },
    {
      "cell_type": "markdown",
      "metadata": {
        "id": "0HK1IjdCDDX0"
      },
      "source": [
        "**int**\n"
      ]
    },
    {
      "cell_type": "code",
      "metadata": {
        "id": "WXqyfP9OCcmO",
        "outputId": "08fdf022-7b9b-46ef-e481-313e1a3f7a0e",
        "colab": {
          "base_uri": "https://localhost:8080/"
        }
      },
      "source": [
        "x = 5\n",
        "\n",
        "print(type(x))"
      ],
      "execution_count": 24,
      "outputs": [
        {
          "output_type": "stream",
          "name": "stdout",
          "text": [
            "<class 'int'>\n"
          ]
        }
      ]
    },
    {
      "cell_type": "markdown",
      "metadata": {
        "id": "p8KvO04OCvuV"
      },
      "source": [
        "Кстати, Python настолько ленивый язык, что в данном случае можно даже не писать print() - ноутбук выводит то, что возвращает последняя выведенная функция.\n",
        "\n",
        "\n"
      ]
    },
    {
      "cell_type": "code",
      "metadata": {
        "id": "4W8dn3XGClnB",
        "outputId": "29b4e798-df30-4de6-a500-3c9a56b43633",
        "colab": {
          "base_uri": "https://localhost:8080/"
        }
      },
      "source": [
        "type(x)"
      ],
      "execution_count": 25,
      "outputs": [
        {
          "output_type": "execute_result",
          "data": {
            "text/plain": [
              "int"
            ]
          },
          "metadata": {},
          "execution_count": 25
        }
      ]
    },
    {
      "cell_type": "markdown",
      "metadata": {
        "id": "r6cLfKYGDKSn"
      },
      "source": [
        "**float**"
      ]
    },
    {
      "cell_type": "code",
      "metadata": {
        "id": "t3MF-jXsDMl2",
        "outputId": "077b492c-f76e-445b-ff62-3f38de042a75",
        "colab": {
          "base_uri": "https://localhost:8080/"
        }
      },
      "source": [
        "x = 0.84128\n",
        "x"
      ],
      "execution_count": 26,
      "outputs": [
        {
          "output_type": "execute_result",
          "data": {
            "text/plain": [
              "0.84128"
            ]
          },
          "metadata": {},
          "execution_count": 26
        }
      ]
    },
    {
      "cell_type": "code",
      "metadata": {
        "id": "2BJ47HBADPKU",
        "outputId": "9f13f0c3-a4ff-43ff-d8cd-84762ef2a900",
        "colab": {
          "base_uri": "https://localhost:8080/"
        }
      },
      "source": [
        "print(type(x))"
      ],
      "execution_count": 27,
      "outputs": [
        {
          "output_type": "stream",
          "name": "stdout",
          "text": [
            "<class 'float'>\n"
          ]
        }
      ]
    },
    {
      "cell_type": "code",
      "metadata": {
        "id": "Nb4OSeid4yIx",
        "outputId": "3226afdb-32de-4565-92d9-db5f923da84c",
        "colab": {
          "base_uri": "https://localhost:8080/"
        }
      },
      "source": [
        "y = .0093\n",
        "y"
      ],
      "execution_count": 28,
      "outputs": [
        {
          "output_type": "execute_result",
          "data": {
            "text/plain": [
              "0.0093"
            ]
          },
          "metadata": {},
          "execution_count": 28
        }
      ]
    },
    {
      "cell_type": "markdown",
      "metadata": {
        "id": "fcJ7zGgWDTbl"
      },
      "source": [
        "Кстати, в Python если типы могут привестись друг к другу, то это делается автоматически"
      ]
    },
    {
      "cell_type": "code",
      "metadata": {
        "id": "7s5b1LWgDaRU",
        "outputId": "0a137d61-691d-4510-f74b-15330c41ca4d",
        "colab": {
          "base_uri": "https://localhost:8080/"
        }
      },
      "source": [
        "x = 5\n",
        "y = 19.9213\n",
        "\n",
        "print(x+y)\n",
        "print(type(x+y))"
      ],
      "execution_count": 29,
      "outputs": [
        {
          "output_type": "stream",
          "name": "stdout",
          "text": [
            "24.9213\n",
            "<class 'float'>\n"
          ]
        }
      ]
    },
    {
      "cell_type": "markdown",
      "metadata": {
        "id": "BflO-HAcD0he"
      },
      "source": [
        "Несколько примеров арифметических операций:"
      ]
    },
    {
      "cell_type": "code",
      "metadata": {
        "id": "FReS0gE3DpoV",
        "outputId": "0255c8d7-3860-4f04-d940-867beb8703f5",
        "colab": {
          "base_uri": "https://localhost:8080/"
        }
      },
      "source": [
        "x = 15\n",
        "y = 2\n",
        "\n",
        "#остаток от деления\n",
        "print(x % y)\n",
        "\n",
        "#целая часть от деления\n",
        "print(x // y)\n",
        "\n",
        "#возведение в степень\n",
        "print(x ** y)"
      ],
      "execution_count": 30,
      "outputs": [
        {
          "output_type": "stream",
          "name": "stdout",
          "text": [
            "1\n",
            "7\n",
            "225\n"
          ]
        }
      ]
    },
    {
      "cell_type": "code",
      "metadata": {
        "id": "-ndtxsWg5DG1",
        "outputId": "adc880a2-b4d0-40b4-d692-d736d242b358",
        "colab": {
          "base_uri": "https://localhost:8080/"
        }
      },
      "source": [
        "x // y\n",
        "x ** y"
      ],
      "execution_count": 31,
      "outputs": [
        {
          "output_type": "execute_result",
          "data": {
            "text/plain": [
              "225"
            ]
          },
          "metadata": {},
          "execution_count": 31
        }
      ]
    },
    {
      "cell_type": "code",
      "metadata": {
        "id": "hpsJ7kR54Nrb",
        "outputId": "7273939b-60e8-48c9-c6d4-2644822809bd",
        "colab": {
          "base_uri": "https://localhost:8080/"
        }
      },
      "source": [
        "#Python сам понимает тип получаемоего выражения (операнды int, делает float):\n",
        "27 / 2"
      ],
      "execution_count": 32,
      "outputs": [
        {
          "output_type": "execute_result",
          "data": {
            "text/plain": [
              "13.5"
            ]
          },
          "metadata": {},
          "execution_count": 32
        }
      ]
    },
    {
      "cell_type": "code",
      "metadata": {
        "id": "zAzNAXwN5ske"
      },
      "source": [],
      "execution_count": 32,
      "outputs": []
    },
    {
      "cell_type": "markdown",
      "metadata": {
        "id": "0xsE3RqEELee"
      },
      "source": [
        "**bool**"
      ]
    },
    {
      "cell_type": "code",
      "metadata": {
        "id": "n2Ao3MD3ENvm"
      },
      "source": [
        "x = True\n",
        "y = False"
      ],
      "execution_count": 33,
      "outputs": []
    },
    {
      "cell_type": "markdown",
      "metadata": {
        "id": "_-VV-HaQEckF"
      },
      "source": [
        "Если пытаться применять к bool-овским переменным арифметические операции, то они будут приводиться в int:"
      ]
    },
    {
      "cell_type": "code",
      "metadata": {
        "id": "pftOXqBAEQWB",
        "outputId": "1cdc6287-a2c2-4c7d-89d8-dfa966f884aa",
        "colab": {
          "base_uri": "https://localhost:8080/"
        }
      },
      "source": [
        "print(x+x)\n",
        "print(x*2)\n",
        "print(y*2 + x)"
      ],
      "execution_count": 34,
      "outputs": [
        {
          "output_type": "stream",
          "name": "stdout",
          "text": [
            "2\n",
            "2\n",
            "1\n"
          ]
        }
      ]
    },
    {
      "cell_type": "markdown",
      "metadata": {
        "id": "tdcfhkm5EtGN"
      },
      "source": [
        "Чтобы переменные воспринимались как bool-овские, нужно прямо прописывать логические операции:"
      ]
    },
    {
      "cell_type": "code",
      "metadata": {
        "id": "5KwtMdjrEsU3",
        "outputId": "7156db96-130a-4f1c-c6b1-843806bf79a6",
        "colab": {
          "base_uri": "https://localhost:8080/"
        }
      },
      "source": [
        "print(x and y)\n",
        "print(x or not x)\n",
        "print((x or y) and x)"
      ],
      "execution_count": 35,
      "outputs": [
        {
          "output_type": "stream",
          "name": "stdout",
          "text": [
            "False\n",
            "True\n",
            "True\n"
          ]
        }
      ]
    },
    {
      "cell_type": "markdown",
      "metadata": {
        "id": "CWKPJp6pE_l0"
      },
      "source": [
        "Можно принудительно приводить типы друг к другу, например:"
      ]
    },
    {
      "cell_type": "code",
      "metadata": {
        "id": "JWsgkRAbFC_f",
        "outputId": "2ad8ac44-b5a0-4e24-b99d-9fc6681f2617",
        "colab": {
          "base_uri": "https://localhost:8080/"
        }
      },
      "source": [
        "float(True)"
      ],
      "execution_count": 36,
      "outputs": [
        {
          "output_type": "execute_result",
          "data": {
            "text/plain": [
              "1.0"
            ]
          },
          "metadata": {},
          "execution_count": 36
        }
      ]
    },
    {
      "cell_type": "code",
      "metadata": {
        "id": "lnHCHaUI6iuj",
        "outputId": "7896a360-a8ab-4b6f-e246-971cc4beee93",
        "colab": {
          "base_uri": "https://localhost:8080/"
        }
      },
      "source": [
        "type(float(True))"
      ],
      "execution_count": 37,
      "outputs": [
        {
          "output_type": "execute_result",
          "data": {
            "text/plain": [
              "float"
            ]
          },
          "metadata": {},
          "execution_count": 37
        }
      ]
    },
    {
      "cell_type": "code",
      "metadata": {
        "id": "5LgWz47IFGY0",
        "outputId": "aa3722f8-1663-4696-9b15-c74bee160603",
        "colab": {
          "base_uri": "https://localhost:8080/"
        }
      },
      "source": [
        "bool(11)"
      ],
      "execution_count": 38,
      "outputs": [
        {
          "output_type": "execute_result",
          "data": {
            "text/plain": [
              "True"
            ]
          },
          "metadata": {},
          "execution_count": 38
        }
      ]
    },
    {
      "cell_type": "code",
      "metadata": {
        "id": "kiKiHHXNFJe_",
        "outputId": "e6ceaaad-1f1b-43df-d4c0-03f994aa1e7d",
        "colab": {
          "base_uri": "https://localhost:8080/"
        }
      },
      "source": [
        "bool(0)"
      ],
      "execution_count": 39,
      "outputs": [
        {
          "output_type": "execute_result",
          "data": {
            "text/plain": [
              "False"
            ]
          },
          "metadata": {},
          "execution_count": 39
        }
      ]
    },
    {
      "cell_type": "markdown",
      "metadata": {
        "id": "GJDS1RLFGzP9"
      },
      "source": [
        "**None**"
      ]
    },
    {
      "cell_type": "code",
      "metadata": {
        "id": "J10d29h7G1fn",
        "outputId": "adb4a8ee-885f-471a-b36e-cf1a1a147f67",
        "colab": {
          "base_uri": "https://localhost:8080/"
        }
      },
      "source": [
        "x = None\n",
        "print(type(x))"
      ],
      "execution_count": 40,
      "outputs": [
        {
          "output_type": "stream",
          "name": "stdout",
          "text": [
            "<class 'NoneType'>\n"
          ]
        }
      ]
    },
    {
      "cell_type": "code",
      "metadata": {
        "id": "izMpTvkH4uVf",
        "outputId": "87f39afe-f7f0-4c96-d55d-9dbbcedd223c",
        "colab": {
          "base_uri": "https://localhost:8080/"
        }
      },
      "source": [
        "#Так делать можно, но не нужно:\n",
        "x == None"
      ],
      "execution_count": 41,
      "outputs": [
        {
          "output_type": "execute_result",
          "data": {
            "text/plain": [
              "True"
            ]
          },
          "metadata": {},
          "execution_count": 41
        }
      ]
    },
    {
      "cell_type": "code",
      "metadata": {
        "id": "8GVZ4fScGqQg",
        "outputId": "05d73dc2-05af-4e40-e7ba-773d9b6df3c6",
        "colab": {
          "base_uri": "https://localhost:8080/"
        }
      },
      "source": [
        "#Лучше так:\n",
        "print(x is None)"
      ],
      "execution_count": 42,
      "outputs": [
        {
          "output_type": "stream",
          "name": "stdout",
          "text": [
            "True\n"
          ]
        }
      ]
    },
    {
      "cell_type": "markdown",
      "metadata": {
        "id": "wcTFgvL94o8k"
      },
      "source": [
        "Подробнее: https://pythonworld.ru/tipy-dannyx-v-python/none.html"
      ]
    },
    {
      "cell_type": "markdown",
      "metadata": {
        "id": "VX6CjIq4G-zT"
      },
      "source": [
        "**str**"
      ]
    },
    {
      "cell_type": "code",
      "metadata": {
        "id": "SmkIBMI5HC4F",
        "outputId": "ad3e00f4-ef99-4f9c-f1ff-a0ced30cef65",
        "colab": {
          "base_uri": "https://localhost:8080/"
        }
      },
      "source": [
        "x = \"qwerty\"\n",
        "y = \"abcdef\"\n",
        "\n",
        "print(type(x))"
      ],
      "execution_count": 43,
      "outputs": [
        {
          "output_type": "stream",
          "name": "stdout",
          "text": [
            "<class 'str'>\n"
          ]
        }
      ]
    },
    {
      "cell_type": "code",
      "metadata": {
        "id": "K-Z2R2xIHJrN",
        "outputId": "4c1fb5b3-8cb0-453d-eeaf-49cad0f36a87",
        "colab": {
          "base_uri": "https://localhost:8080/"
        }
      },
      "source": [
        "print(x + ' ' + y)"
      ],
      "execution_count": 44,
      "outputs": [
        {
          "output_type": "stream",
          "name": "stdout",
          "text": [
            "qwerty abcdef\n"
          ]
        }
      ]
    },
    {
      "cell_type": "code",
      "metadata": {
        "id": "_oq51635HRhN",
        "outputId": "f4355e01-921c-4390-8d6e-c3c3d2464559",
        "colab": {
          "base_uri": "https://localhost:8080/"
        }
      },
      "source": [
        "print(x * 2)"
      ],
      "execution_count": 45,
      "outputs": [
        {
          "output_type": "stream",
          "name": "stdout",
          "text": [
            "qwertyqwerty\n"
          ]
        }
      ]
    },
    {
      "cell_type": "code",
      "metadata": {
        "id": "JazgLubNHWwI",
        "outputId": "f1c2ee3a-6d49-42d3-85bd-55e6e6f4381a",
        "colab": {
          "base_uri": "https://localhost:8080/"
        }
      },
      "source": [
        "print(len(x), len(y))"
      ],
      "execution_count": 46,
      "outputs": [
        {
          "output_type": "stream",
          "name": "stdout",
          "text": [
            "6 6\n"
          ]
        }
      ]
    },
    {
      "cell_type": "code",
      "metadata": {
        "id": "N0JFqX4iHcVT",
        "outputId": "d548599e-eb8f-4e94-aa54-eb67f7382f0f",
        "colab": {
          "base_uri": "https://localhost:8080/"
        }
      },
      "source": [
        "print(x)\n",
        "print(x[2])\n",
        "print(x[-1])"
      ],
      "execution_count": 47,
      "outputs": [
        {
          "output_type": "stream",
          "name": "stdout",
          "text": [
            "qwerty\n",
            "e\n",
            "y\n"
          ]
        }
      ]
    },
    {
      "cell_type": "code",
      "metadata": {
        "id": "B0xlFnEQHn2h"
      },
      "source": [
        "new_str = 'AI Masters'"
      ],
      "execution_count": 52,
      "outputs": []
    },
    {
      "cell_type": "code",
      "metadata": {
        "id": "vUVT2G-ZHwKZ",
        "outputId": "331d20d4-80fe-4a78-f07e-3fed786aeb33",
        "colab": {
          "base_uri": "https://localhost:8080/"
        }
      },
      "source": [
        "#Срезы\n",
        "print(new_str[0:3])\n",
        "print(new_str[14:])"
      ],
      "execution_count": 53,
      "outputs": [
        {
          "output_type": "stream",
          "name": "stdout",
          "text": [
            "AI \n",
            "\n"
          ]
        }
      ]
    },
    {
      "cell_type": "code",
      "metadata": {
        "id": "gtCyv1fe5Tcd",
        "outputId": "88824bd5-5e81-4967-d600-f80849b550cd",
        "colab": {
          "base_uri": "https://localhost:8080/"
        }
      },
      "source": [
        "#Можно не писать откуда и до куда:\n",
        "print(new_str[:5])\n",
        "print(new_str[5:])"
      ],
      "execution_count": 54,
      "outputs": [
        {
          "output_type": "stream",
          "name": "stdout",
          "text": [
            "AI Ma\n",
            "sters\n"
          ]
        }
      ]
    },
    {
      "cell_type": "code",
      "metadata": {
        "id": "iqgNsZej5KJN",
        "outputId": "388d3895-be1b-4ae6-8d32-00c776b52233",
        "colab": {
          "base_uri": "https://localhost:8080/",
          "height": 36
        }
      },
      "source": [
        "#Шаг среза:\n",
        "new_str[::2]"
      ],
      "execution_count": 55,
      "outputs": [
        {
          "output_type": "execute_result",
          "data": {
            "text/plain": [
              "'A atr'"
            ],
            "application/vnd.google.colaboratory.intrinsic+json": {
              "type": "string"
            }
          },
          "metadata": {},
          "execution_count": 55
        }
      ]
    },
    {
      "cell_type": "code",
      "metadata": {
        "id": "e_iyCBPp5ixP",
        "outputId": "1f8bbe80-d88b-4d28-a6a9-a26725eed2f6",
        "colab": {
          "base_uri": "https://localhost:8080/",
          "height": 36
        }
      },
      "source": [
        "#Отрицательный срез:\n",
        "new_str[:-5]"
      ],
      "execution_count": 56,
      "outputs": [
        {
          "output_type": "execute_result",
          "data": {
            "text/plain": [
              "'AI Ma'"
            ],
            "application/vnd.google.colaboratory.intrinsic+json": {
              "type": "string"
            }
          },
          "metadata": {},
          "execution_count": 56
        }
      ]
    },
    {
      "cell_type": "code",
      "metadata": {
        "id": "tg_4fcUOQ5SL",
        "outputId": "eedcd9f9-f877-44ad-9e0b-b943e1df8b52",
        "colab": {
          "base_uri": "https://localhost:8080/",
          "height": 36
        }
      },
      "source": [
        "new_str"
      ],
      "execution_count": 57,
      "outputs": [
        {
          "output_type": "execute_result",
          "data": {
            "text/plain": [
              "'AI Masters'"
            ],
            "application/vnd.google.colaboratory.intrinsic+json": {
              "type": "string"
            }
          },
          "metadata": {},
          "execution_count": 57
        }
      ]
    },
    {
      "cell_type": "code",
      "metadata": {
        "id": "MbaE4hW7IBw6",
        "outputId": "fde1dc2c-1b28-4f7d-cf71-9815eb67adb5",
        "colab": {
          "base_uri": "https://localhost:8080/",
          "height": 193
        }
      },
      "source": [
        "#Как уже и говорилось, строки - неизменяемые объекты, поэтому заменить один символ нельзя:\n",
        "new_str[4] = 'x'"
      ],
      "execution_count": 58,
      "outputs": [
        {
          "output_type": "error",
          "ename": "TypeError",
          "evalue": "ignored",
          "traceback": [
            "\u001b[0;31m---------------------------------------------------------------------------\u001b[0m",
            "\u001b[0;31mTypeError\u001b[0m                                 Traceback (most recent call last)",
            "\u001b[0;32m<ipython-input-58-4dea4d464dc9>\u001b[0m in \u001b[0;36m<cell line: 2>\u001b[0;34m()\u001b[0m\n\u001b[1;32m      1\u001b[0m \u001b[0;31m#Как уже и говорилось, строки - неизменяемые объекты, поэтому заменить один символ нельзя:\u001b[0m\u001b[0;34m\u001b[0m\u001b[0;34m\u001b[0m\u001b[0m\n\u001b[0;32m----> 2\u001b[0;31m \u001b[0mnew_str\u001b[0m\u001b[0;34m[\u001b[0m\u001b[0;36m4\u001b[0m\u001b[0;34m]\u001b[0m \u001b[0;34m=\u001b[0m \u001b[0;34m'x'\u001b[0m\u001b[0;34m\u001b[0m\u001b[0;34m\u001b[0m\u001b[0m\n\u001b[0m",
            "\u001b[0;31mTypeError\u001b[0m: 'str' object does not support item assignment"
          ]
        }
      ]
    },
    {
      "cell_type": "code",
      "metadata": {
        "id": "za7ZX1d6ILiJ"
      },
      "source": [
        "#Поэтому функции, обрабатывающие строки, возвращают новые строки, например:\n",
        "print(new_str.lower())\n",
        "print(new_str.upper())"
      ],
      "execution_count": null,
      "outputs": []
    },
    {
      "cell_type": "code",
      "metadata": {
        "id": "HdCr_gYeIatR"
      },
      "source": [
        "#Со строками есть куча интересных встроенных функций, например поиск подстроки в строке:\n",
        "str1 = 'Факультет вычислительной математики и кибернетики (ВМК) Московского государственного университета имени М.В.Ломоносова является ведущим учебным центром России по подготовке кадров в области фундаментальных исследований по прикладной математике, вычислительной математике, информатике и программированию.'\n",
        "str2 = 'ВМК'\n",
        "str1.find(str2)"
      ],
      "execution_count": null,
      "outputs": []
    },
    {
      "cell_type": "markdown",
      "metadata": {
        "id": "Pd3k-3HvI6wh"
      },
      "source": [
        "Более подробно про функции над строками:\n",
        "https://pythonworld.ru/tipy-dannyx-v-python/stroki-funkcii-i-metody-strok.html\n",
        "\n",
        "*Важно знать какие бывают функции чтобы не писать их руками*"
      ]
    },
    {
      "cell_type": "markdown",
      "metadata": {
        "id": "k3SB65DRJc6v"
      },
      "source": [
        "**turple**"
      ]
    },
    {
      "cell_type": "code",
      "metadata": {
        "id": "thL5-MF2JZjI",
        "outputId": "836cba92-6c3e-4beb-eaac-58177b7eddcf",
        "colab": {
          "base_uri": "https://localhost:8080/"
        }
      },
      "source": [
        "a = (1, 2, 3, 4, 5, 6)\n",
        "\n",
        "print(a)\n",
        "print(type(a))"
      ],
      "execution_count": 59,
      "outputs": [
        {
          "output_type": "stream",
          "name": "stdout",
          "text": [
            "(1, 2, 3, 4, 5, 6)\n",
            "<class 'tuple'>\n"
          ]
        }
      ]
    },
    {
      "cell_type": "code",
      "metadata": {
        "id": "VPgtd-clKBLs",
        "outputId": "dd5e3a94-b2be-4515-fdda-655d09d6100d",
        "colab": {
          "base_uri": "https://localhost:8080/"
        }
      },
      "source": [
        "b = ('MSU', True, 0.83, 9)\n",
        "\n",
        "print(b)\n",
        "print(type(b))"
      ],
      "execution_count": 60,
      "outputs": [
        {
          "output_type": "stream",
          "name": "stdout",
          "text": [
            "('MSU', True, 0.83, 9)\n",
            "<class 'tuple'>\n"
          ]
        }
      ]
    },
    {
      "cell_type": "code",
      "metadata": {
        "id": "NaYTy8FOI5Eg",
        "outputId": "13cd1ab1-77fe-4f27-b429-43ba6cc3dbff",
        "colab": {
          "base_uri": "https://localhost:8080/"
        }
      },
      "source": [
        "a = tuple('hello, world!')\n",
        "print(a)"
      ],
      "execution_count": 61,
      "outputs": [
        {
          "output_type": "stream",
          "name": "stdout",
          "text": [
            "('h', 'e', 'l', 'l', 'o', ',', ' ', 'w', 'o', 'r', 'l', 'd', '!')\n"
          ]
        }
      ]
    },
    {
      "cell_type": "code",
      "metadata": {
        "id": "mkMLzM85Ka6q",
        "outputId": "d88c0466-894a-4529-a99e-13ff724ab566",
        "colab": {
          "base_uri": "https://localhost:8080/"
        }
      },
      "source": [
        "(1, 2, 3) + (4, 'k')"
      ],
      "execution_count": 62,
      "outputs": [
        {
          "output_type": "execute_result",
          "data": {
            "text/plain": [
              "(1, 2, 3, 4, 'k')"
            ]
          },
          "metadata": {},
          "execution_count": 62
        }
      ]
    },
    {
      "cell_type": "markdown",
      "metadata": {
        "id": "zyIjWh6zLXhW"
      },
      "source": [
        "Теперь поговрим про изменяемые объекты.\n",
        "Начнём с **list**"
      ]
    },
    {
      "cell_type": "code",
      "metadata": {
        "id": "YmqguVnnLWFf"
      },
      "source": [
        "a = list()\n",
        "b = []"
      ],
      "execution_count": 64,
      "outputs": []
    },
    {
      "cell_type": "code",
      "metadata": {
        "id": "l9_5GHjILyNj",
        "outputId": "6b1ffd02-575f-44bb-bb22-f0f82fc55532",
        "colab": {
          "base_uri": "https://localhost:8080/"
        }
      },
      "source": [
        "type(a)"
      ],
      "execution_count": 65,
      "outputs": [
        {
          "output_type": "execute_result",
          "data": {
            "text/plain": [
              "list"
            ]
          },
          "metadata": {},
          "execution_count": 65
        }
      ]
    },
    {
      "cell_type": "code",
      "metadata": {
        "id": "C2Ig-3Es8vVg",
        "outputId": "8bda7260-dfc0-4d7b-c6fb-79d6469f13f5",
        "colab": {
          "base_uri": "https://localhost:8080/"
        }
      },
      "source": [
        "type(b)"
      ],
      "execution_count": 66,
      "outputs": [
        {
          "output_type": "execute_result",
          "data": {
            "text/plain": [
              "list"
            ]
          },
          "metadata": {},
          "execution_count": 66
        }
      ]
    },
    {
      "cell_type": "code",
      "metadata": {
        "id": "tDDYlJn6L2HP"
      },
      "source": [
        "a = [82, 'k', 11]\n",
        "b = [1, 2, 4, 8, 16, 32, 64]\n",
        "c = [i * 3 for i in 'list']"
      ],
      "execution_count": 67,
      "outputs": []
    },
    {
      "cell_type": "code",
      "metadata": {
        "id": "KPZQ1hyrR348",
        "outputId": "a796d012-9fc6-4021-efb6-f7b0de0e6e44",
        "colab": {
          "base_uri": "https://localhost:8080/"
        }
      },
      "source": [
        "c"
      ],
      "execution_count": 68,
      "outputs": [
        {
          "output_type": "execute_result",
          "data": {
            "text/plain": [
              "['lll', 'iii', 'sss', 'ttt']"
            ]
          },
          "metadata": {},
          "execution_count": 68
        }
      ]
    },
    {
      "cell_type": "code",
      "metadata": {
        "id": "7du5cuNDYAVc"
      },
      "source": [
        "def f(x):\n",
        "  return x ** 2 + 2 * x + 1"
      ],
      "execution_count": 69,
      "outputs": []
    },
    {
      "cell_type": "code",
      "metadata": {
        "id": "Mhg8lbu6YH2a",
        "outputId": "8749fa5f-b4ed-4b75-fe07-6e9c67fb5176",
        "colab": {
          "base_uri": "https://localhost:8080/"
        }
      },
      "source": [
        "c = [f(i) for i in [1, 2, 3, 4, 5]]\n",
        "print(c)"
      ],
      "execution_count": 70,
      "outputs": [
        {
          "output_type": "stream",
          "name": "stdout",
          "text": [
            "[4, 9, 16, 25, 36]\n"
          ]
        }
      ]
    },
    {
      "cell_type": "code",
      "metadata": {
        "id": "FmuEuX8aMf2F",
        "outputId": "94b7e353-71ef-4361-858a-53e1b0bc50a9",
        "colab": {
          "base_uri": "https://localhost:8080/"
        }
      },
      "source": [
        "print(c)\n",
        "print(type(c))"
      ],
      "execution_count": 71,
      "outputs": [
        {
          "output_type": "stream",
          "name": "stdout",
          "text": [
            "[4, 9, 16, 25, 36]\n",
            "<class 'list'>\n"
          ]
        }
      ]
    },
    {
      "cell_type": "code",
      "metadata": {
        "id": "1ijRYMZxSMWr",
        "outputId": "24b2eb95-35eb-4428-9fc6-2d19a9c375c4",
        "colab": {
          "base_uri": "https://localhost:8080/"
        }
      },
      "source": [
        "a  = [i for i in range(1, 10)]\n",
        "print(a)"
      ],
      "execution_count": 72,
      "outputs": [
        {
          "output_type": "stream",
          "name": "stdout",
          "text": [
            "[1, 2, 3, 4, 5, 6, 7, 8, 9]\n"
          ]
        }
      ]
    },
    {
      "cell_type": "code",
      "metadata": {
        "id": "xI4f4YNyMkmV",
        "outputId": "c1eafdc5-ce16-453d-ef19-6e24502c85d8",
        "colab": {
          "base_uri": "https://localhost:8080/"
        }
      },
      "source": [
        "a  = [i for i in range(1, 10, 2)]\n",
        "print(a)"
      ],
      "execution_count": 73,
      "outputs": [
        {
          "output_type": "stream",
          "name": "stdout",
          "text": [
            "[1, 3, 5, 7, 9]\n"
          ]
        }
      ]
    },
    {
      "cell_type": "code",
      "metadata": {
        "id": "VrLVaSMjRUN8",
        "outputId": "3e257529-591a-47f3-f446-28fdaa5904f7",
        "colab": {
          "base_uri": "https://localhost:8080/"
        }
      },
      "source": [
        "print(len(a))"
      ],
      "execution_count": 74,
      "outputs": [
        {
          "output_type": "stream",
          "name": "stdout",
          "text": [
            "5\n"
          ]
        }
      ]
    },
    {
      "cell_type": "code",
      "metadata": {
        "id": "L4hhkKHH19Dl",
        "outputId": "f5930bc5-2816-448d-d742-8ecc597842b5",
        "colab": {
          "base_uri": "https://localhost:8080/"
        }
      },
      "source": [
        "a_new = [i if i % 2 == 0 else 0 for i in a]\n",
        "a_new"
      ],
      "execution_count": 75,
      "outputs": [
        {
          "output_type": "execute_result",
          "data": {
            "text/plain": [
              "[0, 0, 0, 0, 0]"
            ]
          },
          "metadata": {},
          "execution_count": 75
        }
      ]
    },
    {
      "cell_type": "code",
      "metadata": {
        "id": "iJVugR5J2NUQ",
        "outputId": "bc5e98b9-23fd-4ca1-a9d4-93c5f0784165",
        "colab": {
          "base_uri": "https://localhost:8080/"
        }
      },
      "source": [
        "str1 = 'Факультет вычислительной математики и кибернетики (ВМК) Московского государственного университета имени М.В.Ломоносова является ведущим учебным центром России по подготовке кадров в области фундаментальных исследований по прикладной математике, вычислительной математике, информатике и программированию.'\n",
        "print(str1.split(' '))"
      ],
      "execution_count": 76,
      "outputs": [
        {
          "output_type": "stream",
          "name": "stdout",
          "text": [
            "['Факультет', 'вычислительной', 'математики', 'и', 'кибернетики', '(ВМК)', 'Московского', 'государственного', 'университета', 'имени', 'М.В.Ломоносова', 'является', 'ведущим', 'учебным', 'центром', 'России', 'по', 'подготовке', 'кадров', 'в', 'области', 'фундаментальных', 'исследований', 'по', 'прикладной', 'математике,', 'вычислительной', 'математике,', 'информатике', 'и', 'программированию.']\n"
          ]
        }
      ]
    },
    {
      "cell_type": "code",
      "metadata": {
        "id": "XKPLfAyj1Dzj"
      },
      "source": [
        "a = [1, 2, 4, 8, 16, 32, 64]"
      ],
      "execution_count": 77,
      "outputs": []
    },
    {
      "cell_type": "code",
      "metadata": {
        "id": "nMWK8JHy0PXK",
        "outputId": "1b43d44e-59cd-45ac-bf7e-4da0abb858cf",
        "colab": {
          "base_uri": "https://localhost:8080/"
        }
      },
      "source": [
        "# доступ к элементам по индексу\n",
        "# от 0 => N\n",
        "a[2]"
      ],
      "execution_count": 78,
      "outputs": [
        {
          "output_type": "execute_result",
          "data": {
            "text/plain": [
              "4"
            ]
          },
          "metadata": {},
          "execution_count": 78
        }
      ]
    },
    {
      "cell_type": "code",
      "metadata": {
        "id": "5E7wHKAK0R9z",
        "outputId": "7571214f-a119-435e-999b-9d86c97a0371",
        "colab": {
          "base_uri": "https://localhost:8080/"
        }
      },
      "source": [
        "# Доступ к списку с конца\n",
        "a[-2]"
      ],
      "execution_count": 79,
      "outputs": [
        {
          "output_type": "execute_result",
          "data": {
            "text/plain": [
              "32"
            ]
          },
          "metadata": {},
          "execution_count": 79
        }
      ]
    },
    {
      "cell_type": "code",
      "metadata": {
        "id": "71H3I-Yo09-Y",
        "outputId": "79c5a94d-831f-46e8-e2f0-0e987814aacc",
        "colab": {
          "base_uri": "https://localhost:8080/"
        }
      },
      "source": [
        "#Срез\n",
        "a[2:]"
      ],
      "execution_count": 80,
      "outputs": [
        {
          "output_type": "execute_result",
          "data": {
            "text/plain": [
              "[4, 8, 16, 32, 64]"
            ]
          },
          "metadata": {},
          "execution_count": 80
        }
      ]
    },
    {
      "cell_type": "code",
      "metadata": {
        "id": "rvmbOunw1ILL"
      },
      "source": [
        "#Удаление элемента/среза\n",
        "del a[2]"
      ],
      "execution_count": 81,
      "outputs": []
    },
    {
      "cell_type": "code",
      "metadata": {
        "id": "YYOEEhKB1Vio",
        "outputId": "30375570-005e-4a70-d7a4-37c29d2ce002",
        "colab": {
          "base_uri": "https://localhost:8080/"
        }
      },
      "source": [
        "a"
      ],
      "execution_count": 82,
      "outputs": [
        {
          "output_type": "execute_result",
          "data": {
            "text/plain": [
              "[1, 2, 8, 16, 32, 64]"
            ]
          },
          "metadata": {},
          "execution_count": 82
        }
      ]
    },
    {
      "cell_type": "code",
      "metadata": {
        "id": "cFFhUMHu1Y5i"
      },
      "source": [
        "del a[2:]"
      ],
      "execution_count": 83,
      "outputs": []
    },
    {
      "cell_type": "code",
      "metadata": {
        "id": "lwdDwfVn1bOW",
        "outputId": "c4c617b4-2248-4940-c1eb-4330c3f69358",
        "colab": {
          "base_uri": "https://localhost:8080/"
        }
      },
      "source": [
        "a"
      ],
      "execution_count": 84,
      "outputs": [
        {
          "output_type": "execute_result",
          "data": {
            "text/plain": [
              "[1, 2]"
            ]
          },
          "metadata": {},
          "execution_count": 84
        }
      ]
    },
    {
      "cell_type": "code",
      "metadata": {
        "id": "0B2iaVFo1tF3"
      },
      "source": [
        "l = ['Yep', 'Now', 'Hello']"
      ],
      "execution_count": 95,
      "outputs": []
    },
    {
      "cell_type": "code",
      "metadata": {
        "id": "yqq9Unso1r7O",
        "outputId": "2856182a-9a7f-4fc1-f744-befe3dcf169d",
        "colab": {
          "base_uri": "https://localhost:8080/"
        }
      },
      "source": [
        "# опрос о существовании элементов\n",
        "'No' in l"
      ],
      "execution_count": 96,
      "outputs": [
        {
          "output_type": "execute_result",
          "data": {
            "text/plain": [
              "False"
            ]
          },
          "metadata": {},
          "execution_count": 96
        }
      ]
    },
    {
      "cell_type": "code",
      "metadata": {
        "id": "7qxS2SiI11qf",
        "outputId": "0410f88c-d280-47aa-de04-b600a1bd246a",
        "colab": {
          "base_uri": "https://localhost:8080/"
        }
      },
      "source": [
        "'Yep' in l"
      ],
      "execution_count": 97,
      "outputs": [
        {
          "output_type": "execute_result",
          "data": {
            "text/plain": [
              "True"
            ]
          },
          "metadata": {},
          "execution_count": 97
        }
      ]
    },
    {
      "cell_type": "markdown",
      "metadata": {
        "id": "coY2N8MoObxD"
      },
      "source": [
        "! Важно понимать, что функции над списками меняют уже непосредственно сам поданный список"
      ]
    },
    {
      "cell_type": "code",
      "metadata": {
        "id": "iHCyeX1LMx4X",
        "outputId": "2ac8e28b-ffe3-4c64-bd06-c2613acf4d6e",
        "colab": {
          "base_uri": "https://localhost:8080/"
        }
      },
      "source": [
        "a = [58, 23, 4, 5, 6, 213, 94]\n",
        "a.sort()\n",
        "\n",
        "print(a)"
      ],
      "execution_count": 98,
      "outputs": [
        {
          "output_type": "stream",
          "name": "stdout",
          "text": [
            "[4, 5, 6, 23, 58, 94, 213]\n"
          ]
        }
      ]
    },
    {
      "cell_type": "code",
      "metadata": {
        "id": "1FW9SAHqM-4J",
        "outputId": "231e0c53-283b-4d74-d310-e08002290483",
        "colab": {
          "base_uri": "https://localhost:8080/"
        }
      },
      "source": [
        "a.reverse()\n",
        "print(a)"
      ],
      "execution_count": 99,
      "outputs": [
        {
          "output_type": "stream",
          "name": "stdout",
          "text": [
            "[213, 94, 58, 23, 6, 5, 4]\n"
          ]
        }
      ]
    },
    {
      "cell_type": "code",
      "metadata": {
        "id": "MTiT4VbbNWzK",
        "outputId": "a6a6e4ec-98f4-46be-8608-67a0726aa348",
        "colab": {
          "base_uri": "https://localhost:8080/"
        }
      },
      "source": [
        "#По индексам можно выдергивать часть списка:\n",
        "print(a[2:4])\n",
        "print(a[5:])"
      ],
      "execution_count": 100,
      "outputs": [
        {
          "output_type": "stream",
          "name": "stdout",
          "text": [
            "[58, 23]\n",
            "[5, 4]\n"
          ]
        }
      ]
    },
    {
      "cell_type": "code",
      "metadata": {
        "id": "dpnW6h3-Os4x",
        "outputId": "6db8e064-bbee-43d8-d149-dfb84fe9dc5c",
        "colab": {
          "base_uri": "https://localhost:8080/",
          "height": 36
        }
      },
      "source": [
        "#Списки можно удобно склеивать в строки:\n",
        "' '.join(['1', '2', '3'])"
      ],
      "execution_count": 101,
      "outputs": [
        {
          "output_type": "execute_result",
          "data": {
            "text/plain": [
              "'1 2 3'"
            ],
            "application/vnd.google.colaboratory.intrinsic+json": {
              "type": "string"
            }
          },
          "metadata": {},
          "execution_count": 101
        }
      ]
    },
    {
      "cell_type": "code",
      "metadata": {
        "id": "ZD8VM-jdNMnW",
        "outputId": "7b488e46-bb38-4669-a32c-19a42635ac57",
        "colab": {
          "base_uri": "https://localhost:8080/"
        }
      },
      "source": [
        "#все операции, которые можно проводить над списками:\n",
        "print(dir(list))"
      ],
      "execution_count": 102,
      "outputs": [
        {
          "output_type": "stream",
          "name": "stdout",
          "text": [
            "['__add__', '__class__', '__class_getitem__', '__contains__', '__delattr__', '__delitem__', '__dir__', '__doc__', '__eq__', '__format__', '__ge__', '__getattribute__', '__getitem__', '__gt__', '__hash__', '__iadd__', '__imul__', '__init__', '__init_subclass__', '__iter__', '__le__', '__len__', '__lt__', '__mul__', '__ne__', '__new__', '__reduce__', '__reduce_ex__', '__repr__', '__reversed__', '__rmul__', '__setattr__', '__setitem__', '__sizeof__', '__str__', '__subclasshook__', 'append', 'clear', 'copy', 'count', 'extend', 'index', 'insert', 'pop', 'remove', 'reverse', 'sort']\n"
          ]
        }
      ]
    },
    {
      "cell_type": "code",
      "metadata": {
        "id": "ZxB3ZHzoP9au"
      },
      "source": [
        "#или посмотреть подсказку:\n",
        "a.sort(reverse=True)"
      ],
      "execution_count": 103,
      "outputs": []
    },
    {
      "cell_type": "code",
      "metadata": {
        "id": "h1O9CXiO_Y9M",
        "outputId": "edb5c452-a1ea-40f0-ff54-1e4ab1229e03",
        "colab": {
          "base_uri": "https://localhost:8080/"
        }
      },
      "source": [
        "a"
      ],
      "execution_count": 104,
      "outputs": [
        {
          "output_type": "execute_result",
          "data": {
            "text/plain": [
              "[213, 94, 58, 23, 6, 5, 4]"
            ]
          },
          "metadata": {},
          "execution_count": 104
        }
      ]
    },
    {
      "cell_type": "code",
      "metadata": {
        "id": "PYK3dLgyQFyy"
      },
      "source": [
        "#или загуглить :)\n",
        "# https://pythonworld.ru/tipy-dannyx-v-python/spiski-list-funkcii-i-metody-spiskov.html"
      ],
      "execution_count": 105,
      "outputs": []
    },
    {
      "cell_type": "markdown",
      "metadata": {
        "id": "vjbQPWnhQXaz"
      },
      "source": [
        "Задание #1. Соедините два списка s1 и s2 в один, а затем отсортируйте их от большего к меньшему"
      ]
    },
    {
      "cell_type": "code",
      "metadata": {
        "id": "TlOwrtZuQmu5"
      },
      "source": [
        "s1 = [3, 2, 41, 43, 2134]\n",
        "s2 = [1204, 214, -1, 124, 0]"
      ],
      "execution_count": 106,
      "outputs": []
    },
    {
      "cell_type": "code",
      "metadata": {
        "id": "4IMtF5OH_qyE",
        "outputId": "b33ad6f6-dee1-4aaa-b76e-8806f4516a6c",
        "colab": {
          "base_uri": "https://localhost:8080/"
        }
      },
      "source": [
        "sorted(s1 + s2, reverse=True)"
      ],
      "execution_count": 107,
      "outputs": [
        {
          "output_type": "execute_result",
          "data": {
            "text/plain": [
              "[2134, 1204, 214, 124, 43, 41, 3, 2, 0, -1]"
            ]
          },
          "metadata": {},
          "execution_count": 107
        }
      ]
    },
    {
      "cell_type": "code",
      "metadata": {
        "id": "iuXRXrPI_8je",
        "outputId": "34a9d310-dc5f-4d44-8bd5-5df2be2fe31f",
        "colab": {
          "base_uri": "https://localhost:8080/"
        }
      },
      "source": [
        "s = s1+s2\n",
        "(s).sort(reverse=True)\n",
        "s"
      ],
      "execution_count": 108,
      "outputs": [
        {
          "output_type": "execute_result",
          "data": {
            "text/plain": [
              "[2134, 1204, 214, 124, 43, 41, 3, 2, 0, -1]"
            ]
          },
          "metadata": {},
          "execution_count": 108
        }
      ]
    },
    {
      "cell_type": "markdown",
      "metadata": {
        "id": "83yCqu3oQ4KU"
      },
      "source": [
        "Задание #2. Разбейте текст на слова, а затем склейте снова в текст, заменив все пробелы на нижние подчеркивания."
      ]
    },
    {
      "cell_type": "code",
      "metadata": {
        "id": "PgMT9E2dRLC3"
      },
      "source": [
        "str1 = 'Факультет вычислительной математики и кибернетики (ВМК) Московского государственного университета имени М.В.Ломоносова является ведущим учебным центром России по подготовке кадров в области фундаментальных исследований по прикладной математике, вычислительной математике, информатике и программированию.'"
      ],
      "execution_count": 109,
      "outputs": []
    },
    {
      "cell_type": "code",
      "metadata": {
        "id": "VJl-UR3BAU84",
        "outputId": "f6865453-a743-4b2d-c505-cd43772c79c2",
        "colab": {
          "base_uri": "https://localhost:8080/",
          "height": 55
        }
      },
      "source": [
        "'_'.join(str1.split(' '))"
      ],
      "execution_count": 110,
      "outputs": [
        {
          "output_type": "execute_result",
          "data": {
            "text/plain": [
              "'Факультет_вычислительной_математики_и_кибернетики_(ВМК)_Московского_государственного_университета_имени_М.В.Ломоносова_является_ведущим_учебным_центром_России_по_подготовке_кадров_в_области_фундаментальных_исследований_по_прикладной_математике,_вычислительной_математике,_информатике_и_программированию.'"
            ],
            "application/vnd.google.colaboratory.intrinsic+json": {
              "type": "string"
            }
          },
          "metadata": {},
          "execution_count": 110
        }
      ]
    },
    {
      "cell_type": "markdown",
      "metadata": {
        "id": "SdHudEOqRQDH"
      },
      "source": [
        "Прежде чем пойти дальше - поговорим по том, как можно реализовать for и while в Python"
      ]
    },
    {
      "cell_type": "code",
      "metadata": {
        "id": "nSa7Dx-1QLeh",
        "outputId": "ca0ed02d-e7f1-451f-a199-e09dedbc9fbd",
        "colab": {
          "base_uri": "https://localhost:8080/"
        }
      },
      "source": [
        "s = ['group one', 'group two', 'group three']\n",
        "\n",
        "for i in s:\n",
        "  print(i)"
      ],
      "execution_count": 111,
      "outputs": [
        {
          "output_type": "stream",
          "name": "stdout",
          "text": [
            "group one\n",
            "group two\n",
            "group three\n"
          ]
        }
      ]
    },
    {
      "cell_type": "code",
      "metadata": {
        "id": "XoTD5Jc4SqDD",
        "outputId": "5150267c-e22d-4dfd-b2a4-515729e8df8c",
        "colab": {
          "base_uri": "https://localhost:8080/"
        }
      },
      "source": [
        "for i in ['group one', 'group two', 'group three']:\n",
        "  print(i)"
      ],
      "execution_count": 112,
      "outputs": [
        {
          "output_type": "stream",
          "name": "stdout",
          "text": [
            "group one\n",
            "group two\n",
            "group three\n"
          ]
        }
      ]
    },
    {
      "cell_type": "code",
      "metadata": {
        "id": "NrUwXGn7SsxA",
        "outputId": "3cfb709b-8020-4555-81e2-210cb9ef7d7d",
        "colab": {
          "base_uri": "https://localhost:8080/"
        }
      },
      "source": [
        "#Постоянно используемый итератор - range():\n",
        "for i in range(3, 7):\n",
        "  print(i)"
      ],
      "execution_count": 113,
      "outputs": [
        {
          "output_type": "stream",
          "name": "stdout",
          "text": [
            "3\n",
            "4\n",
            "5\n",
            "6\n"
          ]
        }
      ]
    },
    {
      "cell_type": "code",
      "metadata": {
        "id": "c6mXbM1ES4ER",
        "outputId": "d9741237-450b-4675-9194-3a768587a956",
        "colab": {
          "base_uri": "https://localhost:8080/"
        }
      },
      "source": [
        "for i in range(1, 15, 3):\n",
        "  print(i)"
      ],
      "execution_count": 114,
      "outputs": [
        {
          "output_type": "stream",
          "name": "stdout",
          "text": [
            "1\n",
            "4\n",
            "7\n",
            "10\n",
            "13\n"
          ]
        }
      ]
    },
    {
      "cell_type": "code",
      "metadata": {
        "id": "V5HJIk11S-C8",
        "outputId": "382ca184-55d7-4462-e43a-2fb51e19f765",
        "colab": {
          "base_uri": "https://localhost:8080/"
        }
      },
      "source": [
        "x = 10\n",
        "\n",
        "while x > 0:\n",
        "  print(x)\n",
        "  x -= 3"
      ],
      "execution_count": 115,
      "outputs": [
        {
          "output_type": "stream",
          "name": "stdout",
          "text": [
            "10\n",
            "7\n",
            "4\n",
            "1\n"
          ]
        }
      ]
    },
    {
      "cell_type": "code",
      "metadata": {
        "id": "VqOtB93QYxEG",
        "outputId": "df68a8dc-8d4f-4c3f-ca63-0b0ff9176016",
        "colab": {
          "base_uri": "https://localhost:8080/"
        }
      },
      "source": [
        "#Можно создавать списки с помощью циклов (но лучше это делать так, как приводилось ранее):\n",
        "\n",
        "x = []\n",
        "for i in range(1, 5):\n",
        "  x.append(i)\n",
        "\n",
        "print(x)"
      ],
      "execution_count": 116,
      "outputs": [
        {
          "output_type": "stream",
          "name": "stdout",
          "text": [
            "[1, 2, 3, 4]\n"
          ]
        }
      ]
    },
    {
      "cell_type": "markdown",
      "metadata": {
        "id": "0lODnKIVXrzl"
      },
      "source": [
        "Есть куча разных функций, которые позволяют реализовывать интересные штуки со списками:"
      ]
    },
    {
      "cell_type": "code",
      "metadata": {
        "id": "ItITD2AdXjGJ",
        "outputId": "10f8025d-fbf3-48f8-f39f-56dbc612c1e5",
        "colab": {
          "base_uri": "https://localhost:8080/"
        }
      },
      "source": [
        "first = 'a b c d e f g'.split(' ')\n",
        "second = '1 2 3 4 5 6 7'.split(' ')\n",
        "\n",
        "zip(first, second)"
      ],
      "execution_count": 117,
      "outputs": [
        {
          "output_type": "execute_result",
          "data": {
            "text/plain": [
              "<zip at 0x7d70724fb1c0>"
            ]
          },
          "metadata": {},
          "execution_count": 117
        }
      ]
    },
    {
      "cell_type": "code",
      "metadata": {
        "id": "oTeb-cJAXlud",
        "outputId": "a82d38f1-42e2-4816-ccaa-c25b6961b732",
        "colab": {
          "base_uri": "https://localhost:8080/"
        }
      },
      "source": [
        "list(zip(first, second))"
      ],
      "execution_count": 118,
      "outputs": [
        {
          "output_type": "execute_result",
          "data": {
            "text/plain": [
              "[('a', '1'),\n",
              " ('b', '2'),\n",
              " ('c', '3'),\n",
              " ('d', '4'),\n",
              " ('e', '5'),\n",
              " ('f', '6'),\n",
              " ('g', '7')]"
            ]
          },
          "metadata": {},
          "execution_count": 118
        }
      ]
    },
    {
      "cell_type": "code",
      "metadata": {
        "id": "18N_PuFoBblv",
        "outputId": "d18d76a4-86ae-4211-cc67-c436d39eb91e",
        "colab": {
          "base_uri": "https://localhost:8080/"
        }
      },
      "source": [
        "first = 'a b c d e f g'.split(' ')\n",
        "second = '1 2 3 4 5 6 7 8 9'.split(' ')\n",
        "\n",
        "zip(first, second)\n",
        "\n",
        "list(zip(first, second))"
      ],
      "execution_count": 119,
      "outputs": [
        {
          "output_type": "execute_result",
          "data": {
            "text/plain": [
              "[('a', '1'),\n",
              " ('b', '2'),\n",
              " ('c', '3'),\n",
              " ('d', '4'),\n",
              " ('e', '5'),\n",
              " ('f', '6'),\n",
              " ('g', '7')]"
            ]
          },
          "metadata": {},
          "execution_count": 119
        }
      ]
    },
    {
      "cell_type": "code",
      "metadata": {
        "id": "l4-gAAaGXpls",
        "outputId": "61f87ed6-b3b7-4ca3-f6ef-ce980325acca",
        "colab": {
          "base_uri": "https://localhost:8080/"
        }
      },
      "source": [
        "enum = enumerate(first)\n",
        "list(enum)"
      ],
      "execution_count": 120,
      "outputs": [
        {
          "output_type": "execute_result",
          "data": {
            "text/plain": [
              "[(0, 'a'), (1, 'b'), (2, 'c'), (3, 'd'), (4, 'e'), (5, 'f'), (6, 'g')]"
            ]
          },
          "metadata": {},
          "execution_count": 120
        }
      ]
    },
    {
      "cell_type": "markdown",
      "metadata": {
        "id": "ViWGvdS0ZDwo"
      },
      "source": [
        "Задание #3.\n",
        "Выведите строку, которая содержит в себе все числа от 1 до 30 через запятую. Стандартными циклами пользоваться нельзя (внутренними при создании цикла - можно)"
      ]
    },
    {
      "cell_type": "code",
      "metadata": {
        "id": "-UVYPUfAZSYu",
        "outputId": "a83ecfbe-8d4b-49fe-9309-1115fb09de1b",
        "colab": {
          "base_uri": "https://localhost:8080/",
          "height": 36
        }
      },
      "source": [
        "','.join([str(i) for i in range(1, 31)])\n"
      ],
      "execution_count": 121,
      "outputs": [
        {
          "output_type": "execute_result",
          "data": {
            "text/plain": [
              "'1,2,3,4,5,6,7,8,9,10,11,12,13,14,15,16,17,18,19,20,21,22,23,24,25,26,27,28,29,30'"
            ],
            "application/vnd.google.colaboratory.intrinsic+json": {
              "type": "string"
            }
          },
          "metadata": {},
          "execution_count": 121
        }
      ]
    },
    {
      "cell_type": "markdown",
      "metadata": {
        "id": "PtYM2AByZTMI"
      },
      "source": [
        "**set** - множества"
      ]
    },
    {
      "cell_type": "code",
      "metadata": {
        "id": "YKSOc3pZZ1O0",
        "outputId": "5edc85c1-2dd9-47c4-f3a3-da8aaa1f5f7d",
        "colab": {
          "base_uri": "https://localhost:8080/"
        }
      },
      "source": [
        "#множество в Python имеет весьма математический смысл - это некий контейнер без повторений:\n",
        "\n",
        "new_set = set()\n",
        "new_set.add(1)\n",
        "new_set.add(None)\n",
        "new_set.add(1)\n",
        "new_set.add('M')\n",
        "\n",
        "print(new_set)"
      ],
      "execution_count": 122,
      "outputs": [
        {
          "output_type": "stream",
          "name": "stdout",
          "text": [
            "{1, None, 'M'}\n"
          ]
        }
      ]
    },
    {
      "cell_type": "code",
      "metadata": {
        "id": "14BHpOu-bESM",
        "outputId": "55fad56d-01c6-47c0-b140-bb0197591ab0",
        "colab": {
          "base_uri": "https://localhost:8080/"
        }
      },
      "source": [
        "a = set([1, 2, 3, 4, 1, 2, 10])\n",
        "print(a)"
      ],
      "execution_count": 123,
      "outputs": [
        {
          "output_type": "stream",
          "name": "stdout",
          "text": [
            "{1, 2, 3, 4, 10}\n"
          ]
        }
      ]
    },
    {
      "cell_type": "code",
      "metadata": {
        "id": "x03X_fY83HKM",
        "outputId": "b2b72e7b-f1c6-445d-8355-a64f1a883a19",
        "colab": {
          "base_uri": "https://localhost:8080/"
        }
      },
      "source": [
        "a = set((1, 2, 3, 4, 5))\n",
        "print(a)"
      ],
      "execution_count": 124,
      "outputs": [
        {
          "output_type": "stream",
          "name": "stdout",
          "text": [
            "{1, 2, 3, 4, 5}\n"
          ]
        }
      ]
    },
    {
      "cell_type": "code",
      "metadata": {
        "id": "Uxp_NpSDao6W",
        "outputId": "c291af14-ae1c-4048-a392-8b2a42a53f76",
        "colab": {
          "base_uri": "https://localhost:8080/"
        }
      },
      "source": [
        "b = set('hello')\n",
        "print(b)"
      ],
      "execution_count": 125,
      "outputs": [
        {
          "output_type": "stream",
          "name": "stdout",
          "text": [
            "{'e', 'o', 'h', 'l'}\n"
          ]
        }
      ]
    },
    {
      "cell_type": "code",
      "metadata": {
        "id": "Vn6mDlUxaseA",
        "outputId": "2aacd8af-3d49-482c-bf34-3fd8655469e8",
        "colab": {
          "base_uri": "https://localhost:8080/",
          "height": 174
        }
      },
      "source": [
        "a + b"
      ],
      "execution_count": 126,
      "outputs": [
        {
          "output_type": "error",
          "ename": "TypeError",
          "evalue": "ignored",
          "traceback": [
            "\u001b[0;31m---------------------------------------------------------------------------\u001b[0m",
            "\u001b[0;31mTypeError\u001b[0m                                 Traceback (most recent call last)",
            "\u001b[0;32m<ipython-input-126-bd58363a63fc>\u001b[0m in \u001b[0;36m<cell line: 1>\u001b[0;34m()\u001b[0m\n\u001b[0;32m----> 1\u001b[0;31m \u001b[0ma\u001b[0m \u001b[0;34m+\u001b[0m \u001b[0mb\u001b[0m\u001b[0;34m\u001b[0m\u001b[0;34m\u001b[0m\u001b[0m\n\u001b[0m",
            "\u001b[0;31mTypeError\u001b[0m: unsupported operand type(s) for +: 'set' and 'set'"
          ]
        }
      ]
    },
    {
      "cell_type": "code",
      "metadata": {
        "id": "1DXN5oBFayk3",
        "outputId": "550b4b23-db1b-4d95-86a3-79135514ae85",
        "colab": {
          "base_uri": "https://localhost:8080/"
        }
      },
      "source": [
        "a.union(b)"
      ],
      "execution_count": 127,
      "outputs": [
        {
          "output_type": "execute_result",
          "data": {
            "text/plain": [
              "{1, 2, 3, 4, 5, 'e', 'h', 'l', 'o'}"
            ]
          },
          "metadata": {},
          "execution_count": 127
        }
      ]
    },
    {
      "cell_type": "code",
      "metadata": {
        "id": "SfHReQd0a3ha",
        "outputId": "77d32e74-6afe-46c2-e8a8-abd002cc6045",
        "colab": {
          "base_uri": "https://localhost:8080/"
        }
      },
      "source": [
        "{1, 2, 4, 10, 12}.union({2, 1, 2, 33})"
      ],
      "execution_count": 128,
      "outputs": [
        {
          "output_type": "execute_result",
          "data": {
            "text/plain": [
              "{1, 2, 4, 10, 12, 33}"
            ]
          },
          "metadata": {},
          "execution_count": 128
        }
      ]
    },
    {
      "cell_type": "code",
      "metadata": {
        "id": "M-GcRSppa-Df"
      },
      "source": [
        "s1 = set(range(0, 10))\n",
        "s2 = set(range(5, 15))"
      ],
      "execution_count": 129,
      "outputs": []
    },
    {
      "cell_type": "code",
      "metadata": {
        "id": "K3cinc9JbYNf",
        "outputId": "6ad0b34a-8605-42ce-93c8-c4948cb0f6bc",
        "colab": {
          "base_uri": "https://localhost:8080/"
        }
      },
      "source": [
        "s1.difference(s2)"
      ],
      "execution_count": 130,
      "outputs": [
        {
          "output_type": "execute_result",
          "data": {
            "text/plain": [
              "{0, 1, 2, 3, 4}"
            ]
          },
          "metadata": {},
          "execution_count": 130
        }
      ]
    },
    {
      "cell_type": "code",
      "metadata": {
        "id": "iE-4m3bZ2qYo",
        "outputId": "8aba8c2b-c622-4449-d444-4814162829a2",
        "colab": {
          "base_uri": "https://localhost:8080/"
        }
      },
      "source": [
        "s1 - s2"
      ],
      "execution_count": 131,
      "outputs": [
        {
          "output_type": "execute_result",
          "data": {
            "text/plain": [
              "{0, 1, 2, 3, 4}"
            ]
          },
          "metadata": {},
          "execution_count": 131
        }
      ]
    },
    {
      "cell_type": "code",
      "metadata": {
        "id": "oct_rQ__2wcR",
        "outputId": "5aa1eaa3-e89d-4de1-e56f-13cda14f1ddc",
        "colab": {
          "base_uri": "https://localhost:8080/"
        }
      },
      "source": [
        "s1 | s2"
      ],
      "execution_count": 132,
      "outputs": [
        {
          "output_type": "execute_result",
          "data": {
            "text/plain": [
              "{0, 1, 2, 3, 4, 5, 6, 7, 8, 9, 10, 11, 12, 13, 14}"
            ]
          },
          "metadata": {},
          "execution_count": 132
        }
      ]
    },
    {
      "cell_type": "code",
      "metadata": {
        "id": "b-Xv8t3U22_1",
        "outputId": "cc5096d7-db42-4e08-c6e2-0d7c336750d9",
        "colab": {
          "base_uri": "https://localhost:8080/"
        }
      },
      "source": [
        "s1 & s2"
      ],
      "execution_count": 133,
      "outputs": [
        {
          "output_type": "execute_result",
          "data": {
            "text/plain": [
              "{5, 6, 7, 8, 9}"
            ]
          },
          "metadata": {},
          "execution_count": 133
        }
      ]
    },
    {
      "cell_type": "code",
      "metadata": {
        "id": "-kyfcCqQ26bx",
        "outputId": "c0fc57d3-5d9f-49e4-a38f-01559d8fbb2b",
        "colab": {
          "base_uri": "https://localhost:8080/"
        }
      },
      "source": [
        "# simmetrics difference\n",
        "s1 ^ s2"
      ],
      "execution_count": 134,
      "outputs": [
        {
          "output_type": "execute_result",
          "data": {
            "text/plain": [
              "{0, 1, 2, 3, 4, 10, 11, 12, 13, 14}"
            ]
          },
          "metadata": {},
          "execution_count": 134
        }
      ]
    },
    {
      "cell_type": "code",
      "metadata": {
        "id": "wn2hjTpRCwFR",
        "outputId": "28764956-60c2-44ab-ba86-13ae4fd95ab0",
        "colab": {
          "base_uri": "https://localhost:8080/"
        }
      },
      "source": [
        "a | b"
      ],
      "execution_count": 135,
      "outputs": [
        {
          "output_type": "execute_result",
          "data": {
            "text/plain": [
              "{1, 2, 3, 4, 5, 'e', 'h', 'l', 'o'}"
            ]
          },
          "metadata": {},
          "execution_count": 135
        }
      ]
    },
    {
      "cell_type": "code",
      "metadata": {
        "id": "o8mCBdHWC3sY",
        "outputId": "1154d097-29ac-42e9-cb0a-5564071c4b43",
        "colab": {
          "base_uri": "https://localhost:8080/"
        }
      },
      "source": [
        "a.union(b)"
      ],
      "execution_count": 136,
      "outputs": [
        {
          "output_type": "execute_result",
          "data": {
            "text/plain": [
              "{1, 2, 3, 4, 5, 'e', 'h', 'l', 'o'}"
            ]
          },
          "metadata": {},
          "execution_count": 136
        }
      ]
    },
    {
      "cell_type": "code",
      "metadata": {
        "id": "4PSmlasUbb6b"
      },
      "source": [
        "# более подробно про множества:\n",
        "# https://pythonworld.ru/tipy-dannyx-v-python/mnozhestva-set-i-frozenset.html"
      ],
      "execution_count": 137,
      "outputs": []
    },
    {
      "cell_type": "markdown",
      "metadata": {
        "id": "TB0pXKasbf1N"
      },
      "source": [
        "**dict**\n"
      ]
    },
    {
      "cell_type": "code",
      "metadata": {
        "id": "NvWrc7ui3Rds",
        "outputId": "837471bd-4c71-4e55-cfa5-78511262d1bc",
        "colab": {
          "base_uri": "https://localhost:8080/"
        }
      },
      "source": [
        "d = {1: 'True', False: 0, 100: '001', 5: 25}\n",
        "d"
      ],
      "execution_count": 138,
      "outputs": [
        {
          "output_type": "execute_result",
          "data": {
            "text/plain": [
              "{1: 'True', False: 0, 100: '001', 5: 25}"
            ]
          },
          "metadata": {},
          "execution_count": 138
        }
      ]
    },
    {
      "cell_type": "code",
      "metadata": {
        "id": "tzna4ndVbrAW",
        "outputId": "7467ddef-bc49-457b-edb1-10dbe46330e9",
        "colab": {
          "base_uri": "https://localhost:8080/"
        }
      },
      "source": [
        "d = dict()\n",
        "d['one'] = 1\n",
        "d['two'] = 2\n",
        "\n",
        "d"
      ],
      "execution_count": 139,
      "outputs": [
        {
          "output_type": "execute_result",
          "data": {
            "text/plain": [
              "{'one': 1, 'two': 2}"
            ]
          },
          "metadata": {},
          "execution_count": 139
        }
      ]
    },
    {
      "cell_type": "code",
      "metadata": {
        "id": "ohUSp0jsb4CR",
        "outputId": "34c32116-c99b-4267-c212-bda842674222",
        "colab": {
          "base_uri": "https://localhost:8080/"
        }
      },
      "source": [
        "d['one']"
      ],
      "execution_count": 140,
      "outputs": [
        {
          "output_type": "execute_result",
          "data": {
            "text/plain": [
              "1"
            ]
          },
          "metadata": {},
          "execution_count": 140
        }
      ]
    },
    {
      "cell_type": "code",
      "metadata": {
        "id": "D3q2qcvKb8eD",
        "outputId": "8bb4412e-166f-490d-ca14-f0135bcb0b68",
        "colab": {
          "base_uri": "https://localhost:8080/"
        }
      },
      "source": [
        "d = dict([(10, 10), (20, 40)])\n",
        "d"
      ],
      "execution_count": 141,
      "outputs": [
        {
          "output_type": "execute_result",
          "data": {
            "text/plain": [
              "{10: 10, 20: 40}"
            ]
          },
          "metadata": {},
          "execution_count": 141
        }
      ]
    },
    {
      "cell_type": "code",
      "metadata": {
        "id": "EkABX597b9fi",
        "outputId": "0538804a-503a-4072-d20f-55d561caf18d",
        "colab": {
          "base_uri": "https://localhost:8080/"
        }
      },
      "source": [
        "d[10]"
      ],
      "execution_count": 142,
      "outputs": [
        {
          "output_type": "execute_result",
          "data": {
            "text/plain": [
              "10"
            ]
          },
          "metadata": {},
          "execution_count": 142
        }
      ]
    },
    {
      "cell_type": "code",
      "metadata": {
        "id": "m5Z1GDU3cBnx",
        "outputId": "cdfa3803-46aa-49d5-d468-3189cb09a0ce",
        "colab": {
          "base_uri": "https://localhost:8080/"
        }
      },
      "source": [
        "d[20]"
      ],
      "execution_count": 143,
      "outputs": [
        {
          "output_type": "execute_result",
          "data": {
            "text/plain": [
              "40"
            ]
          },
          "metadata": {},
          "execution_count": 143
        }
      ]
    },
    {
      "cell_type": "code",
      "metadata": {
        "id": "u3tV3P-8cG2P",
        "outputId": "74041c34-46da-4e30-f81c-bc70b91aae53",
        "colab": {
          "base_uri": "https://localhost:8080/"
        }
      },
      "source": [
        "d"
      ],
      "execution_count": 144,
      "outputs": [
        {
          "output_type": "execute_result",
          "data": {
            "text/plain": [
              "{10: 10, 20: 40}"
            ]
          },
          "metadata": {},
          "execution_count": 144
        }
      ]
    },
    {
      "cell_type": "code",
      "metadata": {
        "id": "ByD3wsPacIcm",
        "outputId": "bc5db55e-8dea-4232-b487-4a358e755687",
        "colab": {
          "base_uri": "https://localhost:8080/",
          "height": 174
        }
      },
      "source": [
        "d[1]"
      ],
      "execution_count": 145,
      "outputs": [
        {
          "output_type": "error",
          "ename": "KeyError",
          "evalue": "ignored",
          "traceback": [
            "\u001b[0;31m---------------------------------------------------------------------------\u001b[0m",
            "\u001b[0;31mKeyError\u001b[0m                                  Traceback (most recent call last)",
            "\u001b[0;32m<ipython-input-145-abe283337115>\u001b[0m in \u001b[0;36m<cell line: 1>\u001b[0;34m()\u001b[0m\n\u001b[0;32m----> 1\u001b[0;31m \u001b[0md\u001b[0m\u001b[0;34m[\u001b[0m\u001b[0;36m1\u001b[0m\u001b[0;34m]\u001b[0m\u001b[0;34m\u001b[0m\u001b[0;34m\u001b[0m\u001b[0m\n\u001b[0m",
            "\u001b[0;31mKeyError\u001b[0m: 1"
          ]
        }
      ]
    },
    {
      "cell_type": "code",
      "metadata": {
        "id": "6qA4_UtCcKcN",
        "outputId": "940b57da-9c27-46be-a3ae-cec56704b145",
        "colab": {
          "base_uri": "https://localhost:8080/"
        }
      },
      "source": [
        "d = dict.fromkeys(['a', 'b'], 100)\n",
        "d"
      ],
      "execution_count": 146,
      "outputs": [
        {
          "output_type": "execute_result",
          "data": {
            "text/plain": [
              "{'a': 100, 'b': 100}"
            ]
          },
          "metadata": {},
          "execution_count": 146
        }
      ]
    },
    {
      "cell_type": "code",
      "metadata": {
        "id": "CFYXbfPAcacF",
        "outputId": "6bd3c850-5d72-41d5-c7b9-8c9d5e48cf24",
        "colab": {
          "base_uri": "https://localhost:8080/"
        }
      },
      "source": [
        "d = {a: a ** 2 for a in range(7)}\n",
        "d"
      ],
      "execution_count": 147,
      "outputs": [
        {
          "output_type": "execute_result",
          "data": {
            "text/plain": [
              "{0: 0, 1: 1, 2: 4, 3: 9, 4: 16, 5: 25, 6: 36}"
            ]
          },
          "metadata": {},
          "execution_count": 147
        }
      ]
    },
    {
      "cell_type": "code",
      "metadata": {
        "id": "zclXE-3s3he8",
        "outputId": "5a73efcc-d5d2-4991-977d-1c0aabb1fb83",
        "colab": {
          "base_uri": "https://localhost:8080/"
        }
      },
      "source": [
        "d.items()"
      ],
      "execution_count": 148,
      "outputs": [
        {
          "output_type": "execute_result",
          "data": {
            "text/plain": [
              "dict_items([(0, 0), (1, 1), (2, 4), (3, 9), (4, 16), (5, 25), (6, 36)])"
            ]
          },
          "metadata": {},
          "execution_count": 148
        }
      ]
    },
    {
      "cell_type": "code",
      "metadata": {
        "id": "1-sx-nxg3pkA",
        "outputId": "e73788e4-6f4b-4e2c-f17b-52fcb40c61e9",
        "colab": {
          "base_uri": "https://localhost:8080/"
        }
      },
      "source": [
        "d.keys()"
      ],
      "execution_count": 149,
      "outputs": [
        {
          "output_type": "execute_result",
          "data": {
            "text/plain": [
              "dict_keys([0, 1, 2, 3, 4, 5, 6])"
            ]
          },
          "metadata": {},
          "execution_count": 149
        }
      ]
    },
    {
      "cell_type": "code",
      "metadata": {
        "id": "lg_iTxfX3rY4",
        "outputId": "e09a836f-f993-4a0a-8c03-ee85646b693d",
        "colab": {
          "base_uri": "https://localhost:8080/"
        }
      },
      "source": [
        "d.values()"
      ],
      "execution_count": 150,
      "outputs": [
        {
          "output_type": "execute_result",
          "data": {
            "text/plain": [
              "dict_values([0, 1, 4, 9, 16, 25, 36])"
            ]
          },
          "metadata": {},
          "execution_count": 150
        }
      ]
    },
    {
      "cell_type": "code",
      "metadata": {
        "id": "nbGLSh2T3yQZ",
        "outputId": "0d5e2fbf-7c2a-485d-c5f7-48fad77d598f",
        "colab": {
          "base_uri": "https://localhost:8080/"
        }
      },
      "source": [
        "#сортировка словаря по значениям\n",
        "import operator\n",
        "\n",
        "x = {1: 2, 3: 4, 4: 3, 2: 1, 50: 0}\n",
        "# по значению\n",
        "sorted(x.items(), key=operator.itemgetter(1))"
      ],
      "execution_count": 151,
      "outputs": [
        {
          "output_type": "execute_result",
          "data": {
            "text/plain": [
              "[(50, 0), (2, 1), (1, 2), (4, 3), (3, 4)]"
            ]
          },
          "metadata": {},
          "execution_count": 151
        }
      ]
    },
    {
      "cell_type": "code",
      "metadata": {
        "id": "XAZyO-Vk369V",
        "outputId": "c16671ce-b38a-470a-a9d6-6d74bd488e31",
        "colab": {
          "base_uri": "https://localhost:8080/"
        }
      },
      "source": [
        "#сортировка по ключам\n",
        "sorted(x.items(), key=operator.itemgetter(0))"
      ],
      "execution_count": 152,
      "outputs": [
        {
          "output_type": "execute_result",
          "data": {
            "text/plain": [
              "[(1, 2), (2, 1), (3, 4), (4, 3), (50, 0)]"
            ]
          },
          "metadata": {},
          "execution_count": 152
        }
      ]
    },
    {
      "cell_type": "code",
      "metadata": {
        "id": "VDPOShV24Abs",
        "outputId": "8b7c8e0e-9647-43ba-cde4-553b06f62ee2",
        "colab": {
          "base_uri": "https://localhost:8080/"
        }
      },
      "source": [
        "#словари могут быть вложенными\n",
        "person ={'person':\n",
        "                 {\n",
        "                  'body': {\n",
        "                          'gender': 'female',\n",
        "                          'head': {'hair':'black'},\n",
        "                          'skin':'coffee with milk'\n",
        "                          },\n",
        "                  'identity':{\n",
        "                          'county': 'Rus',\n",
        "                          'prof': 'manager'\n",
        "                  }\n",
        "                 }\n",
        "            }\n",
        "person"
      ],
      "execution_count": 153,
      "outputs": [
        {
          "output_type": "execute_result",
          "data": {
            "text/plain": [
              "{'person': {'body': {'gender': 'female',\n",
              "   'head': {'hair': 'black'},\n",
              "   'skin': 'coffee with milk'},\n",
              "  'identity': {'county': 'Rus', 'prof': 'manager'}}}"
            ]
          },
          "metadata": {},
          "execution_count": 153
        }
      ]
    },
    {
      "cell_type": "code",
      "metadata": {
        "id": "b9TTOWeEEDav"
      },
      "source": [],
      "execution_count": 153,
      "outputs": []
    },
    {
      "cell_type": "code",
      "metadata": {
        "id": "0UqjPSEg4HnE",
        "outputId": "7bb84fd9-8b79-4da0-cb7c-0de885531e60",
        "colab": {
          "base_uri": "https://localhost:8080/",
          "height": 36
        }
      },
      "source": [
        "person['person']['body']['gender']"
      ],
      "execution_count": 154,
      "outputs": [
        {
          "output_type": "execute_result",
          "data": {
            "text/plain": [
              "'female'"
            ],
            "application/vnd.google.colaboratory.intrinsic+json": {
              "type": "string"
            }
          },
          "metadata": {},
          "execution_count": 154
        }
      ]
    },
    {
      "cell_type": "code",
      "metadata": {
        "id": "d4F2H_Oqceqn"
      },
      "source": [
        "# более подробно про словари:\n",
        "# https://pythonworld.ru/tipy-dannyx-v-python/slovari-dict-funkcii-i-metody-slovarej.html"
      ],
      "execution_count": 155,
      "outputs": []
    },
    {
      "cell_type": "markdown",
      "metadata": {
        "id": "RbGZ87-7fNEV"
      },
      "source": [
        "#  Немного про функции"
      ]
    },
    {
      "cell_type": "code",
      "metadata": {
        "id": "Vb1PcJV7fS9k"
      },
      "source": [
        "def make_v (x, y, z = 10):\n",
        "  return x * 2 - y + z * 2"
      ],
      "execution_count": 156,
      "outputs": []
    },
    {
      "cell_type": "code",
      "metadata": {
        "id": "jIAjDPJ4fdyL",
        "outputId": "5f26a0ea-5abf-4547-9b39-34dc46642e64",
        "colab": {
          "base_uri": "https://localhost:8080/"
        }
      },
      "source": [
        "make_v(1, 2, 3)"
      ],
      "execution_count": 157,
      "outputs": [
        {
          "output_type": "execute_result",
          "data": {
            "text/plain": [
              "6"
            ]
          },
          "metadata": {},
          "execution_count": 157
        }
      ]
    },
    {
      "cell_type": "code",
      "metadata": {
        "id": "NTYUD2O2ffmF",
        "outputId": "4b4fd550-9d0c-4e6d-d904-634d0da93945",
        "colab": {
          "base_uri": "https://localhost:8080/"
        }
      },
      "source": [
        "make_v(1, 2)"
      ],
      "execution_count": 158,
      "outputs": [
        {
          "output_type": "execute_result",
          "data": {
            "text/plain": [
              "20"
            ]
          },
          "metadata": {},
          "execution_count": 158
        }
      ]
    },
    {
      "cell_type": "code",
      "metadata": {
        "id": "H-kvvB1afi0f",
        "outputId": "56029a54-ec93-48fe-e77b-af3760d2f415",
        "colab": {
          "base_uri": "https://localhost:8080/"
        }
      },
      "source": [
        "mult = lambda x, y: x * y\n",
        "mult(1, 2)"
      ],
      "execution_count": 159,
      "outputs": [
        {
          "output_type": "execute_result",
          "data": {
            "text/plain": [
              "2"
            ]
          },
          "metadata": {},
          "execution_count": 159
        }
      ]
    },
    {
      "cell_type": "code",
      "metadata": {
        "id": "GmePWZjTfu-b",
        "outputId": "db9a3e70-9141-4dbe-df63-085c59121b96",
        "colab": {
          "base_uri": "https://localhost:8080/"
        }
      },
      "source": [
        "#Функция EVAL выолняет код, переданный ей в виде строки\n",
        "x = 11\n",
        "eval('print(\"Больше чем 10\") if x > 10 else print(\"Меньше 10\")')"
      ],
      "execution_count": 160,
      "outputs": [
        {
          "output_type": "stream",
          "name": "stdout",
          "text": [
            "Больше чем 10\n"
          ]
        }
      ]
    },
    {
      "cell_type": "code",
      "metadata": {
        "id": "8jvGxKmA7knt",
        "outputId": "c809b705-76df-4458-e1ef-bbe64ebef61f",
        "colab": {
          "base_uri": "https://localhost:8080/"
        }
      },
      "source": [
        "#map(function, iterator) - итератор, получившийся после применения к каждому элементу последовательности функции function.\n",
        "\n",
        "def addition(n):\n",
        "    return n + n\n",
        "\n",
        "numbers = (1, 2, 3, 4)\n",
        "result = map(addition, numbers)\n",
        "print(list(result))"
      ],
      "execution_count": 161,
      "outputs": [
        {
          "output_type": "stream",
          "name": "stdout",
          "text": [
            "[2, 4, 6, 8]\n"
          ]
        }
      ]
    },
    {
      "cell_type": "code",
      "metadata": {
        "id": "PcPJJ4ZUea64",
        "colab": {
          "base_uri": "https://localhost:8080/",
          "height": 137
        },
        "outputId": "9b983fe5-7b7f-4455-81c8-4fb05219f24c"
      },
      "source": [
        "https://pythonworld.ru/tipy-dannyx-v-python/vse-o-funkciyax-i-ix-argumentax.html\n",
        "https://pythonworld.ru/osnovy/vstroennye-funkcii.html"
      ],
      "execution_count": 162,
      "outputs": [
        {
          "output_type": "error",
          "ename": "SyntaxError",
          "evalue": "ignored",
          "traceback": [
            "\u001b[0;36m  File \u001b[0;32m\"<ipython-input-162-d350e906b7c8>\"\u001b[0;36m, line \u001b[0;32m1\u001b[0m\n\u001b[0;31m    https://pythonworld.ru/tipy-dannyx-v-python/vse-o-funkciyax-i-ix-argumentax.html\u001b[0m\n\u001b[0m          ^\u001b[0m\n\u001b[0;31mSyntaxError\u001b[0m\u001b[0;31m:\u001b[0m invalid syntax\n"
          ]
        }
      ]
    },
    {
      "cell_type": "markdown",
      "metadata": {
        "id": "8fcbL5aR8ZiM"
      },
      "source": [
        "# Исключения\n"
      ]
    },
    {
      "cell_type": "code",
      "metadata": {
        "id": "WLYE3WWU8gP0",
        "outputId": "e6838885-563c-4ee7-fa71-a30718a96119",
        "colab": {
          "base_uri": "https://localhost:8080/",
          "height": 137
        }
      },
      "source": [
        "if 1>1 print(\"1\")"
      ],
      "execution_count": 163,
      "outputs": [
        {
          "output_type": "error",
          "ename": "SyntaxError",
          "evalue": "ignored",
          "traceback": [
            "\u001b[0;36m  File \u001b[0;32m\"<ipython-input-163-da68628ed894>\"\u001b[0;36m, line \u001b[0;32m1\u001b[0m\n\u001b[0;31m    if 1>1 print(\"1\")\u001b[0m\n\u001b[0m           ^\u001b[0m\n\u001b[0;31mSyntaxError\u001b[0m\u001b[0;31m:\u001b[0m invalid syntax\n"
          ]
        }
      ]
    },
    {
      "cell_type": "code",
      "metadata": {
        "id": "0rwu-8Jp8qbe",
        "outputId": "ead635b9-f67a-4524-e364-922f9d1b750a",
        "colab": {
          "base_uri": "https://localhost:8080/",
          "height": 174
        }
      },
      "source": [
        "print(1/0)"
      ],
      "execution_count": 164,
      "outputs": [
        {
          "output_type": "error",
          "ename": "ZeroDivisionError",
          "evalue": "ignored",
          "traceback": [
            "\u001b[0;31m---------------------------------------------------------------------------\u001b[0m",
            "\u001b[0;31mZeroDivisionError\u001b[0m                         Traceback (most recent call last)",
            "\u001b[0;32m<ipython-input-164-2fc232d1511a>\u001b[0m in \u001b[0;36m<cell line: 1>\u001b[0;34m()\u001b[0m\n\u001b[0;32m----> 1\u001b[0;31m \u001b[0mprint\u001b[0m\u001b[0;34m(\u001b[0m\u001b[0;36m1\u001b[0m\u001b[0;34m/\u001b[0m\u001b[0;36m0\u001b[0m\u001b[0;34m)\u001b[0m\u001b[0;34m\u001b[0m\u001b[0;34m\u001b[0m\u001b[0m\n\u001b[0m",
            "\u001b[0;31mZeroDivisionError\u001b[0m: division by zero"
          ]
        }
      ]
    },
    {
      "cell_type": "code",
      "metadata": {
        "id": "0hwpao4z8sAf"
      },
      "source": [
        "assert(1==2)"
      ],
      "execution_count": null,
      "outputs": []
    },
    {
      "cell_type": "code",
      "metadata": {
        "id": "MShIwA0j8tj-",
        "outputId": "2edd50f2-e6de-477d-ec36-232ca7706a83",
        "colab": {
          "base_uri": "https://localhost:8080/"
        }
      },
      "source": [
        "# Можно поймать ошибку и пропустить ее\n",
        "\n",
        "try:\n",
        "    1/0\n",
        "except:\n",
        "    print(1)"
      ],
      "execution_count": 165,
      "outputs": [
        {
          "output_type": "stream",
          "name": "stdout",
          "text": [
            "1\n"
          ]
        }
      ]
    },
    {
      "cell_type": "code",
      "metadata": {
        "id": "3PmvltEl80wI",
        "outputId": "9319fea4-aba9-4646-bf23-ea23649edad5",
        "colab": {
          "base_uri": "https://localhost:8080/"
        }
      },
      "source": [
        "# лучший выбор - многовариантный отлов ошибок\n",
        "try:\n",
        "    1/0\n",
        "except ZeroDivisionError:\n",
        "    print('Что-то с нулем')\n",
        "except SyntaxError:\n",
        "    print('Забыли двоеточкие?')"
      ],
      "execution_count": 166,
      "outputs": [
        {
          "output_type": "stream",
          "name": "stdout",
          "text": [
            "Что-то с нулем\n"
          ]
        }
      ]
    },
    {
      "cell_type": "code",
      "metadata": {
        "id": "j2Cuzut482F3",
        "outputId": "970b55a6-4ad7-4546-8a2d-07900a81d380",
        "colab": {
          "base_uri": "https://localhost:8080/"
        }
      },
      "source": [
        "# если поймали ошибку, хотите правильно завершить дейстиве?\n",
        "# вам понадобиться блок finally\n",
        "\n",
        "try:\n",
        "    1/0\n",
        "except ZeroDivisionError:\n",
        "    print('Что-то с нулем')\n",
        "except SyntaxError:\n",
        "    print('Забыли двоеточкие?')\n",
        "except:\n",
        "    print(\"Все другие ошибки\")\n",
        "finally:\n",
        "    print(\"Это будет писать всегда\")"
      ],
      "execution_count": 167,
      "outputs": [
        {
          "output_type": "stream",
          "name": "stdout",
          "text": [
            "Что-то с нулем\n",
            "Это будет писать всегда\n"
          ]
        }
      ]
    },
    {
      "cell_type": "code",
      "metadata": {
        "id": "vVqhLbbn8wZa",
        "outputId": "7078a001-983f-4aea-b2ef-a9792d7fb0e0",
        "colab": {
          "base_uri": "https://localhost:8080/",
          "height": 193
        }
      },
      "source": [
        "# Можем и сами создавать исключения:\n",
        "raise Exception"
      ],
      "execution_count": 168,
      "outputs": [
        {
          "output_type": "error",
          "ename": "Exception",
          "evalue": "ignored",
          "traceback": [
            "\u001b[0;31m---------------------------------------------------------------------------\u001b[0m",
            "\u001b[0;31mException\u001b[0m                                 Traceback (most recent call last)",
            "\u001b[0;32m<ipython-input-168-f1673b8530fd>\u001b[0m in \u001b[0;36m<cell line: 2>\u001b[0;34m()\u001b[0m\n\u001b[1;32m      1\u001b[0m \u001b[0;31m# Можем и сами создавать исключения:\u001b[0m\u001b[0;34m\u001b[0m\u001b[0;34m\u001b[0m\u001b[0m\n\u001b[0;32m----> 2\u001b[0;31m \u001b[0;32mraise\u001b[0m \u001b[0mException\u001b[0m\u001b[0;34m\u001b[0m\u001b[0;34m\u001b[0m\u001b[0m\n\u001b[0m",
            "\u001b[0;31mException\u001b[0m: "
          ]
        }
      ]
    },
    {
      "cell_type": "code",
      "metadata": {
        "id": "0un8H2SK9OyU",
        "outputId": "8da9ec53-9a7c-434f-fbb7-7c9ceda7b77e",
        "colab": {
          "base_uri": "https://localhost:8080/",
          "height": 174
        }
      },
      "source": [
        "raise TypeError('Тут можно писать что угодно')"
      ],
      "execution_count": 169,
      "outputs": [
        {
          "output_type": "error",
          "ename": "TypeError",
          "evalue": "ignored",
          "traceback": [
            "\u001b[0;31m---------------------------------------------------------------------------\u001b[0m",
            "\u001b[0;31mTypeError\u001b[0m                                 Traceback (most recent call last)",
            "\u001b[0;32m<ipython-input-169-fb2c189f7e82>\u001b[0m in \u001b[0;36m<cell line: 1>\u001b[0;34m()\u001b[0m\n\u001b[0;32m----> 1\u001b[0;31m \u001b[0;32mraise\u001b[0m \u001b[0mTypeError\u001b[0m\u001b[0;34m(\u001b[0m\u001b[0;34m'Тут можно писать что угодно'\u001b[0m\u001b[0;34m)\u001b[0m\u001b[0;34m\u001b[0m\u001b[0;34m\u001b[0m\u001b[0m\n\u001b[0m",
            "\u001b[0;31mTypeError\u001b[0m: Тут можно писать что угодно"
          ]
        }
      ]
    },
    {
      "cell_type": "code",
      "metadata": {
        "id": "N-STATGH9U0k",
        "outputId": "175f7ab7-627b-4feb-a376-1c3b8770667f",
        "colab": {
          "base_uri": "https://localhost:8080/",
          "height": 174
        }
      },
      "source": [
        "assert 1==2, 'Условние не верно'"
      ],
      "execution_count": 170,
      "outputs": [
        {
          "output_type": "error",
          "ename": "AssertionError",
          "evalue": "ignored",
          "traceback": [
            "\u001b[0;31m---------------------------------------------------------------------------\u001b[0m",
            "\u001b[0;31mAssertionError\u001b[0m                            Traceback (most recent call last)",
            "\u001b[0;32m<ipython-input-170-52c4d7dced69>\u001b[0m in \u001b[0;36m<cell line: 1>\u001b[0;34m()\u001b[0m\n\u001b[0;32m----> 1\u001b[0;31m \u001b[0;32massert\u001b[0m \u001b[0;36m1\u001b[0m\u001b[0;34m==\u001b[0m\u001b[0;36m2\u001b[0m\u001b[0;34m,\u001b[0m \u001b[0;34m'Условние не верно'\u001b[0m\u001b[0;34m\u001b[0m\u001b[0;34m\u001b[0m\u001b[0m\n\u001b[0m",
            "\u001b[0;31mAssertionError\u001b[0m: Условние не верно"
          ]
        }
      ]
    },
    {
      "cell_type": "markdown",
      "metadata": {
        "id": "7IfBZHN8eeGX"
      },
      "source": [
        "\n",
        "\n",
        "*   Самоучитель Python - https://pythonworld.ru/samouchitel-python\n",
        "*   Курс Python с нуля, можно выполнять задания в интерактивном режиме - http://pythontutor.ru/\n",
        "*   Игра, которая позволит прокачать навыки Python: https://py.checkio.org/\n",
        "\n",
        "\n",
        "\n"
      ]
    }
  ]
}