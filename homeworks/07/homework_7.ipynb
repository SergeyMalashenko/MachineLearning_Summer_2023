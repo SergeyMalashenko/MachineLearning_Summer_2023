{
 "cells": [
  {
   "cell_type": "markdown",
   "id": "f3c3e61d-9478-4a16-a358-4c3dc5393095",
   "metadata": {},
   "source": [
    "# Домашняя работа 7: Знакомство с набором данных MNIST. Построение модели KNeighborsClassifier"
   ]
  },
  {
   "cell_type": "markdown",
   "id": "719cc49f-297a-40eb-89f7-40b5d26a7cfb",
   "metadata": {},
   "source": [
    "### Основы API\n",
    "\n",
    "Чаще всего использование API Scikit-Learn Estimator происходит следующим образом:\n",
    "\n",
    "1. Выбирается класс модели, импортировав соответствующий класс из Scikit-Learn.\n",
    "2. Подбираем значения гиперпараметров модели, инстанцировав класс модели с нужными значениями параметров.\n",
    "3. Разделение данные на матрицу признаков и целевой вектор.\n",
    "4. Настройка модели посредством метода `fit` экземпляра модели.\n",
    "5. Применение модели к новым данным:\n",
    "   - Для `supervised learning` (обучение с учителем) мы предсказываем метки для неизвестных данных с помощью метода `predict`.\n",
    "   - Для `unsupervised learning` (обучение без учителя) мы преобразуем или оцениваем свойства примеров из набора данных с помощью методов `transform` или `predict`."
   ]
  },
  {
   "cell_type": "markdown",
   "id": "60af2570-8496-4ca4-bf59-43dec0995dac",
   "metadata": {},
   "source": [
    "Согласно вышеуказнной последовательность требуется выполнить следующее задание:\n",
    "\n",
    "    - Загрузить набор данных MNIST\n",
    "    - Исследовать его. Вывести разнообразные числовые характериcтики набора данных, а также визуализировать отдельные элементы данных.\n",
    "    - Разработать программный код, который позволит построить модель KNeighborsClassifier\n",
    "    - Вывести метрики Confusion Matrix, Precision, Recall\n",
    "    - Описать полученные результаты\n",
    "\n",
    "Бонус \n",
    "    На втором семинаре было дано введение в объектно-ориентированное программирование, попробуйте реализовать собственный класс модели. \n",
    "    Реализация должна поддерживать API Scikit-Learn, что позволит использовать возможности Scikit-Learn"
   ]
  },
  {
   "cell_type": "code",
   "execution_count": 1,
   "id": "662b23f3-4665-491e-a9e2-08533f5e35ea",
   "metadata": {},
   "outputs": [
    {
     "name": "stdout",
     "output_type": "stream",
     "text": [
      "(1797, 64)\n"
     ]
    }
   ],
   "source": [
    "from sklearn.datasets import load_digits\n",
    "\n",
    "digits = load_digits()\n",
    "print(digits.data.shape)"
   ]
  },
  {
   "cell_type": "code",
   "execution_count": null,
   "id": "25a3f192-bf0c-4360-800c-af6a67a19d07",
   "metadata": {},
   "outputs": [],
   "source": []
  }
 ],
 "metadata": {
  "kernelspec": {
   "display_name": "Python 3 (ipykernel)",
   "language": "python",
   "name": "python3"
  },
  "language_info": {
   "codemirror_mode": {
    "name": "ipython",
    "version": 3
   },
   "file_extension": ".py",
   "mimetype": "text/x-python",
   "name": "python",
   "nbconvert_exporter": "python",
   "pygments_lexer": "ipython3",
   "version": "3.8.16"
  }
 },
 "nbformat": 4,
 "nbformat_minor": 5
}
