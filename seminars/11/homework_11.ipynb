{
 "cells": [
  {
   "cell_type": "markdown",
   "id": "f3c3e61d-9478-4a16-a358-4c3dc5393095",
   "metadata": {},
   "source": [
    "# Семинар 11: Знакомство с набором данных MNIST. Построение модели KNeighborsClassifier"
   ]
  },
  {
   "cell_type": "markdown",
   "id": "719cc49f-297a-40eb-89f7-40b5d26a7cfb",
   "metadata": {},
   "source": [
    "### Основы API\n",
    "\n",
    "Чаще всего использование API Scikit-Learn Estimator происходит следующим образом:\n",
    "\n",
    "1. Выбирается класс модели, импортировав соответствующий класс из Scikit-Learn.\n",
    "2. Подбираем значения гиперпараметров модели, инстанцировав класс модели с нужными значениями параметров.\n",
    "3. Разделение данные на матрицу признаков и целевой вектор.\n",
    "4. Настройка модели посредством метода `fit` экземпляра модели.\n",
    "5. Применение модели к новым данным:\n",
    "   - Для `supervised learning` (обучение с учителем) мы предсказываем метки для неизвестных данных с помощью метода `predict`.\n",
    "   - Для `unsupervised learning` (обучение без учителя) мы преобразуем или оцениваем свойства примеров из набора данных с помощью методов `transform` или `predict`."
   ]
  },
  {
   "cell_type": "markdown",
   "id": "60af2570-8496-4ca4-bf59-43dec0995dac",
   "metadata": {},
   "source": [
    "Согласно вышеуказнной последовательность требуется выполнить следующее задание:\n",
    "\n",
    "1. Загрузить набор данных [MNIST]( http://yann.lecun.com/exdb/mnist/ )\n",
    "2. Исследовать его. Вывести разнообразные числовые характериcтики набора данных, а также визуализировать отдельные элементы данных.\n",
    "3. Разработать программный код, который позволит построить модель KNeighborsClassifier\n",
    "4. Вывести метрики Confusion Matrix, Precision, Recall\n",
    "5. Описать полученные результаты\n",
    "\n",
    "Бонус \n",
    "    На втором семинаре было дано введение в объектно-ориентированное программирование, попробуйте реализовать собственный класс модели. \n",
    "    Реализация должна поддерживать API Scikit-Learn, что позволит использовать возможности Scikit-Learn\n"
   ]
  },
  {
   "cell_type": "code",
   "execution_count": 1,
   "id": "662b23f3-4665-491e-a9e2-08533f5e35ea",
   "metadata": {},
   "outputs": [],
   "source": [
    "import numpy   as np\n",
    "import seaborn as sb\n",
    "import pandas  as pd\n",
    "\n",
    "import struct\n",
    "\n",
    "from sklearn.metrics import confusion_matrix, accuracy_score\n",
    "\n",
    "from array    import array\n",
    "from os.path  import join\n",
    "from tqdm     import tqdm\n",
    "\n",
    "#\n",
    "# MNIST Data Loader Class\n",
    "#\n",
    "class MnistDataloader(object):\n",
    "    def __init__(self, training_images_filepath,training_labels_filepath,\n",
    "                 test_images_filepath, test_labels_filepath):\n",
    "        self.training_images_filepath = training_images_filepath\n",
    "        self.training_labels_filepath = training_labels_filepath\n",
    "        self.test_images_filepath = test_images_filepath\n",
    "        self.test_labels_filepath = test_labels_filepath\n",
    "    \n",
    "    def read_images_labels(self, images_filepath, labels_filepath):        \n",
    "        labels = []\n",
    "        with open(labels_filepath, 'rb') as file:\n",
    "            magic, size = struct.unpack(\">II\", file.read(8))\n",
    "            if magic != 2049:\n",
    "                raise ValueError('Magic number mismatch, expected 2049, got {}'.format(magic))\n",
    "            labels = array(\"B\", file.read())        \n",
    "        \n",
    "        with open(images_filepath, 'rb') as file:\n",
    "            magic, size, rows, cols = struct.unpack(\">IIII\", file.read(16))\n",
    "            if magic != 2051:\n",
    "                raise ValueError('Magic number mismatch, expected 2051, got {}'.format(magic))\n",
    "            image_data = array(\"B\", file.read())        \n",
    "        images = []\n",
    "        for i in range(size):\n",
    "            images.append([0] * rows * cols)\n",
    "        for i in range(size):\n",
    "            img = np.array(image_data[i * rows * cols:(i + 1) * rows * cols])\n",
    "            img = img.reshape(28, 28)\n",
    "            images[i][:] = img            \n",
    "        \n",
    "        return images, labels\n",
    "            \n",
    "    def load_data(self):\n",
    "        x_train, y_train = self.read_images_labels(self.training_images_filepath, self.training_labels_filepath)\n",
    "        x_test, y_test = self.read_images_labels(self.test_images_filepath, self.test_labels_filepath)\n",
    "        return (x_train, y_train),(x_test, y_test) "
   ]
  },
  {
   "cell_type": "code",
   "execution_count": 2,
   "id": "25a3f192-bf0c-4360-800c-af6a67a19d07",
   "metadata": {},
   "outputs": [],
   "source": [
    "%matplotlib inline\n",
    "import matplotlib.pyplot as plt\n",
    "\n",
    "import random\n",
    "#\n",
    "# Set file paths based on added MNIST Datasets\n",
    "#\n",
    "input_path = 'input'\n",
    "training_images_filepath = join(input_path, 'train-images-idx3-ubyte')\n",
    "training_labels_filepath = join(input_path, 'train-labels-idx1-ubyte')\n",
    "test_images_filepath     = join(input_path, 't10k-images-idx3-ubyte')\n",
    "test_labels_filepath     = join(input_path, 't10k-labels-idx1-ubyte')\n",
    "\n",
    "mnist_dataloader = MnistDataloader(training_images_filepath, training_labels_filepath, test_images_filepath, test_labels_filepath)\n",
    "(x_train_list, y_train_list), (x_test_list, y_test_list) = mnist_dataloader.load_data()"
   ]
  },
  {
   "cell_type": "markdown",
   "id": "5b408866-a200-45eb-9805-80e97d602433",
   "metadata": {},
   "source": [
    "## Преобразуем данные в Numpy массивы"
   ]
  },
  {
   "cell_type": "code",
   "execution_count": 3,
   "id": "14644574-2f36-43a1-b6b7-8b47828bd62c",
   "metadata": {},
   "outputs": [],
   "source": [
    "x_train_numpy = np.array(x_train_list)\n",
    "y_train_numpy = np.array(y_train_list)\n",
    "x_test_numpy  = np.array(x_test_list )\n",
    "y_test_numpy  = np.array(y_test_list ) "
   ]
  },
  {
   "cell_type": "code",
   "execution_count": 4,
   "id": "a9046469-652d-408e-80a1-8fb72bbf343c",
   "metadata": {},
   "outputs": [
    {
     "name": "stdout",
     "output_type": "stream",
     "text": [
      "(60000, 28, 28)\n",
      "(60000,)\n",
      "(10000, 28, 28)\n",
      "(10000,)\n"
     ]
    }
   ],
   "source": [
    "print(x_train_numpy.shape)\n",
    "print(y_train_numpy.shape)\n",
    "print(x_test_numpy .shape)\n",
    "print(y_test_numpy .shape)"
   ]
  },
  {
   "cell_type": "code",
   "execution_count": 5,
   "id": "c98b9280-6145-45e8-99ed-1c50c76e5426",
   "metadata": {},
   "outputs": [],
   "source": [
    "#from scipy.ndimage import zoom\n",
    "#x_train_numpy = np.array([ zoom(x, (0.25, 0.25)) for x in x_train_numpy ] )\n",
    "#x_test_numpy  = np.array([ zoom(x, (0.25, 0.25)) for x in x_test_numpy  ] )"
   ]
  },
  {
   "cell_type": "code",
   "execution_count": 6,
   "id": "f42feaf4-2ca6-4dad-a1a6-bada38f3fdad",
   "metadata": {},
   "outputs": [
    {
     "name": "stdout",
     "output_type": "stream",
     "text": [
      "(6000, 28, 28)\n",
      "(6000,)\n"
     ]
    }
   ],
   "source": [
    "seq = np.random.randint(0,60000,6000)\n",
    "x_train_numpy = x_train_numpy[seq]\n",
    "y_train_numpy = y_train_numpy[seq]\n",
    "\n",
    "print( x_train_numpy.shape )\n",
    "print( y_train_numpy.shape )"
   ]
  },
  {
   "cell_type": "code",
   "execution_count": 7,
   "id": "f91a4a61-1cc7-47d2-8530-34e1563c9e6f",
   "metadata": {},
   "outputs": [],
   "source": [
    "x_train_numpy = x_train_numpy.reshape(x_train_numpy.shape[0], -1)\n",
    "y_train_numpy = y_train_numpy.reshape(-1)\n",
    "x_test_numpy  = x_test_numpy .reshape(x_test_numpy .shape[0], -1)\n",
    "y_test_numpy  = y_test_numpy .reshape(-1)"
   ]
  },
  {
   "cell_type": "code",
   "execution_count": 8,
   "id": "9e55239a-8d0b-4c7b-86bb-8a6e675f2bea",
   "metadata": {},
   "outputs": [
    {
     "name": "stdout",
     "output_type": "stream",
     "text": [
      "(6000, 784)\n",
      "(6000,)\n",
      "(10000, 784)\n",
      "(10000,)\n"
     ]
    }
   ],
   "source": [
    "print(x_train_numpy.shape)\n",
    "print(y_train_numpy.shape)\n",
    "print(x_test_numpy .shape)\n",
    "print(y_test_numpy .shape)"
   ]
  },
  {
   "cell_type": "code",
   "execution_count": 9,
   "id": "f5ea3ad6-f2b7-4e29-b204-c4a1f3b7e2bc",
   "metadata": {},
   "outputs": [
    {
     "data": {
      "image/png": "[encoded data removed]",
      "text/plain": [
       "<Figure size 720x288 with 2 Axes>"
      ]
     },
     "metadata": {
      "needs_background": "light"
     },
     "output_type": "display_data"
    }
   ],
   "source": [
    "fig, ax = plt.subplots(1,2, figsize=(10,4))\n",
    "ax[0].hist(y_train_numpy)\n",
    "ax[1].hist(y_test_numpy)\n",
    "plt.show()"
   ]
  },
  {
   "cell_type": "markdown",
   "id": "99e46104-4acb-46a8-b2bc-946309046f41",
   "metadata": {},
   "source": [
    "## Модель sklearn.neighbors.KNeighborsClassifier"
   ]
  },
  {
   "cell_type": "code",
   "execution_count": 10,
   "id": "16315ab4-dbe6-4d8c-bf64-88030e1001ac",
   "metadata": {},
   "outputs": [],
   "source": [
    "from sklearn.neighbors import KNeighborsClassifier"
   ]
  },
  {
   "cell_type": "code",
   "execution_count": 11,
   "id": "ec78990d-cc61-47c0-b15e-8bd67d26ca68",
   "metadata": {},
   "outputs": [
    {
     "name": "stdout",
     "output_type": "stream",
     "text": [
      "[0.93916667 0.9275     0.94083333 0.93916667 0.92666667]\n",
      "0.9346666666666668\n"
     ]
    }
   ],
   "source": [
    "from sklearn.model_selection import cross_val_score\n",
    "from sklearn.model_selection import GridSearchCV\n",
    "\n",
    "knn = KNeighborsClassifier(n_neighbors = 5)\n",
    "scores = cross_val_score(knn, x_train_numpy, y_train_numpy, cv=5, scoring='accuracy') \n",
    "print(scores)\n",
    "print(scores.mean())"
   ]
  },
  {
   "cell_type": "code",
   "execution_count": 12,
   "id": "56055089-b081-443f-a795-7f63dddb26d7",
   "metadata": {},
   "outputs": [
    {
     "name": "stdout",
     "output_type": "stream",
     "text": [
      "Fitting 5 folds for each of 4 candidates, totalling 20 fits\n"
     ]
    }
   ],
   "source": [
    "from sklearn.model_selection import GridSearchCV\n",
    "\n",
    "knn = KNeighborsClassifier()\n",
    "param_grid = dict(n_neighbors = list(range(4, 6)), weights = ['uniform', 'distance' ] )\n",
    "\n",
    "grid = GridSearchCV(knn, param_grid, cv=5, scoring='accuracy', return_train_score=False,verbose=1)\n",
    "grid_search=grid.fit(x_train_numpy, y_train_numpy)"
   ]
  },
  {
   "cell_type": "code",
   "execution_count": 13,
   "id": "a68f8358-d50b-464e-9c9c-ee2ed7e8e658",
   "metadata": {},
   "outputs": [
    {
     "data": {
      "text/plain": [
       "{'n_neighbors': 4, 'weights': 'distance'}"
      ]
     },
     "execution_count": 13,
     "metadata": {},
     "output_type": "execute_result"
    }
   ],
   "source": [
    "grid_search.best_params_"
   ]
  },
  {
   "cell_type": "code",
   "execution_count": 14,
   "id": "036c038e-f3d4-4cc9-851b-6d9c681ab0f7",
   "metadata": {},
   "outputs": [],
   "source": [
    "y_pred_numpy = grid_search.best_estimator_.predict(x_test_numpy)"
   ]
  },
  {
   "cell_type": "code",
   "execution_count": 15,
   "id": "c9324738-871a-458e-ab7e-8e0919191823",
   "metadata": {},
   "outputs": [
    {
     "data": {
      "text/plain": [
       "0.9423"
      ]
     },
     "execution_count": 15,
     "metadata": {},
     "output_type": "execute_result"
    }
   ],
   "source": [
    "accuracy_score(y_test_numpy, y_pred_numpy)"
   ]
  },
  {
   "cell_type": "code",
   "execution_count": 16,
   "id": "88c3aef8-cf61-47fa-a49c-dd8dad5eccf9",
   "metadata": {},
   "outputs": [
    {
     "data": {
      "image/png": "[encoded data removed]",
      "text/plain": [
       "<Figure size 720x432 with 2 Axes>"
      ]
     },
     "metadata": {
      "needs_background": "light"
     },
     "output_type": "display_data"
    }
   ],
   "source": [
    "cm = confusion_matrix(y_test_numpy, y_pred_numpy)\n",
    "plt.subplots(figsize=(10, 6))\n",
    "sb.heatmap(cm, annot = True, fmt = 'g')\n",
    "plt.xlabel(\"Predicted\")\n",
    "plt.ylabel(\"Actual\")\n",
    "plt.title(\"Confusion Matrix\")\n",
    "plt.show()"
   ]
  },
  {
   "cell_type": "markdown",
   "id": "e37cd800-28d3-4b9f-a192-0d899865f377",
   "metadata": {},
   "source": [
    "### Можно ли процесс оптимизировать?"
   ]
  },
  {
   "cell_type": "code",
   "execution_count": 17,
   "id": "cfc1989e-98a0-4d9c-a0b5-bd9b4562ffae",
   "metadata": {},
   "outputs": [
    {
     "name": "stdout",
     "output_type": "stream",
     "text": [
      "n_neighbors=3, weights=uniform, 0.9387\n",
      "n_neighbors=3, weights=distance, 0.9409\n",
      "n_neighbors=4, weights=uniform, 0.9368\n",
      "n_neighbors=4, weights=distance, 0.9423\n",
      "n_neighbors=5, weights=uniform, 0.9384\n",
      "n_neighbors=5, weights=distance, 0.9411\n"
     ]
    }
   ],
   "source": [
    "knn = KNeighborsClassifier()\n",
    "knn.fit(x_train_numpy, y_train_numpy)\n",
    "\n",
    "param_grid = dict(n_neighbors = list(range(3, 6)), weights = ['uniform', 'distance' ] )\n",
    "\n",
    "for n_neighbors in param_grid['n_neighbors'] :\n",
    "    for weights in param_grid['weights'] :\n",
    "        knn.n_neighbors = n_neighbors\n",
    "        knn.weights     = weights\n",
    "        \n",
    "        y_pred_numpy = knn.predict(x_test_numpy)\n",
    "        \n",
    "        print( f'n_neighbors={n_neighbors}, weights={weights}, {accuracy_score(y_test_numpy, y_pred_numpy)}' )"
   ]
  },
  {
   "cell_type": "code",
   "execution_count": 18,
   "id": "b8058678-ca1f-4871-ae91-20fd85429691",
   "metadata": {},
   "outputs": [
    {
     "data": {
      "text/plain": [
       "0.9409"
      ]
     },
     "execution_count": 18,
     "metadata": {},
     "output_type": "execute_result"
    }
   ],
   "source": [
    "knn.n_neighbors = 3\n",
    "knn.weights     = 'distance'\n",
    "\n",
    "y_pred_numpy = knn.predict(x_test_numpy)\n",
    "accuracy_score(y_test_numpy, y_pred_numpy)"
   ]
  },
  {
   "cell_type": "code",
   "execution_count": 19,
   "id": "a1822cdf-40dd-464c-9b68-21258703a8a1",
   "metadata": {},
   "outputs": [
    {
     "data": {
      "image/png": "[encoded data removed]",
      "text/plain": [
       "<Figure size 720x432 with 2 Axes>"
      ]
     },
     "metadata": {
      "needs_background": "light"
     },
     "output_type": "display_data"
    }
   ],
   "source": [
    "cm = confusion_matrix(y_test_numpy, y_pred_numpy)\n",
    "plt.subplots(figsize=(10, 6))\n",
    "sb.heatmap(cm, annot = True, fmt = 'g')\n",
    "plt.xlabel(\"Predicted\")\n",
    "plt.ylabel(\"Actual\")\n",
    "plt.title(\"Confusion Matrix\")\n",
    "plt.show()"
   ]
  },
  {
   "cell_type": "markdown",
   "id": "68671cab-9a9c-414d-9a8c-4e42f31d0ddd",
   "metadata": {},
   "source": [
    "## Модель sklearn.svm.LinearSVC"
   ]
  },
  {
   "cell_type": "code",
   "execution_count": 20,
   "id": "b3f45664-c78e-4498-afc1-581a62804995",
   "metadata": {},
   "outputs": [
    {
     "name": "stderr",
     "output_type": "stream",
     "text": [
      "/home/sergey/anaconda3/envs/work/lib/python3.8/site-packages/sklearn/svm/_base.py:1244: ConvergenceWarning: Liblinear failed to converge, increase the number of iterations.\n",
      "  warnings.warn(\n"
     ]
    },
    {
     "data": {
      "text/html": [
       "<style>#sk-container-id-1 {color: black;background-color: white;}#sk-container-id-1 pre{padding: 0;}#sk-container-id-1 div.sk-toggleable {background-color: white;}#sk-container-id-1 label.sk-toggleable__label {cursor: pointer;display: block;width: 100%;margin-bottom: 0;padding: 0.3em;box-sizing: border-box;text-align: center;}#sk-container-id-1 label.sk-toggleable__label-arrow:before {content: \"▸\";float: left;margin-right: 0.25em;color: #696969;}#sk-container-id-1 label.sk-toggleable__label-arrow:hover:before {color: black;}#sk-container-id-1 div.sk-estimator:hover label.sk-toggleable__label-arrow:before {color: black;}#sk-container-id-1 div.sk-toggleable__content {max-height: 0;max-width: 0;overflow: hidden;text-align: left;background-color: #f0f8ff;}#sk-container-id-1 div.sk-toggleable__content pre {margin: 0.2em;color: black;border-radius: 0.25em;background-color: #f0f8ff;}#sk-container-id-1 input.sk-toggleable__control:checked~div.sk-toggleable__content {max-height: 200px;max-width: 100%;overflow: auto;}#sk-container-id-1 input.sk-toggleable__control:checked~label.sk-toggleable__label-arrow:before {content: \"▾\";}#sk-container-id-1 div.sk-estimator input.sk-toggleable__control:checked~label.sk-toggleable__label {background-color: #d4ebff;}#sk-container-id-1 div.sk-label input.sk-toggleable__control:checked~label.sk-toggleable__label {background-color: #d4ebff;}#sk-container-id-1 input.sk-hidden--visually {border: 0;clip: rect(1px 1px 1px 1px);clip: rect(1px, 1px, 1px, 1px);height: 1px;margin: -1px;overflow: hidden;padding: 0;position: absolute;width: 1px;}#sk-container-id-1 div.sk-estimator {font-family: monospace;background-color: #f0f8ff;border: 1px dotted black;border-radius: 0.25em;box-sizing: border-box;margin-bottom: 0.5em;}#sk-container-id-1 div.sk-estimator:hover {background-color: #d4ebff;}#sk-container-id-1 div.sk-parallel-item::after {content: \"\";width: 100%;border-bottom: 1px solid gray;flex-grow: 1;}#sk-container-id-1 div.sk-label:hover label.sk-toggleable__label {background-color: #d4ebff;}#sk-container-id-1 div.sk-serial::before {content: \"\";position: absolute;border-left: 1px solid gray;box-sizing: border-box;top: 0;bottom: 0;left: 50%;z-index: 0;}#sk-container-id-1 div.sk-serial {display: flex;flex-direction: column;align-items: center;background-color: white;padding-right: 0.2em;padding-left: 0.2em;position: relative;}#sk-container-id-1 div.sk-item {position: relative;z-index: 1;}#sk-container-id-1 div.sk-parallel {display: flex;align-items: stretch;justify-content: center;background-color: white;position: relative;}#sk-container-id-1 div.sk-item::before, #sk-container-id-1 div.sk-parallel-item::before {content: \"\";position: absolute;border-left: 1px solid gray;box-sizing: border-box;top: 0;bottom: 0;left: 50%;z-index: -1;}#sk-container-id-1 div.sk-parallel-item {display: flex;flex-direction: column;z-index: 1;position: relative;background-color: white;}#sk-container-id-1 div.sk-parallel-item:first-child::after {align-self: flex-end;width: 50%;}#sk-container-id-1 div.sk-parallel-item:last-child::after {align-self: flex-start;width: 50%;}#sk-container-id-1 div.sk-parallel-item:only-child::after {width: 0;}#sk-container-id-1 div.sk-dashed-wrapped {border: 1px dashed gray;margin: 0 0.4em 0.5em 0.4em;box-sizing: border-box;padding-bottom: 0.4em;background-color: white;}#sk-container-id-1 div.sk-label label {font-family: monospace;font-weight: bold;display: inline-block;line-height: 1.2em;}#sk-container-id-1 div.sk-label-container {text-align: center;}#sk-container-id-1 div.sk-container {/* jupyter's `normalize.less` sets `[hidden] { display: none; }` but bootstrap.min.css set `[hidden] { display: none !important; }` so we also need the `!important` here to be able to override the default hidden behavior on the sphinx rendered scikit-learn.org. See: https://github.com/scikit-learn/scikit-learn/issues/21755 */display: inline-block !important;position: relative;}#sk-container-id-1 div.sk-text-repr-fallback {display: none;}</style><div id=\"sk-container-id-1\" class=\"sk-top-container\"><div class=\"sk-text-repr-fallback\"><pre>LinearSVC(dual=False)</pre><b>In a Jupyter environment, please rerun this cell to show the HTML representation or trust the notebook. <br />On GitHub, the HTML representation is unable to render, please try loading this page with nbviewer.org.</b></div><div class=\"sk-container\" hidden><div class=\"sk-item\"><div class=\"sk-estimator sk-toggleable\"><input class=\"sk-toggleable__control sk-hidden--visually\" id=\"sk-estimator-id-1\" type=\"checkbox\" checked><label for=\"sk-estimator-id-1\" class=\"sk-toggleable__label sk-toggleable__label-arrow\">LinearSVC</label><div class=\"sk-toggleable__content\"><pre>LinearSVC(dual=False)</pre></div></div></div></div></div>"
      ],
      "text/plain": [
       "LinearSVC(dual=False)"
      ]
     },
     "execution_count": 20,
     "metadata": {},
     "output_type": "execute_result"
    }
   ],
   "source": [
    "from sklearn.svm import LinearSVC\n",
    "\n",
    "svm = LinearSVC(dual=False)\n",
    "svm.fit(x_train_numpy, y_train_numpy)"
   ]
  },
  {
   "cell_type": "code",
   "execution_count": 21,
   "id": "4f026e55-062f-4989-8d5e-b91ff3a7f659",
   "metadata": {},
   "outputs": [],
   "source": [
    "y_pred_numpy = svm.predict(x_test_numpy)"
   ]
  },
  {
   "cell_type": "code",
   "execution_count": 22,
   "id": "cc7dd19e-8064-4513-8125-5ae855220c36",
   "metadata": {},
   "outputs": [
    {
     "data": {
      "text/plain": [
       "0.8189"
      ]
     },
     "execution_count": 22,
     "metadata": {},
     "output_type": "execute_result"
    }
   ],
   "source": [
    "accuracy_score(y_test_numpy, y_pred_numpy)"
   ]
  },
  {
   "cell_type": "code",
   "execution_count": 23,
   "id": "4274870e-cf3d-417d-80f3-8469b94c451e",
   "metadata": {},
   "outputs": [
    {
     "name": "stderr",
     "output_type": "stream",
     "text": [
      "2it [00:24, 13.66s/it]/home/sergey/anaconda3/envs/work/lib/python3.8/site-packages/sklearn/svm/_base.py:1244: ConvergenceWarning: Liblinear failed to converge, increase the number of iterations.\n",
      "  warnings.warn(\n",
      "3it [01:11, 28.97s/it]/home/sergey/anaconda3/envs/work/lib/python3.8/site-packages/sklearn/svm/_base.py:1244: ConvergenceWarning: Liblinear failed to converge, increase the number of iterations.\n",
      "  warnings.warn(\n",
      "4it [01:51, 33.23s/it]/home/sergey/anaconda3/envs/work/lib/python3.8/site-packages/sklearn/svm/_base.py:1244: ConvergenceWarning: Liblinear failed to converge, increase the number of iterations.\n",
      "  warnings.warn(\n",
      "5it [02:26, 33.72s/it]/home/sergey/anaconda3/envs/work/lib/python3.8/site-packages/sklearn/svm/_base.py:1244: ConvergenceWarning: Liblinear failed to converge, increase the number of iterations.\n",
      "  warnings.warn(\n",
      "6it [02:57, 32.87s/it]/home/sergey/anaconda3/envs/work/lib/python3.8/site-packages/sklearn/svm/_base.py:1244: ConvergenceWarning: Liblinear failed to converge, increase the number of iterations.\n",
      "  warnings.warn(\n",
      "7it [03:26, 31.77s/it]/home/sergey/anaconda3/envs/work/lib/python3.8/site-packages/sklearn/svm/_base.py:1244: ConvergenceWarning: Liblinear failed to converge, increase the number of iterations.\n",
      "  warnings.warn(\n",
      "8it [03:57, 31.44s/it]/home/sergey/anaconda3/envs/work/lib/python3.8/site-packages/sklearn/svm/_base.py:1244: ConvergenceWarning: Liblinear failed to converge, increase the number of iterations.\n",
      "  warnings.warn(\n",
      "9it [04:31, 30.21s/it]\n"
     ]
    }
   ],
   "source": [
    "C_s = [0.0001,0.001,0.01,0.1,1,10,100,1000,10000]\n",
    "\n",
    "result_df = pd.DataFrame(columns = ['C','train_accuracy', 'test_accuracy'])\n",
    "\n",
    "for i, c in tqdm(enumerate(C_s)):\n",
    "    svm = LinearSVC(dual=False, C=c)\n",
    "    svm.fit(x_train_numpy, y_train_numpy)\n",
    "        \n",
    "    y_pred_numpy   = svm.predict(x_train_numpy)\n",
    "    train_accuracy = accuracy_score(y_train_numpy, y_pred_numpy)\n",
    "    y_pred_numpy   = svm.predict(x_test_numpy)\n",
    "    test_accuracy  = accuracy_score(y_test_numpy , y_pred_numpy)\n",
    "    \n",
    "    result_df.loc[i] =[ c, train_accuracy, test_accuracy ]"
   ]
  },
  {
   "cell_type": "markdown",
   "id": "b5712684-b7a6-4db0-9fd4-8d383821f5cb",
   "metadata": {},
   "source": [
    "На графике хорошо виден компромисс между смещением и дисперсией. С увеличением `C` точность обучения растет, как и точность тестирования, но только до `C=1`, после чего мы видим перебор. Начиная с `C=10` и до `1000` мы видим, что модель перестраивается, и мы видим низкую погрешность и высокую дисперсию.\n",
    "Таким образом, по мере продвижения слева направо: Bias уменьшается, а Variance увеличивается."
   ]
  },
  {
   "cell_type": "code",
   "execution_count": 24,
   "id": "0f68dbd4-afeb-4c2a-9b8c-f193aeed9acd",
   "metadata": {},
   "outputs": [
    {
     "data": {
      "image/png": "[encoded data removed]",
      "text/plain": [
       "<Figure size 720x360 with 1 Axes>"
      ]
     },
     "metadata": {
      "needs_background": "light"
     },
     "output_type": "display_data"
    }
   ],
   "source": [
    "plt.subplots(figsize=(10, 5))\n",
    "plt.semilogx(result_df['C'].values, result_df['test_accuracy' ].values, color='red' , label=\"Testing Accuracy\")\n",
    "plt.semilogx(result_df['C'].values, result_df['train_accuracy'].values, color='blue', label=\"Training Accuracy\")\n",
    "plt.grid(True)\n",
    "plt.xlabel(\"Cost Parameter C\")\n",
    "plt.ylabel(\"Accuracy\")\n",
    "plt.legend()\n",
    "plt.title('Accuracy versus the Cost Parameter C (log-scale)')\n",
    "plt.xticks(C_s)\n",
    "plt.show()"
   ]
  },
  {
   "cell_type": "markdown",
   "id": "3b3941e3-3f14-4725-b216-7cd9d3af88d7",
   "metadata": {},
   "source": [
    "### Linear SVC + L1"
   ]
  },
  {
   "cell_type": "code",
   "execution_count": 25,
   "id": "55216c85-9b7d-40e6-8d75-60c034e21d25",
   "metadata": {},
   "outputs": [
    {
     "name": "stderr",
     "output_type": "stream",
     "text": [
      "2it [00:39, 21.67s/it]/home/sergey/anaconda3/envs/work/lib/python3.8/site-packages/sklearn/svm/_base.py:1244: ConvergenceWarning: Liblinear failed to converge, increase the number of iterations.\n",
      "  warnings.warn(\n",
      "3it [01:30, 35.03s/it]/home/sergey/anaconda3/envs/work/lib/python3.8/site-packages/sklearn/svm/_base.py:1244: ConvergenceWarning: Liblinear failed to converge, increase the number of iterations.\n",
      "  warnings.warn(\n",
      "4it [02:19, 40.30s/it]/home/sergey/anaconda3/envs/work/lib/python3.8/site-packages/sklearn/svm/_base.py:1244: ConvergenceWarning: Liblinear failed to converge, increase the number of iterations.\n",
      "  warnings.warn(\n",
      "5it [03:02, 41.42s/it]/home/sergey/anaconda3/envs/work/lib/python3.8/site-packages/sklearn/svm/_base.py:1244: ConvergenceWarning: Liblinear failed to converge, increase the number of iterations.\n",
      "  warnings.warn(\n",
      "6it [04:18, 53.33s/it]/home/sergey/anaconda3/envs/work/lib/python3.8/site-packages/sklearn/svm/_base.py:1244: ConvergenceWarning: Liblinear failed to converge, increase the number of iterations.\n",
      "  warnings.warn(\n",
      "7it [05:10, 52.67s/it]/home/sergey/anaconda3/envs/work/lib/python3.8/site-packages/sklearn/svm/_base.py:1244: ConvergenceWarning: Liblinear failed to converge, increase the number of iterations.\n",
      "  warnings.warn(\n",
      "8it [06:11, 55.45s/it]/home/sergey/anaconda3/envs/work/lib/python3.8/site-packages/sklearn/svm/_base.py:1244: ConvergenceWarning: Liblinear failed to converge, increase the number of iterations.\n",
      "  warnings.warn(\n",
      "9it [07:14, 48.27s/it]\n"
     ]
    }
   ],
   "source": [
    "C_s = [0.0001,0.001,0.01,0.1,1,10,100,1000,10000]\n",
    "\n",
    "result_df = pd.DataFrame(columns = ['C','train_accuracy', 'test_accuracy'])\n",
    "\n",
    "for i, c in tqdm(enumerate(C_s)):\n",
    "    svm = LinearSVC(dual=False, C=c, penalty='l1' )\n",
    "    svm.fit(x_train_numpy, y_train_numpy)\n",
    "        \n",
    "    y_pred_numpy   = svm.predict(x_train_numpy)\n",
    "    train_accuracy = accuracy_score(y_train_numpy, y_pred_numpy)\n",
    "    y_pred_numpy   = svm.predict(x_test_numpy)\n",
    "    test_accuracy  = accuracy_score(y_test_numpy , y_pred_numpy)\n",
    "    \n",
    "    result_df.loc[i] =[ c, train_accuracy, test_accuracy ]"
   ]
  },
  {
   "cell_type": "markdown",
   "id": "5374ec96-0f0e-4c58-876f-5f0a3be82a73",
   "metadata": {},
   "source": [
    "На графике мы наблюдаем компромисс между смещением и дисперсией. С увеличением `С` точность обучения растет, как и точность тестирования, но только до `C=1`. Начиная с `C=10` и до `1000` мы видим, что модель переобучается, и мы видим низкую погрешность и высокую дисперсию. Единственное, при использовании L1 эффект переобучения меньше, и модель работает очень плохо при меньших значениях стоимости.\n",
    "Опять же, по мере продвижения слева направо: смещение уменьшается, а вариация увеличивается\n"
   ]
  },
  {
   "cell_type": "code",
   "execution_count": 26,
   "id": "743a39bf-f30d-46c0-82ac-cb3865453983",
   "metadata": {},
   "outputs": [
    {
     "data": {
      "image/png": "[encoded data removed]",
      "text/plain": [
       "<Figure size 720x360 with 1 Axes>"
      ]
     },
     "metadata": {
      "needs_background": "light"
     },
     "output_type": "display_data"
    }
   ],
   "source": [
    "plt.subplots(figsize=(10, 5))\n",
    "plt.semilogx(result_df['C'].values, result_df['test_accuracy' ].values, color='red' , label=\"Testing Accuracy\")\n",
    "plt.semilogx(result_df['C'].values, result_df['train_accuracy'].values, color='blue', label=\"Training Accuracy\")\n",
    "plt.grid(True)\n",
    "plt.xlabel(\"Cost Parameter C\")\n",
    "plt.ylabel(\"Accuracy\")\n",
    "plt.legend()\n",
    "plt.title('Accuracy versus the Cost Parameter C (log-scale)')\n",
    "plt.xticks(C_s)\n",
    "plt.show()"
   ]
  },
  {
   "cell_type": "code",
   "execution_count": 27,
   "id": "fde19131-f7e8-4fa9-897a-c530186736e1",
   "metadata": {},
   "outputs": [],
   "source": [
    "from sklearn.svm import SVC"
   ]
  },
  {
   "cell_type": "markdown",
   "id": "60d8fbf7-0301-4b74-be52-4e33dc054aea",
   "metadata": {},
   "source": [
    "### SVC RBF ядра"
   ]
  },
  {
   "cell_type": "code",
   "execution_count": null,
   "id": "c0f68e8d-fc15-4a3f-8f25-0d701dcd2b6c",
   "metadata": {},
   "outputs": [
    {
     "name": "stderr",
     "output_type": "stream",
     "text": [
      "2it [35:40, 1054.12s/it]"
     ]
    }
   ],
   "source": [
    "C_s = [0.01, 0.1, 1, 10, 100]\n",
    "gamma_s = [0.01, 0.1, 1, 10, 100]\n",
    "\n",
    "result_df = pd.DataFrame(columns = ['c','gamma','train_accuracy','test_accuracy'])\n",
    "\n",
    "for i, c in tqdm(enumerate(C_s)):\n",
    "    for j, g in enumerate(gamma_s):\n",
    "        svm   = SVC(kernel='rbf', C=c, gamma=g)\n",
    "        model = svm.fit(x_train_numpy, y_train_numpy)\n",
    "        \n",
    "        y_pred_numpy   = svm.predict(x_train_numpy)\n",
    "        train_accuracy = accuracy_score(y_train_numpy, y_pred_numpy)\n",
    "        y_pred_numpy   = svm.predict(x_test_numpy)\n",
    "        test_accuracy  = accuracy_score(y_test_numpy , y_pred_numpy)\n",
    "        \n",
    "        result_df.loc[i*len(gamma_s) + j] =[ c, g, train_accuracy, test_accuracy ]"
   ]
  },
  {
   "cell_type": "code",
   "execution_count": null,
   "id": "4bb23b57-71fb-41e0-b281-0df7ff7a86cf",
   "metadata": {},
   "outputs": [],
   "source": [
    "result_df"
   ]
  },
  {
   "cell_type": "markdown",
   "id": "e0b45068-3147-455b-bc9c-40a2095cb745",
   "metadata": {},
   "source": [
    "Прокомментируйте смещение и дисперсию классификатора SVC относительно C и гаммы. Прокомментируйте результаты в целом по сравнению с LinearSVC. Какие значения вы бы выбрали?"
   ]
  },
  {
   "cell_type": "markdown",
   "id": "2f0b629e-cae0-4394-b46d-a18905a3ba55",
   "metadata": {},
   "source": [
    "В таблице мы видим компромисс между смещением и дисперсией. При увеличении стоимости и гаммы точность тестирования снижается, так как наблюдается переподгонка. Мы видим, что модель перестраивается и имеет низкую погрешность и высокую дисперсию. Интересно, что при неизменной стоимости и увеличении гаммы мы сразу же получаем избыточную подгонку. При этом стоимость ведет себя так же, как и в линейном SVC, с той лишь разницей, что наилучшая производительность модели здесь - C=10 и Gamma=0.01.\n",
    "Таким образом, при увеличении Cost: Bias уменьшается, а Variance увеличивается. Таким образом, при увеличении гаммы: Bias уменьшается, а Variance увеличивается."
   ]
  },
  {
   "cell_type": "markdown",
   "id": "3371c7bf-8c39-41f4-bcc5-a527fed2f4e5",
   "metadata": {},
   "source": [
    "### SVC Poly ядро"
   ]
  },
  {
   "cell_type": "code",
   "execution_count": null,
   "id": "13b15428-c333-48cf-8418-f8ab2fef4092",
   "metadata": {},
   "outputs": [],
   "source": [
    "C_s = [0.01, 0.1, 1, 10, 100]\n",
    "degree_s = [2,3,4]\n",
    "\n",
    "result_df = pd.DataFrame(columns = ['c','degree','train_accuracy','test_accuracy'])\n",
    "\n",
    "for i, c in tqdm(enumerate(C_s)):\n",
    "    for j, d in enumerate(degree_s):\n",
    "        svm   = SVC(kernel='poly', C=c, degree=d)\n",
    "        model = svm.fit(x_train_numpy, y_train_numpy)\n",
    "        \n",
    "        y_pred_numpy   = svm.predict(x_train_numpy)\n",
    "        train_accuracy = accuracy_score(y_train_numpy, y_pred_numpy)\n",
    "        y_pred_numpy   = svm.predict(x_test_numpy)\n",
    "        test_accuracy  = accuracy_score(y_test_numpy , y_pred_numpy)\n",
    "        \n",
    "        result_df.loc[i*len(degree_s) + j] =[ c, d, train_accuracy, test_accuracy ]"
   ]
  },
  {
   "cell_type": "code",
   "execution_count": null,
   "id": "63b96904-028e-4c17-870b-501d1ee9f3c1",
   "metadata": {},
   "outputs": [],
   "source": [
    "result_df"
   ]
  },
  {
   "cell_type": "markdown",
   "id": "b0918176-89a2-4336-a90d-4a5c3b51a3a1",
   "metadata": {},
   "source": [
    "Прокомментируйте смещение и дисперсию классификатора SVC относительно C и степени. Прокомментируйте результаты в целом по сравнению с LinearSVC. Какие значения вы бы выбрали?"
   ]
  },
  {
   "cell_type": "markdown",
   "id": "b435d72d-33d2-4d7e-9245-edbaa63220f7",
   "metadata": {},
   "source": [
    "Мы также видим, что полиномиальное ядро ведет себя очень странно, поскольку изменение стоимости и степени влияет на всю гиперплоскость полинома, а не на локализованную гиперплоскость, как в случае ядра rbf, следовательно, полиномиальное ядро менее устойчиво, чем rbf.\n",
    "\n",
    "В таблице мы видим компромисс между смещением и дисперсией. При увеличении стоимости и степени точность тестирования снижается, наблюдается переобучение. Мы видим, что модель перестраивается и имеет низкую погрешность и высокую дисперсию. Интересно, что при неизменной стоимости, увеличивая степень, мы сразу же получаем избыточную подгонку. При этом стоимость ведет себя так же, как и в линейном SVC, с той лишь разницей, что наилучшая производительность модели здесь - C=100 и степень=2.\n",
    "Таким образом, при увеличении Cost: Bias уменьшается, а Variance увеличивается.\n",
    "При увеличении степени: Bias уменьшается, а Variance увеличивается."
   ]
  },
  {
   "cell_type": "markdown",
   "id": "4593cb11-3a6b-448e-93e3-e1755e1219cc",
   "metadata": {},
   "source": [
    "### SVC RootPoly ядро"
   ]
  },
  {
   "cell_type": "code",
   "execution_count": null,
   "id": "5fcd2010-44f3-44b2-843f-3c6977a95e4e",
   "metadata": {},
   "outputs": [],
   "source": [
    "from sklearn.base import BaseEstimator, TransformerMixin\n",
    "\n",
    "RP_REGRESSION_TERMS_P1 = np.array([\n",
    "    [1, 0, 0, 0, 0, 0], [0, 1, 0, 0, 0, 0], [0, 0, 1, 0, 0, 0], [0, 0, 0, 1, 0, 0], [0, 0, 0, 0, 1, 0], [0, 0, 0, 0, 0, 1]\n",
    "])\n",
    "RP_REGRESSION_TERMS_P2 = np.concatenate((RP_REGRESSION_TERMS_P1,\n",
    "np.array([\n",
    "    [1/2, 1/2,   0,   0,   0,   0], [1/2,   0, 1/2,   0,   0,   0], [1/2,   0, 0, 1/2,   0,   0], [1/2, 0  , 0, 0, 1/2, 0], [1/2, 0, 0, 0, 0, 1/2],\n",
    "    [  0, 1/2, 1/2,   0,   0,   0], [  0, 1/2,   0, 1/2,   0,   0], [0  , 1/2, 0,   0, 1/2,   0], [0  , 1/2, 0, 0, 0, 1/2],\n",
    "    [  0,   0, 1/2, 1/2,   0,   0], [  0,   0, 1/2,   0, 1/2,   0], [0  ,   0, 1/2,   0, 0, 1/2],\n",
    "    [  0,   0,   0, 1/2, 1/2,   0], [  0,   0,   0, 1/2,   0, 1/2],\n",
    "    [  0,   0,   0,   0, 1/2, 1/2]\n",
    "])))\n",
    "\n",
    "\n",
    "RP_REGRESSION_TERMS = np.array([RP_REGRESSION_TERMS_P1, RP_REGRESSION_TERMS_P2], dtype=object)\n",
    "\n",
    "class RootPolynomialFeatures(BaseEstimator, TransformerMixin):\n",
    "    def __init__(self, degree):\n",
    "        self.degree_ = degree\n",
    "        self.powers_ = RP_REGRESSION_TERMS[degree-1]\n",
    "        self.is_fitted_ = False\n",
    "        if degree > 2: self.degree_ = 2\n",
    "        if degree < 0: raise ValueError('degree must not be less than zero')\n",
    "    \n",
    "    def fit(self, X, y = None):\n",
    "        self.n_output_features_ = 8\n",
    "        self.terms_ = RP_REGRESSION_TERMS[0]\n",
    "        if self.degree_ == 2: \n",
    "            self.n_output_features_ = 28\n",
    "            self.terms_ = RP_REGRESSION_TERMS[1]\n",
    "               \n",
    "        self.n_samples_, self.n_input_features_ = X.shape\n",
    "        self.is_fitted_ = True\n",
    "\n",
    "        return self\n",
    "\n",
    "    def transform(self, X, y=None):\n",
    "        if not self.is_fitted_:\n",
    "            raise ValueError('Not fitted yet')\n",
    "        features = []\n",
    "        for term in self.terms_:\n",
    "            features.append(np.prod(np.power(X, term), axis = 1))\n",
    "        return np.array(features).T\n",
    "\n",
    "    def fit_transform(self, X, y=None):\n",
    "        self = self.fit(X, y)\n",
    "        return self.transform(X, y)"
   ]
  },
  {
   "cell_type": "code",
   "execution_count": null,
   "id": "6fa6b86d-9c25-4708-9d7c-a1226d775969",
   "metadata": {},
   "outputs": [],
   "source": [
    "C_s = [0.01, 0.1, 1, 10, 100]\n",
    "degree_s = [2,3]\n",
    "\n",
    "result_df = pd.DataFrame(columns = ['c','degree','train_accuracy','test_accuracy'])\n",
    "\n",
    "for i, c in tqdm(enumerate(C_s)):\n",
    "    for j, d in enumerate(degree_s):\n",
    "        transform = RootPolynomialFeatures(d)\n",
    "        x_train_numpy_t = transform.fit_transform(x_train_numpy)\n",
    "        x_test_numpy_t  = transform.fit_transform(x_test_numpy )\n",
    "                \n",
    "        svm   = SVC(kernel='linear', C=c)\n",
    "        model = svm.fit(x_train_numpy_t, y_train_numpy)\n",
    "        \n",
    "        y_pred_numpy   = svm.predict(x_train_numpy_t)\n",
    "        train_accuracy = accuracy_score(y_train_numpy, y_pred_numpy)\n",
    "        y_pred_numpy   = svm.predict(x_test_numpy_t)\n",
    "        test_accuracy  = accuracy_score(y_test_numpy , y_pred_numpy)\n",
    "        \n",
    "        result_df.loc[i*len(degree_s) + j] =[ c, d, train_accuracy, test_accuracy ]"
   ]
  },
  {
   "cell_type": "code",
   "execution_count": null,
   "id": "46517faf-a073-4f1e-ba1a-ba2b65aa3c04",
   "metadata": {},
   "outputs": [],
   "source": [
    "result_df"
   ]
  },
  {
   "cell_type": "markdown",
   "id": "86316f75-a20b-48f4-8aba-666552bf5537",
   "metadata": {},
   "source": [
    "Прокомментируйте смещение и дисперсию классификатора SVC относительно C и степени. Прокомментируйте результаты в целом по сравнению с LinearSVC. Какие значения вы бы выбрали?"
   ]
  }
 ],
 "metadata": {
  "kernelspec": {
   "display_name": "Python 3 (ipykernel)",
   "language": "python",
   "name": "python3"
  },
  "language_info": {
   "codemirror_mode": {
    "name": "ipython",
    "version": 3
   },
   "file_extension": ".py",
   "mimetype": "text/x-python",
   "name": "python",
   "nbconvert_exporter": "python",
   "pygments_lexer": "ipython3",
   "version": "3.8.16"
  }
 },
 "nbformat": 4,
 "nbformat_minor": 5
}
