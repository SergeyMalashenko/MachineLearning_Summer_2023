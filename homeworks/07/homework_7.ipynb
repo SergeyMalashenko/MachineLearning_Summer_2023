{
 "cells": [
  {
   "cell_type": "markdown",
   "id": "f3c3e61d-9478-4a16-a358-4c3dc5393095",
   "metadata": {},
   "source": [
    "# Домашняя работа 7: Знакомство с набором данных MNIST. Построение модели KNeighborsClassifier"
   ]
  },
  {
   "cell_type": "markdown",
   "id": "719cc49f-297a-40eb-89f7-40b5d26a7cfb",
   "metadata": {},
   "source": [
    "### Основы API\n",
    "\n",
    "Чаще всего использование API Scikit-Learn Estimator происходит следующим образом:\n",
    "\n",
    "1. Выбирается класс модели, импортировав соответствующий класс из Scikit-Learn.\n",
    "2. Подбираем значения гиперпараметров модели, инстанцировав класс модели с нужными значениями параметров.\n",
    "3. Разделение данные на матрицу признаков и целевой вектор.\n",
    "4. Настройка модели посредством метода `fit` экземпляра модели.\n",
    "5. Применение модели к новым данным:\n",
    "   - Для `supervised learning` (обучение с учителем) мы предсказываем метки для неизвестных данных с помощью метода `predict`.\n",
    "   - Для `unsupervised learning` (обучение без учителя) мы преобразуем или оцениваем свойства примеров из набора данных с помощью методов `transform` или `predict`."
   ]
  },
  {
   "cell_type": "markdown",
   "id": "60af2570-8496-4ca4-bf59-43dec0995dac",
   "metadata": {},
   "source": [
    "Согласно вышеуказнной последовательность требуется выполнить следующее задание:\n",
    "\n",
    "1. Загрузить набор данных [MNIST]( http://yann.lecun.com/exdb/mnist/ )\n",
    "2. Исследовать его. Вывести разнообразные числовые характериcтики набора данных, а также визуализировать отдельные элементы данных.\n",
    "3. Разработать программный код, который позволит построить модель KNeighborsClassifier\n",
    "4. Вывести метрики Confusion Matrix, Precision, Recall\n",
    "5. Описать полученные результаты\n",
    "\n",
    "Бонус \n",
    "    На втором семинаре было дано введение в объектно-ориентированное программирование, попробуйте реализовать собственный класс модели. \n",
    "    Реализация должна поддерживать API Scikit-Learn, что позволит использовать возможности Scikit-Learn\n"
   ]
  },
  {
   "cell_type": "code",
   "execution_count": 3,
   "id": "662b23f3-4665-491e-a9e2-08533f5e35ea",
   "metadata": {},
   "outputs": [],
   "source": [
    "import numpy as np # linear algebra\n",
    "import struct\n",
    "from array import array\n",
    "from os.path  import join\n",
    "\n",
    "#\n",
    "# MNIST Data Loader Class\n",
    "#\n",
    "class MnistDataloader(object):\n",
    "    def __init__(self, training_images_filepath,training_labels_filepath,\n",
    "                 test_images_filepath, test_labels_filepath):\n",
    "        self.training_images_filepath = training_images_filepath\n",
    "        self.training_labels_filepath = training_labels_filepath\n",
    "        self.test_images_filepath = test_images_filepath\n",
    "        self.test_labels_filepath = test_labels_filepath\n",
    "    \n",
    "    def read_images_labels(self, images_filepath, labels_filepath):        \n",
    "        labels = []\n",
    "        with open(labels_filepath, 'rb') as file:\n",
    "            magic, size = struct.unpack(\">II\", file.read(8))\n",
    "            if magic != 2049:\n",
    "                raise ValueError('Magic number mismatch, expected 2049, got {}'.format(magic))\n",
    "            labels = array(\"B\", file.read())        \n",
    "        \n",
    "        with open(images_filepath, 'rb') as file:\n",
    "            magic, size, rows, cols = struct.unpack(\">IIII\", file.read(16))\n",
    "            if magic != 2051:\n",
    "                raise ValueError('Magic number mismatch, expected 2051, got {}'.format(magic))\n",
    "            image_data = array(\"B\", file.read())        \n",
    "        images = []\n",
    "        for i in range(size):\n",
    "            images.append([0] * rows * cols)\n",
    "        for i in range(size):\n",
    "            img = np.array(image_data[i * rows * cols:(i + 1) * rows * cols])\n",
    "            img = img.reshape(28, 28)\n",
    "            images[i][:] = img            \n",
    "        \n",
    "        return images, labels\n",
    "            \n",
    "    def load_data(self):\n",
    "        x_train, y_train = self.read_images_labels(self.training_images_filepath, self.training_labels_filepath)\n",
    "        x_test, y_test = self.read_images_labels(self.test_images_filepath, self.test_labels_filepath)\n",
    "        return (x_train, y_train),(x_test, y_test) "
   ]
  },
  {
   "cell_type": "code",
   "execution_count": 5,
   "id": "25a3f192-bf0c-4360-800c-af6a67a19d07",
   "metadata": {},
   "outputs": [],
   "source": [
    "%matplotlib inline\n",
    "import random\n",
    "import matplotlib.pyplot as plt\n",
    "\n",
    "#\n",
    "# Set file paths based on added MNIST Datasets\n",
    "#\n",
    "input_path = 'input'\n",
    "training_images_filepath = join(input_path, 'train-images-idx3-ubyte')\n",
    "training_labels_filepath = join(input_path, 'train-labels-idx1-ubyte')\n",
    "test_images_filepath     = join(input_path, 't10k-images-idx3-ubyte')\n",
    "test_labels_filepath     = join(input_path, 't10k-labels-idx1-ubyte')\n",
    "\n",
    "mnist_dataloader = MnistDataloader(training_images_filepath, training_labels_filepath, test_images_filepath, test_labels_filepath)\n",
    "(x_train, y_train), (x_test, y_test) = mnist_dataloader.load_data()\n"
   ]
  },
  {
   "cell_type": "code",
   "execution_count": null,
   "id": "ec78990d-cc61-47c0-b15e-8bd67d26ca68",
   "metadata": {},
   "outputs": [],
   "source": []
  }
 ],
 "metadata": {
  "kernelspec": {
   "display_name": "Python 3 (ipykernel)",
   "language": "python",
   "name": "python3"
  },
  "language_info": {
   "codemirror_mode": {
    "name": "ipython",
    "version": 3
   },
   "file_extension": ".py",
   "mimetype": "text/x-python",
   "name": "python",
   "nbconvert_exporter": "python",
   "pygments_lexer": "ipython3",
   "version": "3.8.16"
  }
 },
 "nbformat": 4,
 "nbformat_minor": 5
}
