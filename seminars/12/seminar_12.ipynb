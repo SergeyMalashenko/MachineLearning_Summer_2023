{
 "cells": [
  {
   "cell_type": "markdown",
   "id": "0fbd2fcd-cb52-4565-bdb2-53abb8c163f9",
   "metadata": {},
   "source": [
    "# Семинар 12: Ансамбль моделей: смешивание (blending) моделей, стэкинг (stacking) моделей"
   ]
  },
  {
   "cell_type": "markdown",
   "id": "b669c4b4-c216-4d43-a2fb-2bc627b62594",
   "metadata": {},
   "source": [
    "<img src=\"figures/ensemble_methods.png\" style=\"height: 300px;\"/>"
   ]
  },
  {
   "cell_type": "code",
   "execution_count": 6,
   "id": "94be8b74-d4e9-4fa6-af9a-7ad66755d343",
   "metadata": {},
   "outputs": [],
   "source": [
    "import numpy as np\n",
    "\n",
    "import sklearn\n",
    "import sys\n",
    "import os\n",
    "\n",
    "np.random.seed(42)\n",
    "\n",
    "%matplotlib inline\n",
    "import matplotlib.pyplot as plt\n",
    "import matplotlib        as mpl\n",
    "mpl.rc('axes' , labelsize=14)\n",
    "mpl.rc('xtick', labelsize=12)\n",
    "mpl.rc('ytick', labelsize=12)"
   ]
  },
  {
   "cell_type": "code",
   "execution_count": 7,
   "id": "57d07402-e51c-4cc9-b93f-0deb9cf993ab",
   "metadata": {},
   "outputs": [
    {
     "data": {
      "text/plain": [
       "(1797, 64)"
      ]
     },
     "execution_count": 7,
     "metadata": {},
     "output_type": "execute_result"
    }
   ],
   "source": [
    "from sklearn.datasets import load_digits\n",
    "X, y = load_digits(return_X_y=True)\n",
    "X.shape"
   ]
  },
  {
   "cell_type": "code",
   "execution_count": 8,
   "id": "f8f0255c-4b64-4246-a70e-785a63b14fa0",
   "metadata": {},
   "outputs": [
    {
     "data": {
      "text/plain": [
       "(-0.5, 79.5, 79.5, -0.5)"
      ]
     },
     "execution_count": 8,
     "metadata": {},
     "output_type": "execute_result"
    },
    {
     "data": {
      "image/png": "[encoded data removed]",
      "text/plain": [
       "<Figure size 360x360 with 1 Axes>"
      ]
     },
     "metadata": {},
     "output_type": "display_data"
    }
   ],
   "source": [
    "fig, ax = plt.subplots(nrows=1, ncols=1, figsize=(5, 5))\n",
    "\n",
    "n_img_per_row = 8\n",
    "img = np.zeros((10 * n_img_per_row, 10 * n_img_per_row))\n",
    "for i in range(n_img_per_row):\n",
    "    ix = 10 * i + 1\n",
    "    for j in range(n_img_per_row):\n",
    "        iy = 10 * j + 1\n",
    "        img[ix:ix + 8, iy:iy + 8] = X[i * n_img_per_row + j].reshape((8, 8))\n",
    "\n",
    "ax.imshow(img, cmap=plt.cm.binary)\n",
    "ax.set_xticks([])\n",
    "ax.set_yticks([])\n",
    "ax.axis('off')"
   ]
  },
  {
   "cell_type": "code",
   "execution_count": 11,
   "id": "4b1b8c1e-1ea3-41ad-bf8a-32364ee71756",
   "metadata": {},
   "outputs": [
    {
     "name": "stdout",
     "output_type": "stream",
     "text": [
      "(1437, 64)\n",
      "(360, 64)\n"
     ]
    }
   ],
   "source": [
    "from sklearn.metrics         import classification_report, confusion_matrix\n",
    "from sklearn.model_selection import train_test_split\n",
    "\n",
    "X_train, X_test, y_train, y_test = train_test_split(X,y, test_size=0.2, random_state=42)\n",
    "print(X_train.shape)\n",
    "print(X_test .shape)"
   ]
  },
  {
   "cell_type": "markdown",
   "id": "e3e2bcba-cf09-454d-847c-c45a3b071c1d",
   "metadata": {},
   "source": [
    "## Повторние: бэггинг моделей в задаче классификации"
   ]
  },
  {
   "cell_type": "code",
   "execution_count": 15,
   "id": "f7b6bd53-3e95-42aa-a680-17ce5d1ef268",
   "metadata": {},
   "outputs": [
    {
     "data": {
      "text/html": [
       "<style>#sk-container-id-3 {color: black;background-color: white;}#sk-container-id-3 pre{padding: 0;}#sk-container-id-3 div.sk-toggleable {background-color: white;}#sk-container-id-3 label.sk-toggleable__label {cursor: pointer;display: block;width: 100%;margin-bottom: 0;padding: 0.3em;box-sizing: border-box;text-align: center;}#sk-container-id-3 label.sk-toggleable__label-arrow:before {content: \"▸\";float: left;margin-right: 0.25em;color: #696969;}#sk-container-id-3 label.sk-toggleable__label-arrow:hover:before {color: black;}#sk-container-id-3 div.sk-estimator:hover label.sk-toggleable__label-arrow:before {color: black;}#sk-container-id-3 div.sk-toggleable__content {max-height: 0;max-width: 0;overflow: hidden;text-align: left;background-color: #f0f8ff;}#sk-container-id-3 div.sk-toggleable__content pre {margin: 0.2em;color: black;border-radius: 0.25em;background-color: #f0f8ff;}#sk-container-id-3 input.sk-toggleable__control:checked~div.sk-toggleable__content {max-height: 200px;max-width: 100%;overflow: auto;}#sk-container-id-3 input.sk-toggleable__control:checked~label.sk-toggleable__label-arrow:before {content: \"▾\";}#sk-container-id-3 div.sk-estimator input.sk-toggleable__control:checked~label.sk-toggleable__label {background-color: #d4ebff;}#sk-container-id-3 div.sk-label input.sk-toggleable__control:checked~label.sk-toggleable__label {background-color: #d4ebff;}#sk-container-id-3 input.sk-hidden--visually {border: 0;clip: rect(1px 1px 1px 1px);clip: rect(1px, 1px, 1px, 1px);height: 1px;margin: -1px;overflow: hidden;padding: 0;position: absolute;width: 1px;}#sk-container-id-3 div.sk-estimator {font-family: monospace;background-color: #f0f8ff;border: 1px dotted black;border-radius: 0.25em;box-sizing: border-box;margin-bottom: 0.5em;}#sk-container-id-3 div.sk-estimator:hover {background-color: #d4ebff;}#sk-container-id-3 div.sk-parallel-item::after {content: \"\";width: 100%;border-bottom: 1px solid gray;flex-grow: 1;}#sk-container-id-3 div.sk-label:hover label.sk-toggleable__label {background-color: #d4ebff;}#sk-container-id-3 div.sk-serial::before {content: \"\";position: absolute;border-left: 1px solid gray;box-sizing: border-box;top: 0;bottom: 0;left: 50%;z-index: 0;}#sk-container-id-3 div.sk-serial {display: flex;flex-direction: column;align-items: center;background-color: white;padding-right: 0.2em;padding-left: 0.2em;position: relative;}#sk-container-id-3 div.sk-item {position: relative;z-index: 1;}#sk-container-id-3 div.sk-parallel {display: flex;align-items: stretch;justify-content: center;background-color: white;position: relative;}#sk-container-id-3 div.sk-item::before, #sk-container-id-3 div.sk-parallel-item::before {content: \"\";position: absolute;border-left: 1px solid gray;box-sizing: border-box;top: 0;bottom: 0;left: 50%;z-index: -1;}#sk-container-id-3 div.sk-parallel-item {display: flex;flex-direction: column;z-index: 1;position: relative;background-color: white;}#sk-container-id-3 div.sk-parallel-item:first-child::after {align-self: flex-end;width: 50%;}#sk-container-id-3 div.sk-parallel-item:last-child::after {align-self: flex-start;width: 50%;}#sk-container-id-3 div.sk-parallel-item:only-child::after {width: 0;}#sk-container-id-3 div.sk-dashed-wrapped {border: 1px dashed gray;margin: 0 0.4em 0.5em 0.4em;box-sizing: border-box;padding-bottom: 0.4em;background-color: white;}#sk-container-id-3 div.sk-label label {font-family: monospace;font-weight: bold;display: inline-block;line-height: 1.2em;}#sk-container-id-3 div.sk-label-container {text-align: center;}#sk-container-id-3 div.sk-container {/* jupyter's `normalize.less` sets `[hidden] { display: none; }` but bootstrap.min.css set `[hidden] { display: none !important; }` so we also need the `!important` here to be able to override the default hidden behavior on the sphinx rendered scikit-learn.org. See: https://github.com/scikit-learn/scikit-learn/issues/21755 */display: inline-block !important;position: relative;}#sk-container-id-3 div.sk-text-repr-fallback {display: none;}</style><div id=\"sk-container-id-3\" class=\"sk-top-container\"><div class=\"sk-text-repr-fallback\"><pre>RandomForestClassifier()</pre><b>In a Jupyter environment, please rerun this cell to show the HTML representation or trust the notebook. <br />On GitHub, the HTML representation is unable to render, please try loading this page with nbviewer.org.</b></div><div class=\"sk-container\" hidden><div class=\"sk-item\"><div class=\"sk-estimator sk-toggleable\"><input class=\"sk-toggleable__control sk-hidden--visually\" id=\"sk-estimator-id-3\" type=\"checkbox\" checked><label for=\"sk-estimator-id-3\" class=\"sk-toggleable__label sk-toggleable__label-arrow\">RandomForestClassifier</label><div class=\"sk-toggleable__content\"><pre>RandomForestClassifier()</pre></div></div></div></div></div>"
      ],
      "text/plain": [
       "RandomForestClassifier()"
      ]
     },
     "execution_count": 15,
     "metadata": {},
     "output_type": "execute_result"
    }
   ],
   "source": [
    "rf_cls = RandomForestClassifier(n_estimators=100)\n",
    "rf_cls.fit(X_train,y_train)"
   ]
  },
  {
   "cell_type": "code",
   "execution_count": 16,
   "id": "4686a8b6-32ac-4282-abd7-527341030102",
   "metadata": {},
   "outputs": [
    {
     "name": "stdout",
     "output_type": "stream",
     "text": [
      "Classification Report\n",
      "              precision    recall  f1-score   support\n",
      "\n",
      "           0     1.0000    1.0000    1.0000        33\n",
      "           1     0.9333    1.0000    0.9655        28\n",
      "           2     1.0000    1.0000    1.0000        33\n",
      "           3     1.0000    1.0000    1.0000        34\n",
      "           4     1.0000    1.0000    1.0000        46\n",
      "           5     0.9583    0.9787    0.9684        47\n",
      "           6     0.9714    0.9714    0.9714        35\n",
      "           7     0.9706    0.9706    0.9706        34\n",
      "           8     1.0000    0.9333    0.9655        30\n",
      "           9     0.9744    0.9500    0.9620        40\n",
      "\n",
      "    accuracy                         0.9806       360\n",
      "   macro avg     0.9808    0.9804    0.9803       360\n",
      "weighted avg     0.9810    0.9806    0.9805       360\n",
      "\n",
      "Confusion Report\n",
      "[[33  0  0  0  0  0  0  0  0  0]\n",
      " [ 0 28  0  0  0  0  0  0  0  0]\n",
      " [ 0  0 33  0  0  0  0  0  0  0]\n",
      " [ 0  0  0 34  0  0  0  0  0  0]\n",
      " [ 0  0  0  0 46  0  0  0  0  0]\n",
      " [ 0  0  0  0  0 46  1  0  0  0]\n",
      " [ 0  0  0  0  0  1 34  0  0  0]\n",
      " [ 0  0  0  0  0  0  0 33  0  1]\n",
      " [ 0  2  0  0  0  0  0  0 28  0]\n",
      " [ 0  0  0  0  0  1  0  1  0 38]]\n"
     ]
    }
   ],
   "source": [
    "y_pred = rf_cls.predict(X_test)\n",
    "print(\"Classification Report\")\n",
    "print(classification_report(y_test, y_pred, digits=4))\n",
    "print(\"Confusion Report\")\n",
    "print(confusion_matrix(y_test, y_pred))"
   ]
  },
  {
   "cell_type": "markdown",
   "id": "c69c6525-dda2-4b5d-a4f4-8c0ce8755fe2",
   "metadata": {},
   "source": [
    "## Повторение: бустинг моделей в задаче классификации"
   ]
  },
  {
   "cell_type": "code",
   "execution_count": 27,
   "id": "fdb5dc79-d095-4f4c-89fb-384342c26163",
   "metadata": {},
   "outputs": [],
   "source": [
    "from sklearn.preprocessing import StandardScaler\n",
    "\n",
    "sc = StandardScaler()\n",
    "sc.fit(X)\n",
    "\n",
    "X_train_std = sc.transform(X_train)\n",
    "X_test_std  = sc.transform(X_test )"
   ]
  },
  {
   "cell_type": "markdown",
   "id": "5d0fba4d-0be3-44ca-8c31-bc932b7ed03e",
   "metadata": {},
   "source": [
    "- eta (learning rate) : Уменьшение размера шага используется при обновлении для предотвращения переобучения модели.\n",
    "- max_depth           : Максимальная глубина дерева. Увеличение этого значения приводит к усложнению модели и увеличению вероятности переобучения модели.\n",
    "- gamma               : Минимальное уменьшение потерь, необходимое для выполнения дальнейшего разбиения на листовом узле дерева.\n",
    "- subsample           : Коэффициент подвыборки тренировочных примеров. Установка этого значения в 0.5 означает, что перед выращиванием деревьев XGBoost будет производить случайную выборку половины обучающих данных, что позволит избежать переобучения. Операция будет производиться один раз на каждой итерации бустинга.\n",
    "- colsample_bytree, colsample_bylevel, colsample_bynode : Параметры имеют диапазон (0, 1], значение по умолчанию равно 1, и задают долю столбцов, по которым будет производиться подвыборка.\n",
    "\n",
    "- lambda : Коэффициент регуляризации L2\n",
    "- alpha  : Коэффициент регуляризации L1"
   ]
  },
  {
   "cell_type": "code",
   "execution_count": 29,
   "id": "ae42177e-5959-4f5a-9212-04739ed01f48",
   "metadata": {},
   "outputs": [
    {
     "name": "stdout",
     "output_type": "stream",
     "text": [
      "[0]\ttrain-merror:0.12665\tvalidation-merror:0.16389\n",
      "[1]\ttrain-merror:0.09116\tvalidation-merror:0.11667\n",
      "[2]\ttrain-merror:0.06889\tvalidation-merror:0.11389\n",
      "[3]\ttrain-merror:0.06054\tvalidation-merror:0.10000\n",
      "[4]\ttrain-merror:0.05428\tvalidation-merror:0.08611\n",
      "[5]\ttrain-merror:0.05358\tvalidation-merror:0.08611\n",
      "[6]\ttrain-merror:0.05219\tvalidation-merror:0.08889\n",
      "[7]\ttrain-merror:0.05150\tvalidation-merror:0.08611\n",
      "[8]\ttrain-merror:0.05080\tvalidation-merror:0.09167\n",
      "[9]\ttrain-merror:0.05150\tvalidation-merror:0.08611\n",
      "[10]\ttrain-merror:0.05010\tvalidation-merror:0.08889\n",
      "[11]\ttrain-merror:0.04732\tvalidation-merror:0.09167\n",
      "[12]\ttrain-merror:0.04593\tvalidation-merror:0.08889\n",
      "[13]\ttrain-merror:0.04662\tvalidation-merror:0.08889\n",
      "[14]\ttrain-merror:0.04732\tvalidation-merror:0.09167\n",
      "[15]\ttrain-merror:0.04662\tvalidation-merror:0.08889\n",
      "[16]\ttrain-merror:0.04384\tvalidation-merror:0.08333\n",
      "[17]\ttrain-merror:0.04315\tvalidation-merror:0.08056\n",
      "[18]\ttrain-merror:0.04175\tvalidation-merror:0.07778\n",
      "[19]\ttrain-merror:0.04036\tvalidation-merror:0.07778\n",
      "[20]\ttrain-merror:0.03897\tvalidation-merror:0.07778\n",
      "[21]\ttrain-merror:0.03619\tvalidation-merror:0.07778\n",
      "[22]\ttrain-merror:0.03549\tvalidation-merror:0.07778\n",
      "[23]\ttrain-merror:0.03619\tvalidation-merror:0.08056\n",
      "[24]\ttrain-merror:0.03549\tvalidation-merror:0.08056\n",
      "[25]\ttrain-merror:0.03549\tvalidation-merror:0.08056\n",
      "[26]\ttrain-merror:0.03479\tvalidation-merror:0.08056\n",
      "[27]\ttrain-merror:0.03271\tvalidation-merror:0.07778\n",
      "[28]\ttrain-merror:0.03340\tvalidation-merror:0.07778\n",
      "[29]\ttrain-merror:0.03340\tvalidation-merror:0.07778\n",
      "[30]\ttrain-merror:0.03271\tvalidation-merror:0.07500\n",
      "[31]\ttrain-merror:0.03201\tvalidation-merror:0.07500\n",
      "[32]\ttrain-merror:0.03201\tvalidation-merror:0.07500\n",
      "[33]\ttrain-merror:0.03062\tvalidation-merror:0.07500\n",
      "[34]\ttrain-merror:0.03132\tvalidation-merror:0.07500\n",
      "[35]\ttrain-merror:0.02992\tvalidation-merror:0.07500\n",
      "[36]\ttrain-merror:0.02714\tvalidation-merror:0.07500\n",
      "[37]\ttrain-merror:0.02505\tvalidation-merror:0.07500\n",
      "[38]\ttrain-merror:0.02505\tvalidation-merror:0.07500\n",
      "[39]\ttrain-merror:0.02436\tvalidation-merror:0.07500\n",
      "[40]\ttrain-merror:0.02436\tvalidation-merror:0.07778\n",
      "[41]\ttrain-merror:0.02436\tvalidation-merror:0.07222\n",
      "[42]\ttrain-merror:0.02296\tvalidation-merror:0.07222\n",
      "[43]\ttrain-merror:0.02227\tvalidation-merror:0.07222\n",
      "[44]\ttrain-merror:0.02157\tvalidation-merror:0.07222\n",
      "[45]\ttrain-merror:0.02088\tvalidation-merror:0.07222\n",
      "[46]\ttrain-merror:0.02018\tvalidation-merror:0.06944\n",
      "[47]\ttrain-merror:0.02018\tvalidation-merror:0.07222\n",
      "[48]\ttrain-merror:0.01949\tvalidation-merror:0.06667\n",
      "[49]\ttrain-merror:0.01809\tvalidation-merror:0.06667\n",
      "[50]\ttrain-merror:0.01740\tvalidation-merror:0.06667\n",
      "[51]\ttrain-merror:0.01740\tvalidation-merror:0.06389\n",
      "[52]\ttrain-merror:0.01740\tvalidation-merror:0.06389\n",
      "[53]\ttrain-merror:0.01740\tvalidation-merror:0.06389\n",
      "[54]\ttrain-merror:0.01740\tvalidation-merror:0.06389\n",
      "[55]\ttrain-merror:0.01740\tvalidation-merror:0.06389\n",
      "[56]\ttrain-merror:0.01601\tvalidation-merror:0.06389\n",
      "[57]\ttrain-merror:0.01670\tvalidation-merror:0.06389\n",
      "[58]\ttrain-merror:0.01601\tvalidation-merror:0.06389\n",
      "[59]\ttrain-merror:0.01601\tvalidation-merror:0.06389\n",
      "[60]\ttrain-merror:0.01601\tvalidation-merror:0.06389\n",
      "[61]\ttrain-merror:0.01601\tvalidation-merror:0.06111\n",
      "[62]\ttrain-merror:0.01601\tvalidation-merror:0.06111\n",
      "[63]\ttrain-merror:0.01531\tvalidation-merror:0.06111\n",
      "[64]\ttrain-merror:0.01531\tvalidation-merror:0.06111\n",
      "[65]\ttrain-merror:0.01531\tvalidation-merror:0.06111\n",
      "[66]\ttrain-merror:0.01531\tvalidation-merror:0.06111\n",
      "[67]\ttrain-merror:0.01461\tvalidation-merror:0.06111\n",
      "[68]\ttrain-merror:0.01392\tvalidation-merror:0.06111\n",
      "[69]\ttrain-merror:0.01322\tvalidation-merror:0.05833\n",
      "[70]\ttrain-merror:0.01253\tvalidation-merror:0.05833\n",
      "[71]\ttrain-merror:0.01253\tvalidation-merror:0.05833\n",
      "[72]\ttrain-merror:0.01253\tvalidation-merror:0.05833\n",
      "[73]\ttrain-merror:0.01183\tvalidation-merror:0.05833\n",
      "[74]\ttrain-merror:0.01183\tvalidation-merror:0.05833\n",
      "[75]\ttrain-merror:0.01183\tvalidation-merror:0.06111\n",
      "[76]\ttrain-merror:0.01183\tvalidation-merror:0.06111\n",
      "[77]\ttrain-merror:0.01183\tvalidation-merror:0.06111\n",
      "[78]\ttrain-merror:0.01183\tvalidation-merror:0.06111\n",
      "[79]\ttrain-merror:0.01183\tvalidation-merror:0.05833\n",
      "[80]\ttrain-merror:0.01183\tvalidation-merror:0.05833\n",
      "[81]\ttrain-merror:0.01113\tvalidation-merror:0.05833\n",
      "[82]\ttrain-merror:0.01113\tvalidation-merror:0.05833\n",
      "[83]\ttrain-merror:0.01113\tvalidation-merror:0.05833\n",
      "[84]\ttrain-merror:0.01113\tvalidation-merror:0.05833\n",
      "[85]\ttrain-merror:0.01113\tvalidation-merror:0.05833\n",
      "[86]\ttrain-merror:0.01113\tvalidation-merror:0.05833\n",
      "[87]\ttrain-merror:0.01113\tvalidation-merror:0.05833\n",
      "[88]\ttrain-merror:0.01183\tvalidation-merror:0.05556\n",
      "[89]\ttrain-merror:0.01183\tvalidation-merror:0.05556\n",
      "[90]\ttrain-merror:0.01044\tvalidation-merror:0.05556\n",
      "[91]\ttrain-merror:0.01044\tvalidation-merror:0.05556\n",
      "[92]\ttrain-merror:0.01113\tvalidation-merror:0.05556\n",
      "[93]\ttrain-merror:0.01113\tvalidation-merror:0.05556\n",
      "[94]\ttrain-merror:0.01044\tvalidation-merror:0.05556\n",
      "[95]\ttrain-merror:0.00974\tvalidation-merror:0.05556\n",
      "[96]\ttrain-merror:0.00974\tvalidation-merror:0.05556\n",
      "[97]\ttrain-merror:0.00974\tvalidation-merror:0.05556\n",
      "[98]\ttrain-merror:0.00974\tvalidation-merror:0.05556\n",
      "[99]\ttrain-merror:0.00974\tvalidation-merror:0.05556\n",
      "[100]\ttrain-merror:0.00974\tvalidation-merror:0.05556\n",
      "[101]\ttrain-merror:0.00974\tvalidation-merror:0.05556\n",
      "[102]\ttrain-merror:0.00974\tvalidation-merror:0.05556\n",
      "[103]\ttrain-merror:0.00974\tvalidation-merror:0.05556\n",
      "[104]\ttrain-merror:0.00974\tvalidation-merror:0.05556\n",
      "[105]\ttrain-merror:0.00974\tvalidation-merror:0.05556\n",
      "[106]\ttrain-merror:0.00974\tvalidation-merror:0.05556\n",
      "[107]\ttrain-merror:0.00974\tvalidation-merror:0.05556\n",
      "[108]\ttrain-merror:0.00974\tvalidation-merror:0.05556\n",
      "[109]\ttrain-merror:0.00974\tvalidation-merror:0.05556\n",
      "[110]\ttrain-merror:0.00974\tvalidation-merror:0.05556\n",
      "[111]\ttrain-merror:0.00905\tvalidation-merror:0.05556\n",
      "[112]\ttrain-merror:0.00905\tvalidation-merror:0.05556\n",
      "[113]\ttrain-merror:0.00905\tvalidation-merror:0.05278\n",
      "[114]\ttrain-merror:0.00905\tvalidation-merror:0.05278\n",
      "[115]\ttrain-merror:0.00905\tvalidation-merror:0.05278\n",
      "[116]\ttrain-merror:0.00905\tvalidation-merror:0.05278\n",
      "[117]\ttrain-merror:0.00905\tvalidation-merror:0.05278\n",
      "[118]\ttrain-merror:0.00905\tvalidation-merror:0.05278\n",
      "[119]\ttrain-merror:0.00905\tvalidation-merror:0.05278\n",
      "[120]\ttrain-merror:0.00905\tvalidation-merror:0.05556\n",
      "[121]\ttrain-merror:0.00905\tvalidation-merror:0.05556\n",
      "[122]\ttrain-merror:0.00905\tvalidation-merror:0.05556\n",
      "[123]\ttrain-merror:0.00905\tvalidation-merror:0.05556\n",
      "[124]\ttrain-merror:0.00905\tvalidation-merror:0.05556\n",
      "[125]\ttrain-merror:0.00905\tvalidation-merror:0.05556\n",
      "[126]\ttrain-merror:0.00905\tvalidation-merror:0.05556\n",
      "[127]\ttrain-merror:0.00905\tvalidation-merror:0.05556\n",
      "[128]\ttrain-merror:0.00905\tvalidation-merror:0.05556\n",
      "[129]\ttrain-merror:0.00905\tvalidation-merror:0.05556\n",
      "[130]\ttrain-merror:0.00905\tvalidation-merror:0.05556\n",
      "[131]\ttrain-merror:0.00905\tvalidation-merror:0.05556\n",
      "[132]\ttrain-merror:0.00905\tvalidation-merror:0.05556\n",
      "[133]\ttrain-merror:0.00905\tvalidation-merror:0.05556\n",
      "[134]\ttrain-merror:0.00905\tvalidation-merror:0.05556\n",
      "[135]\ttrain-merror:0.00974\tvalidation-merror:0.05556\n",
      "[136]\ttrain-merror:0.00974\tvalidation-merror:0.05556\n",
      "[137]\ttrain-merror:0.00974\tvalidation-merror:0.05556\n",
      "[138]\ttrain-merror:0.00974\tvalidation-merror:0.05556\n",
      "[139]\ttrain-merror:0.00974\tvalidation-merror:0.05556\n",
      "[140]\ttrain-merror:0.00974\tvalidation-merror:0.05556\n",
      "[141]\ttrain-merror:0.00974\tvalidation-merror:0.05556\n",
      "[142]\ttrain-merror:0.00974\tvalidation-merror:0.05556\n",
      "[143]\ttrain-merror:0.00974\tvalidation-merror:0.05556\n",
      "[144]\ttrain-merror:0.00974\tvalidation-merror:0.05556\n",
      "[145]\ttrain-merror:0.00974\tvalidation-merror:0.05556\n",
      "[146]\ttrain-merror:0.00974\tvalidation-merror:0.05556\n",
      "[147]\ttrain-merror:0.00974\tvalidation-merror:0.05556\n",
      "[148]\ttrain-merror:0.00974\tvalidation-merror:0.05556\n",
      "[149]\ttrain-merror:0.00905\tvalidation-merror:0.05556\n",
      "[150]\ttrain-merror:0.00905\tvalidation-merror:0.05556\n",
      "[151]\ttrain-merror:0.00905\tvalidation-merror:0.05556\n",
      "[152]\ttrain-merror:0.00835\tvalidation-merror:0.05556\n",
      "[153]\ttrain-merror:0.00835\tvalidation-merror:0.05556\n",
      "[154]\ttrain-merror:0.00835\tvalidation-merror:0.05556\n",
      "[155]\ttrain-merror:0.00835\tvalidation-merror:0.05556\n",
      "[156]\ttrain-merror:0.00835\tvalidation-merror:0.05556\n",
      "[157]\ttrain-merror:0.00835\tvalidation-merror:0.05556\n",
      "[158]\ttrain-merror:0.00835\tvalidation-merror:0.05278\n",
      "[159]\ttrain-merror:0.00835\tvalidation-merror:0.05278\n",
      "[160]\ttrain-merror:0.00835\tvalidation-merror:0.05278\n",
      "[161]\ttrain-merror:0.00835\tvalidation-merror:0.05278\n",
      "[162]\ttrain-merror:0.00835\tvalidation-merror:0.05278\n"
     ]
    }
   ],
   "source": [
    "import xgboost as xgb\n",
    "\n",
    "param_list = [(\"eta\", 0.08), (\"max_depth\", 6), (\"subsample\", 0.8), (\"colsample_bytree\", 0.8), (\"objective\", \"multi:softmax\"), (\"eval_metric\", \"merror\"), (\"alpha\", 8), (\"lambda\", 2), (\"num_class\", 10)]\n",
    "n_rounds       = 600\n",
    "early_stopping = 50\n",
    "    \n",
    "d_train   = xgb.DMatrix(X_train_std, label=y_train)\n",
    "d_test    = xgb.DMatrix(X_test_std , label=y_test )\n",
    "eval_list = [(d_train, \"train\"), (d_test, \"validation\")]\n",
    "bst = xgb.train(param_list, d_train, n_rounds, evals=eval_list, early_stopping_rounds=early_stopping, verbose_eval=True)"
   ]
  },
  {
   "cell_type": "code",
   "execution_count": 31,
   "id": "4b486296-0392-447f-b448-a89d64887a4d",
   "metadata": {},
   "outputs": [
    {
     "name": "stdout",
     "output_type": "stream",
     "text": [
      "Classification Report\n",
      "              precision    recall  f1-score   support\n",
      "\n",
      "           0     1.0000    0.9697    0.9846        33\n",
      "           1     0.8966    0.9286    0.9123        28\n",
      "           2     1.0000    1.0000    1.0000        33\n",
      "           3     1.0000    0.9412    0.9697        34\n",
      "           4     0.9773    0.9348    0.9556        46\n",
      "           5     0.9565    0.9362    0.9462        47\n",
      "           6     0.9444    0.9714    0.9577        35\n",
      "           7     0.9167    0.9706    0.9429        34\n",
      "           8     0.9032    0.9333    0.9180        30\n",
      "           9     0.8780    0.9000    0.8889        40\n",
      "\n",
      "    accuracy                         0.9472       360\n",
      "   macro avg     0.9473    0.9486    0.9476       360\n",
      "weighted avg     0.9485    0.9472    0.9475       360\n",
      "\n",
      "Confusion Report\n",
      "[[32  0  0  0  1  0  0  0  0  0]\n",
      " [ 0 26  0  0  0  0  0  0  0  2]\n",
      " [ 0  0 33  0  0  0  0  0  0  0]\n",
      " [ 0  0  0 32  0  1  0  0  1  0]\n",
      " [ 0  1  0  0 43  0  1  1  0  0]\n",
      " [ 0  0  0  0  0 44  1  0  0  2]\n",
      " [ 0  0  0  0  0  1 34  0  0  0]\n",
      " [ 0  0  0  0  0  0  0 33  0  1]\n",
      " [ 0  2  0  0  0  0  0  0 28  0]\n",
      " [ 0  0  0  0  0  0  0  2  2 36]]\n"
     ]
    }
   ],
   "source": [
    "y_pred = bst.predict(d_test)\n",
    "\n",
    "print(\"Classification Report\")\n",
    "print(classification_report(y_test, y_pred, digits=4))\n",
    "print(\"Confusion Report\")\n",
    "print(confusion_matrix(y_test, y_pred))"
   ]
  },
  {
   "cell_type": "markdown",
   "id": "5418d4c8-1aa1-4760-a5dd-8622058544ee",
   "metadata": {},
   "source": [
    "## Смешивание моделей (Blending models)"
   ]
  },
  {
   "cell_type": "markdown",
   "id": "9ebcb8eb-e6b4-4cc4-8996-dd46e3077338",
   "metadata": {},
   "source": [
    "<img src=\"figures/blending.png\" style=\"height: 500px;\"/>\n",
    "\n",
    "- Разделите обучающие данные на две части: обучающий и проверочный наборы.\n",
    "- Обучить каждую базовую модель на обучающем наборе.\n",
    "- Сделать прогнозы с использованием базовых моделей на валидационном множестве и новых, неизвестных данных.\n",
    "- Объединить эти прогнозы с помощью заданной функции смешивания или метода агрегирования (например, средневзвешенного, большинства голосов) для получения окончательного результата."
   ]
  },
  {
   "cell_type": "markdown",
   "id": "e42799dc-7b27-4273-98ec-600484cb63ad",
   "metadata": {},
   "source": [
    "### Голосование в задаче классификации (Voting Classifiers)"
   ]
  },
  {
   "cell_type": "code",
   "execution_count": 32,
   "id": "63322ba5-7f82-4d14-bf06-c9e1052f148f",
   "metadata": {},
   "outputs": [],
   "source": [
    "from sklearn.ensemble     import RandomForestClassifier\n",
    "from sklearn.ensemble     import VotingClassifier\n",
    "from sklearn.linear_model import LogisticRegression\n",
    "from sklearn.svm          import SVC"
   ]
  },
  {
   "cell_type": "markdown",
   "id": "21932227-1d63-40e8-aabd-0cdd40569210",
   "metadata": {},
   "source": [
    "#### Hard голосование\n",
    "\n",
    "При `hard` голосовании прогнозируемым выходным классом является класс с наибольшим большинством голосов, т.е. тот класс, который с наибольшей вероятностью был предсказан каждым из классификаторов. Предположим, три классификатора предсказали выходной класс (A, A, B), и здесь большинство предсказало A в качестве выходного. Следовательно, окончательным прогнозом будет A.\n",
    "\n",
    "#### Soft голосование\n",
    "\n",
    "При `soft` голосовании выходным классом является предсказание, основанное на среднем значении вероятности, присвоенной этому классу. Предположим, что на вход трех моделей поданы вероятности предсказания для класса A = (0,30, 0,47, 0,53) и B = (0,20, 0,32, 0,40). Таким образом, среднее значение для класса A равно 0,4333, а для B - 0,3067, и победителем явно становится класс A, поскольку он имеет наибольшую вероятность, усредненную по каждому классификатору.\n"
   ]
  },
  {
   "cell_type": "code",
   "execution_count": 67,
   "id": "ed3305cd-61da-4f36-b630-a9e7f1e07cb7",
   "metadata": {},
   "outputs": [],
   "source": [
    "log_clf = LogisticRegression(solver=\"lbfgs\", max_iter=2000, random_state=42)\n",
    "rnd_clf = RandomForestClassifier(n_estimators=100, random_state=42)\n",
    "svm_clf = SVC(gamma=\"scale\", max_iter=1000, random_state=42)\n",
    "\n",
    "voting_clf = VotingClassifier( estimators=[('lr', log_clf), ('rf', rnd_clf), ('svc', svm_clf)], voting='hard')"
   ]
  },
  {
   "cell_type": "code",
   "execution_count": 68,
   "id": "4f7c6a10-6458-48c4-9b33-75bcadbebe1f",
   "metadata": {},
   "outputs": [
    {
     "data": {
      "text/html": [
       "<style>#sk-container-id-14 {color: black;background-color: white;}#sk-container-id-14 pre{padding: 0;}#sk-container-id-14 div.sk-toggleable {background-color: white;}#sk-container-id-14 label.sk-toggleable__label {cursor: pointer;display: block;width: 100%;margin-bottom: 0;padding: 0.3em;box-sizing: border-box;text-align: center;}#sk-container-id-14 label.sk-toggleable__label-arrow:before {content: \"▸\";float: left;margin-right: 0.25em;color: #696969;}#sk-container-id-14 label.sk-toggleable__label-arrow:hover:before {color: black;}#sk-container-id-14 div.sk-estimator:hover label.sk-toggleable__label-arrow:before {color: black;}#sk-container-id-14 div.sk-toggleable__content {max-height: 0;max-width: 0;overflow: hidden;text-align: left;background-color: #f0f8ff;}#sk-container-id-14 div.sk-toggleable__content pre {margin: 0.2em;color: black;border-radius: 0.25em;background-color: #f0f8ff;}#sk-container-id-14 input.sk-toggleable__control:checked~div.sk-toggleable__content {max-height: 200px;max-width: 100%;overflow: auto;}#sk-container-id-14 input.sk-toggleable__control:checked~label.sk-toggleable__label-arrow:before {content: \"▾\";}#sk-container-id-14 div.sk-estimator input.sk-toggleable__control:checked~label.sk-toggleable__label {background-color: #d4ebff;}#sk-container-id-14 div.sk-label input.sk-toggleable__control:checked~label.sk-toggleable__label {background-color: #d4ebff;}#sk-container-id-14 input.sk-hidden--visually {border: 0;clip: rect(1px 1px 1px 1px);clip: rect(1px, 1px, 1px, 1px);height: 1px;margin: -1px;overflow: hidden;padding: 0;position: absolute;width: 1px;}#sk-container-id-14 div.sk-estimator {font-family: monospace;background-color: #f0f8ff;border: 1px dotted black;border-radius: 0.25em;box-sizing: border-box;margin-bottom: 0.5em;}#sk-container-id-14 div.sk-estimator:hover {background-color: #d4ebff;}#sk-container-id-14 div.sk-parallel-item::after {content: \"\";width: 100%;border-bottom: 1px solid gray;flex-grow: 1;}#sk-container-id-14 div.sk-label:hover label.sk-toggleable__label {background-color: #d4ebff;}#sk-container-id-14 div.sk-serial::before {content: \"\";position: absolute;border-left: 1px solid gray;box-sizing: border-box;top: 0;bottom: 0;left: 50%;z-index: 0;}#sk-container-id-14 div.sk-serial {display: flex;flex-direction: column;align-items: center;background-color: white;padding-right: 0.2em;padding-left: 0.2em;position: relative;}#sk-container-id-14 div.sk-item {position: relative;z-index: 1;}#sk-container-id-14 div.sk-parallel {display: flex;align-items: stretch;justify-content: center;background-color: white;position: relative;}#sk-container-id-14 div.sk-item::before, #sk-container-id-14 div.sk-parallel-item::before {content: \"\";position: absolute;border-left: 1px solid gray;box-sizing: border-box;top: 0;bottom: 0;left: 50%;z-index: -1;}#sk-container-id-14 div.sk-parallel-item {display: flex;flex-direction: column;z-index: 1;position: relative;background-color: white;}#sk-container-id-14 div.sk-parallel-item:first-child::after {align-self: flex-end;width: 50%;}#sk-container-id-14 div.sk-parallel-item:last-child::after {align-self: flex-start;width: 50%;}#sk-container-id-14 div.sk-parallel-item:only-child::after {width: 0;}#sk-container-id-14 div.sk-dashed-wrapped {border: 1px dashed gray;margin: 0 0.4em 0.5em 0.4em;box-sizing: border-box;padding-bottom: 0.4em;background-color: white;}#sk-container-id-14 div.sk-label label {font-family: monospace;font-weight: bold;display: inline-block;line-height: 1.2em;}#sk-container-id-14 div.sk-label-container {text-align: center;}#sk-container-id-14 div.sk-container {/* jupyter's `normalize.less` sets `[hidden] { display: none; }` but bootstrap.min.css set `[hidden] { display: none !important; }` so we also need the `!important` here to be able to override the default hidden behavior on the sphinx rendered scikit-learn.org. See: https://github.com/scikit-learn/scikit-learn/issues/21755 */display: inline-block !important;position: relative;}#sk-container-id-14 div.sk-text-repr-fallback {display: none;}</style><div id=\"sk-container-id-14\" class=\"sk-top-container\"><div class=\"sk-text-repr-fallback\"><pre>VotingClassifier(estimators=[(&#x27;lr&#x27;,\n",
       "                              LogisticRegression(max_iter=2000,\n",
       "                                                 random_state=42)),\n",
       "                             (&#x27;rf&#x27;, RandomForestClassifier(random_state=42)),\n",
       "                             (&#x27;svc&#x27;, SVC(max_iter=1000, random_state=42))])</pre><b>In a Jupyter environment, please rerun this cell to show the HTML representation or trust the notebook. <br />On GitHub, the HTML representation is unable to render, please try loading this page with nbviewer.org.</b></div><div class=\"sk-container\" hidden><div class=\"sk-item sk-dashed-wrapped\"><div class=\"sk-label-container\"><div class=\"sk-label sk-toggleable\"><input class=\"sk-toggleable__control sk-hidden--visually\" id=\"sk-estimator-id-45\" type=\"checkbox\" ><label for=\"sk-estimator-id-45\" class=\"sk-toggleable__label sk-toggleable__label-arrow\">VotingClassifier</label><div class=\"sk-toggleable__content\"><pre>VotingClassifier(estimators=[(&#x27;lr&#x27;,\n",
       "                              LogisticRegression(max_iter=2000,\n",
       "                                                 random_state=42)),\n",
       "                             (&#x27;rf&#x27;, RandomForestClassifier(random_state=42)),\n",
       "                             (&#x27;svc&#x27;, SVC(max_iter=1000, random_state=42))])</pre></div></div></div><div class=\"sk-parallel\"><div class=\"sk-parallel-item\"><div class=\"sk-item\"><div class=\"sk-label-container\"><div class=\"sk-label sk-toggleable\"><label>lr</label></div></div><div class=\"sk-serial\"><div class=\"sk-item\"><div class=\"sk-estimator sk-toggleable\"><input class=\"sk-toggleable__control sk-hidden--visually\" id=\"sk-estimator-id-46\" type=\"checkbox\" ><label for=\"sk-estimator-id-46\" class=\"sk-toggleable__label sk-toggleable__label-arrow\">LogisticRegression</label><div class=\"sk-toggleable__content\"><pre>LogisticRegression(max_iter=2000, random_state=42)</pre></div></div></div></div></div></div><div class=\"sk-parallel-item\"><div class=\"sk-item\"><div class=\"sk-label-container\"><div class=\"sk-label sk-toggleable\"><label>rf</label></div></div><div class=\"sk-serial\"><div class=\"sk-item\"><div class=\"sk-estimator sk-toggleable\"><input class=\"sk-toggleable__control sk-hidden--visually\" id=\"sk-estimator-id-47\" type=\"checkbox\" ><label for=\"sk-estimator-id-47\" class=\"sk-toggleable__label sk-toggleable__label-arrow\">RandomForestClassifier</label><div class=\"sk-toggleable__content\"><pre>RandomForestClassifier(random_state=42)</pre></div></div></div></div></div></div><div class=\"sk-parallel-item\"><div class=\"sk-item\"><div class=\"sk-label-container\"><div class=\"sk-label sk-toggleable\"><label>svc</label></div></div><div class=\"sk-serial\"><div class=\"sk-item\"><div class=\"sk-estimator sk-toggleable\"><input class=\"sk-toggleable__control sk-hidden--visually\" id=\"sk-estimator-id-48\" type=\"checkbox\" ><label for=\"sk-estimator-id-48\" class=\"sk-toggleable__label sk-toggleable__label-arrow\">SVC</label><div class=\"sk-toggleable__content\"><pre>SVC(max_iter=1000, random_state=42)</pre></div></div></div></div></div></div></div></div></div></div>"
      ],
      "text/plain": [
       "VotingClassifier(estimators=[('lr',\n",
       "                              LogisticRegression(max_iter=2000,\n",
       "                                                 random_state=42)),\n",
       "                             ('rf', RandomForestClassifier(random_state=42)),\n",
       "                             ('svc', SVC(max_iter=1000, random_state=42))])"
      ]
     },
     "execution_count": 68,
     "metadata": {},
     "output_type": "execute_result"
    }
   ],
   "source": [
    "voting_clf.fit(X_train_std, y_train)"
   ]
  },
  {
   "cell_type": "code",
   "execution_count": 69,
   "id": "0ef7cc0e-7748-4135-94f2-876cdab0bece",
   "metadata": {},
   "outputs": [
    {
     "name": "stderr",
     "output_type": "stream",
     "text": [
      "/home/sergey/anaconda3/envs/work/lib/python3.8/site-packages/sklearn/linear_model/_logistic.py:458: ConvergenceWarning: lbfgs failed to converge (status=1):\n",
      "STOP: TOTAL NO. of ITERATIONS REACHED LIMIT.\n",
      "\n",
      "Increase the number of iterations (max_iter) or scale the data as shown in:\n",
      "    https://scikit-learn.org/stable/modules/preprocessing.html\n",
      "Please also refer to the documentation for alternative solver options:\n",
      "    https://scikit-learn.org/stable/modules/linear_model.html#logistic-regression\n",
      "  n_iter_i = _check_optimize_result(\n"
     ]
    },
    {
     "name": "stdout",
     "output_type": "stream",
     "text": [
      "LogisticRegression 0.9722222222222222\n",
      "RandomForestClassifier 0.9722222222222222\n",
      "SVC 0.9861111111111112\n"
     ]
    },
    {
     "name": "stderr",
     "output_type": "stream",
     "text": [
      "/home/sergey/anaconda3/envs/work/lib/python3.8/site-packages/sklearn/linear_model/_logistic.py:458: ConvergenceWarning: lbfgs failed to converge (status=1):\n",
      "STOP: TOTAL NO. of ITERATIONS REACHED LIMIT.\n",
      "\n",
      "Increase the number of iterations (max_iter) or scale the data as shown in:\n",
      "    https://scikit-learn.org/stable/modules/preprocessing.html\n",
      "Please also refer to the documentation for alternative solver options:\n",
      "    https://scikit-learn.org/stable/modules/linear_model.html#logistic-regression\n",
      "  n_iter_i = _check_optimize_result(\n"
     ]
    },
    {
     "name": "stdout",
     "output_type": "stream",
     "text": [
      "VotingClassifier 0.9805555555555555\n"
     ]
    }
   ],
   "source": [
    "for clf in (log_clf, rnd_clf, svm_clf, voting_clf):\n",
    "    clf.fit(X_train, y_train)\n",
    "    y_pred = clf.predict(X_test)\n",
    "    print(clf.__class__.__name__, accuracy_score(y_test, y_pred))"
   ]
  },
  {
   "cell_type": "code",
   "execution_count": 70,
   "id": "816c51d5-845a-4d77-98fe-a57ad6b14801",
   "metadata": {},
   "outputs": [
    {
     "name": "stderr",
     "output_type": "stream",
     "text": [
      "/home/sergey/anaconda3/envs/work/lib/python3.8/site-packages/sklearn/linear_model/_logistic.py:458: ConvergenceWarning: lbfgs failed to converge (status=1):\n",
      "STOP: TOTAL NO. of ITERATIONS REACHED LIMIT.\n",
      "\n",
      "Increase the number of iterations (max_iter) or scale the data as shown in:\n",
      "    https://scikit-learn.org/stable/modules/preprocessing.html\n",
      "Please also refer to the documentation for alternative solver options:\n",
      "    https://scikit-learn.org/stable/modules/linear_model.html#logistic-regression\n",
      "  n_iter_i = _check_optimize_result(\n"
     ]
    },
    {
     "data": {
      "text/html": [
       "<style>#sk-container-id-15 {color: black;background-color: white;}#sk-container-id-15 pre{padding: 0;}#sk-container-id-15 div.sk-toggleable {background-color: white;}#sk-container-id-15 label.sk-toggleable__label {cursor: pointer;display: block;width: 100%;margin-bottom: 0;padding: 0.3em;box-sizing: border-box;text-align: center;}#sk-container-id-15 label.sk-toggleable__label-arrow:before {content: \"▸\";float: left;margin-right: 0.25em;color: #696969;}#sk-container-id-15 label.sk-toggleable__label-arrow:hover:before {color: black;}#sk-container-id-15 div.sk-estimator:hover label.sk-toggleable__label-arrow:before {color: black;}#sk-container-id-15 div.sk-toggleable__content {max-height: 0;max-width: 0;overflow: hidden;text-align: left;background-color: #f0f8ff;}#sk-container-id-15 div.sk-toggleable__content pre {margin: 0.2em;color: black;border-radius: 0.25em;background-color: #f0f8ff;}#sk-container-id-15 input.sk-toggleable__control:checked~div.sk-toggleable__content {max-height: 200px;max-width: 100%;overflow: auto;}#sk-container-id-15 input.sk-toggleable__control:checked~label.sk-toggleable__label-arrow:before {content: \"▾\";}#sk-container-id-15 div.sk-estimator input.sk-toggleable__control:checked~label.sk-toggleable__label {background-color: #d4ebff;}#sk-container-id-15 div.sk-label input.sk-toggleable__control:checked~label.sk-toggleable__label {background-color: #d4ebff;}#sk-container-id-15 input.sk-hidden--visually {border: 0;clip: rect(1px 1px 1px 1px);clip: rect(1px, 1px, 1px, 1px);height: 1px;margin: -1px;overflow: hidden;padding: 0;position: absolute;width: 1px;}#sk-container-id-15 div.sk-estimator {font-family: monospace;background-color: #f0f8ff;border: 1px dotted black;border-radius: 0.25em;box-sizing: border-box;margin-bottom: 0.5em;}#sk-container-id-15 div.sk-estimator:hover {background-color: #d4ebff;}#sk-container-id-15 div.sk-parallel-item::after {content: \"\";width: 100%;border-bottom: 1px solid gray;flex-grow: 1;}#sk-container-id-15 div.sk-label:hover label.sk-toggleable__label {background-color: #d4ebff;}#sk-container-id-15 div.sk-serial::before {content: \"\";position: absolute;border-left: 1px solid gray;box-sizing: border-box;top: 0;bottom: 0;left: 50%;z-index: 0;}#sk-container-id-15 div.sk-serial {display: flex;flex-direction: column;align-items: center;background-color: white;padding-right: 0.2em;padding-left: 0.2em;position: relative;}#sk-container-id-15 div.sk-item {position: relative;z-index: 1;}#sk-container-id-15 div.sk-parallel {display: flex;align-items: stretch;justify-content: center;background-color: white;position: relative;}#sk-container-id-15 div.sk-item::before, #sk-container-id-15 div.sk-parallel-item::before {content: \"\";position: absolute;border-left: 1px solid gray;box-sizing: border-box;top: 0;bottom: 0;left: 50%;z-index: -1;}#sk-container-id-15 div.sk-parallel-item {display: flex;flex-direction: column;z-index: 1;position: relative;background-color: white;}#sk-container-id-15 div.sk-parallel-item:first-child::after {align-self: flex-end;width: 50%;}#sk-container-id-15 div.sk-parallel-item:last-child::after {align-self: flex-start;width: 50%;}#sk-container-id-15 div.sk-parallel-item:only-child::after {width: 0;}#sk-container-id-15 div.sk-dashed-wrapped {border: 1px dashed gray;margin: 0 0.4em 0.5em 0.4em;box-sizing: border-box;padding-bottom: 0.4em;background-color: white;}#sk-container-id-15 div.sk-label label {font-family: monospace;font-weight: bold;display: inline-block;line-height: 1.2em;}#sk-container-id-15 div.sk-label-container {text-align: center;}#sk-container-id-15 div.sk-container {/* jupyter's `normalize.less` sets `[hidden] { display: none; }` but bootstrap.min.css set `[hidden] { display: none !important; }` so we also need the `!important` here to be able to override the default hidden behavior on the sphinx rendered scikit-learn.org. See: https://github.com/scikit-learn/scikit-learn/issues/21755 */display: inline-block !important;position: relative;}#sk-container-id-15 div.sk-text-repr-fallback {display: none;}</style><div id=\"sk-container-id-15\" class=\"sk-top-container\"><div class=\"sk-text-repr-fallback\"><pre>VotingClassifier(estimators=[(&#x27;lr&#x27;,\n",
       "                              LogisticRegression(max_iter=1000,\n",
       "                                                 random_state=42)),\n",
       "                             (&#x27;rf&#x27;, RandomForestClassifier(random_state=42)),\n",
       "                             (&#x27;svc&#x27;, SVC(probability=True, random_state=42))],\n",
       "                 voting=&#x27;soft&#x27;)</pre><b>In a Jupyter environment, please rerun this cell to show the HTML representation or trust the notebook. <br />On GitHub, the HTML representation is unable to render, please try loading this page with nbviewer.org.</b></div><div class=\"sk-container\" hidden><div class=\"sk-item sk-dashed-wrapped\"><div class=\"sk-label-container\"><div class=\"sk-label sk-toggleable\"><input class=\"sk-toggleable__control sk-hidden--visually\" id=\"sk-estimator-id-49\" type=\"checkbox\" ><label for=\"sk-estimator-id-49\" class=\"sk-toggleable__label sk-toggleable__label-arrow\">VotingClassifier</label><div class=\"sk-toggleable__content\"><pre>VotingClassifier(estimators=[(&#x27;lr&#x27;,\n",
       "                              LogisticRegression(max_iter=1000,\n",
       "                                                 random_state=42)),\n",
       "                             (&#x27;rf&#x27;, RandomForestClassifier(random_state=42)),\n",
       "                             (&#x27;svc&#x27;, SVC(probability=True, random_state=42))],\n",
       "                 voting=&#x27;soft&#x27;)</pre></div></div></div><div class=\"sk-parallel\"><div class=\"sk-parallel-item\"><div class=\"sk-item\"><div class=\"sk-label-container\"><div class=\"sk-label sk-toggleable\"><label>lr</label></div></div><div class=\"sk-serial\"><div class=\"sk-item\"><div class=\"sk-estimator sk-toggleable\"><input class=\"sk-toggleable__control sk-hidden--visually\" id=\"sk-estimator-id-50\" type=\"checkbox\" ><label for=\"sk-estimator-id-50\" class=\"sk-toggleable__label sk-toggleable__label-arrow\">LogisticRegression</label><div class=\"sk-toggleable__content\"><pre>LogisticRegression(max_iter=1000, random_state=42)</pre></div></div></div></div></div></div><div class=\"sk-parallel-item\"><div class=\"sk-item\"><div class=\"sk-label-container\"><div class=\"sk-label sk-toggleable\"><label>rf</label></div></div><div class=\"sk-serial\"><div class=\"sk-item\"><div class=\"sk-estimator sk-toggleable\"><input class=\"sk-toggleable__control sk-hidden--visually\" id=\"sk-estimator-id-51\" type=\"checkbox\" ><label for=\"sk-estimator-id-51\" class=\"sk-toggleable__label sk-toggleable__label-arrow\">RandomForestClassifier</label><div class=\"sk-toggleable__content\"><pre>RandomForestClassifier(random_state=42)</pre></div></div></div></div></div></div><div class=\"sk-parallel-item\"><div class=\"sk-item\"><div class=\"sk-label-container\"><div class=\"sk-label sk-toggleable\"><label>svc</label></div></div><div class=\"sk-serial\"><div class=\"sk-item\"><div class=\"sk-estimator sk-toggleable\"><input class=\"sk-toggleable__control sk-hidden--visually\" id=\"sk-estimator-id-52\" type=\"checkbox\" ><label for=\"sk-estimator-id-52\" class=\"sk-toggleable__label sk-toggleable__label-arrow\">SVC</label><div class=\"sk-toggleable__content\"><pre>SVC(probability=True, random_state=42)</pre></div></div></div></div></div></div></div></div></div></div>"
      ],
      "text/plain": [
       "VotingClassifier(estimators=[('lr',\n",
       "                              LogisticRegression(max_iter=1000,\n",
       "                                                 random_state=42)),\n",
       "                             ('rf', RandomForestClassifier(random_state=42)),\n",
       "                             ('svc', SVC(probability=True, random_state=42))],\n",
       "                 voting='soft')"
      ]
     },
     "execution_count": 70,
     "metadata": {},
     "output_type": "execute_result"
    }
   ],
   "source": [
    "log_clf = LogisticRegression(solver=\"lbfgs\", max_iter=1000, random_state=42)\n",
    "rnd_clf = RandomForestClassifier(n_estimators=100, random_state=42)\n",
    "svm_clf = SVC(gamma=\"scale\", probability=True, random_state=42)\n",
    "\n",
    "voting_clf = VotingClassifier( estimators=[('lr', log_clf), ('rf', rnd_clf), ('svc', svm_clf)], voting='soft')\n",
    "voting_clf.fit(X_train, y_train)"
   ]
  },
  {
   "cell_type": "code",
   "execution_count": 71,
   "id": "0cb5baa5-6240-4bad-aecb-3f153a9328dc",
   "metadata": {},
   "outputs": [
    {
     "name": "stderr",
     "output_type": "stream",
     "text": [
      "/home/sergey/anaconda3/envs/work/lib/python3.8/site-packages/sklearn/linear_model/_logistic.py:458: ConvergenceWarning: lbfgs failed to converge (status=1):\n",
      "STOP: TOTAL NO. of ITERATIONS REACHED LIMIT.\n",
      "\n",
      "Increase the number of iterations (max_iter) or scale the data as shown in:\n",
      "    https://scikit-learn.org/stable/modules/preprocessing.html\n",
      "Please also refer to the documentation for alternative solver options:\n",
      "    https://scikit-learn.org/stable/modules/linear_model.html#logistic-regression\n",
      "  n_iter_i = _check_optimize_result(\n"
     ]
    },
    {
     "name": "stdout",
     "output_type": "stream",
     "text": [
      "LogisticRegression 0.9722222222222222\n",
      "RandomForestClassifier 0.9722222222222222\n",
      "SVC 0.9861111111111112\n"
     ]
    },
    {
     "name": "stderr",
     "output_type": "stream",
     "text": [
      "/home/sergey/anaconda3/envs/work/lib/python3.8/site-packages/sklearn/linear_model/_logistic.py:458: ConvergenceWarning: lbfgs failed to converge (status=1):\n",
      "STOP: TOTAL NO. of ITERATIONS REACHED LIMIT.\n",
      "\n",
      "Increase the number of iterations (max_iter) or scale the data as shown in:\n",
      "    https://scikit-learn.org/stable/modules/preprocessing.html\n",
      "Please also refer to the documentation for alternative solver options:\n",
      "    https://scikit-learn.org/stable/modules/linear_model.html#logistic-regression\n",
      "  n_iter_i = _check_optimize_result(\n"
     ]
    },
    {
     "name": "stdout",
     "output_type": "stream",
     "text": [
      "VotingClassifier 0.9805555555555555\n"
     ]
    }
   ],
   "source": [
    "from sklearn.metrics import accuracy_score\n",
    "\n",
    "for clf in (log_clf, rnd_clf, svm_clf, voting_clf):\n",
    "    clf.fit(X_train, y_train)\n",
    "    y_pred = clf.predict(X_test)\n",
    "    print(clf.__class__.__name__, accuracy_score(y_test, y_pred))"
   ]
  },
  {
   "cell_type": "code",
   "execution_count": 72,
   "id": "6694d82f-6746-40b9-a572-6f3665412a30",
   "metadata": {},
   "outputs": [],
   "source": [
    "random_forest_clf = RandomForestClassifier(n_estimators=100, random_state=42)\n",
    "extra_trees_clf   = ExtraTreesClassifier  (n_estimators=100, random_state=42)\n",
    "svm_clf           = LinearSVC             (max_iter=200, tol=20, random_state=42)\n",
    "mlp_clf           = MLPClassifier         (random_state=42)"
   ]
  },
  {
   "cell_type": "code",
   "execution_count": 73,
   "id": "444c88f3-5b38-4cf0-a96e-b499dcb2573b",
   "metadata": {},
   "outputs": [],
   "source": [
    "named_estimators = [\n",
    "    (\"random_forest_clf\", random_forest_clf),\n",
    "    (\"extra_trees_clf\"  , extra_trees_clf  ),\n",
    "    (\"svm_clf\"          , svm_clf          ),\n",
    "    (\"mlp_clf\"          , mlp_clf          ),\n",
    "]"
   ]
  },
  {
   "cell_type": "code",
   "execution_count": 74,
   "id": "1736a638-fef3-437d-8d99-4ffa1ca074e5",
   "metadata": {},
   "outputs": [],
   "source": [
    "voting_clf = VotingClassifier(named_estimators)"
   ]
  },
  {
   "cell_type": "code",
   "execution_count": 78,
   "id": "a9a3d951-550b-4946-a458-c137df313d3a",
   "metadata": {},
   "outputs": [
    {
     "data": {
      "text/html": [
       "<style>#sk-container-id-17 {color: black;background-color: white;}#sk-container-id-17 pre{padding: 0;}#sk-container-id-17 div.sk-toggleable {background-color: white;}#sk-container-id-17 label.sk-toggleable__label {cursor: pointer;display: block;width: 100%;margin-bottom: 0;padding: 0.3em;box-sizing: border-box;text-align: center;}#sk-container-id-17 label.sk-toggleable__label-arrow:before {content: \"▸\";float: left;margin-right: 0.25em;color: #696969;}#sk-container-id-17 label.sk-toggleable__label-arrow:hover:before {color: black;}#sk-container-id-17 div.sk-estimator:hover label.sk-toggleable__label-arrow:before {color: black;}#sk-container-id-17 div.sk-toggleable__content {max-height: 0;max-width: 0;overflow: hidden;text-align: left;background-color: #f0f8ff;}#sk-container-id-17 div.sk-toggleable__content pre {margin: 0.2em;color: black;border-radius: 0.25em;background-color: #f0f8ff;}#sk-container-id-17 input.sk-toggleable__control:checked~div.sk-toggleable__content {max-height: 200px;max-width: 100%;overflow: auto;}#sk-container-id-17 input.sk-toggleable__control:checked~label.sk-toggleable__label-arrow:before {content: \"▾\";}#sk-container-id-17 div.sk-estimator input.sk-toggleable__control:checked~label.sk-toggleable__label {background-color: #d4ebff;}#sk-container-id-17 div.sk-label input.sk-toggleable__control:checked~label.sk-toggleable__label {background-color: #d4ebff;}#sk-container-id-17 input.sk-hidden--visually {border: 0;clip: rect(1px 1px 1px 1px);clip: rect(1px, 1px, 1px, 1px);height: 1px;margin: -1px;overflow: hidden;padding: 0;position: absolute;width: 1px;}#sk-container-id-17 div.sk-estimator {font-family: monospace;background-color: #f0f8ff;border: 1px dotted black;border-radius: 0.25em;box-sizing: border-box;margin-bottom: 0.5em;}#sk-container-id-17 div.sk-estimator:hover {background-color: #d4ebff;}#sk-container-id-17 div.sk-parallel-item::after {content: \"\";width: 100%;border-bottom: 1px solid gray;flex-grow: 1;}#sk-container-id-17 div.sk-label:hover label.sk-toggleable__label {background-color: #d4ebff;}#sk-container-id-17 div.sk-serial::before {content: \"\";position: absolute;border-left: 1px solid gray;box-sizing: border-box;top: 0;bottom: 0;left: 50%;z-index: 0;}#sk-container-id-17 div.sk-serial {display: flex;flex-direction: column;align-items: center;background-color: white;padding-right: 0.2em;padding-left: 0.2em;position: relative;}#sk-container-id-17 div.sk-item {position: relative;z-index: 1;}#sk-container-id-17 div.sk-parallel {display: flex;align-items: stretch;justify-content: center;background-color: white;position: relative;}#sk-container-id-17 div.sk-item::before, #sk-container-id-17 div.sk-parallel-item::before {content: \"\";position: absolute;border-left: 1px solid gray;box-sizing: border-box;top: 0;bottom: 0;left: 50%;z-index: -1;}#sk-container-id-17 div.sk-parallel-item {display: flex;flex-direction: column;z-index: 1;position: relative;background-color: white;}#sk-container-id-17 div.sk-parallel-item:first-child::after {align-self: flex-end;width: 50%;}#sk-container-id-17 div.sk-parallel-item:last-child::after {align-self: flex-start;width: 50%;}#sk-container-id-17 div.sk-parallel-item:only-child::after {width: 0;}#sk-container-id-17 div.sk-dashed-wrapped {border: 1px dashed gray;margin: 0 0.4em 0.5em 0.4em;box-sizing: border-box;padding-bottom: 0.4em;background-color: white;}#sk-container-id-17 div.sk-label label {font-family: monospace;font-weight: bold;display: inline-block;line-height: 1.2em;}#sk-container-id-17 div.sk-label-container {text-align: center;}#sk-container-id-17 div.sk-container {/* jupyter's `normalize.less` sets `[hidden] { display: none; }` but bootstrap.min.css set `[hidden] { display: none !important; }` so we also need the `!important` here to be able to override the default hidden behavior on the sphinx rendered scikit-learn.org. See: https://github.com/scikit-learn/scikit-learn/issues/21755 */display: inline-block !important;position: relative;}#sk-container-id-17 div.sk-text-repr-fallback {display: none;}</style><div id=\"sk-container-id-17\" class=\"sk-top-container\"><div class=\"sk-text-repr-fallback\"><pre>VotingClassifier(estimators=[(&#x27;random_forest_clf&#x27;,\n",
       "                              RandomForestClassifier(random_state=42)),\n",
       "                             (&#x27;extra_trees_clf&#x27;,\n",
       "                              ExtraTreesClassifier(random_state=42)),\n",
       "                             (&#x27;svm_clf&#x27;,\n",
       "                              LinearSVC(max_iter=200, random_state=42, tol=20)),\n",
       "                             (&#x27;mlp_clf&#x27;, MLPClassifier(random_state=42))])</pre><b>In a Jupyter environment, please rerun this cell to show the HTML representation or trust the notebook. <br />On GitHub, the HTML representation is unable to render, please try loading this page with nbviewer.org.</b></div><div class=\"sk-container\" hidden><div class=\"sk-item sk-dashed-wrapped\"><div class=\"sk-label-container\"><div class=\"sk-label sk-toggleable\"><input class=\"sk-toggleable__control sk-hidden--visually\" id=\"sk-estimator-id-58\" type=\"checkbox\" ><label for=\"sk-estimator-id-58\" class=\"sk-toggleable__label sk-toggleable__label-arrow\">VotingClassifier</label><div class=\"sk-toggleable__content\"><pre>VotingClassifier(estimators=[(&#x27;random_forest_clf&#x27;,\n",
       "                              RandomForestClassifier(random_state=42)),\n",
       "                             (&#x27;extra_trees_clf&#x27;,\n",
       "                              ExtraTreesClassifier(random_state=42)),\n",
       "                             (&#x27;svm_clf&#x27;,\n",
       "                              LinearSVC(max_iter=200, random_state=42, tol=20)),\n",
       "                             (&#x27;mlp_clf&#x27;, MLPClassifier(random_state=42))])</pre></div></div></div><div class=\"sk-parallel\"><div class=\"sk-parallel-item\"><div class=\"sk-item\"><div class=\"sk-label-container\"><div class=\"sk-label sk-toggleable\"><label>random_forest_clf</label></div></div><div class=\"sk-serial\"><div class=\"sk-item\"><div class=\"sk-estimator sk-toggleable\"><input class=\"sk-toggleable__control sk-hidden--visually\" id=\"sk-estimator-id-59\" type=\"checkbox\" ><label for=\"sk-estimator-id-59\" class=\"sk-toggleable__label sk-toggleable__label-arrow\">RandomForestClassifier</label><div class=\"sk-toggleable__content\"><pre>RandomForestClassifier(random_state=42)</pre></div></div></div></div></div></div><div class=\"sk-parallel-item\"><div class=\"sk-item\"><div class=\"sk-label-container\"><div class=\"sk-label sk-toggleable\"><label>extra_trees_clf</label></div></div><div class=\"sk-serial\"><div class=\"sk-item\"><div class=\"sk-estimator sk-toggleable\"><input class=\"sk-toggleable__control sk-hidden--visually\" id=\"sk-estimator-id-60\" type=\"checkbox\" ><label for=\"sk-estimator-id-60\" class=\"sk-toggleable__label sk-toggleable__label-arrow\">ExtraTreesClassifier</label><div class=\"sk-toggleable__content\"><pre>ExtraTreesClassifier(random_state=42)</pre></div></div></div></div></div></div><div class=\"sk-parallel-item\"><div class=\"sk-item\"><div class=\"sk-label-container\"><div class=\"sk-label sk-toggleable\"><label>svm_clf</label></div></div><div class=\"sk-serial\"><div class=\"sk-item\"><div class=\"sk-estimator sk-toggleable\"><input class=\"sk-toggleable__control sk-hidden--visually\" id=\"sk-estimator-id-61\" type=\"checkbox\" ><label for=\"sk-estimator-id-61\" class=\"sk-toggleable__label sk-toggleable__label-arrow\">LinearSVC</label><div class=\"sk-toggleable__content\"><pre>LinearSVC(max_iter=200, random_state=42, tol=20)</pre></div></div></div></div></div></div><div class=\"sk-parallel-item\"><div class=\"sk-item\"><div class=\"sk-label-container\"><div class=\"sk-label sk-toggleable\"><label>mlp_clf</label></div></div><div class=\"sk-serial\"><div class=\"sk-item\"><div class=\"sk-estimator sk-toggleable\"><input class=\"sk-toggleable__control sk-hidden--visually\" id=\"sk-estimator-id-62\" type=\"checkbox\" ><label for=\"sk-estimator-id-62\" class=\"sk-toggleable__label sk-toggleable__label-arrow\">MLPClassifier</label><div class=\"sk-toggleable__content\"><pre>MLPClassifier(random_state=42)</pre></div></div></div></div></div></div></div></div></div></div>"
      ],
      "text/plain": [
       "VotingClassifier(estimators=[('random_forest_clf',\n",
       "                              RandomForestClassifier(random_state=42)),\n",
       "                             ('extra_trees_clf',\n",
       "                              ExtraTreesClassifier(random_state=42)),\n",
       "                             ('svm_clf',\n",
       "                              LinearSVC(max_iter=200, random_state=42, tol=20)),\n",
       "                             ('mlp_clf', MLPClassifier(random_state=42))])"
      ]
     },
     "execution_count": 78,
     "metadata": {},
     "output_type": "execute_result"
    }
   ],
   "source": [
    "voting_clf.fit(X_train_std, y_train)"
   ]
  },
  {
   "cell_type": "code",
   "execution_count": 79,
   "id": "3c938ee7-4d4c-46fa-a95b-f3383b6d0f3b",
   "metadata": {},
   "outputs": [
    {
     "data": {
      "text/plain": [
       "0.9805555555555555"
      ]
     },
     "execution_count": 79,
     "metadata": {},
     "output_type": "execute_result"
    }
   ],
   "source": [
    "voting_clf.score(X_test_std, y_test)"
   ]
  },
  {
   "cell_type": "code",
   "execution_count": 81,
   "id": "a240fd8f-f251-47cb-b4b3-b52c2ba4c1cb",
   "metadata": {},
   "outputs": [
    {
     "data": {
      "text/plain": [
       "[0.9722222222222222,\n",
       " 0.9805555555555555,\n",
       " 0.9388888888888889,\n",
       " 0.9805555555555555]"
      ]
     },
     "execution_count": 81,
     "metadata": {},
     "output_type": "execute_result"
    }
   ],
   "source": [
    "[estimator.score(X_test_std, y_test) for estimator in voting_clf.estimators_]"
   ]
  },
  {
   "cell_type": "markdown",
   "id": "3077526b-c6b2-4a00-8313-8dc1fc78e2d5",
   "metadata": {},
   "source": [
    "Давайте удалим SVM и посмотрим, улучшится ли качество модели. Удалить можно, установив для него значение `None` с помощью `set_params()`, например, так:"
   ]
  },
  {
   "cell_type": "code",
   "execution_count": 83,
   "id": "d45a5dbe-a96a-408e-9464-60dd87e67d10",
   "metadata": {},
   "outputs": [],
   "source": [
    "voting_clf.set_params(svm_clf=None)\n",
    "del voting_clf.estimators_[2]"
   ]
  },
  {
   "cell_type": "markdown",
   "id": "b632f4a8-2874-4de0-9ada-547685d81bf9",
   "metadata": {},
   "source": [
    "Теперь снова оценим `VotingClassifier`"
   ]
  },
  {
   "cell_type": "code",
   "execution_count": 85,
   "id": "bc983240-b9f0-4682-8677-1e4a1f11629b",
   "metadata": {},
   "outputs": [
    {
     "data": {
      "text/plain": [
       "0.9805555555555555"
      ]
     },
     "execution_count": 85,
     "metadata": {},
     "output_type": "execute_result"
    }
   ],
   "source": [
    "voting_clf.voting = \"hard\"\n",
    "voting_clf.score(X_test_std, y_test)"
   ]
  },
  {
   "cell_type": "markdown",
   "id": "b13fe949-6ea9-4e37-8eb5-df7de0371bc6",
   "metadata": {},
   "source": [
    "Немного лучше! SVM ухудшала производительность. Теперь попробуем использовать классификатор с мягким голосованием. На самом деле нам не нужно переобучать классификатор, мы можем просто установить `voting` в значение `\"soft\"`"
   ]
  },
  {
   "cell_type": "code",
   "execution_count": 86,
   "id": "8b29b06a-c053-40fb-b916-822dab244035",
   "metadata": {},
   "outputs": [
    {
     "data": {
      "text/plain": [
       "0.9861111111111112"
      ]
     },
     "execution_count": 86,
     "metadata": {},
     "output_type": "execute_result"
    }
   ],
   "source": [
    "voting_clf.voting = \"soft\"\n",
    "voting_clf.score(X_test_std, y_test)"
   ]
  },
  {
   "cell_type": "markdown",
   "id": "9d5ccadb-db42-450c-8491-108c33623670",
   "metadata": {},
   "source": [
    "## Стэкинг моделей"
   ]
  },
  {
   "cell_type": "markdown",
   "id": "4fc40f1d-0142-4707-8888-2d361e34f401",
   "metadata": {},
   "source": [
    "<img src=\"figures/stacking.png\" style=\"height: 500px;\"/>\n",
    "\n",
    "- Разделить обучающие данные на K порций (например, с помощью K-кратной перекрестной валидации).\n",
    "- Обучить каждую базовую модель на K-1 порции данныз и выполнить прогноз на оставшихся порциях данных.\n",
    "- Повторить этот процесс для всех K порций данных, в результате чего для каждой базовой модели будет получен набор мета-прогнозов.\n",
    "- Объединив их, создайть новый набор данных, который будет использоваться в качестве входных признаков для мета-модели.\n",
    "- Обучить мета-модель на этом новом наборе данных с исходной целевой переменной в качестве выходного параметра.\n",
    "- Чтобы сделать прогноз на новых, неизвестных данных, пропустите их через базовые модели для получения прогнозов, а затем используйте эти прогнозы в качестве входных признаков для мета-модели."
   ]
  },
  {
   "cell_type": "code",
   "execution_count": 87,
   "id": "328724f4-7983-4f06-9ec1-972d5f2dcde7",
   "metadata": {},
   "outputs": [],
   "source": [
    "random_forest_clf = RandomForestClassifier(n_estimators=100, random_state=42)\n",
    "extra_trees_clf   = ExtraTreesClassifier  (n_estimators=100, random_state=42)\n",
    "svm_clf           = LinearSVC             (max_iter=200, tol=20, random_state=42)\n",
    "mlp_clf           = MLPClassifier         (random_state=42)"
   ]
  },
  {
   "cell_type": "code",
   "execution_count": 88,
   "id": "084a010f-62b9-4927-a67d-3349f8feafac",
   "metadata": {},
   "outputs": [
    {
     "name": "stdout",
     "output_type": "stream",
     "text": [
      "Training the RandomForestClassifier(random_state=42)\n",
      "Training the ExtraTreesClassifier(random_state=42)\n",
      "Training the LinearSVC(max_iter=200, random_state=42, tol=20)\n",
      "Training the MLPClassifier(random_state=42)\n"
     ]
    }
   ],
   "source": [
    "estimators = [random_forest_clf, extra_trees_clf, svm_clf, mlp_clf]\n",
    "for estimator in estimators:\n",
    "    print(\"Training the\", estimator)\n",
    "    estimator.fit(X_train_std, y_train)"
   ]
  },
  {
   "cell_type": "code",
   "execution_count": 89,
   "id": "e4ac2c6c-0b9d-4fab-8980-6f3957fe3aac",
   "metadata": {},
   "outputs": [
    {
     "data": {
      "text/plain": [
       "[0.9722222222222222,\n",
       " 0.9805555555555555,\n",
       " 0.9388888888888889,\n",
       " 0.9805555555555555]"
      ]
     },
     "execution_count": 89,
     "metadata": {},
     "output_type": "execute_result"
    }
   ],
   "source": [
    "[estimator.score(X_test_std, y_test) for estimator in estimators]"
   ]
  },
  {
   "cell_type": "code",
   "execution_count": 90,
   "id": "7a62f855-4190-4ed5-9e86-275ec88a3fb4",
   "metadata": {},
   "outputs": [],
   "source": [
    "from sklearn.ensemble import StackingClassifier"
   ]
  },
  {
   "cell_type": "code",
   "execution_count": 91,
   "id": "5eebb334-9689-4b1d-ab35-4b913afc68a2",
   "metadata": {},
   "outputs": [],
   "source": [
    "named_estimators = [\n",
    "    (\"random_forest_clf\", random_forest_clf),\n",
    "    (\"extra_trees_clf\"  , extra_trees_clf  ),\n",
    "    (\"svm_clf\"          , svm_clf          ),\n",
    "    (\"mlp_clf\"          , mlp_clf          ),\n",
    "]"
   ]
  },
  {
   "cell_type": "code",
   "execution_count": 101,
   "id": "7200de49-782e-4e87-a090-f9038d6d182a",
   "metadata": {},
   "outputs": [],
   "source": [
    "stacked_clf = StackingClassifier(estimators=named_estimators, final_estimator=LogisticRegression(max_iter=1000))"
   ]
  },
  {
   "cell_type": "code",
   "execution_count": 102,
   "id": "18ef6f14-a466-41f0-84a3-cc3d9d8b73b6",
   "metadata": {},
   "outputs": [
    {
     "data": {
      "text/html": [
       "<style>#sk-container-id-23 {color: black;background-color: white;}#sk-container-id-23 pre{padding: 0;}#sk-container-id-23 div.sk-toggleable {background-color: white;}#sk-container-id-23 label.sk-toggleable__label {cursor: pointer;display: block;width: 100%;margin-bottom: 0;padding: 0.3em;box-sizing: border-box;text-align: center;}#sk-container-id-23 label.sk-toggleable__label-arrow:before {content: \"▸\";float: left;margin-right: 0.25em;color: #696969;}#sk-container-id-23 label.sk-toggleable__label-arrow:hover:before {color: black;}#sk-container-id-23 div.sk-estimator:hover label.sk-toggleable__label-arrow:before {color: black;}#sk-container-id-23 div.sk-toggleable__content {max-height: 0;max-width: 0;overflow: hidden;text-align: left;background-color: #f0f8ff;}#sk-container-id-23 div.sk-toggleable__content pre {margin: 0.2em;color: black;border-radius: 0.25em;background-color: #f0f8ff;}#sk-container-id-23 input.sk-toggleable__control:checked~div.sk-toggleable__content {max-height: 200px;max-width: 100%;overflow: auto;}#sk-container-id-23 input.sk-toggleable__control:checked~label.sk-toggleable__label-arrow:before {content: \"▾\";}#sk-container-id-23 div.sk-estimator input.sk-toggleable__control:checked~label.sk-toggleable__label {background-color: #d4ebff;}#sk-container-id-23 div.sk-label input.sk-toggleable__control:checked~label.sk-toggleable__label {background-color: #d4ebff;}#sk-container-id-23 input.sk-hidden--visually {border: 0;clip: rect(1px 1px 1px 1px);clip: rect(1px, 1px, 1px, 1px);height: 1px;margin: -1px;overflow: hidden;padding: 0;position: absolute;width: 1px;}#sk-container-id-23 div.sk-estimator {font-family: monospace;background-color: #f0f8ff;border: 1px dotted black;border-radius: 0.25em;box-sizing: border-box;margin-bottom: 0.5em;}#sk-container-id-23 div.sk-estimator:hover {background-color: #d4ebff;}#sk-container-id-23 div.sk-parallel-item::after {content: \"\";width: 100%;border-bottom: 1px solid gray;flex-grow: 1;}#sk-container-id-23 div.sk-label:hover label.sk-toggleable__label {background-color: #d4ebff;}#sk-container-id-23 div.sk-serial::before {content: \"\";position: absolute;border-left: 1px solid gray;box-sizing: border-box;top: 0;bottom: 0;left: 50%;z-index: 0;}#sk-container-id-23 div.sk-serial {display: flex;flex-direction: column;align-items: center;background-color: white;padding-right: 0.2em;padding-left: 0.2em;position: relative;}#sk-container-id-23 div.sk-item {position: relative;z-index: 1;}#sk-container-id-23 div.sk-parallel {display: flex;align-items: stretch;justify-content: center;background-color: white;position: relative;}#sk-container-id-23 div.sk-item::before, #sk-container-id-23 div.sk-parallel-item::before {content: \"\";position: absolute;border-left: 1px solid gray;box-sizing: border-box;top: 0;bottom: 0;left: 50%;z-index: -1;}#sk-container-id-23 div.sk-parallel-item {display: flex;flex-direction: column;z-index: 1;position: relative;background-color: white;}#sk-container-id-23 div.sk-parallel-item:first-child::after {align-self: flex-end;width: 50%;}#sk-container-id-23 div.sk-parallel-item:last-child::after {align-self: flex-start;width: 50%;}#sk-container-id-23 div.sk-parallel-item:only-child::after {width: 0;}#sk-container-id-23 div.sk-dashed-wrapped {border: 1px dashed gray;margin: 0 0.4em 0.5em 0.4em;box-sizing: border-box;padding-bottom: 0.4em;background-color: white;}#sk-container-id-23 div.sk-label label {font-family: monospace;font-weight: bold;display: inline-block;line-height: 1.2em;}#sk-container-id-23 div.sk-label-container {text-align: center;}#sk-container-id-23 div.sk-container {/* jupyter's `normalize.less` sets `[hidden] { display: none; }` but bootstrap.min.css set `[hidden] { display: none !important; }` so we also need the `!important` here to be able to override the default hidden behavior on the sphinx rendered scikit-learn.org. See: https://github.com/scikit-learn/scikit-learn/issues/21755 */display: inline-block !important;position: relative;}#sk-container-id-23 div.sk-text-repr-fallback {display: none;}</style><div id=\"sk-container-id-23\" class=\"sk-top-container\"><div class=\"sk-text-repr-fallback\"><pre>StackingClassifier(estimators=[(&#x27;random_forest_clf&#x27;,\n",
       "                                RandomForestClassifier(random_state=42)),\n",
       "                               (&#x27;extra_trees_clf&#x27;,\n",
       "                                ExtraTreesClassifier(random_state=42)),\n",
       "                               (&#x27;mlp_clf&#x27;, MLPClassifier(random_state=42))],\n",
       "                   final_estimator=LogisticRegression(max_iter=1000))</pre><b>In a Jupyter environment, please rerun this cell to show the HTML representation or trust the notebook. <br />On GitHub, the HTML representation is unable to render, please try loading this page with nbviewer.org.</b></div><div class=\"sk-container\" hidden><div class=\"sk-item sk-dashed-wrapped\"><div class=\"sk-label-container\"><div class=\"sk-label sk-toggleable\"><input class=\"sk-toggleable__control sk-hidden--visually\" id=\"sk-estimator-id-91\" type=\"checkbox\" ><label for=\"sk-estimator-id-91\" class=\"sk-toggleable__label sk-toggleable__label-arrow\">StackingClassifier</label><div class=\"sk-toggleable__content\"><pre>StackingClassifier(estimators=[(&#x27;random_forest_clf&#x27;,\n",
       "                                RandomForestClassifier(random_state=42)),\n",
       "                               (&#x27;extra_trees_clf&#x27;,\n",
       "                                ExtraTreesClassifier(random_state=42)),\n",
       "                               (&#x27;mlp_clf&#x27;, MLPClassifier(random_state=42))],\n",
       "                   final_estimator=LogisticRegression(max_iter=1000))</pre></div></div></div><div class=\"sk-serial\"><div class=\"sk-item\"><div class=\"sk-parallel\"><div class=\"sk-parallel-item\"><div class=\"sk-item\"><div class=\"sk-label-container\"><div class=\"sk-label sk-toggleable\"><label>random_forest_clf</label></div></div><div class=\"sk-serial\"><div class=\"sk-item\"><div class=\"sk-estimator sk-toggleable\"><input class=\"sk-toggleable__control sk-hidden--visually\" id=\"sk-estimator-id-92\" type=\"checkbox\" ><label for=\"sk-estimator-id-92\" class=\"sk-toggleable__label sk-toggleable__label-arrow\">RandomForestClassifier</label><div class=\"sk-toggleable__content\"><pre>RandomForestClassifier(random_state=42)</pre></div></div></div></div></div></div><div class=\"sk-parallel-item\"><div class=\"sk-item\"><div class=\"sk-label-container\"><div class=\"sk-label sk-toggleable\"><label>extra_trees_clf</label></div></div><div class=\"sk-serial\"><div class=\"sk-item\"><div class=\"sk-estimator sk-toggleable\"><input class=\"sk-toggleable__control sk-hidden--visually\" id=\"sk-estimator-id-93\" type=\"checkbox\" ><label for=\"sk-estimator-id-93\" class=\"sk-toggleable__label sk-toggleable__label-arrow\">ExtraTreesClassifier</label><div class=\"sk-toggleable__content\"><pre>ExtraTreesClassifier(random_state=42)</pre></div></div></div></div></div></div><div class=\"sk-parallel-item\"><div class=\"sk-item\"><div class=\"sk-label-container\"><div class=\"sk-label sk-toggleable\"><label>mlp_clf</label></div></div><div class=\"sk-serial\"><div class=\"sk-item\"><div class=\"sk-estimator sk-toggleable\"><input class=\"sk-toggleable__control sk-hidden--visually\" id=\"sk-estimator-id-94\" type=\"checkbox\" ><label for=\"sk-estimator-id-94\" class=\"sk-toggleable__label sk-toggleable__label-arrow\">MLPClassifier</label><div class=\"sk-toggleable__content\"><pre>MLPClassifier(random_state=42)</pre></div></div></div></div></div></div></div></div><div class=\"sk-item\"><div class=\"sk-parallel\"><div class=\"sk-parallel-item\"><div class=\"sk-item\"><div class=\"sk-label-container\"><div class=\"sk-label sk-toggleable\"><label>final_estimator</label></div></div><div class=\"sk-serial\"><div class=\"sk-item\"><div class=\"sk-estimator sk-toggleable\"><input class=\"sk-toggleable__control sk-hidden--visually\" id=\"sk-estimator-id-95\" type=\"checkbox\" ><label for=\"sk-estimator-id-95\" class=\"sk-toggleable__label sk-toggleable__label-arrow\">LogisticRegression</label><div class=\"sk-toggleable__content\"><pre>LogisticRegression(max_iter=1000)</pre></div></div></div></div></div></div></div></div></div></div></div></div>"
      ],
      "text/plain": [
       "StackingClassifier(estimators=[('random_forest_clf',\n",
       "                                RandomForestClassifier(random_state=42)),\n",
       "                               ('extra_trees_clf',\n",
       "                                ExtraTreesClassifier(random_state=42)),\n",
       "                               ('mlp_clf', MLPClassifier(random_state=42))],\n",
       "                   final_estimator=LogisticRegression(max_iter=1000))"
      ]
     },
     "execution_count": 102,
     "metadata": {},
     "output_type": "execute_result"
    }
   ],
   "source": [
    "stacked_clf.fit(X_train_std, y_train)"
   ]
  },
  {
   "cell_type": "code",
   "execution_count": 103,
   "id": "36f438e8-144a-4926-a033-3d66883887cd",
   "metadata": {},
   "outputs": [
    {
     "data": {
      "text/plain": [
       "0.9861111111111112"
      ]
     },
     "execution_count": 103,
     "metadata": {},
     "output_type": "execute_result"
    }
   ],
   "source": [
    "stacked_clf.score(X_test_std, y_test)"
   ]
  },
  {
   "cell_type": "code",
   "execution_count": 104,
   "id": "66e29fc6-4133-4777-ac9d-0248bc789a92",
   "metadata": {},
   "outputs": [],
   "source": [
    "named_estimators = [\n",
    "    (\"random_forest_clf\", random_forest_clf),\n",
    "    (\"extra_trees_clf\"  , extra_trees_clf  ),\n",
    "    (\"mlp_clf\"          , mlp_clf          ),\n",
    "]"
   ]
  },
  {
   "cell_type": "code",
   "execution_count": 105,
   "id": "06d7fadf-2890-4bff-b1c8-cd459c067290",
   "metadata": {},
   "outputs": [],
   "source": [
    "stacked_clf = StackingClassifier(estimators=named_estimators, final_estimator=LogisticRegression())"
   ]
  },
  {
   "cell_type": "code",
   "execution_count": 106,
   "id": "02930942-e035-490e-b82c-43e4281c3250",
   "metadata": {},
   "outputs": [
    {
     "data": {
      "text/html": [
       "<style>#sk-container-id-24 {color: black;background-color: white;}#sk-container-id-24 pre{padding: 0;}#sk-container-id-24 div.sk-toggleable {background-color: white;}#sk-container-id-24 label.sk-toggleable__label {cursor: pointer;display: block;width: 100%;margin-bottom: 0;padding: 0.3em;box-sizing: border-box;text-align: center;}#sk-container-id-24 label.sk-toggleable__label-arrow:before {content: \"▸\";float: left;margin-right: 0.25em;color: #696969;}#sk-container-id-24 label.sk-toggleable__label-arrow:hover:before {color: black;}#sk-container-id-24 div.sk-estimator:hover label.sk-toggleable__label-arrow:before {color: black;}#sk-container-id-24 div.sk-toggleable__content {max-height: 0;max-width: 0;overflow: hidden;text-align: left;background-color: #f0f8ff;}#sk-container-id-24 div.sk-toggleable__content pre {margin: 0.2em;color: black;border-radius: 0.25em;background-color: #f0f8ff;}#sk-container-id-24 input.sk-toggleable__control:checked~div.sk-toggleable__content {max-height: 200px;max-width: 100%;overflow: auto;}#sk-container-id-24 input.sk-toggleable__control:checked~label.sk-toggleable__label-arrow:before {content: \"▾\";}#sk-container-id-24 div.sk-estimator input.sk-toggleable__control:checked~label.sk-toggleable__label {background-color: #d4ebff;}#sk-container-id-24 div.sk-label input.sk-toggleable__control:checked~label.sk-toggleable__label {background-color: #d4ebff;}#sk-container-id-24 input.sk-hidden--visually {border: 0;clip: rect(1px 1px 1px 1px);clip: rect(1px, 1px, 1px, 1px);height: 1px;margin: -1px;overflow: hidden;padding: 0;position: absolute;width: 1px;}#sk-container-id-24 div.sk-estimator {font-family: monospace;background-color: #f0f8ff;border: 1px dotted black;border-radius: 0.25em;box-sizing: border-box;margin-bottom: 0.5em;}#sk-container-id-24 div.sk-estimator:hover {background-color: #d4ebff;}#sk-container-id-24 div.sk-parallel-item::after {content: \"\";width: 100%;border-bottom: 1px solid gray;flex-grow: 1;}#sk-container-id-24 div.sk-label:hover label.sk-toggleable__label {background-color: #d4ebff;}#sk-container-id-24 div.sk-serial::before {content: \"\";position: absolute;border-left: 1px solid gray;box-sizing: border-box;top: 0;bottom: 0;left: 50%;z-index: 0;}#sk-container-id-24 div.sk-serial {display: flex;flex-direction: column;align-items: center;background-color: white;padding-right: 0.2em;padding-left: 0.2em;position: relative;}#sk-container-id-24 div.sk-item {position: relative;z-index: 1;}#sk-container-id-24 div.sk-parallel {display: flex;align-items: stretch;justify-content: center;background-color: white;position: relative;}#sk-container-id-24 div.sk-item::before, #sk-container-id-24 div.sk-parallel-item::before {content: \"\";position: absolute;border-left: 1px solid gray;box-sizing: border-box;top: 0;bottom: 0;left: 50%;z-index: -1;}#sk-container-id-24 div.sk-parallel-item {display: flex;flex-direction: column;z-index: 1;position: relative;background-color: white;}#sk-container-id-24 div.sk-parallel-item:first-child::after {align-self: flex-end;width: 50%;}#sk-container-id-24 div.sk-parallel-item:last-child::after {align-self: flex-start;width: 50%;}#sk-container-id-24 div.sk-parallel-item:only-child::after {width: 0;}#sk-container-id-24 div.sk-dashed-wrapped {border: 1px dashed gray;margin: 0 0.4em 0.5em 0.4em;box-sizing: border-box;padding-bottom: 0.4em;background-color: white;}#sk-container-id-24 div.sk-label label {font-family: monospace;font-weight: bold;display: inline-block;line-height: 1.2em;}#sk-container-id-24 div.sk-label-container {text-align: center;}#sk-container-id-24 div.sk-container {/* jupyter's `normalize.less` sets `[hidden] { display: none; }` but bootstrap.min.css set `[hidden] { display: none !important; }` so we also need the `!important` here to be able to override the default hidden behavior on the sphinx rendered scikit-learn.org. See: https://github.com/scikit-learn/scikit-learn/issues/21755 */display: inline-block !important;position: relative;}#sk-container-id-24 div.sk-text-repr-fallback {display: none;}</style><div id=\"sk-container-id-24\" class=\"sk-top-container\"><div class=\"sk-text-repr-fallback\"><pre>StackingClassifier(estimators=[(&#x27;random_forest_clf&#x27;,\n",
       "                                RandomForestClassifier(random_state=42)),\n",
       "                               (&#x27;extra_trees_clf&#x27;,\n",
       "                                ExtraTreesClassifier(random_state=42)),\n",
       "                               (&#x27;mlp_clf&#x27;, MLPClassifier(random_state=42))],\n",
       "                   final_estimator=LogisticRegression())</pre><b>In a Jupyter environment, please rerun this cell to show the HTML representation or trust the notebook. <br />On GitHub, the HTML representation is unable to render, please try loading this page with nbviewer.org.</b></div><div class=\"sk-container\" hidden><div class=\"sk-item sk-dashed-wrapped\"><div class=\"sk-label-container\"><div class=\"sk-label sk-toggleable\"><input class=\"sk-toggleable__control sk-hidden--visually\" id=\"sk-estimator-id-96\" type=\"checkbox\" ><label for=\"sk-estimator-id-96\" class=\"sk-toggleable__label sk-toggleable__label-arrow\">StackingClassifier</label><div class=\"sk-toggleable__content\"><pre>StackingClassifier(estimators=[(&#x27;random_forest_clf&#x27;,\n",
       "                                RandomForestClassifier(random_state=42)),\n",
       "                               (&#x27;extra_trees_clf&#x27;,\n",
       "                                ExtraTreesClassifier(random_state=42)),\n",
       "                               (&#x27;mlp_clf&#x27;, MLPClassifier(random_state=42))],\n",
       "                   final_estimator=LogisticRegression())</pre></div></div></div><div class=\"sk-serial\"><div class=\"sk-item\"><div class=\"sk-parallel\"><div class=\"sk-parallel-item\"><div class=\"sk-item\"><div class=\"sk-label-container\"><div class=\"sk-label sk-toggleable\"><label>random_forest_clf</label></div></div><div class=\"sk-serial\"><div class=\"sk-item\"><div class=\"sk-estimator sk-toggleable\"><input class=\"sk-toggleable__control sk-hidden--visually\" id=\"sk-estimator-id-97\" type=\"checkbox\" ><label for=\"sk-estimator-id-97\" class=\"sk-toggleable__label sk-toggleable__label-arrow\">RandomForestClassifier</label><div class=\"sk-toggleable__content\"><pre>RandomForestClassifier(random_state=42)</pre></div></div></div></div></div></div><div class=\"sk-parallel-item\"><div class=\"sk-item\"><div class=\"sk-label-container\"><div class=\"sk-label sk-toggleable\"><label>extra_trees_clf</label></div></div><div class=\"sk-serial\"><div class=\"sk-item\"><div class=\"sk-estimator sk-toggleable\"><input class=\"sk-toggleable__control sk-hidden--visually\" id=\"sk-estimator-id-98\" type=\"checkbox\" ><label for=\"sk-estimator-id-98\" class=\"sk-toggleable__label sk-toggleable__label-arrow\">ExtraTreesClassifier</label><div class=\"sk-toggleable__content\"><pre>ExtraTreesClassifier(random_state=42)</pre></div></div></div></div></div></div><div class=\"sk-parallel-item\"><div class=\"sk-item\"><div class=\"sk-label-container\"><div class=\"sk-label sk-toggleable\"><label>mlp_clf</label></div></div><div class=\"sk-serial\"><div class=\"sk-item\"><div class=\"sk-estimator sk-toggleable\"><input class=\"sk-toggleable__control sk-hidden--visually\" id=\"sk-estimator-id-99\" type=\"checkbox\" ><label for=\"sk-estimator-id-99\" class=\"sk-toggleable__label sk-toggleable__label-arrow\">MLPClassifier</label><div class=\"sk-toggleable__content\"><pre>MLPClassifier(random_state=42)</pre></div></div></div></div></div></div></div></div><div class=\"sk-item\"><div class=\"sk-parallel\"><div class=\"sk-parallel-item\"><div class=\"sk-item\"><div class=\"sk-label-container\"><div class=\"sk-label sk-toggleable\"><label>final_estimator</label></div></div><div class=\"sk-serial\"><div class=\"sk-item\"><div class=\"sk-estimator sk-toggleable\"><input class=\"sk-toggleable__control sk-hidden--visually\" id=\"sk-estimator-id-100\" type=\"checkbox\" ><label for=\"sk-estimator-id-100\" class=\"sk-toggleable__label sk-toggleable__label-arrow\">LogisticRegression</label><div class=\"sk-toggleable__content\"><pre>LogisticRegression()</pre></div></div></div></div></div></div></div></div></div></div></div></div>"
      ],
      "text/plain": [
       "StackingClassifier(estimators=[('random_forest_clf',\n",
       "                                RandomForestClassifier(random_state=42)),\n",
       "                               ('extra_trees_clf',\n",
       "                                ExtraTreesClassifier(random_state=42)),\n",
       "                               ('mlp_clf', MLPClassifier(random_state=42))],\n",
       "                   final_estimator=LogisticRegression())"
      ]
     },
     "execution_count": 106,
     "metadata": {},
     "output_type": "execute_result"
    }
   ],
   "source": [
    "stacked_clf.fit(X_train, y_train)"
   ]
  },
  {
   "cell_type": "code",
   "execution_count": 107,
   "id": "df7e4dce-3fb0-4a25-9d8a-1ba7ca3186bc",
   "metadata": {},
   "outputs": [
    {
     "data": {
      "text/plain": [
       "0.9861111111111112"
      ]
     },
     "execution_count": 107,
     "metadata": {},
     "output_type": "execute_result"
    }
   ],
   "source": [
    "stacked_clf.score(X_test, y_test)"
   ]
  },
  {
   "cell_type": "code",
   "execution_count": null,
   "id": "f87e1a6c-33da-4757-b752-ee6d2a630125",
   "metadata": {},
   "outputs": [],
   "source": []
  }
 ],
 "metadata": {
  "kernelspec": {
   "display_name": "Python 3 (ipykernel)",
   "language": "python",
   "name": "python3"
  },
  "language_info": {
   "codemirror_mode": {
    "name": "ipython",
    "version": 3
   },
   "file_extension": ".py",
   "mimetype": "text/x-python",
   "name": "python",
   "nbconvert_exporter": "python",
   "pygments_lexer": "ipython3",
   "version": "3.8.16"
  }
 },
 "nbformat": 4,
 "nbformat_minor": 5
}
