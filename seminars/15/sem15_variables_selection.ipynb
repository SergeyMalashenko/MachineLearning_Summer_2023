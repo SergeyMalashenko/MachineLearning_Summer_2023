{
  "nbformat": 4,
  "nbformat_minor": 0,
  "metadata": {
    "colab": {
      "provenance": []
    },
    "kernelspec": {
      "name": "python3",
      "display_name": "Python 3"
    },
    "language_info": {
      "name": "python"
    },
    "widgets": {
      "application/vnd.jupyter.widget-state+json": {
        "122748e00b2e400fb0f4a9f082b59cf1": {
          "model_module": "catboost-widget",
          "model_name": "CatboostWidgetModel",
          "model_module_version": "^1.0.0",
          "state": {
            "_dom_classes": [],
            "_model_module": "catboost-widget",
            "_model_module_version": "^1.0.0",
            "_model_name": "CatboostWidgetModel",
            "_view_count": null,
            "_view_module": "catboost-widget",
            "_view_module_version": "^1.0.0",
            "_view_name": "CatboostWidgetView",
            "data": {
              "catboost_info/model-0": {
                "path": "catboost_info/model-0",
                "name": "model-0",
                "content": {
                  "passed_iterations": 484,
                  "total_iterations": 1000,
                  "data": {
                    "iterations": [
                      {
                        "learn": [
                          0.5687875568
                        ],
                        "iteration": 0,
                        "passed_time": 0.1135659934,
                        "remaining_time": 113.4524274,
                        "test": [
                          0.5689088178
                        ]
                      },
                      {
                        "learn": [
                          0.4814141778
                        ],
                        "iteration": 1,
                        "passed_time": 0.2131247969,
                        "remaining_time": 106.3492736,
                        "test": [
                          0.4814964061
                        ]
                      },
                      {
                        "learn": [
                          0.4135581833
                        ],
                        "iteration": 2,
                        "passed_time": 0.3288567082,
                        "remaining_time": 109.290046,
                        "test": [
                          0.4135827519
                        ]
                      },
                      {
                        "learn": [
                          0.3550372847
                        ],
                        "iteration": 3,
                        "passed_time": 0.4333800985,
                        "remaining_time": 107.9116445,
                        "test": [
                          0.3552399092
                        ]
                      },
                      {
                        "learn": [
                          0.3140687896
                        ],
                        "iteration": 4,
                        "passed_time": 0.5254109173,
                        "remaining_time": 104.5567725,
                        "test": [
                          0.314347215
                        ]
                      },
                      {
                        "learn": [
                          0.2716773761
                        ],
                        "iteration": 5,
                        "passed_time": 0.6263517853,
                        "remaining_time": 103.7656124,
                        "test": [
                          0.2721349651
                        ]
                      },
                      {
                        "learn": [
                          0.2482342048
                        ],
                        "iteration": 6,
                        "passed_time": 0.7300388431,
                        "remaining_time": 103.5612245,
                        "test": [
                          0.2488382915
                        ]
                      },
                      {
                        "learn": [
                          0.2305255121
                        ],
                        "iteration": 7,
                        "passed_time": 0.8324841259,
                        "remaining_time": 103.2280316,
                        "test": [
                          0.2311483649
                        ]
                      },
                      {
                        "learn": [
                          0.2165671905
                        ],
                        "iteration": 8,
                        "passed_time": 0.917327193,
                        "remaining_time": 101.0079165,
                        "test": [
                          0.2171988244
                        ]
                      },
                      {
                        "learn": [
                          0.2054772717
                        ],
                        "iteration": 9,
                        "passed_time": 1.006240401,
                        "remaining_time": 99.61779973,
                        "test": [
                          0.2061211449
                        ]
                      },
                      {
                        "learn": [
                          0.190604039
                        ],
                        "iteration": 10,
                        "passed_time": 1.115615341,
                        "remaining_time": 100.3039611,
                        "test": [
                          0.191538644
                        ]
                      },
                      {
                        "learn": [
                          0.1807873483
                        ],
                        "iteration": 11,
                        "passed_time": 1.235677147,
                        "remaining_time": 101.7374184,
                        "test": [
                          0.1819030844
                        ]
                      },
                      {
                        "learn": [
                          0.1726468619
                        ],
                        "iteration": 12,
                        "passed_time": 1.344885011,
                        "remaining_time": 102.1078081,
                        "test": [
                          0.1740343227
                        ]
                      },
                      {
                        "learn": [
                          0.1673062625
                        ],
                        "iteration": 13,
                        "passed_time": 1.459300603,
                        "remaining_time": 102.7764567,
                        "test": [
                          0.1689018492
                        ]
                      },
                      {
                        "learn": [
                          0.1628801546
                        ],
                        "iteration": 14,
                        "passed_time": 1.574739315,
                        "remaining_time": 103.4078817,
                        "test": [
                          0.1646163343
                        ]
                      },
                      {
                        "learn": [
                          0.1605459601
                        ],
                        "iteration": 15,
                        "passed_time": 1.609244668,
                        "remaining_time": 98.96854706,
                        "test": [
                          0.1622846631
                        ]
                      },
                      {
                        "learn": [
                          0.1560688552
                        ],
                        "iteration": 16,
                        "passed_time": 1.667508178,
                        "remaining_time": 96.42120817,
                        "test": [
                          0.1579721939
                        ]
                      },
                      {
                        "learn": [
                          0.1530080685
                        ],
                        "iteration": 17,
                        "passed_time": 1.71606706,
                        "remaining_time": 93.62099181,
                        "test": [
                          0.1549268178
                        ]
                      },
                      {
                        "learn": [
                          0.1499402934
                        ],
                        "iteration": 18,
                        "passed_time": 1.778280319,
                        "remaining_time": 91.81542069,
                        "test": [
                          0.1520621522
                        ]
                      },
                      {
                        "learn": [
                          0.1472976514
                        ],
                        "iteration": 19,
                        "passed_time": 1.852890578,
                        "remaining_time": 90.79163833,
                        "test": [
                          0.149514411
                        ]
                      },
                      {
                        "learn": [
                          0.1455751672
                        ],
                        "iteration": 20,
                        "passed_time": 1.915168451,
                        "remaining_time": 89.28332922,
                        "test": [
                          0.1480035578
                        ]
                      },
                      {
                        "learn": [
                          0.1440740774
                        ],
                        "iteration": 21,
                        "passed_time": 1.985753233,
                        "remaining_time": 88.27575736,
                        "test": [
                          0.1465683052
                        ]
                      },
                      {
                        "learn": [
                          0.1430169604
                        ],
                        "iteration": 22,
                        "passed_time": 2.049847512,
                        "remaining_time": 87.07395736,
                        "test": [
                          0.1458409504
                        ]
                      },
                      {
                        "learn": [
                          0.142221079
                        ],
                        "iteration": 23,
                        "passed_time": 2.102261911,
                        "remaining_time": 85.49198438,
                        "test": [
                          0.1452157858
                        ]
                      },
                      {
                        "learn": [
                          0.1410742413
                        ],
                        "iteration": 24,
                        "passed_time": 2.165204153,
                        "remaining_time": 84.44296196,
                        "test": [
                          0.1442801829
                        ]
                      },
                      {
                        "learn": [
                          0.1400172131
                        ],
                        "iteration": 25,
                        "passed_time": 2.227311461,
                        "remaining_time": 83.43851396,
                        "test": [
                          0.1432853721
                        ]
                      },
                      {
                        "learn": [
                          0.1390544299
                        ],
                        "iteration": 26,
                        "passed_time": 2.287290531,
                        "remaining_time": 82.42717359,
                        "test": [
                          0.1424620343
                        ]
                      },
                      {
                        "learn": [
                          0.1385262229
                        ],
                        "iteration": 27,
                        "passed_time": 2.342571055,
                        "remaining_time": 81.32068089,
                        "test": [
                          0.1421636123
                        ]
                      },
                      {
                        "learn": [
                          0.1379777784
                        ],
                        "iteration": 28,
                        "passed_time": 2.398722957,
                        "remaining_time": 80.31586175,
                        "test": [
                          0.141766195
                        ]
                      },
                      {
                        "learn": [
                          0.1373729206
                        ],
                        "iteration": 29,
                        "passed_time": 2.452880634,
                        "remaining_time": 79.30980718,
                        "test": [
                          0.1414635417
                        ]
                      },
                      {
                        "learn": [
                          0.1366872334
                        ],
                        "iteration": 30,
                        "passed_time": 2.521479393,
                        "remaining_time": 78.81656554,
                        "test": [
                          0.1409455112
                        ]
                      },
                      {
                        "learn": [
                          0.1362383603
                        ],
                        "iteration": 31,
                        "passed_time": 2.584442852,
                        "remaining_time": 78.17939627,
                        "test": [
                          0.1407265993
                        ]
                      },
                      {
                        "learn": [
                          0.1358766234
                        ],
                        "iteration": 32,
                        "passed_time": 2.641078007,
                        "remaining_time": 77.39158887,
                        "test": [
                          0.1405551036
                        ]
                      },
                      {
                        "learn": [
                          0.1353975668
                        ],
                        "iteration": 33,
                        "passed_time": 2.711132304,
                        "remaining_time": 77.02805312,
                        "test": [
                          0.1401361783
                        ]
                      },
                      {
                        "learn": [
                          0.1350807935
                        ],
                        "iteration": 34,
                        "passed_time": 2.766030834,
                        "remaining_time": 76.26342158,
                        "test": [
                          0.1399197329
                        ]
                      },
                      {
                        "learn": [
                          0.1346834486
                        ],
                        "iteration": 35,
                        "passed_time": 2.840394173,
                        "remaining_time": 76.05944397,
                        "test": [
                          0.1395466782
                        ]
                      },
                      {
                        "learn": [
                          0.1345678242
                        ],
                        "iteration": 36,
                        "passed_time": 2.891682813,
                        "remaining_time": 75.26190672,
                        "test": [
                          0.1394976239
                        ]
                      },
                      {
                        "learn": [
                          0.1343696176
                        ],
                        "iteration": 37,
                        "passed_time": 2.950888144,
                        "remaining_time": 74.70406302,
                        "test": [
                          0.1394247506
                        ]
                      },
                      {
                        "learn": [
                          0.1342022482
                        ],
                        "iteration": 38,
                        "passed_time": 3.003650955,
                        "remaining_time": 74.0130402,
                        "test": [
                          0.1393450325
                        ]
                      },
                      {
                        "learn": [
                          0.1340537659
                        ],
                        "iteration": 39,
                        "passed_time": 3.060797513,
                        "remaining_time": 73.4591403,
                        "test": [
                          0.1393127669
                        ]
                      },
                      {
                        "learn": [
                          0.1338384725
                        ],
                        "iteration": 40,
                        "passed_time": 3.120407635,
                        "remaining_time": 72.98709567,
                        "test": [
                          0.1391515316
                        ]
                      },
                      {
                        "learn": [
                          0.1337952348
                        ],
                        "iteration": 41,
                        "passed_time": 3.168158374,
                        "remaining_time": 72.26418386,
                        "test": [
                          0.1391141717
                        ]
                      },
                      {
                        "learn": [
                          0.1335672431
                        ],
                        "iteration": 42,
                        "passed_time": 3.223726831,
                        "remaining_time": 71.74666459,
                        "test": [
                          0.1389316046
                        ]
                      },
                      {
                        "learn": [
                          0.1335047596
                        ],
                        "iteration": 43,
                        "passed_time": 3.273026612,
                        "remaining_time": 71.11394185,
                        "test": [
                          0.1389157201
                        ]
                      },
                      {
                        "learn": [
                          0.1334919881
                        ],
                        "iteration": 44,
                        "passed_time": 3.320804916,
                        "remaining_time": 70.47485989,
                        "test": [
                          0.1389149968
                        ]
                      },
                      {
                        "learn": [
                          0.1332490437
                        ],
                        "iteration": 45,
                        "passed_time": 3.388960482,
                        "remaining_time": 70.28409347,
                        "test": [
                          0.1387420003
                        ]
                      },
                      {
                        "learn": [
                          0.1330931734
                        ],
                        "iteration": 46,
                        "passed_time": 3.446160053,
                        "remaining_time": 69.87639427,
                        "test": [
                          0.1387173472
                        ]
                      },
                      {
                        "learn": [
                          0.1330774788
                        ],
                        "iteration": 47,
                        "passed_time": 3.523284477,
                        "remaining_time": 69.87847546,
                        "test": [
                          0.1387137469
                        ]
                      },
                      {
                        "learn": [
                          0.1329632868
                        ],
                        "iteration": 48,
                        "passed_time": 3.610332779,
                        "remaining_time": 70.06992802,
                        "test": [
                          0.138613196
                        ]
                      },
                      {
                        "learn": [
                          0.1329528508
                        ],
                        "iteration": 49,
                        "passed_time": 3.697882261,
                        "remaining_time": 70.25976295,
                        "test": [
                          0.1386130762
                        ]
                      },
                      {
                        "learn": [
                          0.1329411382
                        ],
                        "iteration": 50,
                        "passed_time": 3.783162892,
                        "remaining_time": 70.39650166,
                        "test": [
                          0.1386109557
                        ]
                      },
                      {
                        "learn": [
                          0.1329296766
                        ],
                        "iteration": 51,
                        "passed_time": 3.887525232,
                        "remaining_time": 70.87257538,
                        "test": [
                          0.1386149065
                        ]
                      },
                      {
                        "learn": [
                          0.1328326938
                        ],
                        "iteration": 52,
                        "passed_time": 3.988187355,
                        "remaining_time": 71.26063067,
                        "test": [
                          0.1386002012
                        ]
                      },
                      {
                        "learn": [
                          0.1328255753
                        ],
                        "iteration": 53,
                        "passed_time": 4.082676364,
                        "remaining_time": 71.52244149,
                        "test": [
                          0.1385994955
                        ]
                      },
                      {
                        "learn": [
                          0.1326294332
                        ],
                        "iteration": 54,
                        "passed_time": 4.178782403,
                        "remaining_time": 71.79907946,
                        "test": [
                          0.1385433874
                        ]
                      },
                      {
                        "learn": [
                          0.132467526
                        ],
                        "iteration": 55,
                        "passed_time": 4.27806666,
                        "remaining_time": 72.11598084,
                        "test": [
                          0.1384723977
                        ]
                      },
                      {
                        "learn": [
                          0.1324340291
                        ],
                        "iteration": 56,
                        "passed_time": 4.374832434,
                        "remaining_time": 72.37661378,
                        "test": [
                          0.138463857
                        ]
                      },
                      {
                        "learn": [
                          0.1324221318
                        ],
                        "iteration": 57,
                        "passed_time": 4.462155855,
                        "remaining_time": 72.47156579,
                        "test": [
                          0.1384641518
                        ]
                      },
                      {
                        "learn": [
                          0.132414357
                        ],
                        "iteration": 58,
                        "passed_time": 4.548394419,
                        "remaining_time": 72.5430364,
                        "test": [
                          0.1384646535
                        ]
                      },
                      {
                        "learn": [
                          0.1324094868
                        ],
                        "iteration": 59,
                        "passed_time": 4.63582047,
                        "remaining_time": 72.62785403,
                        "test": [
                          0.1384641904
                        ]
                      },
                      {
                        "learn": [
                          0.132240534
                        ],
                        "iteration": 60,
                        "passed_time": 4.742407651,
                        "remaining_time": 73.00198007,
                        "test": [
                          0.1383712802
                        ]
                      },
                      {
                        "learn": [
                          0.132234159
                        ],
                        "iteration": 61,
                        "passed_time": 4.83067509,
                        "remaining_time": 73.08343926,
                        "test": [
                          0.1383719088
                        ]
                      },
                      {
                        "learn": [
                          0.132183354
                        ],
                        "iteration": 62,
                        "passed_time": 4.9286918,
                        "remaining_time": 73.30451138,
                        "test": [
                          0.138366849
                        ]
                      },
                      {
                        "learn": [
                          0.1321719941
                        ],
                        "iteration": 63,
                        "passed_time": 5.039811851,
                        "remaining_time": 73.70724832,
                        "test": [
                          0.1383677854
                        ]
                      },
                      {
                        "learn": [
                          0.1321226818
                        ],
                        "iteration": 64,
                        "passed_time": 5.126487264,
                        "remaining_time": 73.74254756,
                        "test": [
                          0.1383647839
                        ]
                      },
                      {
                        "learn": [
                          0.1319218759
                        ],
                        "iteration": 65,
                        "passed_time": 5.235639091,
                        "remaining_time": 74.09222592,
                        "test": [
                          0.1382753326
                        ]
                      },
                      {
                        "learn": [
                          0.1319003855
                        ],
                        "iteration": 66,
                        "passed_time": 5.329415899,
                        "remaining_time": 74.21410498,
                        "test": [
                          0.1382676034
                        ]
                      },
                      {
                        "learn": [
                          0.1317230051
                        ],
                        "iteration": 67,
                        "passed_time": 5.44104202,
                        "remaining_time": 74.57428181,
                        "test": [
                          0.138111961
                        ]
                      },
                      {
                        "learn": [
                          0.1316350733
                        ],
                        "iteration": 68,
                        "passed_time": 5.537995239,
                        "remaining_time": 74.72280533,
                        "test": [
                          0.1380532411
                        ]
                      },
                      {
                        "learn": [
                          0.1315979118
                        ],
                        "iteration": 69,
                        "passed_time": 5.642433186,
                        "remaining_time": 74.96375519,
                        "test": [
                          0.1380459403
                        ]
                      },
                      {
                        "learn": [
                          0.1314229028
                        ],
                        "iteration": 70,
                        "passed_time": 5.76018604,
                        "remaining_time": 75.36919481,
                        "test": [
                          0.1379000528
                        ]
                      },
                      {
                        "learn": [
                          0.1313464045
                        ],
                        "iteration": 71,
                        "passed_time": 5.868023392,
                        "remaining_time": 75.6323015,
                        "test": [
                          0.1378917114
                        ]
                      },
                      {
                        "learn": [
                          0.1313377054
                        ],
                        "iteration": 72,
                        "passed_time": 5.964384856,
                        "remaining_time": 75.73951729,
                        "test": [
                          0.1378961448
                        ]
                      },
                      {
                        "learn": [
                          0.1313056005
                        ],
                        "iteration": 73,
                        "passed_time": 6.056967,
                        "remaining_time": 75.7939384,
                        "test": [
                          0.1378764183
                        ]
                      },
                      {
                        "learn": [
                          0.1311723073
                        ],
                        "iteration": 74,
                        "passed_time": 6.169555216,
                        "remaining_time": 76.091181,
                        "test": [
                          0.1378499614
                        ]
                      },
                      {
                        "learn": [
                          0.131117834
                        ],
                        "iteration": 75,
                        "passed_time": 6.266206649,
                        "remaining_time": 76.18388084,
                        "test": [
                          0.1377997577
                        ]
                      },
                      {
                        "learn": [
                          0.1310637835
                        ],
                        "iteration": 76,
                        "passed_time": 6.36031276,
                        "remaining_time": 76.24115165,
                        "test": [
                          0.137800776
                        ]
                      },
                      {
                        "learn": [
                          0.1310028111
                        ],
                        "iteration": 77,
                        "passed_time": 6.461744602,
                        "remaining_time": 76.38113491,
                        "test": [
                          0.137778763
                        ]
                      },
                      {
                        "learn": [
                          0.1309863833
                        ],
                        "iteration": 78,
                        "passed_time": 6.549801105,
                        "remaining_time": 76.35907365,
                        "test": [
                          0.1377774027
                        ]
                      },
                      {
                        "learn": [
                          0.1309470743
                        ],
                        "iteration": 79,
                        "passed_time": 6.640653571,
                        "remaining_time": 76.36751607,
                        "test": [
                          0.1377781282
                        ]
                      },
                      {
                        "learn": [
                          0.130837903
                        ],
                        "iteration": 80,
                        "passed_time": 6.746811364,
                        "remaining_time": 76.5471561,
                        "test": [
                          0.1377773319
                        ]
                      },
                      {
                        "learn": [
                          0.1306488049
                        ],
                        "iteration": 81,
                        "passed_time": 6.852999354,
                        "remaining_time": 76.7201635,
                        "test": [
                          0.1377634642
                        ]
                      },
                      {
                        "learn": [
                          0.1304719975
                        ],
                        "iteration": 82,
                        "passed_time": 6.972070791,
                        "remaining_time": 77.02878211,
                        "test": [
                          0.1376389704
                        ]
                      },
                      {
                        "learn": [
                          0.1303058681
                        ],
                        "iteration": 83,
                        "passed_time": 7.089919973,
                        "remaining_time": 77.31388923,
                        "test": [
                          0.1375971725
                        ]
                      },
                      {
                        "learn": [
                          0.1303002559
                        ],
                        "iteration": 84,
                        "passed_time": 7.177086328,
                        "remaining_time": 77.25922341,
                        "test": [
                          0.1375968391
                        ]
                      },
                      {
                        "learn": [
                          0.1302015312
                        ],
                        "iteration": 85,
                        "passed_time": 7.295201299,
                        "remaining_time": 77.53272078,
                        "test": [
                          0.1375929873
                        ]
                      },
                      {
                        "learn": [
                          0.1301086141
                        ],
                        "iteration": 86,
                        "passed_time": 7.400717527,
                        "remaining_time": 77.66500117,
                        "test": [
                          0.1375524414
                        ]
                      },
                      {
                        "learn": [
                          0.1300367454
                        ],
                        "iteration": 87,
                        "passed_time": 7.512020108,
                        "remaining_time": 77.85184475,
                        "test": [
                          0.1375535253
                        ]
                      },
                      {
                        "learn": [
                          0.1299970273
                        ],
                        "iteration": 88,
                        "passed_time": 7.598916092,
                        "remaining_time": 77.78216359,
                        "test": [
                          0.1375421764
                        ]
                      },
                      {
                        "learn": [
                          0.1299788847
                        ],
                        "iteration": 89,
                        "passed_time": 7.690548853,
                        "remaining_time": 77.75999396,
                        "test": [
                          0.1375563004
                        ]
                      },
                      {
                        "learn": [
                          0.1298305676
                        ],
                        "iteration": 90,
                        "passed_time": 7.887349805,
                        "remaining_time": 78.78682388,
                        "test": [
                          0.1374644619
                        ]
                      },
                      {
                        "learn": [
                          0.1297840398
                        ],
                        "iteration": 91,
                        "passed_time": 8.006942997,
                        "remaining_time": 79.0250461,
                        "test": [
                          0.1374498237
                        ]
                      },
                      {
                        "learn": [
                          0.1296599235
                        ],
                        "iteration": 92,
                        "passed_time": 8.13323809,
                        "remaining_time": 79.32093492,
                        "test": [
                          0.1373887771
                        ]
                      },
                      {
                        "learn": [
                          0.1296380422
                        ],
                        "iteration": 93,
                        "passed_time": 8.268545054,
                        "remaining_time": 79.6947002,
                        "test": [
                          0.1373851856
                        ]
                      },
                      {
                        "learn": [
                          0.1296305791
                        ],
                        "iteration": 94,
                        "passed_time": 8.383941903,
                        "remaining_time": 79.86807813,
                        "test": [
                          0.1373891314
                        ]
                      },
                      {
                        "learn": [
                          0.1295794805
                        ],
                        "iteration": 95,
                        "passed_time": 8.487646958,
                        "remaining_time": 79.92534219,
                        "test": [
                          0.137366915
                        ]
                      },
                      {
                        "learn": [
                          0.1295112855
                        ],
                        "iteration": 96,
                        "passed_time": 8.569663366,
                        "remaining_time": 79.77738164,
                        "test": [
                          0.1373772227
                        ]
                      },
                      {
                        "learn": [
                          0.1294805566
                        ],
                        "iteration": 97,
                        "passed_time": 8.647126824,
                        "remaining_time": 79.58886117,
                        "test": [
                          0.137365627
                        ]
                      },
                      {
                        "learn": [
                          0.1293513302
                        ],
                        "iteration": 98,
                        "passed_time": 8.768542068,
                        "remaining_time": 79.80258993,
                        "test": [
                          0.1373513864
                        ]
                      },
                      {
                        "learn": [
                          0.1293436902
                        ],
                        "iteration": 99,
                        "passed_time": 8.854938899,
                        "remaining_time": 79.69445009,
                        "test": [
                          0.1373542103
                        ]
                      },
                      {
                        "learn": [
                          0.129179055
                        ],
                        "iteration": 100,
                        "passed_time": 8.94909873,
                        "remaining_time": 79.65583919,
                        "test": [
                          0.1373467286
                        ]
                      },
                      {
                        "learn": [
                          0.1291422378
                        ],
                        "iteration": 101,
                        "passed_time": 9.032294131,
                        "remaining_time": 79.51960911,
                        "test": [
                          0.137346316
                        ]
                      },
                      {
                        "learn": [
                          0.1291376897
                        ],
                        "iteration": 102,
                        "passed_time": 9.142715901,
                        "remaining_time": 79.62151615,
                        "test": [
                          0.1373429288
                        ]
                      },
                      {
                        "learn": [
                          0.1290743951
                        ],
                        "iteration": 103,
                        "passed_time": 9.243542319,
                        "remaining_time": 79.63667229,
                        "test": [
                          0.1373692062
                        ]
                      },
                      {
                        "learn": [
                          0.1289940099
                        ],
                        "iteration": 104,
                        "passed_time": 9.347851128,
                        "remaining_time": 79.67930247,
                        "test": [
                          0.1373273684
                        ]
                      },
                      {
                        "learn": [
                          0.1289805827
                        ],
                        "iteration": 105,
                        "passed_time": 9.429101014,
                        "remaining_time": 79.52468214,
                        "test": [
                          0.1373291976
                        ]
                      },
                      {
                        "learn": [
                          0.1289361919
                        ],
                        "iteration": 106,
                        "passed_time": 9.521090967,
                        "remaining_time": 79.4610676,
                        "test": [
                          0.1373200079
                        ]
                      },
                      {
                        "learn": [
                          0.128873365
                        ],
                        "iteration": 107,
                        "passed_time": 9.630804197,
                        "remaining_time": 79.54330874,
                        "test": [
                          0.1372904733
                        ]
                      },
                      {
                        "learn": [
                          0.1288686345
                        ],
                        "iteration": 108,
                        "passed_time": 9.731832846,
                        "remaining_time": 79.5510373,
                        "test": [
                          0.1372922411
                        ]
                      },
                      {
                        "learn": [
                          0.1288294763
                        ],
                        "iteration": 109,
                        "passed_time": 9.8359228,
                        "remaining_time": 79.5815572,
                        "test": [
                          0.1372684392
                        ]
                      },
                      {
                        "learn": [
                          0.1287501691
                        ],
                        "iteration": 110,
                        "passed_time": 9.950810778,
                        "remaining_time": 79.69613317,
                        "test": [
                          0.1372712709
                        ]
                      },
                      {
                        "learn": [
                          0.1286815488
                        ],
                        "iteration": 111,
                        "passed_time": 10.03528271,
                        "remaining_time": 79.56545578,
                        "test": [
                          0.1372747193
                        ]
                      },
                      {
                        "learn": [
                          0.1286290468
                        ],
                        "iteration": 112,
                        "passed_time": 10.14205688,
                        "remaining_time": 79.61065888,
                        "test": [
                          0.137267075
                        ]
                      },
                      {
                        "learn": [
                          0.1286198342
                        ],
                        "iteration": 113,
                        "passed_time": 10.2189749,
                        "remaining_time": 79.42115583,
                        "test": [
                          0.1372678196
                        ]
                      },
                      {
                        "learn": [
                          0.1285206461
                        ],
                        "iteration": 114,
                        "passed_time": 10.300348,
                        "remaining_time": 79.26789551,
                        "test": [
                          0.1372620578
                        ]
                      },
                      {
                        "learn": [
                          0.1285103793
                        ],
                        "iteration": 115,
                        "passed_time": 10.40115943,
                        "remaining_time": 79.2640081,
                        "test": [
                          0.1372738702
                        ]
                      },
                      {
                        "learn": [
                          0.1284726384
                        ],
                        "iteration": 116,
                        "passed_time": 10.49280534,
                        "remaining_time": 79.18929156,
                        "test": [
                          0.1372699192
                        ]
                      },
                      {
                        "learn": [
                          0.1283581094
                        ],
                        "iteration": 117,
                        "passed_time": 10.59992923,
                        "remaining_time": 79.22997947,
                        "test": [
                          0.1372645722
                        ]
                      },
                      {
                        "learn": [
                          0.1283555645
                        ],
                        "iteration": 118,
                        "passed_time": 10.68287465,
                        "remaining_time": 79.08918121,
                        "test": [
                          0.1372667232
                        ]
                      },
                      {
                        "learn": [
                          0.1282829712
                        ],
                        "iteration": 119,
                        "passed_time": 10.77829447,
                        "remaining_time": 79.0408261,
                        "test": [
                          0.1372388835
                        ]
                      },
                      {
                        "learn": [
                          0.1282410639
                        ],
                        "iteration": 120,
                        "passed_time": 10.86087978,
                        "remaining_time": 78.89845721,
                        "test": [
                          0.1372456223
                        ]
                      },
                      {
                        "learn": [
                          0.1282373926
                        ],
                        "iteration": 121,
                        "passed_time": 10.93529274,
                        "remaining_time": 78.69825431,
                        "test": [
                          0.1372477002
                        ]
                      },
                      {
                        "learn": [
                          0.1281503115
                        ],
                        "iteration": 122,
                        "passed_time": 11.0161013,
                        "remaining_time": 78.54569786,
                        "test": [
                          0.137231235
                        ]
                      },
                      {
                        "learn": [
                          0.1280958305
                        ],
                        "iteration": 123,
                        "passed_time": 11.14053442,
                        "remaining_time": 78.70248512,
                        "test": [
                          0.1372275461
                        ]
                      },
                      {
                        "learn": [
                          0.1280196775
                        ],
                        "iteration": 124,
                        "passed_time": 11.25249006,
                        "remaining_time": 78.76743044,
                        "test": [
                          0.1372382373
                        ]
                      },
                      {
                        "learn": [
                          0.1279149805
                        ],
                        "iteration": 125,
                        "passed_time": 11.34872868,
                        "remaining_time": 78.72054656,
                        "test": [
                          0.1371987033
                        ]
                      },
                      {
                        "learn": [
                          0.1278188944
                        ],
                        "iteration": 126,
                        "passed_time": 11.43986906,
                        "remaining_time": 78.63784005,
                        "test": [
                          0.1372004802
                        ]
                      },
                      {
                        "learn": [
                          0.1277584855
                        ],
                        "iteration": 127,
                        "passed_time": 11.540091,
                        "remaining_time": 78.61686991,
                        "test": [
                          0.1371757962
                        ]
                      },
                      {
                        "learn": [
                          0.1276889273
                        ],
                        "iteration": 128,
                        "passed_time": 11.64589251,
                        "remaining_time": 78.63234398,
                        "test": [
                          0.1371748685
                        ]
                      },
                      {
                        "learn": [
                          0.1276346385
                        ],
                        "iteration": 129,
                        "passed_time": 11.72207934,
                        "remaining_time": 78.44776176,
                        "test": [
                          0.1371356023
                        ]
                      },
                      {
                        "learn": [
                          0.127613067
                        ],
                        "iteration": 130,
                        "passed_time": 11.79739886,
                        "remaining_time": 78.25908097,
                        "test": [
                          0.1371390453
                        ]
                      },
                      {
                        "learn": [
                          0.127464924
                        ],
                        "iteration": 131,
                        "passed_time": 11.897719,
                        "remaining_time": 78.23651584,
                        "test": [
                          0.1371181533
                        ]
                      },
                      {
                        "learn": [
                          0.1273922427
                        ],
                        "iteration": 132,
                        "passed_time": 11.98622273,
                        "remaining_time": 78.13575265,
                        "test": [
                          0.1371044076
                        ]
                      },
                      {
                        "learn": [
                          0.1273671282
                        ],
                        "iteration": 133,
                        "passed_time": 12.06741616,
                        "remaining_time": 77.98792833,
                        "test": [
                          0.1371022576
                        ]
                      },
                      {
                        "learn": [
                          0.1273164791
                        ],
                        "iteration": 134,
                        "passed_time": 12.16316446,
                        "remaining_time": 77.93435005,
                        "test": [
                          0.1370687096
                        ]
                      },
                      {
                        "learn": [
                          0.1272888817
                        ],
                        "iteration": 135,
                        "passed_time": 12.25676067,
                        "remaining_time": 77.86647955,
                        "test": [
                          0.1370796089
                        ]
                      },
                      {
                        "learn": [
                          0.1272632621
                        ],
                        "iteration": 136,
                        "passed_time": 12.36207265,
                        "remaining_time": 77.87203428,
                        "test": [
                          0.1370893657
                        ]
                      },
                      {
                        "learn": [
                          0.1272306342
                        ],
                        "iteration": 137,
                        "passed_time": 12.45537532,
                        "remaining_time": 77.80096759,
                        "test": [
                          0.1370905623
                        ]
                      },
                      {
                        "learn": [
                          0.1271540055
                        ],
                        "iteration": 138,
                        "passed_time": 12.57110337,
                        "remaining_time": 77.86848925,
                        "test": [
                          0.1370909558
                        ]
                      },
                      {
                        "learn": [
                          0.1271203571
                        ],
                        "iteration": 139,
                        "passed_time": 12.65217339,
                        "remaining_time": 77.72049366,
                        "test": [
                          0.1370978536
                        ]
                      },
                      {
                        "learn": [
                          0.1270512126
                        ],
                        "iteration": 140,
                        "passed_time": 12.76882244,
                        "remaining_time": 77.79020193,
                        "test": [
                          0.1370733788
                        ]
                      },
                      {
                        "learn": [
                          0.126981298
                        ],
                        "iteration": 141,
                        "passed_time": 12.84785931,
                        "remaining_time": 77.63002314,
                        "test": [
                          0.1370227945
                        ]
                      },
                      {
                        "learn": [
                          0.1268935448
                        ],
                        "iteration": 142,
                        "passed_time": 12.97073808,
                        "remaining_time": 77.733724,
                        "test": [
                          0.1369806322
                        ]
                      },
                      {
                        "learn": [
                          0.1268646881
                        ],
                        "iteration": 143,
                        "passed_time": 13.03659509,
                        "remaining_time": 77.49531523,
                        "test": [
                          0.1369786202
                        ]
                      },
                      {
                        "learn": [
                          0.1268604705
                        ],
                        "iteration": 144,
                        "passed_time": 13.08119447,
                        "remaining_time": 77.13393979,
                        "test": [
                          0.1369803719
                        ]
                      },
                      {
                        "learn": [
                          0.1267798501
                        ],
                        "iteration": 145,
                        "passed_time": 13.13460905,
                        "remaining_time": 76.82846661,
                        "test": [
                          0.1370092896
                        ]
                      },
                      {
                        "learn": [
                          0.1267495819
                        ],
                        "iteration": 146,
                        "passed_time": 13.21941454,
                        "remaining_time": 76.7085755,
                        "test": [
                          0.137007911
                        ]
                      },
                      {
                        "learn": [
                          0.1267470896
                        ],
                        "iteration": 147,
                        "passed_time": 13.28608369,
                        "remaining_time": 76.48475204,
                        "test": [
                          0.1370097235
                        ]
                      },
                      {
                        "learn": [
                          0.1267444151
                        ],
                        "iteration": 148,
                        "passed_time": 13.36604749,
                        "remaining_time": 76.3389692,
                        "test": [
                          0.1370097211
                        ]
                      },
                      {
                        "learn": [
                          0.1267191308
                        ],
                        "iteration": 149,
                        "passed_time": 13.46182998,
                        "remaining_time": 76.28370321,
                        "test": [
                          0.1370056695
                        ]
                      },
                      {
                        "learn": [
                          0.1266918322
                        ],
                        "iteration": 150,
                        "passed_time": 13.53498671,
                        "remaining_time": 76.10068686,
                        "test": [
                          0.1370184003
                        ]
                      },
                      {
                        "learn": [
                          0.1266047293
                        ],
                        "iteration": 151,
                        "passed_time": 13.65624523,
                        "remaining_time": 76.18747337,
                        "test": [
                          0.1370135711
                        ]
                      },
                      {
                        "learn": [
                          0.1265595597
                        ],
                        "iteration": 152,
                        "passed_time": 13.74911974,
                        "remaining_time": 76.114408,
                        "test": [
                          0.1369990436
                        ]
                      },
                      {
                        "learn": [
                          0.1265419155
                        ],
                        "iteration": 153,
                        "passed_time": 13.80127389,
                        "remaining_time": 75.81738775,
                        "test": [
                          0.1369946495
                        ]
                      },
                      {
                        "learn": [
                          0.1265203875
                        ],
                        "iteration": 154,
                        "passed_time": 13.85069241,
                        "remaining_time": 75.50861344,
                        "test": [
                          0.1369945574
                        ]
                      },
                      {
                        "learn": [
                          0.1265014892
                        ],
                        "iteration": 155,
                        "passed_time": 13.8981837,
                        "remaining_time": 75.19273747,
                        "test": [
                          0.1369912457
                        ]
                      },
                      {
                        "learn": [
                          0.1264096027
                        ],
                        "iteration": 156,
                        "passed_time": 13.95922854,
                        "remaining_time": 74.95305514,
                        "test": [
                          0.1369477488
                        ]
                      },
                      {
                        "learn": [
                          0.1264045366
                        ],
                        "iteration": 157,
                        "passed_time": 14.03118358,
                        "remaining_time": 74.77377581,
                        "test": [
                          0.1369578745
                        ]
                      },
                      {
                        "learn": [
                          0.1263751194
                        ],
                        "iteration": 158,
                        "passed_time": 14.12684702,
                        "remaining_time": 74.72124745,
                        "test": [
                          0.1369492568
                        ]
                      },
                      {
                        "learn": [
                          0.1263238769
                        ],
                        "iteration": 159,
                        "passed_time": 14.2453411,
                        "remaining_time": 74.78804077,
                        "test": [
                          0.1369491756
                        ]
                      },
                      {
                        "learn": [
                          0.1262459739
                        ],
                        "iteration": 160,
                        "passed_time": 14.30415522,
                        "remaining_time": 74.54152938,
                        "test": [
                          0.1369259755
                        ]
                      },
                      {
                        "learn": [
                          0.1262311338
                        ],
                        "iteration": 161,
                        "passed_time": 14.35318211,
                        "remaining_time": 74.24670745,
                        "test": [
                          0.1369205011
                        ]
                      },
                      {
                        "learn": [
                          0.1261154891
                        ],
                        "iteration": 162,
                        "passed_time": 14.41355817,
                        "remaining_time": 74.01317906,
                        "test": [
                          0.1369023479
                        ]
                      },
                      {
                        "learn": [
                          0.1260803291
                        ],
                        "iteration": 163,
                        "passed_time": 14.5037578,
                        "remaining_time": 73.93378977,
                        "test": [
                          0.136894283
                        ]
                      },
                      {
                        "learn": [
                          0.1260696069
                        ],
                        "iteration": 164,
                        "passed_time": 14.60965247,
                        "remaining_time": 73.93369582,
                        "test": [
                          0.1368904293
                        ]
                      },
                      {
                        "learn": [
                          0.1260205268
                        ],
                        "iteration": 165,
                        "passed_time": 14.71022154,
                        "remaining_time": 73.90557085,
                        "test": [
                          0.1368843999
                        ]
                      },
                      {
                        "learn": [
                          0.1259739576
                        ],
                        "iteration": 166,
                        "passed_time": 14.8175609,
                        "remaining_time": 73.9103487,
                        "test": [
                          0.1368914101
                        ]
                      },
                      {
                        "learn": [
                          0.1259269803
                        ],
                        "iteration": 167,
                        "passed_time": 14.90172352,
                        "remaining_time": 73.79901173,
                        "test": [
                          0.1369055272
                        ]
                      },
                      {
                        "learn": [
                          0.125891606
                        ],
                        "iteration": 168,
                        "passed_time": 14.97328741,
                        "remaining_time": 73.62604639,
                        "test": [
                          0.1369199484
                        ]
                      },
                      {
                        "learn": [
                          0.1258870048
                        ],
                        "iteration": 169,
                        "passed_time": 15.06592891,
                        "remaining_time": 73.55718234,
                        "test": [
                          0.1369192972
                        ]
                      },
                      {
                        "learn": [
                          0.1258582261
                        ],
                        "iteration": 170,
                        "passed_time": 15.14187305,
                        "remaining_time": 73.40709216,
                        "test": [
                          0.1369426095
                        ]
                      },
                      {
                        "learn": [
                          0.1258536101
                        ],
                        "iteration": 171,
                        "passed_time": 15.23152333,
                        "remaining_time": 73.32384484,
                        "test": [
                          0.1369420058
                        ]
                      },
                      {
                        "learn": [
                          0.1257469032
                        ],
                        "iteration": 172,
                        "passed_time": 15.32813761,
                        "remaining_time": 73.2738139,
                        "test": [
                          0.1369347881
                        ]
                      },
                      {
                        "learn": [
                          0.1257148023
                        ],
                        "iteration": 173,
                        "passed_time": 15.40569346,
                        "remaining_time": 73.1327747,
                        "test": [
                          0.136938276
                        ]
                      },
                      {
                        "learn": [
                          0.1256314239
                        ],
                        "iteration": 174,
                        "passed_time": 15.49019238,
                        "remaining_time": 73.02519266,
                        "test": [
                          0.1369216387
                        ]
                      },
                      {
                        "learn": [
                          0.1256073757
                        ],
                        "iteration": 175,
                        "passed_time": 15.56787606,
                        "remaining_time": 72.88596521,
                        "test": [
                          0.1369342844
                        ]
                      },
                      {
                        "learn": [
                          0.1255120481
                        ],
                        "iteration": 176,
                        "passed_time": 15.65919167,
                        "remaining_time": 72.81081776,
                        "test": [
                          0.1369600729
                        ]
                      },
                      {
                        "learn": [
                          0.1254667896
                        ],
                        "iteration": 177,
                        "passed_time": 15.7708075,
                        "remaining_time": 72.82923463,
                        "test": [
                          0.1369607103
                        ]
                      },
                      {
                        "learn": [
                          0.1254392379
                        ],
                        "iteration": 178,
                        "passed_time": 15.8794672,
                        "remaining_time": 72.83264005,
                        "test": [
                          0.1369520377
                        ]
                      },
                      {
                        "learn": [
                          0.1254085848
                        ],
                        "iteration": 179,
                        "passed_time": 15.95725401,
                        "remaining_time": 72.69415716,
                        "test": [
                          0.1369429398
                        ]
                      },
                      {
                        "learn": [
                          0.1253765987
                        ],
                        "iteration": 180,
                        "passed_time": 16.03897929,
                        "remaining_time": 72.57416596,
                        "test": [
                          0.1369522781
                        ]
                      },
                      {
                        "learn": [
                          0.1253261954
                        ],
                        "iteration": 181,
                        "passed_time": 16.14110626,
                        "remaining_time": 72.54629076,
                        "test": [
                          0.1369483204
                        ]
                      },
                      {
                        "learn": [
                          0.1253222074
                        ],
                        "iteration": 182,
                        "passed_time": 16.26166671,
                        "remaining_time": 72.5999,
                        "test": [
                          0.1369458037
                        ]
                      },
                      {
                        "learn": [
                          0.1252715198
                        ],
                        "iteration": 183,
                        "passed_time": 16.37539053,
                        "remaining_time": 72.62129715,
                        "test": [
                          0.1369591966
                        ]
                      },
                      {
                        "learn": [
                          0.1252681839
                        ],
                        "iteration": 184,
                        "passed_time": 16.46512052,
                        "remaining_time": 72.53553094,
                        "test": [
                          0.1369602927
                        ]
                      },
                      {
                        "learn": [
                          0.1252665017
                        ],
                        "iteration": 185,
                        "passed_time": 16.54574286,
                        "remaining_time": 72.4098639,
                        "test": [
                          0.1369603146
                        ]
                      },
                      {
                        "learn": [
                          0.1252582908
                        ],
                        "iteration": 186,
                        "passed_time": 16.61887581,
                        "remaining_time": 72.25211784,
                        "test": [
                          0.1369550979
                        ]
                      },
                      {
                        "learn": [
                          0.1251769836
                        ],
                        "iteration": 187,
                        "passed_time": 16.72205319,
                        "remaining_time": 72.22503825,
                        "test": [
                          0.1369432789
                        ]
                      },
                      {
                        "learn": [
                          0.1251134393
                        ],
                        "iteration": 188,
                        "passed_time": 16.84413758,
                        "remaining_time": 72.27828348,
                        "test": [
                          0.1369266813
                        ]
                      },
                      {
                        "learn": [
                          0.1250655202
                        ],
                        "iteration": 189,
                        "passed_time": 16.93433333,
                        "remaining_time": 72.19373682,
                        "test": [
                          0.1369394889
                        ]
                      },
                      {
                        "learn": [
                          0.1250287405
                        ],
                        "iteration": 190,
                        "passed_time": 17.01567152,
                        "remaining_time": 72.07161393,
                        "test": [
                          0.1369430832
                        ]
                      },
                      {
                        "learn": [
                          0.1250115082
                        ],
                        "iteration": 191,
                        "passed_time": 17.09821611,
                        "remaining_time": 71.9549928,
                        "test": [
                          0.1369462687
                        ]
                      },
                      {
                        "learn": [
                          0.1249500667
                        ],
                        "iteration": 192,
                        "passed_time": 17.18585851,
                        "remaining_time": 71.8600405,
                        "test": [
                          0.1369394918
                        ]
                      },
                      {
                        "learn": [
                          0.1249307207
                        ],
                        "iteration": 193,
                        "passed_time": 17.31037692,
                        "remaining_time": 71.91837009,
                        "test": [
                          0.1369375437
                        ]
                      },
                      {
                        "learn": [
                          0.1248572364
                        ],
                        "iteration": 194,
                        "passed_time": 17.42897233,
                        "remaining_time": 71.95037293,
                        "test": [
                          0.1369588539
                        ]
                      },
                      {
                        "learn": [
                          0.1247385621
                        ],
                        "iteration": 195,
                        "passed_time": 17.54372631,
                        "remaining_time": 71.96508139,
                        "test": [
                          0.13698468
                        ]
                      },
                      {
                        "learn": [
                          0.1246740222
                        ],
                        "iteration": 196,
                        "passed_time": 17.64936164,
                        "remaining_time": 71.94130659,
                        "test": [
                          0.1369777911
                        ]
                      },
                      {
                        "learn": [
                          0.1246412093
                        ],
                        "iteration": 197,
                        "passed_time": 17.72623905,
                        "remaining_time": 71.80022081,
                        "test": [
                          0.1370027815
                        ]
                      },
                      {
                        "learn": [
                          0.1245266111
                        ],
                        "iteration": 198,
                        "passed_time": 17.8322643,
                        "remaining_time": 71.77710404,
                        "test": [
                          0.13697304
                        ]
                      },
                      {
                        "learn": [
                          0.1244783587
                        ],
                        "iteration": 199,
                        "passed_time": 17.91516147,
                        "remaining_time": 71.66064587,
                        "test": [
                          0.136963291
                        ]
                      },
                      {
                        "learn": [
                          0.124463207
                        ],
                        "iteration": 200,
                        "passed_time": 17.99741766,
                        "remaining_time": 71.5419737,
                        "test": [
                          0.1369696658
                        ]
                      },
                      {
                        "learn": [
                          0.1243246409
                        ],
                        "iteration": 201,
                        "passed_time": 18.13095174,
                        "remaining_time": 71.62623511,
                        "test": [
                          0.1369858511
                        ]
                      },
                      {
                        "learn": [
                          0.1243176476
                        ],
                        "iteration": 202,
                        "passed_time": 18.24741092,
                        "remaining_time": 71.64131284,
                        "test": [
                          0.1369875026
                        ]
                      },
                      {
                        "learn": [
                          0.1242761214
                        ],
                        "iteration": 203,
                        "passed_time": 18.41299439,
                        "remaining_time": 71.84678204,
                        "test": [
                          0.1370008795
                        ]
                      },
                      {
                        "learn": [
                          0.1242667939
                        ],
                        "iteration": 204,
                        "passed_time": 18.50317866,
                        "remaining_time": 71.75622945,
                        "test": [
                          0.1370010017
                        ]
                      },
                      {
                        "learn": [
                          0.1241949902
                        ],
                        "iteration": 205,
                        "passed_time": 18.67597714,
                        "remaining_time": 71.98410605,
                        "test": [
                          0.1370051422
                        ]
                      },
                      {
                        "learn": [
                          0.1241106533
                        ],
                        "iteration": 206,
                        "passed_time": 18.83825865,
                        "remaining_time": 72.16782177,
                        "test": [
                          0.1370000265
                        ]
                      },
                      {
                        "learn": [
                          0.1240881416
                        ],
                        "iteration": 207,
                        "passed_time": 18.97936287,
                        "remaining_time": 72.26757399,
                        "test": [
                          0.1369957369
                        ]
                      },
                      {
                        "learn": [
                          0.1240511227
                        ],
                        "iteration": 208,
                        "passed_time": 19.13428273,
                        "remaining_time": 72.41730927,
                        "test": [
                          0.1369971643
                        ]
                      },
                      {
                        "learn": [
                          0.1240347293
                        ],
                        "iteration": 209,
                        "passed_time": 19.28285027,
                        "remaining_time": 72.54024627,
                        "test": [
                          0.1369924776
                        ]
                      },
                      {
                        "learn": [
                          0.1240324432
                        ],
                        "iteration": 210,
                        "passed_time": 19.44641025,
                        "remaining_time": 72.71667151,
                        "test": [
                          0.1369920597
                        ]
                      },
                      {
                        "learn": [
                          0.1240146985
                        ],
                        "iteration": 211,
                        "passed_time": 19.5881565,
                        "remaining_time": 72.80880811,
                        "test": [
                          0.1370024998
                        ]
                      },
                      {
                        "learn": [
                          0.1239991302
                        ],
                        "iteration": 212,
                        "passed_time": 19.73223312,
                        "remaining_time": 72.90735898,
                        "test": [
                          0.1370129244
                        ]
                      },
                      {
                        "learn": [
                          0.1239629006
                        ],
                        "iteration": 213,
                        "passed_time": 19.83637656,
                        "remaining_time": 72.85697186,
                        "test": [
                          0.1369958678
                        ]
                      },
                      {
                        "learn": [
                          0.123924169
                        ],
                        "iteration": 214,
                        "passed_time": 19.98038502,
                        "remaining_time": 72.95163833,
                        "test": [
                          0.1369964493
                        ]
                      },
                      {
                        "learn": [
                          0.1238684022
                        ],
                        "iteration": 215,
                        "passed_time": 20.14820757,
                        "remaining_time": 73.13053117,
                        "test": [
                          0.1370116602
                        ]
                      },
                      {
                        "learn": [
                          0.1237433645
                        ],
                        "iteration": 216,
                        "passed_time": 20.37398275,
                        "remaining_time": 73.51533869,
                        "test": [
                          0.1370030188
                        ]
                      },
                      {
                        "learn": [
                          0.1236930784
                        ],
                        "iteration": 217,
                        "passed_time": 20.52033991,
                        "remaining_time": 73.60965969,
                        "test": [
                          0.1369670796
                        ]
                      },
                      {
                        "learn": [
                          0.1236871684
                        ],
                        "iteration": 218,
                        "passed_time": 20.61416712,
                        "remaining_time": 73.51444988,
                        "test": [
                          0.1369658994
                        ]
                      },
                      {
                        "learn": [
                          0.123602557
                        ],
                        "iteration": 219,
                        "passed_time": 20.72270712,
                        "remaining_time": 73.47141615,
                        "test": [
                          0.1369586936
                        ]
                      },
                      {
                        "learn": [
                          0.1235906554
                        ],
                        "iteration": 220,
                        "passed_time": 20.81397796,
                        "remaining_time": 73.36691779,
                        "test": [
                          0.1369590516
                        ]
                      },
                      {
                        "learn": [
                          0.1235471467
                        ],
                        "iteration": 221,
                        "passed_time": 20.91308383,
                        "remaining_time": 73.2899965,
                        "test": [
                          0.1369749304
                        ]
                      },
                      {
                        "learn": [
                          0.1235268659
                        ],
                        "iteration": 222,
                        "passed_time": 21.01171273,
                        "remaining_time": 73.21121432,
                        "test": [
                          0.1369715364
                        ]
                      },
                      {
                        "learn": [
                          0.1235205866
                        ],
                        "iteration": 223,
                        "passed_time": 21.10541547,
                        "remaining_time": 73.1151893,
                        "test": [
                          0.1369659328
                        ]
                      },
                      {
                        "learn": [
                          0.1234480792
                        ],
                        "iteration": 224,
                        "passed_time": 21.20718673,
                        "remaining_time": 73.0469765,
                        "test": [
                          0.1369607746
                        ]
                      },
                      {
                        "learn": [
                          0.1234349695
                        ],
                        "iteration": 225,
                        "passed_time": 21.29482092,
                        "remaining_time": 72.93005041,
                        "test": [
                          0.136959348
                        ]
                      },
                      {
                        "learn": [
                          0.1233506714
                        ],
                        "iteration": 226,
                        "passed_time": 21.39822722,
                        "remaining_time": 72.86709094,
                        "test": [
                          0.1369958276
                        ]
                      },
                      {
                        "learn": [
                          0.1233097441
                        ],
                        "iteration": 227,
                        "passed_time": 21.52210647,
                        "remaining_time": 72.87309735,
                        "test": [
                          0.1369979888
                        ]
                      },
                      {
                        "learn": [
                          0.1232413909
                        ],
                        "iteration": 228,
                        "passed_time": 21.63010764,
                        "remaining_time": 72.82451086,
                        "test": [
                          0.1370096761
                        ]
                      },
                      {
                        "learn": [
                          0.1231169301
                        ],
                        "iteration": 229,
                        "passed_time": 21.74860379,
                        "remaining_time": 72.81054311,
                        "test": [
                          0.1370475682
                        ]
                      },
                      {
                        "learn": [
                          0.12310429
                        ],
                        "iteration": 230,
                        "passed_time": 21.82800114,
                        "remaining_time": 72.6655103,
                        "test": [
                          0.1370468147
                        ]
                      },
                      {
                        "learn": [
                          0.1229944349
                        ],
                        "iteration": 231,
                        "passed_time": 21.9378114,
                        "remaining_time": 72.62172049,
                        "test": [
                          0.1370176491
                        ]
                      },
                      {
                        "learn": [
                          0.1229207564
                        ],
                        "iteration": 232,
                        "passed_time": 22.04730721,
                        "remaining_time": 72.57632888,
                        "test": [
                          0.1370121992
                        ]
                      },
                      {
                        "learn": [
                          0.1229125795
                        ],
                        "iteration": 233,
                        "passed_time": 22.14836277,
                        "remaining_time": 72.50276018,
                        "test": [
                          0.1370150937
                        ]
                      },
                      {
                        "learn": [
                          0.1228916482
                        ],
                        "iteration": 234,
                        "passed_time": 22.23489357,
                        "remaining_time": 72.38167482,
                        "test": [
                          0.1370194818
                        ]
                      },
                      {
                        "learn": [
                          0.1228750155
                        ],
                        "iteration": 235,
                        "passed_time": 22.34127079,
                        "remaining_time": 72.32513087,
                        "test": [
                          0.1370165623
                        ]
                      },
                      {
                        "learn": [
                          0.1227868228
                        ],
                        "iteration": 236,
                        "passed_time": 22.43887191,
                        "remaining_time": 72.23991251,
                        "test": [
                          0.1369875659
                        ]
                      },
                      {
                        "learn": [
                          0.1227379511
                        ],
                        "iteration": 237,
                        "passed_time": 22.57520406,
                        "remaining_time": 72.27859452,
                        "test": [
                          0.1369656948
                        ]
                      },
                      {
                        "learn": [
                          0.1227256405
                        ],
                        "iteration": 238,
                        "passed_time": 22.67556412,
                        "remaining_time": 72.20127322,
                        "test": [
                          0.1369687032
                        ]
                      },
                      {
                        "learn": [
                          0.1227102387
                        ],
                        "iteration": 239,
                        "passed_time": 22.7244934,
                        "remaining_time": 71.96089576,
                        "test": [
                          0.1369622629
                        ]
                      },
                      {
                        "learn": [
                          0.1226809764
                        ],
                        "iteration": 240,
                        "passed_time": 22.77596671,
                        "remaining_time": 71.73011922,
                        "test": [
                          0.1369655867
                        ]
                      },
                      {
                        "learn": [
                          0.1225704598
                        ],
                        "iteration": 241,
                        "passed_time": 22.83180114,
                        "remaining_time": 71.51448457,
                        "test": [
                          0.1369748027
                        ]
                      },
                      {
                        "learn": [
                          0.1225549772
                        ],
                        "iteration": 242,
                        "passed_time": 22.87954657,
                        "remaining_time": 71.27496606,
                        "test": [
                          0.1369740751
                        ]
                      },
                      {
                        "learn": [
                          0.1225102749
                        ],
                        "iteration": 243,
                        "passed_time": 22.93535641,
                        "remaining_time": 71.06200594,
                        "test": [
                          0.1369896528
                        ]
                      },
                      {
                        "learn": [
                          0.1224776229
                        ],
                        "iteration": 244,
                        "passed_time": 22.99002276,
                        "remaining_time": 70.84680484,
                        "test": [
                          0.1369822126
                        ]
                      },
                      {
                        "learn": [
                          0.1224034384
                        ],
                        "iteration": 245,
                        "passed_time": 23.04767922,
                        "remaining_time": 70.64207372,
                        "test": [
                          0.1369946752
                        ]
                      },
                      {
                        "learn": [
                          0.1223582578
                        ],
                        "iteration": 246,
                        "passed_time": 23.10988644,
                        "remaining_time": 70.45240683,
                        "test": [
                          0.1370020186
                        ]
                      },
                      {
                        "learn": [
                          0.1223146969
                        ],
                        "iteration": 247,
                        "passed_time": 23.1694335,
                        "remaining_time": 70.25570157,
                        "test": [
                          0.1369881703
                        ]
                      },
                      {
                        "learn": [
                          0.1222783612
                        ],
                        "iteration": 248,
                        "passed_time": 23.22421036,
                        "remaining_time": 70.04571075,
                        "test": [
                          0.13699797
                        ]
                      },
                      {
                        "learn": [
                          0.1222486137
                        ],
                        "iteration": 249,
                        "passed_time": 23.27480884,
                        "remaining_time": 69.82442651,
                        "test": [
                          0.1369892227
                        ]
                      },
                      {
                        "learn": [
                          0.1221356871
                        ],
                        "iteration": 250,
                        "passed_time": 23.33536552,
                        "remaining_time": 69.63421822,
                        "test": [
                          0.1369700593
                        ]
                      },
                      {
                        "learn": [
                          0.1221283826
                        ],
                        "iteration": 251,
                        "passed_time": 23.38268898,
                        "remaining_time": 69.40575935,
                        "test": [
                          0.1369795912
                        ]
                      },
                      {
                        "learn": [
                          0.1221122578
                        ],
                        "iteration": 252,
                        "passed_time": 23.43261065,
                        "remaining_time": 69.18640376,
                        "test": [
                          0.1369752885
                        ]
                      },
                      {
                        "learn": [
                          0.1221108009
                        ],
                        "iteration": 253,
                        "passed_time": 23.47820178,
                        "remaining_time": 68.95566351,
                        "test": [
                          0.1369759281
                        ]
                      },
                      {
                        "learn": [
                          0.1220722405
                        ],
                        "iteration": 254,
                        "passed_time": 23.54951067,
                        "remaining_time": 68.80151157,
                        "test": [
                          0.1369714793
                        ]
                      },
                      {
                        "learn": [
                          0.121992625
                        ],
                        "iteration": 255,
                        "passed_time": 23.6205754,
                        "remaining_time": 68.64729727,
                        "test": [
                          0.1369728987
                        ]
                      },
                      {
                        "learn": [
                          0.1219611174
                        ],
                        "iteration": 256,
                        "passed_time": 23.67175724,
                        "remaining_time": 68.43624758,
                        "test": [
                          0.1369875326
                        ]
                      },
                      {
                        "learn": [
                          0.121952044
                        ],
                        "iteration": 257,
                        "passed_time": 23.72293435,
                        "remaining_time": 68.22642358,
                        "test": [
                          0.1369864645
                        ]
                      },
                      {
                        "learn": [
                          0.1219133738
                        ],
                        "iteration": 258,
                        "passed_time": 23.78070552,
                        "remaining_time": 68.03669031,
                        "test": [
                          0.1369658962
                        ]
                      },
                      {
                        "learn": [
                          0.1218870488
                        ],
                        "iteration": 259,
                        "passed_time": 23.83364893,
                        "remaining_time": 67.83423157,
                        "test": [
                          0.136978796
                        ]
                      },
                      {
                        "learn": [
                          0.1218581767
                        ],
                        "iteration": 260,
                        "passed_time": 23.88506366,
                        "remaining_time": 67.6285902,
                        "test": [
                          0.1369924091
                        ]
                      },
                      {
                        "learn": [
                          0.1218392373
                        ],
                        "iteration": 261,
                        "passed_time": 23.93983499,
                        "remaining_time": 67.43358099,
                        "test": [
                          0.136994207
                        ]
                      },
                      {
                        "learn": [
                          0.1217866176
                        ],
                        "iteration": 262,
                        "passed_time": 23.99421707,
                        "remaining_time": 67.23854746,
                        "test": [
                          0.1369777807
                        ]
                      },
                      {
                        "learn": [
                          0.1217227967
                        ],
                        "iteration": 263,
                        "passed_time": 24.05237346,
                        "remaining_time": 67.05510176,
                        "test": [
                          0.1369903875
                        ]
                      },
                      {
                        "learn": [
                          0.1216620507
                        ],
                        "iteration": 264,
                        "passed_time": 24.10901923,
                        "remaining_time": 66.86841182,
                        "test": [
                          0.1370143895
                        ]
                      },
                      {
                        "learn": [
                          0.1216369143
                        ],
                        "iteration": 265,
                        "passed_time": 24.15604724,
                        "remaining_time": 66.65616043,
                        "test": [
                          0.1370082304
                        ]
                      },
                      {
                        "learn": [
                          0.1215431947
                        ],
                        "iteration": 266,
                        "passed_time": 24.21725555,
                        "remaining_time": 66.48407609,
                        "test": [
                          0.1369996272
                        ]
                      },
                      {
                        "learn": [
                          0.1214996143
                        ],
                        "iteration": 267,
                        "passed_time": 24.26659571,
                        "remaining_time": 66.28040321,
                        "test": [
                          0.1370098099
                        ]
                      },
                      {
                        "learn": [
                          0.1214108817
                        ],
                        "iteration": 268,
                        "passed_time": 24.32493606,
                        "remaining_time": 66.10233553,
                        "test": [
                          0.1370383615
                        ]
                      },
                      {
                        "learn": [
                          0.1214049381
                        ],
                        "iteration": 269,
                        "passed_time": 24.3748208,
                        "remaining_time": 65.90229328,
                        "test": [
                          0.1370352921
                        ]
                      },
                      {
                        "learn": [
                          0.12129508
                        ],
                        "iteration": 270,
                        "passed_time": 24.43766178,
                        "remaining_time": 65.73821196,
                        "test": [
                          0.137087801
                        ]
                      },
                      {
                        "learn": [
                          0.1212039187
                        ],
                        "iteration": 271,
                        "passed_time": 24.52001377,
                        "remaining_time": 65.62709567,
                        "test": [
                          0.1370830988
                        ]
                      },
                      {
                        "learn": [
                          0.1211927505
                        ],
                        "iteration": 272,
                        "passed_time": 24.57735418,
                        "remaining_time": 65.4495842,
                        "test": [
                          0.137091727
                        ]
                      },
                      {
                        "learn": [
                          0.1211662144
                        ],
                        "iteration": 273,
                        "passed_time": 24.64481872,
                        "remaining_time": 65.29977515,
                        "test": [
                          0.1370774473
                        ]
                      },
                      {
                        "learn": [
                          0.1211489967
                        ],
                        "iteration": 274,
                        "passed_time": 24.6927297,
                        "remaining_time": 65.09901465,
                        "test": [
                          0.1370850938
                        ]
                      },
                      {
                        "learn": [
                          0.1211477413
                        ],
                        "iteration": 275,
                        "passed_time": 24.73717274,
                        "remaining_time": 64.89026471,
                        "test": [
                          0.1370851737
                        ]
                      },
                      {
                        "learn": [
                          0.1211281034
                        ],
                        "iteration": 276,
                        "passed_time": 24.7867558,
                        "remaining_time": 64.69611713,
                        "test": [
                          0.1370936654
                        ]
                      },
                      {
                        "learn": [
                          0.1211007605
                        ],
                        "iteration": 277,
                        "passed_time": 24.83559612,
                        "remaining_time": 64.50108058,
                        "test": [
                          0.1370845029
                        ]
                      },
                      {
                        "learn": [
                          0.1210282218
                        ],
                        "iteration": 278,
                        "passed_time": 24.89456428,
                        "remaining_time": 64.33326467,
                        "test": [
                          0.1370534748
                        ]
                      },
                      {
                        "learn": [
                          0.120988212
                        ],
                        "iteration": 279,
                        "passed_time": 24.95094144,
                        "remaining_time": 64.15956371,
                        "test": [
                          0.1370569178
                        ]
                      },
                      {
                        "learn": [
                          0.1209707066
                        ],
                        "iteration": 280,
                        "passed_time": 24.99989673,
                        "remaining_time": 63.96770729,
                        "test": [
                          0.1370615528
                        ]
                      },
                      {
                        "learn": [
                          0.1209342059
                        ],
                        "iteration": 281,
                        "passed_time": 25.04955944,
                        "remaining_time": 63.77866551,
                        "test": [
                          0.1370786974
                        ]
                      },
                      {
                        "learn": [
                          0.1209010281
                        ],
                        "iteration": 282,
                        "passed_time": 25.1041654,
                        "remaining_time": 63.60313283,
                        "test": [
                          0.1370953026
                        ]
                      },
                      {
                        "learn": [
                          0.1208336027
                        ],
                        "iteration": 283,
                        "passed_time": 25.15713736,
                        "remaining_time": 63.42433221,
                        "test": [
                          0.1371047883
                        ]
                      },
                      {
                        "learn": [
                          0.1208154937
                        ],
                        "iteration": 284,
                        "passed_time": 25.20784981,
                        "remaining_time": 63.24074602,
                        "test": [
                          0.1371084361
                        ]
                      },
                      {
                        "learn": [
                          0.1207677537
                        ],
                        "iteration": 285,
                        "passed_time": 25.26706029,
                        "remaining_time": 63.07930435,
                        "test": [
                          0.1371331616
                        ]
                      },
                      {
                        "learn": [
                          0.1207198216
                        ],
                        "iteration": 286,
                        "passed_time": 25.3223739,
                        "remaining_time": 62.90889403,
                        "test": [
                          0.137147942
                        ]
                      },
                      {
                        "learn": [
                          0.1206671413
                        ],
                        "iteration": 287,
                        "passed_time": 25.37460652,
                        "remaining_time": 62.73166613,
                        "test": [
                          0.1371692151
                        ]
                      },
                      {
                        "learn": [
                          0.1206180657
                        ],
                        "iteration": 288,
                        "passed_time": 25.43204105,
                        "remaining_time": 62.56810098,
                        "test": [
                          0.1371719113
                        ]
                      },
                      {
                        "learn": [
                          0.120595753
                        ],
                        "iteration": 289,
                        "passed_time": 25.4795513,
                        "remaining_time": 62.38097043,
                        "test": [
                          0.1371838064
                        ]
                      },
                      {
                        "learn": [
                          0.1205506425
                        ],
                        "iteration": 290,
                        "passed_time": 25.55539718,
                        "remaining_time": 62.26383711,
                        "test": [
                          0.1371551243
                        ]
                      },
                      {
                        "learn": [
                          0.1205383189
                        ],
                        "iteration": 291,
                        "passed_time": 25.60329271,
                        "remaining_time": 62.07921657,
                        "test": [
                          0.137152027
                        ]
                      },
                      {
                        "learn": [
                          0.1205246293
                        ],
                        "iteration": 292,
                        "passed_time": 25.66445588,
                        "remaining_time": 61.92754372,
                        "test": [
                          0.1371640946
                        ]
                      },
                      {
                        "learn": [
                          0.1205107097
                        ],
                        "iteration": 293,
                        "passed_time": 25.71691425,
                        "remaining_time": 61.7555832,
                        "test": [
                          0.1371718382
                        ]
                      },
                      {
                        "learn": [
                          0.1205014744
                        ],
                        "iteration": 294,
                        "passed_time": 25.76851635,
                        "remaining_time": 61.58238653,
                        "test": [
                          0.1371696365
                        ]
                      },
                      {
                        "learn": [
                          0.1205000797
                        ],
                        "iteration": 295,
                        "passed_time": 25.81336739,
                        "remaining_time": 61.39395488,
                        "test": [
                          0.1371697561
                        ]
                      },
                      {
                        "learn": [
                          0.1203972196
                        ],
                        "iteration": 296,
                        "passed_time": 25.87712244,
                        "remaining_time": 61.25123593,
                        "test": [
                          0.1371712793
                        ]
                      },
                      {
                        "learn": [
                          0.1203153617
                        ],
                        "iteration": 297,
                        "passed_time": 25.93411963,
                        "remaining_time": 61.09312745,
                        "test": [
                          0.1371899339
                        ]
                      },
                      {
                        "learn": [
                          0.1202492363
                        ],
                        "iteration": 298,
                        "passed_time": 25.99396858,
                        "remaining_time": 60.94238119,
                        "test": [
                          0.1371863076
                        ]
                      },
                      {
                        "learn": [
                          0.1202304798
                        ],
                        "iteration": 299,
                        "passed_time": 26.04728125,
                        "remaining_time": 60.77698959,
                        "test": [
                          0.1371909958
                        ]
                      },
                      {
                        "learn": [
                          0.1201842326
                        ],
                        "iteration": 300,
                        "passed_time": 26.10587878,
                        "remaining_time": 60.6246155,
                        "test": [
                          0.1371858461
                        ]
                      },
                      {
                        "learn": [
                          0.1201743966
                        ],
                        "iteration": 301,
                        "passed_time": 26.15282709,
                        "remaining_time": 60.44593812,
                        "test": [
                          0.137188004
                        ]
                      },
                      {
                        "learn": [
                          0.1201715643
                        ],
                        "iteration": 302,
                        "passed_time": 26.19840689,
                        "remaining_time": 60.26498218,
                        "test": [
                          0.1371868912
                        ]
                      },
                      {
                        "learn": [
                          0.1200819506
                        ],
                        "iteration": 303,
                        "passed_time": 26.25955609,
                        "remaining_time": 60.12056263,
                        "test": [
                          0.1371586845
                        ]
                      },
                      {
                        "learn": [
                          0.1200629132
                        ],
                        "iteration": 304,
                        "passed_time": 26.30893709,
                        "remaining_time": 59.94987303,
                        "test": [
                          0.1371580188
                        ]
                      },
                      {
                        "learn": [
                          0.1200351139
                        ],
                        "iteration": 305,
                        "passed_time": 26.36264888,
                        "remaining_time": 59.78979845,
                        "test": [
                          0.1371595081
                        ]
                      },
                      {
                        "learn": [
                          0.1200080798
                        ],
                        "iteration": 306,
                        "passed_time": 26.41532139,
                        "remaining_time": 59.62807075,
                        "test": [
                          0.1371601953
                        ]
                      },
                      {
                        "learn": [
                          0.119940483
                        ],
                        "iteration": 307,
                        "passed_time": 26.47254516,
                        "remaining_time": 59.47727679,
                        "test": [
                          0.1371854699
                        ]
                      },
                      {
                        "learn": [
                          0.1199184334
                        ],
                        "iteration": 308,
                        "passed_time": 26.52324971,
                        "remaining_time": 59.31250986,
                        "test": [
                          0.137192973
                        ]
                      },
                      {
                        "learn": [
                          0.1199021687
                        ],
                        "iteration": 309,
                        "passed_time": 26.60916608,
                        "remaining_time": 59.22685354,
                        "test": [
                          0.137191505
                        ]
                      },
                      {
                        "learn": [
                          0.1198816234
                        ],
                        "iteration": 310,
                        "passed_time": 26.65939448,
                        "remaining_time": 59.06213118,
                        "test": [
                          0.1371913096
                        ]
                      },
                      {
                        "learn": [
                          0.1197998729
                        ],
                        "iteration": 311,
                        "passed_time": 26.7340865,
                        "remaining_time": 58.95208818,
                        "test": [
                          0.1371537148
                        ]
                      },
                      {
                        "learn": [
                          0.1197271655
                        ],
                        "iteration": 312,
                        "passed_time": 26.78958117,
                        "remaining_time": 58.80013502,
                        "test": [
                          0.1371643347
                        ]
                      },
                      {
                        "learn": [
                          0.1196567222
                        ],
                        "iteration": 313,
                        "passed_time": 26.849995,
                        "remaining_time": 58.65954322,
                        "test": [
                          0.1371352994
                        ]
                      },
                      {
                        "learn": [
                          0.1195625344
                        ],
                        "iteration": 314,
                        "passed_time": 26.90863429,
                        "remaining_time": 58.51560154,
                        "test": [
                          0.137090935
                        ]
                      },
                      {
                        "learn": [
                          0.1195040333
                        ],
                        "iteration": 315,
                        "passed_time": 26.96334126,
                        "remaining_time": 58.36368805,
                        "test": [
                          0.1370876909
                        ]
                      },
                      {
                        "learn": [
                          0.1193929994
                        ],
                        "iteration": 316,
                        "passed_time": 27.02902659,
                        "remaining_time": 58.23604152,
                        "test": [
                          0.1371131594
                        ]
                      },
                      {
                        "learn": [
                          0.1193291111
                        ],
                        "iteration": 317,
                        "passed_time": 27.08728241,
                        "remaining_time": 58.09285096,
                        "test": [
                          0.1371072623
                        ]
                      },
                      {
                        "learn": [
                          0.1193042545
                        ],
                        "iteration": 318,
                        "passed_time": 27.13833672,
                        "remaining_time": 57.93481915,
                        "test": [
                          0.1371181451
                        ]
                      },
                      {
                        "learn": [
                          0.119232292
                        ],
                        "iteration": 319,
                        "passed_time": 27.20045394,
                        "remaining_time": 57.80096462,
                        "test": [
                          0.1371384736
                        ]
                      },
                      {
                        "learn": [
                          0.1192042035
                        ],
                        "iteration": 320,
                        "passed_time": 27.2533982,
                        "remaining_time": 57.64815382,
                        "test": [
                          0.13715302
                        ]
                      },
                      {
                        "learn": [
                          0.1191363985
                        ],
                        "iteration": 321,
                        "passed_time": 27.31530709,
                        "remaining_time": 57.51483916,
                        "test": [
                          0.1371520001
                        ]
                      },
                      {
                        "learn": [
                          0.1191222917
                        ],
                        "iteration": 322,
                        "passed_time": 27.36368007,
                        "remaining_time": 57.35359568,
                        "test": [
                          0.1371533011
                        ]
                      },
                      {
                        "learn": [
                          0.1190199744
                        ],
                        "iteration": 323,
                        "passed_time": 27.42835115,
                        "remaining_time": 57.22705363,
                        "test": [
                          0.1371731306
                        ]
                      },
                      {
                        "learn": [
                          0.1189506318
                        ],
                        "iteration": 324,
                        "passed_time": 27.48751654,
                        "remaining_time": 57.08945744,
                        "test": [
                          0.1372111356
                        ]
                      },
                      {
                        "learn": [
                          0.1189325466
                        ],
                        "iteration": 325,
                        "passed_time": 27.53958854,
                        "remaining_time": 56.93767692,
                        "test": [
                          0.1372064455
                        ]
                      },
                      {
                        "learn": [
                          0.1189270631
                        ],
                        "iteration": 326,
                        "passed_time": 27.61406694,
                        "remaining_time": 56.83262096,
                        "test": [
                          0.1372083815
                        ]
                      },
                      {
                        "learn": [
                          0.1188521022
                        ],
                        "iteration": 327,
                        "passed_time": 27.67628434,
                        "remaining_time": 56.70263133,
                        "test": [
                          0.1372310043
                        ]
                      },
                      {
                        "learn": [
                          0.1187910882
                        ],
                        "iteration": 328,
                        "passed_time": 27.75187068,
                        "remaining_time": 56.60031984,
                        "test": [
                          0.137221827
                        ]
                      },
                      {
                        "learn": [
                          0.1186920639
                        ],
                        "iteration": 329,
                        "passed_time": 27.81309779,
                        "remaining_time": 56.46901673,
                        "test": [
                          0.1372352559
                        ]
                      },
                      {
                        "learn": [
                          0.1186582909
                        ],
                        "iteration": 330,
                        "passed_time": 27.86736326,
                        "remaining_time": 56.32406652,
                        "test": [
                          0.1372401207
                        ]
                      },
                      {
                        "learn": [
                          0.1186431491
                        ],
                        "iteration": 331,
                        "passed_time": 27.9160472,
                        "remaining_time": 56.16843231,
                        "test": [
                          0.1372573253
                        ]
                      },
                      {
                        "learn": [
                          0.1185563357
                        ],
                        "iteration": 332,
                        "passed_time": 27.97069739,
                        "remaining_time": 56.02539087,
                        "test": [
                          0.1372855545
                        ]
                      },
                      {
                        "learn": [
                          0.1185154226
                        ],
                        "iteration": 333,
                        "passed_time": 28.02756486,
                        "remaining_time": 55.88729998,
                        "test": [
                          0.1372824919
                        ]
                      },
                      {
                        "learn": [
                          0.1185079454
                        ],
                        "iteration": 334,
                        "passed_time": 28.07470933,
                        "remaining_time": 55.73039314,
                        "test": [
                          0.1372836378
                        ]
                      },
                      {
                        "learn": [
                          0.1184837604
                        ],
                        "iteration": 335,
                        "passed_time": 28.127335,
                        "remaining_time": 55.58497155,
                        "test": [
                          0.1372870207
                        ]
                      },
                      {
                        "learn": [
                          0.1184603059
                        ],
                        "iteration": 336,
                        "passed_time": 28.18161022,
                        "remaining_time": 55.44334593,
                        "test": [
                          0.1372836027
                        ]
                      },
                      {
                        "learn": [
                          0.1183830951
                        ],
                        "iteration": 337,
                        "passed_time": 28.24343122,
                        "remaining_time": 55.31701618,
                        "test": [
                          0.1372991263
                        ]
                      },
                      {
                        "learn": [
                          0.1183644061
                        ],
                        "iteration": 338,
                        "passed_time": 28.29656623,
                        "remaining_time": 55.17413061,
                        "test": [
                          0.1373133737
                        ]
                      },
                      {
                        "learn": [
                          0.1182702403
                        ],
                        "iteration": 339,
                        "passed_time": 28.3574068,
                        "remaining_time": 55.04673085,
                        "test": [
                          0.1373171212
                        ]
                      },
                      {
                        "learn": [
                          0.118238106
                        ],
                        "iteration": 340,
                        "passed_time": 28.41413216,
                        "remaining_time": 54.9117686,
                        "test": [
                          0.1373264455
                        ]
                      },
                      {
                        "learn": [
                          0.1182306175
                        ],
                        "iteration": 341,
                        "passed_time": 28.46204205,
                        "remaining_time": 54.76030313,
                        "test": [
                          0.137325356
                        ]
                      },
                      {
                        "learn": [
                          0.118221357
                        ],
                        "iteration": 342,
                        "passed_time": 28.51024802,
                        "remaining_time": 54.61000859,
                        "test": [
                          0.1373254432
                        ]
                      },
                      {
                        "learn": [
                          0.1181553614
                        ],
                        "iteration": 343,
                        "passed_time": 28.60457823,
                        "remaining_time": 54.54826545,
                        "test": [
                          0.1373331203
                        ]
                      },
                      {
                        "learn": [
                          0.1180836065
                        ],
                        "iteration": 344,
                        "passed_time": 28.66420748,
                        "remaining_time": 54.42045188,
                        "test": [
                          0.1373509181
                        ]
                      },
                      {
                        "learn": [
                          0.1179926859
                        ],
                        "iteration": 345,
                        "passed_time": 28.744497,
                        "remaining_time": 54.33208392,
                        "test": [
                          0.1373547013
                        ]
                      },
                      {
                        "learn": [
                          0.1179506677
                        ],
                        "iteration": 346,
                        "passed_time": 28.79681758,
                        "remaining_time": 54.19112934,
                        "test": [
                          0.1373594613
                        ]
                      },
                      {
                        "learn": [
                          0.1179183618
                        ],
                        "iteration": 347,
                        "passed_time": 28.84653803,
                        "remaining_time": 54.04581263,
                        "test": [
                          0.1373618352
                        ]
                      },
                      {
                        "learn": [
                          0.1178587036
                        ],
                        "iteration": 348,
                        "passed_time": 28.90106108,
                        "remaining_time": 53.91000219,
                        "test": [
                          0.1373540422
                        ]
                      },
                      {
                        "learn": [
                          0.117806518
                        ],
                        "iteration": 349,
                        "passed_time": 28.95802772,
                        "remaining_time": 53.77919434,
                        "test": [
                          0.1373378749
                        ]
                      },
                      {
                        "learn": [
                          0.1177800768
                        ],
                        "iteration": 350,
                        "passed_time": 29.00783657,
                        "remaining_time": 53.63557246,
                        "test": [
                          0.1373466903
                        ]
                      },
                      {
                        "learn": [
                          0.1177619274
                        ],
                        "iteration": 351,
                        "passed_time": 29.07267081,
                        "remaining_time": 53.52014399,
                        "test": [
                          0.1373512102
                        ]
                      },
                      {
                        "learn": [
                          0.1177005305
                        ],
                        "iteration": 352,
                        "passed_time": 29.12460007,
                        "remaining_time": 53.38134914,
                        "test": [
                          0.1373734361
                        ]
                      },
                      {
                        "learn": [
                          0.1176997543
                        ],
                        "iteration": 353,
                        "passed_time": 29.16924007,
                        "remaining_time": 53.22974319,
                        "test": [
                          0.1373728912
                        ]
                      },
                      {
                        "learn": [
                          0.1176898897
                        ],
                        "iteration": 354,
                        "passed_time": 29.21714962,
                        "remaining_time": 53.08468029,
                        "test": [
                          0.1373803393
                        ]
                      },
                      {
                        "learn": [
                          0.1176887827
                        ],
                        "iteration": 355,
                        "passed_time": 29.26299507,
                        "remaining_time": 52.93642928,
                        "test": [
                          0.1373809133
                        ]
                      },
                      {
                        "learn": [
                          0.1176875941
                        ],
                        "iteration": 356,
                        "passed_time": 29.30778339,
                        "remaining_time": 52.78684796,
                        "test": [
                          0.1373813138
                        ]
                      },
                      {
                        "learn": [
                          0.117679781
                        ],
                        "iteration": 357,
                        "passed_time": 29.35564892,
                        "remaining_time": 52.6433704,
                        "test": [
                          0.1373868935
                        ]
                      },
                      {
                        "learn": [
                          0.1176336378
                        ],
                        "iteration": 358,
                        "passed_time": 29.42057797,
                        "remaining_time": 52.5308927,
                        "test": [
                          0.1373825716
                        ]
                      },
                      {
                        "learn": [
                          0.1176028693
                        ],
                        "iteration": 359,
                        "passed_time": 29.47246528,
                        "remaining_time": 52.39549383,
                        "test": [
                          0.1373815067
                        ]
                      },
                      {
                        "learn": [
                          0.1175778241
                        ],
                        "iteration": 360,
                        "passed_time": 29.52423231,
                        "remaining_time": 52.26034473,
                        "test": [
                          0.1373888149
                        ]
                      },
                      {
                        "learn": [
                          0.1175128124
                        ],
                        "iteration": 361,
                        "passed_time": 29.58074541,
                        "remaining_time": 52.13402091,
                        "test": [
                          0.1374292436
                        ]
                      },
                      {
                        "learn": [
                          0.1174438252
                        ],
                        "iteration": 362,
                        "passed_time": 29.68875251,
                        "remaining_time": 52.0984445,
                        "test": [
                          0.1373827845
                        ]
                      },
                      {
                        "learn": [
                          0.1173593742
                        ],
                        "iteration": 363,
                        "passed_time": 29.76160559,
                        "remaining_time": 52.00104713,
                        "test": [
                          0.1373926163
                        ]
                      },
                      {
                        "learn": [
                          0.1173103956
                        ],
                        "iteration": 364,
                        "passed_time": 29.82311114,
                        "remaining_time": 51.88404266,
                        "test": [
                          0.1373930261
                        ]
                      },
                      {
                        "learn": [
                          0.1172602776
                        ],
                        "iteration": 365,
                        "passed_time": 29.87715233,
                        "remaining_time": 51.75441141,
                        "test": [
                          0.1373774349
                        ]
                      },
                      {
                        "learn": [
                          0.1172086128
                        ],
                        "iteration": 366,
                        "passed_time": 29.9430927,
                        "remaining_time": 51.64571575,
                        "test": [
                          0.1373630389
                        ]
                      },
                      {
                        "learn": [
                          0.1171767729
                        ],
                        "iteration": 367,
                        "passed_time": 29.99451734,
                        "remaining_time": 51.51232325,
                        "test": [
                          0.137366001
                        ]
                      },
                      {
                        "learn": [
                          0.1171623942
                        ],
                        "iteration": 368,
                        "passed_time": 30.04533908,
                        "remaining_time": 51.37834406,
                        "test": [
                          0.1373644382
                        ]
                      },
                      {
                        "learn": [
                          0.1171092269
                        ],
                        "iteration": 369,
                        "passed_time": 30.10661777,
                        "remaining_time": 51.26261944,
                        "test": [
                          0.1373625825
                        ]
                      },
                      {
                        "learn": [
                          0.1170999232
                        ],
                        "iteration": 370,
                        "passed_time": 30.15447672,
                        "remaining_time": 51.12443627,
                        "test": [
                          0.1373668901
                        ]
                      },
                      {
                        "learn": [
                          0.1170730917
                        ],
                        "iteration": 371,
                        "passed_time": 30.20813954,
                        "remaining_time": 50.99653663,
                        "test": [
                          0.1373770837
                        ]
                      },
                      {
                        "learn": [
                          0.1170583089
                        ],
                        "iteration": 372,
                        "passed_time": 30.25733757,
                        "remaining_time": 50.8615299,
                        "test": [
                          0.1373797396
                        ]
                      },
                      {
                        "learn": [
                          0.1170445088
                        ],
                        "iteration": 373,
                        "passed_time": 30.30657147,
                        "remaining_time": 50.72704209,
                        "test": [
                          0.1373827855
                        ]
                      },
                      {
                        "learn": [
                          0.1170299701
                        ],
                        "iteration": 374,
                        "passed_time": 30.35544936,
                        "remaining_time": 50.5924156,
                        "test": [
                          0.1373846961
                        ]
                      },
                      {
                        "learn": [
                          0.1169711602
                        ],
                        "iteration": 375,
                        "passed_time": 30.41273124,
                        "remaining_time": 50.47219227,
                        "test": [
                          0.1374002819
                        ]
                      },
                      {
                        "learn": [
                          0.1169307284
                        ],
                        "iteration": 376,
                        "passed_time": 30.47103371,
                        "remaining_time": 50.3539894,
                        "test": [
                          0.1373978752
                        ]
                      },
                      {
                        "learn": [
                          0.1168836072
                        ],
                        "iteration": 377,
                        "passed_time": 30.52904435,
                        "remaining_time": 50.23562325,
                        "test": [
                          0.1373983308
                        ]
                      },
                      {
                        "learn": [
                          0.1168745099
                        ],
                        "iteration": 378,
                        "passed_time": 30.57729404,
                        "remaining_time": 50.10158206,
                        "test": [
                          0.13740512
                        ]
                      },
                      {
                        "learn": [
                          0.1168684943
                        ],
                        "iteration": 379,
                        "passed_time": 30.64571608,
                        "remaining_time": 50.00090518,
                        "test": [
                          0.1374098231
                        ]
                      },
                      {
                        "learn": [
                          0.1168598614
                        ],
                        "iteration": 380,
                        "passed_time": 30.69839746,
                        "remaining_time": 49.87482421,
                        "test": [
                          0.1374193935
                        ]
                      },
                      {
                        "learn": [
                          0.116814468
                        ],
                        "iteration": 381,
                        "passed_time": 30.75378035,
                        "remaining_time": 49.75349805,
                        "test": [
                          0.1374174
                        ]
                      },
                      {
                        "learn": [
                          0.1167501173
                        ],
                        "iteration": 382,
                        "passed_time": 30.82346867,
                        "remaining_time": 49.6555618,
                        "test": [
                          0.1373719633
                        ]
                      },
                      {
                        "learn": [
                          0.1166966305
                        ],
                        "iteration": 383,
                        "passed_time": 30.87961568,
                        "remaining_time": 49.53605016,
                        "test": [
                          0.1374044272
                        ]
                      },
                      {
                        "learn": [
                          0.1166663343
                        ],
                        "iteration": 384,
                        "passed_time": 30.93697975,
                        "remaining_time": 49.4188118,
                        "test": [
                          0.1374056593
                        ]
                      },
                      {
                        "learn": [
                          0.1166585257
                        ],
                        "iteration": 385,
                        "passed_time": 30.98543983,
                        "remaining_time": 49.28772035,
                        "test": [
                          0.137408576
                        ]
                      },
                      {
                        "learn": [
                          0.1166384404
                        ],
                        "iteration": 386,
                        "passed_time": 31.03422749,
                        "remaining_time": 49.15757481,
                        "test": [
                          0.1374094229
                        ]
                      },
                      {
                        "learn": [
                          0.1166151972
                        ],
                        "iteration": 387,
                        "passed_time": 31.08357182,
                        "remaining_time": 49.02872669,
                        "test": [
                          0.137412482
                        ]
                      },
                      {
                        "learn": [
                          0.1165968051
                        ],
                        "iteration": 388,
                        "passed_time": 31.13173795,
                        "remaining_time": 48.89843673,
                        "test": [
                          0.1374117061
                        ]
                      },
                      {
                        "learn": [
                          0.1165633341
                        ],
                        "iteration": 389,
                        "passed_time": 31.18466263,
                        "remaining_time": 48.77601078,
                        "test": [
                          0.1374172549
                        ]
                      },
                      {
                        "learn": [
                          0.1164774987
                        ],
                        "iteration": 390,
                        "passed_time": 31.24526099,
                        "remaining_time": 48.66589243,
                        "test": [
                          0.1374180213
                        ]
                      },
                      {
                        "learn": [
                          0.1164651652
                        ],
                        "iteration": 391,
                        "passed_time": 31.29508207,
                        "remaining_time": 48.53931096,
                        "test": [
                          0.1374225367
                        ]
                      },
                      {
                        "learn": [
                          0.1164043343
                        ],
                        "iteration": 392,
                        "passed_time": 31.35821518,
                        "remaining_time": 48.43368096,
                        "test": [
                          0.1374382131
                        ]
                      },
                      {
                        "learn": [
                          0.1163884303
                        ],
                        "iteration": 393,
                        "passed_time": 31.40708253,
                        "remaining_time": 48.30632491,
                        "test": [
                          0.1374611889
                        ]
                      },
                      {
                        "learn": [
                          0.1163266413
                        ],
                        "iteration": 394,
                        "passed_time": 31.46781226,
                        "remaining_time": 48.19753524,
                        "test": [
                          0.1374675477
                        ]
                      },
                      {
                        "learn": [
                          0.1162897672
                        ],
                        "iteration": 395,
                        "passed_time": 31.52330568,
                        "remaining_time": 48.08100159,
                        "test": [
                          0.1374628162
                        ]
                      },
                      {
                        "learn": [
                          0.1162572349
                        ],
                        "iteration": 396,
                        "passed_time": 31.57284226,
                        "remaining_time": 47.95572767,
                        "test": [
                          0.1374727766
                        ]
                      },
                      {
                        "learn": [
                          0.116185549
                        ],
                        "iteration": 397,
                        "passed_time": 31.6504174,
                        "remaining_time": 47.87324441,
                        "test": [
                          0.137443658
                        ]
                      },
                      {
                        "learn": [
                          0.1161465583
                        ],
                        "iteration": 398,
                        "passed_time": 31.71714374,
                        "remaining_time": 47.77444458,
                        "test": [
                          0.1374542469
                        ]
                      },
                      {
                        "learn": [
                          0.116130438
                        ],
                        "iteration": 399,
                        "passed_time": 31.76647734,
                        "remaining_time": 47.64971602,
                        "test": [
                          0.1374610745
                        ]
                      },
                      {
                        "learn": [
                          0.1160657053
                        ],
                        "iteration": 400,
                        "passed_time": 31.84319374,
                        "remaining_time": 47.56626695,
                        "test": [
                          0.1374569417
                        ]
                      },
                      {
                        "learn": [
                          0.1160269107
                        ],
                        "iteration": 401,
                        "passed_time": 31.89341324,
                        "remaining_time": 47.44343561,
                        "test": [
                          0.1374509664
                        ]
                      },
                      {
                        "learn": [
                          0.1159634762
                        ],
                        "iteration": 402,
                        "passed_time": 31.94906596,
                        "remaining_time": 47.32901335,
                        "test": [
                          0.1374773825
                        ]
                      },
                      {
                        "learn": [
                          0.1159554858
                        ],
                        "iteration": 403,
                        "passed_time": 31.99795854,
                        "remaining_time": 47.20490913,
                        "test": [
                          0.1374853754
                        ]
                      },
                      {
                        "learn": [
                          0.1159057792
                        ],
                        "iteration": 404,
                        "passed_time": 32.05239947,
                        "remaining_time": 47.08932761,
                        "test": [
                          0.137484618
                        ]
                      },
                      {
                        "learn": [
                          0.1158539627
                        ],
                        "iteration": 405,
                        "passed_time": 32.1236156,
                        "remaining_time": 46.99859031,
                        "test": [
                          0.1374812179
                        ]
                      },
                      {
                        "learn": [
                          0.1158459819
                        ],
                        "iteration": 406,
                        "passed_time": 32.17218507,
                        "remaining_time": 46.8749527,
                        "test": [
                          0.1374891309
                        ]
                      },
                      {
                        "learn": [
                          0.1158129336
                        ],
                        "iteration": 407,
                        "passed_time": 32.23450841,
                        "remaining_time": 46.77163966,
                        "test": [
                          0.1374835471
                        ]
                      },
                      {
                        "learn": [
                          0.115766217
                        ],
                        "iteration": 408,
                        "passed_time": 32.28735712,
                        "remaining_time": 46.65483633,
                        "test": [
                          0.1375061043
                        ]
                      },
                      {
                        "learn": [
                          0.1157441247
                        ],
                        "iteration": 409,
                        "passed_time": 32.33857865,
                        "remaining_time": 46.53600343,
                        "test": [
                          0.1374832967
                        ]
                      },
                      {
                        "learn": [
                          0.1156720068
                        ],
                        "iteration": 410,
                        "passed_time": 32.39832939,
                        "remaining_time": 46.42972265,
                        "test": [
                          0.1375135521
                        ]
                      },
                      {
                        "learn": [
                          0.1156513812
                        ],
                        "iteration": 411,
                        "passed_time": 32.44944293,
                        "remaining_time": 46.31134088,
                        "test": [
                          0.1375204153
                        ]
                      },
                      {
                        "learn": [
                          0.1156168359
                        ],
                        "iteration": 412,
                        "passed_time": 32.5045836,
                        "remaining_time": 46.19900865,
                        "test": [
                          0.1375252226
                        ]
                      },
                      {
                        "learn": [
                          0.1156055143
                        ],
                        "iteration": 413,
                        "passed_time": 32.55691632,
                        "remaining_time": 46.08297817,
                        "test": [
                          0.1375336388
                        ]
                      },
                      {
                        "learn": [
                          0.1155784517
                        ],
                        "iteration": 414,
                        "passed_time": 32.61739423,
                        "remaining_time": 45.97873645,
                        "test": [
                          0.1375202022
                        ]
                      },
                      {
                        "learn": [
                          0.115501964
                        ],
                        "iteration": 415,
                        "passed_time": 32.73937364,
                        "remaining_time": 45.96104376,
                        "test": [
                          0.1375302807
                        ]
                      },
                      {
                        "learn": [
                          0.1154862985
                        ],
                        "iteration": 416,
                        "passed_time": 32.81853469,
                        "remaining_time": 45.88298735,
                        "test": [
                          0.1375323448
                        ]
                      },
                      {
                        "learn": [
                          0.1154580464
                        ],
                        "iteration": 417,
                        "passed_time": 32.9129923,
                        "remaining_time": 45.82622373,
                        "test": [
                          0.1375369637
                        ]
                      },
                      {
                        "learn": [
                          0.1154574905
                        ],
                        "iteration": 418,
                        "passed_time": 33.00244344,
                        "remaining_time": 45.76233805,
                        "test": [
                          0.1375370045
                        ]
                      },
                      {
                        "learn": [
                          0.1153627038
                        ],
                        "iteration": 419,
                        "passed_time": 33.1090491,
                        "remaining_time": 45.72202019,
                        "test": [
                          0.1375765789
                        ]
                      },
                      {
                        "learn": [
                          0.1153468755
                        ],
                        "iteration": 420,
                        "passed_time": 33.19705389,
                        "remaining_time": 45.65580571,
                        "test": [
                          0.137577987
                        ]
                      },
                      {
                        "learn": [
                          0.1152891943
                        ],
                        "iteration": 421,
                        "passed_time": 33.30690996,
                        "remaining_time": 45.61941696,
                        "test": [
                          0.1375485362
                        ]
                      },
                      {
                        "learn": [
                          0.1152659414
                        ],
                        "iteration": 422,
                        "passed_time": 33.39938052,
                        "remaining_time": 45.55896586,
                        "test": [
                          0.1375465869
                        ]
                      },
                      {
                        "learn": [
                          0.1152559942
                        ],
                        "iteration": 423,
                        "passed_time": 33.57176714,
                        "remaining_time": 45.60692895,
                        "test": [
                          0.1375451511
                        ]
                      },
                      {
                        "learn": [
                          0.1152284813
                        ],
                        "iteration": 424,
                        "passed_time": 33.80580904,
                        "remaining_time": 45.73727106,
                        "test": [
                          0.1375415584
                        ]
                      },
                      {
                        "learn": [
                          0.1151604387
                        ],
                        "iteration": 425,
                        "passed_time": 34.02559058,
                        "remaining_time": 45.84668778,
                        "test": [
                          0.1375426453
                        ]
                      },
                      {
                        "learn": [
                          0.1151313135
                        ],
                        "iteration": 426,
                        "passed_time": 34.27190389,
                        "remaining_time": 45.9901661,
                        "test": [
                          0.1375691873
                        ]
                      },
                      {
                        "learn": [
                          0.1151304364
                        ],
                        "iteration": 427,
                        "passed_time": 34.47605058,
                        "remaining_time": 46.07546947,
                        "test": [
                          0.1375692757
                        ]
                      },
                      {
                        "learn": [
                          0.1150929337
                        ],
                        "iteration": 428,
                        "passed_time": 34.68209321,
                        "remaining_time": 46.1619469,
                        "test": [
                          0.1375473816
                        ]
                      },
                      {
                        "learn": [
                          0.1150153113
                        ],
                        "iteration": 429,
                        "passed_time": 35.00059345,
                        "remaining_time": 46.3961355,
                        "test": [
                          0.1375956004
                        ]
                      },
                      {
                        "learn": [
                          0.1150138255
                        ],
                        "iteration": 430,
                        "passed_time": 35.13311111,
                        "remaining_time": 46.38222789,
                        "test": [
                          0.1375947481
                        ]
                      },
                      {
                        "learn": [
                          0.1149164398
                        ],
                        "iteration": 431,
                        "passed_time": 35.3323059,
                        "remaining_time": 46.45543923,
                        "test": [
                          0.1376077846
                        ]
                      },
                      {
                        "learn": [
                          0.1149042995
                        ],
                        "iteration": 432,
                        "passed_time": 35.5038115,
                        "remaining_time": 46.49113423,
                        "test": [
                          0.1376073756
                        ]
                      },
                      {
                        "learn": [
                          0.1148618602
                        ],
                        "iteration": 433,
                        "passed_time": 35.75001866,
                        "remaining_time": 46.62329623,
                        "test": [
                          0.1376214688
                        ]
                      },
                      {
                        "learn": [
                          0.1148334506
                        ],
                        "iteration": 434,
                        "passed_time": 35.92243694,
                        "remaining_time": 46.65787786,
                        "test": [
                          0.1376132204
                        ]
                      },
                      {
                        "learn": [
                          0.1147871291
                        ],
                        "iteration": 435,
                        "passed_time": 36.23102705,
                        "remaining_time": 46.86765885,
                        "test": [
                          0.1376442273
                        ]
                      },
                      {
                        "learn": [
                          0.1147807381
                        ],
                        "iteration": 436,
                        "passed_time": 36.48423351,
                        "remaining_time": 47.00371502,
                        "test": [
                          0.1376455875
                        ]
                      },
                      {
                        "learn": [
                          0.1147716498
                        ],
                        "iteration": 437,
                        "passed_time": 36.61551566,
                        "remaining_time": 46.98155206,
                        "test": [
                          0.1376488588
                        ]
                      },
                      {
                        "learn": [
                          0.114671909
                        ],
                        "iteration": 438,
                        "passed_time": 36.78014591,
                        "remaining_time": 47.00150765,
                        "test": [
                          0.1376818134
                        ]
                      },
                      {
                        "learn": [
                          0.1146188011
                        ],
                        "iteration": 439,
                        "passed_time": 36.95331391,
                        "remaining_time": 47.03149043,
                        "test": [
                          0.1376938793
                        ]
                      },
                      {
                        "learn": [
                          0.11458393
                        ],
                        "iteration": 440,
                        "passed_time": 37.15343145,
                        "remaining_time": 47.09471242,
                        "test": [
                          0.1376840993
                        ]
                      },
                      {
                        "learn": [
                          0.1144993774
                        ],
                        "iteration": 441,
                        "passed_time": 37.39057373,
                        "remaining_time": 47.20348449,
                        "test": [
                          0.1377210026
                        ]
                      },
                      {
                        "learn": [
                          0.1144302609
                        ],
                        "iteration": 442,
                        "passed_time": 37.5303092,
                        "remaining_time": 47.18822172,
                        "test": [
                          0.1377153833
                        ]
                      },
                      {
                        "learn": [
                          0.1143849695
                        ],
                        "iteration": 443,
                        "passed_time": 37.68511941,
                        "remaining_time": 47.19127566,
                        "test": [
                          0.1377292404
                        ]
                      },
                      {
                        "learn": [
                          0.114378585
                        ],
                        "iteration": 444,
                        "passed_time": 37.80147388,
                        "remaining_time": 47.14565843,
                        "test": [
                          0.1377342061
                        ]
                      },
                      {
                        "learn": [
                          0.1143128984
                        ],
                        "iteration": 445,
                        "passed_time": 37.9239983,
                        "remaining_time": 47.10738802,
                        "test": [
                          0.1377490572
                        ]
                      },
                      {
                        "learn": [
                          0.1142611759
                        ],
                        "iteration": 446,
                        "passed_time": 38.03920217,
                        "remaining_time": 47.05968412,
                        "test": [
                          0.1377758145
                        ]
                      },
                      {
                        "learn": [
                          0.1142250016
                        ],
                        "iteration": 447,
                        "passed_time": 38.23718523,
                        "remaining_time": 47.11367466,
                        "test": [
                          0.1378115308
                        ]
                      },
                      {
                        "learn": [
                          0.1142118874
                        ],
                        "iteration": 448,
                        "passed_time": 38.4214617,
                        "remaining_time": 47.14972249,
                        "test": [
                          0.1378113177
                        ]
                      },
                      {
                        "learn": [
                          0.1141593928
                        ],
                        "iteration": 449,
                        "passed_time": 38.51574374,
                        "remaining_time": 47.07479791,
                        "test": [
                          0.1378383623
                        ]
                      },
                      {
                        "learn": [
                          0.1141521403
                        ],
                        "iteration": 450,
                        "passed_time": 38.60730329,
                        "remaining_time": 46.9964734,
                        "test": [
                          0.1378364471
                        ]
                      },
                      {
                        "learn": [
                          0.1141509325
                        ],
                        "iteration": 451,
                        "passed_time": 38.69745739,
                        "remaining_time": 46.9163864,
                        "test": [
                          0.1378359642
                        ]
                      },
                      {
                        "learn": [
                          0.1140948347
                        ],
                        "iteration": 452,
                        "passed_time": 38.83818069,
                        "remaining_time": 46.89731752,
                        "test": [
                          0.1378584807
                        ]
                      },
                      {
                        "learn": [
                          0.1140276864
                        ],
                        "iteration": 453,
                        "passed_time": 38.95446064,
                        "remaining_time": 46.84831611,
                        "test": [
                          0.1378741557
                        ]
                      },
                      {
                        "learn": [
                          0.1139490677
                        ],
                        "iteration": 454,
                        "passed_time": 39.07640773,
                        "remaining_time": 46.80580707,
                        "test": [
                          0.1378757498
                        ]
                      },
                      {
                        "learn": [
                          0.1139485598
                        ],
                        "iteration": 455,
                        "passed_time": 39.20127232,
                        "remaining_time": 46.76643014,
                        "test": [
                          0.1378758142
                        ]
                      },
                      {
                        "learn": [
                          0.1138827268
                        ],
                        "iteration": 456,
                        "passed_time": 39.30493805,
                        "remaining_time": 46.70149095,
                        "test": [
                          0.1378610615
                        ]
                      },
                      {
                        "learn": [
                          0.113842644
                        ],
                        "iteration": 457,
                        "passed_time": 39.42591332,
                        "remaining_time": 46.65686686,
                        "test": [
                          0.1378951787
                        ]
                      },
                      {
                        "learn": [
                          0.1138348214
                        ],
                        "iteration": 458,
                        "passed_time": 39.56136832,
                        "remaining_time": 46.6289766,
                        "test": [
                          0.1379045856
                        ]
                      },
                      {
                        "learn": [
                          0.1138142438
                        ],
                        "iteration": 459,
                        "passed_time": 39.65863947,
                        "remaining_time": 46.55579417,
                        "test": [
                          0.1379182188
                        ]
                      },
                      {
                        "learn": [
                          0.1137490889
                        ],
                        "iteration": 460,
                        "passed_time": 39.75410405,
                        "remaining_time": 46.48039497,
                        "test": [
                          0.1379343279
                        ]
                      },
                      {
                        "learn": [
                          0.1137227908
                        ],
                        "iteration": 461,
                        "passed_time": 39.83810605,
                        "remaining_time": 46.39156072,
                        "test": [
                          0.1379555617
                        ]
                      },
                      {
                        "learn": [
                          0.1136600592
                        ],
                        "iteration": 462,
                        "passed_time": 39.94733353,
                        "remaining_time": 46.33200455,
                        "test": [
                          0.1379670463
                        ]
                      },
                      {
                        "learn": [
                          0.1135860943
                        ],
                        "iteration": 463,
                        "passed_time": 40.06912911,
                        "remaining_time": 46.28675259,
                        "test": [
                          0.137961635
                        ]
                      },
                      {
                        "learn": [
                          0.1135746578
                        ],
                        "iteration": 464,
                        "passed_time": 40.16682254,
                        "remaining_time": 46.21344099,
                        "test": [
                          0.1379560368
                        ]
                      },
                      {
                        "learn": [
                          0.1135644864
                        ],
                        "iteration": 465,
                        "passed_time": 40.33606656,
                        "remaining_time": 46.22201618,
                        "test": [
                          0.1379647685
                        ]
                      },
                      {
                        "learn": [
                          0.1135069945
                        ],
                        "iteration": 466,
                        "passed_time": 40.5499515,
                        "remaining_time": 46.28077976,
                        "test": [
                          0.1379348162
                        ]
                      },
                      {
                        "learn": [
                          0.1134771214
                        ],
                        "iteration": 467,
                        "passed_time": 40.67887486,
                        "remaining_time": 46.24179792,
                        "test": [
                          0.1379393148
                        ]
                      },
                      {
                        "learn": [
                          0.1134239267
                        ],
                        "iteration": 468,
                        "passed_time": 40.76496416,
                        "remaining_time": 46.15393596,
                        "test": [
                          0.1379531951
                        ]
                      },
                      {
                        "learn": [
                          0.1134233614
                        ],
                        "iteration": 469,
                        "passed_time": 40.88993997,
                        "remaining_time": 46.1099323,
                        "test": [
                          0.1379527562
                        ]
                      },
                      {
                        "learn": [
                          0.1133823707
                        ],
                        "iteration": 470,
                        "passed_time": 41.01418732,
                        "remaining_time": 46.06476665,
                        "test": [
                          0.1379509997
                        ]
                      },
                      {
                        "learn": [
                          0.113332214
                        ],
                        "iteration": 471,
                        "passed_time": 41.11965333,
                        "remaining_time": 45.99825627,
                        "test": [
                          0.1379588286
                        ]
                      },
                      {
                        "learn": [
                          0.1133093031
                        ],
                        "iteration": 472,
                        "passed_time": 41.23465048,
                        "remaining_time": 45.94220043,
                        "test": [
                          0.1379537177
                        ]
                      },
                      {
                        "learn": [
                          0.1132984215
                        ],
                        "iteration": 473,
                        "passed_time": 41.31306781,
                        "remaining_time": 45.8453031,
                        "test": [
                          0.1379561518
                        ]
                      },
                      {
                        "learn": [
                          0.113272537
                        ],
                        "iteration": 474,
                        "passed_time": 41.38709933,
                        "remaining_time": 45.7436361,
                        "test": [
                          0.1379634647
                        ]
                      },
                      {
                        "learn": [
                          0.1132475646
                        ],
                        "iteration": 475,
                        "passed_time": 41.53015404,
                        "remaining_time": 45.71806873,
                        "test": [
                          0.1379513755
                        ]
                      },
                      {
                        "learn": [
                          0.113246798
                        ],
                        "iteration": 476,
                        "passed_time": 41.60828695,
                        "remaining_time": 45.62082615,
                        "test": [
                          0.1379518387
                        ]
                      },
                      {
                        "learn": [
                          0.1132000126
                        ],
                        "iteration": 477,
                        "passed_time": 41.7314473,
                        "remaining_time": 45.57283575,
                        "test": [
                          0.1379459541
                        ]
                      },
                      {
                        "learn": [
                          0.1131180679
                        ],
                        "iteration": 478,
                        "passed_time": 41.82265759,
                        "remaining_time": 45.48977997,
                        "test": [
                          0.1379730675
                        ]
                      },
                      {
                        "learn": [
                          0.1130660562
                        ],
                        "iteration": 479,
                        "passed_time": 41.94514529,
                        "remaining_time": 45.44057407,
                        "test": [
                          0.1380006346
                        ]
                      },
                      {
                        "learn": [
                          0.1130508367
                        ],
                        "iteration": 480,
                        "passed_time": 42.03553767,
                        "remaining_time": 45.35643254,
                        "test": [
                          0.1380043691
                        ]
                      },
                      {
                        "learn": [
                          0.1130337288
                        ],
                        "iteration": 481,
                        "passed_time": 42.16111503,
                        "remaining_time": 45.31007797,
                        "test": [
                          0.138023595
                        ]
                      },
                      {
                        "learn": [
                          0.1129873176
                        ],
                        "iteration": 482,
                        "passed_time": 42.29492886,
                        "remaining_time": 45.27221164,
                        "test": [
                          0.1380390439
                        ]
                      },
                      {
                        "learn": [
                          0.1129412929
                        ],
                        "iteration": 483,
                        "passed_time": 42.45509509,
                        "remaining_time": 45.26204353,
                        "test": [
                          0.1380534537
                        ]
                      },
                      {
                        "learn": [
                          0.1128857759
                        ],
                        "iteration": 484,
                        "passed_time": 42.6594101,
                        "remaining_time": 45.2981365,
                        "test": [
                          0.1380627454
                        ]
                      }
                    ],
                    "meta": {
                      "test_sets": [
                        "test"
                      ],
                      "test_metrics": [
                        {
                          "best_value": "Min",
                          "name": "Logloss"
                        }
                      ],
                      "learn_metrics": [
                        {
                          "best_value": "Min",
                          "name": "Logloss"
                        }
                      ],
                      "launch_mode": "Train",
                      "parameters": "",
                      "iteration_count": 1000,
                      "learn_sets": [
                        "learn"
                      ],
                      "name": "experiment"
                    }
                  }
                }
              },
              "catboost_info/model-1": {
                "path": "catboost_info/model-1",
                "name": "model-1",
                "content": {
                  "passed_iterations": 0,
                  "total_iterations": 0,
                  "data": {
                    "iterations": [],
                    "meta": {}
                  }
                }
              },
              "catboost_info/model-2": {
                "path": "catboost_info/model-2",
                "name": "model-2",
                "content": {
                  "passed_iterations": 0,
                  "total_iterations": 0,
                  "data": {
                    "iterations": [],
                    "meta": {}
                  }
                }
              },
              "catboost_info/model-final": {
                "path": "catboost_info/model-final",
                "name": "model-final",
                "content": {
                  "passed_iterations": 0,
                  "total_iterations": 0,
                  "data": {
                    "iterations": [],
                    "meta": {}
                  }
                }
              }
            },
            "layout": "IPY_MODEL_128cf07f433b43b588b07de09c7064cd"
          }
        }
      }
    }
  },
  "cells": [
    {
      "cell_type": "code",
      "execution_count": 4,
      "metadata": {
        "colab": {
          "base_uri": "https://localhost:8080/"
        },
        "id": "dvXYD-xJEFLB",
        "outputId": "57f850c5-9a27-4952-8b6c-f2540bed7ba5"
      },
      "outputs": [
        {
          "output_type": "stream",
          "name": "stdout",
          "text": [
            "Reading package lists... Done\n",
            "Building dependency tree... Done\n",
            "Reading state information... Done\n",
            "unzip is already the newest version (6.0-26ubuntu3.1).\n",
            "0 upgraded, 0 newly installed, 0 to remove and 19 not upgraded.\n"
          ]
        }
      ],
      "source": [
        "!apt install unzip"
      ]
    },
    {
      "cell_type": "code",
      "source": [
        "!unzip santander-customer-satisfaction.zip"
      ],
      "metadata": {
        "colab": {
          "base_uri": "https://localhost:8080/"
        },
        "id": "nso_pbOGESL0",
        "outputId": "b980e36e-54d1-4d4c-89a8-8ea57c1e60ca"
      },
      "execution_count": 10,
      "outputs": [
        {
          "output_type": "stream",
          "name": "stdout",
          "text": [
            "Archive:  santander-customer-satisfaction.zip\n",
            "  inflating: sample_submission.csv   \n",
            "  inflating: test.csv                \n",
            "  inflating: train.csv               \n"
          ]
        }
      ]
    },
    {
      "cell_type": "code",
      "source": [
        "import pandas as pd"
      ],
      "metadata": {
        "id": "varTtJG7EX4T"
      },
      "execution_count": 11,
      "outputs": []
    },
    {
      "cell_type": "code",
      "source": [
        "from warnings import filterwarnings\n",
        "filterwarnings('ignore')"
      ],
      "metadata": {
        "id": "XFe-xD4CLcWv"
      },
      "execution_count": null,
      "outputs": []
    },
    {
      "cell_type": "code",
      "source": [
        "train_df = pd.read_csv(\"train.csv\")\n",
        "test_df = pd.read_csv(\"test.csv\")"
      ],
      "metadata": {
        "id": "6VOeKL_VEZ7k"
      },
      "execution_count": 12,
      "outputs": []
    },
    {
      "cell_type": "code",
      "source": [
        "train_df.head()"
      ],
      "metadata": {
        "colab": {
          "base_uri": "https://localhost:8080/",
          "height": 256
        },
        "id": "F07M48qtEbro",
        "outputId": "5181dd5d-5847-43f9-a341-92c1748a9ac9"
      },
      "execution_count": 13,
      "outputs": [
        {
          "output_type": "execute_result",
          "data": {
            "text/plain": [
              "   ID  var3  var15  imp_ent_var16_ult1  imp_op_var39_comer_ult1  \\\n",
              "0   1     2     23                 0.0                      0.0   \n",
              "1   3     2     34                 0.0                      0.0   \n",
              "2   4     2     23                 0.0                      0.0   \n",
              "3   8     2     37                 0.0                    195.0   \n",
              "4  10     2     39                 0.0                      0.0   \n",
              "\n",
              "   imp_op_var39_comer_ult3  imp_op_var40_comer_ult1  imp_op_var40_comer_ult3  \\\n",
              "0                      0.0                      0.0                      0.0   \n",
              "1                      0.0                      0.0                      0.0   \n",
              "2                      0.0                      0.0                      0.0   \n",
              "3                    195.0                      0.0                      0.0   \n",
              "4                      0.0                      0.0                      0.0   \n",
              "\n",
              "   imp_op_var40_efect_ult1  imp_op_var40_efect_ult3  ...  \\\n",
              "0                      0.0                      0.0  ...   \n",
              "1                      0.0                      0.0  ...   \n",
              "2                      0.0                      0.0  ...   \n",
              "3                      0.0                      0.0  ...   \n",
              "4                      0.0                      0.0  ...   \n",
              "\n",
              "   saldo_medio_var33_hace2  saldo_medio_var33_hace3  saldo_medio_var33_ult1  \\\n",
              "0                      0.0                      0.0                     0.0   \n",
              "1                      0.0                      0.0                     0.0   \n",
              "2                      0.0                      0.0                     0.0   \n",
              "3                      0.0                      0.0                     0.0   \n",
              "4                      0.0                      0.0                     0.0   \n",
              "\n",
              "   saldo_medio_var33_ult3  saldo_medio_var44_hace2  saldo_medio_var44_hace3  \\\n",
              "0                     0.0                      0.0                      0.0   \n",
              "1                     0.0                      0.0                      0.0   \n",
              "2                     0.0                      0.0                      0.0   \n",
              "3                     0.0                      0.0                      0.0   \n",
              "4                     0.0                      0.0                      0.0   \n",
              "\n",
              "   saldo_medio_var44_ult1  saldo_medio_var44_ult3          var38  TARGET  \n",
              "0                     0.0                     0.0   39205.170000       0  \n",
              "1                     0.0                     0.0   49278.030000       0  \n",
              "2                     0.0                     0.0   67333.770000       0  \n",
              "3                     0.0                     0.0   64007.970000       0  \n",
              "4                     0.0                     0.0  117310.979016       0  \n",
              "\n",
              "[5 rows x 371 columns]"
            ],
            "text/html": [
              "\n",
              "  <div id=\"df-e8584e50-5c8e-47e5-9bd9-15afbbcc5335\" class=\"colab-df-container\">\n",
              "    <div>\n",
              "<style scoped>\n",
              "    .dataframe tbody tr th:only-of-type {\n",
              "        vertical-align: middle;\n",
              "    }\n",
              "\n",
              "    .dataframe tbody tr th {\n",
              "        vertical-align: top;\n",
              "    }\n",
              "\n",
              "    .dataframe thead th {\n",
              "        text-align: right;\n",
              "    }\n",
              "</style>\n",
              "<table border=\"1\" class=\"dataframe\">\n",
              "  <thead>\n",
              "    <tr style=\"text-align: right;\">\n",
              "      <th></th>\n",
              "      <th>ID</th>\n",
              "      <th>var3</th>\n",
              "      <th>var15</th>\n",
              "      <th>imp_ent_var16_ult1</th>\n",
              "      <th>imp_op_var39_comer_ult1</th>\n",
              "      <th>imp_op_var39_comer_ult3</th>\n",
              "      <th>imp_op_var40_comer_ult1</th>\n",
              "      <th>imp_op_var40_comer_ult3</th>\n",
              "      <th>imp_op_var40_efect_ult1</th>\n",
              "      <th>imp_op_var40_efect_ult3</th>\n",
              "      <th>...</th>\n",
              "      <th>saldo_medio_var33_hace2</th>\n",
              "      <th>saldo_medio_var33_hace3</th>\n",
              "      <th>saldo_medio_var33_ult1</th>\n",
              "      <th>saldo_medio_var33_ult3</th>\n",
              "      <th>saldo_medio_var44_hace2</th>\n",
              "      <th>saldo_medio_var44_hace3</th>\n",
              "      <th>saldo_medio_var44_ult1</th>\n",
              "      <th>saldo_medio_var44_ult3</th>\n",
              "      <th>var38</th>\n",
              "      <th>TARGET</th>\n",
              "    </tr>\n",
              "  </thead>\n",
              "  <tbody>\n",
              "    <tr>\n",
              "      <th>0</th>\n",
              "      <td>1</td>\n",
              "      <td>2</td>\n",
              "      <td>23</td>\n",
              "      <td>0.0</td>\n",
              "      <td>0.0</td>\n",
              "      <td>0.0</td>\n",
              "      <td>0.0</td>\n",
              "      <td>0.0</td>\n",
              "      <td>0.0</td>\n",
              "      <td>0.0</td>\n",
              "      <td>...</td>\n",
              "      <td>0.0</td>\n",
              "      <td>0.0</td>\n",
              "      <td>0.0</td>\n",
              "      <td>0.0</td>\n",
              "      <td>0.0</td>\n",
              "      <td>0.0</td>\n",
              "      <td>0.0</td>\n",
              "      <td>0.0</td>\n",
              "      <td>39205.170000</td>\n",
              "      <td>0</td>\n",
              "    </tr>\n",
              "    <tr>\n",
              "      <th>1</th>\n",
              "      <td>3</td>\n",
              "      <td>2</td>\n",
              "      <td>34</td>\n",
              "      <td>0.0</td>\n",
              "      <td>0.0</td>\n",
              "      <td>0.0</td>\n",
              "      <td>0.0</td>\n",
              "      <td>0.0</td>\n",
              "      <td>0.0</td>\n",
              "      <td>0.0</td>\n",
              "      <td>...</td>\n",
              "      <td>0.0</td>\n",
              "      <td>0.0</td>\n",
              "      <td>0.0</td>\n",
              "      <td>0.0</td>\n",
              "      <td>0.0</td>\n",
              "      <td>0.0</td>\n",
              "      <td>0.0</td>\n",
              "      <td>0.0</td>\n",
              "      <td>49278.030000</td>\n",
              "      <td>0</td>\n",
              "    </tr>\n",
              "    <tr>\n",
              "      <th>2</th>\n",
              "      <td>4</td>\n",
              "      <td>2</td>\n",
              "      <td>23</td>\n",
              "      <td>0.0</td>\n",
              "      <td>0.0</td>\n",
              "      <td>0.0</td>\n",
              "      <td>0.0</td>\n",
              "      <td>0.0</td>\n",
              "      <td>0.0</td>\n",
              "      <td>0.0</td>\n",
              "      <td>...</td>\n",
              "      <td>0.0</td>\n",
              "      <td>0.0</td>\n",
              "      <td>0.0</td>\n",
              "      <td>0.0</td>\n",
              "      <td>0.0</td>\n",
              "      <td>0.0</td>\n",
              "      <td>0.0</td>\n",
              "      <td>0.0</td>\n",
              "      <td>67333.770000</td>\n",
              "      <td>0</td>\n",
              "    </tr>\n",
              "    <tr>\n",
              "      <th>3</th>\n",
              "      <td>8</td>\n",
              "      <td>2</td>\n",
              "      <td>37</td>\n",
              "      <td>0.0</td>\n",
              "      <td>195.0</td>\n",
              "      <td>195.0</td>\n",
              "      <td>0.0</td>\n",
              "      <td>0.0</td>\n",
              "      <td>0.0</td>\n",
              "      <td>0.0</td>\n",
              "      <td>...</td>\n",
              "      <td>0.0</td>\n",
              "      <td>0.0</td>\n",
              "      <td>0.0</td>\n",
              "      <td>0.0</td>\n",
              "      <td>0.0</td>\n",
              "      <td>0.0</td>\n",
              "      <td>0.0</td>\n",
              "      <td>0.0</td>\n",
              "      <td>64007.970000</td>\n",
              "      <td>0</td>\n",
              "    </tr>\n",
              "    <tr>\n",
              "      <th>4</th>\n",
              "      <td>10</td>\n",
              "      <td>2</td>\n",
              "      <td>39</td>\n",
              "      <td>0.0</td>\n",
              "      <td>0.0</td>\n",
              "      <td>0.0</td>\n",
              "      <td>0.0</td>\n",
              "      <td>0.0</td>\n",
              "      <td>0.0</td>\n",
              "      <td>0.0</td>\n",
              "      <td>...</td>\n",
              "      <td>0.0</td>\n",
              "      <td>0.0</td>\n",
              "      <td>0.0</td>\n",
              "      <td>0.0</td>\n",
              "      <td>0.0</td>\n",
              "      <td>0.0</td>\n",
              "      <td>0.0</td>\n",
              "      <td>0.0</td>\n",
              "      <td>117310.979016</td>\n",
              "      <td>0</td>\n",
              "    </tr>\n",
              "  </tbody>\n",
              "</table>\n",
              "<p>5 rows × 371 columns</p>\n",
              "</div>\n",
              "    <div class=\"colab-df-buttons\">\n",
              "\n",
              "  <div class=\"colab-df-container\">\n",
              "    <button class=\"colab-df-convert\" onclick=\"convertToInteractive('df-e8584e50-5c8e-47e5-9bd9-15afbbcc5335')\"\n",
              "            title=\"Convert this dataframe to an interactive table.\"\n",
              "            style=\"display:none;\">\n",
              "\n",
              "  <svg xmlns=\"http://www.w3.org/2000/svg\" height=\"24px\" viewBox=\"0 -960 960 960\">\n",
              "    <path d=\"M120-120v-720h720v720H120Zm60-500h600v-160H180v160Zm220 220h160v-160H400v160Zm0 220h160v-160H400v160ZM180-400h160v-160H180v160Zm440 0h160v-160H620v160ZM180-180h160v-160H180v160Zm440 0h160v-160H620v160Z\"/>\n",
              "  </svg>\n",
              "    </button>\n",
              "\n",
              "  <style>\n",
              "    .colab-df-container {\n",
              "      display:flex;\n",
              "      gap: 12px;\n",
              "    }\n",
              "\n",
              "    .colab-df-convert {\n",
              "      background-color: #E8F0FE;\n",
              "      border: none;\n",
              "      border-radius: 50%;\n",
              "      cursor: pointer;\n",
              "      display: none;\n",
              "      fill: #1967D2;\n",
              "      height: 32px;\n",
              "      padding: 0 0 0 0;\n",
              "      width: 32px;\n",
              "    }\n",
              "\n",
              "    .colab-df-convert:hover {\n",
              "      background-color: #E2EBFA;\n",
              "      box-shadow: 0px 1px 2px rgba(60, 64, 67, 0.3), 0px 1px 3px 1px rgba(60, 64, 67, 0.15);\n",
              "      fill: #174EA6;\n",
              "    }\n",
              "\n",
              "    .colab-df-buttons div {\n",
              "      margin-bottom: 4px;\n",
              "    }\n",
              "\n",
              "    [theme=dark] .colab-df-convert {\n",
              "      background-color: #3B4455;\n",
              "      fill: #D2E3FC;\n",
              "    }\n",
              "\n",
              "    [theme=dark] .colab-df-convert:hover {\n",
              "      background-color: #434B5C;\n",
              "      box-shadow: 0px 1px 3px 1px rgba(0, 0, 0, 0.15);\n",
              "      filter: drop-shadow(0px 1px 2px rgba(0, 0, 0, 0.3));\n",
              "      fill: #FFFFFF;\n",
              "    }\n",
              "  </style>\n",
              "\n",
              "    <script>\n",
              "      const buttonEl =\n",
              "        document.querySelector('#df-e8584e50-5c8e-47e5-9bd9-15afbbcc5335 button.colab-df-convert');\n",
              "      buttonEl.style.display =\n",
              "        google.colab.kernel.accessAllowed ? 'block' : 'none';\n",
              "\n",
              "      async function convertToInteractive(key) {\n",
              "        const element = document.querySelector('#df-e8584e50-5c8e-47e5-9bd9-15afbbcc5335');\n",
              "        const dataTable =\n",
              "          await google.colab.kernel.invokeFunction('convertToInteractive',\n",
              "                                                    [key], {});\n",
              "        if (!dataTable) return;\n",
              "\n",
              "        const docLinkHtml = 'Like what you see? Visit the ' +\n",
              "          '<a target=\"_blank\" href=https://colab.research.google.com/notebooks/data_table.ipynb>data table notebook</a>'\n",
              "          + ' to learn more about interactive tables.';\n",
              "        element.innerHTML = '';\n",
              "        dataTable['output_type'] = 'display_data';\n",
              "        await google.colab.output.renderOutput(dataTable, element);\n",
              "        const docLink = document.createElement('div');\n",
              "        docLink.innerHTML = docLinkHtml;\n",
              "        element.appendChild(docLink);\n",
              "      }\n",
              "    </script>\n",
              "  </div>\n",
              "\n",
              "\n",
              "<div id=\"df-cc29419f-8fae-40fa-85a8-0496db90c6b6\">\n",
              "  <button class=\"colab-df-quickchart\" onclick=\"quickchart('df-cc29419f-8fae-40fa-85a8-0496db90c6b6')\"\n",
              "            title=\"Suggest charts\"\n",
              "            style=\"display:none;\">\n",
              "\n",
              "<svg xmlns=\"http://www.w3.org/2000/svg\" height=\"24px\"viewBox=\"0 0 24 24\"\n",
              "     width=\"24px\">\n",
              "    <g>\n",
              "        <path d=\"M19 3H5c-1.1 0-2 .9-2 2v14c0 1.1.9 2 2 2h14c1.1 0 2-.9 2-2V5c0-1.1-.9-2-2-2zM9 17H7v-7h2v7zm4 0h-2V7h2v10zm4 0h-2v-4h2v4z\"/>\n",
              "    </g>\n",
              "</svg>\n",
              "  </button>\n",
              "\n",
              "<style>\n",
              "  .colab-df-quickchart {\n",
              "      --bg-color: #E8F0FE;\n",
              "      --fill-color: #1967D2;\n",
              "      --hover-bg-color: #E2EBFA;\n",
              "      --hover-fill-color: #174EA6;\n",
              "      --disabled-fill-color: #AAA;\n",
              "      --disabled-bg-color: #DDD;\n",
              "  }\n",
              "\n",
              "  [theme=dark] .colab-df-quickchart {\n",
              "      --bg-color: #3B4455;\n",
              "      --fill-color: #D2E3FC;\n",
              "      --hover-bg-color: #434B5C;\n",
              "      --hover-fill-color: #FFFFFF;\n",
              "      --disabled-bg-color: #3B4455;\n",
              "      --disabled-fill-color: #666;\n",
              "  }\n",
              "\n",
              "  .colab-df-quickchart {\n",
              "    background-color: var(--bg-color);\n",
              "    border: none;\n",
              "    border-radius: 50%;\n",
              "    cursor: pointer;\n",
              "    display: none;\n",
              "    fill: var(--fill-color);\n",
              "    height: 32px;\n",
              "    padding: 0;\n",
              "    width: 32px;\n",
              "  }\n",
              "\n",
              "  .colab-df-quickchart:hover {\n",
              "    background-color: var(--hover-bg-color);\n",
              "    box-shadow: 0 1px 2px rgba(60, 64, 67, 0.3), 0 1px 3px 1px rgba(60, 64, 67, 0.15);\n",
              "    fill: var(--button-hover-fill-color);\n",
              "  }\n",
              "\n",
              "  .colab-df-quickchart-complete:disabled,\n",
              "  .colab-df-quickchart-complete:disabled:hover {\n",
              "    background-color: var(--disabled-bg-color);\n",
              "    fill: var(--disabled-fill-color);\n",
              "    box-shadow: none;\n",
              "  }\n",
              "\n",
              "  .colab-df-spinner {\n",
              "    border: 2px solid var(--fill-color);\n",
              "    border-color: transparent;\n",
              "    border-bottom-color: var(--fill-color);\n",
              "    animation:\n",
              "      spin 1s steps(1) infinite;\n",
              "  }\n",
              "\n",
              "  @keyframes spin {\n",
              "    0% {\n",
              "      border-color: transparent;\n",
              "      border-bottom-color: var(--fill-color);\n",
              "      border-left-color: var(--fill-color);\n",
              "    }\n",
              "    20% {\n",
              "      border-color: transparent;\n",
              "      border-left-color: var(--fill-color);\n",
              "      border-top-color: var(--fill-color);\n",
              "    }\n",
              "    30% {\n",
              "      border-color: transparent;\n",
              "      border-left-color: var(--fill-color);\n",
              "      border-top-color: var(--fill-color);\n",
              "      border-right-color: var(--fill-color);\n",
              "    }\n",
              "    40% {\n",
              "      border-color: transparent;\n",
              "      border-right-color: var(--fill-color);\n",
              "      border-top-color: var(--fill-color);\n",
              "    }\n",
              "    60% {\n",
              "      border-color: transparent;\n",
              "      border-right-color: var(--fill-color);\n",
              "    }\n",
              "    80% {\n",
              "      border-color: transparent;\n",
              "      border-right-color: var(--fill-color);\n",
              "      border-bottom-color: var(--fill-color);\n",
              "    }\n",
              "    90% {\n",
              "      border-color: transparent;\n",
              "      border-bottom-color: var(--fill-color);\n",
              "    }\n",
              "  }\n",
              "</style>\n",
              "\n",
              "  <script>\n",
              "    async function quickchart(key) {\n",
              "      const quickchartButtonEl =\n",
              "        document.querySelector('#' + key + ' button');\n",
              "      quickchartButtonEl.disabled = true;  // To prevent multiple clicks.\n",
              "      quickchartButtonEl.classList.add('colab-df-spinner');\n",
              "      try {\n",
              "        const charts = await google.colab.kernel.invokeFunction(\n",
              "            'suggestCharts', [key], {});\n",
              "      } catch (error) {\n",
              "        console.error('Error during call to suggestCharts:', error);\n",
              "      }\n",
              "      quickchartButtonEl.classList.remove('colab-df-spinner');\n",
              "      quickchartButtonEl.classList.add('colab-df-quickchart-complete');\n",
              "    }\n",
              "    (() => {\n",
              "      let quickchartButtonEl =\n",
              "        document.querySelector('#df-cc29419f-8fae-40fa-85a8-0496db90c6b6 button');\n",
              "      quickchartButtonEl.style.display =\n",
              "        google.colab.kernel.accessAllowed ? 'block' : 'none';\n",
              "    })();\n",
              "  </script>\n",
              "</div>\n",
              "    </div>\n",
              "  </div>\n"
            ]
          },
          "metadata": {},
          "execution_count": 13
        }
      ]
    },
    {
      "cell_type": "code",
      "source": [
        "from sklearn.model_selection import train_test_split\n",
        "from sklearn.preprocessing import StandardScaler, RobustScaler, LabelEncoder, OneHotEncoder, MinMaxScaler\n",
        "\n",
        "\n",
        "X_train, X_test, y_train, y_test = train_test_split(train_df.drop('TARGET', axis = 1),\n",
        "                                                    train_df['TARGET'], test_size=0.33, random_state=42)\n",
        "features_list = X_train.columns"
      ],
      "metadata": {
        "id": "r_A7pzXdE2lQ"
      },
      "execution_count": 14,
      "outputs": []
    },
    {
      "cell_type": "markdown",
      "source": [
        "## Строим и оцениваем простейшую линейную модель  "
      ],
      "metadata": {
        "id": "WEFVqNopErB3"
      }
    },
    {
      "cell_type": "code",
      "source": [
        "from sklearn.linear_model import LogisticRegression, Ridge\n",
        "from sklearn.metrics import accuracy_score, precision_score, recall_score, roc_auc_score\n",
        "from math import sqrt"
      ],
      "metadata": {
        "id": "6LU6CmwNJ0hS"
      },
      "execution_count": 15,
      "outputs": []
    },
    {
      "cell_type": "code",
      "source": [
        "scaler = StandardScaler()\n",
        "X_train_scaled = scaler.fit_transform(X_train)\n",
        "X_test_scaled = scaler.transform(X_test)"
      ],
      "metadata": {
        "id": "-CzDjwYzElMb"
      },
      "execution_count": 16,
      "outputs": []
    },
    {
      "cell_type": "code",
      "source": [
        "X_train_scaled = pd.DataFrame(data = X_train_scaled, columns = features_list)\n",
        "X_test_scaled = pd.DataFrame(data = X_test_scaled, columns = features_list)"
      ],
      "metadata": {
        "id": "V6Aoone6RDWG"
      },
      "execution_count": 17,
      "outputs": []
    },
    {
      "cell_type": "code",
      "source": [
        "model = LogisticRegression(solver='lbfgs', max_iter=1000)\n",
        "model.fit(X_train_scaled, y_train)"
      ],
      "metadata": {
        "colab": {
          "base_uri": "https://localhost:8080/",
          "height": 75
        },
        "id": "f3t2qouVEzJV",
        "outputId": "4231fa12-5355-4ede-c5bb-76313db1d12c"
      },
      "execution_count": 18,
      "outputs": [
        {
          "output_type": "execute_result",
          "data": {
            "text/plain": [
              "LogisticRegression(max_iter=1000)"
            ],
            "text/html": [
              "<style>#sk-container-id-1 {color: black;background-color: white;}#sk-container-id-1 pre{padding: 0;}#sk-container-id-1 div.sk-toggleable {background-color: white;}#sk-container-id-1 label.sk-toggleable__label {cursor: pointer;display: block;width: 100%;margin-bottom: 0;padding: 0.3em;box-sizing: border-box;text-align: center;}#sk-container-id-1 label.sk-toggleable__label-arrow:before {content: \"▸\";float: left;margin-right: 0.25em;color: #696969;}#sk-container-id-1 label.sk-toggleable__label-arrow:hover:before {color: black;}#sk-container-id-1 div.sk-estimator:hover label.sk-toggleable__label-arrow:before {color: black;}#sk-container-id-1 div.sk-toggleable__content {max-height: 0;max-width: 0;overflow: hidden;text-align: left;background-color: #f0f8ff;}#sk-container-id-1 div.sk-toggleable__content pre {margin: 0.2em;color: black;border-radius: 0.25em;background-color: #f0f8ff;}#sk-container-id-1 input.sk-toggleable__control:checked~div.sk-toggleable__content {max-height: 200px;max-width: 100%;overflow: auto;}#sk-container-id-1 input.sk-toggleable__control:checked~label.sk-toggleable__label-arrow:before {content: \"▾\";}#sk-container-id-1 div.sk-estimator input.sk-toggleable__control:checked~label.sk-toggleable__label {background-color: #d4ebff;}#sk-container-id-1 div.sk-label input.sk-toggleable__control:checked~label.sk-toggleable__label {background-color: #d4ebff;}#sk-container-id-1 input.sk-hidden--visually {border: 0;clip: rect(1px 1px 1px 1px);clip: rect(1px, 1px, 1px, 1px);height: 1px;margin: -1px;overflow: hidden;padding: 0;position: absolute;width: 1px;}#sk-container-id-1 div.sk-estimator {font-family: monospace;background-color: #f0f8ff;border: 1px dotted black;border-radius: 0.25em;box-sizing: border-box;margin-bottom: 0.5em;}#sk-container-id-1 div.sk-estimator:hover {background-color: #d4ebff;}#sk-container-id-1 div.sk-parallel-item::after {content: \"\";width: 100%;border-bottom: 1px solid gray;flex-grow: 1;}#sk-container-id-1 div.sk-label:hover label.sk-toggleable__label {background-color: #d4ebff;}#sk-container-id-1 div.sk-serial::before {content: \"\";position: absolute;border-left: 1px solid gray;box-sizing: border-box;top: 0;bottom: 0;left: 50%;z-index: 0;}#sk-container-id-1 div.sk-serial {display: flex;flex-direction: column;align-items: center;background-color: white;padding-right: 0.2em;padding-left: 0.2em;position: relative;}#sk-container-id-1 div.sk-item {position: relative;z-index: 1;}#sk-container-id-1 div.sk-parallel {display: flex;align-items: stretch;justify-content: center;background-color: white;position: relative;}#sk-container-id-1 div.sk-item::before, #sk-container-id-1 div.sk-parallel-item::before {content: \"\";position: absolute;border-left: 1px solid gray;box-sizing: border-box;top: 0;bottom: 0;left: 50%;z-index: -1;}#sk-container-id-1 div.sk-parallel-item {display: flex;flex-direction: column;z-index: 1;position: relative;background-color: white;}#sk-container-id-1 div.sk-parallel-item:first-child::after {align-self: flex-end;width: 50%;}#sk-container-id-1 div.sk-parallel-item:last-child::after {align-self: flex-start;width: 50%;}#sk-container-id-1 div.sk-parallel-item:only-child::after {width: 0;}#sk-container-id-1 div.sk-dashed-wrapped {border: 1px dashed gray;margin: 0 0.4em 0.5em 0.4em;box-sizing: border-box;padding-bottom: 0.4em;background-color: white;}#sk-container-id-1 div.sk-label label {font-family: monospace;font-weight: bold;display: inline-block;line-height: 1.2em;}#sk-container-id-1 div.sk-label-container {text-align: center;}#sk-container-id-1 div.sk-container {/* jupyter's `normalize.less` sets `[hidden] { display: none; }` but bootstrap.min.css set `[hidden] { display: none !important; }` so we also need the `!important` here to be able to override the default hidden behavior on the sphinx rendered scikit-learn.org. See: https://github.com/scikit-learn/scikit-learn/issues/21755 */display: inline-block !important;position: relative;}#sk-container-id-1 div.sk-text-repr-fallback {display: none;}</style><div id=\"sk-container-id-1\" class=\"sk-top-container\"><div class=\"sk-text-repr-fallback\"><pre>LogisticRegression(max_iter=1000)</pre><b>In a Jupyter environment, please rerun this cell to show the HTML representation or trust the notebook. <br />On GitHub, the HTML representation is unable to render, please try loading this page with nbviewer.org.</b></div><div class=\"sk-container\" hidden><div class=\"sk-item\"><div class=\"sk-estimator sk-toggleable\"><input class=\"sk-toggleable__control sk-hidden--visually\" id=\"sk-estimator-id-1\" type=\"checkbox\" checked><label for=\"sk-estimator-id-1\" class=\"sk-toggleable__label sk-toggleable__label-arrow\">LogisticRegression</label><div class=\"sk-toggleable__content\"><pre>LogisticRegression(max_iter=1000)</pre></div></div></div></div></div>"
            ]
          },
          "metadata": {},
          "execution_count": 18
        }
      ]
    },
    {
      "cell_type": "code",
      "source": [
        "def print_classification_metrics(y_test, preds_test, preds_test_proba):\n",
        "  print(f'ROC-AUC: {round(roc_auc_score(y_test, preds_test_proba), 2)}')\n",
        "  print(f'Accuracy: {round(accuracy_score(y_test, preds_test), 2)}')\n",
        "  print(f'Precision: {round(precision_score(y_test, preds_test), 2)}')\n",
        "  print(f'Recall: {round(recall_score(y_test, preds_test), 3)}')"
      ],
      "metadata": {
        "id": "MzxmP5-UK6rk"
      },
      "execution_count": 19,
      "outputs": []
    },
    {
      "cell_type": "code",
      "source": [
        "preds_test = model.predict(X_test_scaled)\n",
        "preds_test_proba = model.predict_proba(X_test_scaled)[:, 1]\n",
        "\n",
        "print_classification_metrics(y_test, preds_test, preds_test_proba)"
      ],
      "metadata": {
        "colab": {
          "base_uri": "https://localhost:8080/"
        },
        "id": "9qtHSKTeGctt",
        "outputId": "981852a6-31f3-4ef5-98a4-75a028094f62"
      },
      "execution_count": 20,
      "outputs": [
        {
          "output_type": "stream",
          "name": "stdout",
          "text": [
            "ROC-AUC: 0.78\n",
            "Accuracy: 0.96\n",
            "Precision: 0.12\n",
            "Recall: 0.003\n"
          ]
        }
      ]
    },
    {
      "cell_type": "code",
      "source": [
        "import matplotlib.pyplot as plt\n",
        "import numpy as np"
      ],
      "metadata": {
        "id": "WKGOv79rG2Fe"
      },
      "execution_count": 21,
      "outputs": []
    },
    {
      "cell_type": "code",
      "source": [
        "len(features_list)"
      ],
      "metadata": {
        "colab": {
          "base_uri": "https://localhost:8080/"
        },
        "id": "AcYQfdWuIiV0",
        "outputId": "87370e39-bfe7-47e4-d658-0bc2202d12f8"
      },
      "execution_count": 22,
      "outputs": [
        {
          "output_type": "execute_result",
          "data": {
            "text/plain": [
              "370"
            ]
          },
          "metadata": {},
          "execution_count": 22
        }
      ]
    },
    {
      "cell_type": "code",
      "source": [
        "pd.Series(model.coef_[0,:], index=features_list).plot(kind='hist', bins = 50);"
      ],
      "metadata": {
        "colab": {
          "base_uri": "https://localhost:8080/",
          "height": 430
        },
        "id": "GnvkUsyhI_XI",
        "outputId": "e1f7a81e-3a1d-43f8-d583-0e4f511055db"
      },
      "execution_count": 23,
      "outputs": [
        {
          "output_type": "display_data",
          "data": {
            "text/plain": [
              "<Figure size 640x480 with 1 Axes>"
            ],
            "image/png": "[encoded data removed]"
          },
          "metadata": {}
        }
      ]
    },
    {
      "cell_type": "markdown",
      "source": [
        "Имеем 370 признаков, из которых большинство около-нулевые.\n",
        "Явно стоит провести отбор.\n",
        "\n",
        "В лекциях говорилось о модуле Feature Selection, давайте поисседуем его:"
      ],
      "metadata": {
        "id": "QHVLCXg9JoeJ"
      }
    },
    {
      "cell_type": "markdown",
      "source": [
        "### 1. Фильтры"
      ],
      "metadata": {
        "id": "eYo7ulBtHx6i"
      }
    },
    {
      "cell_type": "code",
      "source": [
        "from sklearn.feature_selection import GenericUnivariateSelect, SelectPercentile, SelectKBest"
      ],
      "metadata": {
        "id": "NE6sVPFzJ5sZ"
      },
      "execution_count": 24,
      "outputs": []
    },
    {
      "cell_type": "code",
      "source": [
        "# Признаки с нулевой дисперсией (все значения одинаковые)\n",
        "\n",
        "from sklearn.feature_selection import VarianceThreshold\n",
        "\n",
        "sel = VarianceThreshold(threshold=0)\n",
        "sel.fit(X_train)\n",
        "\n",
        "# Вытащить отобранные признаки:\n",
        "non_zero_selected_features = sel.get_feature_names_out()\n",
        "len(non_zero_selected_features)"
      ],
      "metadata": {
        "colab": {
          "base_uri": "https://localhost:8080/"
        },
        "id": "IU2Ch4MiNQqB",
        "outputId": "3ad33965-e921-4878-fd90-e2f5760ff54c"
      },
      "execution_count": 25,
      "outputs": [
        {
          "output_type": "execute_result",
          "data": {
            "text/plain": [
              "315"
            ]
          },
          "metadata": {},
          "execution_count": 25
        }
      ]
    },
    {
      "cell_type": "code",
      "source": [
        "model = LogisticRegression(solver='lbfgs', max_iter=1000)\n",
        "model.fit(X_train_scaled[non_zero_selected_features], y_train)\n",
        "\n",
        "preds_test = model.predict(X_test_scaled[non_zero_selected_features])\n",
        "preds_test_proba = model.predict_proba(X_test_scaled[non_zero_selected_features])[:, 1]\n",
        "\n",
        "print_classification_metrics(y_test, preds_test, preds_test_proba)"
      ],
      "metadata": {
        "colab": {
          "base_uri": "https://localhost:8080/"
        },
        "id": "5UFUKBHnQzng",
        "outputId": "b8bac07e-f323-42cc-8dd4-6c0fad62001d"
      },
      "execution_count": 26,
      "outputs": [
        {
          "output_type": "stream",
          "name": "stdout",
          "text": [
            "ROC-AUC: 0.78\n",
            "Accuracy: 0.96\n",
            "Precision: 0.12\n",
            "Recall: 0.003\n"
          ]
        }
      ]
    },
    {
      "cell_type": "code",
      "source": [
        "X_train_scaled = X_train_scaled[non_zero_selected_features]\n",
        "X_test_scaled = X_test_scaled[non_zero_selected_features]"
      ],
      "metadata": {
        "id": "aITHI7okEycS"
      },
      "execution_count": 27,
      "outputs": []
    },
    {
      "cell_type": "code",
      "source": [
        "from sklearn.feature_selection import SelectKBest\n",
        "sel = SelectKBest(k = 10)\n",
        "sel.fit(X_train[non_zero_selected_features], y_train)\n",
        "\n",
        "selected_features = sel.get_feature_names_out()\n",
        "\n",
        "model = LogisticRegression(solver='lbfgs', max_iter=1000)\n",
        "model.fit(X_train_scaled[selected_features], y_train)\n",
        "\n",
        "preds_test = model.predict(X_test_scaled[selected_features])\n",
        "preds_test_proba = model.predict_proba(X_test_scaled[selected_features])[:, 1]\n",
        "\n",
        "print_classification_metrics(y_test, preds_test, preds_test_proba)"
      ],
      "metadata": {
        "colab": {
          "base_uri": "https://localhost:8080/"
        },
        "id": "aRuTDyuQN9NX",
        "outputId": "43bd26dc-8864-4c06-84d4-34d0ddb70343"
      },
      "execution_count": 35,
      "outputs": [
        {
          "output_type": "stream",
          "name": "stdout",
          "text": [
            "ROC-AUC: 0.75\n",
            "Accuracy: 0.96\n",
            "Precision: 0.0\n",
            "Recall: 0.0\n"
          ]
        }
      ]
    },
    {
      "cell_type": "code",
      "source": [
        "roc_auc_list = []\n",
        "\n",
        "for i in range(1, 35):\n",
        "  sel = SelectKBest(k = i)\n",
        "  sel.fit(X_train[non_zero_selected_features], y_train)\n",
        "\n",
        "  selected_features = sel.get_feature_names_out()\n",
        "\n",
        "  model = LogisticRegression(solver='lbfgs', max_iter=1000)\n",
        "  model.fit(X_train_scaled[selected_features], y_train)\n",
        "\n",
        "  preds_test_proba = model.predict_proba(X_test_scaled[selected_features])[:, 1]\n",
        "\n",
        "  roc_auc_list.append(roc_auc_score(y_test, preds_test_proba))"
      ],
      "metadata": {
        "id": "WXEvVAHaTh9S"
      },
      "execution_count": null,
      "outputs": []
    },
    {
      "cell_type": "code",
      "source": [
        "pd.Series(roc_auc_list, index=np.arange(1, 35)).plot(grid = True, xlabel = 'Number of best features', ylabel = 'ROC-AUC');"
      ],
      "metadata": {
        "colab": {
          "base_uri": "https://localhost:8080/",
          "height": 449
        },
        "id": "5iR5A6krUGE_",
        "outputId": "338e858b-d18e-40c2-a3a7-b357cc6f38ac"
      },
      "execution_count": null,
      "outputs": [
        {
          "output_type": "display_data",
          "data": {
            "text/plain": [
              "<Figure size 640x480 with 1 Axes>"
            ],
            "image/png": "[encoded data removed]"
          },
          "metadata": {}
        }
      ]
    },
    {
      "cell_type": "code",
      "source": [
        "# Какой метод используется дефолтно? Что можно подставить ещё?"
      ],
      "metadata": {
        "id": "RbxR4bY6IZnw"
      },
      "execution_count": null,
      "outputs": []
    },
    {
      "cell_type": "code",
      "source": [
        "from sklearn.feature_selection import mutual_info_classif"
      ],
      "metadata": {
        "id": "md0jPgbpIv7v"
      },
      "execution_count": 37,
      "outputs": []
    },
    {
      "cell_type": "code",
      "source": [
        "sel = SelectKBest(score_func = mutual_info_classif, k = 10)\n",
        "sel.fit(X_train[non_zero_selected_features], y_train)\n",
        "\n",
        "selected_features = sel.get_feature_names_out()\n",
        "\n",
        "model = LogisticRegression(solver='lbfgs', max_iter=1000)\n",
        "model.fit(X_train_scaled[selected_features], y_train)\n",
        "\n",
        "preds_test = model.predict(X_test_scaled[selected_features])\n",
        "preds_test_proba = model.predict_proba(X_test_scaled[selected_features])[:, 1]\n",
        "\n",
        "print_classification_metrics(y_test, preds_test, preds_test_proba)"
      ],
      "metadata": {
        "id": "KYLhQ2NoWIqF",
        "colab": {
          "base_uri": "https://localhost:8080/"
        },
        "outputId": "77aba913-be56-406d-ec59-23e2975b1317"
      },
      "execution_count": 38,
      "outputs": [
        {
          "output_type": "stream",
          "name": "stdout",
          "text": [
            "ROC-AUC: 0.7\n",
            "Accuracy: 0.96\n",
            "Precision: 0.0\n",
            "Recall: 0.0\n"
          ]
        },
        {
          "output_type": "stream",
          "name": "stderr",
          "text": [
            "/usr/local/lib/python3.10/dist-packages/sklearn/metrics/_classification.py:1344: UndefinedMetricWarning: Precision is ill-defined and being set to 0.0 due to no predicted samples. Use `zero_division` parameter to control this behavior.\n",
            "  _warn_prf(average, modifier, msg_start, len(result))\n"
          ]
        }
      ]
    },
    {
      "cell_type": "markdown",
      "source": [
        "## 2. Обёртки"
      ],
      "metadata": {
        "id": "YcTRnpxLJv61"
      }
    },
    {
      "cell_type": "code",
      "source": [
        "from sklearn.feature_selection import SequentialFeatureSelector\n",
        "from sklearn.neighbors import KNeighborsClassifier\n",
        "\n",
        "# работает очень долго!\n",
        "\n",
        "model = LogisticRegression(solver='lbfgs', max_iter=10)\n",
        "sfs = SequentialFeatureSelector(model, n_features_to_select=3)\n",
        "sfs.fit(X_train, y_train)"
      ],
      "metadata": {
        "id": "qB5hdZyLJ5dP"
      },
      "execution_count": null,
      "outputs": []
    },
    {
      "cell_type": "markdown",
      "source": [
        "## 3. Встроенные методы"
      ],
      "metadata": {
        "id": "y1O0UKieJ2Z8"
      }
    },
    {
      "cell_type": "code",
      "source": [
        "from sklearn.feature_selection import SelectFromModel"
      ],
      "metadata": {
        "id": "PSZ2h3vFLgFh"
      },
      "execution_count": 46,
      "outputs": []
    },
    {
      "cell_type": "code",
      "source": [
        "from sklearn.ensemble import ExtraTreesClassifier"
      ],
      "metadata": {
        "id": "9CgYbD1XOrFg"
      },
      "execution_count": 55,
      "outputs": []
    },
    {
      "cell_type": "code",
      "source": [
        "# На основе feature_importance:\n",
        "model = LogisticRegression(solver='lbfgs', max_iter=10)\n",
        "sel = SelectFromModel(model).fit(X_train, y_train)\n",
        "\n",
        "sel.get_feature_names_out()"
      ],
      "metadata": {
        "colab": {
          "base_uri": "https://localhost:8080/"
        },
        "id": "dTgLJdxFMvH0",
        "outputId": "a2bd0588-87b1-451d-cbf0-edca1ec3a2d2"
      },
      "execution_count": 61,
      "outputs": [
        {
          "output_type": "stream",
          "name": "stderr",
          "text": [
            "/usr/local/lib/python3.10/dist-packages/sklearn/linear_model/_logistic.py:458: ConvergenceWarning: lbfgs failed to converge (status=1):\n",
            "STOP: TOTAL NO. of ITERATIONS REACHED LIMIT.\n",
            "\n",
            "Increase the number of iterations (max_iter) or scale the data as shown in:\n",
            "    https://scikit-learn.org/stable/modules/preprocessing.html\n",
            "Please also refer to the documentation for alternative solver options:\n",
            "    https://scikit-learn.org/stable/modules/linear_model.html#logistic-regression\n",
            "  n_iter_i = _check_optimize_result(\n"
          ]
        },
        {
          "output_type": "execute_result",
          "data": {
            "text/plain": [
              "array(['ID', 'saldo_var30', 'saldo_var42', 'delta_imp_amort_var34_1y3',\n",
              "       'delta_imp_aport_var13_1y3', 'delta_imp_aport_var17_1y3',\n",
              "       'delta_imp_aport_var33_1y3', 'delta_imp_compra_var44_1y3',\n",
              "       'delta_imp_reemb_var13_1y3', 'delta_imp_reemb_var17_1y3',\n",
              "       'delta_imp_trasp_var17_in_1y3', 'delta_imp_trasp_var17_out_1y3',\n",
              "       'delta_imp_trasp_var33_in_1y3', 'delta_imp_venta_var44_1y3',\n",
              "       'delta_num_aport_var13_1y3', 'delta_num_aport_var17_1y3',\n",
              "       'delta_num_aport_var33_1y3', 'delta_num_compra_var44_1y3',\n",
              "       'delta_num_reemb_var13_1y3', 'delta_num_reemb_var17_1y3',\n",
              "       'delta_num_trasp_var17_in_1y3', 'delta_num_trasp_var17_out_1y3',\n",
              "       'delta_num_trasp_var33_in_1y3', 'delta_num_venta_var44_1y3',\n",
              "       'var38'], dtype=object)"
            ]
          },
          "metadata": {},
          "execution_count": 61
        }
      ]
    },
    {
      "cell_type": "code",
      "source": [
        "# Вспоминаем что Ridge-регрессия зануляет веса:\n",
        "from sklearn.linear_model import Ridge, Lasso"
      ],
      "metadata": {
        "id": "XvFdFn0YQgEo"
      },
      "execution_count": 71,
      "outputs": []
    },
    {
      "cell_type": "code",
      "source": [
        "model = Ridge(alpha=1.0).fit(X_train, y_train)"
      ],
      "metadata": {
        "id": "RUkkOhBGQuGv"
      },
      "execution_count": 73,
      "outputs": []
    },
    {
      "cell_type": "code",
      "source": [
        "feature_importances = pd.Series(model.coef_, index=X_train.columns)\n",
        "feature_importances.head()"
      ],
      "metadata": {
        "colab": {
          "base_uri": "https://localhost:8080/"
        },
        "id": "_W4sFySEQ6WH",
        "outputId": "c3620cc8-6760-44bc-f31b-801cf4409cbe"
      },
      "execution_count": 74,
      "outputs": [
        {
          "output_type": "execute_result",
          "data": {
            "text/plain": [
              "ID                         1.010103e-08\n",
              "var3                       6.706653e-08\n",
              "var15                      2.024989e-03\n",
              "imp_ent_var16_ult1        -7.944111e-08\n",
              "imp_op_var39_comer_ult1    6.353673e-06\n",
              "dtype: float64"
            ]
          },
          "metadata": {},
          "execution_count": 74
        }
      ]
    },
    {
      "cell_type": "code",
      "source": [
        "feature_importances[feature_importances == 0]"
      ],
      "metadata": {
        "colab": {
          "base_uri": "https://localhost:8080/"
        },
        "id": "CUFKecPhRHFR",
        "outputId": "6ff87215-10ea-4fc2-fada-183f0cd6e057"
      },
      "execution_count": 75,
      "outputs": [
        {
          "output_type": "execute_result",
          "data": {
            "text/plain": [
              "Series([], dtype: float64)"
            ]
          },
          "metadata": {},
          "execution_count": 75
        }
      ]
    },
    {
      "cell_type": "code",
      "source": [
        "# Что ж... Здесь не повезло"
      ],
      "metadata": {
        "id": "Qmu2c1OfR6FV"
      },
      "execution_count": null,
      "outputs": []
    },
    {
      "cell_type": "code",
      "source": [
        "!pip install catboost"
      ],
      "metadata": {
        "colab": {
          "base_uri": "https://localhost:8080/"
        },
        "id": "_qoWxoxjR9us",
        "outputId": "619d6729-5f46-47ac-d118-b93c699d5386"
      },
      "execution_count": 77,
      "outputs": [
        {
          "output_type": "stream",
          "name": "stdout",
          "text": [
            "Collecting catboost\n",
            "  Downloading catboost-1.2.2-cp310-cp310-manylinux2014_x86_64.whl (98.7 MB)\n",
            "\u001b[2K     \u001b[90m━━━━━━━━━━━━━━━━━━━━━━━━━━━━━━━━━━━━━━━━\u001b[0m \u001b[32m98.7/98.7 MB\u001b[0m \u001b[31m3.2 MB/s\u001b[0m eta \u001b[36m0:00:00\u001b[0m\n",
            "\u001b[?25hRequirement already satisfied: graphviz in /usr/local/lib/python3.10/dist-packages (from catboost) (0.20.1)\n",
            "Requirement already satisfied: matplotlib in /usr/local/lib/python3.10/dist-packages (from catboost) (3.7.1)\n",
            "Requirement already satisfied: numpy>=1.16.0 in /usr/local/lib/python3.10/dist-packages (from catboost) (1.23.5)\n",
            "Requirement already satisfied: pandas>=0.24 in /usr/local/lib/python3.10/dist-packages (from catboost) (1.5.3)\n",
            "Requirement already satisfied: scipy in /usr/local/lib/python3.10/dist-packages (from catboost) (1.11.3)\n",
            "Requirement already satisfied: plotly in /usr/local/lib/python3.10/dist-packages (from catboost) (5.15.0)\n",
            "Requirement already satisfied: six in /usr/local/lib/python3.10/dist-packages (from catboost) (1.16.0)\n",
            "Requirement already satisfied: python-dateutil>=2.8.1 in /usr/local/lib/python3.10/dist-packages (from pandas>=0.24->catboost) (2.8.2)\n",
            "Requirement already satisfied: pytz>=2020.1 in /usr/local/lib/python3.10/dist-packages (from pandas>=0.24->catboost) (2023.3.post1)\n",
            "Requirement already satisfied: contourpy>=1.0.1 in /usr/local/lib/python3.10/dist-packages (from matplotlib->catboost) (1.2.0)\n",
            "Requirement already satisfied: cycler>=0.10 in /usr/local/lib/python3.10/dist-packages (from matplotlib->catboost) (0.12.1)\n",
            "Requirement already satisfied: fonttools>=4.22.0 in /usr/local/lib/python3.10/dist-packages (from matplotlib->catboost) (4.44.0)\n",
            "Requirement already satisfied: kiwisolver>=1.0.1 in /usr/local/lib/python3.10/dist-packages (from matplotlib->catboost) (1.4.5)\n",
            "Requirement already satisfied: packaging>=20.0 in /usr/local/lib/python3.10/dist-packages (from matplotlib->catboost) (23.2)\n",
            "Requirement already satisfied: pillow>=6.2.0 in /usr/local/lib/python3.10/dist-packages (from matplotlib->catboost) (9.4.0)\n",
            "Requirement already satisfied: pyparsing>=2.3.1 in /usr/local/lib/python3.10/dist-packages (from matplotlib->catboost) (3.1.1)\n",
            "Requirement already satisfied: tenacity>=6.2.0 in /usr/local/lib/python3.10/dist-packages (from plotly->catboost) (8.2.3)\n",
            "Installing collected packages: catboost\n",
            "Successfully installed catboost-1.2.2\n"
          ]
        }
      ]
    },
    {
      "cell_type": "code",
      "source": [
        "from catboost import CatBoostClassifier\n",
        "\n",
        "model = CatBoostClassifier(iterations=1000, verbose = False)\n",
        "model.fit(X_train_scaled[non_zero_selected_features], y_train)\n",
        "\n",
        "preds_test = model.predict(X_test_scaled[non_zero_selected_features])\n",
        "preds_test_proba = model.predict_proba(X_test_scaled[non_zero_selected_features])[:, 1]\n",
        "\n",
        "print_classification_metrics(y_test, preds_test, preds_test_proba)"
      ],
      "metadata": {
        "id": "OsHPeim5R8N8"
      },
      "execution_count": null,
      "outputs": []
    },
    {
      "cell_type": "code",
      "source": [
        "# У Catboost'а есть свой алгоритм отбора признаков: https://catboost.ai/en/docs/concepts/python-reference_catboost_select_features"
      ],
      "metadata": {
        "id": "WNfMUMvaSG-P"
      },
      "execution_count": null,
      "outputs": []
    },
    {
      "cell_type": "code",
      "source": [
        "from google.colab import output\n",
        "output.enable_custom_widget_manager()"
      ],
      "metadata": {
        "id": "khKqxiCCTG5g"
      },
      "execution_count": 87,
      "outputs": []
    },
    {
      "cell_type": "code",
      "source": [
        "from catboost import CatBoostClassifier, Pool, EShapCalcType, EFeaturesSelectionAlgorithm\n",
        "from sklearn.datasets import make_regression\n",
        "from sklearn.model_selection import train_test_split\n",
        "\n",
        "\n",
        "feature_names = X_train.columns\n",
        "train_pool = Pool(X_train, y_train, feature_names=list(X_train.columns))\n",
        "test_pool = Pool(X_test, y_test, feature_names=list(X_test.columns))\n",
        "\n",
        "model = CatBoostClassifier(iterations=1000, random_seed=0)\n",
        "summary = model.select_features(\n",
        "    train_pool,\n",
        "    eval_set=test_pool,\n",
        "    features_for_select='0-99',\n",
        "    num_features_to_select=10,\n",
        "    steps=3,\n",
        "    algorithm=EFeaturesSelectionAlgorithm.RecursiveByShapValues,\n",
        "    shap_calc_type=EShapCalcType.Regular,\n",
        "    train_final_model=True,\n",
        "    logging_level='Silent',\n",
        "    plot=True\n",
        ")"
      ],
      "metadata": {
        "colab": {
          "base_uri": "https://localhost:8080/",
          "height": 524,
          "referenced_widgets": [
            "122748e00b2e400fb0f4a9f082b59cf1"
          ]
        },
        "id": "KUOBA4HBSVYx",
        "outputId": "d4c467d1-5d2f-478f-bcce-34a35ab2cf92"
      },
      "execution_count": 88,
      "outputs": [
        {
          "output_type": "display_data",
          "data": {
            "text/plain": [
              "MetricVisualizer(layout=Layout(align_self='stretch', height='500px'))"
            ],
            "application/vnd.jupyter.widget-view+json": {
              "version_major": 2,
              "version_minor": 0,
              "model_id": "122748e00b2e400fb0f4a9f082b59cf1"
            }
          },
          "metadata": {}
        },
        {
          "output_type": "error",
          "ename": "KeyboardInterrupt",
          "evalue": "ignored",
          "traceback": [
            "\u001b[0;31m---------------------------------------------------------------------------\u001b[0m",
            "\u001b[0;31mKeyboardInterrupt\u001b[0m                         Traceback (most recent call last)",
            "\u001b[0;32m<ipython-input-88-7143cd352443>\u001b[0m in \u001b[0;36m<cell line: 11>\u001b[0;34m()\u001b[0m\n\u001b[1;32m      9\u001b[0m \u001b[0;34m\u001b[0m\u001b[0m\n\u001b[1;32m     10\u001b[0m \u001b[0mmodel\u001b[0m \u001b[0;34m=\u001b[0m \u001b[0mCatBoostClassifier\u001b[0m\u001b[0;34m(\u001b[0m\u001b[0miterations\u001b[0m\u001b[0;34m=\u001b[0m\u001b[0;36m1000\u001b[0m\u001b[0;34m,\u001b[0m \u001b[0mrandom_seed\u001b[0m\u001b[0;34m=\u001b[0m\u001b[0;36m0\u001b[0m\u001b[0;34m)\u001b[0m\u001b[0;34m\u001b[0m\u001b[0;34m\u001b[0m\u001b[0m\n\u001b[0;32m---> 11\u001b[0;31m summary = model.select_features(\n\u001b[0m\u001b[1;32m     12\u001b[0m     \u001b[0mtrain_pool\u001b[0m\u001b[0;34m,\u001b[0m\u001b[0;34m\u001b[0m\u001b[0;34m\u001b[0m\u001b[0m\n\u001b[1;32m     13\u001b[0m     \u001b[0meval_set\u001b[0m\u001b[0;34m=\u001b[0m\u001b[0mtest_pool\u001b[0m\u001b[0;34m,\u001b[0m\u001b[0;34m\u001b[0m\u001b[0;34m\u001b[0m\u001b[0m\n",
            "\u001b[0;32m/usr/local/lib/python3.10/dist-packages/catboost/core.py\u001b[0m in \u001b[0;36mselect_features\u001b[0;34m(self, X, y, eval_set, features_for_select, num_features_to_select, algorithm, steps, shap_calc_type, train_final_model, verbose, logging_level, plot, plot_file, log_cout, log_cerr, grouping, features_tags_for_select, num_features_tags_to_select)\u001b[0m\n\u001b[1;32m   4382\u001b[0m \u001b[0;34m\u001b[0m\u001b[0m\n\u001b[1;32m   4383\u001b[0m         \u001b[0;32mwith\u001b[0m \u001b[0mlog_fixup\u001b[0m\u001b[0;34m(\u001b[0m\u001b[0mlog_cout\u001b[0m\u001b[0;34m,\u001b[0m \u001b[0mlog_cerr\u001b[0m\u001b[0;34m)\u001b[0m\u001b[0;34m,\u001b[0m \u001b[0mplot_wrapper\u001b[0m\u001b[0;34m(\u001b[0m\u001b[0mplot\u001b[0m\u001b[0;34m,\u001b[0m \u001b[0mplot_file\u001b[0m\u001b[0;34m=\u001b[0m\u001b[0mplot_file\u001b[0m\u001b[0;34m,\u001b[0m \u001b[0mplot_title\u001b[0m\u001b[0;34m=\u001b[0m\u001b[0;34m'Select features plot'\u001b[0m\u001b[0;34m,\u001b[0m \u001b[0mtrain_dirs\u001b[0m\u001b[0;34m=\u001b[0m\u001b[0mplot_dirs\u001b[0m\u001b[0;34m)\u001b[0m\u001b[0;34m:\u001b[0m\u001b[0;34m\u001b[0m\u001b[0;34m\u001b[0m\u001b[0m\n\u001b[0;32m-> 4384\u001b[0;31m             \u001b[0msummary\u001b[0m \u001b[0;34m=\u001b[0m \u001b[0mself\u001b[0m\u001b[0;34m.\u001b[0m\u001b[0m_object\u001b[0m\u001b[0;34m.\u001b[0m\u001b[0m_select_features\u001b[0m\u001b[0;34m(\u001b[0m\u001b[0mtrain_pool\u001b[0m\u001b[0;34m,\u001b[0m \u001b[0mtest_pool\u001b[0m\u001b[0;34m,\u001b[0m \u001b[0mparams\u001b[0m\u001b[0;34m)\u001b[0m\u001b[0;34m\u001b[0m\u001b[0;34m\u001b[0m\u001b[0m\n\u001b[0m\u001b[1;32m   4385\u001b[0m \u001b[0;34m\u001b[0m\u001b[0m\n\u001b[1;32m   4386\u001b[0m         \u001b[0;32mif\u001b[0m \u001b[0mtrain_final_model\u001b[0m\u001b[0;34m:\u001b[0m\u001b[0;34m\u001b[0m\u001b[0;34m\u001b[0m\u001b[0m\n",
            "\u001b[0;32m_catboost.pyx\u001b[0m in \u001b[0;36m_catboost._CatBoost._select_features\u001b[0;34m()\u001b[0m\n",
            "\u001b[0;32m_catboost.pyx\u001b[0m in \u001b[0;36m_catboost._CatBoost._select_features\u001b[0;34m()\u001b[0m\n",
            "\u001b[0;31mKeyboardInterrupt\u001b[0m: "
          ]
        }
      ]
    },
    {
      "cell_type": "markdown",
      "source": [
        "## Отбор признаков как часть пайплайна"
      ],
      "metadata": {
        "id": "B5AsqLaNMScG"
      }
    },
    {
      "cell_type": "code",
      "source": [
        "from sklearn.pipeline import Pipeline, make_pipeline, FeatureUnion\n",
        "from sklearn.compose import ColumnTransformer, make_column_selector\n",
        "\n",
        "from sklearn.impute import SimpleImputer, KNNImputer\n",
        "from sklearn.feature_selection import SelectKBest, chi2, f_classif"
      ],
      "metadata": {
        "id": "TUnONeHVUFo3"
      },
      "execution_count": null,
      "outputs": []
    },
    {
      "cell_type": "code",
      "source": [
        "numerical_transformer = Pipeline(steps=[\n",
        "    (\"imputer\", SimpleImputer()),\n",
        "    (\"scaler\", StandardScaler()),\n",
        "    (\"fs\", SelectKBest(score_func=f_classif, k=20)),\n",
        "])\n",
        "\n",
        "\n",
        "# Собираем воедино трансформеры для числовых и категориальных признаков\n",
        "data_transformer = ColumnTransformer(transformers=[\n",
        "    (\"numerical\", numerical_transformer, non_zero_selected_features)\n",
        "])\n",
        "\n",
        "# Создание конвейера препроцессора, который сначала преобразует данные\n",
        "preprocessor = Pipeline(steps=[(\"data_transformer\", data_transformer)])\n",
        "\n",
        "classifier_pipline = Pipeline(\n",
        "    steps=[(\"preprocessor\", preprocessor),\n",
        "           (\"classifier\", LogisticRegression())])\n",
        "\n",
        "classifier_pipline"
      ],
      "metadata": {
        "id": "RSFkA9mdJ5up",
        "colab": {
          "base_uri": "https://localhost:8080/",
          "height": 287
        },
        "outputId": "8b3d8659-69e9-4dc8-ef18-475bbe7c0f9d"
      },
      "execution_count": null,
      "outputs": [
        {
          "output_type": "execute_result",
          "data": {
            "text/plain": [
              "Pipeline(steps=[('preprocessor',\n",
              "                 Pipeline(steps=[('data_transformer',\n",
              "                                  ColumnTransformer(transformers=[('numerical',\n",
              "                                                                   Pipeline(steps=[('imputer',\n",
              "                                                                                    SimpleImputer()),\n",
              "                                                                                   ('scaler',\n",
              "                                                                                    StandardScaler()),\n",
              "                                                                                   ('fs',\n",
              "                                                                                    SelectKBest(k='all'))]),\n",
              "                                                                   array(['ID', 'var3', 'var15', 'imp_ent_var16_ult1',\n",
              "       'imp_op_var39_comer_ult1', 'imp_op_var39_comer_ult3',\n",
              "       'imp_op_var40_comer_ult1', 'imp_op_v...\n",
              "       'saldo_medio_var17_ult3', 'saldo_medio_var29_hace2',\n",
              "       'saldo_medio_var29_ult1', 'saldo_medio_var29_ult3',\n",
              "       'saldo_medio_var33_hace2', 'saldo_medio_var33_hace3',\n",
              "       'saldo_medio_var33_ult1', 'saldo_medio_var33_ult3',\n",
              "       'saldo_medio_var44_hace2', 'saldo_medio_var44_hace3',\n",
              "       'saldo_medio_var44_ult1', 'saldo_medio_var44_ult3', 'var38'],\n",
              "      dtype=object))]))])),\n",
              "                ('classifier', LogisticRegression())])"
            ],
            "text/html": [
              "<style>#sk-container-id-20 {color: black;background-color: white;}#sk-container-id-20 pre{padding: 0;}#sk-container-id-20 div.sk-toggleable {background-color: white;}#sk-container-id-20 label.sk-toggleable__label {cursor: pointer;display: block;width: 100%;margin-bottom: 0;padding: 0.3em;box-sizing: border-box;text-align: center;}#sk-container-id-20 label.sk-toggleable__label-arrow:before {content: \"▸\";float: left;margin-right: 0.25em;color: #696969;}#sk-container-id-20 label.sk-toggleable__label-arrow:hover:before {color: black;}#sk-container-id-20 div.sk-estimator:hover label.sk-toggleable__label-arrow:before {color: black;}#sk-container-id-20 div.sk-toggleable__content {max-height: 0;max-width: 0;overflow: hidden;text-align: left;background-color: #f0f8ff;}#sk-container-id-20 div.sk-toggleable__content pre {margin: 0.2em;color: black;border-radius: 0.25em;background-color: #f0f8ff;}#sk-container-id-20 input.sk-toggleable__control:checked~div.sk-toggleable__content {max-height: 200px;max-width: 100%;overflow: auto;}#sk-container-id-20 input.sk-toggleable__control:checked~label.sk-toggleable__label-arrow:before {content: \"▾\";}#sk-container-id-20 div.sk-estimator input.sk-toggleable__control:checked~label.sk-toggleable__label {background-color: #d4ebff;}#sk-container-id-20 div.sk-label input.sk-toggleable__control:checked~label.sk-toggleable__label {background-color: #d4ebff;}#sk-container-id-20 input.sk-hidden--visually {border: 0;clip: rect(1px 1px 1px 1px);clip: rect(1px, 1px, 1px, 1px);height: 1px;margin: -1px;overflow: hidden;padding: 0;position: absolute;width: 1px;}#sk-container-id-20 div.sk-estimator {font-family: monospace;background-color: #f0f8ff;border: 1px dotted black;border-radius: 0.25em;box-sizing: border-box;margin-bottom: 0.5em;}#sk-container-id-20 div.sk-estimator:hover {background-color: #d4ebff;}#sk-container-id-20 div.sk-parallel-item::after {content: \"\";width: 100%;border-bottom: 1px solid gray;flex-grow: 1;}#sk-container-id-20 div.sk-label:hover label.sk-toggleable__label {background-color: #d4ebff;}#sk-container-id-20 div.sk-serial::before {content: \"\";position: absolute;border-left: 1px solid gray;box-sizing: border-box;top: 0;bottom: 0;left: 50%;z-index: 0;}#sk-container-id-20 div.sk-serial {display: flex;flex-direction: column;align-items: center;background-color: white;padding-right: 0.2em;padding-left: 0.2em;position: relative;}#sk-container-id-20 div.sk-item {position: relative;z-index: 1;}#sk-container-id-20 div.sk-parallel {display: flex;align-items: stretch;justify-content: center;background-color: white;position: relative;}#sk-container-id-20 div.sk-item::before, #sk-container-id-20 div.sk-parallel-item::before {content: \"\";position: absolute;border-left: 1px solid gray;box-sizing: border-box;top: 0;bottom: 0;left: 50%;z-index: -1;}#sk-container-id-20 div.sk-parallel-item {display: flex;flex-direction: column;z-index: 1;position: relative;background-color: white;}#sk-container-id-20 div.sk-parallel-item:first-child::after {align-self: flex-end;width: 50%;}#sk-container-id-20 div.sk-parallel-item:last-child::after {align-self: flex-start;width: 50%;}#sk-container-id-20 div.sk-parallel-item:only-child::after {width: 0;}#sk-container-id-20 div.sk-dashed-wrapped {border: 1px dashed gray;margin: 0 0.4em 0.5em 0.4em;box-sizing: border-box;padding-bottom: 0.4em;background-color: white;}#sk-container-id-20 div.sk-label label {font-family: monospace;font-weight: bold;display: inline-block;line-height: 1.2em;}#sk-container-id-20 div.sk-label-container {text-align: center;}#sk-container-id-20 div.sk-container {/* jupyter's `normalize.less` sets `[hidden] { display: none; }` but bootstrap.min.css set `[hidden] { display: none !important; }` so we also need the `!important` here to be able to override the default hidden behavior on the sphinx rendered scikit-learn.org. See: https://github.com/scikit-learn/scikit-learn/issues/21755 */display: inline-block !important;position: relative;}#sk-container-id-20 div.sk-text-repr-fallback {display: none;}</style><div id=\"sk-container-id-20\" class=\"sk-top-container\"><div class=\"sk-text-repr-fallback\"><pre>Pipeline(steps=[(&#x27;preprocessor&#x27;,\n",
              "                 Pipeline(steps=[(&#x27;data_transformer&#x27;,\n",
              "                                  ColumnTransformer(transformers=[(&#x27;numerical&#x27;,\n",
              "                                                                   Pipeline(steps=[(&#x27;imputer&#x27;,\n",
              "                                                                                    SimpleImputer()),\n",
              "                                                                                   (&#x27;scaler&#x27;,\n",
              "                                                                                    StandardScaler()),\n",
              "                                                                                   (&#x27;fs&#x27;,\n",
              "                                                                                    SelectKBest(k=&#x27;all&#x27;))]),\n",
              "                                                                   array([&#x27;ID&#x27;, &#x27;var3&#x27;, &#x27;var15&#x27;, &#x27;imp_ent_var16_ult1&#x27;,\n",
              "       &#x27;imp_op_var39_comer_ult1&#x27;, &#x27;imp_op_var39_comer_ult3&#x27;,\n",
              "       &#x27;imp_op_var40_comer_ult1&#x27;, &#x27;imp_op_v...\n",
              "       &#x27;saldo_medio_var17_ult3&#x27;, &#x27;saldo_medio_var29_hace2&#x27;,\n",
              "       &#x27;saldo_medio_var29_ult1&#x27;, &#x27;saldo_medio_var29_ult3&#x27;,\n",
              "       &#x27;saldo_medio_var33_hace2&#x27;, &#x27;saldo_medio_var33_hace3&#x27;,\n",
              "       &#x27;saldo_medio_var33_ult1&#x27;, &#x27;saldo_medio_var33_ult3&#x27;,\n",
              "       &#x27;saldo_medio_var44_hace2&#x27;, &#x27;saldo_medio_var44_hace3&#x27;,\n",
              "       &#x27;saldo_medio_var44_ult1&#x27;, &#x27;saldo_medio_var44_ult3&#x27;, &#x27;var38&#x27;],\n",
              "      dtype=object))]))])),\n",
              "                (&#x27;classifier&#x27;, LogisticRegression())])</pre><b>In a Jupyter environment, please rerun this cell to show the HTML representation or trust the notebook. <br />On GitHub, the HTML representation is unable to render, please try loading this page with nbviewer.org.</b></div><div class=\"sk-container\" hidden><div class=\"sk-item sk-dashed-wrapped\"><div class=\"sk-label-container\"><div class=\"sk-label sk-toggleable\"><input class=\"sk-toggleable__control sk-hidden--visually\" id=\"sk-estimator-id-27\" type=\"checkbox\" ><label for=\"sk-estimator-id-27\" class=\"sk-toggleable__label sk-toggleable__label-arrow\">Pipeline</label><div class=\"sk-toggleable__content\"><pre>Pipeline(steps=[(&#x27;preprocessor&#x27;,\n",
              "                 Pipeline(steps=[(&#x27;data_transformer&#x27;,\n",
              "                                  ColumnTransformer(transformers=[(&#x27;numerical&#x27;,\n",
              "                                                                   Pipeline(steps=[(&#x27;imputer&#x27;,\n",
              "                                                                                    SimpleImputer()),\n",
              "                                                                                   (&#x27;scaler&#x27;,\n",
              "                                                                                    StandardScaler()),\n",
              "                                                                                   (&#x27;fs&#x27;,\n",
              "                                                                                    SelectKBest(k=&#x27;all&#x27;))]),\n",
              "                                                                   array([&#x27;ID&#x27;, &#x27;var3&#x27;, &#x27;var15&#x27;, &#x27;imp_ent_var16_ult1&#x27;,\n",
              "       &#x27;imp_op_var39_comer_ult1&#x27;, &#x27;imp_op_var39_comer_ult3&#x27;,\n",
              "       &#x27;imp_op_var40_comer_ult1&#x27;, &#x27;imp_op_v...\n",
              "       &#x27;saldo_medio_var17_ult3&#x27;, &#x27;saldo_medio_var29_hace2&#x27;,\n",
              "       &#x27;saldo_medio_var29_ult1&#x27;, &#x27;saldo_medio_var29_ult3&#x27;,\n",
              "       &#x27;saldo_medio_var33_hace2&#x27;, &#x27;saldo_medio_var33_hace3&#x27;,\n",
              "       &#x27;saldo_medio_var33_ult1&#x27;, &#x27;saldo_medio_var33_ult3&#x27;,\n",
              "       &#x27;saldo_medio_var44_hace2&#x27;, &#x27;saldo_medio_var44_hace3&#x27;,\n",
              "       &#x27;saldo_medio_var44_ult1&#x27;, &#x27;saldo_medio_var44_ult3&#x27;, &#x27;var38&#x27;],\n",
              "      dtype=object))]))])),\n",
              "                (&#x27;classifier&#x27;, LogisticRegression())])</pre></div></div></div><div class=\"sk-serial\"><div class=\"sk-item\"><div class=\"sk-label-container\"><div class=\"sk-label sk-toggleable\"><input class=\"sk-toggleable__control sk-hidden--visually\" id=\"sk-estimator-id-28\" type=\"checkbox\" ><label for=\"sk-estimator-id-28\" class=\"sk-toggleable__label sk-toggleable__label-arrow\">preprocessor: Pipeline</label><div class=\"sk-toggleable__content\"><pre>Pipeline(steps=[(&#x27;data_transformer&#x27;,\n",
              "                 ColumnTransformer(transformers=[(&#x27;numerical&#x27;,\n",
              "                                                  Pipeline(steps=[(&#x27;imputer&#x27;,\n",
              "                                                                   SimpleImputer()),\n",
              "                                                                  (&#x27;scaler&#x27;,\n",
              "                                                                   StandardScaler()),\n",
              "                                                                  (&#x27;fs&#x27;,\n",
              "                                                                   SelectKBest(k=&#x27;all&#x27;))]),\n",
              "                                                  array([&#x27;ID&#x27;, &#x27;var3&#x27;, &#x27;var15&#x27;, &#x27;imp_ent_var16_ult1&#x27;,\n",
              "       &#x27;imp_op_var39_comer_ult1&#x27;, &#x27;imp_op_var39_comer_ult3&#x27;,\n",
              "       &#x27;imp_op_var40_comer_ult1&#x27;, &#x27;imp_op_var40_comer_ult3&#x27;,\n",
              "       &#x27;imp_op_var40_e...\n",
              "       &#x27;saldo_medio_var17_hace3&#x27;, &#x27;saldo_medio_var17_ult1&#x27;,\n",
              "       &#x27;saldo_medio_var17_ult3&#x27;, &#x27;saldo_medio_var29_hace2&#x27;,\n",
              "       &#x27;saldo_medio_var29_ult1&#x27;, &#x27;saldo_medio_var29_ult3&#x27;,\n",
              "       &#x27;saldo_medio_var33_hace2&#x27;, &#x27;saldo_medio_var33_hace3&#x27;,\n",
              "       &#x27;saldo_medio_var33_ult1&#x27;, &#x27;saldo_medio_var33_ult3&#x27;,\n",
              "       &#x27;saldo_medio_var44_hace2&#x27;, &#x27;saldo_medio_var44_hace3&#x27;,\n",
              "       &#x27;saldo_medio_var44_ult1&#x27;, &#x27;saldo_medio_var44_ult3&#x27;, &#x27;var38&#x27;],\n",
              "      dtype=object))]))])</pre></div></div></div><div class=\"sk-serial\"><div class=\"sk-item sk-dashed-wrapped\"><div class=\"sk-label-container\"><div class=\"sk-label sk-toggleable\"><input class=\"sk-toggleable__control sk-hidden--visually\" id=\"sk-estimator-id-29\" type=\"checkbox\" ><label for=\"sk-estimator-id-29\" class=\"sk-toggleable__label sk-toggleable__label-arrow\">data_transformer: ColumnTransformer</label><div class=\"sk-toggleable__content\"><pre>ColumnTransformer(transformers=[(&#x27;numerical&#x27;,\n",
              "                                 Pipeline(steps=[(&#x27;imputer&#x27;, SimpleImputer()),\n",
              "                                                 (&#x27;scaler&#x27;, StandardScaler()),\n",
              "                                                 (&#x27;fs&#x27;, SelectKBest(k=&#x27;all&#x27;))]),\n",
              "                                 array([&#x27;ID&#x27;, &#x27;var3&#x27;, &#x27;var15&#x27;, &#x27;imp_ent_var16_ult1&#x27;,\n",
              "       &#x27;imp_op_var39_comer_ult1&#x27;, &#x27;imp_op_var39_comer_ult3&#x27;,\n",
              "       &#x27;imp_op_var40_comer_ult1&#x27;, &#x27;imp_op_var40_comer_ult3&#x27;,\n",
              "       &#x27;imp_op_var40_efect_ult1&#x27;, &#x27;imp_op_var40_efect_ult3&#x27;...\n",
              "       &#x27;saldo_medio_var17_hace3&#x27;, &#x27;saldo_medio_var17_ult1&#x27;,\n",
              "       &#x27;saldo_medio_var17_ult3&#x27;, &#x27;saldo_medio_var29_hace2&#x27;,\n",
              "       &#x27;saldo_medio_var29_ult1&#x27;, &#x27;saldo_medio_var29_ult3&#x27;,\n",
              "       &#x27;saldo_medio_var33_hace2&#x27;, &#x27;saldo_medio_var33_hace3&#x27;,\n",
              "       &#x27;saldo_medio_var33_ult1&#x27;, &#x27;saldo_medio_var33_ult3&#x27;,\n",
              "       &#x27;saldo_medio_var44_hace2&#x27;, &#x27;saldo_medio_var44_hace3&#x27;,\n",
              "       &#x27;saldo_medio_var44_ult1&#x27;, &#x27;saldo_medio_var44_ult3&#x27;, &#x27;var38&#x27;],\n",
              "      dtype=object))])</pre></div></div></div><div class=\"sk-parallel\"><div class=\"sk-parallel-item\"><div class=\"sk-item\"><div class=\"sk-label-container\"><div class=\"sk-label sk-toggleable\"><input class=\"sk-toggleable__control sk-hidden--visually\" id=\"sk-estimator-id-30\" type=\"checkbox\" ><label for=\"sk-estimator-id-30\" class=\"sk-toggleable__label sk-toggleable__label-arrow\">numerical</label><div class=\"sk-toggleable__content\"><pre>[&#x27;ID&#x27; &#x27;var3&#x27; &#x27;var15&#x27; &#x27;imp_ent_var16_ult1&#x27; &#x27;imp_op_var39_comer_ult1&#x27;\n",
              " &#x27;imp_op_var39_comer_ult3&#x27; &#x27;imp_op_var40_comer_ult1&#x27;\n",
              " &#x27;imp_op_var40_comer_ult3&#x27; &#x27;imp_op_var40_efect_ult1&#x27;\n",
              " &#x27;imp_op_var40_efect_ult3&#x27; &#x27;imp_op_var40_ult1&#x27; &#x27;imp_op_var41_comer_ult1&#x27;\n",
              " &#x27;imp_op_var41_comer_ult3&#x27; &#x27;imp_op_var41_efect_ult1&#x27;\n",
              " &#x27;imp_op_var41_efect_ult3&#x27; &#x27;imp_op_var41_ult1&#x27; &#x27;imp_op_var39_efect_ult1&#x27;\n",
              " &#x27;imp_op_var39_efect_ult3&#x27; &#x27;imp_op_var39_ult1&#x27; &#x27;imp_sal_var16_ult1&#x27;\n",
              " &#x27;ind_var1_0&#x27; &#x27;ind_var1&#x27; &#x27;ind_var5_0&#x27; &#x27;ind_var5&#x27; &#x27;ind_var6_0&#x27; &#x27;ind_var6&#x27;\n",
              " &#x27;ind_var8_0&#x27; &#x27;ind_var8&#x27; &#x27;ind_var12_0&#x27; &#x27;ind_var12&#x27; &#x27;ind_var13_0&#x27;\n",
              " &#x27;ind_var13_corto_0&#x27; &#x27;ind_var13_corto&#x27; &#x27;ind_var13_largo_0&#x27;\n",
              " &#x27;ind_var13_largo&#x27; &#x27;ind_var13&#x27; &#x27;ind_var14_0&#x27; &#x27;ind_var14&#x27; &#x27;ind_var17_0&#x27;\n",
              " &#x27;ind_var17&#x27; &#x27;ind_var19&#x27; &#x27;ind_var20_0&#x27; &#x27;ind_var20&#x27; &#x27;ind_var24_0&#x27;\n",
              " &#x27;ind_var24&#x27; &#x27;ind_var25_cte&#x27; &#x27;ind_var26_0&#x27; &#x27;ind_var26_cte&#x27; &#x27;ind_var26&#x27;\n",
              " &#x27;ind_var25_0&#x27; &#x27;ind_var25&#x27; &#x27;ind_var29_0&#x27; &#x27;ind_var29&#x27; &#x27;ind_var30_0&#x27;\n",
              " &#x27;ind_var30&#x27; &#x27;ind_var31_0&#x27; &#x27;ind_var31&#x27; &#x27;ind_var32_cte&#x27; &#x27;ind_var32_0&#x27;\n",
              " &#x27;ind_var32&#x27; &#x27;ind_var33_0&#x27; &#x27;ind_var33&#x27; &#x27;ind_var34_0&#x27; &#x27;ind_var34&#x27;\n",
              " &#x27;ind_var37_cte&#x27; &#x27;ind_var37_0&#x27; &#x27;ind_var37&#x27; &#x27;ind_var39_0&#x27; &#x27;ind_var40_0&#x27;\n",
              " &#x27;ind_var40&#x27; &#x27;ind_var41_0&#x27; &#x27;ind_var39&#x27; &#x27;ind_var44_0&#x27; &#x27;ind_var44&#x27;\n",
              " &#x27;num_var1_0&#x27; &#x27;num_var1&#x27; &#x27;num_var4&#x27; &#x27;num_var5_0&#x27; &#x27;num_var5&#x27; &#x27;num_var6_0&#x27;\n",
              " &#x27;num_var6&#x27; &#x27;num_var8_0&#x27; &#x27;num_var8&#x27; &#x27;num_var12_0&#x27; &#x27;num_var12&#x27;\n",
              " &#x27;num_var13_0&#x27; &#x27;num_var13_corto_0&#x27; &#x27;num_var13_corto&#x27; &#x27;num_var13_largo_0&#x27;\n",
              " &#x27;num_var13_largo&#x27; &#x27;num_var13&#x27; &#x27;num_var14_0&#x27; &#x27;num_var14&#x27; &#x27;num_var17_0&#x27;\n",
              " &#x27;num_var17&#x27; &#x27;num_var20_0&#x27; &#x27;num_var20&#x27; &#x27;num_var24_0&#x27; &#x27;num_var24&#x27;\n",
              " &#x27;num_var26_0&#x27; &#x27;num_var26&#x27; &#x27;num_var25_0&#x27; &#x27;num_var25&#x27; &#x27;num_op_var40_hace2&#x27;\n",
              " &#x27;num_op_var40_hace3&#x27; &#x27;num_op_var40_ult1&#x27; &#x27;num_op_var40_ult3&#x27;\n",
              " &#x27;num_op_var41_hace2&#x27; &#x27;num_op_var41_hace3&#x27; &#x27;num_op_var41_ult1&#x27;\n",
              " &#x27;num_op_var41_ult3&#x27; &#x27;num_op_var39_hace2&#x27; &#x27;num_op_var39_hace3&#x27;\n",
              " &#x27;num_op_var39_ult1&#x27; &#x27;num_op_var39_ult3&#x27; &#x27;num_var29_0&#x27; &#x27;num_var29&#x27;\n",
              " &#x27;num_var30_0&#x27; &#x27;num_var30&#x27; &#x27;num_var31_0&#x27; &#x27;num_var31&#x27; &#x27;num_var32_0&#x27;\n",
              " &#x27;num_var32&#x27; &#x27;num_var33_0&#x27; &#x27;num_var33&#x27; &#x27;num_var34_0&#x27; &#x27;num_var34&#x27;\n",
              " &#x27;num_var35&#x27; &#x27;num_var37_med_ult2&#x27; &#x27;num_var37_0&#x27; &#x27;num_var37&#x27; &#x27;num_var39_0&#x27;\n",
              " &#x27;num_var40_0&#x27; &#x27;num_var40&#x27; &#x27;num_var41_0&#x27; &#x27;num_var39&#x27; &#x27;num_var42_0&#x27;\n",
              " &#x27;num_var42&#x27; &#x27;num_var44_0&#x27; &#x27;num_var44&#x27; &#x27;saldo_var1&#x27; &#x27;saldo_var5&#x27;\n",
              " &#x27;saldo_var6&#x27; &#x27;saldo_var8&#x27; &#x27;saldo_var12&#x27; &#x27;saldo_var13_corto&#x27;\n",
              " &#x27;saldo_var13_largo&#x27; &#x27;saldo_var13&#x27; &#x27;saldo_var14&#x27; &#x27;saldo_var17&#x27;\n",
              " &#x27;saldo_var20&#x27; &#x27;saldo_var24&#x27; &#x27;saldo_var26&#x27; &#x27;saldo_var25&#x27; &#x27;saldo_var29&#x27;\n",
              " &#x27;saldo_var30&#x27; &#x27;saldo_var31&#x27; &#x27;saldo_var32&#x27; &#x27;saldo_var33&#x27; &#x27;saldo_var34&#x27;\n",
              " &#x27;saldo_var37&#x27; &#x27;saldo_var40&#x27; &#x27;saldo_var42&#x27; &#x27;saldo_var44&#x27; &#x27;var36&#x27;\n",
              " &#x27;delta_imp_amort_var34_1y3&#x27; &#x27;delta_imp_aport_var13_1y3&#x27;\n",
              " &#x27;delta_imp_aport_var17_1y3&#x27; &#x27;delta_imp_aport_var33_1y3&#x27;\n",
              " &#x27;delta_imp_compra_var44_1y3&#x27; &#x27;delta_imp_reemb_var13_1y3&#x27;\n",
              " &#x27;delta_imp_reemb_var17_1y3&#x27; &#x27;delta_imp_trasp_var17_in_1y3&#x27;\n",
              " &#x27;delta_imp_trasp_var17_out_1y3&#x27; &#x27;delta_imp_trasp_var33_in_1y3&#x27;\n",
              " &#x27;delta_imp_trasp_var33_out_1y3&#x27; &#x27;delta_imp_venta_var44_1y3&#x27;\n",
              " &#x27;delta_num_aport_var13_1y3&#x27; &#x27;delta_num_aport_var17_1y3&#x27;\n",
              " &#x27;delta_num_aport_var33_1y3&#x27; &#x27;delta_num_compra_var44_1y3&#x27;\n",
              " &#x27;delta_num_reemb_var13_1y3&#x27; &#x27;delta_num_reemb_var17_1y3&#x27;\n",
              " &#x27;delta_num_trasp_var17_in_1y3&#x27; &#x27;delta_num_trasp_var17_out_1y3&#x27;\n",
              " &#x27;delta_num_trasp_var33_in_1y3&#x27; &#x27;delta_num_trasp_var33_out_1y3&#x27;\n",
              " &#x27;delta_num_venta_var44_1y3&#x27; &#x27;imp_amort_var34_ult1&#x27;\n",
              " &#x27;imp_aport_var13_hace3&#x27; &#x27;imp_aport_var13_ult1&#x27; &#x27;imp_aport_var17_hace3&#x27;\n",
              " &#x27;imp_aport_var17_ult1&#x27; &#x27;imp_aport_var33_hace3&#x27; &#x27;imp_aport_var33_ult1&#x27;\n",
              " &#x27;imp_var7_emit_ult1&#x27; &#x27;imp_var7_recib_ult1&#x27; &#x27;imp_compra_var44_hace3&#x27;\n",
              " &#x27;imp_compra_var44_ult1&#x27; &#x27;imp_reemb_var13_ult1&#x27; &#x27;imp_reemb_var17_hace3&#x27;\n",
              " &#x27;imp_reemb_var17_ult1&#x27; &#x27;imp_var43_emit_ult1&#x27; &#x27;imp_trans_var37_ult1&#x27;\n",
              " &#x27;imp_trasp_var17_in_hace3&#x27; &#x27;imp_trasp_var17_in_ult1&#x27;\n",
              " &#x27;imp_trasp_var17_out_ult1&#x27; &#x27;imp_trasp_var33_in_hace3&#x27;\n",
              " &#x27;imp_trasp_var33_in_ult1&#x27; &#x27;imp_trasp_var33_out_ult1&#x27;\n",
              " &#x27;imp_venta_var44_hace3&#x27; &#x27;imp_venta_var44_ult1&#x27; &#x27;ind_var7_emit_ult1&#x27;\n",
              " &#x27;ind_var7_recib_ult1&#x27; &#x27;ind_var10_ult1&#x27; &#x27;ind_var10cte_ult1&#x27;\n",
              " &#x27;ind_var9_cte_ult1&#x27; &#x27;ind_var9_ult1&#x27; &#x27;ind_var43_emit_ult1&#x27;\n",
              " &#x27;ind_var43_recib_ult1&#x27; &#x27;var21&#x27; &#x27;num_aport_var13_hace3&#x27;\n",
              " &#x27;num_aport_var13_ult1&#x27; &#x27;num_aport_var17_hace3&#x27; &#x27;num_aport_var17_ult1&#x27;\n",
              " &#x27;num_aport_var33_hace3&#x27; &#x27;num_aport_var33_ult1&#x27; &#x27;num_var7_emit_ult1&#x27;\n",
              " &#x27;num_var7_recib_ult1&#x27; &#x27;num_compra_var44_hace3&#x27; &#x27;num_compra_var44_ult1&#x27;\n",
              " &#x27;num_ent_var16_ult1&#x27; &#x27;num_var22_hace2&#x27; &#x27;num_var22_hace3&#x27; &#x27;num_var22_ult1&#x27;\n",
              " &#x27;num_var22_ult3&#x27; &#x27;num_med_var22_ult3&#x27; &#x27;num_med_var45_ult3&#x27;\n",
              " &#x27;num_meses_var5_ult3&#x27; &#x27;num_meses_var8_ult3&#x27; &#x27;num_meses_var12_ult3&#x27;\n",
              " &#x27;num_meses_var13_corto_ult3&#x27; &#x27;num_meses_var13_largo_ult3&#x27;\n",
              " &#x27;num_meses_var17_ult3&#x27; &#x27;num_meses_var29_ult3&#x27; &#x27;num_meses_var33_ult3&#x27;\n",
              " &#x27;num_meses_var39_vig_ult3&#x27; &#x27;num_meses_var44_ult3&#x27;\n",
              " &#x27;num_op_var39_comer_ult1&#x27; &#x27;num_op_var39_comer_ult3&#x27;\n",
              " &#x27;num_op_var40_comer_ult1&#x27; &#x27;num_op_var40_comer_ult3&#x27;\n",
              " &#x27;num_op_var40_efect_ult1&#x27; &#x27;num_op_var40_efect_ult3&#x27;\n",
              " &#x27;num_op_var41_comer_ult1&#x27; &#x27;num_op_var41_comer_ult3&#x27;\n",
              " &#x27;num_op_var41_efect_ult1&#x27; &#x27;num_op_var41_efect_ult3&#x27;\n",
              " &#x27;num_op_var39_efect_ult1&#x27; &#x27;num_op_var39_efect_ult3&#x27;\n",
              " &#x27;num_reemb_var13_ult1&#x27; &#x27;num_reemb_var17_hace3&#x27; &#x27;num_reemb_var17_ult1&#x27;\n",
              " &#x27;num_sal_var16_ult1&#x27; &#x27;num_var43_emit_ult1&#x27; &#x27;num_var43_recib_ult1&#x27;\n",
              " &#x27;num_trasp_var11_ult1&#x27; &#x27;num_trasp_var17_in_hace3&#x27;\n",
              " &#x27;num_trasp_var17_in_ult1&#x27; &#x27;num_trasp_var17_out_ult1&#x27;\n",
              " &#x27;num_trasp_var33_in_hace3&#x27; &#x27;num_trasp_var33_in_ult1&#x27;\n",
              " &#x27;num_trasp_var33_out_ult1&#x27; &#x27;num_venta_var44_hace3&#x27; &#x27;num_venta_var44_ult1&#x27;\n",
              " &#x27;num_var45_hace2&#x27; &#x27;num_var45_hace3&#x27; &#x27;num_var45_ult1&#x27; &#x27;num_var45_ult3&#x27;\n",
              " &#x27;saldo_medio_var5_hace2&#x27; &#x27;saldo_medio_var5_hace3&#x27; &#x27;saldo_medio_var5_ult1&#x27;\n",
              " &#x27;saldo_medio_var5_ult3&#x27; &#x27;saldo_medio_var8_hace2&#x27; &#x27;saldo_medio_var8_hace3&#x27;\n",
              " &#x27;saldo_medio_var8_ult1&#x27; &#x27;saldo_medio_var8_ult3&#x27; &#x27;saldo_medio_var12_hace2&#x27;\n",
              " &#x27;saldo_medio_var12_hace3&#x27; &#x27;saldo_medio_var12_ult1&#x27;\n",
              " &#x27;saldo_medio_var12_ult3&#x27; &#x27;saldo_medio_var13_corto_hace2&#x27;\n",
              " &#x27;saldo_medio_var13_corto_hace3&#x27; &#x27;saldo_medio_var13_corto_ult1&#x27;\n",
              " &#x27;saldo_medio_var13_corto_ult3&#x27; &#x27;saldo_medio_var13_largo_hace2&#x27;\n",
              " &#x27;saldo_medio_var13_largo_hace3&#x27; &#x27;saldo_medio_var13_largo_ult1&#x27;\n",
              " &#x27;saldo_medio_var13_largo_ult3&#x27; &#x27;saldo_medio_var17_hace2&#x27;\n",
              " &#x27;saldo_medio_var17_hace3&#x27; &#x27;saldo_medio_var17_ult1&#x27;\n",
              " &#x27;saldo_medio_var17_ult3&#x27; &#x27;saldo_medio_var29_hace2&#x27;\n",
              " &#x27;saldo_medio_var29_ult1&#x27; &#x27;saldo_medio_var29_ult3&#x27;\n",
              " &#x27;saldo_medio_var33_hace2&#x27; &#x27;saldo_medio_var33_hace3&#x27;\n",
              " &#x27;saldo_medio_var33_ult1&#x27; &#x27;saldo_medio_var33_ult3&#x27;\n",
              " &#x27;saldo_medio_var44_hace2&#x27; &#x27;saldo_medio_var44_hace3&#x27;\n",
              " &#x27;saldo_medio_var44_ult1&#x27; &#x27;saldo_medio_var44_ult3&#x27; &#x27;var38&#x27;]</pre></div></div></div><div class=\"sk-serial\"><div class=\"sk-item\"><div class=\"sk-serial\"><div class=\"sk-item\"><div class=\"sk-estimator sk-toggleable\"><input class=\"sk-toggleable__control sk-hidden--visually\" id=\"sk-estimator-id-31\" type=\"checkbox\" ><label for=\"sk-estimator-id-31\" class=\"sk-toggleable__label sk-toggleable__label-arrow\">SimpleImputer</label><div class=\"sk-toggleable__content\"><pre>SimpleImputer()</pre></div></div></div><div class=\"sk-item\"><div class=\"sk-estimator sk-toggleable\"><input class=\"sk-toggleable__control sk-hidden--visually\" id=\"sk-estimator-id-32\" type=\"checkbox\" ><label for=\"sk-estimator-id-32\" class=\"sk-toggleable__label sk-toggleable__label-arrow\">StandardScaler</label><div class=\"sk-toggleable__content\"><pre>StandardScaler()</pre></div></div></div><div class=\"sk-item\"><div class=\"sk-estimator sk-toggleable\"><input class=\"sk-toggleable__control sk-hidden--visually\" id=\"sk-estimator-id-33\" type=\"checkbox\" ><label for=\"sk-estimator-id-33\" class=\"sk-toggleable__label sk-toggleable__label-arrow\">SelectKBest</label><div class=\"sk-toggleable__content\"><pre>SelectKBest(k=&#x27;all&#x27;)</pre></div></div></div></div></div></div></div></div></div></div></div></div><div class=\"sk-item\"><div class=\"sk-estimator sk-toggleable\"><input class=\"sk-toggleable__control sk-hidden--visually\" id=\"sk-estimator-id-34\" type=\"checkbox\" ><label for=\"sk-estimator-id-34\" class=\"sk-toggleable__label sk-toggleable__label-arrow\">LogisticRegression</label><div class=\"sk-toggleable__content\"><pre>LogisticRegression()</pre></div></div></div></div></div></div></div>"
            ]
          },
          "metadata": {},
          "execution_count": 214
        }
      ]
    },
    {
      "cell_type": "code",
      "source": [
        "classifier_pipline.fit(X_train[non_zero_selected_features], y_train)"
      ],
      "metadata": {
        "colab": {
          "base_uri": "https://localhost:8080/",
          "height": 438
        },
        "id": "WXcgJlH0Vy5N",
        "outputId": "dd9f8af8-d69d-4146-a241-9f7fdd0702c3"
      },
      "execution_count": null,
      "outputs": [
        {
          "output_type": "stream",
          "name": "stderr",
          "text": [
            "/usr/local/lib/python3.10/dist-packages/sklearn/linear_model/_logistic.py:458: ConvergenceWarning: lbfgs failed to converge (status=1):\n",
            "STOP: TOTAL NO. of ITERATIONS REACHED LIMIT.\n",
            "\n",
            "Increase the number of iterations (max_iter) or scale the data as shown in:\n",
            "    https://scikit-learn.org/stable/modules/preprocessing.html\n",
            "Please also refer to the documentation for alternative solver options:\n",
            "    https://scikit-learn.org/stable/modules/linear_model.html#logistic-regression\n",
            "  n_iter_i = _check_optimize_result(\n"
          ]
        },
        {
          "output_type": "execute_result",
          "data": {
            "text/plain": [
              "Pipeline(steps=[('preprocessor',\n",
              "                 Pipeline(steps=[('data_transformer',\n",
              "                                  ColumnTransformer(transformers=[('numerical',\n",
              "                                                                   Pipeline(steps=[('imputer',\n",
              "                                                                                    SimpleImputer()),\n",
              "                                                                                   ('scaler',\n",
              "                                                                                    StandardScaler()),\n",
              "                                                                                   ('fs',\n",
              "                                                                                    SelectKBest(k='all'))]),\n",
              "                                                                   array(['ID', 'var3', 'var15', 'imp_ent_var16_ult1',\n",
              "       'imp_op_var39_comer_ult1', 'imp_op_var39_comer_ult3',\n",
              "       'imp_op_var40_comer_ult1', 'imp_op_v...\n",
              "       'saldo_medio_var17_ult3', 'saldo_medio_var29_hace2',\n",
              "       'saldo_medio_var29_ult1', 'saldo_medio_var29_ult3',\n",
              "       'saldo_medio_var33_hace2', 'saldo_medio_var33_hace3',\n",
              "       'saldo_medio_var33_ult1', 'saldo_medio_var33_ult3',\n",
              "       'saldo_medio_var44_hace2', 'saldo_medio_var44_hace3',\n",
              "       'saldo_medio_var44_ult1', 'saldo_medio_var44_ult3', 'var38'],\n",
              "      dtype=object))]))])),\n",
              "                ('classifier', LogisticRegression())])"
            ],
            "text/html": [
              "<style>#sk-container-id-21 {color: black;background-color: white;}#sk-container-id-21 pre{padding: 0;}#sk-container-id-21 div.sk-toggleable {background-color: white;}#sk-container-id-21 label.sk-toggleable__label {cursor: pointer;display: block;width: 100%;margin-bottom: 0;padding: 0.3em;box-sizing: border-box;text-align: center;}#sk-container-id-21 label.sk-toggleable__label-arrow:before {content: \"▸\";float: left;margin-right: 0.25em;color: #696969;}#sk-container-id-21 label.sk-toggleable__label-arrow:hover:before {color: black;}#sk-container-id-21 div.sk-estimator:hover label.sk-toggleable__label-arrow:before {color: black;}#sk-container-id-21 div.sk-toggleable__content {max-height: 0;max-width: 0;overflow: hidden;text-align: left;background-color: #f0f8ff;}#sk-container-id-21 div.sk-toggleable__content pre {margin: 0.2em;color: black;border-radius: 0.25em;background-color: #f0f8ff;}#sk-container-id-21 input.sk-toggleable__control:checked~div.sk-toggleable__content {max-height: 200px;max-width: 100%;overflow: auto;}#sk-container-id-21 input.sk-toggleable__control:checked~label.sk-toggleable__label-arrow:before {content: \"▾\";}#sk-container-id-21 div.sk-estimator input.sk-toggleable__control:checked~label.sk-toggleable__label {background-color: #d4ebff;}#sk-container-id-21 div.sk-label input.sk-toggleable__control:checked~label.sk-toggleable__label {background-color: #d4ebff;}#sk-container-id-21 input.sk-hidden--visually {border: 0;clip: rect(1px 1px 1px 1px);clip: rect(1px, 1px, 1px, 1px);height: 1px;margin: -1px;overflow: hidden;padding: 0;position: absolute;width: 1px;}#sk-container-id-21 div.sk-estimator {font-family: monospace;background-color: #f0f8ff;border: 1px dotted black;border-radius: 0.25em;box-sizing: border-box;margin-bottom: 0.5em;}#sk-container-id-21 div.sk-estimator:hover {background-color: #d4ebff;}#sk-container-id-21 div.sk-parallel-item::after {content: \"\";width: 100%;border-bottom: 1px solid gray;flex-grow: 1;}#sk-container-id-21 div.sk-label:hover label.sk-toggleable__label {background-color: #d4ebff;}#sk-container-id-21 div.sk-serial::before {content: \"\";position: absolute;border-left: 1px solid gray;box-sizing: border-box;top: 0;bottom: 0;left: 50%;z-index: 0;}#sk-container-id-21 div.sk-serial {display: flex;flex-direction: column;align-items: center;background-color: white;padding-right: 0.2em;padding-left: 0.2em;position: relative;}#sk-container-id-21 div.sk-item {position: relative;z-index: 1;}#sk-container-id-21 div.sk-parallel {display: flex;align-items: stretch;justify-content: center;background-color: white;position: relative;}#sk-container-id-21 div.sk-item::before, #sk-container-id-21 div.sk-parallel-item::before {content: \"\";position: absolute;border-left: 1px solid gray;box-sizing: border-box;top: 0;bottom: 0;left: 50%;z-index: -1;}#sk-container-id-21 div.sk-parallel-item {display: flex;flex-direction: column;z-index: 1;position: relative;background-color: white;}#sk-container-id-21 div.sk-parallel-item:first-child::after {align-self: flex-end;width: 50%;}#sk-container-id-21 div.sk-parallel-item:last-child::after {align-self: flex-start;width: 50%;}#sk-container-id-21 div.sk-parallel-item:only-child::after {width: 0;}#sk-container-id-21 div.sk-dashed-wrapped {border: 1px dashed gray;margin: 0 0.4em 0.5em 0.4em;box-sizing: border-box;padding-bottom: 0.4em;background-color: white;}#sk-container-id-21 div.sk-label label {font-family: monospace;font-weight: bold;display: inline-block;line-height: 1.2em;}#sk-container-id-21 div.sk-label-container {text-align: center;}#sk-container-id-21 div.sk-container {/* jupyter's `normalize.less` sets `[hidden] { display: none; }` but bootstrap.min.css set `[hidden] { display: none !important; }` so we also need the `!important` here to be able to override the default hidden behavior on the sphinx rendered scikit-learn.org. See: https://github.com/scikit-learn/scikit-learn/issues/21755 */display: inline-block !important;position: relative;}#sk-container-id-21 div.sk-text-repr-fallback {display: none;}</style><div id=\"sk-container-id-21\" class=\"sk-top-container\"><div class=\"sk-text-repr-fallback\"><pre>Pipeline(steps=[(&#x27;preprocessor&#x27;,\n",
              "                 Pipeline(steps=[(&#x27;data_transformer&#x27;,\n",
              "                                  ColumnTransformer(transformers=[(&#x27;numerical&#x27;,\n",
              "                                                                   Pipeline(steps=[(&#x27;imputer&#x27;,\n",
              "                                                                                    SimpleImputer()),\n",
              "                                                                                   (&#x27;scaler&#x27;,\n",
              "                                                                                    StandardScaler()),\n",
              "                                                                                   (&#x27;fs&#x27;,\n",
              "                                                                                    SelectKBest(k=&#x27;all&#x27;))]),\n",
              "                                                                   array([&#x27;ID&#x27;, &#x27;var3&#x27;, &#x27;var15&#x27;, &#x27;imp_ent_var16_ult1&#x27;,\n",
              "       &#x27;imp_op_var39_comer_ult1&#x27;, &#x27;imp_op_var39_comer_ult3&#x27;,\n",
              "       &#x27;imp_op_var40_comer_ult1&#x27;, &#x27;imp_op_v...\n",
              "       &#x27;saldo_medio_var17_ult3&#x27;, &#x27;saldo_medio_var29_hace2&#x27;,\n",
              "       &#x27;saldo_medio_var29_ult1&#x27;, &#x27;saldo_medio_var29_ult3&#x27;,\n",
              "       &#x27;saldo_medio_var33_hace2&#x27;, &#x27;saldo_medio_var33_hace3&#x27;,\n",
              "       &#x27;saldo_medio_var33_ult1&#x27;, &#x27;saldo_medio_var33_ult3&#x27;,\n",
              "       &#x27;saldo_medio_var44_hace2&#x27;, &#x27;saldo_medio_var44_hace3&#x27;,\n",
              "       &#x27;saldo_medio_var44_ult1&#x27;, &#x27;saldo_medio_var44_ult3&#x27;, &#x27;var38&#x27;],\n",
              "      dtype=object))]))])),\n",
              "                (&#x27;classifier&#x27;, LogisticRegression())])</pre><b>In a Jupyter environment, please rerun this cell to show the HTML representation or trust the notebook. <br />On GitHub, the HTML representation is unable to render, please try loading this page with nbviewer.org.</b></div><div class=\"sk-container\" hidden><div class=\"sk-item sk-dashed-wrapped\"><div class=\"sk-label-container\"><div class=\"sk-label sk-toggleable\"><input class=\"sk-toggleable__control sk-hidden--visually\" id=\"sk-estimator-id-35\" type=\"checkbox\" ><label for=\"sk-estimator-id-35\" class=\"sk-toggleable__label sk-toggleable__label-arrow\">Pipeline</label><div class=\"sk-toggleable__content\"><pre>Pipeline(steps=[(&#x27;preprocessor&#x27;,\n",
              "                 Pipeline(steps=[(&#x27;data_transformer&#x27;,\n",
              "                                  ColumnTransformer(transformers=[(&#x27;numerical&#x27;,\n",
              "                                                                   Pipeline(steps=[(&#x27;imputer&#x27;,\n",
              "                                                                                    SimpleImputer()),\n",
              "                                                                                   (&#x27;scaler&#x27;,\n",
              "                                                                                    StandardScaler()),\n",
              "                                                                                   (&#x27;fs&#x27;,\n",
              "                                                                                    SelectKBest(k=&#x27;all&#x27;))]),\n",
              "                                                                   array([&#x27;ID&#x27;, &#x27;var3&#x27;, &#x27;var15&#x27;, &#x27;imp_ent_var16_ult1&#x27;,\n",
              "       &#x27;imp_op_var39_comer_ult1&#x27;, &#x27;imp_op_var39_comer_ult3&#x27;,\n",
              "       &#x27;imp_op_var40_comer_ult1&#x27;, &#x27;imp_op_v...\n",
              "       &#x27;saldo_medio_var17_ult3&#x27;, &#x27;saldo_medio_var29_hace2&#x27;,\n",
              "       &#x27;saldo_medio_var29_ult1&#x27;, &#x27;saldo_medio_var29_ult3&#x27;,\n",
              "       &#x27;saldo_medio_var33_hace2&#x27;, &#x27;saldo_medio_var33_hace3&#x27;,\n",
              "       &#x27;saldo_medio_var33_ult1&#x27;, &#x27;saldo_medio_var33_ult3&#x27;,\n",
              "       &#x27;saldo_medio_var44_hace2&#x27;, &#x27;saldo_medio_var44_hace3&#x27;,\n",
              "       &#x27;saldo_medio_var44_ult1&#x27;, &#x27;saldo_medio_var44_ult3&#x27;, &#x27;var38&#x27;],\n",
              "      dtype=object))]))])),\n",
              "                (&#x27;classifier&#x27;, LogisticRegression())])</pre></div></div></div><div class=\"sk-serial\"><div class=\"sk-item\"><div class=\"sk-label-container\"><div class=\"sk-label sk-toggleable\"><input class=\"sk-toggleable__control sk-hidden--visually\" id=\"sk-estimator-id-36\" type=\"checkbox\" ><label for=\"sk-estimator-id-36\" class=\"sk-toggleable__label sk-toggleable__label-arrow\">preprocessor: Pipeline</label><div class=\"sk-toggleable__content\"><pre>Pipeline(steps=[(&#x27;data_transformer&#x27;,\n",
              "                 ColumnTransformer(transformers=[(&#x27;numerical&#x27;,\n",
              "                                                  Pipeline(steps=[(&#x27;imputer&#x27;,\n",
              "                                                                   SimpleImputer()),\n",
              "                                                                  (&#x27;scaler&#x27;,\n",
              "                                                                   StandardScaler()),\n",
              "                                                                  (&#x27;fs&#x27;,\n",
              "                                                                   SelectKBest(k=&#x27;all&#x27;))]),\n",
              "                                                  array([&#x27;ID&#x27;, &#x27;var3&#x27;, &#x27;var15&#x27;, &#x27;imp_ent_var16_ult1&#x27;,\n",
              "       &#x27;imp_op_var39_comer_ult1&#x27;, &#x27;imp_op_var39_comer_ult3&#x27;,\n",
              "       &#x27;imp_op_var40_comer_ult1&#x27;, &#x27;imp_op_var40_comer_ult3&#x27;,\n",
              "       &#x27;imp_op_var40_e...\n",
              "       &#x27;saldo_medio_var17_hace3&#x27;, &#x27;saldo_medio_var17_ult1&#x27;,\n",
              "       &#x27;saldo_medio_var17_ult3&#x27;, &#x27;saldo_medio_var29_hace2&#x27;,\n",
              "       &#x27;saldo_medio_var29_ult1&#x27;, &#x27;saldo_medio_var29_ult3&#x27;,\n",
              "       &#x27;saldo_medio_var33_hace2&#x27;, &#x27;saldo_medio_var33_hace3&#x27;,\n",
              "       &#x27;saldo_medio_var33_ult1&#x27;, &#x27;saldo_medio_var33_ult3&#x27;,\n",
              "       &#x27;saldo_medio_var44_hace2&#x27;, &#x27;saldo_medio_var44_hace3&#x27;,\n",
              "       &#x27;saldo_medio_var44_ult1&#x27;, &#x27;saldo_medio_var44_ult3&#x27;, &#x27;var38&#x27;],\n",
              "      dtype=object))]))])</pre></div></div></div><div class=\"sk-serial\"><div class=\"sk-item sk-dashed-wrapped\"><div class=\"sk-label-container\"><div class=\"sk-label sk-toggleable\"><input class=\"sk-toggleable__control sk-hidden--visually\" id=\"sk-estimator-id-37\" type=\"checkbox\" ><label for=\"sk-estimator-id-37\" class=\"sk-toggleable__label sk-toggleable__label-arrow\">data_transformer: ColumnTransformer</label><div class=\"sk-toggleable__content\"><pre>ColumnTransformer(transformers=[(&#x27;numerical&#x27;,\n",
              "                                 Pipeline(steps=[(&#x27;imputer&#x27;, SimpleImputer()),\n",
              "                                                 (&#x27;scaler&#x27;, StandardScaler()),\n",
              "                                                 (&#x27;fs&#x27;, SelectKBest(k=&#x27;all&#x27;))]),\n",
              "                                 array([&#x27;ID&#x27;, &#x27;var3&#x27;, &#x27;var15&#x27;, &#x27;imp_ent_var16_ult1&#x27;,\n",
              "       &#x27;imp_op_var39_comer_ult1&#x27;, &#x27;imp_op_var39_comer_ult3&#x27;,\n",
              "       &#x27;imp_op_var40_comer_ult1&#x27;, &#x27;imp_op_var40_comer_ult3&#x27;,\n",
              "       &#x27;imp_op_var40_efect_ult1&#x27;, &#x27;imp_op_var40_efect_ult3&#x27;...\n",
              "       &#x27;saldo_medio_var17_hace3&#x27;, &#x27;saldo_medio_var17_ult1&#x27;,\n",
              "       &#x27;saldo_medio_var17_ult3&#x27;, &#x27;saldo_medio_var29_hace2&#x27;,\n",
              "       &#x27;saldo_medio_var29_ult1&#x27;, &#x27;saldo_medio_var29_ult3&#x27;,\n",
              "       &#x27;saldo_medio_var33_hace2&#x27;, &#x27;saldo_medio_var33_hace3&#x27;,\n",
              "       &#x27;saldo_medio_var33_ult1&#x27;, &#x27;saldo_medio_var33_ult3&#x27;,\n",
              "       &#x27;saldo_medio_var44_hace2&#x27;, &#x27;saldo_medio_var44_hace3&#x27;,\n",
              "       &#x27;saldo_medio_var44_ult1&#x27;, &#x27;saldo_medio_var44_ult3&#x27;, &#x27;var38&#x27;],\n",
              "      dtype=object))])</pre></div></div></div><div class=\"sk-parallel\"><div class=\"sk-parallel-item\"><div class=\"sk-item\"><div class=\"sk-label-container\"><div class=\"sk-label sk-toggleable\"><input class=\"sk-toggleable__control sk-hidden--visually\" id=\"sk-estimator-id-38\" type=\"checkbox\" ><label for=\"sk-estimator-id-38\" class=\"sk-toggleable__label sk-toggleable__label-arrow\">numerical</label><div class=\"sk-toggleable__content\"><pre>[&#x27;ID&#x27; &#x27;var3&#x27; &#x27;var15&#x27; &#x27;imp_ent_var16_ult1&#x27; &#x27;imp_op_var39_comer_ult1&#x27;\n",
              " &#x27;imp_op_var39_comer_ult3&#x27; &#x27;imp_op_var40_comer_ult1&#x27;\n",
              " &#x27;imp_op_var40_comer_ult3&#x27; &#x27;imp_op_var40_efect_ult1&#x27;\n",
              " &#x27;imp_op_var40_efect_ult3&#x27; &#x27;imp_op_var40_ult1&#x27; &#x27;imp_op_var41_comer_ult1&#x27;\n",
              " &#x27;imp_op_var41_comer_ult3&#x27; &#x27;imp_op_var41_efect_ult1&#x27;\n",
              " &#x27;imp_op_var41_efect_ult3&#x27; &#x27;imp_op_var41_ult1&#x27; &#x27;imp_op_var39_efect_ult1&#x27;\n",
              " &#x27;imp_op_var39_efect_ult3&#x27; &#x27;imp_op_var39_ult1&#x27; &#x27;imp_sal_var16_ult1&#x27;\n",
              " &#x27;ind_var1_0&#x27; &#x27;ind_var1&#x27; &#x27;ind_var5_0&#x27; &#x27;ind_var5&#x27; &#x27;ind_var6_0&#x27; &#x27;ind_var6&#x27;\n",
              " &#x27;ind_var8_0&#x27; &#x27;ind_var8&#x27; &#x27;ind_var12_0&#x27; &#x27;ind_var12&#x27; &#x27;ind_var13_0&#x27;\n",
              " &#x27;ind_var13_corto_0&#x27; &#x27;ind_var13_corto&#x27; &#x27;ind_var13_largo_0&#x27;\n",
              " &#x27;ind_var13_largo&#x27; &#x27;ind_var13&#x27; &#x27;ind_var14_0&#x27; &#x27;ind_var14&#x27; &#x27;ind_var17_0&#x27;\n",
              " &#x27;ind_var17&#x27; &#x27;ind_var19&#x27; &#x27;ind_var20_0&#x27; &#x27;ind_var20&#x27; &#x27;ind_var24_0&#x27;\n",
              " &#x27;ind_var24&#x27; &#x27;ind_var25_cte&#x27; &#x27;ind_var26_0&#x27; &#x27;ind_var26_cte&#x27; &#x27;ind_var26&#x27;\n",
              " &#x27;ind_var25_0&#x27; &#x27;ind_var25&#x27; &#x27;ind_var29_0&#x27; &#x27;ind_var29&#x27; &#x27;ind_var30_0&#x27;\n",
              " &#x27;ind_var30&#x27; &#x27;ind_var31_0&#x27; &#x27;ind_var31&#x27; &#x27;ind_var32_cte&#x27; &#x27;ind_var32_0&#x27;\n",
              " &#x27;ind_var32&#x27; &#x27;ind_var33_0&#x27; &#x27;ind_var33&#x27; &#x27;ind_var34_0&#x27; &#x27;ind_var34&#x27;\n",
              " &#x27;ind_var37_cte&#x27; &#x27;ind_var37_0&#x27; &#x27;ind_var37&#x27; &#x27;ind_var39_0&#x27; &#x27;ind_var40_0&#x27;\n",
              " &#x27;ind_var40&#x27; &#x27;ind_var41_0&#x27; &#x27;ind_var39&#x27; &#x27;ind_var44_0&#x27; &#x27;ind_var44&#x27;\n",
              " &#x27;num_var1_0&#x27; &#x27;num_var1&#x27; &#x27;num_var4&#x27; &#x27;num_var5_0&#x27; &#x27;num_var5&#x27; &#x27;num_var6_0&#x27;\n",
              " &#x27;num_var6&#x27; &#x27;num_var8_0&#x27; &#x27;num_var8&#x27; &#x27;num_var12_0&#x27; &#x27;num_var12&#x27;\n",
              " &#x27;num_var13_0&#x27; &#x27;num_var13_corto_0&#x27; &#x27;num_var13_corto&#x27; &#x27;num_var13_largo_0&#x27;\n",
              " &#x27;num_var13_largo&#x27; &#x27;num_var13&#x27; &#x27;num_var14_0&#x27; &#x27;num_var14&#x27; &#x27;num_var17_0&#x27;\n",
              " &#x27;num_var17&#x27; &#x27;num_var20_0&#x27; &#x27;num_var20&#x27; &#x27;num_var24_0&#x27; &#x27;num_var24&#x27;\n",
              " &#x27;num_var26_0&#x27; &#x27;num_var26&#x27; &#x27;num_var25_0&#x27; &#x27;num_var25&#x27; &#x27;num_op_var40_hace2&#x27;\n",
              " &#x27;num_op_var40_hace3&#x27; &#x27;num_op_var40_ult1&#x27; &#x27;num_op_var40_ult3&#x27;\n",
              " &#x27;num_op_var41_hace2&#x27; &#x27;num_op_var41_hace3&#x27; &#x27;num_op_var41_ult1&#x27;\n",
              " &#x27;num_op_var41_ult3&#x27; &#x27;num_op_var39_hace2&#x27; &#x27;num_op_var39_hace3&#x27;\n",
              " &#x27;num_op_var39_ult1&#x27; &#x27;num_op_var39_ult3&#x27; &#x27;num_var29_0&#x27; &#x27;num_var29&#x27;\n",
              " &#x27;num_var30_0&#x27; &#x27;num_var30&#x27; &#x27;num_var31_0&#x27; &#x27;num_var31&#x27; &#x27;num_var32_0&#x27;\n",
              " &#x27;num_var32&#x27; &#x27;num_var33_0&#x27; &#x27;num_var33&#x27; &#x27;num_var34_0&#x27; &#x27;num_var34&#x27;\n",
              " &#x27;num_var35&#x27; &#x27;num_var37_med_ult2&#x27; &#x27;num_var37_0&#x27; &#x27;num_var37&#x27; &#x27;num_var39_0&#x27;\n",
              " &#x27;num_var40_0&#x27; &#x27;num_var40&#x27; &#x27;num_var41_0&#x27; &#x27;num_var39&#x27; &#x27;num_var42_0&#x27;\n",
              " &#x27;num_var42&#x27; &#x27;num_var44_0&#x27; &#x27;num_var44&#x27; &#x27;saldo_var1&#x27; &#x27;saldo_var5&#x27;\n",
              " &#x27;saldo_var6&#x27; &#x27;saldo_var8&#x27; &#x27;saldo_var12&#x27; &#x27;saldo_var13_corto&#x27;\n",
              " &#x27;saldo_var13_largo&#x27; &#x27;saldo_var13&#x27; &#x27;saldo_var14&#x27; &#x27;saldo_var17&#x27;\n",
              " &#x27;saldo_var20&#x27; &#x27;saldo_var24&#x27; &#x27;saldo_var26&#x27; &#x27;saldo_var25&#x27; &#x27;saldo_var29&#x27;\n",
              " &#x27;saldo_var30&#x27; &#x27;saldo_var31&#x27; &#x27;saldo_var32&#x27; &#x27;saldo_var33&#x27; &#x27;saldo_var34&#x27;\n",
              " &#x27;saldo_var37&#x27; &#x27;saldo_var40&#x27; &#x27;saldo_var42&#x27; &#x27;saldo_var44&#x27; &#x27;var36&#x27;\n",
              " &#x27;delta_imp_amort_var34_1y3&#x27; &#x27;delta_imp_aport_var13_1y3&#x27;\n",
              " &#x27;delta_imp_aport_var17_1y3&#x27; &#x27;delta_imp_aport_var33_1y3&#x27;\n",
              " &#x27;delta_imp_compra_var44_1y3&#x27; &#x27;delta_imp_reemb_var13_1y3&#x27;\n",
              " &#x27;delta_imp_reemb_var17_1y3&#x27; &#x27;delta_imp_trasp_var17_in_1y3&#x27;\n",
              " &#x27;delta_imp_trasp_var17_out_1y3&#x27; &#x27;delta_imp_trasp_var33_in_1y3&#x27;\n",
              " &#x27;delta_imp_trasp_var33_out_1y3&#x27; &#x27;delta_imp_venta_var44_1y3&#x27;\n",
              " &#x27;delta_num_aport_var13_1y3&#x27; &#x27;delta_num_aport_var17_1y3&#x27;\n",
              " &#x27;delta_num_aport_var33_1y3&#x27; &#x27;delta_num_compra_var44_1y3&#x27;\n",
              " &#x27;delta_num_reemb_var13_1y3&#x27; &#x27;delta_num_reemb_var17_1y3&#x27;\n",
              " &#x27;delta_num_trasp_var17_in_1y3&#x27; &#x27;delta_num_trasp_var17_out_1y3&#x27;\n",
              " &#x27;delta_num_trasp_var33_in_1y3&#x27; &#x27;delta_num_trasp_var33_out_1y3&#x27;\n",
              " &#x27;delta_num_venta_var44_1y3&#x27; &#x27;imp_amort_var34_ult1&#x27;\n",
              " &#x27;imp_aport_var13_hace3&#x27; &#x27;imp_aport_var13_ult1&#x27; &#x27;imp_aport_var17_hace3&#x27;\n",
              " &#x27;imp_aport_var17_ult1&#x27; &#x27;imp_aport_var33_hace3&#x27; &#x27;imp_aport_var33_ult1&#x27;\n",
              " &#x27;imp_var7_emit_ult1&#x27; &#x27;imp_var7_recib_ult1&#x27; &#x27;imp_compra_var44_hace3&#x27;\n",
              " &#x27;imp_compra_var44_ult1&#x27; &#x27;imp_reemb_var13_ult1&#x27; &#x27;imp_reemb_var17_hace3&#x27;\n",
              " &#x27;imp_reemb_var17_ult1&#x27; &#x27;imp_var43_emit_ult1&#x27; &#x27;imp_trans_var37_ult1&#x27;\n",
              " &#x27;imp_trasp_var17_in_hace3&#x27; &#x27;imp_trasp_var17_in_ult1&#x27;\n",
              " &#x27;imp_trasp_var17_out_ult1&#x27; &#x27;imp_trasp_var33_in_hace3&#x27;\n",
              " &#x27;imp_trasp_var33_in_ult1&#x27; &#x27;imp_trasp_var33_out_ult1&#x27;\n",
              " &#x27;imp_venta_var44_hace3&#x27; &#x27;imp_venta_var44_ult1&#x27; &#x27;ind_var7_emit_ult1&#x27;\n",
              " &#x27;ind_var7_recib_ult1&#x27; &#x27;ind_var10_ult1&#x27; &#x27;ind_var10cte_ult1&#x27;\n",
              " &#x27;ind_var9_cte_ult1&#x27; &#x27;ind_var9_ult1&#x27; &#x27;ind_var43_emit_ult1&#x27;\n",
              " &#x27;ind_var43_recib_ult1&#x27; &#x27;var21&#x27; &#x27;num_aport_var13_hace3&#x27;\n",
              " &#x27;num_aport_var13_ult1&#x27; &#x27;num_aport_var17_hace3&#x27; &#x27;num_aport_var17_ult1&#x27;\n",
              " &#x27;num_aport_var33_hace3&#x27; &#x27;num_aport_var33_ult1&#x27; &#x27;num_var7_emit_ult1&#x27;\n",
              " &#x27;num_var7_recib_ult1&#x27; &#x27;num_compra_var44_hace3&#x27; &#x27;num_compra_var44_ult1&#x27;\n",
              " &#x27;num_ent_var16_ult1&#x27; &#x27;num_var22_hace2&#x27; &#x27;num_var22_hace3&#x27; &#x27;num_var22_ult1&#x27;\n",
              " &#x27;num_var22_ult3&#x27; &#x27;num_med_var22_ult3&#x27; &#x27;num_med_var45_ult3&#x27;\n",
              " &#x27;num_meses_var5_ult3&#x27; &#x27;num_meses_var8_ult3&#x27; &#x27;num_meses_var12_ult3&#x27;\n",
              " &#x27;num_meses_var13_corto_ult3&#x27; &#x27;num_meses_var13_largo_ult3&#x27;\n",
              " &#x27;num_meses_var17_ult3&#x27; &#x27;num_meses_var29_ult3&#x27; &#x27;num_meses_var33_ult3&#x27;\n",
              " &#x27;num_meses_var39_vig_ult3&#x27; &#x27;num_meses_var44_ult3&#x27;\n",
              " &#x27;num_op_var39_comer_ult1&#x27; &#x27;num_op_var39_comer_ult3&#x27;\n",
              " &#x27;num_op_var40_comer_ult1&#x27; &#x27;num_op_var40_comer_ult3&#x27;\n",
              " &#x27;num_op_var40_efect_ult1&#x27; &#x27;num_op_var40_efect_ult3&#x27;\n",
              " &#x27;num_op_var41_comer_ult1&#x27; &#x27;num_op_var41_comer_ult3&#x27;\n",
              " &#x27;num_op_var41_efect_ult1&#x27; &#x27;num_op_var41_efect_ult3&#x27;\n",
              " &#x27;num_op_var39_efect_ult1&#x27; &#x27;num_op_var39_efect_ult3&#x27;\n",
              " &#x27;num_reemb_var13_ult1&#x27; &#x27;num_reemb_var17_hace3&#x27; &#x27;num_reemb_var17_ult1&#x27;\n",
              " &#x27;num_sal_var16_ult1&#x27; &#x27;num_var43_emit_ult1&#x27; &#x27;num_var43_recib_ult1&#x27;\n",
              " &#x27;num_trasp_var11_ult1&#x27; &#x27;num_trasp_var17_in_hace3&#x27;\n",
              " &#x27;num_trasp_var17_in_ult1&#x27; &#x27;num_trasp_var17_out_ult1&#x27;\n",
              " &#x27;num_trasp_var33_in_hace3&#x27; &#x27;num_trasp_var33_in_ult1&#x27;\n",
              " &#x27;num_trasp_var33_out_ult1&#x27; &#x27;num_venta_var44_hace3&#x27; &#x27;num_venta_var44_ult1&#x27;\n",
              " &#x27;num_var45_hace2&#x27; &#x27;num_var45_hace3&#x27; &#x27;num_var45_ult1&#x27; &#x27;num_var45_ult3&#x27;\n",
              " &#x27;saldo_medio_var5_hace2&#x27; &#x27;saldo_medio_var5_hace3&#x27; &#x27;saldo_medio_var5_ult1&#x27;\n",
              " &#x27;saldo_medio_var5_ult3&#x27; &#x27;saldo_medio_var8_hace2&#x27; &#x27;saldo_medio_var8_hace3&#x27;\n",
              " &#x27;saldo_medio_var8_ult1&#x27; &#x27;saldo_medio_var8_ult3&#x27; &#x27;saldo_medio_var12_hace2&#x27;\n",
              " &#x27;saldo_medio_var12_hace3&#x27; &#x27;saldo_medio_var12_ult1&#x27;\n",
              " &#x27;saldo_medio_var12_ult3&#x27; &#x27;saldo_medio_var13_corto_hace2&#x27;\n",
              " &#x27;saldo_medio_var13_corto_hace3&#x27; &#x27;saldo_medio_var13_corto_ult1&#x27;\n",
              " &#x27;saldo_medio_var13_corto_ult3&#x27; &#x27;saldo_medio_var13_largo_hace2&#x27;\n",
              " &#x27;saldo_medio_var13_largo_hace3&#x27; &#x27;saldo_medio_var13_largo_ult1&#x27;\n",
              " &#x27;saldo_medio_var13_largo_ult3&#x27; &#x27;saldo_medio_var17_hace2&#x27;\n",
              " &#x27;saldo_medio_var17_hace3&#x27; &#x27;saldo_medio_var17_ult1&#x27;\n",
              " &#x27;saldo_medio_var17_ult3&#x27; &#x27;saldo_medio_var29_hace2&#x27;\n",
              " &#x27;saldo_medio_var29_ult1&#x27; &#x27;saldo_medio_var29_ult3&#x27;\n",
              " &#x27;saldo_medio_var33_hace2&#x27; &#x27;saldo_medio_var33_hace3&#x27;\n",
              " &#x27;saldo_medio_var33_ult1&#x27; &#x27;saldo_medio_var33_ult3&#x27;\n",
              " &#x27;saldo_medio_var44_hace2&#x27; &#x27;saldo_medio_var44_hace3&#x27;\n",
              " &#x27;saldo_medio_var44_ult1&#x27; &#x27;saldo_medio_var44_ult3&#x27; &#x27;var38&#x27;]</pre></div></div></div><div class=\"sk-serial\"><div class=\"sk-item\"><div class=\"sk-serial\"><div class=\"sk-item\"><div class=\"sk-estimator sk-toggleable\"><input class=\"sk-toggleable__control sk-hidden--visually\" id=\"sk-estimator-id-39\" type=\"checkbox\" ><label for=\"sk-estimator-id-39\" class=\"sk-toggleable__label sk-toggleable__label-arrow\">SimpleImputer</label><div class=\"sk-toggleable__content\"><pre>SimpleImputer()</pre></div></div></div><div class=\"sk-item\"><div class=\"sk-estimator sk-toggleable\"><input class=\"sk-toggleable__control sk-hidden--visually\" id=\"sk-estimator-id-40\" type=\"checkbox\" ><label for=\"sk-estimator-id-40\" class=\"sk-toggleable__label sk-toggleable__label-arrow\">StandardScaler</label><div class=\"sk-toggleable__content\"><pre>StandardScaler()</pre></div></div></div><div class=\"sk-item\"><div class=\"sk-estimator sk-toggleable\"><input class=\"sk-toggleable__control sk-hidden--visually\" id=\"sk-estimator-id-41\" type=\"checkbox\" ><label for=\"sk-estimator-id-41\" class=\"sk-toggleable__label sk-toggleable__label-arrow\">SelectKBest</label><div class=\"sk-toggleable__content\"><pre>SelectKBest(k=&#x27;all&#x27;)</pre></div></div></div></div></div></div></div></div></div></div></div></div><div class=\"sk-item\"><div class=\"sk-estimator sk-toggleable\"><input class=\"sk-toggleable__control sk-hidden--visually\" id=\"sk-estimator-id-42\" type=\"checkbox\" ><label for=\"sk-estimator-id-42\" class=\"sk-toggleable__label sk-toggleable__label-arrow\">LogisticRegression</label><div class=\"sk-toggleable__content\"><pre>LogisticRegression()</pre></div></div></div></div></div></div></div>"
            ]
          },
          "metadata": {},
          "execution_count": 215
        }
      ]
    },
    {
      "cell_type": "code",
      "source": [
        "preds_test_proba = classifier_pipline.predict_proba(X_test_scaled[non_zero_selected_features])[:, 1]\n",
        "\n",
        "roc_auc_score(y_test, preds_test_proba)"
      ],
      "metadata": {
        "colab": {
          "base_uri": "https://localhost:8080/"
        },
        "id": "uV-juGeSV5P-",
        "outputId": "61630c1e-e71f-4e79-ae84-1f2a70882613"
      },
      "execution_count": null,
      "outputs": [
        {
          "output_type": "execute_result",
          "data": {
            "text/plain": [
              "0.7277700918492194"
            ]
          },
          "metadata": {},
          "execution_count": 217
        }
      ]
    }
  ]
}