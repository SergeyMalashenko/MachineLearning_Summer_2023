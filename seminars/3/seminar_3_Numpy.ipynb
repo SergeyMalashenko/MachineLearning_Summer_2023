{
 "cells": [
  {
   "cell_type": "markdown",
   "id": "7c52183b-cd76-42b9-8a1e-f8add6b9b442",
   "metadata": {},
   "source": [
    "# Введение в NumPy"
   ]
  },
  {
   "cell_type": "code",
   "execution_count": 1,
   "id": "96c3e76e-654d-493c-892a-43ab5d950942",
   "metadata": {
    "tags": []
   },
   "outputs": [
    {
     "data": {
      "text/plain": [
       "'1.22.1'"
      ]
     },
     "execution_count": 1,
     "metadata": {},
     "output_type": "execute_result"
    }
   ],
   "source": [
    "import numpy\n",
    "numpy.__version__"
   ]
  },
  {
   "cell_type": "code",
   "execution_count": 2,
   "id": "f0e81c54-0b2a-4da5-b472-2ff9f091c22c",
   "metadata": {
    "tags": []
   },
   "outputs": [],
   "source": [
    "import numpy as np"
   ]
  },
  {
   "cell_type": "markdown",
   "id": "16173863-beb0-4e3b-82b6-a01f1abe1dd3",
   "metadata": {},
   "source": [
    "## Встроенная документация\n",
    "\n",
    "IPython дает вам возможность быстро изучить содержимое модуля, а также документацию к различным функциям (с помощью символа `?`). Для получения более подробной информации о них обратитесь к [Help and Documentation in IPython](01.01-Help-And-Documentation.ipynb).\n",
    "\n",
    "Например, чтобы отобразить все содержимое пространства имен NumPy, вы можете набрать следующее:\n",
    "\n",
    "``ipython\n",
    "В [3]: np.<TAB>\n",
    "```\n",
    "\n",
    "А чтобы отобразить встроенную документацию NumPy, вы можете использовать следующее:\n",
    "\n",
    "``ipython\n",
    "In [4]: np?\n",
    "```\n",
    "\n",
    "Более подробную документацию, а также учебники и другие ресурсы можно найти на сайте http://www.numpy.org."
   ]
  },
  {
   "cell_type": "markdown",
   "id": "90b4d429-25ce-497e-b979-5412ac1df521",
   "metadata": {},
   "source": [
    "### Создание массивов Numpy"
   ]
  },
  {
   "cell_type": "code",
   "execution_count": 7,
   "id": "82949535-6ce8-4f4b-9f17-aa04f5d6b0f9",
   "metadata": {
    "tags": []
   },
   "outputs": [],
   "source": [
    "import numpy as np"
   ]
  },
  {
   "cell_type": "code",
   "execution_count": 14,
   "id": "1096b5ab-d3dd-4335-8190-8679a51287df",
   "metadata": {
    "tags": []
   },
   "outputs": [
    {
     "data": {
      "text/plain": [
       "array([[1., 1., 1., 1., 1.],\n",
       "       [1., 1., 1., 1., 1.],\n",
       "       [1., 1., 1., 1., 1.]])"
      ]
     },
     "execution_count": 14,
     "metadata": {},
     "output_type": "execute_result"
    }
   ],
   "source": [
    "# Создание целочисленный массива из списка\n",
    "np.array([1, 4, 2, 5, 3])\n",
    "# Создание массива чисел с плавающей точкой из списка\n",
    "np.array([3.14, 4, 2, 3])\n",
    "# Создание массива данных, заполненого нулями\n",
    "np.zeros(10, dtype=int)\n",
    "# Создание массива 3x5, заполенного единицами\n",
    "np.ones((3, 5), dtype=float)"
   ]
  },
  {
   "cell_type": "markdown",
   "id": "837c640b-a1d7-441b-b6d8-5373b6376261",
   "metadata": {},
   "source": [
    "### NumPy стандартные типы данных\n",
    "\n",
    "Стандартные типы данных NumPy перечислены в следующей таблице.\n",
    "Обратите внимание, что при построении массива их можно указать с помощью строки:\n",
    "\n",
    "```python\n",
    "np.zeros(10, dtype='int16')\n",
    "```\n",
    "\n",
    "Или с помощью связанного объекта NumPy:\n",
    "\n",
    "```python\n",
    "np.zeros(10, dtype=np.int16)\n",
    "```\n",
    "\n",
    "| Data type\t | Description |\n",
    "|-------------|-------------|\n",
    "| `bool_`     | Boolean (True or False) stored as a byte |\n",
    "| `int_`      | Default integer type (same as C `long`; normally either `int64` or `int32`)| \n",
    "| `intc`      | Identical to C `int` (normally `int32` or `int64`)| \n",
    "| `intp`      | Integer used for indexing (same as C `ssize_t`; normally either `int32` or `int64`)| \n",
    "| `int8`      | Byte (–128 to 127)| \n",
    "| `int16`     | Integer (–32768 to 32767)|\n",
    "| `int32`     | Integer (–2147483648 to 2147483647)|\n",
    "| `int64`     | Integer (–9223372036854775808 to 9223372036854775807)| \n",
    "| `uint8`     | Unsigned integer (0 to 255)| \n",
    "| `uint16`    | Unsigned integer (0 to 65535)| \n",
    "| `uint32`    | Unsigned integer (0 to 4294967295)| \n",
    "| `uint64`    | Unsigned integer (0 to 18446744073709551615)| \n",
    "| `float_`    | Shorthand for `float64`| \n",
    "| `float16`   | Half-precision float: sign bit, 5 bits exponent, 10 bits mantissa| \n",
    "| `float32`   | Single-precision float: sign bit, 8 bits exponent, 23 bits mantissa| \n",
    "| `float64`   | Double-precision float: sign bit, 11 bits exponent, 52 bits mantissa| \n",
    "| `complex_`  | Shorthand for `complex128`| \n",
    "| `complex64` | Complex number, represented by two 32-bit floats| \n",
    "| `complex128`| Complex number, represented by two 64-bit floats| "
   ]
  },
  {
   "cell_type": "code",
   "execution_count": null,
   "id": "39e339a2-9ac2-4287-b5fe-f0aa92cd1ac2",
   "metadata": {},
   "outputs": [],
   "source": []
  },
  {
   "cell_type": "code",
   "execution_count": null,
   "id": "8ebb9862-2514-4c97-a553-b063bd1dff2f",
   "metadata": {},
   "outputs": [],
   "source": []
  },
  {
   "cell_type": "code",
   "execution_count": null,
   "id": "9911ba43-496f-4538-8c23-a372a1a80121",
   "metadata": {},
   "outputs": [],
   "source": []
  },
  {
   "cell_type": "code",
   "execution_count": null,
   "id": "f7bd3a20-baf7-4142-93cf-e14441b913d2",
   "metadata": {},
   "outputs": [],
   "source": []
  }
 ],
 "metadata": {
  "kernelspec": {
   "display_name": "Python 3 (ipykernel)",
   "language": "python",
   "name": "python3"
  },
  "language_info": {
   "codemirror_mode": {
    "name": "ipython",
    "version": 3
   },
   "file_extension": ".py",
   "mimetype": "text/x-python",
   "name": "python",
   "nbconvert_exporter": "python",
   "pygments_lexer": "ipython3",
   "version": "3.8.10"
  }
 },
 "nbformat": 4,
 "nbformat_minor": 5
}
