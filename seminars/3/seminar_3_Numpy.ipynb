{
 "cells": [
  {
   "cell_type": "markdown",
   "id": "7c52183b-cd76-42b9-8a1e-f8add6b9b442",
   "metadata": {},
   "source": [
    "# Семинар 3: Введение в NumPy"
   ]
  },
  {
   "cell_type": "markdown",
   "id": "19ae4013-82f5-4af6-9332-326394d6f663",
   "metadata": {},
   "source": [
    "<a href=\"https://colab.research.google.com/github/SergeyMalashenko/MachineLearning_Summer_2023/blob/main/seminars/3/seminar_3_Numpy.ipynb\"><img align=\"left\" src=\"https://colab.research.google.com/assets/colab-badge.svg\" alt=\"Open in Colab\" title=\"Open and Execute in Google Colaboratory\"></a>"
   ]
  },
  {
   "cell_type": "code",
   "execution_count": 201,
   "id": "96c3e76e-654d-493c-892a-43ab5d950942",
   "metadata": {
    "tags": []
   },
   "outputs": [
    {
     "data": {
      "text/plain": [
       "'1.22.1'"
      ]
     },
     "execution_count": 201,
     "metadata": {},
     "output_type": "execute_result"
    }
   ],
   "source": [
    "import numpy\n",
    "numpy.__version__"
   ]
  },
  {
   "cell_type": "code",
   "execution_count": 202,
   "id": "f0e81c54-0b2a-4da5-b472-2ff9f091c22c",
   "metadata": {
    "tags": []
   },
   "outputs": [],
   "source": [
    "import numpy as np"
   ]
  },
  {
   "cell_type": "markdown",
   "id": "16173863-beb0-4e3b-82b6-a01f1abe1dd3",
   "metadata": {},
   "source": [
    "## Встроенная документация\n",
    "\n",
    "IPython дает вам возможность быстро изучить содержимое модуля, а также документацию к различным функциям (с помощью символа `?`).\n",
    "\n",
    "Например, чтобы отобразить все содержимое пространства имен NumPy, вы можете набрать следующее:\n",
    "\n",
    "```ipython\n",
    "В [3]: np.<TAB>\n",
    "```\n",
    "\n",
    "А чтобы отобразить встроенную документацию NumPy, вы можете использовать следующее:\n",
    "\n",
    "```ipython\n",
    "In [4]: np?\n",
    "```\n",
    "\n",
    "Более подробную документацию, а также учебники и другие ресурсы можно найти на сайте http://www.numpy.org."
   ]
  },
  {
   "cell_type": "markdown",
   "id": "96a0da87-91a4-43f1-a1dc-e5ec0499107a",
   "metadata": {},
   "source": [
    "# Понимание типов данных в языке Python"
   ]
  },
  {
   "cell_type": "markdown",
   "id": "a4dbff32-57ff-463d-a09b-cf95b8bde1db",
   "metadata": {},
   "source": [
    "Эффективные вычисления, основанные на данных, требуют понимания того, как хранятся данные и как ими манипулировать.\n",
    "дадим описание и сравним то, как массивы данных обрабатываются в самом языке Python, и как NumPy улучшает это.\n",
    "д\n",
    "Пользователей Python часто привлекает простота использования, одной из составляющих которой является динамическая типизация.\n",
    "В то время как статически типизированные языки, такие как C или Java, требуют явного объявления каждой переменной, динамически типизированные языки, такие как Python, пропускают эту спецификацию. Например, в языке C вы можете указать конкретную операцию следующим образом:\n",
    "\n",
    "```C\n",
    "/* Код на C */\n",
    "int result = 0;\n",
    "for(int i=0; i<100; i++){\n",
    "    result += i;\n",
    "}\n",
    "```\n",
    "\n",
    "В то время как в Python эквивалентная операция может быть записана следующим образом:\n",
    "\n",
    "```python\n",
    "# Python код\n",
    "результат = 0\n",
    "for i in range(100):\n",
    "    result += i\n",
    "```\n",
    "\n",
    "Обратите внимание на главное отличие: в C типы данных каждой переменной объявляются явно, а в Python типы определяются динамически. Это означает, что, например, мы можем присвоить любой тип данных любой переменной:\n",
    "\n",
    "```python\n",
    "# Python код\n",
    "x = 4\n",
    "x = \"четыре\"\n",
    "```\n",
    "\n",
    "Здесь мы поменяли содержимое ``x`` с целого числа на строку. То же самое в C привело бы (в зависимости от настроек компилятора) к ошибке компиляции или другим непредвиденным последствиям:\n",
    "\n",
    "```C\n",
    "/* Код на C */\n",
    "int x = 4;\n",
    "x = \"четыре\"; // ОШИБКА\n",
    "```\n",
    "\n",
    "Подобная гибкость - одна из составляющих, которая делает Python и другие динамически типизированные языки удобными и простыми в использовании.\n",
    "Понимание того, *как* это работает, является важной частью обучения эффективному анализу данных с помощью Python.\n",
    "Но гибкость типов также указывает на то, что переменные Python - это не просто их значение; они также содержат дополнительную информацию о типе значения."
   ]
  },
  {
   "cell_type": "markdown",
   "id": "7aafa7d1-5c35-45af-bc8c-df529f5cfc02",
   "metadata": {},
   "source": [
    "## Целое число в Python - это больше, чем просто целое число\n",
    "\n",
    "Стандартная реализация Python написана на языке C.\n",
    "Это означает, что каждый объект Python - это просто умело замаскированная структура языка C, которая содержит не только свое значение, но и другую информацию. Например, когда мы определяем целое число в Python, например, ``x = 10000``, ``x`` - это не просто \"сырое\" целое число. На самом деле это указатель на составную структуру C, которая содержит несколько значений.\n",
    "Просматривая исходный код Python 3.4, мы обнаруживаем, что определение типа integer (long) фактически выглядит следующим образом (после расширения макросов C):\n",
    "\n",
    "```C\n",
    "struct _longobject {\n",
    "    long ob_refcnt;\n",
    "    PyTypeObject *ob_type;\n",
    "    size_t ob_size;\n",
    "    long ob_digit[1];\n",
    "};\n",
    "```\n",
    "\n",
    "Одно целое число в Python 3.4 на самом деле содержит четыре части:\n",
    "\n",
    "- ``ob_refcnt``, счетчик ссылок, который помогает Python тихо обрабатывать выделение и удаление памяти\n",
    "- ``ob_type``, который кодирует тип переменной\n",
    "- ``ob_size``, который определяет размер следующих членов данных\n",
    "- ``ob_digit``, который содержит фактическое целочисленное значение, которое, как мы ожидаем, будет представлять переменная Python.\n",
    "\n",
    "Это означает, что хранение целого числа в Python требует определенных затрат по сравнению с целым числом в компилируемом языке, таком как C"
   ]
  },
  {
   "cell_type": "markdown",
   "id": "17f7ea56-47a2-4a22-a59d-03405e3aa7d1",
   "metadata": {},
   "source": [
    "![Integer Memory Layout](images/cint_vs_pyint.png)"
   ]
  },
  {
   "cell_type": "markdown",
   "id": "8e4be151-4408-4ec7-bce6-8160772f9816",
   "metadata": {},
   "source": [
    "Здесь ``PyObject_HEAD`` - это часть структуры, содержащая счетчик ссылок, код типа и другие части, упомянутые ранее.\n",
    "\n",
    "Обратите внимание на разницу: целое число в языке Си - это, по сути, метка для позиции в памяти, байты которой кодируют целочисленное значение.\n",
    "Целое число в Python - это указатель на позицию в памяти, содержащий всю информацию об объекте Python, включая байты, которые содержат целочисленное значение.\n",
    "Эта дополнительная информация в целочисленной структуре Python - то, что позволяет кодировать Python так свободно и динамично.\n",
    "Однако за всю эту дополнительную информацию в типах Python приходится платить, что становится особенно очевидным в структурах, объединяющих множество таких объектов."
   ]
  },
  {
   "cell_type": "markdown",
   "id": "8d5baeb7-35ab-41df-a7a5-8fd903af54c2",
   "metadata": {},
   "source": [
    "## Список Python - это больше, чем просто список\n",
    "\n",
    "Давайте теперь рассмотрим, что происходит, когда мы используем структуру данных Python, в которой хранится много объектов Python.\n",
    "Стандартным многоэлементным контейнером с возможностью изменения в Python является список.\n",
    "Мы можем создать список целых чисел следующим образом:"
   ]
  },
  {
   "cell_type": "code",
   "execution_count": 203,
   "id": "a629adc4-6e04-4a2e-84e2-ffe115f8ed25",
   "metadata": {},
   "outputs": [
    {
     "data": {
      "text/plain": [
       "[0, 1, 2, 3, 4, 5, 6, 7, 8, 9]"
      ]
     },
     "execution_count": 203,
     "metadata": {},
     "output_type": "execute_result"
    }
   ],
   "source": [
    "L = list(range(10))\n",
    "L"
   ]
  },
  {
   "cell_type": "code",
   "execution_count": 204,
   "id": "be9b3ff1-4769-409b-b0d6-1d7842f94bf6",
   "metadata": {},
   "outputs": [
    {
     "data": {
      "text/plain": [
       "int"
      ]
     },
     "execution_count": 204,
     "metadata": {},
     "output_type": "execute_result"
    }
   ],
   "source": [
    "type(L[0])"
   ]
  },
  {
   "cell_type": "code",
   "execution_count": 205,
   "id": "23e1f011-8017-4182-9e31-2329b60e3940",
   "metadata": {},
   "outputs": [
    {
     "data": {
      "text/plain": [
       "['0', '1', '2', '3', '4', '5', '6', '7', '8', '9']"
      ]
     },
     "execution_count": 205,
     "metadata": {},
     "output_type": "execute_result"
    }
   ],
   "source": [
    "L2 = [str(c) for c in L]\n",
    "L2"
   ]
  },
  {
   "cell_type": "code",
   "execution_count": 206,
   "id": "181e5a18-7a7a-4334-8888-6934289627ea",
   "metadata": {},
   "outputs": [
    {
     "data": {
      "text/plain": [
       "str"
      ]
     },
     "execution_count": 206,
     "metadata": {},
     "output_type": "execute_result"
    }
   ],
   "source": [
    "type(L2[0])"
   ]
  },
  {
   "cell_type": "code",
   "execution_count": 207,
   "id": "d9195ffa-711f-4b8e-a76a-5bae9b19e0a2",
   "metadata": {},
   "outputs": [
    {
     "data": {
      "text/plain": [
       "[bool, str, float, int]"
      ]
     },
     "execution_count": 207,
     "metadata": {},
     "output_type": "execute_result"
    }
   ],
   "source": [
    "L3 = [True, \"2\", 3.0, 4]\n",
    "[type(item) for item in L3]"
   ]
  },
  {
   "cell_type": "markdown",
   "id": "ba2b12ca-9455-4b0d-8ab0-4bb7564453eb",
   "metadata": {},
   "source": [
    "Но за эту гибкость приходится платить: чтобы обеспечить гибкость типов, каждый элемент списка должен содержать информацию о своем типе, количество ссылок и другую информацию - то есть, каждый элемент является полным объектом Python.\n",
    "В особом случае, когда все переменные имеют один тип, большая часть этой информации является избыточной: гораздо эффективнее хранить данные в массиве фиксированного типа."
   ]
  },
  {
   "cell_type": "markdown",
   "id": "51f681f9-89fd-4ebf-a388-0c9f283239d7",
   "metadata": {},
   "source": [
    "![Array Memory Layout](images/array_vs_list.png)"
   ]
  },
  {
   "cell_type": "markdown",
   "id": "dbf30682-c090-4f66-8c8f-8a5150d3db00",
   "metadata": {},
   "source": [
    "На уровне реализации массив, по сути, содержит один указатель на один непрерывный блок данных.\n",
    "Список Python, с другой стороны, содержит указатель на блок указателей, каждый из которых, в свою очередь, указывает на полный объект Python, такой как целое число Python, которое мы рассматривали ранее.\n",
    "Опять же, преимущество списка заключается в гибкости: поскольку каждый элемент списка представляет собой полную структуру, содержащую как данные, так и информацию о типе, список может быть заполнен данными любого желаемого типа.\n",
    "Массивы фиксированного типа в стиле NumPy лишены такой гибкости, но гораздо более эффективны для хранения и манипулирования данными."
   ]
  },
  {
   "cell_type": "code",
   "execution_count": 208,
   "id": "82949535-6ce8-4f4b-9f17-aa04f5d6b0f9",
   "metadata": {
    "tags": []
   },
   "outputs": [],
   "source": [
    "import numpy as np"
   ]
  },
  {
   "cell_type": "markdown",
   "id": "dcfb2135-0f39-47dd-8e4d-83437f583c3c",
   "metadata": {},
   "source": [
    "## Создание массива из списка Python"
   ]
  },
  {
   "cell_type": "code",
   "execution_count": 209,
   "id": "bc5ce4e9-4b21-4ce9-a38b-d3ec4aa8ba3a",
   "metadata": {},
   "outputs": [
    {
     "data": {
      "text/plain": [
       "array([[2, 3, 4],\n",
       "       [4, 5, 6],\n",
       "       [6, 7, 8]])"
      ]
     },
     "execution_count": 209,
     "metadata": {},
     "output_type": "execute_result"
    }
   ],
   "source": [
    "# Целочисленный массив\n",
    "np.array([1, 4, 2, 5, 3])\n",
    "# Массив чисел с плавающей точкой\n",
    "np.array([3.14, 4, 2, 3])\n",
    "np.array([1, 2, 3, 4], dtype='float32')\n",
    "# Многомерный массив из вложенных списков\n",
    "np.array([range(i, i + 3) for i in [2, 4, 6]])"
   ]
  },
  {
   "cell_type": "markdown",
   "id": "1171fd5a-ed09-41f0-b20a-337fd1567f65",
   "metadata": {},
   "source": [
    "## Создание массивов с нуля"
   ]
  },
  {
   "cell_type": "code",
   "execution_count": 210,
   "id": "1096b5ab-d3dd-4335-8190-8679a51287df",
   "metadata": {
    "tags": []
   },
   "outputs": [
    {
     "data": {
      "text/plain": [
       "array([0.32862676, 0.67780119, 0.84270079])"
      ]
     },
     "execution_count": 210,
     "metadata": {},
     "output_type": "execute_result"
    }
   ],
   "source": [
    "# Создание массива данных, заполненого нулями\n",
    "np.zeros(10, dtype=int)\n",
    "# Создание массива 3x5, заполенного единицами\n",
    "np.ones((3, 5), dtype=float)\n",
    "# Создание массива 3x5, заполенного 3.14\n",
    "np.full((3, 5), 3.14)\n",
    "# Create an array filled with a linear sequence\n",
    "# Starting at 0, ending at 20, stepping by 2\n",
    "# (this is similar to the built-in range() function)\n",
    "np.arange(0, 20, 2)\n",
    "# Create an array of five values evenly spaced between 0 and 1\n",
    "np.linspace(0, 1, 5)\n",
    "# Create a 3x3 array of uniformly distributed\n",
    "# random values between 0 and 1\n",
    "np.random.random((3, 3))\n",
    "# Create a 3x3 array of normally distributed random values\n",
    "# with mean 0 and standard deviation 1\n",
    "np.random.normal(0, 1, (3, 3))\n",
    "# Create a 3x3 array of random integers in the interval [0, 10)\n",
    "np.random.randint(0, 10, (3, 3))\n",
    "# Create a 3x3 identity matrix\n",
    "np.eye(3)\n",
    "# Create an uninitialized array of three integers\n",
    "# The values will be whatever happens to already exist at that memory location\n",
    "np.empty(3)"
   ]
  },
  {
   "cell_type": "markdown",
   "id": "837c640b-a1d7-441b-b6d8-5373b6376261",
   "metadata": {},
   "source": [
    "### NumPy стандартные типы данных\n",
    "\n",
    "Стандартные типы данных NumPy перечислены в следующей таблице.\n",
    "Обратите внимание, что при построении массива их можно указать с помощью строки:\n",
    "\n",
    "```python\n",
    "np.zeros(10, dtype='int16')\n",
    "```\n",
    "\n",
    "Или с помощью связанного объекта NumPy:\n",
    "\n",
    "```python\n",
    "np.zeros(10, dtype=np.int16)\n",
    "```\n",
    "\n",
    "| Data type\t | Description |\n",
    "|-------------|-------------|\n",
    "| `bool_`     | Boolean (True or False) stored as a byte |\n",
    "| `int_`      | Default integer type (same as C `long`; normally either `int64` or `int32`)| \n",
    "| `intc`      | Identical to C `int` (normally `int32` or `int64`)| \n",
    "| `intp`      | Integer used for indexing (same as C `ssize_t`; normally either `int32` or `int64`)| \n",
    "| `int8`      | Byte (–128 to 127)| \n",
    "| `int16`     | Integer (–32768 to 32767)|\n",
    "| `int32`     | Integer (–2147483648 to 2147483647)|\n",
    "| `int64`     | Integer (–9223372036854775808 to 9223372036854775807)| \n",
    "| `uint8`     | Unsigned integer (0 to 255)| \n",
    "| `uint16`    | Unsigned integer (0 to 65535)| \n",
    "| `uint32`    | Unsigned integer (0 to 4294967295)| \n",
    "| `uint64`    | Unsigned integer (0 to 18446744073709551615)| \n",
    "| `float_`    | Shorthand for `float64`| \n",
    "| `float16`   | Half-precision float: sign bit, 5 bits exponent, 10 bits mantissa| \n",
    "| `float32`   | Single-precision float: sign bit, 8 bits exponent, 23 bits mantissa| \n",
    "| `float64`   | Double-precision float: sign bit, 11 bits exponent, 52 bits mantissa| \n",
    "| `complex_`  | Shorthand for `complex128`| \n",
    "| `complex64` | Complex number, represented by two 32-bit floats| \n",
    "| `complex128`| Complex number, represented by two 64-bit floats| "
   ]
  },
  {
   "cell_type": "markdown",
   "id": "1cda4f25-40e0-4c66-b858-516916a7e9e9",
   "metadata": {},
   "source": [
    "# Основы работы с массивами NumPy"
   ]
  },
  {
   "cell_type": "markdown",
   "id": "fe6bd7e9-8d2c-4965-a4e6-045c74c62b5d",
   "metadata": {},
   "source": [
    "Работа с данными в Python практически синонимична работе с массивами NumPy: даже такие новые инструменты, как Pandas, построены вокруг массива NumPy.\n",
    "\n",
    "Здесь мы рассмотрим несколько категорий основных манипуляций с массивами:\n",
    "\n",
    "- *Атрибуты массивов*: Определение размера, формы, объема памяти и типов данных массивов.\n",
    "- *Индексация массивов*: Получение и установка значения отдельных элементов массива\n",
    "- *Разбиение массивов*: Получение и установка меньших подмассивов в большом массиве.\n",
    "- *Переформирование массивов*: Изменение формы заданного массива\n",
    "- *Соединение и разделение массивов*: объединение нескольких массивов в один и разбиение одного массива на множество."
   ]
  },
  {
   "cell_type": "markdown",
   "id": "6ec75377-6851-4ac2-b3e4-68b914179b1f",
   "metadata": {},
   "source": [
    "## Аттрибуты массивов NumPy"
   ]
  },
  {
   "cell_type": "code",
   "execution_count": 211,
   "id": "f7bd3a20-baf7-4142-93cf-e14441b913d2",
   "metadata": {},
   "outputs": [],
   "source": [
    "x1 = np.random.randint(10, size=6        )  # Одномерный массив\n",
    "x2 = np.random.randint(10, size=(3, 4)   )  # Двухмерных массив\n",
    "x3 = np.random.randint(10, size=(3, 4, 5))  # Трехмерный массив"
   ]
  },
  {
   "cell_type": "markdown",
   "id": "8ba2f3d7-45aa-4b47-82f9-d036a54ad955",
   "metadata": {},
   "source": [
    "Каждый массив имеет атрибуты ``ndim`` (количество измерений), ``shape`` (размер каждого измерения) и ``size`` (общий размер массива):"
   ]
  },
  {
   "cell_type": "code",
   "execution_count": 212,
   "id": "11c30a2e-fb70-4db2-aa83-77b97b3deeb1",
   "metadata": {},
   "outputs": [
    {
     "name": "stdout",
     "output_type": "stream",
     "text": [
      "x3 ndim:  3\n",
      "x3 shape: (3, 4, 5)\n",
      "x3 size:  60\n"
     ]
    }
   ],
   "source": [
    "print(\"x3 ndim: \", x3.ndim )\n",
    "print(\"x3 shape:\", x3.shape)\n",
    "print(\"x3 size: \", x3.size )"
   ]
  },
  {
   "cell_type": "markdown",
   "id": "04e38f10-d7f3-4f5b-91ee-3ac6f122649d",
   "metadata": {},
   "source": [
    "Другим полезным атрибутом является ``dtype``, тип данных массива"
   ]
  },
  {
   "cell_type": "code",
   "execution_count": 213,
   "id": "8c7cd1cd-2351-41e7-a172-dd34426654d9",
   "metadata": {},
   "outputs": [
    {
     "name": "stdout",
     "output_type": "stream",
     "text": [
      "dtype: int64\n"
     ]
    }
   ],
   "source": [
    "print(\"dtype:\", x3.dtype)"
   ]
  },
  {
   "cell_type": "markdown",
   "id": "4f7fd20f-ed3a-48c8-b02b-e15cf3d241a4",
   "metadata": {},
   "source": [
    "Другие атрибуты включают ``itemsize``, где указан размер (в байтах) каждого элемента массива, и ``nbytes``, где указан общий размер (в байтах) массива."
   ]
  },
  {
   "cell_type": "code",
   "execution_count": 214,
   "id": "fc6cf34b-2a62-4b32-b1c5-8b7df96fefdc",
   "metadata": {},
   "outputs": [
    {
     "name": "stdout",
     "output_type": "stream",
     "text": [
      "itemsize: 8 bytes\n",
      "nbytes: 480 bytes\n"
     ]
    }
   ],
   "source": [
    "print(\"itemsize:\", x3.itemsize, \"bytes\")\n",
    "print(\"nbytes:\"  , x3.nbytes  , \"bytes\")"
   ]
  },
  {
   "cell_type": "markdown",
   "id": "3cc17e95-61bb-4c5b-a16c-7af3f12bc4d1",
   "metadata": {},
   "source": [
    "## Индексирование массивов: доступ к отдельным элементам"
   ]
  },
  {
   "cell_type": "markdown",
   "id": "a86c5523-b54e-4a30-ba90-9ca9a65aed36",
   "metadata": {},
   "source": []
  },
  {
   "cell_type": "code",
   "execution_count": 215,
   "id": "447feadc-fb3b-43b3-b1b0-f8480bd762d2",
   "metadata": {},
   "outputs": [
    {
     "data": {
      "text/plain": [
       "array([8, 3, 7, 5, 1, 7])"
      ]
     },
     "execution_count": 215,
     "metadata": {},
     "output_type": "execute_result"
    }
   ],
   "source": [
    "x1"
   ]
  },
  {
   "cell_type": "code",
   "execution_count": 216,
   "id": "ff79b657-5d3f-4edb-b5c2-cc0c9d497ee2",
   "metadata": {},
   "outputs": [
    {
     "data": {
      "text/plain": [
       "8"
      ]
     },
     "execution_count": 216,
     "metadata": {},
     "output_type": "execute_result"
    }
   ],
   "source": [
    "x1[0]"
   ]
  },
  {
   "cell_type": "code",
   "execution_count": 217,
   "id": "9598735d-e6f8-4e55-8ba8-61f90a571ffe",
   "metadata": {},
   "outputs": [
    {
     "data": {
      "text/plain": [
       "1"
      ]
     },
     "execution_count": 217,
     "metadata": {},
     "output_type": "execute_result"
    }
   ],
   "source": [
    "x1[-2]"
   ]
  },
  {
   "cell_type": "code",
   "execution_count": 218,
   "id": "68e6895d-cea1-4a82-b843-45a7c9552f03",
   "metadata": {
    "scrolled": true
   },
   "outputs": [
    {
     "data": {
      "text/plain": [
       "array([[1, 3, 9, 6],\n",
       "       [2, 2, 6, 8],\n",
       "       [5, 0, 4, 5]])"
      ]
     },
     "execution_count": 218,
     "metadata": {},
     "output_type": "execute_result"
    }
   ],
   "source": [
    "x2"
   ]
  },
  {
   "cell_type": "code",
   "execution_count": 219,
   "id": "07b4501e-3620-41f3-8469-a8c1b5725048",
   "metadata": {},
   "outputs": [
    {
     "data": {
      "text/plain": [
       "1"
      ]
     },
     "execution_count": 219,
     "metadata": {},
     "output_type": "execute_result"
    }
   ],
   "source": [
    "x2[0, 0]"
   ]
  },
  {
   "cell_type": "code",
   "execution_count": 220,
   "id": "511e9386-98fc-4241-882b-1c5363afc7f6",
   "metadata": {},
   "outputs": [
    {
     "data": {
      "text/plain": [
       "array([[ 1,  3, 12,  6],\n",
       "       [ 2,  2,  6,  8],\n",
       "       [ 5,  0,  4,  5]])"
      ]
     },
     "execution_count": 220,
     "metadata": {},
     "output_type": "execute_result"
    }
   ],
   "source": [
    "x2[0, -2] = 12\n",
    "x2"
   ]
  },
  {
   "cell_type": "code",
   "execution_count": 221,
   "id": "a2d79216-4047-4962-9283-145b4fee1b24",
   "metadata": {},
   "outputs": [
    {
     "data": {
      "text/plain": [
       "array([8, 3, 7, 5, 3, 7])"
      ]
     },
     "execution_count": 221,
     "metadata": {},
     "output_type": "execute_result"
    }
   ],
   "source": [
    "x1[-2] = 3.14159  # будет усечено!\n",
    "x1"
   ]
  },
  {
   "cell_type": "markdown",
   "id": "e5a8537e-ef72-459e-af34-e2d045e74199",
   "metadata": {},
   "source": [
    "## Сечение массива: доступ к подмассивам"
   ]
  },
  {
   "cell_type": "markdown",
   "id": "709ba506-440d-434e-ac80-c8288a3b0e4c",
   "metadata": {},
   "source": [
    "Можно квадратные скобки использовать для доступа к подмассивам с помощью нотации *slice*, обозначенной символом двоеточия (``:``).\n",
    "Синтаксис сечения NumPy повторяет стандартный список Python; чтобы получить доступ к подмассива массива ``x`` используется следующий синтаксис:\n",
    "```python\n",
    "x[start:stop:step]\n",
    "```\n",
    "Если какой-либо из этих параметров не указан, то по умолчанию используются значения ``start=0``, ``stop=``*``размер размерности``*, ``step=1``.\n",
    "Мы рассмотрим доступ к подмассивам в одном измерении и в нескольких измерениях."
   ]
  },
  {
   "cell_type": "markdown",
   "id": "ffeef35d-853d-403b-a084-4bc95aea2442",
   "metadata": {},
   "source": [
    "### Одномерный подмассив"
   ]
  },
  {
   "cell_type": "code",
   "execution_count": 222,
   "id": "83310550-a49f-49ff-bea2-4ebad14f0e08",
   "metadata": {},
   "outputs": [
    {
     "data": {
      "text/plain": [
       "array([0, 1, 2, 3, 4, 5, 6, 7, 8, 9])"
      ]
     },
     "execution_count": 222,
     "metadata": {},
     "output_type": "execute_result"
    }
   ],
   "source": [
    "x = np.arange(10)\n",
    "x"
   ]
  },
  {
   "cell_type": "code",
   "execution_count": 223,
   "id": "946b31ac-d595-4a2a-ab98-bc0235e4f243",
   "metadata": {},
   "outputs": [
    {
     "data": {
      "text/plain": [
       "array([5, 3, 1])"
      ]
     },
     "execution_count": 223,
     "metadata": {},
     "output_type": "execute_result"
    }
   ],
   "source": [
    "x[:5]  \n",
    "x[5:]\n",
    "x[4:7]\n",
    "x[::2]\n",
    "x[5::-2]"
   ]
  },
  {
   "cell_type": "markdown",
   "id": "d83f28c8-f5d0-4288-aa02-ec99b2c7b512",
   "metadata": {},
   "source": [
    "### Многомерный подмассив\n",
    "\n",
    "Многомерные сечения работают аналогичным образом, при этом несколько сечений разделяются запятыми."
   ]
  },
  {
   "cell_type": "code",
   "execution_count": 224,
   "id": "c0919805-c1e2-471c-96c2-b9f9fa1b3623",
   "metadata": {},
   "outputs": [
    {
     "data": {
      "text/plain": [
       "array([[ 1,  3, 12,  6],\n",
       "       [ 2,  2,  6,  8],\n",
       "       [ 5,  0,  4,  5]])"
      ]
     },
     "execution_count": 224,
     "metadata": {},
     "output_type": "execute_result"
    }
   ],
   "source": [
    "x2"
   ]
  },
  {
   "cell_type": "code",
   "execution_count": 225,
   "id": "6b32ebfb-2b40-4896-9b09-473633290cab",
   "metadata": {},
   "outputs": [
    {
     "data": {
      "text/plain": [
       "array([[ 1,  3, 12],\n",
       "       [ 2,  2,  6]])"
      ]
     },
     "execution_count": 225,
     "metadata": {},
     "output_type": "execute_result"
    }
   ],
   "source": [
    "x2[:2, :3]"
   ]
  },
  {
   "cell_type": "code",
   "execution_count": 226,
   "id": "a686c403-e9e8-42a6-a4ae-ccee4291d9a2",
   "metadata": {},
   "outputs": [
    {
     "data": {
      "text/plain": [
       "array([[ 5,  4,  0,  5],\n",
       "       [ 8,  6,  2,  2],\n",
       "       [ 6, 12,  3,  1]])"
      ]
     },
     "execution_count": 226,
     "metadata": {},
     "output_type": "execute_result"
    }
   ],
   "source": [
    "x2[::-1, ::-1]"
   ]
  },
  {
   "cell_type": "markdown",
   "id": "56363e08-0ea1-4c84-befe-e7bcc20a01cc",
   "metadata": {},
   "source": [
    "#### Доступ к строкам и столбцам массива\n",
    "\n",
    "Одной из часто встречающихся процедур является доступ к отдельным строкам или столбцам массива."
   ]
  },
  {
   "cell_type": "code",
   "execution_count": 227,
   "id": "adc1b411-cb65-43c2-8fc6-ebbaeb6b7875",
   "metadata": {},
   "outputs": [
    {
     "name": "stdout",
     "output_type": "stream",
     "text": [
      "[1 2 5]\n"
     ]
    }
   ],
   "source": [
    "print(x2[:, 0])"
   ]
  },
  {
   "cell_type": "code",
   "execution_count": 228,
   "id": "e9c296d8-e5dc-4acb-94fd-0c2009c19f92",
   "metadata": {},
   "outputs": [
    {
     "name": "stdout",
     "output_type": "stream",
     "text": [
      "[ 1  3 12  6]\n"
     ]
    }
   ],
   "source": [
    "print(x2[0, :])"
   ]
  },
  {
   "cell_type": "code",
   "execution_count": 229,
   "id": "03dd00b1-9956-4972-8954-88265227ba38",
   "metadata": {},
   "outputs": [
    {
     "name": "stdout",
     "output_type": "stream",
     "text": [
      "[ 1  3 12  6]\n"
     ]
    }
   ],
   "source": [
    "print(x2[0]) "
   ]
  },
  {
   "cell_type": "markdown",
   "id": "b7d2ba70-bb62-4f3d-aac3-cb86905464fe",
   "metadata": {},
   "source": [
    "### Подмассивы как представления без копирования\n",
    "\n",
    "Одна важная и чрезвычайно полезная вещь, которую нужно знать о сечении массивов, заключается в том, что они возвращают *представления (view)*, а не *копии (copy)* данных массива.\n",
    "Это одна из областей, в которой нарезка массивов NumPy отличается от нарезки списков Python: в списках нарезки будут копиями."
   ]
  },
  {
   "cell_type": "code",
   "execution_count": 230,
   "id": "aef6f148-83cd-422e-aec6-331265542884",
   "metadata": {},
   "outputs": [
    {
     "name": "stdout",
     "output_type": "stream",
     "text": [
      "[[ 1  3 12  6]\n",
      " [ 2  2  6  8]\n",
      " [ 5  0  4  5]]\n"
     ]
    }
   ],
   "source": [
    "print(x2)"
   ]
  },
  {
   "cell_type": "code",
   "execution_count": 231,
   "id": "2127c05c-c203-4ed8-9ae7-3df8851fab07",
   "metadata": {},
   "outputs": [
    {
     "name": "stdout",
     "output_type": "stream",
     "text": [
      "[[1 3]\n",
      " [2 2]]\n"
     ]
    }
   ],
   "source": [
    "x2_sub = x2[:2, :2]\n",
    "print(x2_sub)"
   ]
  },
  {
   "cell_type": "code",
   "execution_count": 232,
   "id": "804527b4-9b1c-4c6c-93c0-def25459d575",
   "metadata": {},
   "outputs": [
    {
     "name": "stdout",
     "output_type": "stream",
     "text": [
      "[[99  3]\n",
      " [ 2  2]]\n"
     ]
    }
   ],
   "source": [
    "x2_sub[0, 0] = 99\n",
    "print(x2_sub)"
   ]
  },
  {
   "cell_type": "code",
   "execution_count": 233,
   "id": "50ca0302-9a6a-4ce5-9944-f7c7fda5e20b",
   "metadata": {},
   "outputs": [
    {
     "name": "stdout",
     "output_type": "stream",
     "text": [
      "[[99  3 12  6]\n",
      " [ 2  2  6  8]\n",
      " [ 5  0  4  5]]\n"
     ]
    }
   ],
   "source": [
    "print(x2)"
   ]
  },
  {
   "cell_type": "markdown",
   "id": "7e178fe8-fd48-460c-bc1c-c7ddf48f7b6d",
   "metadata": {},
   "source": [
    "Это поведение по умолчанию на самом деле довольно полезно: при работе с большими наборами данных мы можем получать доступ и обрабатывать их части без необходимости копировать основной буфер данных."
   ]
  },
  {
   "cell_type": "markdown",
   "id": "345be20b-fb40-45b9-8034-35d382ce16df",
   "metadata": {},
   "source": [
    "### Создание копий массивов\n",
    "\n",
    "Несмотря на приятные возможности представления массивов, иногда полезно явно копировать данные внутри массива или подмассива. Это проще всего сделать с помощью метода ``copy()``."
   ]
  },
  {
   "cell_type": "code",
   "execution_count": 234,
   "id": "f3577aa5-af9b-4899-9165-a34337ac4b60",
   "metadata": {},
   "outputs": [
    {
     "name": "stdout",
     "output_type": "stream",
     "text": [
      "[[99  3]\n",
      " [ 2  2]]\n"
     ]
    }
   ],
   "source": [
    "x2_sub_copy = x2[:2, :2].copy()\n",
    "print(x2_sub_copy)"
   ]
  },
  {
   "cell_type": "code",
   "execution_count": 235,
   "id": "c8756811-9f6d-4cbe-9fb2-13398603402c",
   "metadata": {},
   "outputs": [
    {
     "name": "stdout",
     "output_type": "stream",
     "text": [
      "[[42  3]\n",
      " [ 2  2]]\n"
     ]
    }
   ],
   "source": [
    "x2_sub_copy[0, 0] = 42\n",
    "print(x2_sub_copy)"
   ]
  },
  {
   "cell_type": "code",
   "execution_count": 236,
   "id": "6dcd187c-b513-4260-b77d-5274d95c4bc8",
   "metadata": {},
   "outputs": [
    {
     "name": "stdout",
     "output_type": "stream",
     "text": [
      "[[99  3 12  6]\n",
      " [ 2  2  6  8]\n",
      " [ 5  0  4  5]]\n"
     ]
    }
   ],
   "source": [
    "print(x2)"
   ]
  },
  {
   "cell_type": "markdown",
   "id": "dd5c531e-8941-45a4-aa9e-dd2f433b8923",
   "metadata": {},
   "source": [
    "## Изменение формы (reshaping) массивов\n",
    "\n",
    "Еще один полезный тип операций - изменение формы массивов.\n",
    "Наиболее гибко это можно сделать с помощью метода ``reshape``.\n",
    "Например, если вы хотите поместить числа от 1 до 9 в сетку $3 \\times 3$, вы можете сделать следующее:"
   ]
  },
  {
   "cell_type": "code",
   "execution_count": 237,
   "id": "39d93560-8d42-41c4-b930-acb31788b206",
   "metadata": {},
   "outputs": [
    {
     "name": "stdout",
     "output_type": "stream",
     "text": [
      "[[1 2 3]\n",
      " [4 5 6]\n",
      " [7 8 9]]\n"
     ]
    }
   ],
   "source": [
    "grid = np.arange(1, 10).reshape((3, 3))\n",
    "print(grid)"
   ]
  },
  {
   "cell_type": "markdown",
   "id": "67c3a4f3-71a1-481d-b85d-2ed3643fc3fe",
   "metadata": {},
   "source": [
    "Размер исходного массива должен соответствовать размеру массива c измененной формой. \n",
    "По возможности, метод ``reshape`` будет использовать представление исходного массива без копирования, но в случае с несмежными буферами памяти это не всегда так.\n",
    "\n",
    "Другим распространенным шаблоном изменение формы является преобразование одномерного массива в двумерную матрицу строк или столбцов.\n",
    "Это можно сделать с помощью метода ``reshape`` или проще - используя ключевое слово ``newaxis`` в операции сечения."
   ]
  },
  {
   "cell_type": "code",
   "execution_count": 238,
   "id": "279729ba-cbc3-44fa-9a43-9a751f4c56ff",
   "metadata": {},
   "outputs": [
    {
     "data": {
      "text/plain": [
       "array([[1, 2, 3]])"
      ]
     },
     "execution_count": 238,
     "metadata": {},
     "output_type": "execute_result"
    }
   ],
   "source": [
    "x = np.array([1, 2, 3])\n",
    "\n",
    "# row vector via reshape\n",
    "x.reshape((1, 3))"
   ]
  },
  {
   "cell_type": "code",
   "execution_count": 239,
   "id": "4e27b13a-832a-4dea-a06b-5cff6e90b5e8",
   "metadata": {},
   "outputs": [
    {
     "data": {
      "text/plain": [
       "array([[1, 2, 3]])"
      ]
     },
     "execution_count": 239,
     "metadata": {},
     "output_type": "execute_result"
    }
   ],
   "source": [
    "x[np.newaxis, :]"
   ]
  },
  {
   "cell_type": "code",
   "execution_count": 240,
   "id": "37cb4a0e-95bc-43dc-86b2-0572e9c3ae57",
   "metadata": {},
   "outputs": [
    {
     "data": {
      "text/plain": [
       "array([[1],\n",
       "       [2],\n",
       "       [3]])"
      ]
     },
     "execution_count": 240,
     "metadata": {},
     "output_type": "execute_result"
    }
   ],
   "source": [
    "x.reshape((3, 1))"
   ]
  },
  {
   "cell_type": "code",
   "execution_count": 241,
   "id": "8c616222-8855-45f9-9582-d75636833d15",
   "metadata": {},
   "outputs": [
    {
     "data": {
      "text/plain": [
       "array([[1],\n",
       "       [2],\n",
       "       [3]])"
      ]
     },
     "execution_count": 241,
     "metadata": {},
     "output_type": "execute_result"
    }
   ],
   "source": [
    "x[:, np.newaxis]"
   ]
  },
  {
   "cell_type": "markdown",
   "id": "6bb6d470-8fa1-4d9c-95ab-62ba4d38ab0b",
   "metadata": {},
   "source": [
    "## Конкатенация и разбиение массивов\n",
    "\n",
    "Все предыдущие процедуры работали с одиночными массивами. \n",
    "Можно также объединить несколько массивов в один и, наоборот, разделить один массив на несколько массивов."
   ]
  },
  {
   "cell_type": "markdown",
   "id": "e81c592c-5524-45f0-a8b8-d6ba20eb48f4",
   "metadata": {},
   "source": [
    "### Конкатенация массивов\n",
    "\n",
    "Конкатенация, или объединение двух массивов в NumPy, в основном выполняется с помощью процедур ``np.concatenate``, ``np.vstack`` и ``np.hstack``."
   ]
  },
  {
   "cell_type": "code",
   "execution_count": 242,
   "id": "457f8056-3f4b-48e0-ae5d-967bd653d6bd",
   "metadata": {},
   "outputs": [
    {
     "name": "stdout",
     "output_type": "stream",
     "text": [
      "[ 1  2  3  3  2  1 99 99 99]\n"
     ]
    }
   ],
   "source": [
    "x = np.array([ 1,  2,  3])\n",
    "y = np.array([ 3,  2,  1])\n",
    "z =          [99, 99, 99]\n",
    "print(np.concatenate([x, y, z]))"
   ]
  },
  {
   "cell_type": "code",
   "execution_count": 243,
   "id": "821f98a6-c996-481e-9a98-02957688f328",
   "metadata": {},
   "outputs": [],
   "source": [
    "grid = np.array([[1, 2, 3],[4, 5, 6]])"
   ]
  },
  {
   "cell_type": "code",
   "execution_count": 244,
   "id": "88dfe119-c681-43e9-bedf-ff448810df5d",
   "metadata": {},
   "outputs": [
    {
     "data": {
      "text/plain": [
       "array([[1, 2, 3],\n",
       "       [4, 5, 6],\n",
       "       [1, 2, 3],\n",
       "       [4, 5, 6]])"
      ]
     },
     "execution_count": 244,
     "metadata": {},
     "output_type": "execute_result"
    }
   ],
   "source": [
    "np.concatenate([grid, grid], axis=0)"
   ]
  },
  {
   "cell_type": "code",
   "execution_count": 245,
   "id": "1487eaca-c819-4ed4-a813-7de2da0e5916",
   "metadata": {},
   "outputs": [
    {
     "data": {
      "text/plain": [
       "array([[1, 2, 3, 1, 2, 3],\n",
       "       [4, 5, 6, 4, 5, 6]])"
      ]
     },
     "execution_count": 245,
     "metadata": {},
     "output_type": "execute_result"
    }
   ],
   "source": [
    "np.concatenate([grid, grid], axis=1)"
   ]
  },
  {
   "cell_type": "markdown",
   "id": "9996c193-3c46-4315-a41d-2b6dc755a79d",
   "metadata": {},
   "source": [
    "Для работы с массивами смешанных размеров может быть более понятным использование функций ``np.vstack`` вдоль первой оси и ``np.hstack`` вдоль второй оси, ``np.dstack`` вдоль третьей оси."
   ]
  },
  {
   "cell_type": "code",
   "execution_count": 246,
   "id": "bde541d3-dcab-49bb-806e-feaa6f42cfc7",
   "metadata": {},
   "outputs": [
    {
     "data": {
      "text/plain": [
       "array([[1, 2, 3],\n",
       "       [9, 8, 7],\n",
       "       [6, 5, 4]])"
      ]
     },
     "execution_count": 246,
     "metadata": {},
     "output_type": "execute_result"
    }
   ],
   "source": [
    "x_1 = np.array([1, 2, 3])\n",
    "x_2 = np.array([[9, 8, 7],[6, 5, 4]])\n",
    "\n",
    "# vertically stack the arrays\n",
    "np.vstack([x_1, x_2])"
   ]
  },
  {
   "cell_type": "code",
   "execution_count": 247,
   "id": "c39318ba-f434-4092-adc0-e024dcf89f8e",
   "metadata": {},
   "outputs": [
    {
     "data": {
      "text/plain": [
       "array([[ 9,  8,  7, 99],\n",
       "       [ 6,  5,  4, 99]])"
      ]
     },
     "execution_count": 247,
     "metadata": {},
     "output_type": "execute_result"
    }
   ],
   "source": [
    "x_3 = np.array([[99],[99]])\n",
    "np.hstack([x_2, x_3])"
   ]
  },
  {
   "cell_type": "markdown",
   "id": "f106b77b-e600-4de4-ba5d-1d29ae09cb85",
   "metadata": {},
   "source": [
    "### Разбиение массивов\n",
    "\n",
    "Противоположностью конкатенации является разбиение, которое реализуется функциями ``np.split``, ``np.hsplit``, ``np.vsplit`` и ``np.dsplit``.\n",
    "Для каждой из них мы можем передать список индексов, задающих точки разбиения."
   ]
  },
  {
   "cell_type": "code",
   "execution_count": 248,
   "id": "0f734d41-916d-4acb-aefe-64236333f689",
   "metadata": {},
   "outputs": [
    {
     "name": "stdout",
     "output_type": "stream",
     "text": [
      "[1 2 3] [99 99] [3 2 1]\n"
     ]
    }
   ],
   "source": [
    "x0 = [1, 2, 3, 99, 99, 3, 2, 1]\n",
    "x1, x2, x3 = np.split(x0, [3, 5])\n",
    "print(x1, x2, x3)"
   ]
  },
  {
   "cell_type": "code",
   "execution_count": 249,
   "id": "b5d6d6b9-4f30-4884-b91a-18081de3325a",
   "metadata": {},
   "outputs": [
    {
     "data": {
      "text/plain": [
       "array([[ 0,  1,  2,  3],\n",
       "       [ 4,  5,  6,  7],\n",
       "       [ 8,  9, 10, 11],\n",
       "       [12, 13, 14, 15]])"
      ]
     },
     "execution_count": 249,
     "metadata": {},
     "output_type": "execute_result"
    }
   ],
   "source": [
    "grid = np.arange(16).reshape((4, 4))\n",
    "grid"
   ]
  },
  {
   "cell_type": "code",
   "execution_count": 250,
   "id": "62bb8fa7-79ca-4791-aeee-9e597c415d34",
   "metadata": {},
   "outputs": [
    {
     "name": "stdout",
     "output_type": "stream",
     "text": [
      "[[0 1 2 3]\n",
      " [4 5 6 7]]\n",
      "[[ 8  9 10 11]\n",
      " [12 13 14 15]]\n"
     ]
    }
   ],
   "source": [
    "upper, lower = np.vsplit(grid, [2])\n",
    "print(upper)\n",
    "print(lower)"
   ]
  },
  {
   "cell_type": "code",
   "execution_count": 251,
   "id": "64d73145-ed54-4ab8-b9b2-8143e6d0d167",
   "metadata": {},
   "outputs": [
    {
     "name": "stdout",
     "output_type": "stream",
     "text": [
      "[[ 0  1]\n",
      " [ 4  5]\n",
      " [ 8  9]\n",
      " [12 13]]\n",
      "[[ 2  3]\n",
      " [ 6  7]\n",
      " [10 11]\n",
      " [14 15]]\n"
     ]
    }
   ],
   "source": [
    "left, right = np.hsplit(grid, [2])\n",
    "print(left)\n",
    "print(right)"
   ]
  },
  {
   "cell_type": "markdown",
   "id": "617baa00-293f-4b1f-9fa3-95a15ca31ac0",
   "metadata": {},
   "source": [
    "# Вычисления над массивами NumPy: Универсальные функции (UFuncs)"
   ]
  },
  {
   "cell_type": "markdown",
   "id": "0e0daff3-a0a4-47f2-a6a3-5401ea6c284b",
   "metadata": {},
   "source": [
    "Вычисления с массивами NumPy могут быть очень быстрыми, а могут быть очень медленными.\n",
    "Ключ к тому, чтобы сделать их быстрыми, - использование *векторных* операций, обычно реализуемых через *универсальные функции* (ufuncs) NumPy.\n",
    "В этом разделе обосновывается необходимость использования ufuncs в NumPy, с помощью которых можно сделать повторяющиеся вычисления над элементами массива гораздо более эффективными.\n",
    "Затем будут представлены многие из наиболее распространенных и полезных арифметических функций, доступных в пакете NumPy."
   ]
  },
  {
   "cell_type": "code",
   "execution_count": 252,
   "id": "7520278e-8c01-44fa-8e8a-305d92ac0037",
   "metadata": {},
   "outputs": [],
   "source": [
    "x = np.arange(9).reshape((3, 3))"
   ]
  },
  {
   "cell_type": "markdown",
   "id": "a02aec5a-3bdd-4576-86a6-659323684e96",
   "metadata": {},
   "source": [
    "## UFuncs в NumPy\n",
    "\n",
    "UFuncs существуют в двух вариантах: *унарные (unary) ufuncs*, которые принимают один массив, и *бинарные (binary) ufuncs*, которые принимают пару массивов."
   ]
  },
  {
   "cell_type": "markdown",
   "id": "c2382cbc-b777-4795-befe-f539d3cd99b0",
   "metadata": {},
   "source": [
    "### Арифметика массивов\n",
    "\n",
    "NumPy's ufuncs используют арифметические операторы Python: сложение, вычитание, умножение и деление."
   ]
  },
  {
   "cell_type": "code",
   "execution_count": 253,
   "id": "e684896d-c128-4f55-a374-f8b714dfa04c",
   "metadata": {},
   "outputs": [
    {
     "name": "stdout",
     "output_type": "stream",
     "text": [
      "x     = [0 1 2 3]\n",
      "x + 5 = [5 6 7 8]\n",
      "x - 5 = [-5 -4 -3 -2]\n",
      "x * 2 = [0 2 4 6]\n",
      "x / 2 = [0.  0.5 1.  1.5]\n",
      "x // 2 = [0 0 1 1]\n"
     ]
    }
   ],
   "source": [
    "x = np.arange(4)\n",
    "print(\"x     =\", x)\n",
    "print(\"x + 5 =\", x + 5)\n",
    "print(\"x - 5 =\", x - 5)\n",
    "print(\"x * 2 =\", x * 2)\n",
    "print(\"x / 2 =\", x / 2)\n",
    "print(\"x // 2 =\", x // 2)  # floor division"
   ]
  },
  {
   "cell_type": "markdown",
   "id": "4e8bb1be-4ec7-4bdc-a31c-25637e43eb04",
   "metadata": {},
   "source": [
    "Существует также унарные ufunc для отрицания, оператор ``**`` для возведения в степень и оператор ``%`` для вычисления остатка от деления."
   ]
  },
  {
   "cell_type": "code",
   "execution_count": 254,
   "id": "72564689-2845-43c5-8565-57a59c1629f7",
   "metadata": {},
   "outputs": [
    {
     "name": "stdout",
     "output_type": "stream",
     "text": [
      "-x     =  [ 0 -1 -2 -3]\n",
      "x ** 2 =  [0 1 4 9]\n",
      "x % 2  =  [0 1 0 1]\n"
     ]
    }
   ],
   "source": [
    "print(\"-x     = \", -x)\n",
    "print(\"x ** 2 = \", x ** 2)\n",
    "print(\"x % 2  = \", x % 2)"
   ]
  },
  {
   "cell_type": "markdown",
   "id": "e60b5d28-8f71-4cee-8ea4-158ca293b168",
   "metadata": {},
   "source": [
    "Кроме того, ufuncs можно комбинировать, при этом соблюдается стандартный порядок действий."
   ]
  },
  {
   "cell_type": "code",
   "execution_count": 255,
   "id": "3e1a2ad9-e4f2-4cea-852a-72a805758bd1",
   "metadata": {},
   "outputs": [
    {
     "data": {
      "text/plain": [
       "array([-1.  , -2.25, -4.  , -6.25])"
      ]
     },
     "execution_count": 255,
     "metadata": {},
     "output_type": "execute_result"
    }
   ],
   "source": [
    "-(0.5*x + 1) ** 2"
   ]
  },
  {
   "cell_type": "markdown",
   "id": "1ec23fcf-036d-43f2-979e-d0ec39cdf329",
   "metadata": {},
   "source": [
    "В следующей таблице перечислены арифметические операторы, реализованные в NumPy.\n",
    "\n",
    "| Operator\t    | Equivalent ufunc    | Description                           |\n",
    "|---------------|---------------------|---------------------------------------|\n",
    "|``+``          |``np.add``           |Addition (e.g., ``1 + 1 = 2``)         |\n",
    "|``-``          |``np.subtract``      |Subtraction (e.g., ``3 - 2 = 1``)      |\n",
    "|``-``          |``np.negative``      |Unary negation (e.g., ``-2``)          |\n",
    "|``*``          |``np.multiply``      |Multiplication (e.g., ``2 * 3 = 6``)   |\n",
    "|``/``          |``np.divide``        |Division (e.g., ``3 / 2 = 1.5``)       |\n",
    "|``//``         |``np.floor_divide``  |Floor division (e.g., ``3 // 2 = 1``)  |\n",
    "|``**``         |``np.power``         |Exponentiation (e.g., ``2 ** 3 = 8``)  |\n",
    "|``%``          |``np.mod``           |Modulus/remainder (e.g., ``9 % 4 = 1``)|"
   ]
  },
  {
   "cell_type": "markdown",
   "id": "fa7a09cb-fbe6-483d-b234-cffd4492a0ce",
   "metadata": {},
   "source": [
    "### Абсолютное значение"
   ]
  },
  {
   "cell_type": "code",
   "execution_count": 256,
   "id": "8ceda4a3-c605-416e-ab9c-97bf2a876437",
   "metadata": {},
   "outputs": [
    {
     "name": "stdout",
     "output_type": "stream",
     "text": [
      "[2 1 0 1 2]\n",
      "[2 1 0 1 2]\n"
     ]
    }
   ],
   "source": [
    "x = np.array([-2, -1, 0, 1, 2])\n",
    "\n",
    "print( np.absolute(x) )\n",
    "print( np.abs     (x) )"
   ]
  },
  {
   "cell_type": "markdown",
   "id": "fac599de-1b4a-4128-b4ba-f116a64d90d7",
   "metadata": {},
   "source": [
    "### Тригонометрические функции"
   ]
  },
  {
   "cell_type": "code",
   "execution_count": 257,
   "id": "67ad7239-55af-418d-8bcb-6d77b7f21268",
   "metadata": {},
   "outputs": [
    {
     "name": "stdout",
     "output_type": "stream",
     "text": [
      "theta      =  [0.         1.57079633 3.14159265]\n",
      "sin(theta) =  [0.0000000e+00 1.0000000e+00 1.2246468e-16]\n",
      "cos(theta) =  [ 1.000000e+00  6.123234e-17 -1.000000e+00]\n",
      "tan(theta) =  [ 0.00000000e+00  1.63312394e+16 -1.22464680e-16]\n"
     ]
    }
   ],
   "source": [
    "theta = np.linspace(0, np.pi, 3)\n",
    "\n",
    "print(\"theta      = \", theta)\n",
    "print(\"sin(theta) = \", np.sin(theta))\n",
    "print(\"cos(theta) = \", np.cos(theta))\n",
    "print(\"tan(theta) = \", np.tan(theta))"
   ]
  },
  {
   "cell_type": "code",
   "execution_count": 258,
   "id": "70979edc-45b7-4784-ab85-44949d1e127b",
   "metadata": {},
   "outputs": [
    {
     "name": "stdout",
     "output_type": "stream",
     "text": [
      "x         =  [-1, 0, 1]\n",
      "arcsin(x) =  [-1.57079633  0.          1.57079633]\n",
      "arccos(x) =  [3.14159265 1.57079633 0.        ]\n",
      "arctan(x) =  [-0.78539816  0.          0.78539816]\n"
     ]
    }
   ],
   "source": [
    "x = [-1, 0, 1]\n",
    "\n",
    "print(\"x         = \", x)\n",
    "print(\"arcsin(x) = \", np.arcsin(x))\n",
    "print(\"arccos(x) = \", np.arccos(x))\n",
    "print(\"arctan(x) = \", np.arctan(x))"
   ]
  },
  {
   "cell_type": "markdown",
   "id": "9752eeb9-0caf-4290-a4a5-489381509507",
   "metadata": {},
   "source": [
    "### Экспоненты и логарифмы"
   ]
  },
  {
   "cell_type": "code",
   "execution_count": 259,
   "id": "bc07240e-3de4-4b01-a03b-2b12b6207656",
   "metadata": {},
   "outputs": [
    {
     "name": "stdout",
     "output_type": "stream",
     "text": [
      "x     = [1, 2, 3]\n",
      "e^x   = [ 2.71828183  7.3890561  20.08553692]\n",
      "2^x   = [2. 4. 8.]\n",
      "3^x   = [ 3  9 27]\n"
     ]
    }
   ],
   "source": [
    "x = [1, 2, 3]\n",
    "\n",
    "print(\"x     =\", x)\n",
    "print(\"e^x   =\", np.exp(x))\n",
    "print(\"2^x   =\", np.exp2(x))\n",
    "print(\"3^x   =\", np.power(3, x))"
   ]
  },
  {
   "cell_type": "code",
   "execution_count": 260,
   "id": "d7638cd7-8dcd-493e-a091-a7fa7e025fe0",
   "metadata": {},
   "outputs": [
    {
     "name": "stdout",
     "output_type": "stream",
     "text": [
      "exp(x) - 1 = [0.         0.0010005  0.01005017 0.10517092]\n",
      "log(1 + x) = [0.         0.0009995  0.00995033 0.09531018]\n"
     ]
    }
   ],
   "source": [
    "x = [0, 0.001, 0.01, 0.1]\n",
    "\n",
    "print(\"exp(x) - 1 =\", np.expm1(x))\n",
    "print(\"log(1 + x) =\", np.log1p(x))"
   ]
  },
  {
   "cell_type": "markdown",
   "id": "ceac2039-0b96-469c-be79-61c934359f2a",
   "metadata": {},
   "source": [
    "### Специализированные ufuncs (SciPy)\n",
    "\n",
    "В NumPy доступно множество других ufuncs, включая гиперболические функции, побитовую арифметику, операторы сравнения, преобразование из радиан в градусы, округление и остатки, и многое другое.\n",
    "\n",
    "Другим отличным источником более специализированных ufincs является подмодуль ``scipy.special``."
   ]
  },
  {
   "cell_type": "code",
   "execution_count": 261,
   "id": "5e9386de-384b-4e0c-9096-29a0c0db6e36",
   "metadata": {},
   "outputs": [],
   "source": [
    "from scipy import special"
   ]
  },
  {
   "cell_type": "code",
   "execution_count": 262,
   "id": "38945519-9b4b-4aec-ac01-6e447f7ee45e",
   "metadata": {},
   "outputs": [
    {
     "name": "stdout",
     "output_type": "stream",
     "text": [
      "gamma(x)     = [1.0000e+00 2.4000e+01 3.6288e+05]\n",
      "ln|gamma(x)| = [ 0.          3.17805383 12.80182748]\n",
      "beta(x, 2)   = [0.5        0.03333333 0.00909091]\n"
     ]
    }
   ],
   "source": [
    "# Gamma functions (generalized factorials) and related functions\n",
    "x = [1, 5, 10]\n",
    "\n",
    "print(\"gamma(x)     =\", special.gamma(x))\n",
    "print(\"ln|gamma(x)| =\", special.gammaln(x))\n",
    "print(\"beta(x, 2)   =\", special.beta(x, 2))"
   ]
  },
  {
   "cell_type": "code",
   "execution_count": 263,
   "id": "c7cb96fb-d1d4-48bd-aaa3-b1838b354fd1",
   "metadata": {},
   "outputs": [
    {
     "name": "stdout",
     "output_type": "stream",
     "text": [
      "erf(x)  = [0.         0.32862676 0.67780119 0.84270079]\n",
      "erfc(x) = [1.         0.67137324 0.32219881 0.15729921]\n",
      "erfinv(x) = [0.         0.27246271 0.73286908        inf]\n"
     ]
    }
   ],
   "source": [
    "x = np.array([0, 0.3, 0.7, 1.0])\n",
    "\n",
    "print(\"erf(x)  =\", special.erf(x))\n",
    "print(\"erfc(x) =\", special.erfc(x))\n",
    "print(\"erfinv(x) =\", special.erfinv(x))"
   ]
  },
  {
   "cell_type": "markdown",
   "id": "f5333c38-b73c-41f4-bf34-d3a51ab24596",
   "metadata": {},
   "source": [
    "## Расширенные возможности Ufunc"
   ]
  },
  {
   "cell_type": "markdown",
   "id": "75821511-96b0-4653-a225-e5993a86973d",
   "metadata": {},
   "source": [
    "### Определение выходного массива\n",
    "\n",
    "Для больших вычислений иногда полезно иметь возможность указать массив, в котором будет храниться результат вычисления.\n",
    "Вместо того чтобы создавать временный массив, можно записать результаты вычислений непосредственно в то место памяти, где вы хотели бы их видеть.\n",
    "Для всех ufuncs это можно сделать с помощью аргумента ``out`` функции."
   ]
  },
  {
   "cell_type": "code",
   "execution_count": 264,
   "id": "4912d9b4-db9d-4755-9e80-63843602a92b",
   "metadata": {},
   "outputs": [
    {
     "name": "stdout",
     "output_type": "stream",
     "text": [
      "[ 0. 10. 20. 30. 40.]\n"
     ]
    }
   ],
   "source": [
    "x = np.arange(5)\n",
    "y = np.empty(5)\n",
    "np.multiply(x, 10, out=y)\n",
    "print(y)"
   ]
  },
  {
   "cell_type": "code",
   "execution_count": 265,
   "id": "a73bb703-89ef-450c-b922-f816bec0d80c",
   "metadata": {},
   "outputs": [
    {
     "name": "stdout",
     "output_type": "stream",
     "text": [
      "[ 1.  0.  2.  0.  4.  0.  8.  0. 16.  0.]\n"
     ]
    }
   ],
   "source": [
    "y = np.zeros(10)\n",
    "np.power(2, x, out=y[::2])\n",
    "print(y)"
   ]
  },
  {
   "cell_type": "markdown",
   "id": "b8601a6c-9a6a-4c1d-aaaf-4ae5f05b59d2",
   "metadata": {},
   "source": [
    "### Агрегаты\n",
    "\n",
    "Для бинарных ufunc есть несколько интересных агрегатов, которые можно вычислить непосредственно из объекта.\n",
    "Например, если мы хотим *уменьшить* массив с помощью определенной операции, мы можем использовать метод ``reduce`` любой ufunc.\n",
    "Метод reduce многократно применяет заданную операцию к элементам массива, пока не останется только один результат.\n",
    "\n",
    "Вызов ``reduce`` на ufunc ``add`` возвращает сумму всех элементов массива."
   ]
  },
  {
   "cell_type": "code",
   "execution_count": 266,
   "id": "46933cef-39fb-448d-8d45-8348d1997169",
   "metadata": {},
   "outputs": [],
   "source": [
    "x = np.arange(1, 6)"
   ]
  },
  {
   "cell_type": "code",
   "execution_count": 267,
   "id": "1bb5e0b4-1024-45c1-93f5-1093d01ef0c5",
   "metadata": {},
   "outputs": [
    {
     "data": {
      "text/plain": [
       "15"
      ]
     },
     "execution_count": 267,
     "metadata": {},
     "output_type": "execute_result"
    }
   ],
   "source": [
    "np.add.reduce(x)"
   ]
  },
  {
   "cell_type": "code",
   "execution_count": 268,
   "id": "b5b55181-ad2d-4ac1-960d-a70d905fc796",
   "metadata": {},
   "outputs": [
    {
     "data": {
      "text/plain": [
       "120"
      ]
     },
     "execution_count": 268,
     "metadata": {},
     "output_type": "execute_result"
    }
   ],
   "source": [
    "np.multiply.reduce(x)"
   ]
  },
  {
   "cell_type": "markdown",
   "id": "5ffd4833-c568-4d9d-bdb4-c9596ca7e0d0",
   "metadata": {},
   "source": [
    "Если мы хотим хранить все промежуточные результаты вычислений, мы можем вместо этого использовать ``accumulate``."
   ]
  },
  {
   "cell_type": "code",
   "execution_count": 269,
   "id": "c34807fb-2440-4c21-a3bc-21d81818d984",
   "metadata": {},
   "outputs": [
    {
     "data": {
      "text/plain": [
       "array([ 1,  3,  6, 10, 15])"
      ]
     },
     "execution_count": 269,
     "metadata": {},
     "output_type": "execute_result"
    }
   ],
   "source": [
    "np.add.accumulate(x)"
   ]
  },
  {
   "cell_type": "code",
   "execution_count": 270,
   "id": "f38211c5-3151-49fe-b11e-cef1a818d534",
   "metadata": {},
   "outputs": [
    {
     "data": {
      "text/plain": [
       "array([  1,   2,   6,  24, 120])"
      ]
     },
     "execution_count": 270,
     "metadata": {},
     "output_type": "execute_result"
    }
   ],
   "source": [
    "np.multiply.accumulate(x)"
   ]
  },
  {
   "cell_type": "markdown",
   "id": "9a0e7f55-3464-44e3-bbd9-77c80c23fe19",
   "metadata": {},
   "source": [
    "Обратите внимание, что для этих конкретных случаев существуют специальные функции NumPy для вычисления результатов (``np.sum``, ``np.prod``, ``np.cumsum``, ``np.cumprod``)."
   ]
  },
  {
   "cell_type": "markdown",
   "id": "2dd7a273-502e-4174-852e-5a0ab4fda06a",
   "metadata": {},
   "source": [
    "### Тензорное произведение\n",
    "\n",
    "Любая ufunc может вычислить результат прямого произведения двух различных входов, используя метод ``outer``."
   ]
  },
  {
   "cell_type": "code",
   "execution_count": 271,
   "id": "6e9d6a64-4b2c-4ca6-b8b4-dbe18b763d5b",
   "metadata": {},
   "outputs": [
    {
     "data": {
      "text/plain": [
       "array([[ 1,  2,  3,  4,  5],\n",
       "       [ 2,  4,  6,  8, 10],\n",
       "       [ 3,  6,  9, 12, 15],\n",
       "       [ 4,  8, 12, 16, 20],\n",
       "       [ 5, 10, 15, 20, 25]])"
      ]
     },
     "execution_count": 271,
     "metadata": {},
     "output_type": "execute_result"
    }
   ],
   "source": [
    "x = np.arange(1, 6)\n",
    "np.multiply.outer(x, x)"
   ]
  },
  {
   "cell_type": "markdown",
   "id": "6e3f5afa-3c4e-4227-b1b6-5134bb28b103",
   "metadata": {},
   "source": [
    "# Агрегации: минимум, максимум и другие функции агрегирования"
   ]
  },
  {
   "cell_type": "markdown",
   "id": "8c130f82-e525-4bd2-bbfd-cae6c95a19ce",
   "metadata": {},
   "source": [
    "Часто, когда приходится сталкиваться с большим количеством данных, первым шагом является вычисление сводной статистики для рассматриваемых данных.\n",
    "Возможно, самыми распространенными сводными статистиками являются среднее значение и стандартное отклонение, которые позволяют суммировать \"типичные\" значения в наборе данных, но полезны и другие агрегаты (сумма, произведение, медиана, минимум и максимум, квантили и т.д.).\n",
    "\n",
    "NumPy имеет быстрые встроенные функции агрегирования для работы с массивами."
   ]
  },
  {
   "cell_type": "markdown",
   "id": "6b052bde-e662-4424-b90e-60dd1146be19",
   "metadata": {},
   "source": [
    "### Минимум, максимум, сумма"
   ]
  },
  {
   "cell_type": "code",
   "execution_count": 272,
   "id": "39cb0903-58b6-4649-aa86-da6726b9331e",
   "metadata": {},
   "outputs": [],
   "source": [
    "x_1 = np.random.rand(1000000)"
   ]
  },
  {
   "cell_type": "code",
   "execution_count": 273,
   "id": "66fe3a88-6b7b-4739-be95-0db5cda6e642",
   "metadata": {},
   "outputs": [
    {
     "data": {
      "text/plain": [
       "(499264.5628535573, 3.621641532225439e-07, 0.9999960588030166)"
      ]
     },
     "execution_count": 273,
     "metadata": {},
     "output_type": "execute_result"
    }
   ],
   "source": [
    "np.sum(x_1), np.min(x_1), np.max(x_1)"
   ]
  },
  {
   "cell_type": "code",
   "execution_count": 274,
   "id": "b26493cc-d26b-4f8f-bfa7-9d46bb4ff6f5",
   "metadata": {},
   "outputs": [
    {
     "data": {
      "text/plain": [
       "(3.621641532225439e-07, 0.9999960588030166, 499264.5628535573)"
      ]
     },
     "execution_count": 274,
     "metadata": {},
     "output_type": "execute_result"
    }
   ],
   "source": [
    "x_1.min(), x_1.max(), x_1.sum()"
   ]
  },
  {
   "cell_type": "code",
   "execution_count": 275,
   "id": "eff2e4a7-2e6b-4905-a831-2e5ef1fffc9b",
   "metadata": {},
   "outputs": [],
   "source": [
    "x_3 = np.random.random((3, 5, 7))"
   ]
  },
  {
   "cell_type": "code",
   "execution_count": 276,
   "id": "96b3a92c-7393-44aa-a0d2-be7d6a2d0b45",
   "metadata": {},
   "outputs": [
    {
     "data": {
      "text/plain": [
       "49.89733103100551"
      ]
     },
     "execution_count": 276,
     "metadata": {},
     "output_type": "execute_result"
    }
   ],
   "source": [
    "x_3.sum()"
   ]
  },
  {
   "cell_type": "code",
   "execution_count": 277,
   "id": "e40f9c95-6f71-48c6-bd5f-5e7d263718f4",
   "metadata": {},
   "outputs": [
    {
     "data": {
      "text/plain": [
       "array([[0.93321107, 0.82128085, 0.93456308, 0.78096245, 0.87613644,\n",
       "        0.69079821, 0.8965596 ],\n",
       "       [0.86004501, 0.76993247, 0.7149838 , 0.91414594, 0.98056655,\n",
       "        0.9834486 , 0.78754533],\n",
       "       [0.81289648, 0.60633696, 0.68145665, 0.91312938, 0.85666553,\n",
       "        0.92113326, 0.89469098]])"
      ]
     },
     "execution_count": 277,
     "metadata": {},
     "output_type": "execute_result"
    }
   ],
   "source": [
    "x_3.max(axis=1)"
   ]
  },
  {
   "cell_type": "markdown",
   "id": "ccecee26-3945-45c1-811a-b11fda69c292",
   "metadata": {},
   "source": [
    "### Другие функции агрегации"
   ]
  },
  {
   "cell_type": "markdown",
   "id": "24ef500e-fc6a-4854-b27f-b0183787d53f",
   "metadata": {},
   "source": [
    "|Function Name      |   NaN-safe Version  | Description                                   |\n",
    "|-------------------|---------------------|-----------------------------------------------|\n",
    "| ``np.sum``        | ``np.nansum``       | Compute sum of elements                       |\n",
    "| ``np.prod``       | ``np.nanprod``      | Compute product of elements                   |\n",
    "| ``np.mean``       | ``np.nanmean``      | Compute mean of elements                      |\n",
    "| ``np.std``        | ``np.nanstd``       | Compute standard deviation                    |\n",
    "| ``np.var``        | ``np.nanvar``       | Compute variance                              |\n",
    "| ``np.min``        | ``np.nanmin``       | Find minimum value                            |\n",
    "| ``np.max``        | ``np.nanmax``       | Find maximum value                            |\n",
    "| ``np.argmin``     | ``np.nanargmin``    | Find index of minimum value                   |\n",
    "| ``np.argmax``     | ``np.nanargmax``    | Find index of maximum value                   |\n",
    "| ``np.median``     | ``np.nanmedian``    | Compute median of elements                    |\n",
    "| ``np.percentile`` | ``np.nanpercentile``| Compute rank-based statistics of elements     |\n",
    "| ``np.any``        | N/A                 | Evaluate whether any elements are true        |\n",
    "| ``np.all``        | N/A                 | Evaluate whether all elements are true        |\n"
   ]
  },
  {
   "cell_type": "markdown",
   "id": "c01e189a-8f8c-4123-874b-5c5d88dfa2be",
   "metadata": {},
   "source": [
    "# Вычисления над массивами NumPy: трансляция - приведение размерностей (broadcasting)"
   ]
  },
  {
   "cell_type": "markdown",
   "id": "6f11d0b1-c7d0-4588-a014-5e66c1537341",
   "metadata": {},
   "source": [
    "Универсальные функции NumPy позволяют осуществлять *векторизации* операций и тем самым исключать медленные циклы Python. Бинарные операции (например, сложение, вычитание, умножение и т.д.)  принимают пару массивов и до сих пор эти массивы имели одинаковую размерность. Трансляция (broadcasting) - это просто набор правил, который примененяется к массивам разных размерностей, при вызове бинарных функций."
   ]
  },
  {
   "cell_type": "markdown",
   "id": "75c0764a-8b1b-483d-a111-ed2028eabbfb",
   "metadata": {},
   "source": [
    "## Введение в трансляцию массивов"
   ]
  },
  {
   "cell_type": "code",
   "execution_count": 278,
   "id": "af9cd3f2-d4f4-4550-a0da-fbd2c84b7151",
   "metadata": {},
   "outputs": [
    {
     "data": {
      "text/plain": [
       "array([5, 6, 7])"
      ]
     },
     "execution_count": 278,
     "metadata": {},
     "output_type": "execute_result"
    }
   ],
   "source": [
    "a_1 = np.array([0, 1, 2])\n",
    "b_1 = np.array([5, 5, 5])\n",
    "a_1 + b_1"
   ]
  },
  {
   "cell_type": "code",
   "execution_count": 279,
   "id": "94502003-ad4c-46d6-b93c-47267324da4e",
   "metadata": {},
   "outputs": [
    {
     "data": {
      "text/plain": [
       "array([5, 6, 7])"
      ]
     },
     "execution_count": 279,
     "metadata": {},
     "output_type": "execute_result"
    }
   ],
   "source": [
    "a_1 + 5"
   ]
  },
  {
   "cell_type": "code",
   "execution_count": 280,
   "id": "e9fed4e7-91af-410c-8fb2-e7d9b2117264",
   "metadata": {},
   "outputs": [],
   "source": [
    "c_2 = np.ones((3, 3))"
   ]
  },
  {
   "cell_type": "code",
   "execution_count": 281,
   "id": "9ea44a28-7d13-4bc0-b6c2-1ca405d9af5f",
   "metadata": {},
   "outputs": [
    {
     "data": {
      "text/plain": [
       "array([[1., 2., 3.],\n",
       "       [1., 2., 3.],\n",
       "       [1., 2., 3.]])"
      ]
     },
     "execution_count": 281,
     "metadata": {},
     "output_type": "execute_result"
    }
   ],
   "source": [
    "c_2 + a_1"
   ]
  },
  {
   "cell_type": "markdown",
   "id": "0cecd63b-9b2c-4f45-97b3-3c299118313c",
   "metadata": {},
   "source": [
    "Как раньше мы растягивали или транслировали одно значение для соответствия форме другого, здесь мы растянули /``a_1``, и ``b_1`` для соответствия общей форме, и в результате получился двумерный массив!"
   ]
  },
  {
   "cell_type": "markdown",
   "id": "65e50b43-5153-4ae5-91ad-236809a1cb14",
   "metadata": {},
   "source": [
    "![Broadcasting Visual](images/02.05-broadcasting.png)"
   ]
  },
  {
   "cell_type": "markdown",
   "id": "b97b4567-57cb-40ea-a7d1-3100f177da6b",
   "metadata": {},
   "source": [
    "Светлые ячейки представляют транслированые значения: дополнительная память фактически не выделяется, но концептуально может быть полезно представить, что это так."
   ]
  },
  {
   "cell_type": "markdown",
   "id": "78787ac3-1f2d-44c8-8264-addeebc52533",
   "metadata": {},
   "source": [
    "## Правила трансляции массивов\n",
    "\n",
    "Трансляция в NumPy подчиняется строгому набору правил, определяющих взаимодействие между двумя массивами:\n",
    "\n",
    "- Правило 1: Если два массива различаются по количеству измерений, то форма массива с меньшим количеством измерений *дополняется* единицами на его ведущей (левой) стороне.\n",
    "- Правило 2: Если форма двух массивов не совпадает в каком-либо измерении, то массив с формой, равной 1 в этом измерении, растягивается, чтобы соответствовать другой форме.\n",
    "- Правило 3: Если в каком-либо измерении размеры не совпадают и ни один из них не равен 1, то выдается ошибка.\n",
    "\n",
    "Чтобы эти правила стали понятны, рассмотрим несколько примеров подробнее."
   ]
  },
  {
   "cell_type": "markdown",
   "id": "6d76687b-2b5b-4e1a-b0d7-5e296bd83c24",
   "metadata": {},
   "source": [
    "### Пример трансляции 1\n",
    "\n",
    "Пример, добавление двумерного массива к одномерному массиву"
   ]
  },
  {
   "cell_type": "code",
   "execution_count": 282,
   "id": "a95acd54-e41d-4402-aaae-188197f2ecd8",
   "metadata": {},
   "outputs": [],
   "source": [
    "M = np.ones((2, 3))\n",
    "a = np.arange(3)"
   ]
  },
  {
   "cell_type": "markdown",
   "id": "6d536289-a572-4f74-a5e1-96bd8c3a1b86",
   "metadata": {},
   "source": [
    "Рассмотрим операцию над этими двумя массивами. Массивы имеют следующие размерности\n",
    "\n",
    "- ``M.shape = (2, 3)``\n",
    "- ``a.shape = (3,)``.\n",
    "\n",
    "По правилу 1 мы видим, что массив ``a`` имеет меньшую размерность, поэтому мы заполняем его слева единицами:\n",
    "\n",
    "- ``M.shape -> (2, 3)``\n",
    "- ``a.shape -> (1, 3)``.\n",
    "\n",
    "По правилу 2, мы видим, что первое измерение не совпадает, поэтому мы растягиваем это измерение до соответствия:\n",
    "\n",
    "- ``M.shape -> (2, 3)``\n",
    "- ``a.shape -> (2, 3)``.\n",
    "\n",
    "Формы совпадают, и мы видим, что окончательная форма будет ``(2, 3)``:"
   ]
  },
  {
   "cell_type": "code",
   "execution_count": 283,
   "id": "eedeffc8-ca8d-4ee1-b4f7-010e2965d0d6",
   "metadata": {},
   "outputs": [
    {
     "data": {
      "text/plain": [
       "array([[1., 2., 3.],\n",
       "       [1., 2., 3.]])"
      ]
     },
     "execution_count": 283,
     "metadata": {},
     "output_type": "execute_result"
    }
   ],
   "source": [
    "M + a"
   ]
  },
  {
   "cell_type": "markdown",
   "id": "604e7d65-dcb2-4b3b-a2a6-a433b9731a77",
   "metadata": {},
   "source": [
    "### Пример трансляции 2\n",
    "\n",
    "Пример, в котором необходимо транслировать оба массива"
   ]
  },
  {
   "cell_type": "code",
   "execution_count": 284,
   "id": "e8ab942d-9000-4163-ad98-5b13366bcbe0",
   "metadata": {},
   "outputs": [],
   "source": [
    "a = np.arange(3).reshape((3, 1))\n",
    "b = np.arange(3)"
   ]
  },
  {
   "cell_type": "markdown",
   "id": "7dad3db7-36e1-4c15-898a-9a298d2c3ab0",
   "metadata": {},
   "source": [
    "Рассмотрим операцию над этими двумя массивами. Массивы имеют следующие размерности\n",
    "\n",
    "- ``a.shape = (3, 1)``\n",
    "- ``b.shape = (3,)``.\n",
    "\n",
    "Правило 1 гласит, что мы должны заполнить форму ``b`` единицами:\n",
    "\n",
    "- ``a.shape -> (3, 1)``\n",
    "- ``b.shape -> (1, 3)``.\n",
    "\n",
    "А правило 2 говорит нам, что мы обновляем каждый из этих единичных массивов до соответствующего размера другого массива:\n",
    "\n",
    "- ``a.shape -> (3, 3)``\n",
    "- ``b.shape -> (3, 3)``.\n",
    "\n",
    "Поскольку результат совпадает, эти формы совместимы."
   ]
  },
  {
   "cell_type": "code",
   "execution_count": 285,
   "id": "855a4bbd-9e3b-487a-98cb-b0002f8e5d17",
   "metadata": {},
   "outputs": [
    {
     "data": {
      "text/plain": [
       "array([[0, 1, 2],\n",
       "       [1, 2, 3],\n",
       "       [2, 3, 4]])"
      ]
     },
     "execution_count": 285,
     "metadata": {},
     "output_type": "execute_result"
    }
   ],
   "source": [
    "a + b"
   ]
  },
  {
   "cell_type": "markdown",
   "id": "3089815a-f810-4452-8fb7-298ba1c2c70b",
   "metadata": {},
   "source": [
    "### Пример трансляции 3\n",
    "\n",
    "Пример, в котором два массива несовместимы"
   ]
  },
  {
   "cell_type": "code",
   "execution_count": 286,
   "id": "7146b27c-a8d5-428a-a9f0-f12882d5c788",
   "metadata": {},
   "outputs": [],
   "source": [
    "M = np.ones((3, 2))\n",
    "a = np.arange(3)"
   ]
  },
  {
   "cell_type": "markdown",
   "id": "363a50cb-faaf-49ec-8c25-cb5c73ac505b",
   "metadata": {},
   "source": [
    "Ситуация, отличная от первого примера: матрица ``M`` транспонирована.\n",
    "Как это влияет на вычисления? Массивы имеют следующие размерности\n",
    "\n",
    "- ``M.shape = (3, 2)``\n",
    "- ``a.shape = (3,)``.\n",
    "\n",
    "Правило 1 говорит нам, что мы должны заполнить форму ``a`` единицами:\n",
    "\n",
    "- ``M.shape -> (3, 2)``\n",
    "- ``a.shape -> (1, 3)``.\n",
    "\n",
    "Правило 2, первое измерение ``a`` растягивается, чтобы соответствовать измерению ``M``:\n",
    "\n",
    "- ``M.shape -> (3, 2)``\n",
    "- ``a.shape -> (3, 3)``.\n",
    "\n",
    "Правило 3 - конечные формы не совпадают, поэтому эти два массива несовместимы"
   ]
  },
  {
   "cell_type": "code",
   "execution_count": 287,
   "id": "9ff80832-23c3-4f3d-9e38-34878c89ffd3",
   "metadata": {},
   "outputs": [],
   "source": [
    "#M + a"
   ]
  },
  {
   "cell_type": "markdown",
   "id": "ec3c0ab4-4e75-43c6-9ec8-2c40a3ee2553",
   "metadata": {},
   "source": [
    "Обратите внимание на потенциальную путаницу: можно представить, что можно сделать ``a`` и ``M`` совместимыми, скажем, дополнив форму ``a`` теми, что справа, а не слева.\n",
    "Но правила трансляции работают не так!\n",
    "Такая гибкость может быть полезна в некоторых случаях, но она приведет к потенциальным областям неоднозначности.\n",
    "Если вам нужна правосторонняя подстановка, вы можете сделать это явно, изменив форму массива (мы будем использовать ключевое слово ``np.newaxis``, представленное в [The Basics of NumPy Arrays](02.02-The-Basics-Of-NumPy-Arrays.ipynb)):"
   ]
  },
  {
   "cell_type": "code",
   "execution_count": 288,
   "id": "cecf465f-8f8b-4c1c-83d0-3ecf56baa7fd",
   "metadata": {},
   "outputs": [
    {
     "data": {
      "text/plain": [
       "(3, 1)"
      ]
     },
     "execution_count": 288,
     "metadata": {},
     "output_type": "execute_result"
    }
   ],
   "source": [
    "a[:, np.newaxis].shape"
   ]
  },
  {
   "cell_type": "code",
   "execution_count": 289,
   "id": "6cfc971c-9787-48eb-a1f9-dcd181e37d29",
   "metadata": {},
   "outputs": [
    {
     "data": {
      "text/plain": [
       "array([[1., 1.],\n",
       "       [2., 2.],\n",
       "       [3., 3.]])"
      ]
     },
     "execution_count": 289,
     "metadata": {},
     "output_type": "execute_result"
    }
   ],
   "source": [
    "M + a[:, np.newaxis]"
   ]
  },
  {
   "cell_type": "markdown",
   "id": "ce51e431-f610-4f7f-9cef-58261acdfbdf",
   "metadata": {},
   "source": [
    "# Сравнение, маски и булевы операций"
   ]
  },
  {
   "cell_type": "markdown",
   "id": "2e10ec2c-caa5-4f11-a551-d0ede95d9fe1",
   "metadata": {},
   "source": [
    "Рассмотрим использование булевых масок для исследования и манипулирования значениями в массивах NumPy.\n",
    "Маскирование возникает, когда вы хотите извлечь, изменить, подсчитать или иным образом манипулировать значениями в массиве на основе некоторого критерия: например, вы можете захотеть подсчитать все значения, превышающие определенное значение, или удалить все отклонения, которые превышают некоторый порог.\n",
    "В NumPy булево маскирование часто является наиболее эффективным способом решения подобных задач."
   ]
  },
  {
   "cell_type": "markdown",
   "id": "6a55d153-6092-489a-a620-95888c213cf6",
   "metadata": {},
   "source": [
    "## Операторы сравнения, как ufuncs\n",
    "\n",
    "NumPy реализует операторы сравнения, такие как ``<`` (меньше чем) и ``>`` (больше чем), как поэлементные *ufuncs*.\n",
    "Результатом этих операторов сравнения всегда является массив с булевым типом данных.\n",
    "Доступны все шесть стандартных операций сравнения."
   ]
  },
  {
   "cell_type": "code",
   "execution_count": 290,
   "id": "85621a13-0e07-4815-adb0-589e87e90b2f",
   "metadata": {},
   "outputs": [],
   "source": [
    "x = np.array([1, 2, 3, 4, 5])"
   ]
  },
  {
   "cell_type": "code",
   "execution_count": 291,
   "id": "e8030e89-110b-4d10-b4ef-f095a4896c44",
   "metadata": {},
   "outputs": [
    {
     "data": {
      "text/plain": [
       "array([ True,  True, False, False, False])"
      ]
     },
     "execution_count": 291,
     "metadata": {},
     "output_type": "execute_result"
    }
   ],
   "source": [
    "x < 3  # less than"
   ]
  },
  {
   "cell_type": "code",
   "execution_count": 292,
   "id": "ad12e053-b658-418b-802b-d916dc687703",
   "metadata": {},
   "outputs": [
    {
     "data": {
      "text/plain": [
       "array([False, False, False,  True,  True])"
      ]
     },
     "execution_count": 292,
     "metadata": {},
     "output_type": "execute_result"
    }
   ],
   "source": [
    "x > 3  # greater than"
   ]
  },
  {
   "cell_type": "code",
   "execution_count": 293,
   "id": "d466437b-07ca-47a3-a7c9-ccd50db187bd",
   "metadata": {},
   "outputs": [
    {
     "data": {
      "text/plain": [
       "array([ True,  True,  True, False, False])"
      ]
     },
     "execution_count": 293,
     "metadata": {},
     "output_type": "execute_result"
    }
   ],
   "source": [
    "x <= 3  # less than or equal"
   ]
  },
  {
   "cell_type": "code",
   "execution_count": 294,
   "id": "37d934c7-235c-4e56-a246-c741edc6d849",
   "metadata": {},
   "outputs": [
    {
     "data": {
      "text/plain": [
       "array([False, False,  True,  True,  True])"
      ]
     },
     "execution_count": 294,
     "metadata": {},
     "output_type": "execute_result"
    }
   ],
   "source": [
    "x >= 3  # greater than or equal"
   ]
  },
  {
   "cell_type": "code",
   "execution_count": 295,
   "id": "fffa9c00-ea84-4f23-9037-c4d92402ca2c",
   "metadata": {},
   "outputs": [
    {
     "data": {
      "text/plain": [
       "array([ True,  True, False,  True,  True])"
      ]
     },
     "execution_count": 295,
     "metadata": {},
     "output_type": "execute_result"
    }
   ],
   "source": [
    "x != 3  # not equal"
   ]
  },
  {
   "cell_type": "code",
   "execution_count": 296,
   "id": "301f6b93-9f26-4a03-b086-193c7084c000",
   "metadata": {},
   "outputs": [
    {
     "data": {
      "text/plain": [
       "array([False, False,  True, False, False])"
      ]
     },
     "execution_count": 296,
     "metadata": {},
     "output_type": "execute_result"
    }
   ],
   "source": [
    "x == 3  # equal"
   ]
  },
  {
   "cell_type": "markdown",
   "id": "44e848cc-5aa5-424c-8c15-b9c577f8bf2b",
   "metadata": {},
   "source": [
    "Можно выполнять поэлементное сравнение двух массивов, включая составные выражения"
   ]
  },
  {
   "cell_type": "code",
   "execution_count": 297,
   "id": "3eeaa212-8164-4e31-97cf-b70146599202",
   "metadata": {},
   "outputs": [
    {
     "data": {
      "text/plain": [
       "array([False,  True, False, False, False])"
      ]
     },
     "execution_count": 297,
     "metadata": {},
     "output_type": "execute_result"
    }
   ],
   "source": [
    "(2 * x) == (x ** 2)"
   ]
  },
  {
   "cell_type": "markdown",
   "id": "01db583e-9167-481c-ad57-bf366b45eb1c",
   "metadata": {},
   "source": [
    "| Operator\t    | Equivalent ufunc    | Operator\t   | Equivalent ufunc   |\n",
    "|---------------|---------------------|---------------|---------------------|\n",
    "|``==``         |``np.equal``         |``!=``         |``np.not_equal``     |\n",
    "|``<``          |``np.less``          |``<=``         |``np.less_equal``    |\n",
    "|``>``          |``np.greater``       |``>=``         |``np.greater_equal`` |"
   ]
  },
  {
   "cell_type": "markdown",
   "id": "4ed14c41-e422-4982-9bba-ebd19932e235",
   "metadata": {},
   "source": [
    "## Работа с булевыми массивами\n",
    "\n",
    "С массивом булевых чисел можно выполнять множество полезных операций."
   ]
  },
  {
   "cell_type": "code",
   "execution_count": 298,
   "id": "4dcf26f1-81ca-490c-9a54-68eb83142953",
   "metadata": {},
   "outputs": [
    {
     "data": {
      "text/plain": [
       "array([[5, 0, 3, 3],\n",
       "       [7, 9, 3, 5],\n",
       "       [2, 4, 7, 6]])"
      ]
     },
     "execution_count": 298,
     "metadata": {},
     "output_type": "execute_result"
    }
   ],
   "source": [
    "rng = np.random.RandomState(0)\n",
    "x = rng.randint(10, size=(3, 4))\n",
    "x"
   ]
  },
  {
   "cell_type": "markdown",
   "id": "32caf1d4-3468-4f85-be48-41f2dc28562f",
   "metadata": {},
   "source": [
    "Для подсчета количества ``истинных`` записей в булевом массиве полезно использовать ``np.count_nonzero''."
   ]
  },
  {
   "cell_type": "code",
   "execution_count": 299,
   "id": "fda6edc5-15a6-407b-90ea-83fd361d6c93",
   "metadata": {},
   "outputs": [
    {
     "data": {
      "text/plain": [
       "8"
      ]
     },
     "execution_count": 299,
     "metadata": {},
     "output_type": "execute_result"
    }
   ],
   "source": [
    "np.count_nonzero(x < 6)"
   ]
  },
  {
   "cell_type": "code",
   "execution_count": 300,
   "id": "619abae5-5e14-4c9d-9759-d28e99718ed7",
   "metadata": {},
   "outputs": [
    {
     "data": {
      "text/plain": [
       "8"
      ]
     },
     "execution_count": 300,
     "metadata": {},
     "output_type": "execute_result"
    }
   ],
   "source": [
    "np.sum(x < 6)"
   ]
  },
  {
   "cell_type": "code",
   "execution_count": 301,
   "id": "7d0be2a5-547e-4cbe-8c30-e82988b8eabd",
   "metadata": {},
   "outputs": [
    {
     "data": {
      "text/plain": [
       "array([4, 2, 2])"
      ]
     },
     "execution_count": 301,
     "metadata": {},
     "output_type": "execute_result"
    }
   ],
   "source": [
    "np.sum(x < 6, axis=1)"
   ]
  },
  {
   "cell_type": "markdown",
   "id": "3fc8c94d-355c-4d8b-ab08-0c4b98692cc6",
   "metadata": {},
   "source": [
    "Если мы хотим быстро проверить, все ли значения истинны, мы можем использовать ``np.any`` или ``np.all``."
   ]
  },
  {
   "cell_type": "code",
   "execution_count": 302,
   "id": "0cee25b3-90d1-4e93-988f-1757fdc8d534",
   "metadata": {},
   "outputs": [
    {
     "data": {
      "text/plain": [
       "True"
      ]
     },
     "execution_count": 302,
     "metadata": {},
     "output_type": "execute_result"
    }
   ],
   "source": [
    "np.any(x > 8)"
   ]
  },
  {
   "cell_type": "code",
   "execution_count": 303,
   "id": "dd65a3e3-38fd-4a60-bd35-94aa6881c250",
   "metadata": {},
   "outputs": [
    {
     "data": {
      "text/plain": [
       "False"
      ]
     },
     "execution_count": 303,
     "metadata": {},
     "output_type": "execute_result"
    }
   ],
   "source": [
    "np.all(x == 6)"
   ]
  },
  {
   "cell_type": "markdown",
   "id": "1477ac35-5cde-4bd8-9435-1c999a86843c",
   "metadata": {},
   "source": [
    "``np.all`` и ``np.any`` можно использовать вдоль заданной оси."
   ]
  },
  {
   "cell_type": "code",
   "execution_count": 304,
   "id": "b8a505f1-9572-4501-81f9-6dbf1c59c5da",
   "metadata": {},
   "outputs": [
    {
     "data": {
      "text/plain": [
       "array([ True, False,  True])"
      ]
     },
     "execution_count": 304,
     "metadata": {},
     "output_type": "execute_result"
    }
   ],
   "source": [
    "np.all(x < 8, axis=1)"
   ]
  },
  {
   "cell_type": "markdown",
   "id": "e2e32aff-8f6b-4dc9-925c-da80d9f39091",
   "metadata": {},
   "source": [
    "В Python для построения составных логических выражений используются *битовые логические операторы*, ``&``, ``|``, ``^`` и ``~`` (и, или, отрицание).\n",
    "Как и в случае со стандартными арифметическими операторами, NumPy перегружает их в виде ufuncs, которые работают с массивами (обычно булевыми) поэлементно."
   ]
  },
  {
   "cell_type": "code",
   "execution_count": 326,
   "id": "73e20020-702b-406f-80a4-94dead079609",
   "metadata": {},
   "outputs": [
    {
     "data": {
      "text/plain": [
       "0"
      ]
     },
     "execution_count": 326,
     "metadata": {},
     "output_type": "execute_result"
    }
   ],
   "source": [
    "np.sum((x > 0.5) & (x < 1))"
   ]
  },
  {
   "cell_type": "code",
   "execution_count": 328,
   "id": "4a9f1ddb-cf09-4173-addb-390e23b55692",
   "metadata": {},
   "outputs": [
    {
     "data": {
      "text/plain": [
       "3"
      ]
     },
     "execution_count": 328,
     "metadata": {},
     "output_type": "execute_result"
    }
   ],
   "source": [
    "np.sum(~( (x <= 0.5) | (x >= 4) ))"
   ]
  },
  {
   "cell_type": "markdown",
   "id": "794d2ead-d888-4694-b854-8cfb75b2d0f0",
   "metadata": {},
   "source": [
    "| Operator\t    | Equivalent ufunc    | Operator\t    | Equivalent ufunc    |\n",
    "|---------------|---------------------|---------------|---------------------|\n",
    "|``&``          |``np.bitwise_and``   |``\\|``          |``np.bitwise_or``    |\n",
    "|``^``          |``np.bitwise_xor``   |``~``          |``np.bitwise_not``   |"
   ]
  },
  {
   "cell_type": "markdown",
   "id": "b6bbb358-de73-433d-a0ad-b72b208ee873",
   "metadata": {},
   "source": [
    "## Булевы массивы в качестве масок\n",
    "\n",
    "В предыдущем разделе мы рассмотрели агрегаты, вычисляемые непосредственно на булевых массивах.\n",
    "Более мощная схема заключается в использовании булевых массивов в качестве масок для выбора определенных подмножеств данных.\n",
    "Возвращаясь к нашему массиву ``x``, предположим, что нам нужен массив всех значений в массиве, которые меньше, скажем, 5."
   ]
  },
  {
   "cell_type": "code",
   "execution_count": 305,
   "id": "4908c8d7-3b10-44e3-84e9-c5f0579a5a23",
   "metadata": {},
   "outputs": [
    {
     "data": {
      "text/plain": [
       "array([[5, 0, 3, 3],\n",
       "       [7, 9, 3, 5],\n",
       "       [2, 4, 7, 6]])"
      ]
     },
     "execution_count": 305,
     "metadata": {},
     "output_type": "execute_result"
    }
   ],
   "source": [
    "x"
   ]
  },
  {
   "cell_type": "code",
   "execution_count": 306,
   "id": "25ea0e65-5176-4935-aa88-cc4aa29b3e8f",
   "metadata": {},
   "outputs": [
    {
     "data": {
      "text/plain": [
       "array([0, 3, 3, 3, 2, 4])"
      ]
     },
     "execution_count": 306,
     "metadata": {},
     "output_type": "execute_result"
    }
   ],
   "source": [
    "x[x < 5]"
   ]
  },
  {
   "cell_type": "markdown",
   "id": "c8d66bd0-f25a-4ee0-9e0e-f66b36118592",
   "metadata": {},
   "source": [
    "## Использование ключевых слов ``and`` и ``or`` и операторов ``&`` и ``|``\n",
    "\n",
    "Между ключевыми словами ``and`` и ``or``, с одной стороны, и операторами ``&`` и ``|``, с другой, имеется значительная разница.\n",
    "Разница заключается в следующем: ``and`` и ``or`` определяют истинность или ложность *всего объекта*, в то время как ``&`` и ``|`` относятся к *битам внутри каждого объекта*.\n",
    "\n",
    "Когда используются ``and`` или ``or``, Python объект рассматривается, как единую булеву сущность. В Python все ненулевые целые числа оцениваются как True."
   ]
  },
  {
   "cell_type": "code",
   "execution_count": 307,
   "id": "d84c6258-7f0f-40ca-b3ac-bf748ffca5e6",
   "metadata": {},
   "outputs": [
    {
     "data": {
      "text/plain": [
       "(True, False)"
      ]
     },
     "execution_count": 307,
     "metadata": {},
     "output_type": "execute_result"
    }
   ],
   "source": [
    "bool(42), bool(0)"
   ]
  },
  {
   "cell_type": "code",
   "execution_count": 308,
   "id": "fe5ea60e-2aba-4093-a685-1401025799be",
   "metadata": {},
   "outputs": [
    {
     "data": {
      "text/plain": [
       "False"
      ]
     },
     "execution_count": 308,
     "metadata": {},
     "output_type": "execute_result"
    }
   ],
   "source": [
    "bool(42 and 0)"
   ]
  },
  {
   "cell_type": "code",
   "execution_count": 309,
   "id": "a61f0e76-a791-41ca-9632-46606d85b6b0",
   "metadata": {},
   "outputs": [
    {
     "data": {
      "text/plain": [
       "True"
      ]
     },
     "execution_count": 309,
     "metadata": {},
     "output_type": "execute_result"
    }
   ],
   "source": [
    "bool(42 or 0)"
   ]
  },
  {
   "cell_type": "markdown",
   "id": "873e1a98-8f26-4a3f-8df0-f774003ca970",
   "metadata": {},
   "source": [
    "Когда используются ``&`` или ``|``  для целых чисел, выражения\n",
    "When you use ``&`` and ``|`` on integers, the expression operates on the bits of the element, applying the *and* or the *or* to the individual bits making up the number:"
   ]
  },
  {
   "cell_type": "code",
   "execution_count": 310,
   "id": "2b9bb46f-d86b-4e08-9f89-004c6110329f",
   "metadata": {},
   "outputs": [
    {
     "data": {
      "text/plain": [
       "('0b101010', '0b111011')"
      ]
     },
     "execution_count": 310,
     "metadata": {},
     "output_type": "execute_result"
    }
   ],
   "source": [
    "bin(42), bin(59)"
   ]
  },
  {
   "cell_type": "code",
   "execution_count": 311,
   "id": "5698c3a2-f370-4588-aceb-81c56fb86d8a",
   "metadata": {},
   "outputs": [
    {
     "data": {
      "text/plain": [
       "('0b101010', '0b111011')"
      ]
     },
     "execution_count": 311,
     "metadata": {},
     "output_type": "execute_result"
    }
   ],
   "source": [
    "bin(42 & 59), bin(42 | 59)"
   ]
  },
  {
   "cell_type": "markdown",
   "id": "6ed46835-90d0-40c9-a438-6e86aba3c43d",
   "metadata": {},
   "source": [
    "When you have an array of Boolean values in NumPy, this can be thought of as a string of bits where ``1 = True`` and ``0 = False``, and the result of ``&`` and ``|`` operates similarly to above:"
   ]
  },
  {
   "cell_type": "code",
   "execution_count": 312,
   "id": "48e21413-7391-43c9-a8d9-457ab74ccf71",
   "metadata": {},
   "outputs": [
    {
     "data": {
      "text/plain": [
       "array([ True,  True,  True, False,  True,  True])"
      ]
     },
     "execution_count": 312,
     "metadata": {},
     "output_type": "execute_result"
    }
   ],
   "source": [
    "A = np.array([1, 0, 1, 0, 1, 0], dtype=bool)\n",
    "B = np.array([1, 1, 1, 0, 1, 1], dtype=bool)\n",
    "A | B"
   ]
  },
  {
   "cell_type": "code",
   "execution_count": 313,
   "id": "8d6ff824-ff0b-4454-b9cf-dfe4a6d46b1a",
   "metadata": {},
   "outputs": [],
   "source": [
    "#A or B"
   ]
  },
  {
   "cell_type": "markdown",
   "id": "be2b6a38-0b32-4c38-9667-8f23ce5e11dc",
   "metadata": {},
   "source": [
    "# «Прихотливая» индексация (Fancy Indexing)\n",
    "\n",
    "Мы рассмотрели, как получить доступ и изменить части массивов с помощью простых индексов (например, ``arr[0]``), сечения (например, ``arr[:5]``) и булевых масок (например, ``arr[arr > 0]``).\n",
    "Мы рассмотрим другой стиль индексирования массивов, известный как *прихотливая индексация*.\n",
    "Прихотливая индексация похожа на простую индексацию, которую мы уже видели, но вместо отдельных индексов мы передаем массивы индексов.\n",
    "Что позволяет очень быстро получать доступ и изменять сложные подмножества значений массива."
   ]
  },
  {
   "cell_type": "markdown",
   "id": "ab9daef9-be93-4522-8b37-77fd032d9835",
   "metadata": {},
   "source": [
    "## Изучение «прихотливая» индексации"
   ]
  },
  {
   "cell_type": "code",
   "execution_count": 314,
   "id": "5ddff755-e0ad-4c88-8d69-3ec59756a7f0",
   "metadata": {},
   "outputs": [
    {
     "name": "stdout",
     "output_type": "stream",
     "text": [
      "[51 92 14 71 60 20 82 86 74 74]\n"
     ]
    }
   ],
   "source": [
    "rand = np.random.RandomState(42)\n",
    "\n",
    "x = rand.randint(100, size=10)\n",
    "print(x)"
   ]
  },
  {
   "cell_type": "code",
   "execution_count": 315,
   "id": "13fbea07-20e3-41ad-95fe-15c2b643bc58",
   "metadata": {},
   "outputs": [
    {
     "data": {
      "text/plain": [
       "[71, 86, 14]"
      ]
     },
     "execution_count": 315,
     "metadata": {},
     "output_type": "execute_result"
    }
   ],
   "source": [
    "[x[3], x[7], x[2]]"
   ]
  },
  {
   "cell_type": "code",
   "execution_count": 316,
   "id": "c77ab6fb-6ab7-4339-9611-ce5c37e44f5b",
   "metadata": {},
   "outputs": [
    {
     "data": {
      "text/plain": [
       "array([71, 86, 60])"
      ]
     },
     "execution_count": 316,
     "metadata": {},
     "output_type": "execute_result"
    }
   ],
   "source": [
    "ind = [3, 7, 4]\n",
    "x[ind]"
   ]
  },
  {
   "cell_type": "code",
   "execution_count": 317,
   "id": "3782bb27-6864-4407-9645-b42a1a96cac6",
   "metadata": {},
   "outputs": [
    {
     "data": {
      "text/plain": [
       "array([[71, 86],\n",
       "       [60, 20]])"
      ]
     },
     "execution_count": 317,
     "metadata": {},
     "output_type": "execute_result"
    }
   ],
   "source": [
    "ind = np.array([[3, 7],[4, 5]])\n",
    "x[ind]"
   ]
  },
  {
   "cell_type": "code",
   "execution_count": 334,
   "id": "7581cae8-ee31-4bdc-bee1-b0ceec4cdf6c",
   "metadata": {},
   "outputs": [
    {
     "data": {
      "text/plain": [
       "array([[ 0,  1,  2,  3],\n",
       "       [ 4,  5,  6,  7],\n",
       "       [ 8,  9, 10, 11]])"
      ]
     },
     "execution_count": 334,
     "metadata": {},
     "output_type": "execute_result"
    }
   ],
   "source": [
    "X = np.arange(12).reshape((3, 4))\n",
    "X"
   ]
  },
  {
   "cell_type": "code",
   "execution_count": 335,
   "id": "817fea89-106b-4183-be2d-a32eab5a296d",
   "metadata": {},
   "outputs": [
    {
     "data": {
      "text/plain": [
       "array([ 2,  5, 11])"
      ]
     },
     "execution_count": 335,
     "metadata": {},
     "output_type": "execute_result"
    }
   ],
   "source": [
    "row = np.array([0, 1, 2])\n",
    "col = np.array([2, 1, 3])\n",
    "X[row, col]"
   ]
  },
  {
   "cell_type": "code",
   "execution_count": 336,
   "id": "acc40580-7359-4b3a-9a34-64dd42c04f2b",
   "metadata": {},
   "outputs": [
    {
     "data": {
      "text/plain": [
       "array([[ 2,  1,  3],\n",
       "       [ 6,  5,  7],\n",
       "       [10,  9, 11]])"
      ]
     },
     "execution_count": 336,
     "metadata": {},
     "output_type": "execute_result"
    }
   ],
   "source": [
    "X[row[:, np.newaxis], col]"
   ]
  },
  {
   "cell_type": "code",
   "execution_count": 337,
   "id": "afb069fb-8bc3-4c0e-b6a6-10e7ff32c5ed",
   "metadata": {},
   "outputs": [
    {
     "data": {
      "text/plain": [
       "array([[0, 0, 0],\n",
       "       [2, 1, 3],\n",
       "       [4, 2, 6]])"
      ]
     },
     "execution_count": 337,
     "metadata": {},
     "output_type": "execute_result"
    }
   ],
   "source": [
    "row[:, np.newaxis] * col"
   ]
  },
  {
   "cell_type": "markdown",
   "id": "8a345388-b561-462b-ad2a-6964c3cfb891",
   "metadata": {},
   "source": [
    "## Комбинированная индексация"
   ]
  },
  {
   "cell_type": "code",
   "execution_count": 338,
   "id": "d1094ccb-e70b-4333-9a97-c4e8ca3e8549",
   "metadata": {},
   "outputs": [
    {
     "data": {
      "text/plain": [
       "array([10,  8,  9])"
      ]
     },
     "execution_count": 338,
     "metadata": {},
     "output_type": "execute_result"
    }
   ],
   "source": [
    "X[2, [2, 0, 1]]"
   ]
  },
  {
   "cell_type": "code",
   "execution_count": 339,
   "id": "5f121b7c-9d7b-4622-a253-36f57ddbc21f",
   "metadata": {},
   "outputs": [
    {
     "data": {
      "text/plain": [
       "array([[ 6,  4,  5],\n",
       "       [10,  8,  9]])"
      ]
     },
     "execution_count": 339,
     "metadata": {},
     "output_type": "execute_result"
    }
   ],
   "source": [
    "X[1:, [2, 0, 1]]"
   ]
  },
  {
   "cell_type": "code",
   "execution_count": 340,
   "id": "3b43c883-849e-454c-9140-6c99496328bd",
   "metadata": {},
   "outputs": [
    {
     "data": {
      "text/plain": [
       "array([[ 0,  2],\n",
       "       [ 4,  6],\n",
       "       [ 8, 10]])"
      ]
     },
     "execution_count": 340,
     "metadata": {},
     "output_type": "execute_result"
    }
   ],
   "source": [
    "mask = np.array([1, 0, 1, 0], dtype=bool)\n",
    "X[row[:, np.newaxis], mask]"
   ]
  },
  {
   "cell_type": "markdown",
   "id": "71ef727c-a5db-478a-87a6-3eda6534d965",
   "metadata": {},
   "source": [
    "# Сортировка массивов"
   ]
  },
  {
   "cell_type": "markdown",
   "id": "ae62f6ff-3f9f-4865-9eb0-c2a2ba713af7",
   "metadata": {},
   "source": [
    "## Быстрая сортировка в NumPy: ``np.sort`` и ``np.argsort``\n",
    "\n",
    "B Python есть встроенные функции ``sort`` и ``sorted`` для работы со списками, однако функция NumPy ``np.sort`` оказывается гораздо более эффективной и полезной для наших задач."
   ]
  },
  {
   "cell_type": "code",
   "execution_count": 320,
   "id": "22ca11db-b655-4635-97a9-69ad6b7d2e45",
   "metadata": {},
   "outputs": [
    {
     "data": {
      "text/plain": [
       "array([1, 2, 3, 4, 5])"
      ]
     },
     "execution_count": 320,
     "metadata": {},
     "output_type": "execute_result"
    }
   ],
   "source": [
    "x = np.array([2, 1, 4, 3, 5])\n",
    "np.sort(x)"
   ]
  },
  {
   "cell_type": "code",
   "execution_count": 321,
   "id": "94a82e2f-a597-478f-a47f-0900f7b228f9",
   "metadata": {},
   "outputs": [
    {
     "data": {
      "text/plain": [
       "array([1, 2, 3, 4, 5])"
      ]
     },
     "execution_count": 321,
     "metadata": {},
     "output_type": "execute_result"
    }
   ],
   "source": [
    "x.sort()\n",
    "x"
   ]
  },
  {
   "cell_type": "code",
   "execution_count": 322,
   "id": "06584eba-5b1c-4f6d-ab69-ac729792af2b",
   "metadata": {},
   "outputs": [
    {
     "name": "stdout",
     "output_type": "stream",
     "text": [
      "[1 0 3 2 4]\n"
     ]
    }
   ],
   "source": [
    "x = np.array([2, 1, 4, 3, 5])\n",
    "i = np.argsort(x)\n",
    "print(i)"
   ]
  },
  {
   "cell_type": "markdown",
   "id": "156e6509-ff6e-4a8d-85f3-6f9b878e070b",
   "metadata": {},
   "source": [
    "### Сортировка вдоль строки и колонки"
   ]
  },
  {
   "cell_type": "markdown",
   "id": "e04a7044-5eb2-4e4c-bbdf-e1ad9fef871b",
   "metadata": {},
   "source": [
    "Полезной особенностью алгоритмов сортировки NumPy является возможность сортировки вдоль осей многомерного массива с помощью аргумента ``axis``."
   ]
  },
  {
   "cell_type": "code",
   "execution_count": 323,
   "id": "7fd97e71-0810-455f-b240-288f8da11935",
   "metadata": {},
   "outputs": [
    {
     "name": "stdout",
     "output_type": "stream",
     "text": [
      "[[6 3 7 4 6 9]\n",
      " [2 6 7 4 3 7]\n",
      " [7 2 5 4 1 7]\n",
      " [5 1 4 0 9 5]]\n"
     ]
    }
   ],
   "source": [
    "rand = np.random.RandomState(42)\n",
    "X = rand.randint(0, 10, (4, 6))\n",
    "print(X)"
   ]
  },
  {
   "cell_type": "code",
   "execution_count": 324,
   "id": "bd3ff738-d0ea-4de3-8fcc-268676593a54",
   "metadata": {},
   "outputs": [
    {
     "data": {
      "text/plain": [
       "array([[2, 1, 4, 0, 1, 5],\n",
       "       [5, 2, 5, 4, 3, 7],\n",
       "       [6, 3, 7, 4, 6, 7],\n",
       "       [7, 6, 7, 4, 9, 9]])"
      ]
     },
     "execution_count": 324,
     "metadata": {},
     "output_type": "execute_result"
    }
   ],
   "source": [
    "# sort each column of X\n",
    "np.sort(X, axis=0)"
   ]
  },
  {
   "cell_type": "code",
   "execution_count": 325,
   "id": "2261cf99-ca83-4665-9e76-e7c92d9849a9",
   "metadata": {},
   "outputs": [
    {
     "data": {
      "text/plain": [
       "array([[3, 4, 6, 6, 7, 9],\n",
       "       [2, 3, 4, 6, 7, 7],\n",
       "       [1, 2, 4, 5, 7, 7],\n",
       "       [0, 1, 4, 5, 5, 9]])"
      ]
     },
     "execution_count": 325,
     "metadata": {},
     "output_type": "execute_result"
    }
   ],
   "source": [
    "# sort each row of X\n",
    "np.sort(X, axis=1)"
   ]
  }
 ],
 "metadata": {
  "kernelspec": {
   "display_name": "Python 3 (ipykernel)",
   "language": "python",
   "name": "python3"
  },
  "language_info": {
   "codemirror_mode": {
    "name": "ipython",
    "version": 3
   },
   "file_extension": ".py",
   "mimetype": "text/x-python",
   "name": "python",
   "nbconvert_exporter": "python",
   "pygments_lexer": "ipython3",
   "version": "3.8.16"
  }
 },
 "nbformat": 4,
 "nbformat_minor": 5
}
