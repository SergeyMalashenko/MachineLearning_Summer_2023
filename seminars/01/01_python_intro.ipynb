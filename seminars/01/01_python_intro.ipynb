{
 "cells": [
  {
   "cell_type": "markdown",
   "metadata": {
    "id": "oVlE7wQJ7pl9"
   },
   "source": [
    "# Семинар 1: Введение в Python и Jupyter Notebook"
   ]
  },
  {
   "cell_type": "markdown",
   "metadata": {},
   "source": [
    "<a href=\"https://colab.research.google.com/github/SergeyMalashenko/MachineLearning_Summer_2023/blob/main/seminars/01/01_python_intro.ipynb\"><img align=\"left\" src=\"https://colab.research.google.com/assets/colab-badge.svg\" alt=\"Open in Colab\" title=\"Open and Execute in Google Colaboratory\"></a>"
   ]
  },
  {
   "cell_type": "markdown",
   "metadata": {
    "id": "RlrpReCk7pn_"
   },
   "source": [
    "## Почему будем использовать Python\n",
    "\n",
    "\n",
    "**Python** — высокоуровневый язык программирования общего назначения с динамической строгой типизацией и автоматическим управлением памятью, ориентированный на повышение производительности разработчика, читаемости кода и его качества, а также на обеспечение переносимости написанных на нём программ ([wiki](https://ru.wikipedia.org/wiki/Python))\n",
    "\n",
    "Для нас он наиболее удобен по нескольким причинам:\n",
    "\n",
    "1. Низкий порог входа\n",
    "2. Есть множестве библиотек для анализа данных на python\n",
    "3. Удобный интерфейс IPython-ноутбуков\n",
    "\n"
   ]
  },
  {
   "cell_type": "markdown",
   "metadata": {
    "id": "Ouq-26B47pp9"
   },
   "source": [
    "## Jupyter Notebook\n",
    "\n",
    "Мы с вами сейчас находимся внутри **Jupyter Notebook**.\n",
    "На русском подобные обычно называют *ноутбуками* или, что правильнее, *тетрадками*.\n",
    "\n",
    "В Data science такие тетрадки получили широкое распространение т.к. в них можно структурно проводить исследования данных и строить модельки, чередуя код с заголовками, текстом, картинками и т.д.  \n",
    "\n",
    "В тетрадках можно:\n",
    "1. Делить код на блоки и выполнять их в любом порядке\n",
    "2. Делать текстовые вставки с форматированием\n",
    "3. Делить исследования на блоки\n",
    "4. Писать код блок-за-блоком (последовательно изучая что происходит в разных частях кода)\n",
    "\n",
    "Такие тетрадки можно затем выгружать в различных форматах. Самые популярные из них:\n",
    "1. IPython Notebook (.ipynb): Формат по умолчанию для Jupyter Notebook, который содержит все ячейки кода, текста, изображений и вывода, а также метаданные блокнота.\n",
    "2. HTML (.html): Позволяет просматривать блокнот веб-браузере без установки Jupyter Notebook.\n",
    "3. PDF (.pdf): Удобен для обмена документацией и отчетами.\n",
    "4. Executable Script (.py): Можно экспортировать только код ячеек в виде исполняемого Python скрипта.\n"
   ]
  },
  {
   "cell_type": "markdown",
   "metadata": {
    "id": "kXmRbh5f7pr4"
   },
   "source": [
    "## Как работает Jupyter Notebook\n",
    "\n",
    "Любой блокнот состоит из *ячеек*. Даже текущий текст написан в ячейке.\n",
    "\n",
    "**Новая ячейка**\n",
    "Для создания новой ячейки можно использовать один из следующих вариантов:\n",
    "- нажмите кнопку \"+\" на панели управления сверху;\n",
    "- нажмите клавишу \"B\" на клавиатуре, и новая ячейка появится после текущей активной;\n",
    "- с клавиатуры нажмите клавишу \"A\", и новая ячейка появится перед текущей активной\n",
    "\n",
    "**Типы ячеек**   \n",
    "\n",
    "Есть два типа ячеек: Код и Текст\n",
    "\n",
    "Изменение типа ячейки осуществляется через верхнюю панель управления: нужно кликнуть на ячейку и выбрать её тип.\n",
    "\n",
    "**Редактирование ячейки**\n",
    "Неактивная ячейка отображается серым цветом.\n",
    "Ячейка активируется одним кликом курсора и становится синей.\n",
    "Чтобы перейти в режим редактирования ячейки, дважды кликните по курсору, и она станет зеленой.\n",
    "\n",
    "**Прерывание работы**\n",
    "Иногда бывает полезно остановить выполняющуюся ячейку.\n",
    "Вы можете нажать кнопку остановки, когда активная ячейка выполняется. Знак STOP на верхней панели.\n",
    "Можно воспользоваться опцией в меню Kernel - Interrupt (Прервать).\n",
    "Можно выполнить \"перезагрузку\" ноутбука в меню Kernel - Restart and Clear Output (Перезапустить и Очистить вывод).\n",
    "\n"
   ]
  },
  {
   "cell_type": "markdown",
   "metadata": {
    "id": "cwDgMFoN7pt-"
   },
   "source": [
    "\n",
    "\n",
    "# Google Colab\n",
    "<a href=\"https://colab.research.google.com/\">Colab</a> - это среда разработки на языке Python, работающая в браузере с использованием Google Cloud, то есть вы можете работать в Colab, не устанавливая Python на свой компьютер.\n",
    "\n",
    "Быстрое введение в Colab и Python доступно по ссылке <a href=\"https://colab.research.google.com/github/tensorflow/examples/blob/master/courses/udacity_intro_to_tensorflow_for_deep_learning/l01c01_introduction_to_colab_and_python.ipynb\">здесь</a>.\n"
   ]
  },
  {
   "cell_type": "markdown",
   "metadata": {
    "id": "f5wgnjax7pv7"
   },
   "source": [
    "# Основы языка Python\n",
    "\n",
    "Что изучим:\n",
    "\n",
    "- Стандартный функционал языка\n",
    "- Типы данных и операции над ними\n",
    "- Функции и исключения в Python"
   ]
  },
  {
   "cell_type": "markdown",
   "metadata": {
    "id": "_ON2gtPv7pyB"
   },
   "source": [
    "## Стандартный функционал языка\n"
   ]
  },
  {
   "cell_type": "markdown",
   "metadata": {
    "id": "ZV5tc4tf7p0G"
   },
   "source": [
    "### print()\n",
    "\n",
    "Вот полный синтаксис функции, скрытый от наших глаз:\n",
    "\n",
    "`print(value, ..., sep=' ', end='\\n', file=sys.stdout, flush=False)`\n",
    "\n",
    "Аргументы функции здесь — это sep, end, file и flush:\n",
    "\n",
    "- **sep** позволяет задать разделитель, который будет выводиться между элементами, переданными в функцию print(). По умолчанию разделителем является пробел, но с помощью sep пробел можно заменить на другой разделитель, к примеру, на запятую.\n",
    "- **end** позволяет определять символ, который будет добавлен в конец сообщения после вывода. По умолчанию это символ перевода строки. Поменять его можно, к примеру, на точку с запятой.\n",
    "- **file** позволяет перенаправить вывод текста в нужный вам файл. По умолчанию функция выводит текст в консоль, в которой вы и задаёте команды Python. Аргумент file полезен, если нужно сохранить вывод для дальнейшего использования.\n",
    "- **flush** позволяет управлять буферизацией вывода. Если этот аргумент установлен в True, то вывод не будет буферизоваться и будет выводиться немедленно."
   ]
  },
  {
   "cell_type": "code",
   "execution_count": 1,
   "metadata": {
    "id": "P2x300zP7lxx"
   },
   "outputs": [
    {
     "data": {
      "text/plain": [
       "\u001b[0;31mDocstring:\u001b[0m\n",
       "print(value, ..., sep=' ', end='\\n', file=sys.stdout, flush=False)\n",
       "\n",
       "Prints the values to a stream, or to sys.stdout by default.\n",
       "Optional keyword arguments:\n",
       "file:  a file-like object (stream); defaults to the current sys.stdout.\n",
       "sep:   string inserted between values, default a space.\n",
       "end:   string appended after the last value, default a newline.\n",
       "flush: whether to forcibly flush the stream.\n",
       "\u001b[0;31mType:\u001b[0m      builtin_function_or_method\n"
      ]
     },
     "metadata": {},
     "output_type": "display_data"
    }
   ],
   "source": [
    "print?"
   ]
  },
  {
   "cell_type": "code",
   "execution_count": 2,
   "metadata": {
    "colab": {
     "base_uri": "https://localhost:8080/"
    },
    "id": "Bz5AXYpC7lz2",
    "outputId": "6e4d3d97-d593-42da-b80c-7429f173c8c3"
   },
   "outputs": [
    {
     "name": "stdout",
     "output_type": "stream",
     "text": [
      "5\n"
     ]
    }
   ],
   "source": [
    "print(5)"
   ]
  },
  {
   "cell_type": "code",
   "execution_count": 3,
   "metadata": {
    "colab": {
     "base_uri": "https://localhost:8080/"
    },
    "id": "wyoPS7bw7l2D",
    "outputId": "09494359-b94c-49b6-de09-001a0d4f64eb"
   },
   "outputs": [
    {
     "name": "stdout",
     "output_type": "stream",
     "text": [
      "5 6 7 8\n"
     ]
    }
   ],
   "source": [
    "print(5, 6, 7, 8)"
   ]
  },
  {
   "cell_type": "code",
   "execution_count": 4,
   "metadata": {
    "colab": {
     "base_uri": "https://localhost:8080/"
    },
    "id": "8HA20ICg7l3o",
    "outputId": "72e8039b-ba1f-4737-b7b2-9d1fdf921857"
   },
   "outputs": [
    {
     "name": "stdout",
     "output_type": "stream",
     "text": [
      "5_6_7_8\n"
     ]
    }
   ],
   "source": [
    "print(5, 6, 7, 8, sep='_')"
   ]
  },
  {
   "cell_type": "code",
   "execution_count": 5,
   "metadata": {
    "colab": {
     "base_uri": "https://localhost:8080/"
    },
    "id": "UyeX1yFW7l5k",
    "outputId": "4b91a13e-2bf1-42da-9b8b-2d8e8dd72450"
   },
   "outputs": [
    {
     "name": "stdout",
     "output_type": "stream",
     "text": [
      "January\n"
     ]
    }
   ],
   "source": [
    "print('January')"
   ]
  },
  {
   "cell_type": "markdown",
   "metadata": {
    "id": "fsUhmYHD8JT6"
   },
   "source": [
    "### input()\n",
    "Функция для чтения данных с клавиатуры"
   ]
  },
  {
   "cell_type": "code",
   "execution_count": 6,
   "metadata": {
    "colab": {
     "base_uri": "https://localhost:8080/"
    },
    "id": "mrLCAAhY7l7h",
    "outputId": "cc7675b7-7370-4002-c582-f50f8c65b66a"
   },
   "outputs": [
    {
     "name": "stdin",
     "output_type": "stream",
     "text": [
      " ddflkdflkd\n"
     ]
    },
    {
     "name": "stdout",
     "output_type": "stream",
     "text": [
      "ddflkdflkd\n"
     ]
    }
   ],
   "source": [
    "name = input()\n",
    "print(name)"
   ]
  },
  {
   "cell_type": "code",
   "execution_count": 7,
   "metadata": {
    "colab": {
     "base_uri": "https://localhost:8080/"
    },
    "id": "e25L6gfw7l9n",
    "outputId": "4805bff5-7d34-4c24-de74-e2aeaf99cc21"
   },
   "outputs": [
    {
     "name": "stdin",
     "output_type": "stream",
     "text": [
      "Input your name:  dfdfdf\n"
     ]
    },
    {
     "name": "stdout",
     "output_type": "stream",
     "text": [
      "dfdfdf\n"
     ]
    }
   ],
   "source": [
    "name = input('Input your name: ')\n",
    "print(name)"
   ]
  },
  {
   "cell_type": "markdown",
   "metadata": {
    "id": "RkTNkM5c8S50"
   },
   "source": [
    "### Арифметические операции\n",
    "- Сложение: +\n",
    "- Вычитание: -\n",
    "- Умножение: *\n",
    "- Деление: /\n",
    "- Возведение в степень: **\n",
    "- Целая часть от деления: //\n",
    "- Остаток от деления: %"
   ]
  },
  {
   "cell_type": "code",
   "execution_count": 8,
   "metadata": {
    "colab": {
     "base_uri": "https://localhost:8080/"
    },
    "id": "uHmtBZSC7l_e",
    "outputId": "714ccc83-9f40-426f-da5d-d65f71b2ca64"
   },
   "outputs": [
    {
     "name": "stdout",
     "output_type": "stream",
     "text": [
      "Числа: 5 и 2\n",
      "7\n",
      "3\n",
      "10\n",
      "2.5\n",
      "2\n",
      "Остаток от деления: 1\n",
      "5 в степени 2: 25\n"
     ]
    }
   ],
   "source": [
    "print('Числа:', 5, 'и', 2)\n",
    "print(5 + 2)\n",
    "print(5 - 2)\n",
    "print(5*2)\n",
    "print(5 / 2)\n",
    "print( 5 // 2)\n",
    "print('Остаток от деления:', 5 % 2)\n",
    "print('5 в степени 2:', 5**2)"
   ]
  },
  {
   "cell_type": "markdown",
   "metadata": {
    "id": "rEQlctO68ps3"
   },
   "source": [
    "### Переменные"
   ]
  },
  {
   "cell_type": "code",
   "execution_count": 9,
   "metadata": {
    "id": "K6nsiunl80O0"
   },
   "outputs": [],
   "source": [
    "savings_2017 = 2000\n",
    "savings_2016 = 1800\n",
    "increase = ((2000 - 1800) / 1800)*100"
   ]
  },
  {
   "cell_type": "code",
   "execution_count": 10,
   "metadata": {
    "colab": {
     "base_uri": "https://localhost:8080/"
    },
    "id": "P90uUwL68260",
    "outputId": "2790b300-6dfe-4a2c-8777-ded1ace1c71f"
   },
   "outputs": [
    {
     "name": "stdout",
     "output_type": "stream",
     "text": [
      "11%\n"
     ]
    }
   ],
   "source": [
    "print(round(increase), '%', sep='')"
   ]
  },
  {
   "cell_type": "code",
   "execution_count": 11,
   "metadata": {
    "colab": {
     "base_uri": "https://localhost:8080/"
    },
    "id": "Qr0u0N3W8dws",
    "outputId": "ea5aeab8-b5bb-42d0-f70e-1cf23301acc3"
   },
   "outputs": [
    {
     "name": "stdout",
     "output_type": "stream",
     "text": [
      "<class 'int'>\n",
      "<class 'float'>\n"
     ]
    }
   ],
   "source": [
    "print(type(savings_2017))\n",
    "print(type(increase))"
   ]
  },
  {
   "cell_type": "markdown",
   "metadata": {
    "id": "zB-NshLK9Ari"
   },
   "source": [
    "## Типы данных"
   ]
  },
  {
   "cell_type": "markdown",
   "metadata": {
    "id": "ImVD-d6bB2AS"
   },
   "source": [
    "В Python есть 2 основных категории типов данных: изменямые и неизменяемые.  \n",
    "\n",
    "*Неизменяемые объекты*:  \n",
    "* числовые данные (int, float),\n",
    "* bool,\n",
    "* None,\n",
    "* символьные строки (class 'str'),\n",
    "* кортежи (tuple).  \n",
    "\n",
    "*Изменяемые объекты*:  \n",
    "* списки (list),\n",
    "* множества (set),\n",
    "* словари (dict).  \n",
    "\n",
    "Новые типы данных (введенные пользователем) могут быть как изменямыми, иак и неизменяемыми. Изменяемость объектов определённого типа является принципиально важной характеристикой, определяющей, может ли объект такого типа **выступать в качестве ключа для словарей (dict)** или нет.\n"
   ]
  },
  {
   "cell_type": "markdown",
   "metadata": {
    "id": "r_TIXTIyCdui"
   },
   "source": [
    "Понять какого типа та или иная переменная можно с помощью функции type().\n",
    "Давайте пробежимся по всем типам данных.\n"
   ]
  },
  {
   "cell_type": "markdown",
   "metadata": {
    "id": "0HK1IjdCDDX0"
   },
   "source": [
    "**int**\n"
   ]
  },
  {
   "cell_type": "code",
   "execution_count": 12,
   "metadata": {
    "colab": {
     "base_uri": "https://localhost:8080/"
    },
    "id": "WXqyfP9OCcmO",
    "outputId": "08fdf022-7b9b-46ef-e481-313e1a3f7a0e"
   },
   "outputs": [
    {
     "name": "stdout",
     "output_type": "stream",
     "text": [
      "<class 'int'>\n"
     ]
    }
   ],
   "source": [
    "x = 5\n",
    "\n",
    "print(type(x))"
   ]
  },
  {
   "cell_type": "markdown",
   "metadata": {
    "id": "p8KvO04OCvuV"
   },
   "source": [
    "Кстати, Python настолько ленивый язык, что в данном случае можно даже не писать print() - ноутбук выводит то, что возвращает последняя выведенная функция.\n",
    "\n",
    "\n"
   ]
  },
  {
   "cell_type": "code",
   "execution_count": 13,
   "metadata": {
    "colab": {
     "base_uri": "https://localhost:8080/"
    },
    "id": "4W8dn3XGClnB",
    "outputId": "29b4e798-df30-4de6-a500-3c9a56b43633"
   },
   "outputs": [
    {
     "data": {
      "text/plain": [
       "int"
      ]
     },
     "execution_count": 13,
     "metadata": {},
     "output_type": "execute_result"
    }
   ],
   "source": [
    "type(x)"
   ]
  },
  {
   "cell_type": "markdown",
   "metadata": {
    "id": "r6cLfKYGDKSn"
   },
   "source": [
    "**float**"
   ]
  },
  {
   "cell_type": "code",
   "execution_count": 14,
   "metadata": {
    "colab": {
     "base_uri": "https://localhost:8080/"
    },
    "id": "t3MF-jXsDMl2",
    "outputId": "077b492c-f76e-445b-ff62-3f38de042a75"
   },
   "outputs": [
    {
     "data": {
      "text/plain": [
       "0.84128"
      ]
     },
     "execution_count": 14,
     "metadata": {},
     "output_type": "execute_result"
    }
   ],
   "source": [
    "x = 0.84128\n",
    "x"
   ]
  },
  {
   "cell_type": "code",
   "execution_count": 15,
   "metadata": {
    "colab": {
     "base_uri": "https://localhost:8080/"
    },
    "id": "2BJ47HBADPKU",
    "outputId": "9f13f0c3-a4ff-43ff-d8cd-84762ef2a900"
   },
   "outputs": [
    {
     "name": "stdout",
     "output_type": "stream",
     "text": [
      "<class 'float'>\n"
     ]
    }
   ],
   "source": [
    "print(type(x))"
   ]
  },
  {
   "cell_type": "code",
   "execution_count": 16,
   "metadata": {
    "colab": {
     "base_uri": "https://localhost:8080/"
    },
    "id": "Nb4OSeid4yIx",
    "outputId": "3226afdb-32de-4565-92d9-db5f923da84c"
   },
   "outputs": [
    {
     "data": {
      "text/plain": [
       "0.0093"
      ]
     },
     "execution_count": 16,
     "metadata": {},
     "output_type": "execute_result"
    }
   ],
   "source": [
    "y = .0093\n",
    "y"
   ]
  },
  {
   "cell_type": "markdown",
   "metadata": {
    "id": "fcJ7zGgWDTbl"
   },
   "source": [
    "Кстати, в Python если типы могут привестись друг к другу, то это делается автоматически"
   ]
  },
  {
   "cell_type": "code",
   "execution_count": 17,
   "metadata": {
    "colab": {
     "base_uri": "https://localhost:8080/"
    },
    "id": "7s5b1LWgDaRU",
    "outputId": "0a137d61-691d-4510-f74b-15330c41ca4d"
   },
   "outputs": [
    {
     "name": "stdout",
     "output_type": "stream",
     "text": [
      "24.9213\n",
      "<class 'float'>\n"
     ]
    }
   ],
   "source": [
    "x = 5\n",
    "y = 19.9213\n",
    "\n",
    "print(x+y)\n",
    "print(type(x+y))"
   ]
  },
  {
   "cell_type": "markdown",
   "metadata": {
    "id": "BflO-HAcD0he"
   },
   "source": [
    "Несколько примеров арифметических операций:"
   ]
  },
  {
   "cell_type": "code",
   "execution_count": 18,
   "metadata": {
    "colab": {
     "base_uri": "https://localhost:8080/"
    },
    "id": "FReS0gE3DpoV",
    "outputId": "0255c8d7-3860-4f04-d940-867beb8703f5"
   },
   "outputs": [
    {
     "name": "stdout",
     "output_type": "stream",
     "text": [
      "1\n",
      "7\n",
      "225\n"
     ]
    }
   ],
   "source": [
    "x = 15\n",
    "y = 2\n",
    "\n",
    "#остаток от деления\n",
    "print(x % y)\n",
    "\n",
    "#целая часть от деления\n",
    "print(x // y)\n",
    "\n",
    "#возведение в степень\n",
    "print(x ** y)"
   ]
  },
  {
   "cell_type": "code",
   "execution_count": 19,
   "metadata": {
    "colab": {
     "base_uri": "https://localhost:8080/"
    },
    "id": "-ndtxsWg5DG1",
    "outputId": "adc880a2-b4d0-40b4-d692-d736d242b358"
   },
   "outputs": [
    {
     "data": {
      "text/plain": [
       "225"
      ]
     },
     "execution_count": 19,
     "metadata": {},
     "output_type": "execute_result"
    }
   ],
   "source": [
    "x // y\n",
    "x ** y"
   ]
  },
  {
   "cell_type": "code",
   "execution_count": 20,
   "metadata": {
    "colab": {
     "base_uri": "https://localhost:8080/"
    },
    "id": "hpsJ7kR54Nrb",
    "outputId": "7273939b-60e8-48c9-c6d4-2644822809bd"
   },
   "outputs": [
    {
     "data": {
      "text/plain": [
       "13.5"
      ]
     },
     "execution_count": 20,
     "metadata": {},
     "output_type": "execute_result"
    }
   ],
   "source": [
    "#Python сам понимает тип получаемоего выражения (операнды int, делает float):\n",
    "27 / 2"
   ]
  },
  {
   "cell_type": "code",
   "execution_count": null,
   "metadata": {
    "id": "zAzNAXwN5ske"
   },
   "outputs": [],
   "source": []
  },
  {
   "cell_type": "markdown",
   "metadata": {
    "id": "0xsE3RqEELee"
   },
   "source": [
    "**bool**"
   ]
  },
  {
   "cell_type": "code",
   "execution_count": 21,
   "metadata": {
    "id": "n2Ao3MD3ENvm"
   },
   "outputs": [],
   "source": [
    "x = True\n",
    "y = False"
   ]
  },
  {
   "cell_type": "markdown",
   "metadata": {
    "id": "_-VV-HaQEckF"
   },
   "source": [
    "Если пытаться применять к bool-овским переменным арифметические операции, то они будут приводиться в int:"
   ]
  },
  {
   "cell_type": "code",
   "execution_count": 22,
   "metadata": {
    "colab": {
     "base_uri": "https://localhost:8080/"
    },
    "id": "pftOXqBAEQWB",
    "outputId": "1cdc6287-a2c2-4c7d-89d8-dfa966f884aa"
   },
   "outputs": [
    {
     "name": "stdout",
     "output_type": "stream",
     "text": [
      "2\n",
      "2\n",
      "1\n"
     ]
    }
   ],
   "source": [
    "print(x+x)\n",
    "print(x*2)\n",
    "print(y*2 + x)"
   ]
  },
  {
   "cell_type": "markdown",
   "metadata": {
    "id": "tdcfhkm5EtGN"
   },
   "source": [
    "Чтобы переменные воспринимались как bool-овские, нужно прямо прописывать логические операции:"
   ]
  },
  {
   "cell_type": "code",
   "execution_count": 23,
   "metadata": {
    "colab": {
     "base_uri": "https://localhost:8080/"
    },
    "id": "5KwtMdjrEsU3",
    "outputId": "7156db96-130a-4f1c-c6b1-843806bf79a6"
   },
   "outputs": [
    {
     "name": "stdout",
     "output_type": "stream",
     "text": [
      "False\n",
      "True\n",
      "True\n"
     ]
    }
   ],
   "source": [
    "print(x and y)\n",
    "print(x or not x)\n",
    "print((x or y) and x)"
   ]
  },
  {
   "cell_type": "markdown",
   "metadata": {
    "id": "CWKPJp6pE_l0"
   },
   "source": [
    "Можно принудительно приводить типы друг к другу, например:"
   ]
  },
  {
   "cell_type": "code",
   "execution_count": 24,
   "metadata": {
    "colab": {
     "base_uri": "https://localhost:8080/"
    },
    "id": "JWsgkRAbFC_f",
    "outputId": "2ad8ac44-b5a0-4e24-b99d-9fc6681f2617"
   },
   "outputs": [
    {
     "data": {
      "text/plain": [
       "1.0"
      ]
     },
     "execution_count": 24,
     "metadata": {},
     "output_type": "execute_result"
    }
   ],
   "source": [
    "float(True)"
   ]
  },
  {
   "cell_type": "code",
   "execution_count": 25,
   "metadata": {
    "colab": {
     "base_uri": "https://localhost:8080/"
    },
    "id": "lnHCHaUI6iuj",
    "outputId": "7896a360-a8ab-4b6f-e246-971cc4beee93"
   },
   "outputs": [
    {
     "data": {
      "text/plain": [
       "float"
      ]
     },
     "execution_count": 25,
     "metadata": {},
     "output_type": "execute_result"
    }
   ],
   "source": [
    "type(float(True))"
   ]
  },
  {
   "cell_type": "code",
   "execution_count": 26,
   "metadata": {
    "colab": {
     "base_uri": "https://localhost:8080/"
    },
    "id": "5LgWz47IFGY0",
    "outputId": "aa3722f8-1663-4696-9b15-c74bee160603"
   },
   "outputs": [
    {
     "data": {
      "text/plain": [
       "True"
      ]
     },
     "execution_count": 26,
     "metadata": {},
     "output_type": "execute_result"
    }
   ],
   "source": [
    "bool(11)"
   ]
  },
  {
   "cell_type": "code",
   "execution_count": 27,
   "metadata": {
    "colab": {
     "base_uri": "https://localhost:8080/"
    },
    "id": "kiKiHHXNFJe_",
    "outputId": "e6ceaaad-1f1b-43df-d4c0-03f994aa1e7d"
   },
   "outputs": [
    {
     "data": {
      "text/plain": [
       "False"
      ]
     },
     "execution_count": 27,
     "metadata": {},
     "output_type": "execute_result"
    }
   ],
   "source": [
    "bool(0)"
   ]
  },
  {
   "cell_type": "markdown",
   "metadata": {
    "id": "GJDS1RLFGzP9"
   },
   "source": [
    "**None**"
   ]
  },
  {
   "cell_type": "code",
   "execution_count": 28,
   "metadata": {
    "colab": {
     "base_uri": "https://localhost:8080/"
    },
    "id": "J10d29h7G1fn",
    "outputId": "adb4a8ee-885f-471a-b36e-cf1a1a147f67"
   },
   "outputs": [
    {
     "name": "stdout",
     "output_type": "stream",
     "text": [
      "<class 'NoneType'>\n"
     ]
    }
   ],
   "source": [
    "x = None\n",
    "print(type(x))"
   ]
  },
  {
   "cell_type": "code",
   "execution_count": 29,
   "metadata": {
    "colab": {
     "base_uri": "https://localhost:8080/"
    },
    "id": "izMpTvkH4uVf",
    "outputId": "87f39afe-f7f0-4c96-d55d-9dbbcedd223c"
   },
   "outputs": [
    {
     "data": {
      "text/plain": [
       "True"
      ]
     },
     "execution_count": 29,
     "metadata": {},
     "output_type": "execute_result"
    }
   ],
   "source": [
    "#Так делать можно, но не нужно:\n",
    "x == None"
   ]
  },
  {
   "cell_type": "code",
   "execution_count": 30,
   "metadata": {
    "colab": {
     "base_uri": "https://localhost:8080/"
    },
    "id": "8GVZ4fScGqQg",
    "outputId": "05d73dc2-05af-4e40-e7ba-773d9b6df3c6"
   },
   "outputs": [
    {
     "name": "stdout",
     "output_type": "stream",
     "text": [
      "True\n"
     ]
    }
   ],
   "source": [
    "#Лучше так:\n",
    "print(x is None)"
   ]
  },
  {
   "cell_type": "markdown",
   "metadata": {
    "id": "wcTFgvL94o8k"
   },
   "source": [
    "Подробнее: https://pythonworld.ru/tipy-dannyx-v-python/none.html"
   ]
  },
  {
   "cell_type": "markdown",
   "metadata": {
    "id": "VX6CjIq4G-zT"
   },
   "source": [
    "**str**"
   ]
  },
  {
   "cell_type": "code",
   "execution_count": 31,
   "metadata": {
    "colab": {
     "base_uri": "https://localhost:8080/"
    },
    "id": "SmkIBMI5HC4F",
    "outputId": "ad3e00f4-ef99-4f9c-f1ff-a0ced30cef65"
   },
   "outputs": [
    {
     "name": "stdout",
     "output_type": "stream",
     "text": [
      "<class 'str'>\n"
     ]
    }
   ],
   "source": [
    "x = \"qwerty\"\n",
    "y = \"abcdef\"\n",
    "\n",
    "print(type(x))"
   ]
  },
  {
   "cell_type": "code",
   "execution_count": 32,
   "metadata": {
    "colab": {
     "base_uri": "https://localhost:8080/"
    },
    "id": "K-Z2R2xIHJrN",
    "outputId": "4c1fb5b3-8cb0-453d-eeaf-49cad0f36a87"
   },
   "outputs": [
    {
     "name": "stdout",
     "output_type": "stream",
     "text": [
      "qwerty abcdef\n"
     ]
    }
   ],
   "source": [
    "print(x + ' ' + y)"
   ]
  },
  {
   "cell_type": "code",
   "execution_count": 33,
   "metadata": {
    "colab": {
     "base_uri": "https://localhost:8080/"
    },
    "id": "_oq51635HRhN",
    "outputId": "f4355e01-921c-4390-8d6e-c3c3d2464559"
   },
   "outputs": [
    {
     "name": "stdout",
     "output_type": "stream",
     "text": [
      "qwertyqwerty\n"
     ]
    }
   ],
   "source": [
    "print(x * 2)"
   ]
  },
  {
   "cell_type": "code",
   "execution_count": 34,
   "metadata": {
    "colab": {
     "base_uri": "https://localhost:8080/"
    },
    "id": "JazgLubNHWwI",
    "outputId": "f1c2ee3a-6d49-42d3-85bd-55e6e6f4381a"
   },
   "outputs": [
    {
     "name": "stdout",
     "output_type": "stream",
     "text": [
      "6 6\n"
     ]
    }
   ],
   "source": [
    "print(len(x), len(y))"
   ]
  },
  {
   "cell_type": "code",
   "execution_count": 35,
   "metadata": {
    "colab": {
     "base_uri": "https://localhost:8080/"
    },
    "id": "N0JFqX4iHcVT",
    "outputId": "d548599e-eb8f-4e94-aa54-eb67f7382f0f"
   },
   "outputs": [
    {
     "name": "stdout",
     "output_type": "stream",
     "text": [
      "qwerty\n",
      "e\n",
      "y\n"
     ]
    }
   ],
   "source": [
    "print(x)\n",
    "print(x[2])\n",
    "print(x[-1])"
   ]
  },
  {
   "cell_type": "code",
   "execution_count": 36,
   "metadata": {
    "id": "B0xlFnEQHn2h"
   },
   "outputs": [],
   "source": [
    "new_str = 'AI Masters'"
   ]
  },
  {
   "cell_type": "code",
   "execution_count": 37,
   "metadata": {
    "colab": {
     "base_uri": "https://localhost:8080/"
    },
    "id": "vUVT2G-ZHwKZ",
    "outputId": "331d20d4-80fe-4a78-f07e-3fed786aeb33"
   },
   "outputs": [
    {
     "name": "stdout",
     "output_type": "stream",
     "text": [
      "AI \n",
      "\n"
     ]
    }
   ],
   "source": [
    "#Срезы\n",
    "print(new_str[0:3])\n",
    "print(new_str[14:])"
   ]
  },
  {
   "cell_type": "code",
   "execution_count": 38,
   "metadata": {
    "colab": {
     "base_uri": "https://localhost:8080/"
    },
    "id": "gtCyv1fe5Tcd",
    "outputId": "88824bd5-5e81-4967-d600-f80849b550cd"
   },
   "outputs": [
    {
     "name": "stdout",
     "output_type": "stream",
     "text": [
      "AI Ma\n",
      "sters\n"
     ]
    }
   ],
   "source": [
    "#Можно не писать откуда и до куда:\n",
    "print(new_str[:5])\n",
    "print(new_str[5:])"
   ]
  },
  {
   "cell_type": "code",
   "execution_count": 39,
   "metadata": {
    "colab": {
     "base_uri": "https://localhost:8080/",
     "height": 36
    },
    "id": "iqgNsZej5KJN",
    "outputId": "388d3895-be1b-4ae6-8d32-00c776b52233"
   },
   "outputs": [
    {
     "data": {
      "text/plain": [
       "'A atr'"
      ]
     },
     "execution_count": 39,
     "metadata": {},
     "output_type": "execute_result"
    }
   ],
   "source": [
    "#Шаг среза:\n",
    "new_str[::2]"
   ]
  },
  {
   "cell_type": "code",
   "execution_count": 40,
   "metadata": {
    "colab": {
     "base_uri": "https://localhost:8080/",
     "height": 36
    },
    "id": "e_iyCBPp5ixP",
    "outputId": "1f8bbe80-d88b-4d28-a6a9-a26725eed2f6"
   },
   "outputs": [
    {
     "data": {
      "text/plain": [
       "'AI Ma'"
      ]
     },
     "execution_count": 40,
     "metadata": {},
     "output_type": "execute_result"
    }
   ],
   "source": [
    "#Отрицательный срез:\n",
    "new_str[:-5]"
   ]
  },
  {
   "cell_type": "code",
   "execution_count": 41,
   "metadata": {
    "colab": {
     "base_uri": "https://localhost:8080/",
     "height": 36
    },
    "id": "tg_4fcUOQ5SL",
    "outputId": "eedcd9f9-f877-44ad-9e0b-b943e1df8b52"
   },
   "outputs": [
    {
     "data": {
      "text/plain": [
       "'AI Masters'"
      ]
     },
     "execution_count": 41,
     "metadata": {},
     "output_type": "execute_result"
    }
   ],
   "source": [
    "new_str"
   ]
  },
  {
   "cell_type": "code",
   "execution_count": 42,
   "metadata": {
    "colab": {
     "base_uri": "https://localhost:8080/",
     "height": 193
    },
    "id": "MbaE4hW7IBw6",
    "outputId": "fde1dc2c-1b28-4f7d-cf71-9815eb67adb5"
   },
   "outputs": [
    {
     "ename": "TypeError",
     "evalue": "'str' object does not support item assignment",
     "output_type": "error",
     "traceback": [
      "\u001b[0;31m---------------------------------------------------------------------------\u001b[0m",
      "\u001b[0;31mTypeError\u001b[0m                                 Traceback (most recent call last)",
      "\u001b[0;32m/tmp/ipykernel_16219/1720426540.py\u001b[0m in \u001b[0;36m<cell line: 2>\u001b[0;34m()\u001b[0m\n\u001b[1;32m      1\u001b[0m \u001b[0;31m#Как уже и говорилось, строки - неизменяемые объекты, поэтому заменить один символ нельзя:\u001b[0m\u001b[0;34m\u001b[0m\u001b[0;34m\u001b[0m\u001b[0;34m\u001b[0m\u001b[0m\n\u001b[0;32m----> 2\u001b[0;31m \u001b[0mnew_str\u001b[0m\u001b[0;34m[\u001b[0m\u001b[0;36m4\u001b[0m\u001b[0;34m]\u001b[0m \u001b[0;34m=\u001b[0m \u001b[0;34m'x'\u001b[0m\u001b[0;34m\u001b[0m\u001b[0;34m\u001b[0m\u001b[0m\n\u001b[0m",
      "\u001b[0;31mTypeError\u001b[0m: 'str' object does not support item assignment"
     ]
    }
   ],
   "source": [
    "#Как уже и говорилось, строки - неизменяемые объекты, поэтому заменить один символ нельзя:\n",
    "new_str[4] = 'x'"
   ]
  },
  {
   "cell_type": "code",
   "execution_count": 43,
   "metadata": {
    "id": "za7ZX1d6ILiJ"
   },
   "outputs": [
    {
     "name": "stdout",
     "output_type": "stream",
     "text": [
      "ai masters\n",
      "AI MASTERS\n"
     ]
    }
   ],
   "source": [
    "#Поэтому функции, обрабатывающие строки, возвращают новые строки, например:\n",
    "print(new_str.lower())\n",
    "print(new_str.upper())"
   ]
  },
  {
   "cell_type": "code",
   "execution_count": 44,
   "metadata": {
    "id": "HdCr_gYeIatR"
   },
   "outputs": [
    {
     "data": {
      "text/plain": [
       "51"
      ]
     },
     "execution_count": 44,
     "metadata": {},
     "output_type": "execute_result"
    }
   ],
   "source": [
    "#Со строками есть куча интересных встроенных функций, например поиск подстроки в строке:\n",
    "str1 = 'Факультет вычислительной математики и кибернетики (ВМК) Московского государственного университета имени М.В.Ломоносова является ведущим учебным центром России по подготовке кадров в области фундаментальных исследований по прикладной математике, вычислительной математике, информатике и программированию.'\n",
    "str2 = 'ВМК'\n",
    "str1.find(str2)"
   ]
  },
  {
   "cell_type": "markdown",
   "metadata": {
    "id": "Pd3k-3HvI6wh"
   },
   "source": [
    "Более подробно про функции над строками:\n",
    "https://pythonworld.ru/tipy-dannyx-v-python/stroki-funkcii-i-metody-strok.html\n",
    "\n",
    "*Важно знать какие бывают функции чтобы не писать их руками*"
   ]
  },
  {
   "cell_type": "markdown",
   "metadata": {
    "id": "k3SB65DRJc6v"
   },
   "source": [
    "**tuple**"
   ]
  },
  {
   "cell_type": "code",
   "execution_count": 45,
   "metadata": {
    "colab": {
     "base_uri": "https://localhost:8080/"
    },
    "id": "thL5-MF2JZjI",
    "outputId": "836cba92-6c3e-4beb-eaac-58177b7eddcf"
   },
   "outputs": [
    {
     "name": "stdout",
     "output_type": "stream",
     "text": [
      "(1, 2, 3, 4, 5, 6)\n",
      "<class 'tuple'>\n"
     ]
    }
   ],
   "source": [
    "a = (1, 2, 3, 4, 5, 6)\n",
    "\n",
    "print(a)\n",
    "print(type(a))"
   ]
  },
  {
   "cell_type": "code",
   "execution_count": null,
   "metadata": {
    "colab": {
     "base_uri": "https://localhost:8080/"
    },
    "id": "VPgtd-clKBLs",
    "outputId": "dd5e3a94-b2be-4515-fdda-655d09d6100d"
   },
   "outputs": [],
   "source": [
    "b = ('MSU', True, 0.83, 9)\n",
    "\n",
    "print(b)\n",
    "print(type(b))"
   ]
  },
  {
   "cell_type": "code",
   "execution_count": null,
   "metadata": {
    "colab": {
     "base_uri": "https://localhost:8080/"
    },
    "id": "NaYTy8FOI5Eg",
    "outputId": "13cd1ab1-77fe-4f27-b429-43ba6cc3dbff"
   },
   "outputs": [],
   "source": [
    "a = tuple('hello, world!')\n",
    "print(a)"
   ]
  },
  {
   "cell_type": "code",
   "execution_count": null,
   "metadata": {
    "colab": {
     "base_uri": "https://localhost:8080/"
    },
    "id": "mkMLzM85Ka6q",
    "outputId": "d88c0466-894a-4529-a99e-13ff724ab566"
   },
   "outputs": [],
   "source": [
    "(1, 2, 3) + (4, 'k')"
   ]
  },
  {
   "cell_type": "markdown",
   "metadata": {
    "id": "zyIjWh6zLXhW"
   },
   "source": [
    "Теперь поговрим про изменяемые объекты.\n",
    "Начнём с **list**"
   ]
  },
  {
   "cell_type": "code",
   "execution_count": null,
   "metadata": {
    "id": "YmqguVnnLWFf"
   },
   "outputs": [],
   "source": [
    "a = list()\n",
    "b = []"
   ]
  },
  {
   "cell_type": "code",
   "execution_count": null,
   "metadata": {
    "colab": {
     "base_uri": "https://localhost:8080/"
    },
    "id": "l9_5GHjILyNj",
    "outputId": "6b1ffd02-575f-44bb-bb22-f0f82fc55532"
   },
   "outputs": [],
   "source": [
    "type(a)"
   ]
  },
  {
   "cell_type": "code",
   "execution_count": null,
   "metadata": {
    "colab": {
     "base_uri": "https://localhost:8080/"
    },
    "id": "C2Ig-3Es8vVg",
    "outputId": "8bda7260-dfc0-4d7b-c6fb-79d6469f13f5"
   },
   "outputs": [],
   "source": [
    "type(b)"
   ]
  },
  {
   "cell_type": "code",
   "execution_count": null,
   "metadata": {
    "id": "tDDYlJn6L2HP"
   },
   "outputs": [],
   "source": [
    "a = [82, 'k', 11]\n",
    "b = [1, 2, 4, 8, 16, 32, 64]\n",
    "c = [i * 3 for i in 'list']"
   ]
  },
  {
   "cell_type": "code",
   "execution_count": null,
   "metadata": {
    "colab": {
     "base_uri": "https://localhost:8080/"
    },
    "id": "KPZQ1hyrR348",
    "outputId": "a796d012-9fc6-4021-efb6-f7b0de0e6e44"
   },
   "outputs": [],
   "source": [
    "c"
   ]
  },
  {
   "cell_type": "code",
   "execution_count": null,
   "metadata": {
    "id": "7du5cuNDYAVc"
   },
   "outputs": [],
   "source": [
    "def f(x):\n",
    "  return x ** 2 + 2 * x + 1"
   ]
  },
  {
   "cell_type": "code",
   "execution_count": null,
   "metadata": {
    "colab": {
     "base_uri": "https://localhost:8080/"
    },
    "id": "Mhg8lbu6YH2a",
    "outputId": "8749fa5f-b4ed-4b75-fe07-6e9c67fb5176"
   },
   "outputs": [],
   "source": [
    "c = [f(i) for i in [1, 2, 3, 4, 5]]\n",
    "print(c)"
   ]
  },
  {
   "cell_type": "code",
   "execution_count": null,
   "metadata": {
    "colab": {
     "base_uri": "https://localhost:8080/"
    },
    "id": "FmuEuX8aMf2F",
    "outputId": "94b7e353-71ef-4361-858a-53e1b0bc50a9"
   },
   "outputs": [],
   "source": [
    "print(c)\n",
    "print(type(c))"
   ]
  },
  {
   "cell_type": "code",
   "execution_count": null,
   "metadata": {
    "colab": {
     "base_uri": "https://localhost:8080/"
    },
    "id": "1ijRYMZxSMWr",
    "outputId": "24b2eb95-35eb-4428-9fc6-2d19a9c375c4"
   },
   "outputs": [],
   "source": [
    "a  = [i for i in range(1, 10)]\n",
    "print(a)"
   ]
  },
  {
   "cell_type": "code",
   "execution_count": null,
   "metadata": {
    "colab": {
     "base_uri": "https://localhost:8080/"
    },
    "id": "xI4f4YNyMkmV",
    "outputId": "c1eafdc5-ce16-453d-ef19-6e24502c85d8"
   },
   "outputs": [],
   "source": [
    "a  = [i for i in range(1, 10, 2)]\n",
    "print(a)"
   ]
  },
  {
   "cell_type": "code",
   "execution_count": null,
   "metadata": {
    "colab": {
     "base_uri": "https://localhost:8080/"
    },
    "id": "VrLVaSMjRUN8",
    "outputId": "3e257529-591a-47f3-f446-28fdaa5904f7"
   },
   "outputs": [],
   "source": [
    "print(len(a))"
   ]
  },
  {
   "cell_type": "code",
   "execution_count": null,
   "metadata": {
    "colab": {
     "base_uri": "https://localhost:8080/"
    },
    "id": "L4hhkKHH19Dl",
    "outputId": "f5930bc5-2816-448d-d742-8ecc597842b5"
   },
   "outputs": [],
   "source": [
    "a_new = [i if i % 2 == 0 else 0 for i in a]\n",
    "a_new"
   ]
  },
  {
   "cell_type": "code",
   "execution_count": null,
   "metadata": {
    "colab": {
     "base_uri": "https://localhost:8080/"
    },
    "id": "iJVugR5J2NUQ",
    "outputId": "bc5e98b9-23fd-4ca1-a9d4-93c5f0784165"
   },
   "outputs": [],
   "source": [
    "str1 = 'Факультет вычислительной математики и кибернетики (ВМК) Московского государственного университета имени М.В.Ломоносова является ведущим учебным центром России по подготовке кадров в области фундаментальных исследований по прикладной математике, вычислительной математике, информатике и программированию.'\n",
    "print(str1.split(' '))"
   ]
  },
  {
   "cell_type": "code",
   "execution_count": null,
   "metadata": {
    "id": "XKPLfAyj1Dzj"
   },
   "outputs": [],
   "source": [
    "a = [1, 2, 4, 8, 16, 32, 64]"
   ]
  },
  {
   "cell_type": "code",
   "execution_count": null,
   "metadata": {
    "colab": {
     "base_uri": "https://localhost:8080/"
    },
    "id": "nMWK8JHy0PXK",
    "outputId": "1b43d44e-59cd-45ac-bf7e-4da0abb858cf"
   },
   "outputs": [],
   "source": [
    "# доступ к элементам по индексу\n",
    "# от 0 => N\n",
    "a[2]"
   ]
  },
  {
   "cell_type": "code",
   "execution_count": null,
   "metadata": {
    "colab": {
     "base_uri": "https://localhost:8080/"
    },
    "id": "5E7wHKAK0R9z",
    "outputId": "7571214f-a119-435e-999b-9d86c97a0371"
   },
   "outputs": [],
   "source": [
    "# Доступ к списку с конца\n",
    "a[-2]"
   ]
  },
  {
   "cell_type": "code",
   "execution_count": null,
   "metadata": {
    "colab": {
     "base_uri": "https://localhost:8080/"
    },
    "id": "71H3I-Yo09-Y",
    "outputId": "79c5a94d-831f-46e8-e2f0-0e987814aacc"
   },
   "outputs": [],
   "source": [
    "#Срез\n",
    "a[2:]"
   ]
  },
  {
   "cell_type": "code",
   "execution_count": null,
   "metadata": {
    "id": "rvmbOunw1ILL"
   },
   "outputs": [],
   "source": [
    "#Удаление элемента/среза\n",
    "del a[2]"
   ]
  },
  {
   "cell_type": "code",
   "execution_count": null,
   "metadata": {
    "colab": {
     "base_uri": "https://localhost:8080/"
    },
    "id": "YYOEEhKB1Vio",
    "outputId": "30375570-005e-4a70-d7a4-37c29d2ce002"
   },
   "outputs": [],
   "source": [
    "a"
   ]
  },
  {
   "cell_type": "code",
   "execution_count": null,
   "metadata": {
    "id": "cFFhUMHu1Y5i"
   },
   "outputs": [],
   "source": [
    "del a[2:]"
   ]
  },
  {
   "cell_type": "code",
   "execution_count": null,
   "metadata": {
    "colab": {
     "base_uri": "https://localhost:8080/"
    },
    "id": "lwdDwfVn1bOW",
    "outputId": "c4c617b4-2248-4940-c1eb-4330c3f69358"
   },
   "outputs": [],
   "source": [
    "a"
   ]
  },
  {
   "cell_type": "code",
   "execution_count": null,
   "metadata": {
    "id": "0B2iaVFo1tF3"
   },
   "outputs": [],
   "source": [
    "l = ['Yep', 'Now', 'Hello']"
   ]
  },
  {
   "cell_type": "code",
   "execution_count": null,
   "metadata": {
    "colab": {
     "base_uri": "https://localhost:8080/"
    },
    "id": "yqq9Unso1r7O",
    "outputId": "2856182a-9a7f-4fc1-f744-befe3dcf169d"
   },
   "outputs": [],
   "source": [
    "# опрос о существовании элементов\n",
    "'No' in l"
   ]
  },
  {
   "cell_type": "code",
   "execution_count": null,
   "metadata": {
    "colab": {
     "base_uri": "https://localhost:8080/"
    },
    "id": "7qxS2SiI11qf",
    "outputId": "0410f88c-d280-47aa-de04-b600a1bd246a"
   },
   "outputs": [],
   "source": [
    "'Yep' in l"
   ]
  },
  {
   "cell_type": "markdown",
   "metadata": {
    "id": "coY2N8MoObxD"
   },
   "source": [
    "! Важно понимать, что функции над списками меняют уже непосредственно сам поданный список"
   ]
  },
  {
   "cell_type": "code",
   "execution_count": null,
   "metadata": {
    "colab": {
     "base_uri": "https://localhost:8080/"
    },
    "id": "iHCyeX1LMx4X",
    "outputId": "2ac8e28b-ffe3-4c64-bd06-c2613acf4d6e"
   },
   "outputs": [],
   "source": [
    "a = [58, 23, 4, 5, 6, 213, 94]\n",
    "a.sort()\n",
    "\n",
    "print(a)"
   ]
  },
  {
   "cell_type": "code",
   "execution_count": null,
   "metadata": {
    "colab": {
     "base_uri": "https://localhost:8080/"
    },
    "id": "1FW9SAHqM-4J",
    "outputId": "231e0c53-283b-4d74-d310-e08002290483"
   },
   "outputs": [],
   "source": [
    "a.reverse()\n",
    "print(a)"
   ]
  },
  {
   "cell_type": "code",
   "execution_count": null,
   "metadata": {
    "colab": {
     "base_uri": "https://localhost:8080/"
    },
    "id": "MTiT4VbbNWzK",
    "outputId": "a6a6e4ec-98f4-46be-8608-67a0726aa348"
   },
   "outputs": [],
   "source": [
    "#По индексам можно выдергивать часть списка:\n",
    "print(a[2:4])\n",
    "print(a[5:])"
   ]
  },
  {
   "cell_type": "code",
   "execution_count": null,
   "metadata": {
    "colab": {
     "base_uri": "https://localhost:8080/",
     "height": 36
    },
    "id": "dpnW6h3-Os4x",
    "outputId": "6db8e064-bbee-43d8-d149-dfb84fe9dc5c"
   },
   "outputs": [],
   "source": [
    "#Списки можно удобно склеивать в строки:\n",
    "' '.join(['1', '2', '3'])"
   ]
  },
  {
   "cell_type": "code",
   "execution_count": null,
   "metadata": {
    "colab": {
     "base_uri": "https://localhost:8080/"
    },
    "id": "ZD8VM-jdNMnW",
    "outputId": "7b488e46-bb38-4669-a32c-19a42635ac57"
   },
   "outputs": [],
   "source": [
    "#все операции, которые можно проводить над списками:\n",
    "print(dir(list))"
   ]
  },
  {
   "cell_type": "code",
   "execution_count": null,
   "metadata": {
    "id": "ZxB3ZHzoP9au"
   },
   "outputs": [],
   "source": [
    "#или посмотреть подсказку:\n",
    "a.sort(reverse=True)"
   ]
  },
  {
   "cell_type": "code",
   "execution_count": null,
   "metadata": {
    "colab": {
     "base_uri": "https://localhost:8080/"
    },
    "id": "h1O9CXiO_Y9M",
    "outputId": "edb5c452-a1ea-40f0-ff54-1e4ab1229e03"
   },
   "outputs": [],
   "source": [
    "a"
   ]
  },
  {
   "cell_type": "code",
   "execution_count": null,
   "metadata": {
    "id": "PYK3dLgyQFyy"
   },
   "outputs": [],
   "source": [
    "#или загуглить :)\n",
    "# https://pythonworld.ru/tipy-dannyx-v-python/spiski-list-funkcii-i-metody-spiskov.html"
   ]
  },
  {
   "cell_type": "markdown",
   "metadata": {
    "id": "vjbQPWnhQXaz"
   },
   "source": [
    "Задание #1. Соедините два списка s1 и s2 в один, а затем отсортируйте их от большего к меньшему"
   ]
  },
  {
   "cell_type": "code",
   "execution_count": null,
   "metadata": {
    "id": "TlOwrtZuQmu5"
   },
   "outputs": [],
   "source": [
    "s1 = [3, 2, 41, 43, 2134]\n",
    "s2 = [1204, 214, -1, 124, 0]"
   ]
  },
  {
   "cell_type": "code",
   "execution_count": null,
   "metadata": {
    "colab": {
     "base_uri": "https://localhost:8080/"
    },
    "id": "4IMtF5OH_qyE",
    "outputId": "b33ad6f6-dee1-4aaa-b76e-8806f4516a6c"
   },
   "outputs": [],
   "source": [
    "sorted(s1 + s2, reverse=True)"
   ]
  },
  {
   "cell_type": "code",
   "execution_count": null,
   "metadata": {
    "colab": {
     "base_uri": "https://localhost:8080/"
    },
    "id": "iuXRXrPI_8je",
    "outputId": "34a9d310-dc5f-4d44-8bd5-5df2be2fe31f"
   },
   "outputs": [],
   "source": [
    "s = s1+s2\n",
    "(s).sort(reverse=True)\n",
    "s"
   ]
  },
  {
   "cell_type": "markdown",
   "metadata": {
    "id": "83yCqu3oQ4KU"
   },
   "source": [
    "Задание #2. Разбейте текст на слова, а затем склейте снова в текст, заменив все пробелы на нижние подчеркивания."
   ]
  },
  {
   "cell_type": "code",
   "execution_count": null,
   "metadata": {
    "id": "PgMT9E2dRLC3"
   },
   "outputs": [],
   "source": [
    "str1 = 'Факультет вычислительной математики и кибернетики (ВМК) Московского государственного университета имени М.В.Ломоносова является ведущим учебным центром России по подготовке кадров в области фундаментальных исследований по прикладной математике, вычислительной математике, информатике и программированию.'"
   ]
  },
  {
   "cell_type": "code",
   "execution_count": null,
   "metadata": {
    "colab": {
     "base_uri": "https://localhost:8080/",
     "height": 55
    },
    "id": "VJl-UR3BAU84",
    "outputId": "f6865453-a743-4b2d-c505-cd43772c79c2"
   },
   "outputs": [],
   "source": [
    "'_'.join(str1.split(' '))"
   ]
  },
  {
   "cell_type": "markdown",
   "metadata": {
    "id": "SdHudEOqRQDH"
   },
   "source": [
    "Прежде чем пойти дальше - поговорим по том, как можно реализовать for и while в Python"
   ]
  },
  {
   "cell_type": "code",
   "execution_count": null,
   "metadata": {
    "colab": {
     "base_uri": "https://localhost:8080/"
    },
    "id": "nSa7Dx-1QLeh",
    "outputId": "ca0ed02d-e7f1-451f-a199-e09dedbc9fbd"
   },
   "outputs": [],
   "source": [
    "s = ['group one', 'group two', 'group three']\n",
    "\n",
    "for i in s:\n",
    "  print(i)"
   ]
  },
  {
   "cell_type": "code",
   "execution_count": null,
   "metadata": {
    "colab": {
     "base_uri": "https://localhost:8080/"
    },
    "id": "XoTD5Jc4SqDD",
    "outputId": "5150267c-e22d-4dfd-b2a4-515729e8df8c"
   },
   "outputs": [],
   "source": [
    "for i in ['group one', 'group two', 'group three']:\n",
    "  print(i)"
   ]
  },
  {
   "cell_type": "code",
   "execution_count": null,
   "metadata": {
    "colab": {
     "base_uri": "https://localhost:8080/"
    },
    "id": "NrUwXGn7SsxA",
    "outputId": "3cfb709b-8020-4555-81e2-210cb9ef7d7d"
   },
   "outputs": [],
   "source": [
    "#Постоянно используемый итератор - range():\n",
    "for i in range(3, 7):\n",
    "  print(i)"
   ]
  },
  {
   "cell_type": "code",
   "execution_count": null,
   "metadata": {
    "colab": {
     "base_uri": "https://localhost:8080/"
    },
    "id": "c6mXbM1ES4ER",
    "outputId": "d9741237-450b-4675-9194-3a768587a956"
   },
   "outputs": [],
   "source": [
    "for i in range(1, 15, 3):\n",
    "  print(i)"
   ]
  },
  {
   "cell_type": "code",
   "execution_count": null,
   "metadata": {
    "colab": {
     "base_uri": "https://localhost:8080/"
    },
    "id": "V5HJIk11S-C8",
    "outputId": "382ca184-55d7-4462-e43a-2fb51e19f765"
   },
   "outputs": [],
   "source": [
    "x = 10\n",
    "\n",
    "while x > 0:\n",
    "  print(x)\n",
    "  x -= 3"
   ]
  },
  {
   "cell_type": "code",
   "execution_count": null,
   "metadata": {
    "colab": {
     "base_uri": "https://localhost:8080/"
    },
    "id": "VqOtB93QYxEG",
    "outputId": "df68a8dc-8d4f-4c3f-ca63-0b0ff9176016"
   },
   "outputs": [],
   "source": [
    "#Можно создавать списки с помощью циклов (но лучше это делать так, как приводилось ранее):\n",
    "\n",
    "x = []\n",
    "for i in range(1, 5):\n",
    "  x.append(i)\n",
    "\n",
    "print(x)"
   ]
  },
  {
   "cell_type": "markdown",
   "metadata": {
    "id": "0lODnKIVXrzl"
   },
   "source": [
    "Есть куча разных функций, которые позволяют реализовывать интересные штуки со списками:"
   ]
  },
  {
   "cell_type": "code",
   "execution_count": null,
   "metadata": {
    "colab": {
     "base_uri": "https://localhost:8080/"
    },
    "id": "ItITD2AdXjGJ",
    "outputId": "10f8025d-fbf3-48f8-f39f-56dbc612c1e5"
   },
   "outputs": [],
   "source": [
    "first = 'a b c d e f g'.split(' ')\n",
    "second = '1 2 3 4 5 6 7'.split(' ')\n",
    "\n",
    "zip(first, second)"
   ]
  },
  {
   "cell_type": "code",
   "execution_count": null,
   "metadata": {
    "colab": {
     "base_uri": "https://localhost:8080/"
    },
    "id": "oTeb-cJAXlud",
    "outputId": "a82d38f1-42e2-4816-ccaa-c25b6961b732"
   },
   "outputs": [],
   "source": [
    "list(zip(first, second))"
   ]
  },
  {
   "cell_type": "code",
   "execution_count": null,
   "metadata": {
    "colab": {
     "base_uri": "https://localhost:8080/"
    },
    "id": "18N_PuFoBblv",
    "outputId": "d18d76a4-86ae-4211-cc67-c436d39eb91e"
   },
   "outputs": [],
   "source": [
    "first = 'a b c d e f g'.split(' ')\n",
    "second = '1 2 3 4 5 6 7 8 9'.split(' ')\n",
    "\n",
    "zip(first, second)\n",
    "\n",
    "list(zip(first, second))"
   ]
  },
  {
   "cell_type": "code",
   "execution_count": null,
   "metadata": {
    "colab": {
     "base_uri": "https://localhost:8080/"
    },
    "id": "l4-gAAaGXpls",
    "outputId": "61f87ed6-b3b7-4ca3-f6ef-ce980325acca"
   },
   "outputs": [],
   "source": [
    "enum = enumerate(first)\n",
    "list(enum)"
   ]
  },
  {
   "cell_type": "markdown",
   "metadata": {
    "id": "ViWGvdS0ZDwo"
   },
   "source": [
    "Задание #3.\n",
    "Выведите строку, которая содержит в себе все числа от 1 до 30 через запятую. Стандартными циклами пользоваться нельзя (внутренними при создании цикла - можно)"
   ]
  },
  {
   "cell_type": "code",
   "execution_count": null,
   "metadata": {
    "colab": {
     "base_uri": "https://localhost:8080/",
     "height": 36
    },
    "id": "-UVYPUfAZSYu",
    "outputId": "a83ecfbe-8d4b-49fe-9309-1115fb09de1b"
   },
   "outputs": [],
   "source": [
    "','.join([str(i) for i in range(1, 31)])\n"
   ]
  },
  {
   "cell_type": "markdown",
   "metadata": {
    "id": "PtYM2AByZTMI"
   },
   "source": [
    "**set**"
   ]
  },
  {
   "cell_type": "code",
   "execution_count": null,
   "metadata": {
    "colab": {
     "base_uri": "https://localhost:8080/"
    },
    "id": "YKSOc3pZZ1O0",
    "outputId": "5edc85c1-2dd9-47c4-f3a3-da8aaa1f5f7d"
   },
   "outputs": [],
   "source": [
    "#множество в Python имеет весьма математический смысл - это некий контейнер без повторений:\n",
    "\n",
    "new_set = set()\n",
    "new_set.add(1)\n",
    "new_set.add(None)\n",
    "new_set.add(1)\n",
    "new_set.add('M')\n",
    "\n",
    "print(new_set)"
   ]
  },
  {
   "cell_type": "code",
   "execution_count": null,
   "metadata": {
    "colab": {
     "base_uri": "https://localhost:8080/"
    },
    "id": "14BHpOu-bESM",
    "outputId": "55fad56d-01c6-47c0-b140-bb0197591ab0"
   },
   "outputs": [],
   "source": [
    "a = set([1, 2, 3, 4, 1, 2, 10])\n",
    "print(a)"
   ]
  },
  {
   "cell_type": "code",
   "execution_count": null,
   "metadata": {
    "colab": {
     "base_uri": "https://localhost:8080/"
    },
    "id": "x03X_fY83HKM",
    "outputId": "b2b72e7b-f1c6-445d-8355-a64f1a883a19"
   },
   "outputs": [],
   "source": [
    "a = set((1, 2, 3, 4, 5))\n",
    "print(a)"
   ]
  },
  {
   "cell_type": "code",
   "execution_count": null,
   "metadata": {
    "colab": {
     "base_uri": "https://localhost:8080/"
    },
    "id": "Uxp_NpSDao6W",
    "outputId": "c291af14-ae1c-4048-a392-8b2a42a53f76"
   },
   "outputs": [],
   "source": [
    "b = set('hello')\n",
    "print(b)"
   ]
  },
  {
   "cell_type": "code",
   "execution_count": null,
   "metadata": {
    "colab": {
     "base_uri": "https://localhost:8080/",
     "height": 174
    },
    "id": "Vn6mDlUxaseA",
    "outputId": "2aacd8af-3d49-482c-bf34-3fd8655469e8"
   },
   "outputs": [],
   "source": [
    "a + b"
   ]
  },
  {
   "cell_type": "code",
   "execution_count": null,
   "metadata": {
    "colab": {
     "base_uri": "https://localhost:8080/"
    },
    "id": "1DXN5oBFayk3",
    "outputId": "550b4b23-db1b-4d95-86a3-79135514ae85"
   },
   "outputs": [],
   "source": [
    "a.union(b)"
   ]
  },
  {
   "cell_type": "code",
   "execution_count": null,
   "metadata": {
    "colab": {
     "base_uri": "https://localhost:8080/"
    },
    "id": "SfHReQd0a3ha",
    "outputId": "77d32e74-6afe-46c2-e8a8-abd002cc6045"
   },
   "outputs": [],
   "source": [
    "{1, 2, 4, 10, 12}.union({2, 1, 2, 33})"
   ]
  },
  {
   "cell_type": "code",
   "execution_count": null,
   "metadata": {
    "id": "M-GcRSppa-Df"
   },
   "outputs": [],
   "source": [
    "s1 = set(range(0, 10))\n",
    "s2 = set(range(5, 15))"
   ]
  },
  {
   "cell_type": "code",
   "execution_count": null,
   "metadata": {
    "colab": {
     "base_uri": "https://localhost:8080/"
    },
    "id": "K3cinc9JbYNf",
    "outputId": "6ad0b34a-8605-42ce-93c8-c4948cb0f6bc"
   },
   "outputs": [],
   "source": [
    "s1.difference(s2)"
   ]
  },
  {
   "cell_type": "code",
   "execution_count": null,
   "metadata": {
    "colab": {
     "base_uri": "https://localhost:8080/"
    },
    "id": "iE-4m3bZ2qYo",
    "outputId": "8aba8c2b-c622-4449-d444-4814162829a2"
   },
   "outputs": [],
   "source": [
    "s1 - s2"
   ]
  },
  {
   "cell_type": "code",
   "execution_count": null,
   "metadata": {
    "colab": {
     "base_uri": "https://localhost:8080/"
    },
    "id": "oct_rQ__2wcR",
    "outputId": "5aa1eaa3-e89d-4de1-e56f-13cda14f1ddc"
   },
   "outputs": [],
   "source": [
    "s1 | s2"
   ]
  },
  {
   "cell_type": "code",
   "execution_count": null,
   "metadata": {
    "colab": {
     "base_uri": "https://localhost:8080/"
    },
    "id": "b-Xv8t3U22_1",
    "outputId": "cc5096d7-db42-4e08-c6e2-0d7c336750d9"
   },
   "outputs": [],
   "source": [
    "s1 & s2"
   ]
  },
  {
   "cell_type": "code",
   "execution_count": null,
   "metadata": {
    "colab": {
     "base_uri": "https://localhost:8080/"
    },
    "id": "-kyfcCqQ26bx",
    "outputId": "c0fc57d3-5d9f-49e4-a38f-01559d8fbb2b"
   },
   "outputs": [],
   "source": [
    "# simmetrics difference\n",
    "s1 ^ s2"
   ]
  },
  {
   "cell_type": "code",
   "execution_count": null,
   "metadata": {
    "colab": {
     "base_uri": "https://localhost:8080/"
    },
    "id": "wn2hjTpRCwFR",
    "outputId": "28764956-60c2-44ab-ba86-13ae4fd95ab0"
   },
   "outputs": [],
   "source": [
    "a | b"
   ]
  },
  {
   "cell_type": "code",
   "execution_count": null,
   "metadata": {
    "colab": {
     "base_uri": "https://localhost:8080/"
    },
    "id": "o8mCBdHWC3sY",
    "outputId": "1154d097-29ac-42e9-cb0a-5564071c4b43"
   },
   "outputs": [],
   "source": [
    "a.union(b)"
   ]
  },
  {
   "cell_type": "code",
   "execution_count": null,
   "metadata": {
    "id": "4PSmlasUbb6b"
   },
   "outputs": [],
   "source": [
    "# более подробно про множества:\n",
    "# https://pythonworld.ru/tipy-dannyx-v-python/mnozhestva-set-i-frozenset.html"
   ]
  },
  {
   "cell_type": "markdown",
   "metadata": {
    "id": "TB0pXKasbf1N"
   },
   "source": [
    "**dict**\n"
   ]
  },
  {
   "cell_type": "code",
   "execution_count": null,
   "metadata": {
    "colab": {
     "base_uri": "https://localhost:8080/"
    },
    "id": "NvWrc7ui3Rds",
    "outputId": "837471bd-4c71-4e55-cfa5-78511262d1bc"
   },
   "outputs": [],
   "source": [
    "d = {1: 'True', False: 0, 100: '001', 5: 25}\n",
    "d"
   ]
  },
  {
   "cell_type": "code",
   "execution_count": null,
   "metadata": {
    "colab": {
     "base_uri": "https://localhost:8080/"
    },
    "id": "tzna4ndVbrAW",
    "outputId": "7467ddef-bc49-457b-edb1-10dbe46330e9"
   },
   "outputs": [],
   "source": [
    "d = dict()\n",
    "d['one'] = 1\n",
    "d['two'] = 2\n",
    "\n",
    "d"
   ]
  },
  {
   "cell_type": "code",
   "execution_count": null,
   "metadata": {
    "colab": {
     "base_uri": "https://localhost:8080/"
    },
    "id": "ohUSp0jsb4CR",
    "outputId": "34c32116-c99b-4267-c212-bda842674222"
   },
   "outputs": [],
   "source": [
    "d['one']"
   ]
  },
  {
   "cell_type": "code",
   "execution_count": null,
   "metadata": {
    "colab": {
     "base_uri": "https://localhost:8080/"
    },
    "id": "D3q2qcvKb8eD",
    "outputId": "8bb4412e-166f-490d-ca14-f0135bcb0b68"
   },
   "outputs": [],
   "source": [
    "d = dict([(10, 10), (20, 40)])\n",
    "d"
   ]
  },
  {
   "cell_type": "code",
   "execution_count": null,
   "metadata": {
    "colab": {
     "base_uri": "https://localhost:8080/"
    },
    "id": "EkABX597b9fi",
    "outputId": "0538804a-503a-4072-d20f-55d561caf18d"
   },
   "outputs": [],
   "source": [
    "d[10]"
   ]
  },
  {
   "cell_type": "code",
   "execution_count": null,
   "metadata": {
    "colab": {
     "base_uri": "https://localhost:8080/"
    },
    "id": "m5Z1GDU3cBnx",
    "outputId": "cdfa3803-46aa-49d5-d468-3189cb09a0ce"
   },
   "outputs": [],
   "source": [
    "d[20]"
   ]
  },
  {
   "cell_type": "code",
   "execution_count": null,
   "metadata": {
    "colab": {
     "base_uri": "https://localhost:8080/"
    },
    "id": "u3tV3P-8cG2P",
    "outputId": "74041c34-46da-4e30-f81c-bc70b91aae53"
   },
   "outputs": [],
   "source": [
    "d"
   ]
  },
  {
   "cell_type": "code",
   "execution_count": null,
   "metadata": {
    "colab": {
     "base_uri": "https://localhost:8080/",
     "height": 174
    },
    "id": "ByD3wsPacIcm",
    "outputId": "bc5db55e-8dea-4232-b487-4a358e755687"
   },
   "outputs": [],
   "source": [
    "d[1]"
   ]
  },
  {
   "cell_type": "code",
   "execution_count": null,
   "metadata": {
    "colab": {
     "base_uri": "https://localhost:8080/"
    },
    "id": "6qA4_UtCcKcN",
    "outputId": "940b57da-9c27-46be-a3ae-cec56704b145"
   },
   "outputs": [],
   "source": [
    "d = dict.fromkeys(['a', 'b'], 100)\n",
    "d"
   ]
  },
  {
   "cell_type": "code",
   "execution_count": null,
   "metadata": {
    "colab": {
     "base_uri": "https://localhost:8080/"
    },
    "id": "CFYXbfPAcacF",
    "outputId": "6bd3c850-5d72-41d5-c7b9-8c9d5e48cf24"
   },
   "outputs": [],
   "source": [
    "d = {a: a ** 2 for a in range(7)}\n",
    "d"
   ]
  },
  {
   "cell_type": "code",
   "execution_count": null,
   "metadata": {
    "colab": {
     "base_uri": "https://localhost:8080/"
    },
    "id": "zclXE-3s3he8",
    "outputId": "5a73efcc-d5d2-4991-977d-1c0aabb1fb83"
   },
   "outputs": [],
   "source": [
    "d.items()"
   ]
  },
  {
   "cell_type": "code",
   "execution_count": null,
   "metadata": {
    "colab": {
     "base_uri": "https://localhost:8080/"
    },
    "id": "1-sx-nxg3pkA",
    "outputId": "e73788e4-6f4b-4e2c-f17b-52fcb40c61e9"
   },
   "outputs": [],
   "source": [
    "d.keys()"
   ]
  },
  {
   "cell_type": "code",
   "execution_count": null,
   "metadata": {
    "colab": {
     "base_uri": "https://localhost:8080/"
    },
    "id": "lg_iTxfX3rY4",
    "outputId": "e09a836f-f993-4a0a-8c03-ee85646b693d"
   },
   "outputs": [],
   "source": [
    "d.values()"
   ]
  },
  {
   "cell_type": "code",
   "execution_count": null,
   "metadata": {
    "colab": {
     "base_uri": "https://localhost:8080/"
    },
    "id": "nbGLSh2T3yQZ",
    "outputId": "0d5e2fbf-7c2a-485d-c5f7-48fad77d598f"
   },
   "outputs": [],
   "source": [
    "#сортировка словаря по значениям\n",
    "import operator\n",
    "\n",
    "x = {1: 2, 3: 4, 4: 3, 2: 1, 50: 0}\n",
    "# по значению\n",
    "sorted(x.items(), key=operator.itemgetter(1))"
   ]
  },
  {
   "cell_type": "code",
   "execution_count": null,
   "metadata": {
    "colab": {
     "base_uri": "https://localhost:8080/"
    },
    "id": "XAZyO-Vk369V",
    "outputId": "c16671ce-b38a-470a-a9d6-6d74bd488e31"
   },
   "outputs": [],
   "source": [
    "#сортировка по ключам\n",
    "sorted(x.items(), key=operator.itemgetter(0))"
   ]
  },
  {
   "cell_type": "code",
   "execution_count": null,
   "metadata": {
    "colab": {
     "base_uri": "https://localhost:8080/"
    },
    "id": "VDPOShV24Abs",
    "outputId": "8b7c8e0e-9647-43ba-cde4-553b06f62ee2"
   },
   "outputs": [],
   "source": [
    "#словари могут быть вложенными\n",
    "person ={'person':\n",
    "                 {\n",
    "                  'body': {\n",
    "                          'gender': 'female',\n",
    "                          'head': {'hair':'black'},\n",
    "                          'skin':'coffee with milk'\n",
    "                          },\n",
    "                  'identity':{\n",
    "                          'county': 'Rus',\n",
    "                          'prof': 'manager'\n",
    "                  }\n",
    "                 }\n",
    "            }\n",
    "person"
   ]
  },
  {
   "cell_type": "code",
   "execution_count": null,
   "metadata": {
    "id": "b9TTOWeEEDav"
   },
   "outputs": [],
   "source": []
  },
  {
   "cell_type": "code",
   "execution_count": null,
   "metadata": {
    "colab": {
     "base_uri": "https://localhost:8080/",
     "height": 36
    },
    "id": "0UqjPSEg4HnE",
    "outputId": "7bb84fd9-8b79-4da0-cb7c-0de885531e60"
   },
   "outputs": [],
   "source": [
    "person['person']['body']['gender']"
   ]
  },
  {
   "cell_type": "code",
   "execution_count": null,
   "metadata": {
    "id": "d4F2H_Oqceqn"
   },
   "outputs": [],
   "source": [
    "# более подробно про словари:\n",
    "# https://pythonworld.ru/tipy-dannyx-v-python/slovari-dict-funkcii-i-metody-slovarej.html"
   ]
  },
  {
   "cell_type": "markdown",
   "metadata": {
    "id": "RbGZ87-7fNEV"
   },
   "source": [
    "##  Немного про функции"
   ]
  },
  {
   "cell_type": "code",
   "execution_count": null,
   "metadata": {
    "id": "Vb1PcJV7fS9k"
   },
   "outputs": [],
   "source": [
    "def make_v (x, y, z = 10):\n",
    "  return x * 2 - y + z * 2"
   ]
  },
  {
   "cell_type": "code",
   "execution_count": null,
   "metadata": {
    "colab": {
     "base_uri": "https://localhost:8080/"
    },
    "id": "jIAjDPJ4fdyL",
    "outputId": "5f26a0ea-5abf-4547-9b39-34dc46642e64"
   },
   "outputs": [],
   "source": [
    "make_v(1, 2, 3)"
   ]
  },
  {
   "cell_type": "code",
   "execution_count": null,
   "metadata": {
    "colab": {
     "base_uri": "https://localhost:8080/"
    },
    "id": "NTYUD2O2ffmF",
    "outputId": "4b4fd550-9d0c-4e6d-d904-634d0da93945"
   },
   "outputs": [],
   "source": [
    "make_v(1, 2)"
   ]
  },
  {
   "cell_type": "code",
   "execution_count": null,
   "metadata": {
    "colab": {
     "base_uri": "https://localhost:8080/"
    },
    "id": "H-kvvB1afi0f",
    "outputId": "56029a54-ec93-48fe-e77b-af3760d2f415"
   },
   "outputs": [],
   "source": [
    "mult = lambda x, y: x * y\n",
    "mult(1, 2)"
   ]
  },
  {
   "cell_type": "code",
   "execution_count": null,
   "metadata": {
    "colab": {
     "base_uri": "https://localhost:8080/"
    },
    "id": "GmePWZjTfu-b",
    "outputId": "db9a3e70-9141-4dbe-df63-085c59121b96"
   },
   "outputs": [],
   "source": [
    "#Функция EVAL выолняет код, переданный ей в виде строки\n",
    "x = 11\n",
    "eval('print(\"Больше чем 10\") if x > 10 else print(\"Меньше 10\")')"
   ]
  },
  {
   "cell_type": "code",
   "execution_count": null,
   "metadata": {
    "colab": {
     "base_uri": "https://localhost:8080/"
    },
    "id": "8jvGxKmA7knt",
    "outputId": "c809b705-76df-4458-e1ef-bbe64ebef61f"
   },
   "outputs": [],
   "source": [
    "#map(function, iterator) - итератор, получившийся после применения к каждому элементу последовательности функции function.\n",
    "\n",
    "def addition(n):\n",
    "    return n + n\n",
    "\n",
    "numbers = (1, 2, 3, 4)\n",
    "result = map(addition, numbers)\n",
    "print(list(result))"
   ]
  },
  {
   "cell_type": "code",
   "execution_count": null,
   "metadata": {
    "colab": {
     "base_uri": "https://localhost:8080/",
     "height": 137
    },
    "id": "PcPJJ4ZUea64",
    "outputId": "9b983fe5-7b7f-4455-81c8-4fb05219f24c"
   },
   "outputs": [],
   "source": [
    "https://pythonworld.ru/tipy-dannyx-v-python/vse-o-funkciyax-i-ix-argumentax.html\n",
    "https://pythonworld.ru/osnovy/vstroennye-funkcii.html"
   ]
  },
  {
   "cell_type": "markdown",
   "metadata": {
    "id": "8fcbL5aR8ZiM"
   },
   "source": [
    "## Исключения\n"
   ]
  },
  {
   "cell_type": "code",
   "execution_count": null,
   "metadata": {
    "colab": {
     "base_uri": "https://localhost:8080/",
     "height": 137
    },
    "id": "WLYE3WWU8gP0",
    "outputId": "e6838885-563c-4ee7-fa71-a30718a96119"
   },
   "outputs": [],
   "source": [
    "if 1>1 print(\"1\")"
   ]
  },
  {
   "cell_type": "code",
   "execution_count": null,
   "metadata": {
    "colab": {
     "base_uri": "https://localhost:8080/",
     "height": 174
    },
    "id": "0rwu-8Jp8qbe",
    "outputId": "ead635b9-f67a-4524-e364-922f9d1b750a"
   },
   "outputs": [],
   "source": [
    "print(1/0)"
   ]
  },
  {
   "cell_type": "code",
   "execution_count": null,
   "metadata": {
    "id": "0hwpao4z8sAf"
   },
   "outputs": [],
   "source": [
    "assert(1==2)"
   ]
  },
  {
   "cell_type": "code",
   "execution_count": null,
   "metadata": {
    "colab": {
     "base_uri": "https://localhost:8080/"
    },
    "id": "MShIwA0j8tj-",
    "outputId": "2edd50f2-e6de-477d-ec36-232ca7706a83"
   },
   "outputs": [],
   "source": [
    "# Можно поймать ошибку и пропустить ее\n",
    "\n",
    "try:\n",
    "    1/0\n",
    "except:\n",
    "    print(1)"
   ]
  },
  {
   "cell_type": "code",
   "execution_count": null,
   "metadata": {
    "colab": {
     "base_uri": "https://localhost:8080/"
    },
    "id": "3PmvltEl80wI",
    "outputId": "9319fea4-aba9-4646-bf23-ea23649edad5"
   },
   "outputs": [],
   "source": [
    "# лучший выбор - многовариантный отлов ошибок\n",
    "try:\n",
    "    1/0\n",
    "except ZeroDivisionError:\n",
    "    print('Что-то с нулем')\n",
    "except SyntaxError:\n",
    "    print('Забыли двоеточкие?')"
   ]
  },
  {
   "cell_type": "code",
   "execution_count": null,
   "metadata": {
    "colab": {
     "base_uri": "https://localhost:8080/"
    },
    "id": "j2Cuzut482F3",
    "outputId": "970b55a6-4ad7-4546-8a2d-07900a81d380"
   },
   "outputs": [],
   "source": [
    "# если поймали ошибку, хотите правильно завершить дейстиве?\n",
    "# вам понадобиться блок finally\n",
    "\n",
    "try:\n",
    "    1/0\n",
    "except ZeroDivisionError:\n",
    "    print('Что-то с нулем')\n",
    "except SyntaxError:\n",
    "    print('Забыли двоеточкие?')\n",
    "except:\n",
    "    print(\"Все другие ошибки\")\n",
    "finally:\n",
    "    print(\"Это будет писать всегда\")"
   ]
  },
  {
   "cell_type": "code",
   "execution_count": null,
   "metadata": {
    "colab": {
     "base_uri": "https://localhost:8080/",
     "height": 193
    },
    "id": "vVqhLbbn8wZa",
    "outputId": "7078a001-983f-4aea-b2ef-a9792d7fb0e0"
   },
   "outputs": [],
   "source": [
    "# Можем и сами создавать исключения:\n",
    "raise Exception"
   ]
  },
  {
   "cell_type": "code",
   "execution_count": null,
   "metadata": {
    "colab": {
     "base_uri": "https://localhost:8080/",
     "height": 174
    },
    "id": "0un8H2SK9OyU",
    "outputId": "8da9ec53-9a7c-434f-fbb7-7c9ceda7b77e"
   },
   "outputs": [],
   "source": [
    "raise TypeError('Тут можно писать что угодно')"
   ]
  },
  {
   "cell_type": "code",
   "execution_count": null,
   "metadata": {
    "colab": {
     "base_uri": "https://localhost:8080/",
     "height": 174
    },
    "id": "N-STATGH9U0k",
    "outputId": "175f7ab7-627b-4feb-a376-1c3b8770667f"
   },
   "outputs": [],
   "source": [
    "assert 1==2, 'Условние не верно'"
   ]
  },
  {
   "cell_type": "markdown",
   "metadata": {
    "id": "7IfBZHN8eeGX"
   },
   "source": [
    "## Дополнительные материалы\n",
    "\n",
    "*   Самоучитель Python - https://pythonworld.ru/samouchitel-python\n",
    "*   Курс Python с нуля, можно выполнять задания в интерактивном режиме - http://pythontutor.ru/\n",
    "*   Игра, которая позволит прокачать навыки Python: https://py.checkio.org/\n",
    "\n",
    "\n",
    "\n"
   ]
  },
  {
   "cell_type": "code",
   "execution_count": null,
   "metadata": {},
   "outputs": [],
   "source": []
  }
 ],
 "metadata": {
  "colab": {
   "provenance": []
  },
  "kernelspec": {
   "display_name": "Python 3 (ipykernel)",
   "language": "python",
   "name": "python3"
  },
  "language_info": {
   "codemirror_mode": {
    "name": "ipython",
    "version": 3
   },
   "file_extension": ".py",
   "mimetype": "text/x-python",
   "name": "python",
   "nbconvert_exporter": "python",
   "pygments_lexer": "ipython3",
   "version": "3.8.16"
  }
 },
 "nbformat": 4,
 "nbformat_minor": 4
}
