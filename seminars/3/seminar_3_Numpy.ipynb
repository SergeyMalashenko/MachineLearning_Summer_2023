{
 "cells": [
  {
   "cell_type": "markdown",
   "id": "7c52183b-cd76-42b9-8a1e-f8add6b9b442",
   "metadata": {},
   "source": [
    "# Введение в NumPy"
   ]
  },
  {
   "cell_type": "code",
   "execution_count": 1,
   "id": "96c3e76e-654d-493c-892a-43ab5d950942",
   "metadata": {
    "tags": []
   },
   "outputs": [
    {
     "data": {
      "text/plain": [
       "'1.22.1'"
      ]
     },
     "execution_count": 1,
     "metadata": {},
     "output_type": "execute_result"
    }
   ],
   "source": [
    "import numpy\n",
    "numpy.__version__"
   ]
  },
  {
   "cell_type": "code",
   "execution_count": 2,
   "id": "f0e81c54-0b2a-4da5-b472-2ff9f091c22c",
   "metadata": {
    "tags": []
   },
   "outputs": [],
   "source": [
    "import numpy as np"
   ]
  },
  {
   "cell_type": "markdown",
   "id": "16173863-beb0-4e3b-82b6-a01f1abe1dd3",
   "metadata": {},
   "source": [
    "## Встроенная документация\n",
    "\n",
    "IPython дает вам возможность быстро изучить содержимое модуля, а также документацию к различным функциям (с помощью символа `?`). Для получения более подробной информации о них обратитесь к [Help and Documentation in IPython](01.01-Help-And-Documentation.ipynb).\n",
    "\n",
    "Например, чтобы отобразить все содержимое пространства имен NumPy, вы можете набрать следующее:\n",
    "\n",
    "``ipython\n",
    "В [3]: np.<TAB>\n",
    "```\n",
    "\n",
    "А чтобы отобразить встроенную документацию NumPy, вы можете использовать следующее:\n",
    "\n",
    "``ipython\n",
    "In [4]: np?\n",
    "```\n",
    "\n",
    "Более подробную документацию, а также учебники и другие ресурсы можно найти на сайте http://www.numpy.org."
   ]
  },
  {
   "cell_type": "code",
   "execution_count": null,
   "id": "2f34b86c-54ba-41cc-bb6a-bad345b2fe4e",
   "metadata": {},
   "outputs": [],
   "source": []
  }
 ],
 "metadata": {
  "kernelspec": {
   "display_name": "Python 3 (ipykernel)",
   "language": "python",
   "name": "python3"
  },
  "language_info": {
   "codemirror_mode": {
    "name": "ipython",
    "version": 3
   },
   "file_extension": ".py",
   "mimetype": "text/x-python",
   "name": "python",
   "nbconvert_exporter": "python",
   "pygments_lexer": "ipython3",
   "version": "3.8.10"
  }
 },
 "nbformat": 4,
 "nbformat_minor": 5
}
