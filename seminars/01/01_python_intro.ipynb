{
 "cells": [
  {
   "cell_type": "markdown",
   "metadata": {
    "id": "oVlE7wQJ7pl9"
   },
   "source": [
    "# Семинар 1: Введение в Python и Jupyter Notebook"
   ]
  },
  {
   "cell_type": "markdown",
   "metadata": {
    "id": "ZedeRn-h-TzW"
   },
   "source": [
    "<a href=\"https://colab.research.google.com/github/SergeyMalashenko/MachineLearning_Summer_2023/blob/main/seminars/01/01_python_intro.ipynb\"><img align=\"left\" src=\"https://colab.research.google.com/assets/colab-badge.svg\" alt=\"Open in Colab\" title=\"Open and Execute in Google Colaboratory\"></a>"
   ]
  },
  {
   "cell_type": "markdown",
   "metadata": {
    "id": "RlrpReCk7pn_"
   },
   "source": [
    "## Почему будем использовать Python\n",
    "\n",
    "\n",
    "**Python** — высокоуровневый язык программирования общего назначения с динамической строгой типизацией и автоматическим управлением памятью, ориентированный на повышение производительности разработчика, читаемости кода и его качества, а также на обеспечение переносимости написанных на нём программ ([wiki](https://ru.wikipedia.org/wiki/Python))\n",
    "\n",
    "Для нас он наиболее удобен по нескольким причинам:\n",
    "\n",
    "1. Низкий порог входа\n",
    "2. Есть множестве библиотек для анализа данных на python\n",
    "3. Удобный интерфейс IPython-ноутбуков\n",
    "\n"
   ]
  },
  {
   "cell_type": "markdown",
   "metadata": {
    "id": "Ouq-26B47pp9"
   },
   "source": [
    "## Jupyter Notebook\n",
    "\n",
    "Мы с вами сейчас находимся внутри **Jupyter Notebook**.\n",
    "На русском подобные обычно называют *ноутбуками* или, что правильнее, *тетрадками*.\n",
    "\n",
    "В Data science такие тетрадки получили широкое распространение т.к. в них можно структурно проводить исследования данных и строить модельки, чередуя код с заголовками, текстом, картинками и т.д.  \n",
    "\n",
    "В тетрадках можно:\n",
    "1. Делить код на блоки и выполнять их в любом порядке\n",
    "2. Делать текстовые вставки с форматированием\n",
    "3. Делить исследования на блоки\n",
    "4. Писать код блок-за-блоком (последовательно изучая что происходит в разных частях кода)\n",
    "\n",
    "Такие тетрадки можно затем выгружать в различных форматах. Самые популярные из них:\n",
    "1. IPython Notebook (.ipynb): Формат по умолчанию для Jupyter Notebook, который содержит все ячейки кода, текста, изображений и вывода, а также метаданные блокнота.\n",
    "2. HTML (.html): Позволяет просматривать блокнот веб-браузере без установки Jupyter Notebook.\n",
    "3. PDF (.pdf): Удобен для обмена документацией и отчетами.\n",
    "4. Executable Script (.py): Можно экспортировать только код ячеек в виде исполняемого Python скрипта.\n"
   ]
  },
  {
   "cell_type": "markdown",
   "metadata": {
    "id": "kXmRbh5f7pr4"
   },
   "source": [
    "## Как работает Jupyter Notebook\n",
    "\n",
    "Любой блокнот состоит из *ячеек*. Даже текущий текст написан в ячейке.\n",
    "\n",
    "**Новая ячейка**\n",
    "Для создания новой ячейки можно использовать один из следующих вариантов:\n",
    "- нажмите кнопку \"+\" на панели управления сверху;\n",
    "- нажмите клавишу \"B\" на клавиатуре, и новая ячейка появится после текущей активной;\n",
    "- с клавиатуры нажмите клавишу \"A\", и новая ячейка появится перед текущей активной\n",
    "\n",
    "**Типы ячеек**   \n",
    "\n",
    "Есть два типа ячеек: Код и Текст\n",
    "\n",
    "Изменение типа ячейки осуществляется через верхнюю панель управления: нужно кликнуть на ячейку и выбрать её тип.\n",
    "\n",
    "**Редактирование ячейки**\n",
    "Неактивная ячейка отображается серым цветом.\n",
    "Ячейка активируется одним кликом курсора и становится синей.\n",
    "Чтобы перейти в режим редактирования ячейки, дважды кликните по курсору, и она станет зеленой.\n",
    "\n",
    "**Прерывание работы**\n",
    "Иногда бывает полезно остановить выполняющуюся ячейку.\n",
    "Вы можете нажать кнопку остановки, когда активная ячейка выполняется. Знак STOP на верхней панели.\n",
    "Можно воспользоваться опцией в меню Kernel - Interrupt (Прервать).\n",
    "Можно выполнить \"перезагрузку\" ноутбука в меню Kernel - Restart and Clear Output (Перезапустить и Очистить вывод).\n",
    "\n"
   ]
  },
  {
   "cell_type": "markdown",
   "metadata": {
    "id": "fXnUudFd-VoL"
   },
   "source": [
    "\n",
    "\n",
    "# Anaconda\n",
    "<a href=\"https://www.anaconda.com//\">Anaconda</a>  — дистрибутив языков программирования Python и R, включающий набор популярных свободных библиотек, объединённых проблематиками науки о данных и машинного обучения.\n",
    "\n",
    "С помощью Anaconda вы сможете запускать ноутбуки локально (на своём компьютере).\n"
   ]
  },
  {
   "cell_type": "markdown",
   "metadata": {
    "id": "cwDgMFoN7pt-"
   },
   "source": [
    "\n",
    "\n",
    "# Google Colab\n",
    "<a href=\"https://colab.research.google.com/\">Google Colab</a> - это среда разработки на языке Python, работающая в браузере с использованием Google Cloud, то есть вы можете работать в Colab, не устанавливая Python на свой компьютер.\n",
    "\n",
    "Быстрое введение в Colab и Python доступно по ссылке <a href=\"https://colab.research.google.com/github/tensorflow/examples/blob/master/courses/udacity_intro_to_tensorflow_for_deep_learning/l01c01_introduction_to_colab_and_python.ipynb\">здесь</a>.\n"
   ]
  },
  {
   "cell_type": "markdown",
   "metadata": {
    "id": "f5wgnjax7pv7"
   },
   "source": [
    "# Основы языка Python\n",
    "\n",
    "Что изучим:\n",
    "\n",
    "- Стандартный функционал языка\n",
    "- Типы данных и операции над ними\n",
    "- Функции и исключения в Python"
   ]
  },
  {
   "cell_type": "markdown",
   "metadata": {
    "id": "_ON2gtPv7pyB"
   },
   "source": [
    "## Стандартный функционал языка\n"
   ]
  },
  {
   "cell_type": "markdown",
   "metadata": {
    "id": "ZV5tc4tf7p0G"
   },
   "source": [
    "### print()\n",
    "\n",
    "Вот полный синтаксис функции, скрытый от наших глаз:\n",
    "\n",
    "`print(value, ..., sep=' ', end='\\n', file=sys.stdout, flush=False)`\n",
    "\n",
    "Аргументы функции здесь — это sep, end, file и flush:\n",
    "\n",
    "- **sep** позволяет задать разделитель, который будет выводиться между элементами, переданными в функцию print(). По умолчанию разделителем является пробел, но с помощью sep пробел можно заменить на другой разделитель, к примеру, на запятую.\n",
    "- **end** позволяет определять символ, который будет добавлен в конец сообщения после вывода. По умолчанию это символ перевода строки. Поменять его можно, к примеру, на точку с запятой.\n",
    "- **file** позволяет перенаправить вывод текста в нужный вам файл. По умолчанию функция выводит текст в консоль, в которой вы и задаёте команды Python. Аргумент file полезен, если нужно сохранить вывод для дальнейшего использования.\n",
    "- **flush** позволяет управлять буферизацией вывода. Если этот аргумент установлен в True, то вывод не будет буферизоваться и будет выводиться немедленно."
   ]
  },
  {
   "cell_type": "code",
   "execution_count": 2,
   "metadata": {
    "id": "P2x300zP7lxx",
    "outputId": "f512a192-8e15-4542-b0b6-e50d9739f45f"
   },
   "outputs": [
    {
     "data": {
      "text/plain": [
       "\u001b[0;31mDocstring:\u001b[0m\n",
       "print(value, ..., sep=' ', end='\\n', file=sys.stdout, flush=False)\n",
       "\n",
       "Prints the values to a stream, or to sys.stdout by default.\n",
       "Optional keyword arguments:\n",
       "file:  a file-like object (stream); defaults to the current sys.stdout.\n",
       "sep:   string inserted between values, default a space.\n",
       "end:   string appended after the last value, default a newline.\n",
       "flush: whether to forcibly flush the stream.\n",
       "\u001b[0;31mType:\u001b[0m      builtin_function_or_method\n"
      ]
     },
     "metadata": {},
     "output_type": "display_data"
    }
   ],
   "source": [
    "print?"
   ]
  },
  {
   "cell_type": "code",
   "execution_count": 3,
   "metadata": {
    "colab": {
     "base_uri": "https://localhost:8080/"
    },
    "id": "Bz5AXYpC7lz2",
    "outputId": "6e4d3d97-d593-42da-b80c-7429f173c8c3"
   },
   "outputs": [
    {
     "name": "stdout",
     "output_type": "stream",
     "text": [
      "5\n"
     ]
    }
   ],
   "source": [
    "print(5)"
   ]
  },
  {
   "cell_type": "code",
   "execution_count": 4,
   "metadata": {
    "colab": {
     "base_uri": "https://localhost:8080/"
    },
    "id": "wyoPS7bw7l2D",
    "outputId": "09494359-b94c-49b6-de09-001a0d4f64eb"
   },
   "outputs": [
    {
     "name": "stdout",
     "output_type": "stream",
     "text": [
      "5 6 7 8\n"
     ]
    }
   ],
   "source": [
    "print(5, 6, 7, 8)"
   ]
  },
  {
   "cell_type": "code",
   "execution_count": 5,
   "metadata": {
    "colab": {
     "base_uri": "https://localhost:8080/"
    },
    "id": "8HA20ICg7l3o",
    "outputId": "72e8039b-ba1f-4737-b7b2-9d1fdf921857"
   },
   "outputs": [
    {
     "name": "stdout",
     "output_type": "stream",
     "text": [
      "5_6_7_8\n"
     ]
    }
   ],
   "source": [
    "print(5, 6, 7, 8, sep='_')"
   ]
  },
  {
   "cell_type": "code",
   "execution_count": 6,
   "metadata": {
    "colab": {
     "base_uri": "https://localhost:8080/"
    },
    "id": "UyeX1yFW7l5k",
    "outputId": "4b91a13e-2bf1-42da-9b8b-2d8e8dd72450"
   },
   "outputs": [
    {
     "name": "stdout",
     "output_type": "stream",
     "text": [
      "January\n"
     ]
    }
   ],
   "source": [
    "print('January')"
   ]
  },
  {
   "cell_type": "markdown",
   "metadata": {
    "id": "fsUhmYHD8JT6"
   },
   "source": [
    "### input()\n",
    "Функция для чтения данных с клавиатуры"
   ]
  },
  {
   "cell_type": "code",
   "execution_count": 7,
   "metadata": {
    "colab": {
     "base_uri": "https://localhost:8080/"
    },
    "id": "mrLCAAhY7l7h",
    "outputId": "cc7675b7-7370-4002-c582-f50f8c65b66a"
   },
   "outputs": [
    {
     "name": "stdin",
     "output_type": "stream",
     "text": [
      " Sergey\n"
     ]
    },
    {
     "name": "stdout",
     "output_type": "stream",
     "text": [
      "Sergey\n"
     ]
    }
   ],
   "source": [
    "name = input()\n",
    "print(name)"
   ]
  },
  {
   "cell_type": "code",
   "execution_count": 8,
   "metadata": {
    "colab": {
     "base_uri": "https://localhost:8080/"
    },
    "id": "e25L6gfw7l9n",
    "outputId": "4805bff5-7d34-4c24-de74-e2aeaf99cc21"
   },
   "outputs": [
    {
     "name": "stdin",
     "output_type": "stream",
     "text": [
      "Input your name:  Sergey\n"
     ]
    },
    {
     "name": "stdout",
     "output_type": "stream",
     "text": [
      "Sergey\n"
     ]
    }
   ],
   "source": [
    "name = input('Input your name: ')\n",
    "print(name)"
   ]
  },
  {
   "cell_type": "markdown",
   "metadata": {
    "id": "RkTNkM5c8S50"
   },
   "source": [
    "### Арифметические операции\n",
    "- Сложение: +\n",
    "- Вычитание: -\n",
    "- Умножение: *\n",
    "- Деление: /\n",
    "- Возведение в степень: **\n",
    "- Целая часть от деления: //\n",
    "- Остаток от деления: %"
   ]
  },
  {
   "cell_type": "code",
   "execution_count": 9,
   "metadata": {
    "colab": {
     "base_uri": "https://localhost:8080/"
    },
    "id": "uHmtBZSC7l_e",
    "outputId": "714ccc83-9f40-426f-da5d-d65f71b2ca64"
   },
   "outputs": [
    {
     "name": "stdout",
     "output_type": "stream",
     "text": [
      "Числа: 5 и 2\n",
      "7\n",
      "3\n",
      "10\n",
      "2.5\n",
      "2\n",
      "Остаток от деления: 1\n",
      "5 в степени 2: 25\n"
     ]
    }
   ],
   "source": [
    "print('Числа:', 5, 'и', 2)\n",
    "print(5 + 2)\n",
    "print(5 - 2)\n",
    "print(5*2)\n",
    "print(5 / 2)\n",
    "print( 5 // 2)\n",
    "print('Остаток от деления:', 5 % 2)\n",
    "print('5 в степени 2:', 5**2)"
   ]
  },
  {
   "cell_type": "markdown",
   "metadata": {
    "id": "rEQlctO68ps3"
   },
   "source": [
    "### Переменные"
   ]
  },
  {
   "cell_type": "code",
   "execution_count": 10,
   "metadata": {
    "id": "K6nsiunl80O0"
   },
   "outputs": [],
   "source": [
    "savings_2017 = 2000\n",
    "savings_2016 = 1800\n",
    "increase = ((2000 - 1800) / 1800)*100"
   ]
  },
  {
   "cell_type": "code",
   "execution_count": 11,
   "metadata": {
    "colab": {
     "base_uri": "https://localhost:8080/"
    },
    "id": "P90uUwL68260",
    "outputId": "2790b300-6dfe-4a2c-8777-ded1ace1c71f"
   },
   "outputs": [
    {
     "name": "stdout",
     "output_type": "stream",
     "text": [
      "11%\n"
     ]
    }
   ],
   "source": [
    "print(round(increase), '%', sep='')"
   ]
  },
  {
   "cell_type": "code",
   "execution_count": 13,
   "metadata": {},
   "outputs": [
    {
     "data": {
      "text/plain": [
       "\u001b[0;31mSignature:\u001b[0m \u001b[0mround\u001b[0m\u001b[0;34m(\u001b[0m\u001b[0mnumber\u001b[0m\u001b[0;34m,\u001b[0m \u001b[0mndigits\u001b[0m\u001b[0;34m=\u001b[0m\u001b[0;32mNone\u001b[0m\u001b[0;34m)\u001b[0m\u001b[0;34m\u001b[0m\u001b[0;34m\u001b[0m\u001b[0m\n",
       "\u001b[0;31mDocstring:\u001b[0m\n",
       "Round a number to a given precision in decimal digits.\n",
       "\n",
       "The return value is an integer if ndigits is omitted or None.  Otherwise\n",
       "the return value has the same type as the number.  ndigits may be negative.\n",
       "\u001b[0;31mType:\u001b[0m      builtin_function_or_method\n"
      ]
     },
     "metadata": {},
     "output_type": "display_data"
    }
   ],
   "source": [
    "round?"
   ]
  },
  {
   "cell_type": "code",
   "execution_count": 12,
   "metadata": {},
   "outputs": [
    {
     "name": "stdout",
     "output_type": "stream",
     "text": [
      "11.11111111111111\n"
     ]
    }
   ],
   "source": [
    "print(increase)"
   ]
  },
  {
   "cell_type": "code",
   "execution_count": null,
   "metadata": {
    "colab": {
     "base_uri": "https://localhost:8080/"
    },
    "id": "Qr0u0N3W8dws",
    "outputId": "ea5aeab8-b5bb-42d0-f70e-1cf23301acc3"
   },
   "outputs": [],
   "source": [
    "print(type(savings_2017))\n",
    "print(type(increase))"
   ]
  },
  {
   "cell_type": "markdown",
   "metadata": {
    "id": "zB-NshLK9Ari"
   },
   "source": [
    "## Типы данных"
   ]
  },
  {
   "cell_type": "markdown",
   "metadata": {
    "id": "ImVD-d6bB2AS"
   },
   "source": [
    "В Python есть 2 основных категории типов данных: изменямые и неизменяемые.  \n",
    "\n",
    "*Неизменяемые объекты*:  \n",
    "* числовые данные (int, float),\n",
    "* bool,\n",
    "* None,\n",
    "* символьные строки (class 'str'),\n",
    "* кортежи (tuple).  \n",
    "\n",
    "*Изменяемые объекты*:  \n",
    "* списки (list),\n",
    "* множества (set),\n",
    "* словари (dict).  \n",
    "\n",
    "Новые типы данных (введенные пользователем) могут быть как изменямыми, иак и неизменяемыми. Изменяемость объектов определённого типа является принципиально важной характеристикой, определяющей, может ли объект такого типа **выступать в качестве ключа для словарей (dict)** или нет.\n"
   ]
  },
  {
   "cell_type": "markdown",
   "metadata": {
    "id": "r_TIXTIyCdui"
   },
   "source": [
    "Понять какого типа та или иная переменная можно с помощью функции type().\n",
    "Давайте пробежимся по всем типам данных.\n"
   ]
  },
  {
   "cell_type": "markdown",
   "metadata": {
    "id": "0HK1IjdCDDX0"
   },
   "source": [
    "**int**\n"
   ]
  },
  {
   "cell_type": "code",
   "execution_count": 14,
   "metadata": {
    "colab": {
     "base_uri": "https://localhost:8080/"
    },
    "id": "WXqyfP9OCcmO",
    "outputId": "08fdf022-7b9b-46ef-e481-313e1a3f7a0e"
   },
   "outputs": [
    {
     "name": "stdout",
     "output_type": "stream",
     "text": [
      "<class 'int'>\n"
     ]
    }
   ],
   "source": [
    "x = 5\n",
    "\n",
    "print(type(x))"
   ]
  },
  {
   "cell_type": "markdown",
   "metadata": {
    "id": "p8KvO04OCvuV"
   },
   "source": [
    "Кстати, Python настолько ленивый язык, что в данном случае можно даже не писать print() - ноутбук выводит то, что возвращает последняя выведенная функция.\n",
    "\n",
    "\n"
   ]
  },
  {
   "cell_type": "code",
   "execution_count": 15,
   "metadata": {
    "colab": {
     "base_uri": "https://localhost:8080/"
    },
    "id": "4W8dn3XGClnB",
    "outputId": "29b4e798-df30-4de6-a500-3c9a56b43633"
   },
   "outputs": [
    {
     "data": {
      "text/plain": [
       "int"
      ]
     },
     "execution_count": 15,
     "metadata": {},
     "output_type": "execute_result"
    }
   ],
   "source": [
    "type(x)"
   ]
  },
  {
   "cell_type": "markdown",
   "metadata": {
    "id": "r6cLfKYGDKSn"
   },
   "source": [
    "**float**"
   ]
  },
  {
   "cell_type": "code",
   "execution_count": 16,
   "metadata": {
    "colab": {
     "base_uri": "https://localhost:8080/"
    },
    "id": "t3MF-jXsDMl2",
    "outputId": "077b492c-f76e-445b-ff62-3f38de042a75"
   },
   "outputs": [
    {
     "data": {
      "text/plain": [
       "0.84128"
      ]
     },
     "execution_count": 16,
     "metadata": {},
     "output_type": "execute_result"
    }
   ],
   "source": [
    "x = 0.84128\n",
    "x"
   ]
  },
  {
   "cell_type": "code",
   "execution_count": 17,
   "metadata": {
    "colab": {
     "base_uri": "https://localhost:8080/"
    },
    "id": "2BJ47HBADPKU",
    "outputId": "9f13f0c3-a4ff-43ff-d8cd-84762ef2a900"
   },
   "outputs": [
    {
     "name": "stdout",
     "output_type": "stream",
     "text": [
      "<class 'float'>\n"
     ]
    }
   ],
   "source": [
    "print(type(x))"
   ]
  },
  {
   "cell_type": "code",
   "execution_count": 18,
   "metadata": {
    "colab": {
     "base_uri": "https://localhost:8080/"
    },
    "id": "Nb4OSeid4yIx",
    "outputId": "3226afdb-32de-4565-92d9-db5f923da84c"
   },
   "outputs": [
    {
     "data": {
      "text/plain": [
       "0.0093"
      ]
     },
     "execution_count": 18,
     "metadata": {},
     "output_type": "execute_result"
    }
   ],
   "source": [
    "y = .0093\n",
    "y"
   ]
  },
  {
   "cell_type": "markdown",
   "metadata": {
    "id": "fcJ7zGgWDTbl"
   },
   "source": [
    "Кстати, в Python если типы могут привестись друг к другу, то это делается автоматически"
   ]
  },
  {
   "cell_type": "code",
   "execution_count": 19,
   "metadata": {
    "colab": {
     "base_uri": "https://localhost:8080/"
    },
    "id": "7s5b1LWgDaRU",
    "outputId": "0a137d61-691d-4510-f74b-15330c41ca4d"
   },
   "outputs": [
    {
     "name": "stdout",
     "output_type": "stream",
     "text": [
      "24.9213\n",
      "<class 'float'>\n"
     ]
    }
   ],
   "source": [
    "x = 5\n",
    "y = 19.9213\n",
    "\n",
    "print(x+y)\n",
    "print(type(x+y))"
   ]
  },
  {
   "cell_type": "markdown",
   "metadata": {
    "id": "BflO-HAcD0he"
   },
   "source": [
    "Несколько примеров арифметических операций:"
   ]
  },
  {
   "cell_type": "code",
   "execution_count": 20,
   "metadata": {
    "colab": {
     "base_uri": "https://localhost:8080/"
    },
    "id": "FReS0gE3DpoV",
    "outputId": "0255c8d7-3860-4f04-d940-867beb8703f5"
   },
   "outputs": [
    {
     "name": "stdout",
     "output_type": "stream",
     "text": [
      "1\n",
      "7\n",
      "225\n"
     ]
    }
   ],
   "source": [
    "x = 15\n",
    "y = 2\n",
    "\n",
    "#остаток от деления\n",
    "print(x % y)\n",
    "\n",
    "#целая часть от деления\n",
    "print(x // y)\n",
    "\n",
    "#возведение в степень\n",
    "print(x ** y)"
   ]
  },
  {
   "cell_type": "code",
   "execution_count": 21,
   "metadata": {
    "colab": {
     "base_uri": "https://localhost:8080/"
    },
    "id": "-ndtxsWg5DG1",
    "outputId": "adc880a2-b4d0-40b4-d692-d736d242b358"
   },
   "outputs": [
    {
     "data": {
      "text/plain": [
       "225"
      ]
     },
     "execution_count": 21,
     "metadata": {},
     "output_type": "execute_result"
    }
   ],
   "source": [
    "x // y\n",
    "x ** y"
   ]
  },
  {
   "cell_type": "code",
   "execution_count": 22,
   "metadata": {
    "colab": {
     "base_uri": "https://localhost:8080/"
    },
    "id": "hpsJ7kR54Nrb",
    "outputId": "7273939b-60e8-48c9-c6d4-2644822809bd"
   },
   "outputs": [
    {
     "data": {
      "text/plain": [
       "13.5"
      ]
     },
     "execution_count": 22,
     "metadata": {},
     "output_type": "execute_result"
    }
   ],
   "source": [
    "#Python сам понимает тип получаемоего выражения (операнды int, делает float):\n",
    "27 / 2"
   ]
  },
  {
   "cell_type": "code",
   "execution_count": null,
   "metadata": {
    "id": "zAzNAXwN5ske"
   },
   "outputs": [],
   "source": []
  },
  {
   "cell_type": "markdown",
   "metadata": {
    "id": "0xsE3RqEELee"
   },
   "source": [
    "**bool**"
   ]
  },
  {
   "cell_type": "code",
   "execution_count": 23,
   "metadata": {
    "id": "n2Ao3MD3ENvm"
   },
   "outputs": [],
   "source": [
    "x = True\n",
    "y = False"
   ]
  },
  {
   "cell_type": "markdown",
   "metadata": {
    "id": "_-VV-HaQEckF"
   },
   "source": [
    "Если пытаться применять к bool-овским переменным арифметические операции, то они будут приводиться в int:"
   ]
  },
  {
   "cell_type": "code",
   "execution_count": 24,
   "metadata": {
    "colab": {
     "base_uri": "https://localhost:8080/"
    },
    "id": "pftOXqBAEQWB",
    "outputId": "1cdc6287-a2c2-4c7d-89d8-dfa966f884aa"
   },
   "outputs": [
    {
     "name": "stdout",
     "output_type": "stream",
     "text": [
      "2\n",
      "2\n",
      "1\n"
     ]
    }
   ],
   "source": [
    "print(x+x)\n",
    "print(x*2)\n",
    "print(y*2 + x)"
   ]
  },
  {
   "cell_type": "markdown",
   "metadata": {
    "id": "tdcfhkm5EtGN"
   },
   "source": [
    "Чтобы переменные воспринимались как bool-овские, нужно прямо прописывать логические операции:"
   ]
  },
  {
   "cell_type": "code",
   "execution_count": 25,
   "metadata": {
    "colab": {
     "base_uri": "https://localhost:8080/"
    },
    "id": "5KwtMdjrEsU3",
    "outputId": "7156db96-130a-4f1c-c6b1-843806bf79a6"
   },
   "outputs": [
    {
     "name": "stdout",
     "output_type": "stream",
     "text": [
      "False\n",
      "True\n",
      "True\n"
     ]
    }
   ],
   "source": [
    "print(x and y)\n",
    "print(x or not x)\n",
    "print((x or y) and x)"
   ]
  },
  {
   "cell_type": "markdown",
   "metadata": {
    "id": "CWKPJp6pE_l0"
   },
   "source": [
    "Можно принудительно приводить типы друг к другу, например:"
   ]
  },
  {
   "cell_type": "code",
   "execution_count": 26,
   "metadata": {
    "colab": {
     "base_uri": "https://localhost:8080/"
    },
    "id": "JWsgkRAbFC_f",
    "outputId": "2ad8ac44-b5a0-4e24-b99d-9fc6681f2617"
   },
   "outputs": [
    {
     "data": {
      "text/plain": [
       "1.0"
      ]
     },
     "execution_count": 26,
     "metadata": {},
     "output_type": "execute_result"
    }
   ],
   "source": [
    "float(True)"
   ]
  },
  {
   "cell_type": "code",
   "execution_count": 27,
   "metadata": {
    "colab": {
     "base_uri": "https://localhost:8080/"
    },
    "id": "lnHCHaUI6iuj",
    "outputId": "7896a360-a8ab-4b6f-e246-971cc4beee93"
   },
   "outputs": [
    {
     "data": {
      "text/plain": [
       "float"
      ]
     },
     "execution_count": 27,
     "metadata": {},
     "output_type": "execute_result"
    }
   ],
   "source": [
    "type(float(True))"
   ]
  },
  {
   "cell_type": "code",
   "execution_count": 28,
   "metadata": {
    "colab": {
     "base_uri": "https://localhost:8080/"
    },
    "id": "5LgWz47IFGY0",
    "outputId": "aa3722f8-1663-4696-9b15-c74bee160603"
   },
   "outputs": [
    {
     "data": {
      "text/plain": [
       "True"
      ]
     },
     "execution_count": 28,
     "metadata": {},
     "output_type": "execute_result"
    }
   ],
   "source": [
    "bool(11)"
   ]
  },
  {
   "cell_type": "code",
   "execution_count": 29,
   "metadata": {
    "colab": {
     "base_uri": "https://localhost:8080/"
    },
    "id": "kiKiHHXNFJe_",
    "outputId": "e6ceaaad-1f1b-43df-d4c0-03f994aa1e7d"
   },
   "outputs": [
    {
     "data": {
      "text/plain": [
       "False"
      ]
     },
     "execution_count": 29,
     "metadata": {},
     "output_type": "execute_result"
    }
   ],
   "source": [
    "bool(0)"
   ]
  },
  {
   "cell_type": "markdown",
   "metadata": {
    "id": "GJDS1RLFGzP9"
   },
   "source": [
    "**None**"
   ]
  },
  {
   "cell_type": "code",
   "execution_count": 30,
   "metadata": {
    "colab": {
     "base_uri": "https://localhost:8080/"
    },
    "id": "J10d29h7G1fn",
    "outputId": "adb4a8ee-885f-471a-b36e-cf1a1a147f67"
   },
   "outputs": [
    {
     "name": "stdout",
     "output_type": "stream",
     "text": [
      "<class 'NoneType'>\n"
     ]
    }
   ],
   "source": [
    "x = None\n",
    "print(type(x))"
   ]
  },
  {
   "cell_type": "code",
   "execution_count": 31,
   "metadata": {
    "colab": {
     "base_uri": "https://localhost:8080/"
    },
    "id": "izMpTvkH4uVf",
    "outputId": "87f39afe-f7f0-4c96-d55d-9dbbcedd223c"
   },
   "outputs": [
    {
     "data": {
      "text/plain": [
       "True"
      ]
     },
     "execution_count": 31,
     "metadata": {},
     "output_type": "execute_result"
    }
   ],
   "source": [
    "#Так делать можно, но не нужно:\n",
    "x == None"
   ]
  },
  {
   "cell_type": "code",
   "execution_count": 32,
   "metadata": {
    "colab": {
     "base_uri": "https://localhost:8080/"
    },
    "id": "8GVZ4fScGqQg",
    "outputId": "05d73dc2-05af-4e40-e7ba-773d9b6df3c6"
   },
   "outputs": [
    {
     "name": "stdout",
     "output_type": "stream",
     "text": [
      "True\n"
     ]
    }
   ],
   "source": [
    "#Лучше так:\n",
    "print(x is None)"
   ]
  },
  {
   "cell_type": "markdown",
   "metadata": {
    "id": "wcTFgvL94o8k"
   },
   "source": [
    "Подробнее: https://pythonworld.ru/tipy-dannyx-v-python/none.html"
   ]
  },
  {
   "cell_type": "markdown",
   "metadata": {
    "id": "VX6CjIq4G-zT"
   },
   "source": [
    "**str**"
   ]
  },
  {
   "cell_type": "code",
   "execution_count": 33,
   "metadata": {
    "colab": {
     "base_uri": "https://localhost:8080/"
    },
    "id": "SmkIBMI5HC4F",
    "outputId": "ad3e00f4-ef99-4f9c-f1ff-a0ced30cef65"
   },
   "outputs": [
    {
     "name": "stdout",
     "output_type": "stream",
     "text": [
      "<class 'str'>\n"
     ]
    }
   ],
   "source": [
    "x = \"qwerty\"\n",
    "y = \"abcdef\"\n",
    "\n",
    "print(type(x))"
   ]
  },
  {
   "cell_type": "code",
   "execution_count": 34,
   "metadata": {
    "colab": {
     "base_uri": "https://localhost:8080/"
    },
    "id": "K-Z2R2xIHJrN",
    "outputId": "4c1fb5b3-8cb0-453d-eeaf-49cad0f36a87"
   },
   "outputs": [
    {
     "name": "stdout",
     "output_type": "stream",
     "text": [
      "qwerty abcdef\n"
     ]
    }
   ],
   "source": [
    "print(x + ' ' + y)"
   ]
  },
  {
   "cell_type": "code",
   "execution_count": 35,
   "metadata": {
    "colab": {
     "base_uri": "https://localhost:8080/"
    },
    "id": "_oq51635HRhN",
    "outputId": "f4355e01-921c-4390-8d6e-c3c3d2464559"
   },
   "outputs": [
    {
     "name": "stdout",
     "output_type": "stream",
     "text": [
      "qwertyqwerty\n"
     ]
    }
   ],
   "source": [
    "print(x * 2)"
   ]
  },
  {
   "cell_type": "code",
   "execution_count": 36,
   "metadata": {
    "colab": {
     "base_uri": "https://localhost:8080/"
    },
    "id": "JazgLubNHWwI",
    "outputId": "f1c2ee3a-6d49-42d3-85bd-55e6e6f4381a"
   },
   "outputs": [
    {
     "name": "stdout",
     "output_type": "stream",
     "text": [
      "6 6\n"
     ]
    }
   ],
   "source": [
    "print(len(x), len(y))"
   ]
  },
  {
   "cell_type": "code",
   "execution_count": 38,
   "metadata": {
    "colab": {
     "base_uri": "https://localhost:8080/"
    },
    "id": "N0JFqX4iHcVT",
    "outputId": "d548599e-eb8f-4e94-aa54-eb67f7382f0f"
   },
   "outputs": [
    {
     "name": "stdout",
     "output_type": "stream",
     "text": [
      "qwerty\n",
      "e\n",
      "y\n"
     ]
    }
   ],
   "source": [
    "print(x)\n",
    "print(x[2])\n",
    "print(x[-1])"
   ]
  },
  {
   "cell_type": "code",
   "execution_count": 39,
   "metadata": {
    "id": "B0xlFnEQHn2h"
   },
   "outputs": [],
   "source": [
    "new_str = 'AI Masters'"
   ]
  },
  {
   "cell_type": "code",
   "execution_count": 40,
   "metadata": {
    "colab": {
     "base_uri": "https://localhost:8080/"
    },
    "id": "vUVT2G-ZHwKZ",
    "outputId": "331d20d4-80fe-4a78-f07e-3fed786aeb33"
   },
   "outputs": [
    {
     "name": "stdout",
     "output_type": "stream",
     "text": [
      "AI \n",
      "\n"
     ]
    }
   ],
   "source": [
    "#Срезы\n",
    "print(new_str[0:3])\n",
    "print(new_str[14:])"
   ]
  },
  {
   "cell_type": "code",
   "execution_count": 41,
   "metadata": {
    "colab": {
     "base_uri": "https://localhost:8080/"
    },
    "id": "gtCyv1fe5Tcd",
    "outputId": "88824bd5-5e81-4967-d600-f80849b550cd"
   },
   "outputs": [
    {
     "name": "stdout",
     "output_type": "stream",
     "text": [
      "AI Ma\n",
      "sters\n"
     ]
    }
   ],
   "source": [
    "#Можно не писать откуда и до куда:\n",
    "print(new_str[:5])\n",
    "print(new_str[5:])"
   ]
  },
  {
   "cell_type": "code",
   "execution_count": 42,
   "metadata": {
    "colab": {
     "base_uri": "https://localhost:8080/",
     "height": 36
    },
    "id": "iqgNsZej5KJN",
    "outputId": "388d3895-be1b-4ae6-8d32-00c776b52233"
   },
   "outputs": [
    {
     "data": {
      "text/plain": [
       "'A atr'"
      ]
     },
     "execution_count": 42,
     "metadata": {},
     "output_type": "execute_result"
    }
   ],
   "source": [
    "#Шаг среза:\n",
    "new_str[::2]"
   ]
  },
  {
   "cell_type": "code",
   "execution_count": 43,
   "metadata": {
    "colab": {
     "base_uri": "https://localhost:8080/",
     "height": 36
    },
    "id": "e_iyCBPp5ixP",
    "outputId": "1f8bbe80-d88b-4d28-a6a9-a26725eed2f6"
   },
   "outputs": [
    {
     "data": {
      "text/plain": [
       "'AI Ma'"
      ]
     },
     "execution_count": 43,
     "metadata": {},
     "output_type": "execute_result"
    }
   ],
   "source": [
    "#Отрицательный срез:\n",
    "new_str[:-5]"
   ]
  },
  {
   "cell_type": "code",
   "execution_count": 44,
   "metadata": {
    "colab": {
     "base_uri": "https://localhost:8080/",
     "height": 36
    },
    "id": "tg_4fcUOQ5SL",
    "outputId": "eedcd9f9-f877-44ad-9e0b-b943e1df8b52"
   },
   "outputs": [
    {
     "data": {
      "text/plain": [
       "'AI Masters'"
      ]
     },
     "execution_count": 44,
     "metadata": {},
     "output_type": "execute_result"
    }
   ],
   "source": [
    "new_str"
   ]
  },
  {
   "cell_type": "code",
   "execution_count": 45,
   "metadata": {
    "colab": {
     "base_uri": "https://localhost:8080/",
     "height": 193
    },
    "id": "MbaE4hW7IBw6",
    "outputId": "fde1dc2c-1b28-4f7d-cf71-9815eb67adb5"
   },
   "outputs": [
    {
     "ename": "TypeError",
     "evalue": "'str' object does not support item assignment",
     "output_type": "error",
     "traceback": [
      "\u001b[0;31m---------------------------------------------------------------------------\u001b[0m",
      "\u001b[0;31mTypeError\u001b[0m                                 Traceback (most recent call last)",
      "\u001b[0;32m/tmp/ipykernel_24605/1720426540.py\u001b[0m in \u001b[0;36m<cell line: 2>\u001b[0;34m()\u001b[0m\n\u001b[1;32m      1\u001b[0m \u001b[0;31m#Как уже и говорилось, строки - неизменяемые объекты, поэтому заменить один символ нельзя:\u001b[0m\u001b[0;34m\u001b[0m\u001b[0;34m\u001b[0m\u001b[0;34m\u001b[0m\u001b[0m\n\u001b[0;32m----> 2\u001b[0;31m \u001b[0mnew_str\u001b[0m\u001b[0;34m[\u001b[0m\u001b[0;36m4\u001b[0m\u001b[0;34m]\u001b[0m \u001b[0;34m=\u001b[0m \u001b[0;34m'x'\u001b[0m\u001b[0;34m\u001b[0m\u001b[0;34m\u001b[0m\u001b[0m\n\u001b[0m",
      "\u001b[0;31mTypeError\u001b[0m: 'str' object does not support item assignment"
     ]
    }
   ],
   "source": [
    "#Как уже и говорилось, строки - неизменяемые объекты, поэтому заменить один символ нельзя:\n",
    "new_str[4] = 'x'"
   ]
  },
  {
   "cell_type": "code",
   "execution_count": 46,
   "metadata": {
    "id": "za7ZX1d6ILiJ",
    "outputId": "5fc52ad9-b4d2-4d56-d2bc-a81864772f27"
   },
   "outputs": [
    {
     "name": "stdout",
     "output_type": "stream",
     "text": [
      "ai masters\n",
      "AI MASTERS\n"
     ]
    }
   ],
   "source": [
    "#Поэтому функции, обрабатывающие строки, возвращают новые строки, например:\n",
    "print(new_str.lower())\n",
    "print(new_str.upper())"
   ]
  },
  {
   "cell_type": "code",
   "execution_count": 47,
   "metadata": {
    "id": "HdCr_gYeIatR",
    "outputId": "7974fce9-bc10-4438-bd7d-439b0e5ac434"
   },
   "outputs": [
    {
     "data": {
      "text/plain": [
       "51"
      ]
     },
     "execution_count": 47,
     "metadata": {},
     "output_type": "execute_result"
    }
   ],
   "source": [
    "#Со строками есть куча интересных встроенных функций, например поиск подстроки в строке:\n",
    "str1 = 'Факультет вычислительной математики и кибернетики (ВМК) Московского государственного университета имени М.В.Ломоносова является ведущим учебным центром России по подготовке кадров в области фундаментальных исследований по прикладной математике, вычислительной математике, информатике и программированию.'\n",
    "str2 = 'ВМК'\n",
    "str1.find(str2)"
   ]
  },
  {
   "cell_type": "markdown",
   "metadata": {
    "id": "Pd3k-3HvI6wh"
   },
   "source": [
    "Более подробно про функции над строками:\n",
    "https://pythonworld.ru/tipy-dannyx-v-python/stroki-funkcii-i-metody-strok.html\n",
    "\n",
    "*Важно знать какие бывают функции чтобы не писать их руками*"
   ]
  },
  {
   "cell_type": "markdown",
   "metadata": {
    "id": "k3SB65DRJc6v"
   },
   "source": [
    "**tuple**"
   ]
  },
  {
   "cell_type": "code",
   "execution_count": 48,
   "metadata": {
    "colab": {
     "base_uri": "https://localhost:8080/"
    },
    "id": "thL5-MF2JZjI",
    "outputId": "836cba92-6c3e-4beb-eaac-58177b7eddcf"
   },
   "outputs": [
    {
     "name": "stdout",
     "output_type": "stream",
     "text": [
      "(1, 2, 3, 4, 5, 6)\n",
      "<class 'tuple'>\n"
     ]
    }
   ],
   "source": [
    "a = (1, 2, 3, 4, 5, 6)\n",
    "\n",
    "print(a)\n",
    "print(type(a))"
   ]
  },
  {
   "cell_type": "code",
   "execution_count": 51,
   "metadata": {
    "id": "VPgtd-clKBLs"
   },
   "outputs": [
    {
     "name": "stdout",
     "output_type": "stream",
     "text": [
      "('MSU', True, 0.83, 9)\n",
      "<class 'tuple'>\n"
     ]
    },
    {
     "ename": "TypeError",
     "evalue": "'tuple' object does not support item assignment",
     "output_type": "error",
     "traceback": [
      "\u001b[0;31m---------------------------------------------------------------------------\u001b[0m",
      "\u001b[0;31mTypeError\u001b[0m                                 Traceback (most recent call last)",
      "\u001b[0;32m/tmp/ipykernel_24605/2840930247.py\u001b[0m in \u001b[0;36m<cell line: 6>\u001b[0;34m()\u001b[0m\n\u001b[1;32m      4\u001b[0m \u001b[0mprint\u001b[0m\u001b[0;34m(\u001b[0m\u001b[0mtype\u001b[0m\u001b[0;34m(\u001b[0m\u001b[0mb\u001b[0m\u001b[0;34m)\u001b[0m\u001b[0;34m)\u001b[0m\u001b[0;34m\u001b[0m\u001b[0;34m\u001b[0m\u001b[0m\n\u001b[1;32m      5\u001b[0m \u001b[0;34m\u001b[0m\u001b[0m\n\u001b[0;32m----> 6\u001b[0;31m \u001b[0mb\u001b[0m\u001b[0;34m[\u001b[0m\u001b[0;36m0\u001b[0m\u001b[0;34m]\u001b[0m \u001b[0;34m=\u001b[0m \u001b[0;36m10\u001b[0m\u001b[0;34m\u001b[0m\u001b[0;34m\u001b[0m\u001b[0m\n\u001b[0m",
      "\u001b[0;31mTypeError\u001b[0m: 'tuple' object does not support item assignment"
     ]
    }
   ],
   "source": [
    "b = ('MSU', True, 0.83, 9)\n",
    "\n",
    "print(b)\n",
    "print(type(b))"
   ]
  },
  {
   "cell_type": "code",
   "execution_count": 50,
   "metadata": {
    "id": "NaYTy8FOI5Eg"
   },
   "outputs": [
    {
     "name": "stdout",
     "output_type": "stream",
     "text": [
      "('h', 'e', 'l', 'l', 'o', ',', ' ', 'w', 'o', 'r', 'l', 'd', '!')\n"
     ]
    }
   ],
   "source": [
    "a = tuple('hello, world!')\n",
    "print(a)"
   ]
  },
  {
   "cell_type": "code",
   "execution_count": 52,
   "metadata": {
    "id": "mkMLzM85Ka6q"
   },
   "outputs": [
    {
     "data": {
      "text/plain": [
       "(1, 2, 3, 4, 'k')"
      ]
     },
     "execution_count": 52,
     "metadata": {},
     "output_type": "execute_result"
    }
   ],
   "source": [
    "(1, 2, 3) + (4, 'k')"
   ]
  },
  {
   "cell_type": "markdown",
   "metadata": {
    "id": "zyIjWh6zLXhW"
   },
   "source": [
    "Теперь поговорим про изменяемые объекты.\n",
    "Начнём с **list**"
   ]
  },
  {
   "cell_type": "code",
   "execution_count": 54,
   "metadata": {
    "id": "YmqguVnnLWFf"
   },
   "outputs": [],
   "source": [
    "a = list()\n",
    "b = []"
   ]
  },
  {
   "cell_type": "code",
   "execution_count": 55,
   "metadata": {
    "id": "l9_5GHjILyNj"
   },
   "outputs": [
    {
     "data": {
      "text/plain": [
       "list"
      ]
     },
     "execution_count": 55,
     "metadata": {},
     "output_type": "execute_result"
    }
   ],
   "source": [
    "type(a)"
   ]
  },
  {
   "cell_type": "code",
   "execution_count": 56,
   "metadata": {
    "id": "C2Ig-3Es8vVg"
   },
   "outputs": [
    {
     "data": {
      "text/plain": [
       "list"
      ]
     },
     "execution_count": 56,
     "metadata": {},
     "output_type": "execute_result"
    }
   ],
   "source": [
    "type(b)"
   ]
  },
  {
   "cell_type": "code",
   "execution_count": 57,
   "metadata": {
    "id": "tDDYlJn6L2HP"
   },
   "outputs": [],
   "source": [
    "a = [82, 'k', 11]\n",
    "b = [1, 2, 4, 8, 16, 32, 64]\n",
    "c = [i * 3 for i in 'list']"
   ]
  },
  {
   "cell_type": "code",
   "execution_count": 58,
   "metadata": {
    "id": "KPZQ1hyrR348"
   },
   "outputs": [
    {
     "data": {
      "text/plain": [
       "['lll', 'iii', 'sss', 'ttt']"
      ]
     },
     "execution_count": 58,
     "metadata": {},
     "output_type": "execute_result"
    }
   ],
   "source": [
    "c"
   ]
  },
  {
   "cell_type": "code",
   "execution_count": 59,
   "metadata": {
    "id": "7du5cuNDYAVc"
   },
   "outputs": [],
   "source": [
    "def f(x):\n",
    "  return x ** 2 + 2 * x + 1"
   ]
  },
  {
   "cell_type": "code",
   "execution_count": 60,
   "metadata": {
    "id": "Mhg8lbu6YH2a"
   },
   "outputs": [
    {
     "name": "stdout",
     "output_type": "stream",
     "text": [
      "[4, 9, 16, 25, 36]\n"
     ]
    }
   ],
   "source": [
    "c = [f(i) for i in [1, 2, 3, 4, 5]]\n",
    "print(c)"
   ]
  },
  {
   "cell_type": "code",
   "execution_count": 61,
   "metadata": {
    "id": "FmuEuX8aMf2F"
   },
   "outputs": [
    {
     "name": "stdout",
     "output_type": "stream",
     "text": [
      "[4, 9, 16, 25, 36]\n",
      "<class 'list'>\n"
     ]
    }
   ],
   "source": [
    "print(c)\n",
    "print(type(c))"
   ]
  },
  {
   "cell_type": "code",
   "execution_count": 64,
   "metadata": {
    "id": "1ijRYMZxSMWr"
   },
   "outputs": [
    {
     "name": "stdout",
     "output_type": "stream",
     "text": [
      "[1, 2, 3, 4, 5, 6, 7, 8, 9]\n"
     ]
    }
   ],
   "source": [
    "a  = [i for i in range(1, 10)]\n",
    "print(a)"
   ]
  },
  {
   "cell_type": "code",
   "execution_count": 66,
   "metadata": {},
   "outputs": [
    {
     "data": {
      "text/plain": [
       "\u001b[0;31mInit signature:\u001b[0m \u001b[0mrange\u001b[0m\u001b[0;34m(\u001b[0m\u001b[0mself\u001b[0m\u001b[0;34m,\u001b[0m \u001b[0;34m/\u001b[0m\u001b[0;34m,\u001b[0m \u001b[0;34m*\u001b[0m\u001b[0margs\u001b[0m\u001b[0;34m,\u001b[0m \u001b[0;34m**\u001b[0m\u001b[0mkwargs\u001b[0m\u001b[0;34m)\u001b[0m\u001b[0;34m\u001b[0m\u001b[0;34m\u001b[0m\u001b[0m\n",
       "\u001b[0;31mDocstring:\u001b[0m     \n",
       "range(stop) -> range object\n",
       "range(start, stop[, step]) -> range object\n",
       "\n",
       "Return an object that produces a sequence of integers from start (inclusive)\n",
       "to stop (exclusive) by step.  range(i, j) produces i, i+1, i+2, ..., j-1.\n",
       "start defaults to 0, and stop is omitted!  range(4) produces 0, 1, 2, 3.\n",
       "These are exactly the valid indices for a list of 4 elements.\n",
       "When step is given, it specifies the increment (or decrement).\n",
       "\u001b[0;31mType:\u001b[0m           type\n",
       "\u001b[0;31mSubclasses:\u001b[0m     \n"
      ]
     },
     "metadata": {},
     "output_type": "display_data"
    }
   ],
   "source": [
    "range?"
   ]
  },
  {
   "cell_type": "code",
   "execution_count": 67,
   "metadata": {
    "id": "xI4f4YNyMkmV"
   },
   "outputs": [
    {
     "name": "stdout",
     "output_type": "stream",
     "text": [
      "[1, 3, 5, 7, 9]\n"
     ]
    }
   ],
   "source": [
    "a  = [i for i in range(1, 10, 2)]\n",
    "print(a)"
   ]
  },
  {
   "cell_type": "code",
   "execution_count": 68,
   "metadata": {
    "id": "VrLVaSMjRUN8"
   },
   "outputs": [
    {
     "name": "stdout",
     "output_type": "stream",
     "text": [
      "5\n"
     ]
    }
   ],
   "source": [
    "print(len(a))"
   ]
  },
  {
   "cell_type": "code",
   "execution_count": 69,
   "metadata": {
    "id": "L4hhkKHH19Dl"
   },
   "outputs": [
    {
     "data": {
      "text/plain": [
       "[0, 0, 0, 0, 0]"
      ]
     },
     "execution_count": 69,
     "metadata": {},
     "output_type": "execute_result"
    }
   ],
   "source": [
    "a_new = [i if i % 2 == 0 else 0 for i in a]\n",
    "a_new"
   ]
  },
  {
   "cell_type": "code",
   "execution_count": 70,
   "metadata": {
    "id": "iJVugR5J2NUQ"
   },
   "outputs": [
    {
     "name": "stdout",
     "output_type": "stream",
     "text": [
      "['Факультет', 'вычислительной', 'математики', 'и', 'кибернетики', '(ВМК)', 'Московского', 'государственного', 'университета', 'имени', 'М.В.Ломоносова', 'является', 'ведущим', 'учебным', 'центром', 'России', 'по', 'подготовке', 'кадров', 'в', 'области', 'фундаментальных', 'исследований', 'по', 'прикладной', 'математике,', 'вычислительной', 'математике,', 'информатике', 'и', 'программированию.']\n"
     ]
    }
   ],
   "source": [
    "str1 = 'Факультет вычислительной математики и кибернетики (ВМК) Московского государственного университета имени М.В.Ломоносова является ведущим учебным центром России по подготовке кадров в области фундаментальных исследований по прикладной математике, вычислительной математике, информатике и программированию.'\n",
    "print(str1.split(' '))"
   ]
  },
  {
   "cell_type": "code",
   "execution_count": 71,
   "metadata": {
    "id": "XKPLfAyj1Dzj"
   },
   "outputs": [],
   "source": [
    "a = [1, 2, 4, 8, 16, 32, 64]"
   ]
  },
  {
   "cell_type": "code",
   "execution_count": 72,
   "metadata": {
    "id": "nMWK8JHy0PXK"
   },
   "outputs": [
    {
     "data": {
      "text/plain": [
       "4"
      ]
     },
     "execution_count": 72,
     "metadata": {},
     "output_type": "execute_result"
    }
   ],
   "source": [
    "# доступ к элементам по индексу\n",
    "# от 0 => N\n",
    "a[2]"
   ]
  },
  {
   "cell_type": "code",
   "execution_count": 73,
   "metadata": {
    "id": "5E7wHKAK0R9z"
   },
   "outputs": [
    {
     "data": {
      "text/plain": [
       "32"
      ]
     },
     "execution_count": 73,
     "metadata": {},
     "output_type": "execute_result"
    }
   ],
   "source": [
    "# Доступ к списку с конца\n",
    "a[-2]"
   ]
  },
  {
   "cell_type": "code",
   "execution_count": 74,
   "metadata": {
    "id": "71H3I-Yo09-Y"
   },
   "outputs": [
    {
     "data": {
      "text/plain": [
       "[4, 8, 16, 32, 64]"
      ]
     },
     "execution_count": 74,
     "metadata": {},
     "output_type": "execute_result"
    }
   ],
   "source": [
    "#Срез\n",
    "a[2:]"
   ]
  },
  {
   "cell_type": "code",
   "execution_count": 75,
   "metadata": {
    "id": "rvmbOunw1ILL"
   },
   "outputs": [],
   "source": [
    "#Удаление элемента/среза\n",
    "del a[2]"
   ]
  },
  {
   "cell_type": "code",
   "execution_count": 76,
   "metadata": {
    "id": "YYOEEhKB1Vio"
   },
   "outputs": [
    {
     "data": {
      "text/plain": [
       "[1, 2, 8, 16, 32, 64]"
      ]
     },
     "execution_count": 76,
     "metadata": {},
     "output_type": "execute_result"
    }
   ],
   "source": [
    "a"
   ]
  },
  {
   "cell_type": "code",
   "execution_count": 77,
   "metadata": {
    "id": "cFFhUMHu1Y5i"
   },
   "outputs": [],
   "source": [
    "del a[2:]"
   ]
  },
  {
   "cell_type": "code",
   "execution_count": 78,
   "metadata": {
    "id": "lwdDwfVn1bOW"
   },
   "outputs": [
    {
     "data": {
      "text/plain": [
       "[1, 2]"
      ]
     },
     "execution_count": 78,
     "metadata": {},
     "output_type": "execute_result"
    }
   ],
   "source": [
    "a"
   ]
  },
  {
   "cell_type": "code",
   "execution_count": 79,
   "metadata": {
    "id": "0B2iaVFo1tF3"
   },
   "outputs": [],
   "source": [
    "l = ['Yep', 'Now', 'Hello']"
   ]
  },
  {
   "cell_type": "code",
   "execution_count": 80,
   "metadata": {
    "id": "yqq9Unso1r7O"
   },
   "outputs": [
    {
     "data": {
      "text/plain": [
       "False"
      ]
     },
     "execution_count": 80,
     "metadata": {},
     "output_type": "execute_result"
    }
   ],
   "source": [
    "# опрос о существовании элементов\n",
    "'No' in l"
   ]
  },
  {
   "cell_type": "code",
   "execution_count": 81,
   "metadata": {
    "id": "7qxS2SiI11qf"
   },
   "outputs": [
    {
     "data": {
      "text/plain": [
       "True"
      ]
     },
     "execution_count": 81,
     "metadata": {},
     "output_type": "execute_result"
    }
   ],
   "source": [
    "'Yep' in l"
   ]
  },
  {
   "cell_type": "markdown",
   "metadata": {
    "id": "coY2N8MoObxD"
   },
   "source": [
    "! Важно понимать, что функции над списками меняют уже непосредственно сам поданный список"
   ]
  },
  {
   "cell_type": "code",
   "execution_count": 82,
   "metadata": {
    "id": "iHCyeX1LMx4X"
   },
   "outputs": [
    {
     "name": "stdout",
     "output_type": "stream",
     "text": [
      "[4, 5, 6, 23, 58, 94, 213]\n"
     ]
    }
   ],
   "source": [
    "a = [58, 23, 4, 5, 6, 213, 94]\n",
    "a.sort()\n",
    "\n",
    "print(a)"
   ]
  },
  {
   "cell_type": "code",
   "execution_count": 83,
   "metadata": {
    "id": "1FW9SAHqM-4J"
   },
   "outputs": [
    {
     "name": "stdout",
     "output_type": "stream",
     "text": [
      "[213, 94, 58, 23, 6, 5, 4]\n"
     ]
    }
   ],
   "source": [
    "a.reverse()\n",
    "print(a)"
   ]
  },
  {
   "cell_type": "code",
   "execution_count": 84,
   "metadata": {
    "id": "MTiT4VbbNWzK"
   },
   "outputs": [
    {
     "name": "stdout",
     "output_type": "stream",
     "text": [
      "[58, 23]\n",
      "[5, 4]\n"
     ]
    }
   ],
   "source": [
    "#По индексам можно выдергивать часть списка:\n",
    "print(a[2:4])\n",
    "print(a[5:])"
   ]
  },
  {
   "cell_type": "code",
   "execution_count": 85,
   "metadata": {
    "id": "dpnW6h3-Os4x"
   },
   "outputs": [
    {
     "data": {
      "text/plain": [
       "'1 2 3'"
      ]
     },
     "execution_count": 85,
     "metadata": {},
     "output_type": "execute_result"
    }
   ],
   "source": [
    "#Списки можно удобно склеивать в строки:\n",
    "' '.join(['1', '2', '3'])"
   ]
  },
  {
   "cell_type": "code",
   "execution_count": 86,
   "metadata": {
    "id": "ZD8VM-jdNMnW"
   },
   "outputs": [
    {
     "name": "stdout",
     "output_type": "stream",
     "text": [
      "['__add__', '__class__', '__contains__', '__delattr__', '__delitem__', '__dir__', '__doc__', '__eq__', '__format__', '__ge__', '__getattribute__', '__getitem__', '__gt__', '__hash__', '__iadd__', '__imul__', '__init__', '__init_subclass__', '__iter__', '__le__', '__len__', '__lt__', '__mul__', '__ne__', '__new__', '__reduce__', '__reduce_ex__', '__repr__', '__reversed__', '__rmul__', '__setattr__', '__setitem__', '__sizeof__', '__str__', '__subclasshook__', 'append', 'clear', 'copy', 'count', 'extend', 'index', 'insert', 'pop', 'remove', 'reverse', 'sort']\n"
     ]
    }
   ],
   "source": [
    "#все операции, которые можно проводить над списками:\n",
    "print(dir(list))"
   ]
  },
  {
   "cell_type": "code",
   "execution_count": 87,
   "metadata": {
    "id": "ZxB3ZHzoP9au"
   },
   "outputs": [],
   "source": [
    "#или посмотреть подсказку:\n",
    "a.sort(reverse=True)"
   ]
  },
  {
   "cell_type": "code",
   "execution_count": 88,
   "metadata": {
    "id": "h1O9CXiO_Y9M"
   },
   "outputs": [
    {
     "data": {
      "text/plain": [
       "[213, 94, 58, 23, 6, 5, 4]"
      ]
     },
     "execution_count": 88,
     "metadata": {},
     "output_type": "execute_result"
    }
   ],
   "source": [
    "a"
   ]
  },
  {
   "cell_type": "code",
   "execution_count": null,
   "metadata": {
    "id": "PYK3dLgyQFyy"
   },
   "outputs": [],
   "source": [
    "#или загуглить :)\n",
    "# https://pythonworld.ru/tipy-dannyx-v-python/spiski-list-funkcii-i-metody-spiskov.html"
   ]
  },
  {
   "cell_type": "markdown",
   "metadata": {
    "id": "vjbQPWnhQXaz"
   },
   "source": [
    "Задание #1. Соедините два списка s1 и s2 в один, а затем отсортируйте их от большего к меньшему"
   ]
  },
  {
   "cell_type": "code",
   "execution_count": 107,
   "metadata": {
    "id": "TlOwrtZuQmu5"
   },
   "outputs": [],
   "source": [
    "s1 = [3, 2, 41, 43, 2134]\n",
    "s2 = [1204, 214, -1, 124, 0]"
   ]
  },
  {
   "cell_type": "code",
   "execution_count": 109,
   "metadata": {},
   "outputs": [
    {
     "data": {
      "text/plain": [
       "[-1, 0, 2, 3, 41, 43, 124, 214, 1204, 2134]"
      ]
     },
     "execution_count": 109,
     "metadata": {},
     "output_type": "execute_result"
    }
   ],
   "source": [
    "s3 = (s1 + s2)\n",
    "s3.sort()\n",
    "s3"
   ]
  },
  {
   "cell_type": "code",
   "execution_count": 104,
   "metadata": {},
   "outputs": [
    {
     "data": {
      "text/plain": [
       "[3, 2, 41, 43, 2134, 1204, 214, -1, 124, 0]"
      ]
     },
     "execution_count": 104,
     "metadata": {},
     "output_type": "execute_result"
    }
   ],
   "source": [
    "s1.extend(s2)\n",
    "s1"
   ]
  },
  {
   "cell_type": "markdown",
   "metadata": {
    "id": "83yCqu3oQ4KU"
   },
   "source": [
    "Задание #2. Разбейте текст на слова, а затем склейте снова в текст, заменив все пробелы на нижние подчеркивания."
   ]
  },
  {
   "cell_type": "code",
   "execution_count": 110,
   "metadata": {
    "id": "PgMT9E2dRLC3"
   },
   "outputs": [],
   "source": [
    "str1 = 'Факультет вычислительной математики и кибернетики (ВМК) Московского государственного университета имени М.В.Ломоносова является ведущим учебным центром России по подготовке кадров в области фундаментальных исследований по прикладной математике, вычислительной математике, информатике и программированию.'"
   ]
  },
  {
   "cell_type": "code",
   "execution_count": 111,
   "metadata": {
    "id": "VJl-UR3BAU84"
   },
   "outputs": [
    {
     "data": {
      "text/plain": [
       "'Факультет_вычислительной_математики_и_кибернетики_(ВМК)_Московского_государственного_университета_имени_М.В.Ломоносова_является_ведущим_учебным_центром_России_по_подготовке_кадров_в_области_фундаментальных_исследований_по_прикладной_математике,_вычислительной_математике,_информатике_и_программированию.'"
      ]
     },
     "execution_count": 111,
     "metadata": {},
     "output_type": "execute_result"
    }
   ],
   "source": [
    "'_'.join(str1.split(' '))"
   ]
  },
  {
   "cell_type": "markdown",
   "metadata": {
    "id": "SdHudEOqRQDH"
   },
   "source": [
    "Прежде чем пойти дальше - поговорим по том, как можно реализовать for и while в Python"
   ]
  },
  {
   "cell_type": "code",
   "execution_count": 112,
   "metadata": {
    "id": "nSa7Dx-1QLeh"
   },
   "outputs": [
    {
     "name": "stdout",
     "output_type": "stream",
     "text": [
      "group one\n",
      "group two\n",
      "group three\n"
     ]
    }
   ],
   "source": [
    "s = ['group one', 'group two', 'group three']\n",
    "\n",
    "for i in s:\n",
    "  print(i)"
   ]
  },
  {
   "cell_type": "code",
   "execution_count": 113,
   "metadata": {
    "id": "XoTD5Jc4SqDD"
   },
   "outputs": [
    {
     "name": "stdout",
     "output_type": "stream",
     "text": [
      "group one\n",
      "group two\n",
      "group three\n"
     ]
    }
   ],
   "source": [
    "for i in ['group one', 'group two', 'group three']:\n",
    "  print(i)"
   ]
  },
  {
   "cell_type": "code",
   "execution_count": 114,
   "metadata": {
    "id": "NrUwXGn7SsxA"
   },
   "outputs": [
    {
     "name": "stdout",
     "output_type": "stream",
     "text": [
      "3\n",
      "4\n",
      "5\n",
      "6\n"
     ]
    }
   ],
   "source": [
    "#Постоянно используемый итератор - range():\n",
    "for i in range(3, 7):\n",
    "  print(i)"
   ]
  },
  {
   "cell_type": "code",
   "execution_count": 115,
   "metadata": {
    "id": "c6mXbM1ES4ER"
   },
   "outputs": [
    {
     "name": "stdout",
     "output_type": "stream",
     "text": [
      "1\n",
      "4\n",
      "7\n",
      "10\n",
      "13\n"
     ]
    }
   ],
   "source": [
    "for i in range(1, 15, 3):\n",
    "  print(i)"
   ]
  },
  {
   "cell_type": "code",
   "execution_count": 116,
   "metadata": {
    "id": "V5HJIk11S-C8"
   },
   "outputs": [
    {
     "name": "stdout",
     "output_type": "stream",
     "text": [
      "10\n",
      "7\n",
      "4\n",
      "1\n"
     ]
    }
   ],
   "source": [
    "x = 10\n",
    "\n",
    "while x > 0:\n",
    "  print(x)\n",
    "  x -= 3"
   ]
  },
  {
   "cell_type": "code",
   "execution_count": 117,
   "metadata": {
    "id": "VqOtB93QYxEG"
   },
   "outputs": [
    {
     "name": "stdout",
     "output_type": "stream",
     "text": [
      "[1, 2, 3, 4]\n"
     ]
    }
   ],
   "source": [
    "#Можно создавать списки с помощью циклов (но лучше это делать так, как приводилось ранее):\n",
    "\n",
    "x = []\n",
    "for i in range(1, 5):\n",
    "  x.append(i)\n",
    "\n",
    "print(x)"
   ]
  },
  {
   "cell_type": "code",
   "execution_count": 119,
   "metadata": {},
   "outputs": [
    {
     "data": {
      "text/plain": [
       "[1, 2, 3, 4]"
      ]
     },
     "execution_count": 119,
     "metadata": {},
     "output_type": "execute_result"
    }
   ],
   "source": [
    "x = [i for i in range(1,5)]\n",
    "x"
   ]
  },
  {
   "cell_type": "markdown",
   "metadata": {
    "id": "0lODnKIVXrzl"
   },
   "source": [
    "Есть большое количество разных функций, которые позволяют реализовывать интересные штуки со списками:"
   ]
  },
  {
   "cell_type": "code",
   "execution_count": 124,
   "metadata": {
    "id": "ItITD2AdXjGJ"
   },
   "outputs": [
    {
     "data": {
      "text/plain": [
       "<zip at 0x7f70d821dc00>"
      ]
     },
     "execution_count": 124,
     "metadata": {},
     "output_type": "execute_result"
    }
   ],
   "source": [
    "first = 'a b c d e f g'.split(' ')\n",
    "second = '1 2 3 4 5 6 7'.split(' ')\n",
    "\n",
    "zip(first, second)"
   ]
  },
  {
   "cell_type": "code",
   "execution_count": 125,
   "metadata": {
    "id": "oTeb-cJAXlud"
   },
   "outputs": [
    {
     "data": {
      "text/plain": [
       "[('a', '1'),\n",
       " ('b', '2'),\n",
       " ('c', '3'),\n",
       " ('d', '4'),\n",
       " ('e', '5'),\n",
       " ('f', '6'),\n",
       " ('g', '7')]"
      ]
     },
     "execution_count": 125,
     "metadata": {},
     "output_type": "execute_result"
    }
   ],
   "source": [
    "list(zip(first, second))"
   ]
  },
  {
   "cell_type": "code",
   "execution_count": 126,
   "metadata": {
    "id": "18N_PuFoBblv"
   },
   "outputs": [
    {
     "data": {
      "text/plain": [
       "[('a', '1'),\n",
       " ('b', '2'),\n",
       " ('c', '3'),\n",
       " ('d', '4'),\n",
       " ('e', '5'),\n",
       " ('f', '6'),\n",
       " ('g', '7')]"
      ]
     },
     "execution_count": 126,
     "metadata": {},
     "output_type": "execute_result"
    }
   ],
   "source": [
    "first = 'a b c d e f g'.split(' ')\n",
    "second = '1 2 3 4 5 6 7 8 9'.split(' ')\n",
    "\n",
    "zip(first, second)\n",
    "\n",
    "list(zip(first, second))"
   ]
  },
  {
   "cell_type": "code",
   "execution_count": 127,
   "metadata": {
    "id": "l4-gAAaGXpls"
   },
   "outputs": [
    {
     "data": {
      "text/plain": [
       "[(0, 'a'), (1, 'b'), (2, 'c'), (3, 'd'), (4, 'e'), (5, 'f'), (6, 'g')]"
      ]
     },
     "execution_count": 127,
     "metadata": {},
     "output_type": "execute_result"
    }
   ],
   "source": [
    "enum = enumerate(first)\n",
    "list(enum)"
   ]
  },
  {
   "cell_type": "code",
   "execution_count": 128,
   "metadata": {},
   "outputs": [
    {
     "name": "stdout",
     "output_type": "stream",
     "text": [
      "0 : a\n",
      "1 : b\n",
      "2 : c\n",
      "3 : d\n",
      "4 : e\n",
      "5 : f\n",
      "6 : g\n"
     ]
    }
   ],
   "source": [
    "for index, value in enumerate(first):\n",
    "    print(index, ':', value)"
   ]
  },
  {
   "cell_type": "markdown",
   "metadata": {
    "id": "ViWGvdS0ZDwo"
   },
   "source": [
    "Задание #3.\n",
    "Выведите строку, которая содержит в себе все числа от 1 до 30 через запятую. Стандартными циклами пользоваться нельзя (внутренними при создании цикла - можно)"
   ]
  },
  {
   "cell_type": "code",
   "execution_count": 131,
   "metadata": {
    "id": "-UVYPUfAZSYu"
   },
   "outputs": [
    {
     "data": {
      "text/plain": [
       "'1,2,3,4,5,6,7,8,9,10,11,12,13,14,15,16,17,18,19,20,21,22,23,24,25,26,27,28,29,30'"
      ]
     },
     "execution_count": 131,
     "metadata": {},
     "output_type": "execute_result"
    }
   ],
   "source": [
    "res = ','.join([ str(i) for i in range(1,31)])\n",
    "res"
   ]
  },
  {
   "cell_type": "code",
   "execution_count": 132,
   "metadata": {},
   "outputs": [
    {
     "data": {
      "text/plain": [
       "[1, 2, 3, 4, 5, 12, 3, 4, 5]"
      ]
     },
     "execution_count": 132,
     "metadata": {},
     "output_type": "execute_result"
    }
   ],
   "source": [
    "list([1,2,3,4,5,1,2,3,4,5])"
   ]
  },
  {
   "cell_type": "markdown",
   "metadata": {
    "id": "PtYM2AByZTMI"
   },
   "source": [
    "**set**"
   ]
  },
  {
   "cell_type": "code",
   "execution_count": 133,
   "metadata": {},
   "outputs": [
    {
     "name": "stdout",
     "output_type": "stream",
     "text": [
      "['__and__', '__class__', '__contains__', '__delattr__', '__dir__', '__doc__', '__eq__', '__format__', '__ge__', '__getattribute__', '__gt__', '__hash__', '__iand__', '__init__', '__init_subclass__', '__ior__', '__isub__', '__iter__', '__ixor__', '__le__', '__len__', '__lt__', '__ne__', '__new__', '__or__', '__rand__', '__reduce__', '__reduce_ex__', '__repr__', '__ror__', '__rsub__', '__rxor__', '__setattr__', '__sizeof__', '__str__', '__sub__', '__subclasshook__', '__xor__', 'add', 'clear', 'copy', 'difference', 'difference_update', 'discard', 'intersection', 'intersection_update', 'isdisjoint', 'issubset', 'issuperset', 'pop', 'remove', 'symmetric_difference', 'symmetric_difference_update', 'union', 'update']\n"
     ]
    }
   ],
   "source": [
    "print(dir(set))"
   ]
  },
  {
   "cell_type": "code",
   "execution_count": 134,
   "metadata": {
    "id": "YKSOc3pZZ1O0"
   },
   "outputs": [
    {
     "name": "stdout",
     "output_type": "stream",
     "text": [
      "{None, 1, 'M'}\n"
     ]
    }
   ],
   "source": [
    "#множество в Python имеет весьма математический смысл - это некий контейнер без повторений:\n",
    "\n",
    "new_set = set()\n",
    "new_set.add(1)\n",
    "new_set.add(None)\n",
    "new_set.add(1)\n",
    "new_set.add('M')\n",
    "\n",
    "print(new_set)"
   ]
  },
  {
   "cell_type": "code",
   "execution_count": 135,
   "metadata": {
    "id": "14BHpOu-bESM"
   },
   "outputs": [
    {
     "name": "stdout",
     "output_type": "stream",
     "text": [
      "{1, 2, 3, 4, 10}\n"
     ]
    }
   ],
   "source": [
    "a = set([1, 2, 3, 4, 1, 2, 10])\n",
    "print(a)"
   ]
  },
  {
   "cell_type": "code",
   "execution_count": 136,
   "metadata": {
    "id": "x03X_fY83HKM"
   },
   "outputs": [
    {
     "name": "stdout",
     "output_type": "stream",
     "text": [
      "{1, 2, 3, 4, 5}\n"
     ]
    }
   ],
   "source": [
    "a = set((1, 2, 3, 4, 5))\n",
    "print(a)"
   ]
  },
  {
   "cell_type": "code",
   "execution_count": 137,
   "metadata": {
    "id": "Uxp_NpSDao6W"
   },
   "outputs": [
    {
     "name": "stdout",
     "output_type": "stream",
     "text": [
      "{'h', 'e', 'l', 'o'}\n"
     ]
    }
   ],
   "source": [
    "b = set('hello')\n",
    "print(b)"
   ]
  },
  {
   "cell_type": "code",
   "execution_count": 138,
   "metadata": {
    "id": "Vn6mDlUxaseA"
   },
   "outputs": [
    {
     "ename": "TypeError",
     "evalue": "unsupported operand type(s) for +: 'set' and 'set'",
     "output_type": "error",
     "traceback": [
      "\u001b[0;31m---------------------------------------------------------------------------\u001b[0m",
      "\u001b[0;31mTypeError\u001b[0m                                 Traceback (most recent call last)",
      "\u001b[0;32m/tmp/ipykernel_24605/1216668022.py\u001b[0m in \u001b[0;36m<cell line: 1>\u001b[0;34m()\u001b[0m\n\u001b[0;32m----> 1\u001b[0;31m \u001b[0ma\u001b[0m \u001b[0;34m+\u001b[0m \u001b[0mb\u001b[0m\u001b[0;34m\u001b[0m\u001b[0;34m\u001b[0m\u001b[0m\n\u001b[0m",
      "\u001b[0;31mTypeError\u001b[0m: unsupported operand type(s) for +: 'set' and 'set'"
     ]
    }
   ],
   "source": [
    "a + b"
   ]
  },
  {
   "cell_type": "code",
   "execution_count": 140,
   "metadata": {
    "id": "1DXN5oBFayk3"
   },
   "outputs": [
    {
     "data": {
      "text/plain": [
       "{1, 2, 3, 4, 5, 'e', 'h', 'l', 'o'}"
      ]
     },
     "execution_count": 140,
     "metadata": {},
     "output_type": "execute_result"
    }
   ],
   "source": [
    "a.union(b)"
   ]
  },
  {
   "cell_type": "code",
   "execution_count": 141,
   "metadata": {
    "id": "SfHReQd0a3ha"
   },
   "outputs": [
    {
     "data": {
      "text/plain": [
       "{1, 2, 4, 10, 12, 33}"
      ]
     },
     "execution_count": 141,
     "metadata": {},
     "output_type": "execute_result"
    }
   ],
   "source": [
    "{1, 2, 4, 10, 12}.union({2, 1, 2, 33})"
   ]
  },
  {
   "cell_type": "code",
   "execution_count": 142,
   "metadata": {
    "id": "M-GcRSppa-Df"
   },
   "outputs": [],
   "source": [
    "s1 = set(range(0, 10))\n",
    "s2 = set(range(5, 15))"
   ]
  },
  {
   "cell_type": "code",
   "execution_count": 145,
   "metadata": {
    "id": "K3cinc9JbYNf"
   },
   "outputs": [
    {
     "data": {
      "text/plain": [
       "{0, 1, 2, 3, 4}"
      ]
     },
     "execution_count": 145,
     "metadata": {},
     "output_type": "execute_result"
    }
   ],
   "source": [
    "s1.difference(s2)"
   ]
  },
  {
   "cell_type": "code",
   "execution_count": 146,
   "metadata": {
    "id": "iE-4m3bZ2qYo"
   },
   "outputs": [
    {
     "data": {
      "text/plain": [
       "{0, 1, 2, 3, 4}"
      ]
     },
     "execution_count": 146,
     "metadata": {},
     "output_type": "execute_result"
    }
   ],
   "source": [
    "s1 - s2"
   ]
  },
  {
   "cell_type": "code",
   "execution_count": 147,
   "metadata": {
    "id": "oct_rQ__2wcR"
   },
   "outputs": [
    {
     "data": {
      "text/plain": [
       "{0, 1, 2, 3, 4, 5, 6, 7, 8, 9, 10, 11, 12, 13, 14}"
      ]
     },
     "execution_count": 147,
     "metadata": {},
     "output_type": "execute_result"
    }
   ],
   "source": [
    "s1 | s2"
   ]
  },
  {
   "cell_type": "code",
   "execution_count": 149,
   "metadata": {
    "id": "b-Xv8t3U22_1"
   },
   "outputs": [
    {
     "data": {
      "text/plain": [
       "{5, 6, 7, 8, 9}"
      ]
     },
     "execution_count": 149,
     "metadata": {},
     "output_type": "execute_result"
    }
   ],
   "source": [
    "s1 & s2"
   ]
  },
  {
   "cell_type": "code",
   "execution_count": 150,
   "metadata": {
    "id": "-kyfcCqQ26bx"
   },
   "outputs": [
    {
     "data": {
      "text/plain": [
       "{0, 1, 2, 3, 4, 10, 11, 12, 13, 14}"
      ]
     },
     "execution_count": 150,
     "metadata": {},
     "output_type": "execute_result"
    }
   ],
   "source": [
    "# simmetrics difference\n",
    "s1 ^ s2"
   ]
  },
  {
   "cell_type": "code",
   "execution_count": 151,
   "metadata": {
    "id": "wn2hjTpRCwFR"
   },
   "outputs": [
    {
     "data": {
      "text/plain": [
       "{1, 2, 3, 4, 5, 'e', 'h', 'l', 'o'}"
      ]
     },
     "execution_count": 151,
     "metadata": {},
     "output_type": "execute_result"
    }
   ],
   "source": [
    "a | b"
   ]
  },
  {
   "cell_type": "code",
   "execution_count": 152,
   "metadata": {
    "id": "o8mCBdHWC3sY"
   },
   "outputs": [
    {
     "data": {
      "text/plain": [
       "{1, 2, 3, 4, 5, 'e', 'h', 'l', 'o'}"
      ]
     },
     "execution_count": 152,
     "metadata": {},
     "output_type": "execute_result"
    }
   ],
   "source": [
    "a.union(b)"
   ]
  },
  {
   "cell_type": "code",
   "execution_count": 153,
   "metadata": {
    "id": "4PSmlasUbb6b"
   },
   "outputs": [],
   "source": [
    "# более подробно про множества:\n",
    "# https://pythonworld.ru/tipy-dannyx-v-python/mnozhestva-set-i-frozenset.html"
   ]
  },
  {
   "cell_type": "markdown",
   "metadata": {
    "id": "TB0pXKasbf1N"
   },
   "source": [
    "**dict**\n"
   ]
  },
  {
   "cell_type": "code",
   "execution_count": 156,
   "metadata": {
    "id": "NvWrc7ui3Rds"
   },
   "outputs": [
    {
     "data": {
      "text/plain": [
       "{1: 'True', False: 0, 100: '001', 5: 25}"
      ]
     },
     "execution_count": 156,
     "metadata": {},
     "output_type": "execute_result"
    }
   ],
   "source": [
    "d = {1: 'True', False: 0, 100: '001', 5: 25}\n",
    "d"
   ]
  },
  {
   "cell_type": "code",
   "execution_count": 157,
   "metadata": {
    "id": "tzna4ndVbrAW"
   },
   "outputs": [
    {
     "data": {
      "text/plain": [
       "{'one': 1, 'two': 2}"
      ]
     },
     "execution_count": 157,
     "metadata": {},
     "output_type": "execute_result"
    }
   ],
   "source": [
    "d = dict()\n",
    "d['one'] = 1\n",
    "d['two'] = 2\n",
    "\n",
    "d"
   ]
  },
  {
   "cell_type": "code",
   "execution_count": 158,
   "metadata": {
    "id": "ohUSp0jsb4CR"
   },
   "outputs": [
    {
     "data": {
      "text/plain": [
       "1"
      ]
     },
     "execution_count": 158,
     "metadata": {},
     "output_type": "execute_result"
    }
   ],
   "source": [
    "d['one']"
   ]
  },
  {
   "cell_type": "code",
   "execution_count": 160,
   "metadata": {
    "id": "D3q2qcvKb8eD"
   },
   "outputs": [
    {
     "data": {
      "text/plain": [
       "{10: 10, 20: 40}"
      ]
     },
     "execution_count": 160,
     "metadata": {},
     "output_type": "execute_result"
    }
   ],
   "source": [
    "d = dict([(10, 10), (20, 40)])\n",
    "d"
   ]
  },
  {
   "cell_type": "code",
   "execution_count": 161,
   "metadata": {
    "id": "EkABX597b9fi"
   },
   "outputs": [
    {
     "data": {
      "text/plain": [
       "10"
      ]
     },
     "execution_count": 161,
     "metadata": {},
     "output_type": "execute_result"
    }
   ],
   "source": [
    "d[10]"
   ]
  },
  {
   "cell_type": "code",
   "execution_count": 162,
   "metadata": {
    "id": "m5Z1GDU3cBnx"
   },
   "outputs": [
    {
     "data": {
      "text/plain": [
       "40"
      ]
     },
     "execution_count": 162,
     "metadata": {},
     "output_type": "execute_result"
    }
   ],
   "source": [
    "d[20]"
   ]
  },
  {
   "cell_type": "code",
   "execution_count": 163,
   "metadata": {
    "id": "u3tV3P-8cG2P"
   },
   "outputs": [
    {
     "data": {
      "text/plain": [
       "{10: 10, 20: 40}"
      ]
     },
     "execution_count": 163,
     "metadata": {},
     "output_type": "execute_result"
    }
   ],
   "source": [
    "d"
   ]
  },
  {
   "cell_type": "code",
   "execution_count": 164,
   "metadata": {
    "id": "ByD3wsPacIcm"
   },
   "outputs": [
    {
     "ename": "KeyError",
     "evalue": "1",
     "output_type": "error",
     "traceback": [
      "\u001b[0;31m---------------------------------------------------------------------------\u001b[0m",
      "\u001b[0;31mKeyError\u001b[0m                                  Traceback (most recent call last)",
      "\u001b[0;32m/tmp/ipykernel_24605/708413107.py\u001b[0m in \u001b[0;36m<cell line: 1>\u001b[0;34m()\u001b[0m\n\u001b[0;32m----> 1\u001b[0;31m \u001b[0md\u001b[0m\u001b[0;34m[\u001b[0m\u001b[0;36m1\u001b[0m\u001b[0;34m]\u001b[0m\u001b[0;34m\u001b[0m\u001b[0;34m\u001b[0m\u001b[0m\n\u001b[0m",
      "\u001b[0;31mKeyError\u001b[0m: 1"
     ]
    }
   ],
   "source": [
    "d[1]"
   ]
  },
  {
   "cell_type": "code",
   "execution_count": 165,
   "metadata": {
    "id": "6qA4_UtCcKcN"
   },
   "outputs": [
    {
     "data": {
      "text/plain": [
       "{'a': 100, 'b': 100}"
      ]
     },
     "execution_count": 165,
     "metadata": {},
     "output_type": "execute_result"
    }
   ],
   "source": [
    "d = dict.fromkeys(['a', 'b'], 100)\n",
    "d"
   ]
  },
  {
   "cell_type": "code",
   "execution_count": 167,
   "metadata": {
    "id": "CFYXbfPAcacF"
   },
   "outputs": [
    {
     "data": {
      "text/plain": [
       "{0: 0, 1: 1, 2: 4, 3: 9, 4: 16, 5: 25, 6: 36}"
      ]
     },
     "execution_count": 167,
     "metadata": {},
     "output_type": "execute_result"
    }
   ],
   "source": [
    "d = {a: a ** 2 for a in range(7)}\n",
    "d"
   ]
  },
  {
   "cell_type": "code",
   "execution_count": 168,
   "metadata": {
    "id": "zclXE-3s3he8"
   },
   "outputs": [
    {
     "data": {
      "text/plain": [
       "dict_items([(0, 0), (1, 1), (2, 4), (3, 9), (4, 16), (5, 25), (6, 36)])"
      ]
     },
     "execution_count": 168,
     "metadata": {},
     "output_type": "execute_result"
    }
   ],
   "source": [
    "d.items()"
   ]
  },
  {
   "cell_type": "code",
   "execution_count": 169,
   "metadata": {
    "id": "1-sx-nxg3pkA"
   },
   "outputs": [
    {
     "data": {
      "text/plain": [
       "dict_keys([0, 1, 2, 3, 4, 5, 6])"
      ]
     },
     "execution_count": 169,
     "metadata": {},
     "output_type": "execute_result"
    }
   ],
   "source": [
    "d.keys()"
   ]
  },
  {
   "cell_type": "code",
   "execution_count": 170,
   "metadata": {
    "id": "lg_iTxfX3rY4"
   },
   "outputs": [
    {
     "data": {
      "text/plain": [
       "dict_values([0, 1, 4, 9, 16, 25, 36])"
      ]
     },
     "execution_count": 170,
     "metadata": {},
     "output_type": "execute_result"
    }
   ],
   "source": [
    "d.values()"
   ]
  },
  {
   "cell_type": "code",
   "execution_count": 171,
   "metadata": {
    "id": "nbGLSh2T3yQZ"
   },
   "outputs": [
    {
     "data": {
      "text/plain": [
       "[(50, 0), (2, 1), (1, 2), (4, 3), (3, 4)]"
      ]
     },
     "execution_count": 171,
     "metadata": {},
     "output_type": "execute_result"
    }
   ],
   "source": [
    "#сортировка словаря по значениям\n",
    "import operator\n",
    "\n",
    "x = {1: 2, 3: 4, 4: 3, 2: 1, 50: 0}\n",
    "# по значению\n",
    "sorted(x.items(), key=operator.itemgetter(1))"
   ]
  },
  {
   "cell_type": "code",
   "execution_count": 172,
   "metadata": {
    "id": "XAZyO-Vk369V"
   },
   "outputs": [
    {
     "data": {
      "text/plain": [
       "[(1, 2), (2, 1), (3, 4), (4, 3), (50, 0)]"
      ]
     },
     "execution_count": 172,
     "metadata": {},
     "output_type": "execute_result"
    }
   ],
   "source": [
    "#сортировка по ключам\n",
    "sorted(x.items(), key=operator.itemgetter(0))"
   ]
  },
  {
   "cell_type": "code",
   "execution_count": 173,
   "metadata": {
    "id": "VDPOShV24Abs"
   },
   "outputs": [
    {
     "data": {
      "text/plain": [
       "{'person': {'body': {'gender': 'female',\n",
       "   'head': {'hair': 'black'},\n",
       "   'skin': 'coffee with milk'},\n",
       "  'identity': {'county': 'Rus', 'prof': 'manager'}}}"
      ]
     },
     "execution_count": 173,
     "metadata": {},
     "output_type": "execute_result"
    }
   ],
   "source": [
    "#словари могут быть вложенными\n",
    "person ={'person':\n",
    "                 {\n",
    "                  'body': {\n",
    "                          'gender': 'female',\n",
    "                          'head': {'hair':'black'},\n",
    "                          'skin':'coffee with milk'\n",
    "                          },\n",
    "                  'identity':{\n",
    "                          'county': 'Rus',\n",
    "                          'prof': 'manager'\n",
    "                  }\n",
    "                 }\n",
    "            }\n",
    "person"
   ]
  },
  {
   "cell_type": "code",
   "execution_count": 177,
   "metadata": {
    "id": "b9TTOWeEEDav"
   },
   "outputs": [],
   "source": [
    "dict_ = { 0:'0', 0:'1'}"
   ]
  },
  {
   "cell_type": "code",
   "execution_count": 178,
   "metadata": {},
   "outputs": [
    {
     "name": "stdout",
     "output_type": "stream",
     "text": [
      "{0: '1'}\n"
     ]
    }
   ],
   "source": [
    "print(dict_)"
   ]
  },
  {
   "cell_type": "code",
   "execution_count": 174,
   "metadata": {
    "id": "0UqjPSEg4HnE"
   },
   "outputs": [
    {
     "data": {
      "text/plain": [
       "'female'"
      ]
     },
     "execution_count": 174,
     "metadata": {},
     "output_type": "execute_result"
    }
   ],
   "source": [
    "person['person']['body']['gender']"
   ]
  },
  {
   "cell_type": "code",
   "execution_count": 175,
   "metadata": {
    "id": "d4F2H_Oqceqn"
   },
   "outputs": [],
   "source": [
    "# более подробно про словари:\n",
    "# https://pythonworld.ru/tipy-dannyx-v-python/slovari-dict-funkcii-i-metody-slovarej.html"
   ]
  },
  {
   "cell_type": "markdown",
   "metadata": {
    "id": "RbGZ87-7fNEV"
   },
   "source": [
    "##  Немного про функции"
   ]
  },
  {
   "cell_type": "code",
   "execution_count": 180,
   "metadata": {
    "id": "Vb1PcJV7fS9k"
   },
   "outputs": [],
   "source": [
    "def make_v (x, y, z = 10):\n",
    "  return x * 2 - y + z * 2"
   ]
  },
  {
   "cell_type": "code",
   "execution_count": 181,
   "metadata": {
    "id": "jIAjDPJ4fdyL"
   },
   "outputs": [
    {
     "data": {
      "text/plain": [
       "6"
      ]
     },
     "execution_count": 181,
     "metadata": {},
     "output_type": "execute_result"
    }
   ],
   "source": [
    "make_v(1, 2, 3)"
   ]
  },
  {
   "cell_type": "code",
   "execution_count": 182,
   "metadata": {
    "id": "NTYUD2O2ffmF"
   },
   "outputs": [
    {
     "data": {
      "text/plain": [
       "20"
      ]
     },
     "execution_count": 182,
     "metadata": {},
     "output_type": "execute_result"
    }
   ],
   "source": [
    "make_v(1, 2)"
   ]
  },
  {
   "cell_type": "code",
   "execution_count": 184,
   "metadata": {
    "id": "H-kvvB1afi0f"
   },
   "outputs": [
    {
     "data": {
      "text/plain": [
       "2"
      ]
     },
     "execution_count": 184,
     "metadata": {},
     "output_type": "execute_result"
    }
   ],
   "source": [
    "mult = lambda x, y: x * y\n",
    "mult(1, 2)"
   ]
  },
  {
   "cell_type": "code",
   "execution_count": 186,
   "metadata": {
    "id": "GmePWZjTfu-b"
   },
   "outputs": [
    {
     "name": "stdout",
     "output_type": "stream",
     "text": [
      "Больше чем 10\n"
     ]
    }
   ],
   "source": [
    "#Функция EVAL выолняет код, переданный ей в виде строки\n",
    "x = 11\n",
    "eval('print(\"Больше чем 10\") if x > 10 else print(\"Меньше 10\")')"
   ]
  },
  {
   "cell_type": "code",
   "execution_count": 187,
   "metadata": {
    "id": "8jvGxKmA7knt"
   },
   "outputs": [
    {
     "name": "stdout",
     "output_type": "stream",
     "text": [
      "[2, 4, 6, 8]\n"
     ]
    }
   ],
   "source": [
    "#map(function, iterator) - итератор, получившийся после применения к каждому элементу последовательности функции function.\n",
    "\n",
    "def addition(n):\n",
    "    return n + n\n",
    "\n",
    "numbers = (1, 2, 3, 4)\n",
    "result = map(addition, numbers)\n",
    "print(list(result))"
   ]
  },
  {
   "cell_type": "code",
   "execution_count": null,
   "metadata": {
    "id": "PcPJJ4ZUea64"
   },
   "outputs": [],
   "source": [
    "https://pythonworld.ru/tipy-dannyx-v-python/vse-o-funkciyax-i-ix-argumentax.html\n",
    "https://pythonworld.ru/osnovy/vstroennye-funkcii.html"
   ]
  },
  {
   "cell_type": "markdown",
   "metadata": {
    "id": "8fcbL5aR8ZiM"
   },
   "source": [
    "## Исключения\n"
   ]
  },
  {
   "cell_type": "code",
   "execution_count": 189,
   "metadata": {
    "id": "WLYE3WWU8gP0"
   },
   "outputs": [
    {
     "ename": "SyntaxError",
     "evalue": "invalid syntax (1229307009.py, line 1)",
     "output_type": "error",
     "traceback": [
      "\u001b[0;36m  File \u001b[0;32m\"/tmp/ipykernel_24605/1229307009.py\"\u001b[0;36m, line \u001b[0;32m1\u001b[0m\n\u001b[0;31m    if 1>1 print(\"1\")\u001b[0m\n\u001b[0m           ^\u001b[0m\n\u001b[0;31mSyntaxError\u001b[0m\u001b[0;31m:\u001b[0m invalid syntax\n"
     ]
    }
   ],
   "source": [
    "if 1>1 print(\"1\")"
   ]
  },
  {
   "cell_type": "code",
   "execution_count": 190,
   "metadata": {
    "id": "0rwu-8Jp8qbe"
   },
   "outputs": [
    {
     "ename": "ZeroDivisionError",
     "evalue": "division by zero",
     "output_type": "error",
     "traceback": [
      "\u001b[0;31m---------------------------------------------------------------------------\u001b[0m",
      "\u001b[0;31mZeroDivisionError\u001b[0m                         Traceback (most recent call last)",
      "\u001b[0;32m/tmp/ipykernel_24605/165659023.py\u001b[0m in \u001b[0;36m<cell line: 1>\u001b[0;34m()\u001b[0m\n\u001b[0;32m----> 1\u001b[0;31m \u001b[0mprint\u001b[0m\u001b[0;34m(\u001b[0m\u001b[0;36m1\u001b[0m\u001b[0;34m/\u001b[0m\u001b[0;36m0\u001b[0m\u001b[0;34m)\u001b[0m\u001b[0;34m\u001b[0m\u001b[0;34m\u001b[0m\u001b[0m\n\u001b[0m",
      "\u001b[0;31mZeroDivisionError\u001b[0m: division by zero"
     ]
    }
   ],
   "source": [
    "print(1/0)"
   ]
  },
  {
   "cell_type": "code",
   "execution_count": 191,
   "metadata": {
    "id": "0hwpao4z8sAf"
   },
   "outputs": [
    {
     "ename": "AssertionError",
     "evalue": "",
     "output_type": "error",
     "traceback": [
      "\u001b[0;31m---------------------------------------------------------------------------\u001b[0m",
      "\u001b[0;31mAssertionError\u001b[0m                            Traceback (most recent call last)",
      "\u001b[0;32m/tmp/ipykernel_24605/889009499.py\u001b[0m in \u001b[0;36m<cell line: 1>\u001b[0;34m()\u001b[0m\n\u001b[0;32m----> 1\u001b[0;31m \u001b[0;32massert\u001b[0m\u001b[0;34m(\u001b[0m\u001b[0;36m1\u001b[0m\u001b[0;34m==\u001b[0m\u001b[0;36m2\u001b[0m\u001b[0;34m)\u001b[0m\u001b[0;34m\u001b[0m\u001b[0;34m\u001b[0m\u001b[0m\n\u001b[0m",
      "\u001b[0;31mAssertionError\u001b[0m: "
     ]
    }
   ],
   "source": [
    "assert(1==2)"
   ]
  },
  {
   "cell_type": "code",
   "execution_count": 193,
   "metadata": {
    "id": "MShIwA0j8tj-"
   },
   "outputs": [
    {
     "name": "stdout",
     "output_type": "stream",
     "text": [
      "1\n"
     ]
    }
   ],
   "source": [
    "# Можно поймать ошибку и пропустить ее\n",
    "\n",
    "try:\n",
    "    1/0\n",
    "except:\n",
    "    print(1)"
   ]
  },
  {
   "cell_type": "code",
   "execution_count": 195,
   "metadata": {
    "id": "3PmvltEl80wI"
   },
   "outputs": [
    {
     "name": "stdout",
     "output_type": "stream",
     "text": [
      "Что-то с нулем\n"
     ]
    }
   ],
   "source": [
    "# лучший выбор - многовариантный отлов ошибок\n",
    "try:\n",
    "    1/0\n",
    "except ZeroDivisionError:\n",
    "    print('Что-то с нулем')\n",
    "except SyntaxError:\n",
    "    print('Забыли двоеточкие?')"
   ]
  },
  {
   "cell_type": "code",
   "execution_count": 196,
   "metadata": {
    "id": "j2Cuzut482F3"
   },
   "outputs": [
    {
     "name": "stdout",
     "output_type": "stream",
     "text": [
      "Что-то с нулем\n",
      "Это будет писать всегда\n"
     ]
    }
   ],
   "source": [
    "# если поймали ошибку, хотите правильно завершить дейстиве?\n",
    "# вам понадобиться блок finally\n",
    "\n",
    "try:\n",
    "    1/0\n",
    "except ZeroDivisionError:\n",
    "    print('Что-то с нулем')\n",
    "except SyntaxError:\n",
    "    print('Забыли двоеточкие?')\n",
    "except:\n",
    "    print(\"Все другие ошибки\")\n",
    "finally:\n",
    "    print(\"Это будет писать всегда\")"
   ]
  },
  {
   "cell_type": "code",
   "execution_count": 197,
   "metadata": {
    "id": "vVqhLbbn8wZa"
   },
   "outputs": [
    {
     "ename": "Exception",
     "evalue": "",
     "output_type": "error",
     "traceback": [
      "\u001b[0;31m---------------------------------------------------------------------------\u001b[0m",
      "\u001b[0;31mException\u001b[0m                                 Traceback (most recent call last)",
      "\u001b[0;32m/tmp/ipykernel_24605/4054372396.py\u001b[0m in \u001b[0;36m<cell line: 2>\u001b[0;34m()\u001b[0m\n\u001b[1;32m      1\u001b[0m \u001b[0;31m# Можем и сами создавать исключения:\u001b[0m\u001b[0;34m\u001b[0m\u001b[0;34m\u001b[0m\u001b[0;34m\u001b[0m\u001b[0m\n\u001b[0;32m----> 2\u001b[0;31m \u001b[0;32mraise\u001b[0m \u001b[0mException\u001b[0m\u001b[0;34m\u001b[0m\u001b[0;34m\u001b[0m\u001b[0m\n\u001b[0m",
      "\u001b[0;31mException\u001b[0m: "
     ]
    }
   ],
   "source": [
    "# Можем и сами создавать исключения:\n",
    "raise Exception"
   ]
  },
  {
   "cell_type": "code",
   "execution_count": 198,
   "metadata": {
    "id": "0un8H2SK9OyU"
   },
   "outputs": [
    {
     "ename": "TypeError",
     "evalue": "Тут можно писать что угодно",
     "output_type": "error",
     "traceback": [
      "\u001b[0;31m---------------------------------------------------------------------------\u001b[0m",
      "\u001b[0;31mTypeError\u001b[0m                                 Traceback (most recent call last)",
      "\u001b[0;32m/tmp/ipykernel_24605/2415168575.py\u001b[0m in \u001b[0;36m<cell line: 1>\u001b[0;34m()\u001b[0m\n\u001b[0;32m----> 1\u001b[0;31m \u001b[0;32mraise\u001b[0m \u001b[0mTypeError\u001b[0m\u001b[0;34m(\u001b[0m\u001b[0;34m'Тут можно писать что угодно'\u001b[0m\u001b[0;34m)\u001b[0m\u001b[0;34m\u001b[0m\u001b[0;34m\u001b[0m\u001b[0m\n\u001b[0m",
      "\u001b[0;31mTypeError\u001b[0m: Тут можно писать что угодно"
     ]
    }
   ],
   "source": [
    "raise TypeError('Тут можно писать что угодно')"
   ]
  },
  {
   "cell_type": "code",
   "execution_count": 199,
   "metadata": {
    "id": "N-STATGH9U0k"
   },
   "outputs": [
    {
     "ename": "AssertionError",
     "evalue": "Условние не верно",
     "output_type": "error",
     "traceback": [
      "\u001b[0;31m---------------------------------------------------------------------------\u001b[0m",
      "\u001b[0;31mAssertionError\u001b[0m                            Traceback (most recent call last)",
      "\u001b[0;32m/tmp/ipykernel_24605/2597050894.py\u001b[0m in \u001b[0;36m<cell line: 1>\u001b[0;34m()\u001b[0m\n\u001b[0;32m----> 1\u001b[0;31m \u001b[0;32massert\u001b[0m \u001b[0;36m1\u001b[0m\u001b[0;34m==\u001b[0m\u001b[0;36m2\u001b[0m\u001b[0;34m,\u001b[0m \u001b[0;34m'Условние не верно'\u001b[0m\u001b[0;34m\u001b[0m\u001b[0;34m\u001b[0m\u001b[0m\n\u001b[0m",
      "\u001b[0;31mAssertionError\u001b[0m: Условние не верно"
     ]
    }
   ],
   "source": [
    "assert 1==2, 'Условние не верно'"
   ]
  },
  {
   "cell_type": "markdown",
   "metadata": {
    "id": "7IfBZHN8eeGX"
   },
   "source": [
    "## Дополнительные материалы\n",
    "\n",
    "*   Самоучитель Python - https://pythonworld.ru/samouchitel-python\n",
    "*   Курс Python с нуля, можно выполнять задания в интерактивном режиме - http://pythontutor.ru/\n",
    "*   Игра, которая позволит прокачать навыки Python: https://py.checkio.org/\n",
    "\n",
    "\n",
    "\n"
   ]
  }
 ],
 "metadata": {
  "colab": {
   "provenance": []
  },
  "kernelspec": {
   "display_name": "Python 3 (ipykernel)",
   "language": "python",
   "name": "python3"
  },
  "language_info": {
   "codemirror_mode": {
    "name": "ipython",
    "version": 3
   },
   "file_extension": ".py",
   "mimetype": "text/x-python",
   "name": "python",
   "nbconvert_exporter": "python",
   "pygments_lexer": "ipython3",
   "version": "3.8.16"
  }
 },
 "nbformat": 4,
 "nbformat_minor": 4
}
