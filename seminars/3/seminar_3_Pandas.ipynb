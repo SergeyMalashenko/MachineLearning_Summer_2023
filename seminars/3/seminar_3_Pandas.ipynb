{
 "cells": [
  {
   "cell_type": "markdown",
   "id": "7c52183b-cd76-42b9-8a1e-f8add6b9b442",
   "metadata": {},
   "source": [
    "# Введение в Pandas"
   ]
  },
  {
   "cell_type": "markdown",
   "id": "98696bec-e26c-48e9-939e-f401fc427852",
   "metadata": {},
   "source": [
    "\n",
    "<a href=\"https://colab.research.google.com/github/jakevdp/PythonDataScienceHandbook/blob/master/notebooks/03.03-Operations-in-Pandas.ipynb\"><img align=\"left\" src=\"https://colab.research.google.com/assets/colab-badge.svg\" alt=\"Open in Colab\" title=\"Open and Execute in Google Colaboratory\"></a>"
   ]
  },
  {
   "cell_type": "code",
   "execution_count": 1,
   "id": "96c3e76e-654d-493c-892a-43ab5d950942",
   "metadata": {
    "tags": []
   },
   "outputs": [
    {
     "data": {
      "text/plain": [
       "'1.5.3'"
      ]
     },
     "execution_count": 1,
     "metadata": {},
     "output_type": "execute_result"
    }
   ],
   "source": [
    "import pandas as pd\n",
    "pd.__version__"
   ]
  },
  {
   "cell_type": "code",
   "execution_count": 2,
   "id": "f0e81c54-0b2a-4da5-b472-2ff9f091c22c",
   "metadata": {
    "tags": []
   },
   "outputs": [
    {
     "data": {
      "text/plain": [
       "'1.22.1'"
      ]
     },
     "execution_count": 2,
     "metadata": {},
     "output_type": "execute_result"
    }
   ],
   "source": [
    "import numpy as np\n",
    "np.__version__"
   ]
  },
  {
   "cell_type": "markdown",
   "id": "46c7d049-08b2-4504-9372-e2e44c6b9dfc",
   "metadata": {},
   "source": [
    "## ```Pandas.Series```\n",
    "\n",
    "``pandas.Series`` - это одномерный массив индексированных данных"
   ]
  },
  {
   "cell_type": "code",
   "execution_count": 3,
   "id": "edfbe4ed-df96-46b5-87fe-49e68d5c0563",
   "metadata": {},
   "outputs": [
    {
     "data": {
      "text/plain": [
       "0    0.25\n",
       "1    0.50\n",
       "2    0.75\n",
       "3    1.00\n",
       "dtype: float64"
      ]
     },
     "execution_count": 3,
     "metadata": {},
     "output_type": "execute_result"
    }
   ],
   "source": [
    "data = pd.Series([0.25, 0.5, 0.75, 1.0])\n",
    "data"
   ]
  },
  {
   "cell_type": "markdown",
   "id": "ccbeca25-2362-44a3-8359-5c88f3ec8b1e",
   "metadata": {},
   "source": [
    "``pandas.Series`` содержит последовательность значений и последовательность индексов, к которым мы можем получить доступ с помощью атрибутов ``values`` и ``index``.\n",
    "Значения ``values`` - это просто знакомый нам массив NumPy:"
   ]
  },
  {
   "cell_type": "code",
   "execution_count": 4,
   "id": "e84e1e41-12ff-4109-8d6f-c207144793d8",
   "metadata": {},
   "outputs": [
    {
     "data": {
      "text/plain": [
       "array([0.25, 0.5 , 0.75, 1.  ])"
      ]
     },
     "execution_count": 4,
     "metadata": {},
     "output_type": "execute_result"
    }
   ],
   "source": [
    "data.values"
   ]
  },
  {
   "cell_type": "code",
   "execution_count": 5,
   "id": "d68a4e02-009c-4843-ad95-085e2966edf7",
   "metadata": {},
   "outputs": [
    {
     "data": {
      "text/plain": [
       "RangeIndex(start=0, stop=4, step=1)"
      ]
     },
     "execution_count": 5,
     "metadata": {},
     "output_type": "execute_result"
    }
   ],
   "source": [
    "data.index"
   ]
  },
  {
   "cell_type": "markdown",
   "id": "741a21ac-0ace-4348-94c6-1886a67a342f",
   "metadata": {},
   "source": [
    "Доступ к данным можно получить по ассоциированному индексу с помощью привычной для Python нотации с квадратными скобками"
   ]
  },
  {
   "cell_type": "code",
   "execution_count": 6,
   "id": "0f89e835-1250-4c99-af43-0fd1c83444a0",
   "metadata": {},
   "outputs": [
    {
     "data": {
      "text/plain": [
       "0.5"
      ]
     },
     "execution_count": 6,
     "metadata": {},
     "output_type": "execute_result"
    }
   ],
   "source": [
    "data[1]"
   ]
  },
  {
   "cell_type": "code",
   "execution_count": 7,
   "id": "78def4e0-255a-4a19-a328-569f79e5762b",
   "metadata": {},
   "outputs": [
    {
     "data": {
      "text/plain": [
       "1    0.50\n",
       "2    0.75\n",
       "dtype: float64"
      ]
     },
     "execution_count": 7,
     "metadata": {},
     "output_type": "execute_result"
    }
   ],
   "source": [
    "data[1:3]"
   ]
  },
  {
   "cell_type": "markdown",
   "id": "79e160c4-6415-49dd-9f76-5dc12014c81d",
   "metadata": {},
   "source": [
    "### ``pandas.Series`` - обобщенный NumPy массив"
   ]
  },
  {
   "cell_type": "code",
   "execution_count": 8,
   "id": "0fc6b814-5710-41ac-b97c-750e21ceec66",
   "metadata": {},
   "outputs": [
    {
     "data": {
      "text/plain": [
       "0.5"
      ]
     },
     "execution_count": 8,
     "metadata": {},
     "output_type": "execute_result"
    }
   ],
   "source": [
    "data = pd.Series([0.25, 0.5, 0.75, 1.0], index=['a', 'b', 'c', 'd'])\n",
    "data['b']"
   ]
  },
  {
   "cell_type": "code",
   "execution_count": 9,
   "id": "6fb8cb53-d90e-4904-bf97-d87e3a9d5ff1",
   "metadata": {},
   "outputs": [
    {
     "data": {
      "text/plain": [
       "0.25"
      ]
     },
     "execution_count": 9,
     "metadata": {},
     "output_type": "execute_result"
    }
   ],
   "source": [
    "data = pd.Series([0.25, 0.5, 0.75, 1.0], index=[2, 5, 3, 7])\n",
    "data[2]"
   ]
  },
  {
   "cell_type": "markdown",
   "id": "c8c6e8c8-96be-498b-b962-3af3ed3445f3",
   "metadata": {},
   "source": [
    "### ```pandas.Series``` - специализированный словарь"
   ]
  },
  {
   "cell_type": "code",
   "execution_count": 10,
   "id": "6892ebcc-f701-4924-8a3b-b012e3274d54",
   "metadata": {},
   "outputs": [
    {
     "data": {
      "text/plain": [
       "California    38332521\n",
       "Texas         26448193\n",
       "New York      19651127\n",
       "Florida       19552860\n",
       "Illinois      12882135\n",
       "dtype: int64"
      ]
     },
     "execution_count": 10,
     "metadata": {},
     "output_type": "execute_result"
    }
   ],
   "source": [
    "population_dict = {\n",
    " 'California': 38332521,\n",
    " 'Texas'     : 26448193,\n",
    " 'New York'  : 19651127,\n",
    " 'Florida'   : 19552860,\n",
    " 'Illinois'  : 12882135\n",
    "}\n",
    "population = pd.Series(population_dict)\n",
    "population"
   ]
  },
  {
   "cell_type": "code",
   "execution_count": 11,
   "id": "42abd525-9fc6-402f-9005-0b489173ca91",
   "metadata": {},
   "outputs": [
    {
     "data": {
      "text/plain": [
       "38332521"
      ]
     },
     "execution_count": 11,
     "metadata": {},
     "output_type": "execute_result"
    }
   ],
   "source": [
    "population['California']"
   ]
  },
  {
   "cell_type": "code",
   "execution_count": 12,
   "id": "ad564650-4546-4036-b8e2-0164591726de",
   "metadata": {},
   "outputs": [
    {
     "data": {
      "text/plain": [
       "California    38332521\n",
       "Texas         26448193\n",
       "New York      19651127\n",
       "Florida       19552860\n",
       "Illinois      12882135\n",
       "dtype: int64"
      ]
     },
     "execution_count": 12,
     "metadata": {},
     "output_type": "execute_result"
    }
   ],
   "source": [
    "population['California':'Illinois']"
   ]
  },
  {
   "cell_type": "markdown",
   "id": "4bbbe5a8-6f48-431a-add2-947d6a10ea26",
   "metadata": {},
   "source": [
    "## ```Pandas.DataFrame```\n",
    "```pandas.DataFrame``` - двумерный массив данных"
   ]
  },
  {
   "cell_type": "markdown",
   "id": "edd566cc-c1d9-4b18-8554-1361b60ef4f5",
   "metadata": {},
   "source": [
    "### ``pandas.DataFrame`` - обобщенный NumPy массив"
   ]
  },
  {
   "cell_type": "code",
   "execution_count": 13,
   "id": "d0c3ffa5-bd54-4f40-9fc1-a6b0a7a2d8fa",
   "metadata": {},
   "outputs": [
    {
     "data": {
      "text/html": [
       "<div>\n",
       "<style scoped>\n",
       "    .dataframe tbody tr th:only-of-type {\n",
       "        vertical-align: middle;\n",
       "    }\n",
       "\n",
       "    .dataframe tbody tr th {\n",
       "        vertical-align: top;\n",
       "    }\n",
       "\n",
       "    .dataframe thead th {\n",
       "        text-align: right;\n",
       "    }\n",
       "</style>\n",
       "<table border=\"1\" class=\"dataframe\">\n",
       "  <thead>\n",
       "    <tr style=\"text-align: right;\">\n",
       "      <th></th>\n",
       "      <th>population</th>\n",
       "      <th>area</th>\n",
       "    </tr>\n",
       "  </thead>\n",
       "  <tbody>\n",
       "    <tr>\n",
       "      <th>California</th>\n",
       "      <td>38332521</td>\n",
       "      <td>423967</td>\n",
       "    </tr>\n",
       "    <tr>\n",
       "      <th>Texas</th>\n",
       "      <td>26448193</td>\n",
       "      <td>695662</td>\n",
       "    </tr>\n",
       "    <tr>\n",
       "      <th>New York</th>\n",
       "      <td>19651127</td>\n",
       "      <td>141297</td>\n",
       "    </tr>\n",
       "    <tr>\n",
       "      <th>Florida</th>\n",
       "      <td>19552860</td>\n",
       "      <td>170312</td>\n",
       "    </tr>\n",
       "    <tr>\n",
       "      <th>Illinois</th>\n",
       "      <td>12882135</td>\n",
       "      <td>149995</td>\n",
       "    </tr>\n",
       "  </tbody>\n",
       "</table>\n",
       "</div>"
      ],
      "text/plain": [
       "            population    area\n",
       "California    38332521  423967\n",
       "Texas         26448193  695662\n",
       "New York      19651127  141297\n",
       "Florida       19552860  170312\n",
       "Illinois      12882135  149995"
      ]
     },
     "execution_count": 13,
     "metadata": {},
     "output_type": "execute_result"
    }
   ],
   "source": [
    "area_dict = {'California': 423967, 'Texas': 695662, 'New York': 141297, 'Florida': 170312, 'Illinois': 149995}\n",
    "area      = pd.Series(area_dict)\n",
    "states    = pd.DataFrame({'population': population, 'area': area})\n",
    "states"
   ]
  },
  {
   "cell_type": "markdown",
   "id": "6953e86d-67bc-4772-a5c1-aa6bb3065122",
   "metadata": {},
   "source": [
    "Прежде всего ```pandas.DataFrame``` имеет атрибут ``index``, который предоставляет доступ к меткам индекса, и атрибут ``values``, который предоставляет доступ к значениям.\n",
    "Также ```pandas.DataFrame``` имеет атрибут ``columns``, который представляет собой объект ``Index``, содержащий метки столбцов"
   ]
  },
  {
   "cell_type": "code",
   "execution_count": 14,
   "id": "0dd41dae-4abe-4551-972f-54bd55a7bf56",
   "metadata": {},
   "outputs": [
    {
     "data": {
      "text/plain": [
       "array([[38332521,   423967],\n",
       "       [26448193,   695662],\n",
       "       [19651127,   141297],\n",
       "       [19552860,   170312],\n",
       "       [12882135,   149995]])"
      ]
     },
     "execution_count": 14,
     "metadata": {},
     "output_type": "execute_result"
    }
   ],
   "source": [
    "states.values"
   ]
  },
  {
   "cell_type": "code",
   "execution_count": 15,
   "id": "70072232-e1f6-4a01-a2f2-fe784621520f",
   "metadata": {},
   "outputs": [
    {
     "data": {
      "text/plain": [
       "Index(['California', 'Texas', 'New York', 'Florida', 'Illinois'], dtype='object')"
      ]
     },
     "execution_count": 15,
     "metadata": {},
     "output_type": "execute_result"
    }
   ],
   "source": [
    "states.index"
   ]
  },
  {
   "cell_type": "code",
   "execution_count": 16,
   "id": "f824f474-b8ff-45e2-b405-aab07c751dcc",
   "metadata": {},
   "outputs": [
    {
     "data": {
      "text/plain": [
       "Index(['population', 'area'], dtype='object')"
      ]
     },
     "execution_count": 16,
     "metadata": {},
     "output_type": "execute_result"
    }
   ],
   "source": [
    "states.columns"
   ]
  },
  {
   "cell_type": "markdown",
   "id": "94da1b79-5aaa-4204-a969-193e3424bf64",
   "metadata": {},
   "source": [
    "### ```pandas.DataFrame``` - специализированный словарь\n",
    "\n",
    "Аналогично, мы можем рассматривать ``pandas.DataFrame`` как специализацию словаря.\n",
    "Если словарь связывает ключ со значением, то ``pandas.DataFrame`` связывает имя столбца с ``pandas.Series`` данных столбца.\n",
    "Например, запрос атрибута `` area`` возвращает объект ``pandas.Series``"
   ]
  },
  {
   "cell_type": "code",
   "execution_count": 17,
   "id": "42694eb3-8c1a-45e1-b567-56c429794fa2",
   "metadata": {},
   "outputs": [
    {
     "data": {
      "text/plain": [
       "California    423967\n",
       "Texas         695662\n",
       "New York      141297\n",
       "Florida       170312\n",
       "Illinois      149995\n",
       "Name: area, dtype: int64"
      ]
     },
     "execution_count": 17,
     "metadata": {},
     "output_type": "execute_result"
    }
   ],
   "source": [
    "states['area']"
   ]
  },
  {
   "cell_type": "markdown",
   "id": "b4ee74db-638b-47ed-a0fe-a9780a3d8b1e",
   "metadata": {},
   "source": [
    "## Создание объектов ```pandas.DataFrame```"
   ]
  },
  {
   "cell_type": "markdown",
   "id": "23e4d4c1-57c4-4166-89a5-68b269d853c6",
   "metadata": {},
   "source": [
    "#### Создание из отдельного ```pandas.Series``` объекта"
   ]
  },
  {
   "cell_type": "code",
   "execution_count": 18,
   "id": "19654415-0ded-4305-b522-b79e12feb39a",
   "metadata": {},
   "outputs": [
    {
     "data": {
      "text/html": [
       "<div>\n",
       "<style scoped>\n",
       "    .dataframe tbody tr th:only-of-type {\n",
       "        vertical-align: middle;\n",
       "    }\n",
       "\n",
       "    .dataframe tbody tr th {\n",
       "        vertical-align: top;\n",
       "    }\n",
       "\n",
       "    .dataframe thead th {\n",
       "        text-align: right;\n",
       "    }\n",
       "</style>\n",
       "<table border=\"1\" class=\"dataframe\">\n",
       "  <thead>\n",
       "    <tr style=\"text-align: right;\">\n",
       "      <th></th>\n",
       "      <th>population</th>\n",
       "    </tr>\n",
       "  </thead>\n",
       "  <tbody>\n",
       "    <tr>\n",
       "      <th>California</th>\n",
       "      <td>38332521</td>\n",
       "    </tr>\n",
       "    <tr>\n",
       "      <th>Texas</th>\n",
       "      <td>26448193</td>\n",
       "    </tr>\n",
       "    <tr>\n",
       "      <th>New York</th>\n",
       "      <td>19651127</td>\n",
       "    </tr>\n",
       "    <tr>\n",
       "      <th>Florida</th>\n",
       "      <td>19552860</td>\n",
       "    </tr>\n",
       "    <tr>\n",
       "      <th>Illinois</th>\n",
       "      <td>12882135</td>\n",
       "    </tr>\n",
       "  </tbody>\n",
       "</table>\n",
       "</div>"
      ],
      "text/plain": [
       "            population\n",
       "California    38332521\n",
       "Texas         26448193\n",
       "New York      19651127\n",
       "Florida       19552860\n",
       "Illinois      12882135"
      ]
     },
     "execution_count": 18,
     "metadata": {},
     "output_type": "execute_result"
    }
   ],
   "source": [
    "pd.DataFrame(population, columns=['population'])"
   ]
  },
  {
   "cell_type": "markdown",
   "id": "0f34338c-cc98-4bd1-a4f7-8667c183b850",
   "metadata": {},
   "source": [
    "#### Создание из списка словарей"
   ]
  },
  {
   "cell_type": "code",
   "execution_count": 19,
   "id": "bacf3d31-d9b0-49e0-b5b0-f023c943ae97",
   "metadata": {},
   "outputs": [
    {
     "data": {
      "text/html": [
       "<div>\n",
       "<style scoped>\n",
       "    .dataframe tbody tr th:only-of-type {\n",
       "        vertical-align: middle;\n",
       "    }\n",
       "\n",
       "    .dataframe tbody tr th {\n",
       "        vertical-align: top;\n",
       "    }\n",
       "\n",
       "    .dataframe thead th {\n",
       "        text-align: right;\n",
       "    }\n",
       "</style>\n",
       "<table border=\"1\" class=\"dataframe\">\n",
       "  <thead>\n",
       "    <tr style=\"text-align: right;\">\n",
       "      <th></th>\n",
       "      <th>a</th>\n",
       "      <th>b</th>\n",
       "    </tr>\n",
       "  </thead>\n",
       "  <tbody>\n",
       "    <tr>\n",
       "      <th>0</th>\n",
       "      <td>0</td>\n",
       "      <td>0</td>\n",
       "    </tr>\n",
       "    <tr>\n",
       "      <th>1</th>\n",
       "      <td>1</td>\n",
       "      <td>2</td>\n",
       "    </tr>\n",
       "    <tr>\n",
       "      <th>2</th>\n",
       "      <td>2</td>\n",
       "      <td>4</td>\n",
       "    </tr>\n",
       "  </tbody>\n",
       "</table>\n",
       "</div>"
      ],
      "text/plain": [
       "   a  b\n",
       "0  0  0\n",
       "1  1  2\n",
       "2  2  4"
      ]
     },
     "execution_count": 19,
     "metadata": {},
     "output_type": "execute_result"
    }
   ],
   "source": [
    "data = [{'a': i, 'b': 2 * i} for i in range(3)]\n",
    "pd.DataFrame(data)"
   ]
  },
  {
   "cell_type": "code",
   "execution_count": 20,
   "id": "00828181-92be-4d86-8c0c-4ff8dc540c57",
   "metadata": {},
   "outputs": [
    {
     "data": {
      "text/html": [
       "<div>\n",
       "<style scoped>\n",
       "    .dataframe tbody tr th:only-of-type {\n",
       "        vertical-align: middle;\n",
       "    }\n",
       "\n",
       "    .dataframe tbody tr th {\n",
       "        vertical-align: top;\n",
       "    }\n",
       "\n",
       "    .dataframe thead th {\n",
       "        text-align: right;\n",
       "    }\n",
       "</style>\n",
       "<table border=\"1\" class=\"dataframe\">\n",
       "  <thead>\n",
       "    <tr style=\"text-align: right;\">\n",
       "      <th></th>\n",
       "      <th>a</th>\n",
       "      <th>b</th>\n",
       "      <th>c</th>\n",
       "    </tr>\n",
       "  </thead>\n",
       "  <tbody>\n",
       "    <tr>\n",
       "      <th>0</th>\n",
       "      <td>1.0</td>\n",
       "      <td>2</td>\n",
       "      <td>NaN</td>\n",
       "    </tr>\n",
       "    <tr>\n",
       "      <th>1</th>\n",
       "      <td>NaN</td>\n",
       "      <td>3</td>\n",
       "      <td>4.0</td>\n",
       "    </tr>\n",
       "  </tbody>\n",
       "</table>\n",
       "</div>"
      ],
      "text/plain": [
       "     a  b    c\n",
       "0  1.0  2  NaN\n",
       "1  NaN  3  4.0"
      ]
     },
     "execution_count": 20,
     "metadata": {},
     "output_type": "execute_result"
    }
   ],
   "source": [
    "pd.DataFrame([{'a': 1, 'b': 2}, {'b': 3, 'c': 4}])"
   ]
  },
  {
   "cell_type": "markdown",
   "id": "88023044-8507-4b69-89e8-17f1fc7b02d7",
   "metadata": {},
   "source": [
    "#### Создание из словаря, хранящего ``pandas.Series``\n"
   ]
  },
  {
   "cell_type": "code",
   "execution_count": 21,
   "id": "cd1dae25-4203-4078-8b23-09d226616090",
   "metadata": {},
   "outputs": [
    {
     "data": {
      "text/html": [
       "<div>\n",
       "<style scoped>\n",
       "    .dataframe tbody tr th:only-of-type {\n",
       "        vertical-align: middle;\n",
       "    }\n",
       "\n",
       "    .dataframe tbody tr th {\n",
       "        vertical-align: top;\n",
       "    }\n",
       "\n",
       "    .dataframe thead th {\n",
       "        text-align: right;\n",
       "    }\n",
       "</style>\n",
       "<table border=\"1\" class=\"dataframe\">\n",
       "  <thead>\n",
       "    <tr style=\"text-align: right;\">\n",
       "      <th></th>\n",
       "      <th>population</th>\n",
       "      <th>area</th>\n",
       "    </tr>\n",
       "  </thead>\n",
       "  <tbody>\n",
       "    <tr>\n",
       "      <th>California</th>\n",
       "      <td>38332521</td>\n",
       "      <td>423967</td>\n",
       "    </tr>\n",
       "    <tr>\n",
       "      <th>Texas</th>\n",
       "      <td>26448193</td>\n",
       "      <td>695662</td>\n",
       "    </tr>\n",
       "    <tr>\n",
       "      <th>New York</th>\n",
       "      <td>19651127</td>\n",
       "      <td>141297</td>\n",
       "    </tr>\n",
       "    <tr>\n",
       "      <th>Florida</th>\n",
       "      <td>19552860</td>\n",
       "      <td>170312</td>\n",
       "    </tr>\n",
       "    <tr>\n",
       "      <th>Illinois</th>\n",
       "      <td>12882135</td>\n",
       "      <td>149995</td>\n",
       "    </tr>\n",
       "  </tbody>\n",
       "</table>\n",
       "</div>"
      ],
      "text/plain": [
       "            population    area\n",
       "California    38332521  423967\n",
       "Texas         26448193  695662\n",
       "New York      19651127  141297\n",
       "Florida       19552860  170312\n",
       "Illinois      12882135  149995"
      ]
     },
     "execution_count": 21,
     "metadata": {},
     "output_type": "execute_result"
    }
   ],
   "source": [
    "pd.DataFrame({'population': population, 'area': area})"
   ]
  },
  {
   "cell_type": "markdown",
   "id": "1d90290d-969a-40da-bf5b-9f55a7ca0628",
   "metadata": {},
   "source": [
    "#### Создание из двумерного массива NumPy\n",
    "\n",
    "Для двумерного массива данных, можно создать ``pandas.DataFrame`` с заданными именами колонок и индексом."
   ]
  },
  {
   "cell_type": "code",
   "execution_count": 22,
   "id": "a2f1c518-ef25-4172-8731-74dfcd8fed5a",
   "metadata": {},
   "outputs": [
    {
     "data": {
      "text/html": [
       "<div>\n",
       "<style scoped>\n",
       "    .dataframe tbody tr th:only-of-type {\n",
       "        vertical-align: middle;\n",
       "    }\n",
       "\n",
       "    .dataframe tbody tr th {\n",
       "        vertical-align: top;\n",
       "    }\n",
       "\n",
       "    .dataframe thead th {\n",
       "        text-align: right;\n",
       "    }\n",
       "</style>\n",
       "<table border=\"1\" class=\"dataframe\">\n",
       "  <thead>\n",
       "    <tr style=\"text-align: right;\">\n",
       "      <th></th>\n",
       "      <th>foo</th>\n",
       "      <th>bar</th>\n",
       "    </tr>\n",
       "  </thead>\n",
       "  <tbody>\n",
       "    <tr>\n",
       "      <th>a</th>\n",
       "      <td>0.942705</td>\n",
       "      <td>0.564932</td>\n",
       "    </tr>\n",
       "    <tr>\n",
       "      <th>b</th>\n",
       "      <td>0.976456</td>\n",
       "      <td>0.539837</td>\n",
       "    </tr>\n",
       "    <tr>\n",
       "      <th>c</th>\n",
       "      <td>0.611774</td>\n",
       "      <td>0.565503</td>\n",
       "    </tr>\n",
       "  </tbody>\n",
       "</table>\n",
       "</div>"
      ],
      "text/plain": [
       "        foo       bar\n",
       "a  0.942705  0.564932\n",
       "b  0.976456  0.539837\n",
       "c  0.611774  0.565503"
      ]
     },
     "execution_count": 22,
     "metadata": {},
     "output_type": "execute_result"
    }
   ],
   "source": [
    "pd.DataFrame(np.random.rand(3, 2), columns=['foo', 'bar'], index=['a', 'b', 'c'])"
   ]
  },
  {
   "cell_type": "code",
   "execution_count": 23,
   "id": "ad3cf50c-6aba-49a7-8c78-15fa58c5d552",
   "metadata": {},
   "outputs": [
    {
     "data": {
      "text/plain": [
       "array([(0, 0.), (0, 0.), (0, 0.)], dtype=[('A', '<i8'), ('B', '<f8')])"
      ]
     },
     "execution_count": 23,
     "metadata": {},
     "output_type": "execute_result"
    }
   ],
   "source": [
    "A = np.zeros(3, dtype=[('A', 'i8'), ('B', 'f8')])\n",
    "A"
   ]
  },
  {
   "cell_type": "code",
   "execution_count": 24,
   "id": "03d437a3-63f0-4d61-909d-537f4b1dbbf4",
   "metadata": {},
   "outputs": [
    {
     "data": {
      "text/html": [
       "<div>\n",
       "<style scoped>\n",
       "    .dataframe tbody tr th:only-of-type {\n",
       "        vertical-align: middle;\n",
       "    }\n",
       "\n",
       "    .dataframe tbody tr th {\n",
       "        vertical-align: top;\n",
       "    }\n",
       "\n",
       "    .dataframe thead th {\n",
       "        text-align: right;\n",
       "    }\n",
       "</style>\n",
       "<table border=\"1\" class=\"dataframe\">\n",
       "  <thead>\n",
       "    <tr style=\"text-align: right;\">\n",
       "      <th></th>\n",
       "      <th>A</th>\n",
       "      <th>B</th>\n",
       "    </tr>\n",
       "  </thead>\n",
       "  <tbody>\n",
       "    <tr>\n",
       "      <th>0</th>\n",
       "      <td>0</td>\n",
       "      <td>0.0</td>\n",
       "    </tr>\n",
       "    <tr>\n",
       "      <th>1</th>\n",
       "      <td>0</td>\n",
       "      <td>0.0</td>\n",
       "    </tr>\n",
       "    <tr>\n",
       "      <th>2</th>\n",
       "      <td>0</td>\n",
       "      <td>0.0</td>\n",
       "    </tr>\n",
       "  </tbody>\n",
       "</table>\n",
       "</div>"
      ],
      "text/plain": [
       "   A    B\n",
       "0  0  0.0\n",
       "1  0  0.0\n",
       "2  0  0.0"
      ]
     },
     "execution_count": 24,
     "metadata": {},
     "output_type": "execute_result"
    }
   ],
   "source": [
    "pd.DataFrame(A)"
   ]
  },
  {
   "cell_type": "markdown",
   "id": "c101b17c-8785-4fce-ae0f-76f7a8d4b0cb",
   "metadata": {},
   "source": [
    "## ```Pandas.Index```"
   ]
  },
  {
   "cell_type": "markdown",
   "id": "0ac94b45-489d-4dae-b57f-8a1ca3babe56",
   "metadata": {},
   "source": [
    "Объекты ``pandas.Series`` и ``pandas.DataFrame`` содержат явный *индекс*, который позволяет ссылаться на данные и изменять их.\n",
    "Объект ``pandas.Index`` можно рассматривать либо как *(immutable array) неизменяемый массив*, либо как *(ordered set) упорядоченное множество*."
   ]
  },
  {
   "cell_type": "code",
   "execution_count": 25,
   "id": "0a160b4b-7931-4608-b07b-cb3a0d27eb54",
   "metadata": {},
   "outputs": [
    {
     "data": {
      "text/plain": [
       "Int64Index([2, 3, 5, 7, 11], dtype='int64')"
      ]
     },
     "execution_count": 25,
     "metadata": {},
     "output_type": "execute_result"
    }
   ],
   "source": [
    "ind = pd.Index([2, 3, 5, 7, 11])\n",
    "ind"
   ]
  },
  {
   "cell_type": "markdown",
   "id": "5c16115f-95a7-4bc8-9ac5-642b2796ef15",
   "metadata": {},
   "source": [
    "#### ```pandas.Index``` - неизменяемый массив"
   ]
  },
  {
   "cell_type": "code",
   "execution_count": 26,
   "id": "2f34b86c-54ba-41cc-bb6a-bad345b2fe4e",
   "metadata": {},
   "outputs": [
    {
     "data": {
      "text/plain": [
       "3"
      ]
     },
     "execution_count": 26,
     "metadata": {},
     "output_type": "execute_result"
    }
   ],
   "source": [
    "ind[1]"
   ]
  },
  {
   "cell_type": "code",
   "execution_count": 27,
   "id": "98c9e079-9560-4fbd-8920-24de468fbf9a",
   "metadata": {},
   "outputs": [
    {
     "data": {
      "text/plain": [
       "Int64Index([2, 5, 11], dtype='int64')"
      ]
     },
     "execution_count": 27,
     "metadata": {},
     "output_type": "execute_result"
    }
   ],
   "source": [
    "ind[::2]"
   ]
  },
  {
   "cell_type": "code",
   "execution_count": 28,
   "id": "b6ab44e4-627d-4585-be1a-39b61b889464",
   "metadata": {},
   "outputs": [
    {
     "name": "stdout",
     "output_type": "stream",
     "text": [
      "5 (5,) 1 int64\n"
     ]
    }
   ],
   "source": [
    "print(ind.size, ind.shape, ind.ndim, ind.dtype)"
   ]
  },
  {
   "cell_type": "code",
   "execution_count": 29,
   "id": "a26c98e8-57e8-47da-b897-6f9e1e340c40",
   "metadata": {},
   "outputs": [
    {
     "ename": "TypeError",
     "evalue": "Index does not support mutable operations",
     "output_type": "error",
     "traceback": [
      "\u001b[0;31m---------------------------------------------------------------------------\u001b[0m",
      "\u001b[0;31mTypeError\u001b[0m                                 Traceback (most recent call last)",
      "\u001b[0;32m/tmp/ipykernel_37934/393126374.py\u001b[0m in \u001b[0;36m<cell line: 1>\u001b[0;34m()\u001b[0m\n\u001b[0;32m----> 1\u001b[0;31m \u001b[0mind\u001b[0m\u001b[0;34m[\u001b[0m\u001b[0;36m1\u001b[0m\u001b[0;34m]\u001b[0m \u001b[0;34m=\u001b[0m \u001b[0;36m0\u001b[0m\u001b[0;34m\u001b[0m\u001b[0;34m\u001b[0m\u001b[0m\n\u001b[0m",
      "\u001b[0;32m~/anaconda3/envs/work/lib/python3.8/site-packages/pandas/core/indexes/base.py\u001b[0m in \u001b[0;36m__setitem__\u001b[0;34m(self, key, value)\u001b[0m\n\u001b[1;32m   5300\u001b[0m     \u001b[0;34m@\u001b[0m\u001b[0mfinal\u001b[0m\u001b[0;34m\u001b[0m\u001b[0;34m\u001b[0m\u001b[0m\n\u001b[1;32m   5301\u001b[0m     \u001b[0;32mdef\u001b[0m \u001b[0m__setitem__\u001b[0m\u001b[0;34m(\u001b[0m\u001b[0mself\u001b[0m\u001b[0;34m,\u001b[0m \u001b[0mkey\u001b[0m\u001b[0;34m,\u001b[0m \u001b[0mvalue\u001b[0m\u001b[0;34m)\u001b[0m\u001b[0;34m:\u001b[0m\u001b[0;34m\u001b[0m\u001b[0;34m\u001b[0m\u001b[0m\n\u001b[0;32m-> 5302\u001b[0;31m         \u001b[0;32mraise\u001b[0m \u001b[0mTypeError\u001b[0m\u001b[0;34m(\u001b[0m\u001b[0;34m\"Index does not support mutable operations\"\u001b[0m\u001b[0;34m)\u001b[0m\u001b[0;34m\u001b[0m\u001b[0;34m\u001b[0m\u001b[0m\n\u001b[0m\u001b[1;32m   5303\u001b[0m \u001b[0;34m\u001b[0m\u001b[0m\n\u001b[1;32m   5304\u001b[0m     \u001b[0;32mdef\u001b[0m \u001b[0m__getitem__\u001b[0m\u001b[0;34m(\u001b[0m\u001b[0mself\u001b[0m\u001b[0;34m,\u001b[0m \u001b[0mkey\u001b[0m\u001b[0;34m)\u001b[0m\u001b[0;34m:\u001b[0m\u001b[0;34m\u001b[0m\u001b[0;34m\u001b[0m\u001b[0m\n",
      "\u001b[0;31mTypeError\u001b[0m: Index does not support mutable operations"
     ]
    }
   ],
   "source": [
    "ind[1] = 0"
   ]
  },
  {
   "cell_type": "markdown",
   "id": "3b491e03-0aa7-4fd7-80e9-4e482903278f",
   "metadata": {},
   "source": [
    "### ``pandas.Index`` - упорядоченное множество"
   ]
  },
  {
   "cell_type": "code",
   "execution_count": 30,
   "id": "a7632480-8c69-4397-8894-db3406239934",
   "metadata": {},
   "outputs": [],
   "source": [
    "index_A = pd.Index([1, 3, 5, 7,  9])\n",
    "index_B = pd.Index([2, 3, 5, 7, 11])"
   ]
  },
  {
   "cell_type": "code",
   "execution_count": 31,
   "id": "dae482d5-2a52-413e-9eed-ab145b519ed7",
   "metadata": {},
   "outputs": [
    {
     "name": "stderr",
     "output_type": "stream",
     "text": [
      "/tmp/ipykernel_37934/391748823.py:1: FutureWarning: Index.__and__ operating as a set operation is deprecated, in the future this will be a logical operation matching Series.__and__.  Use index.intersection(other) instead.\n",
      "  index_A & index_B  # пересечение\n"
     ]
    },
    {
     "data": {
      "text/plain": [
       "Int64Index([3, 5, 7], dtype='int64')"
      ]
     },
     "execution_count": 31,
     "metadata": {},
     "output_type": "execute_result"
    }
   ],
   "source": [
    "index_A & index_B  # пересечение"
   ]
  },
  {
   "cell_type": "code",
   "execution_count": 32,
   "id": "14cc56de-9b6e-4de3-9e4b-0e3ab3084306",
   "metadata": {},
   "outputs": [
    {
     "name": "stderr",
     "output_type": "stream",
     "text": [
      "/tmp/ipykernel_37934/3091286000.py:1: FutureWarning: Index.__or__ operating as a set operation is deprecated, in the future this will be a logical operation matching Series.__or__.  Use index.union(other) instead.\n",
      "  index_A | index_B  # объединение\n"
     ]
    },
    {
     "data": {
      "text/plain": [
       "Int64Index([1, 2, 3, 5, 7, 9, 11], dtype='int64')"
      ]
     },
     "execution_count": 32,
     "metadata": {},
     "output_type": "execute_result"
    }
   ],
   "source": [
    "index_A | index_B  # объединение"
   ]
  },
  {
   "cell_type": "code",
   "execution_count": 33,
   "id": "ba5a9887-13ea-4517-bcec-72183e9080b6",
   "metadata": {},
   "outputs": [
    {
     "name": "stderr",
     "output_type": "stream",
     "text": [
      "/tmp/ipykernel_37934/429078548.py:1: FutureWarning: Index.__xor__ operating as a set operation is deprecated, in the future this will be a logical operation matching Series.__xor__.  Use index.symmetric_difference(other) instead.\n",
      "  index_A ^ index_B  # симметричная разность\n"
     ]
    },
    {
     "data": {
      "text/plain": [
       "Int64Index([1, 2, 9, 11], dtype='int64')"
      ]
     },
     "execution_count": 33,
     "metadata": {},
     "output_type": "execute_result"
    }
   ],
   "source": [
    "index_A ^ index_B  # симметричная разность"
   ]
  },
  {
   "cell_type": "markdown",
   "id": "70c811ca-a4aa-4685-8058-c939b0a6fb90",
   "metadata": {},
   "source": [
    "# Индексирование и извлечение данных"
   ]
  },
  {
   "cell_type": "markdown",
   "id": "aa9feed4-1dd3-47fe-b0cc-665da2ad8bcb",
   "metadata": {},
   "source": [
    "## Извлечение данных ``pandas.Series``"
   ]
  },
  {
   "cell_type": "markdown",
   "id": "b2fd75a3-9cfa-4c09-9333-c2ebe2b7b4e1",
   "metadata": {},
   "source": [
    "### ``pandas.Series`` - словарь\n",
    "Объект ``pandas.Series`` обеспечивает отображение коллекции ключей на коллекцию значений"
   ]
  },
  {
   "cell_type": "code",
   "execution_count": 34,
   "id": "ecbedee5-7f6c-4f11-9511-1013dae64b6d",
   "metadata": {},
   "outputs": [
    {
     "data": {
      "text/plain": [
       "a    0.25\n",
       "b    0.50\n",
       "c    0.75\n",
       "d    1.00\n",
       "dtype: float64"
      ]
     },
     "execution_count": 34,
     "metadata": {},
     "output_type": "execute_result"
    }
   ],
   "source": [
    "data = pd.Series([0.25, 0.5, 0.75, 1.0], index=['a', 'b', 'c', 'd'])\n",
    "data"
   ]
  },
  {
   "cell_type": "code",
   "execution_count": 35,
   "id": "6b9119db-3d9b-4f4a-aae6-aff8364c26e3",
   "metadata": {},
   "outputs": [
    {
     "data": {
      "text/plain": [
       "0.5"
      ]
     },
     "execution_count": 35,
     "metadata": {},
     "output_type": "execute_result"
    }
   ],
   "source": [
    "data['b']"
   ]
  },
  {
   "cell_type": "markdown",
   "id": "72a6ad3b-6da4-46b6-89c9-57185fe264f7",
   "metadata": {},
   "source": [
    "Методы и выражения для обработки ключей/индексов и значений в *dictionary-like* стиле"
   ]
  },
  {
   "cell_type": "code",
   "execution_count": 36,
   "id": "61bd2c83-4d9d-44be-a8ef-517c7142d597",
   "metadata": {},
   "outputs": [
    {
     "data": {
      "text/plain": [
       "True"
      ]
     },
     "execution_count": 36,
     "metadata": {},
     "output_type": "execute_result"
    }
   ],
   "source": [
    "'a' in data"
   ]
  },
  {
   "cell_type": "code",
   "execution_count": 37,
   "id": "decfbf0b-2b4e-4d7d-b258-8b95b2cceae0",
   "metadata": {},
   "outputs": [
    {
     "data": {
      "text/plain": [
       "Index(['a', 'b', 'c', 'd'], dtype='object')"
      ]
     },
     "execution_count": 37,
     "metadata": {},
     "output_type": "execute_result"
    }
   ],
   "source": [
    "data.keys()"
   ]
  },
  {
   "cell_type": "code",
   "execution_count": 38,
   "id": "4ce2fe69-ef3c-428f-8b1f-27523261e75b",
   "metadata": {},
   "outputs": [
    {
     "data": {
      "text/plain": [
       "a    0.25\n",
       "b    0.50\n",
       "c    0.75\n",
       "d    1.00\n",
       "e    1.25\n",
       "dtype: float64"
      ]
     },
     "execution_count": 38,
     "metadata": {},
     "output_type": "execute_result"
    }
   ],
   "source": [
    "data['e'] = 1.25\n",
    "data"
   ]
  },
  {
   "cell_type": "markdown",
   "id": "4149e6e1-9942-4df0-9c90-c6d467285000",
   "metadata": {},
   "source": [
    "### ``pandas.Series`` - одномерный массив\n",
    "\n",
    "``pandas.Series`` объект обеспечивает выбор элементов в стиле массива с помощью тех же основных механизмов, что и массивы NumPy - то есть, *slices (сечения)*, *masking (маскирование)*, and *fancy indexing*."
   ]
  },
  {
   "cell_type": "code",
   "execution_count": 39,
   "id": "12b63e5e-eb45-448b-8bb0-8a39d705cea0",
   "metadata": {},
   "outputs": [
    {
     "data": {
      "text/plain": [
       "a    0.25\n",
       "b    0.50\n",
       "c    0.75\n",
       "dtype: float64"
      ]
     },
     "execution_count": 39,
     "metadata": {},
     "output_type": "execute_result"
    }
   ],
   "source": [
    "data['a':'c']"
   ]
  },
  {
   "cell_type": "code",
   "execution_count": 40,
   "id": "589173eb-6793-4e60-91f0-51c27389e5f8",
   "metadata": {},
   "outputs": [
    {
     "data": {
      "text/plain": [
       "a    0.25\n",
       "b    0.50\n",
       "dtype: float64"
      ]
     },
     "execution_count": 40,
     "metadata": {},
     "output_type": "execute_result"
    }
   ],
   "source": [
    "data[0:2]"
   ]
  },
  {
   "cell_type": "code",
   "execution_count": 41,
   "id": "573569a5-3232-48dd-b304-35a6518c1210",
   "metadata": {},
   "outputs": [
    {
     "data": {
      "text/plain": [
       "b    0.50\n",
       "c    0.75\n",
       "dtype: float64"
      ]
     },
     "execution_count": 41,
     "metadata": {},
     "output_type": "execute_result"
    }
   ],
   "source": [
    "data[(data > 0.3) & (data < 0.8)]"
   ]
  },
  {
   "cell_type": "code",
   "execution_count": 42,
   "id": "f2b436ef-1dfb-4277-8430-e69738d7fc23",
   "metadata": {},
   "outputs": [
    {
     "data": {
      "text/plain": [
       "a    0.25\n",
       "e    1.25\n",
       "dtype: float64"
      ]
     },
     "execution_count": 42,
     "metadata": {},
     "output_type": "execute_result"
    }
   ],
   "source": [
    "data[['a', 'e']]"
   ]
  },
  {
   "cell_type": "markdown",
   "id": "2b0cb0ee-6e5d-42fe-b9cc-4d857348eec5",
   "metadata": {},
   "source": [
    "### Indexers: loc и iloc\n",
    "\n",
    "Рассмотрим следующий пример: ``pandas.Series`` имеет явный целочисленный индекс, операция индексирования, такая как ``data[1]``, будет использовать явный индекс, а операция сечения, такая как ``data[1:3]``, будет использовать неявный индекс в стиле Python."
   ]
  },
  {
   "cell_type": "code",
   "execution_count": 47,
   "id": "de5f3b10-8e21-4ab3-8e35-c25548e20602",
   "metadata": {},
   "outputs": [
    {
     "data": {
      "text/plain": [
       "1    a\n",
       "3    b\n",
       "5    c\n",
       "dtype: object"
      ]
     },
     "execution_count": 47,
     "metadata": {},
     "output_type": "execute_result"
    }
   ],
   "source": [
    "data = pd.Series(['a', 'b', 'c'], index=[1, 3, 5])\n",
    "data"
   ]
  },
  {
   "cell_type": "code",
   "execution_count": 48,
   "id": "f6bbd764-55a0-4439-922f-02e58da53f9d",
   "metadata": {},
   "outputs": [
    {
     "data": {
      "text/plain": [
       "'a'"
      ]
     },
     "execution_count": 48,
     "metadata": {},
     "output_type": "execute_result"
    }
   ],
   "source": [
    "# explicit index when indexing\n",
    "data[1]"
   ]
  },
  {
   "cell_type": "code",
   "execution_count": 49,
   "id": "034d280e-52d3-41e8-823e-53658564a49e",
   "metadata": {},
   "outputs": [
    {
     "data": {
      "text/plain": [
       "3    b\n",
       "5    c\n",
       "dtype: object"
      ]
     },
     "execution_count": 49,
     "metadata": {},
     "output_type": "execute_result"
    }
   ],
   "source": [
    "# implicit index when slicing\n",
    "data[1:3]"
   ]
  },
  {
   "cell_type": "markdown",
   "id": "e99f9ce2-8570-42c1-b0b6-9fe646c83f15",
   "metadata": {},
   "source": [
    "Поскольку в случае использования целочисленных индексов возникает потенциальная путаница, ``Pandas`` предоставляет некоторые специальные атрибуты *indexer*, которые явно раскрывают определенные схемы индексирования.\n",
    "Это не функциональные методы, а атрибуты, которые открывают определенный интерфейс доступа к данным в ``pandas.Series``.\n",
    "Во-первых, атрибут ``loc`` позволяет индексировать и нарезать данные, которые всегда ссылаются на явный индекс объекта"
   ]
  },
  {
   "cell_type": "code",
   "execution_count": 50,
   "id": "d9c97f95-28e1-41db-b967-d57962d165c6",
   "metadata": {},
   "outputs": [
    {
     "data": {
      "text/plain": [
       "'a'"
      ]
     },
     "execution_count": 50,
     "metadata": {},
     "output_type": "execute_result"
    }
   ],
   "source": [
    "data.loc[1]"
   ]
  },
  {
   "cell_type": "code",
   "execution_count": 51,
   "id": "9127967e-78d1-4038-b0d3-f8246d4be8d5",
   "metadata": {},
   "outputs": [
    {
     "data": {
      "text/plain": [
       "1    a\n",
       "3    b\n",
       "dtype: object"
      ]
     },
     "execution_count": 51,
     "metadata": {},
     "output_type": "execute_result"
    }
   ],
   "source": [
    "data.loc[1:3]"
   ]
  },
  {
   "cell_type": "markdown",
   "id": "20f746c3-d52e-4fbf-adb0-28ed3250fe85",
   "metadata": {},
   "source": [
    "Атрибут ``iloc`` позволяет индексировать и нарезать, используя индекс в стиле Python"
   ]
  },
  {
   "cell_type": "code",
   "execution_count": null,
   "id": "8f7915a6-7819-46fa-8cf1-040bbce3fb3a",
   "metadata": {},
   "outputs": [],
   "source": [
    "data.iloc[1]"
   ]
  },
  {
   "cell_type": "code",
   "execution_count": null,
   "id": "95b70b0a-12f3-409a-8afa-19ab7f7bf991",
   "metadata": {},
   "outputs": [],
   "source": [
    "data.iloc[1:3]"
   ]
  },
  {
   "cell_type": "markdown",
   "id": "9f70ee49-510b-469c-bacf-b54f47e015ec",
   "metadata": {},
   "source": [
    "## Извлечение данных ``pandas.DataFrame``\n",
    "\n",
    "Напомним, что ``pandas.DataFrame`` во многом похож на двумерный или структурированный массив, а в чем-то - на словарь структур ``pandas.Series``, имеющих один и тот же индекс."
   ]
  },
  {
   "cell_type": "markdown",
   "id": "a18060cc-6093-4971-b7a3-891d80b96504",
   "metadata": {},
   "source": [
    "### ``pandas.DataFrame`` - словарь"
   ]
  },
  {
   "cell_type": "code",
   "execution_count": null,
   "id": "8f2be109-0fcb-4d7a-b405-de1385b37e17",
   "metadata": {},
   "outputs": [],
   "source": [
    "area = pd.Series({'California': 423967  ,'Texas': 695662  ,'New York': 141297  , 'Florida': 170312  ,'Illinois': 149995  })\n",
    "pop  = pd.Series({'California': 38332521,'Texas': 26448193,'New York': 19651127, 'Florida': 19552860,'Illinois': 12882135})\n",
    "data = pd.DataFrame({'area':area, 'pop':pop})\n",
    "data"
   ]
  },
  {
   "cell_type": "markdown",
   "id": "dda342b0-769c-48ff-805a-500b6a43c588",
   "metadata": {},
   "source": [
    "Доступ к отдельным ``pandas.Series'', составляющим столбцы ``pandas.DataFrame``, можно получить с помощью индексации по названию столбца в стиле словаря"
   ]
  },
  {
   "cell_type": "code",
   "execution_count": null,
   "id": "745bf7b9-62b9-4136-95d5-4ba6e66ed517",
   "metadata": {},
   "outputs": [],
   "source": [
    "data['area']"
   ]
  },
  {
   "cell_type": "code",
   "execution_count": null,
   "id": "0e9e6f75-bbae-4b67-82a2-ee25f7c519b1",
   "metadata": {},
   "outputs": [],
   "source": [
    "data.area"
   ]
  },
  {
   "cell_type": "code",
   "execution_count": null,
   "id": "64dec50d-06d8-4e8d-8e5c-3804f90cc490",
   "metadata": {},
   "outputs": [],
   "source": [
    "data.area is data['area']"
   ]
  },
  {
   "cell_type": "code",
   "execution_count": null,
   "id": "6b17d690-c00a-4e22-b7f2-6e25e24fd962",
   "metadata": {},
   "outputs": [],
   "source": [
    "data.pop is data['pop']"
   ]
  },
  {
   "cell_type": "code",
   "execution_count": null,
   "id": "aafede4c-edda-4223-a369-a75789f86f78",
   "metadata": {},
   "outputs": [],
   "source": [
    "data['density'] = data['pop'] / data['area']\n",
    "data"
   ]
  },
  {
   "cell_type": "markdown",
   "id": "efca50e0-a039-4d0d-bfc3-543ef4891baa",
   "metadata": {},
   "source": [
    "### ``pandas.DataFrame`` - двумерный массив\n",
    "\n",
    "Можно изучить массив данных, используя атрибут ``values''"
   ]
  },
  {
   "cell_type": "code",
   "execution_count": null,
   "id": "33ae67b5-4fe7-4c10-8b99-e8209503bd85",
   "metadata": {},
   "outputs": [],
   "source": [
    "data.values"
   ]
  },
  {
   "cell_type": "markdown",
   "id": "8258e9a5-05c3-4bb1-b668-4243f72ee22b",
   "metadata": {},
   "source": [
    "Можно транспонировать ``pandas.DataFrame`` , поменять местами строки и столбцы"
   ]
  },
  {
   "cell_type": "code",
   "execution_count": null,
   "id": "f68bd2cd-0142-4d1f-9453-f565a4768d1c",
   "metadata": {},
   "outputs": [],
   "source": [
    "data.T"
   ]
  },
  {
   "cell_type": "markdown",
   "id": "93eebb95-2fbe-492f-9551-adc9a481fa46",
   "metadata": {},
   "source": [
    "``pandas.DataFrame`` индексация столбцов в стиле словаря не позволяет нам просто обращаться с данными, как с массивами NumPy. "
   ]
  },
  {
   "cell_type": "markdown",
   "id": "219c01d8-0f43-442b-a616-0fffe20b6523",
   "metadata": {},
   "source": [
    "Передача одного индекса в массив дает доступ к строке"
   ]
  },
  {
   "cell_type": "code",
   "execution_count": null,
   "id": "94c79648-68b1-49f8-a5ab-bbd927b14280",
   "metadata": {},
   "outputs": [],
   "source": [
    "data.values[0]"
   ]
  },
  {
   "cell_type": "markdown",
   "id": "e6d88974-ba41-4dda-8328-bfafe155b7f6",
   "metadata": {},
   "source": [
    "Передача единственного \"индекса\" в ``pandas,DataFrame`` обеспечивает доступ к столбцу"
   ]
  },
  {
   "cell_type": "code",
   "execution_count": null,
   "id": "e7513437-b720-4990-ab62-be2ace38909c",
   "metadata": {},
   "outputs": [],
   "source": [
    "data['area']"
   ]
  },
  {
   "cell_type": "markdown",
   "id": "a77cd6a4-5021-40a1-b49b-b92d8fff0a83",
   "metadata": {},
   "source": [
    "Таким образом, для индексации в стиле массива нам требуется другое соглашение.\n",
    "Здесь Pandas снова использует индексаторы ``loc``, ``iloc``.\n",
    "Используя индексатор ``iloc``, мы можем индексировать базовый массив, как если бы это был простой массив NumPy (используя неявный индекс в стиле Python), но индекс ``DataFrame`` и метки столбцов сохраняются в результате"
   ]
  },
  {
   "cell_type": "code",
   "execution_count": null,
   "id": "b6b91e20-0d7a-4a42-893b-9cf44be95903",
   "metadata": {},
   "outputs": [],
   "source": [
    "data.iloc[:3, :2]"
   ]
  },
  {
   "cell_type": "code",
   "execution_count": null,
   "id": "a0957b94-fb0b-411f-80db-7d8ab96bef26",
   "metadata": {},
   "outputs": [],
   "source": [
    "data.loc[:'Illinois', :'pop']"
   ]
  },
  {
   "cell_type": "code",
   "execution_count": null,
   "id": "17c1b2a8-73f4-4062-92b3-3d79a6c2e595",
   "metadata": {},
   "outputs": [],
   "source": [
    "data.loc[data.density > 100, ['pop', 'density']]"
   ]
  },
  {
   "cell_type": "code",
   "execution_count": null,
   "id": "4012415e-92b2-4869-9c6f-2ea0e5511447",
   "metadata": {},
   "outputs": [],
   "source": [
    "data.iloc[0, 2] = 90\n",
    "data"
   ]
  },
  {
   "cell_type": "markdown",
   "id": "101167f3-6e09-46dc-98e8-9d534394eb45",
   "metadata": {},
   "source": [
    "### Дополнительные соглашения об индексации"
   ]
  },
  {
   "cell_type": "markdown",
   "id": "7d155485-2a1c-4122-8ad8-ddb94ad09db4",
   "metadata": {},
   "source": [
    "Существует несколько дополнительных соглашений по индексированию, которые могут показаться противоречащими предыдущему обсуждению, но, тем не менее, могут быть очень полезны на практике.\n",
    "Во-первых, в то время как *indexing (индексирование)* относится к столбцам, *slicing (сечение)* относится к строкам"
   ]
  },
  {
   "cell_type": "code",
   "execution_count": null,
   "id": "c4e38e54-8ea8-4f09-9652-9e6f42c65f85",
   "metadata": {},
   "outputs": [],
   "source": [
    "data['Florida':'Illinois']"
   ]
  },
  {
   "cell_type": "code",
   "execution_count": null,
   "id": "68597e26-b6e2-4319-88d2-2a8418119185",
   "metadata": {},
   "outputs": [],
   "source": [
    "data[1:3]"
   ]
  },
  {
   "cell_type": "markdown",
   "id": "d7b4ccc3-92bb-4766-8491-9a30b8f919d3",
   "metadata": {},
   "source": [
    "Операции маскирования также интерпретируются по строкам, а не по столбцам"
   ]
  },
  {
   "cell_type": "code",
   "execution_count": null,
   "id": "7fa3606a-1c32-4532-be05-84a19e977dae",
   "metadata": {},
   "outputs": [],
   "source": [
    "data[data.density > 100]"
   ]
  },
  {
   "cell_type": "markdown",
   "id": "4966c538-be1d-4dda-a6b8-11d91b5b2700",
   "metadata": {},
   "source": [
    "# Работа с данными в Pandas\n",
    "\n",
    "Одним из важнейших элементов NumPy является возможность быстрого выполнения операций с элементами, как с базовой арифметикой (сложение, вычитание, умножение и т.д.), так и с более сложными операциями (тригонометрические функции, экспоненциальные и логарифмические функции и т.д.).\n",
    "Pandas унаследовал большую часть этой функциональности от NumPy, а Ufuncs, являются ключом к этому.\n",
    "\n",
    "Однако Pandas включает в себя пару полезных поворотов: для унарных операций, таких как отрицание и тригонометрические функции, эти Ufuncs будут *сохранять метки индексов и столбцов* на выходе, а для бинарных операций, таких как сложение и умножение, Pandas будет автоматически *выравнивать индексы* при передаче объектов в ufunc.\n",
    "Это означает, что сохранение контекста данных и объединение данных из разных источников - обе потенциально опасные задачи с необработанными массивами NumPy - становятся практически безошибочными с Pandas.\n",
    "Кроме того, мы увидим, что существуют четко определенные операции между одномерными структурами ``Series'' и двумерными структурами ``DataFrame''."
   ]
  },
  {
   "cell_type": "markdown",
   "id": "add930aa-9ddb-4c04-9a63-1f6cafa9a31e",
   "metadata": {},
   "source": [
    "## Ufuncs: Сохранение индексов\n",
    "\n",
    "Поскольку Pandas разработан для работы с NumPy, любая Ufunc NumPy будет работать с объектами Pandas ``pandas.Series`` и ``pandas.DataFrame``.\n",
    "Определим простые ``pandas.Series`` и ``pandas.DataFrame``"
   ]
  },
  {
   "cell_type": "code",
   "execution_count": null,
   "id": "88a07756-d376-414f-8777-7085bbcda999",
   "metadata": {},
   "outputs": [],
   "source": [
    "rng = np.random.RandomState(42)\n",
    "ser = pd.Series(rng.randint(0, 10, 4))\n",
    "ser"
   ]
  },
  {
   "cell_type": "code",
   "execution_count": null,
   "id": "f8e9a8a0-c6b2-476c-859f-f7470ef3998a",
   "metadata": {},
   "outputs": [],
   "source": [
    "df = pd.DataFrame(rng.randint(0, 10, (3, 4)), columns=['A', 'B', 'C', 'D'])\n",
    "df"
   ]
  },
  {
   "cell_type": "code",
   "execution_count": null,
   "id": "12fb6df4-3b6f-4356-b269-b73ff527edd2",
   "metadata": {},
   "outputs": [],
   "source": [
    "np.exp(ser)"
   ]
  },
  {
   "cell_type": "code",
   "execution_count": null,
   "id": "1cddde32-56b0-4931-ab82-d87d94e6e819",
   "metadata": {},
   "outputs": [],
   "source": [
    "np.sin(df * np.pi / 4)"
   ]
  },
  {
   "cell_type": "markdown",
   "id": "d91869b7-9863-49c0-94bb-33264823b0c1",
   "metadata": {},
   "source": [
    "## UFuncs: Выравнивание индексов\n",
    "\n",
    "Для бинарных операций над двумя объектами ``pandas.Series`` или ``pandas.DataFrame`` Pandas выравнивает индексы в процессе выполнения операции.\n",
    "Это очень удобно при работе с неполными данными."
   ]
  },
  {
   "cell_type": "markdown",
   "id": "7fa60ad4-51ec-4d7e-824c-5aeb3bbf4d36",
   "metadata": {},
   "source": [
    "### Выравнивание индекса ``pandas.Series``"
   ]
  },
  {
   "cell_type": "code",
   "execution_count": null,
   "id": "1074fada-df68-4c05-9e20-0dd7c0c6ce53",
   "metadata": {},
   "outputs": [],
   "source": [
    "area       = pd.Series({'Alaska': 1723337, 'Texas': 695662, 'California': 423967}, name='area')\n",
    "population = pd.Series({'California': 38332521, 'Texas': 26448193, 'New York': 19651127}, name='population')"
   ]
  },
  {
   "cell_type": "code",
   "execution_count": null,
   "id": "c510d404-afc5-470d-bda0-36fdedeb4b31",
   "metadata": {},
   "outputs": [],
   "source": [
    "population / area"
   ]
  },
  {
   "cell_type": "code",
   "execution_count": null,
   "id": "4d51d169-a3f1-4097-be41-d845d3578cb6",
   "metadata": {},
   "outputs": [],
   "source": [
    "area.index | population.index"
   ]
  },
  {
   "cell_type": "code",
   "execution_count": null,
   "id": "4a373094-17a4-4aeb-ac92-7a01d21ac308",
   "metadata": {},
   "outputs": [],
   "source": [
    "A = pd.Series([2, 4, 6], index=[0, 1, 2])\n",
    "B = pd.Series([1, 3, 5], index=[1, 2, 3])\n",
    "A + B"
   ]
  },
  {
   "cell_type": "code",
   "execution_count": null,
   "id": "7451322c-6fe4-479d-a06e-996807f9ab2c",
   "metadata": {},
   "outputs": [],
   "source": [
    "A.add(B, fill_value=0)"
   ]
  },
  {
   "cell_type": "markdown",
   "id": "c710fee5-127c-45fc-b91f-d6816f702104",
   "metadata": {},
   "source": [
    "### Выравнивание индекса ``pandas.DataFrame``"
   ]
  },
  {
   "cell_type": "code",
   "execution_count": null,
   "id": "519ffd3e-e744-44b9-8594-acc973ba878f",
   "metadata": {},
   "outputs": [],
   "source": [
    "A = pd.DataFrame(rng.randint(0, 20, (2, 2)), columns=list('AB'))\n",
    "A"
   ]
  },
  {
   "cell_type": "code",
   "execution_count": null,
   "id": "e6ba9dbc-e8f6-4927-bae1-df8f5b9c9e67",
   "metadata": {},
   "outputs": [],
   "source": [
    "B = pd.DataFrame(rng.randint(0, 10, (3, 3)), columns=list('BAC'))\n",
    "B"
   ]
  },
  {
   "cell_type": "code",
   "execution_count": null,
   "id": "2dd5caff-9657-4d48-b184-fca5657849a3",
   "metadata": {},
   "outputs": [],
   "source": [
    "A + B"
   ]
  },
  {
   "cell_type": "code",
   "execution_count": null,
   "id": "7ebc6f4e-ea5b-458b-a338-2ba4bf687893",
   "metadata": {},
   "outputs": [],
   "source": [
    "fill = A.stack().mean()\n",
    "A.add(B, fill_value=fill)"
   ]
  },
  {
   "cell_type": "markdown",
   "id": "fa749567-4bbd-4720-9d2c-dc72bed0f2f0",
   "metadata": {},
   "source": [
    "| Python Operator | Pandas Method(s)                      |\n",
    "|-----------------|---------------------------------------|\n",
    "| ``+``           | ``add()``                             |\n",
    "| ``-``           | ``sub()``, ``subtract()``             |\n",
    "| ``*``           | ``mul()``, ``multiply()``             |\n",
    "| ``/``           | ``truediv()``, ``div()``, ``divide()``|\n",
    "| ``//``          | ``floordiv()``                        |\n",
    "| ``%``           | ``mod()``                             |\n",
    "| ``**``          | ``pow()``                             |\n"
   ]
  },
  {
   "cell_type": "markdown",
   "id": "2c607bb6-2a29-4028-9039-20041016ef04",
   "metadata": {},
   "source": [
    "## Ufuncs: Операции между ``pandas.DataFrame`` и ``pandas.Series``\n",
    "\n",
    "При выполнении операций между ``pandas.DataFrame`` и ``pandas.Series`` аналогично сохраняется выравнивание индексов и столбцов.\n",
    "Операции между ``pandas.DataFrame`` и ``pandas.Series`` похожи на операции между двумерным и одномерным массивом NumPy.\n",
    "Рассмотрим одну общую операцию, в которой мы находим разность двумерного массива и одной из его строк:"
   ]
  },
  {
   "cell_type": "code",
   "execution_count": null,
   "id": "7650f77c-109e-4ae6-956c-a7ef18524d43",
   "metadata": {},
   "outputs": [],
   "source": [
    "A = rng.randint(10, size=(3, 4))\n",
    "A"
   ]
  },
  {
   "cell_type": "code",
   "execution_count": null,
   "id": "92e87bf9-e659-4ea9-8058-f0fdc14e697f",
   "metadata": {},
   "outputs": [],
   "source": [
    "A - A[0]"
   ]
  },
  {
   "cell_type": "code",
   "execution_count": null,
   "id": "704d4673-e852-4caf-9b1e-ab919a63f14c",
   "metadata": {},
   "outputs": [],
   "source": [
    "df = pd.DataFrame(A, columns=list('QRST'))\n",
    "df - df.iloc[0]"
   ]
  },
  {
   "cell_type": "code",
   "execution_count": null,
   "id": "a63d4397-57e2-4d32-86ab-4fd51fd181e5",
   "metadata": {},
   "outputs": [],
   "source": [
    "df.subtract(df['R'], axis=0)"
   ]
  },
  {
   "cell_type": "code",
   "execution_count": null,
   "id": "44dc78b1-7c7d-464a-acd6-dd709957b8d2",
   "metadata": {},
   "outputs": [],
   "source": [
    "halfrow = df.iloc[0, ::2]\n",
    "halfrow"
   ]
  },
  {
   "cell_type": "code",
   "execution_count": null,
   "id": "775b0c34-e484-416e-a0f7-c19fcb5dc614",
   "metadata": {},
   "outputs": [],
   "source": [
    "df - halfrow"
   ]
  },
  {
   "cell_type": "markdown",
   "id": "63381811-6aac-4448-8334-a837077ee8aa",
   "metadata": {},
   "source": [
    "# Обработка пропущенных значений (NA)"
   ]
  },
  {
   "cell_type": "markdown",
   "id": "291facab-12a3-4f4d-ab9c-6f8d8f807732",
   "metadata": {},
   "source": [
    "Реальные данные редко бывают чистыми и однородными, во многих интересных наборах данных некоторое количество данных отсутствует.\n",
    "Ситуацию усложняет то, что разные источники данных могут по-разному указывать на отсутствие данных. "
   ]
  },
  {
   "cell_type": "markdown",
   "id": "a7ceb7c5-aa7a-4388-b994-2b144f2741f7",
   "metadata": {},
   "source": [
    "### NaN и None в библиотеке Pandas\n",
    "\n",
    "Библиотека Pandas позволяет работать с ``NaN`` и ``None`` почти взаимозаменяемо."
   ]
  },
  {
   "cell_type": "code",
   "execution_count": null,
   "id": "658ae75f-eae3-44f6-aadf-2ed1f3714141",
   "metadata": {},
   "outputs": [],
   "source": [
    "pd.Series([1, np.nan, 2, None])"
   ]
  },
  {
   "cell_type": "code",
   "execution_count": null,
   "id": "fb441e8d-f016-4eef-bfb8-6e6052078fd6",
   "metadata": {},
   "outputs": [],
   "source": [
    "x = pd.Series(range(2), dtype=int)\n",
    "x"
   ]
  },
  {
   "cell_type": "code",
   "execution_count": null,
   "id": "68ffcb3d-796c-4b7a-a10d-783f345c03d3",
   "metadata": {},
   "outputs": [],
   "source": [
    "x[0] = None\n",
    "x"
   ]
  },
  {
   "cell_type": "markdown",
   "id": "d0cebef1-48f5-42e7-9b98-e16c7522e86c",
   "metadata": {},
   "source": [
    "В следующей таблице перечислены соглашения о преобразовании в Pandas, когда вводятся NA значениями.\n",
    "\n",
    "| Класс типов  | Преобразование при хранении NA-значений | Значение-индикатор NA  |\n",
    "|--------------|-----------------------------------------|------------------------|\n",
    "| ``floating`` | Без изменений                           | ``np.nan``             |\n",
    "| ``object``   | Без изменений                           | ``None`` или ``np.nan``|\n",
    "| ``integer``  | Приводится к ``float64``                | ``np.nan``             |\n",
    "| ``boolean``  | Приводится к ``object``                 | ``None`` или ``np.nan``|"
   ]
  },
  {
   "cell_type": "markdown",
   "id": "1fe32a66-e261-4ba1-9745-4a2cec923ddc",
   "metadata": {},
   "source": [
    "## Обработка пропущенных значений (NA значений)\n",
    "\n",
    "Pandas рассматривает None и NaN как практически взаимозаменяемые для обозначения NA-значений и предлагает несколько полезных методов для обнаружения, удаления и замены NA-значений.\n",
    "\n",
    "- ``isnull()`` : создает булеву маску для отсутствующих значений.\n",
    "- ``notnull()``: противоположность метода ``isnull()``\n",
    "- ``dropna()`` : возвращает отфильтрованный набор данных.\n",
    "- ``fillna()`` : возвращает набор данных, в котором пропущенные значения заполнены нектоторым значением."
   ]
  },
  {
   "cell_type": "markdown",
   "id": "1158ab45-c760-46df-aaaf-a17be69f72d4",
   "metadata": {},
   "source": [
    "### Выявление NA значений"
   ]
  },
  {
   "cell_type": "code",
   "execution_count": null,
   "id": "9231da33-c68d-4793-b949-010e0259aaca",
   "metadata": {},
   "outputs": [],
   "source": [
    "data = pd.Series([1, np.nan, 2, None, 3], index=list('abcde'))\n",
    "data"
   ]
  },
  {
   "cell_type": "code",
   "execution_count": null,
   "id": "f9391d68-fa6c-4c65-9e7b-1cb8f37b8f60",
   "metadata": {},
   "outputs": [],
   "source": [
    "data.isnull()"
   ]
  },
  {
   "cell_type": "code",
   "execution_count": null,
   "id": "09d0b97a-9fb1-46e5-af15-006f4a021970",
   "metadata": {},
   "outputs": [],
   "source": [
    "data[data.notnull()]"
   ]
  },
  {
   "cell_type": "markdown",
   "id": "128ae6da-57cc-4935-8592-598ef6c74094",
   "metadata": {},
   "source": [
    "### Удаление NA значений"
   ]
  },
  {
   "cell_type": "code",
   "execution_count": null,
   "id": "f65baa8e-9420-4371-821e-7d7a83b8051c",
   "metadata": {},
   "outputs": [],
   "source": [
    "data.dropna()"
   ]
  },
  {
   "cell_type": "markdown",
   "id": "836e16b8-799b-40e4-b54e-dc59122ba654",
   "metadata": {},
   "source": [
    "Нельзя выбросить из DataFrame отдельные значения, только строки либо столбцы полностью."
   ]
  },
  {
   "cell_type": "code",
   "execution_count": null,
   "id": "02b50642-19e4-428c-ae03-b89937f3c629",
   "metadata": {},
   "outputs": [],
   "source": [
    "df = pd.DataFrame(\n",
    "    [[1,      np.nan,      3,  4,      5],\n",
    "     [6,           7,      8,  9,     10],\n",
    "     [np.nan,     12,     13, 14,     15],\n",
    "     [16    ,     17,     18, 19,     20],\n",
    "     [np.nan,     22, np.nan, 24, np.nan]\n",
    "    \n",
    "    ]\n",
    ")\n",
    "df"
   ]
  },
  {
   "cell_type": "code",
   "execution_count": null,
   "id": "ebd3af56-7ec1-4ebc-a339-77cb035a84db",
   "metadata": {},
   "outputs": [],
   "source": [
    "df.dropna(axis=0)"
   ]
  },
  {
   "cell_type": "code",
   "execution_count": null,
   "id": "381af8b4-7298-45b6-a895-bc2849ba3bf6",
   "metadata": {},
   "outputs": [],
   "source": [
    "df.dropna(axis=1)"
   ]
  },
  {
   "cell_type": "markdown",
   "id": "341f18f7-6273-4c79-b4d8-8d08c0918825",
   "metadata": {},
   "source": [
    "Иногда требуется отбросить строки или столбцы согласно дополнительного условия, строка или столбец содержит только NA значения, либо некоторое количество.\n",
    "Такое поведение можно задать с помощью параметров how и thresh, обеспечивающих точный контроль допустимого количества пустых значений."
   ]
  },
  {
   "cell_type": "code",
   "execution_count": null,
   "id": "6cbe03d4-206e-4175-a99c-723adc6fa5a9",
   "metadata": {},
   "outputs": [],
   "source": [
    "df.dropna(axis='columns', how='all')"
   ]
  },
  {
   "cell_type": "code",
   "execution_count": null,
   "id": "e393bd9c-7833-4d30-8441-08e1930bcdc8",
   "metadata": {},
   "outputs": [],
   "source": [
    "df.dropna(axis='rows', thresh=3)"
   ]
  },
  {
   "cell_type": "markdown",
   "id": "f6e70eed-fb08-4a8d-85b6-938a7098a081",
   "metadata": {},
   "source": [
    "### Заполнение NA значений\n",
    "\n",
    "Иногда предпочтительнее вместо отбрасывания NA значений заполнить их каким-то допустимым значением. \n",
    "Это значение может быть фиксированным, например нулем, либо интерполированным, а также восстановленным на основе «хороших» данных значением.\n",
    "Библиотека Pandas предоставляет метод ``fillna()``, который возвращает копию данных с замененными NA значениями."
   ]
  },
  {
   "cell_type": "code",
   "execution_count": null,
   "id": "356cb7ef-1a4b-4ea8-8c61-29a1fd553cde",
   "metadata": {},
   "outputs": [],
   "source": [
    "data = pd.Series([1, np.nan, 2, None, 3], index=list('abcde'))\n",
    "data"
   ]
  },
  {
   "cell_type": "code",
   "execution_count": null,
   "id": "78914c90-d520-4ab3-b099-c32b308f19c8",
   "metadata": {},
   "outputs": [],
   "source": [
    "data.fillna(0)"
   ]
  },
  {
   "cell_type": "markdown",
   "id": "2efc490b-6abc-404d-a69f-182116c2a7cf",
   "metadata": {},
   "source": [
    "Можно задать параметр заполнения по направлению «вперед», копируя предыдущее значение в следующую ячейку."
   ]
  },
  {
   "cell_type": "code",
   "execution_count": null,
   "id": "d8aed7da-86bf-4332-bfc0-3719d1d383d3",
   "metadata": {},
   "outputs": [],
   "source": [
    "data.fillna(method='ffill')"
   ]
  },
  {
   "cell_type": "markdown",
   "id": "ee67914c-acdf-4fa9-a34f-4514be5ae1a7",
   "metadata": {},
   "source": [
    "Можно задать параметр заполнения по направлению «назад», копируя следующее значение в предыдущую ячейку."
   ]
  },
  {
   "cell_type": "code",
   "execution_count": null,
   "id": "c1c3f3c5-9632-451b-8c87-0e7d09bf08fe",
   "metadata": {},
   "outputs": [],
   "source": [
    "data.fillna(method='bfill')"
   ]
  },
  {
   "cell_type": "markdown",
   "id": "52b6118d-95b1-4282-a482-33f45b335399",
   "metadata": {},
   "source": [
    "Для объектов ``pandas.DataFrame`` можно задать ось вдоль которой будет выполняться заполнение."
   ]
  },
  {
   "cell_type": "code",
   "execution_count": null,
   "id": "0006696c-f4af-46a0-b865-b5ae10bf4a60",
   "metadata": {},
   "outputs": [],
   "source": [
    "df.fillna(method='ffill', axis=1)"
   ]
  },
  {
   "cell_type": "markdown",
   "id": "1ca0c44a-3e4d-4cc5-8161-4c097994c320",
   "metadata": {},
   "source": [
    "# Иерархическая индексация"
   ]
  },
  {
   "cell_type": "markdown",
   "id": "29922f54-8146-487d-a35d-bdc6cafd128e",
   "metadata": {},
   "source": [
    "Мы рассмотрели одномерные и двумерные данные, находящиеся в объектах ``pandas.Series`` и ``pandas.DataFrame``. \n",
    "Иногда требуется хранить и обрабатывать многомерные данные, то есть данные, индексированные по более чем двум ключам. \n",
    "Для этого используется иерархическая индексация (hierarchical indexing), или мультииндексация (multi-indexing), для включения в один индекс нескольких уровней. При этом многомерные данные могут быть компактно представлены в объектах ``pandas.Series`` и ``pandas.DataFrame``."
   ]
  },
  {
   "cell_type": "markdown",
   "id": "6b25adb3-e51f-4550-9ec8-94526649fa38",
   "metadata": {},
   "source": [
    "## Мультииндексированный объект ``pandas.Series``"
   ]
  },
  {
   "cell_type": "code",
   "execution_count": 58,
   "id": "3a4d6598-a494-4318-b073-c001a304088d",
   "metadata": {},
   "outputs": [
    {
     "data": {
      "text/plain": [
       "(California, 2000)    33871648\n",
       "(California, 2010)    37253956\n",
       "(New York, 2000)      18976457\n",
       "(New York, 2010)      19378102\n",
       "(Texas, 2000)         20851820\n",
       "(Texas, 2010)         25145561\n",
       "dtype: int64"
      ]
     },
     "execution_count": 58,
     "metadata": {},
     "output_type": "execute_result"
    }
   ],
   "source": [
    "index = [('California', 2000), ('California', 2010),\n",
    "         ('New York', 2000), ('New York', 2010),\n",
    "         ('Texas', 2000), ('Texas', 2010)]\n",
    "populations = [33871648, 37253956,\n",
    "               18976457, 19378102,\n",
    "               20851820, 25145561]\n",
    "population_series = pd.Series(populations, index=index)\n",
    "population_series"
   ]
  },
  {
   "cell_type": "code",
   "execution_count": 59,
   "id": "9fef358c-f3a0-4e46-a886-b5dfc9031f15",
   "metadata": {},
   "outputs": [
    {
     "data": {
      "text/plain": [
       "MultiIndex([('California', 2000),\n",
       "            ('California', 2010),\n",
       "            (  'New York', 2000),\n",
       "            (  'New York', 2010),\n",
       "            (     'Texas', 2000),\n",
       "            (     'Texas', 2010)],\n",
       "           )"
      ]
     },
     "execution_count": 59,
     "metadata": {},
     "output_type": "execute_result"
    }
   ],
   "source": [
    "index = pd.MultiIndex.from_tuples(index)\n",
    "index"
   ]
  },
  {
   "cell_type": "code",
   "execution_count": 60,
   "id": "d4985593-3a5c-4d85-b13c-b51a97102655",
   "metadata": {},
   "outputs": [
    {
     "data": {
      "text/plain": [
       "California  2000    33871648\n",
       "            2010    37253956\n",
       "New York    2000    18976457\n",
       "            2010    19378102\n",
       "Texas       2000    20851820\n",
       "            2010    25145561\n",
       "dtype: int64"
      ]
     },
     "execution_count": 60,
     "metadata": {},
     "output_type": "execute_result"
    }
   ],
   "source": [
    "population_series = population_series.reindex(index)\n",
    "population_series"
   ]
  },
  {
   "cell_type": "code",
   "execution_count": 61,
   "id": "6906dfc8-6641-4372-bc73-767602cdac69",
   "metadata": {},
   "outputs": [
    {
     "data": {
      "text/plain": [
       "California    37253956\n",
       "New York      19378102\n",
       "Texas         25145561\n",
       "dtype: int64"
      ]
     },
     "execution_count": 61,
     "metadata": {},
     "output_type": "execute_result"
    }
   ],
   "source": [
    "population_series[:, 2010]"
   ]
  },
  {
   "cell_type": "markdown",
   "id": "fd739e38-7302-47d8-a5ef-e3e7fbd475e7",
   "metadata": {},
   "source": [
    "## Методы ``stack()`` и ``unstack()``\n",
    "Метод unstack() позволяет быстро преобразовать мультииндексный объект ``pandas.Series`` в индексированный обычным образом объект ``pandas.DataFrame``.\n",
    "Метод stack() выполняет обратную операцию."
   ]
  },
  {
   "cell_type": "code",
   "execution_count": 62,
   "id": "c84e96c2-da96-49f4-ac82-341ebe134bf6",
   "metadata": {},
   "outputs": [
    {
     "data": {
      "text/html": [
       "<div>\n",
       "<style scoped>\n",
       "    .dataframe tbody tr th:only-of-type {\n",
       "        vertical-align: middle;\n",
       "    }\n",
       "\n",
       "    .dataframe tbody tr th {\n",
       "        vertical-align: top;\n",
       "    }\n",
       "\n",
       "    .dataframe thead th {\n",
       "        text-align: right;\n",
       "    }\n",
       "</style>\n",
       "<table border=\"1\" class=\"dataframe\">\n",
       "  <thead>\n",
       "    <tr style=\"text-align: right;\">\n",
       "      <th></th>\n",
       "      <th>2000</th>\n",
       "      <th>2010</th>\n",
       "    </tr>\n",
       "  </thead>\n",
       "  <tbody>\n",
       "    <tr>\n",
       "      <th>California</th>\n",
       "      <td>33871648</td>\n",
       "      <td>37253956</td>\n",
       "    </tr>\n",
       "    <tr>\n",
       "      <th>New York</th>\n",
       "      <td>18976457</td>\n",
       "      <td>19378102</td>\n",
       "    </tr>\n",
       "    <tr>\n",
       "      <th>Texas</th>\n",
       "      <td>20851820</td>\n",
       "      <td>25145561</td>\n",
       "    </tr>\n",
       "  </tbody>\n",
       "</table>\n",
       "</div>"
      ],
      "text/plain": [
       "                2000      2010\n",
       "California  33871648  37253956\n",
       "New York    18976457  19378102\n",
       "Texas       20851820  25145561"
      ]
     },
     "execution_count": 62,
     "metadata": {},
     "output_type": "execute_result"
    }
   ],
   "source": [
    "population_dataframe = population_series.unstack()\n",
    "population_dataframe"
   ]
  },
  {
   "cell_type": "code",
   "execution_count": 63,
   "id": "883dfd73-cc95-4c96-9656-329d3634c0db",
   "metadata": {},
   "outputs": [
    {
     "data": {
      "text/plain": [
       "California  2000    33871648\n",
       "            2010    37253956\n",
       "New York    2000    18976457\n",
       "            2010    19378102\n",
       "Texas       2000    20851820\n",
       "            2010    25145561\n",
       "dtype: int64"
      ]
     },
     "execution_count": 63,
     "metadata": {},
     "output_type": "execute_result"
    }
   ],
   "source": [
    "population_dataframe.stack()"
   ]
  },
  {
   "cell_type": "markdown",
   "id": "e1636439-97ad-4cec-9030-58e93140d890",
   "metadata": {},
   "source": [
    "Мы использовали мультииндексацию для представления двумерных данных в одномерном объекте ``pandas.Series``, мультииндексацию можно использовать для представления данных с тремя или более измерениями в объектах ``pandas.Series`` или ``pandas.DataFrame``. \n",
    "Каждый новый уровень в мультииндексе представляет дополнительное измерение данных, что позволяет получить намного больше свободы в представлении наборов данных. "
   ]
  },
  {
   "cell_type": "code",
   "execution_count": 64,
   "id": "c4f2bea0-dee5-44b9-94fb-885ae478d1ed",
   "metadata": {},
   "outputs": [
    {
     "data": {
      "text/html": [
       "<div>\n",
       "<style scoped>\n",
       "    .dataframe tbody tr th:only-of-type {\n",
       "        vertical-align: middle;\n",
       "    }\n",
       "\n",
       "    .dataframe tbody tr th {\n",
       "        vertical-align: top;\n",
       "    }\n",
       "\n",
       "    .dataframe thead th {\n",
       "        text-align: right;\n",
       "    }\n",
       "</style>\n",
       "<table border=\"1\" class=\"dataframe\">\n",
       "  <thead>\n",
       "    <tr style=\"text-align: right;\">\n",
       "      <th></th>\n",
       "      <th></th>\n",
       "      <th>total</th>\n",
       "      <th>under18</th>\n",
       "    </tr>\n",
       "  </thead>\n",
       "  <tbody>\n",
       "    <tr>\n",
       "      <th rowspan=\"2\" valign=\"top\">California</th>\n",
       "      <th>2000</th>\n",
       "      <td>33871648</td>\n",
       "      <td>9267089</td>\n",
       "    </tr>\n",
       "    <tr>\n",
       "      <th>2010</th>\n",
       "      <td>37253956</td>\n",
       "      <td>9284094</td>\n",
       "    </tr>\n",
       "    <tr>\n",
       "      <th rowspan=\"2\" valign=\"top\">New York</th>\n",
       "      <th>2000</th>\n",
       "      <td>18976457</td>\n",
       "      <td>4687374</td>\n",
       "    </tr>\n",
       "    <tr>\n",
       "      <th>2010</th>\n",
       "      <td>19378102</td>\n",
       "      <td>4318033</td>\n",
       "    </tr>\n",
       "    <tr>\n",
       "      <th rowspan=\"2\" valign=\"top\">Texas</th>\n",
       "      <th>2000</th>\n",
       "      <td>20851820</td>\n",
       "      <td>5906301</td>\n",
       "    </tr>\n",
       "    <tr>\n",
       "      <th>2010</th>\n",
       "      <td>25145561</td>\n",
       "      <td>6879014</td>\n",
       "    </tr>\n",
       "  </tbody>\n",
       "</table>\n",
       "</div>"
      ],
      "text/plain": [
       "                    total  under18\n",
       "California 2000  33871648  9267089\n",
       "           2010  37253956  9284094\n",
       "New York   2000  18976457  4687374\n",
       "           2010  19378102  4318033\n",
       "Texas      2000  20851820  5906301\n",
       "           2010  25145561  6879014"
      ]
     },
     "execution_count": 64,
     "metadata": {},
     "output_type": "execute_result"
    }
   ],
   "source": [
    "population_dataframe = pd.DataFrame({'total': population_series,\n",
    "                       'under18': [9267089, 9284094,\n",
    "                                   4687374, 4318033,\n",
    "                                   5906301, 6879014]})\n",
    "population_dataframe"
   ]
  },
  {
   "cell_type": "markdown",
   "id": "91beedc4-a0a3-4da4-b861-54e2e260170b",
   "metadata": {},
   "source": [
    "Все Ufuncs и другие функции, рассмотренные ранее, также работают с иерархическими индексами."
   ]
  },
  {
   "cell_type": "code",
   "execution_count": 65,
   "id": "cb9c14ae-dcf3-4a87-901f-c6476f0e1b3a",
   "metadata": {},
   "outputs": [
    {
     "data": {
      "text/html": [
       "<div>\n",
       "<style scoped>\n",
       "    .dataframe tbody tr th:only-of-type {\n",
       "        vertical-align: middle;\n",
       "    }\n",
       "\n",
       "    .dataframe tbody tr th {\n",
       "        vertical-align: top;\n",
       "    }\n",
       "\n",
       "    .dataframe thead th {\n",
       "        text-align: right;\n",
       "    }\n",
       "</style>\n",
       "<table border=\"1\" class=\"dataframe\">\n",
       "  <thead>\n",
       "    <tr style=\"text-align: right;\">\n",
       "      <th></th>\n",
       "      <th>2000</th>\n",
       "      <th>2010</th>\n",
       "    </tr>\n",
       "  </thead>\n",
       "  <tbody>\n",
       "    <tr>\n",
       "      <th>California</th>\n",
       "      <td>0.273594</td>\n",
       "      <td>0.249211</td>\n",
       "    </tr>\n",
       "    <tr>\n",
       "      <th>New York</th>\n",
       "      <td>0.247010</td>\n",
       "      <td>0.222831</td>\n",
       "    </tr>\n",
       "    <tr>\n",
       "      <th>Texas</th>\n",
       "      <td>0.283251</td>\n",
       "      <td>0.273568</td>\n",
       "    </tr>\n",
       "  </tbody>\n",
       "</table>\n",
       "</div>"
      ],
      "text/plain": [
       "                2000      2010\n",
       "California  0.273594  0.249211\n",
       "New York    0.247010  0.222831\n",
       "Texas       0.283251  0.273568"
      ]
     },
     "execution_count": 65,
     "metadata": {},
     "output_type": "execute_result"
    }
   ],
   "source": [
    "f_u18 = population_dataframe['under18'] / population_dataframe['total']\n",
    "f_u18.unstack()"
   ]
  },
  {
   "cell_type": "markdown",
   "id": "73949404-15b2-4c64-9c56-52de1ada8c2f",
   "metadata": {},
   "source": [
    "## Неявные методы создания мультииндексов"
   ]
  },
  {
   "cell_type": "markdown",
   "id": "b209621e-570b-4d3d-b580-c50af80e2865",
   "metadata": {},
   "source": [
    "Создания мультииндексированного объекта ``pandas.Series`` или ``pandas.DataFrame`` посредством передачи в конструктор списка из двух или более индексных массивов."
   ]
  },
  {
   "cell_type": "code",
   "execution_count": 66,
   "id": "29f2cf48-318a-4021-b2ca-5fdf8dddec12",
   "metadata": {},
   "outputs": [
    {
     "data": {
      "text/html": [
       "<div>\n",
       "<style scoped>\n",
       "    .dataframe tbody tr th:only-of-type {\n",
       "        vertical-align: middle;\n",
       "    }\n",
       "\n",
       "    .dataframe tbody tr th {\n",
       "        vertical-align: top;\n",
       "    }\n",
       "\n",
       "    .dataframe thead th {\n",
       "        text-align: right;\n",
       "    }\n",
       "</style>\n",
       "<table border=\"1\" class=\"dataframe\">\n",
       "  <thead>\n",
       "    <tr style=\"text-align: right;\">\n",
       "      <th></th>\n",
       "      <th></th>\n",
       "      <th>data1</th>\n",
       "      <th>data2</th>\n",
       "    </tr>\n",
       "  </thead>\n",
       "  <tbody>\n",
       "    <tr>\n",
       "      <th rowspan=\"2\" valign=\"top\">a</th>\n",
       "      <th>1</th>\n",
       "      <td>0.036234</td>\n",
       "      <td>0.308477</td>\n",
       "    </tr>\n",
       "    <tr>\n",
       "      <th>2</th>\n",
       "      <td>0.778522</td>\n",
       "      <td>0.947841</td>\n",
       "    </tr>\n",
       "    <tr>\n",
       "      <th rowspan=\"2\" valign=\"top\">b</th>\n",
       "      <th>1</th>\n",
       "      <td>0.062313</td>\n",
       "      <td>0.268123</td>\n",
       "    </tr>\n",
       "    <tr>\n",
       "      <th>2</th>\n",
       "      <td>0.571152</td>\n",
       "      <td>0.126985</td>\n",
       "    </tr>\n",
       "  </tbody>\n",
       "</table>\n",
       "</div>"
      ],
      "text/plain": [
       "        data1     data2\n",
       "a 1  0.036234  0.308477\n",
       "  2  0.778522  0.947841\n",
       "b 1  0.062313  0.268123\n",
       "  2  0.571152  0.126985"
      ]
     },
     "execution_count": 66,
     "metadata": {},
     "output_type": "execute_result"
    }
   ],
   "source": [
    "df = pd.DataFrame(np.random.rand(4, 2), index=[['a', 'a', 'b', 'b'], [1, 2, 1, 2]], columns=['data1', 'data2'])\n",
    "df"
   ]
  },
  {
   "cell_type": "markdown",
   "id": "c2917d04-d79b-42c2-8030-ce305c12f6c7",
   "metadata": {},
   "source": [
    "Создания мультииндексированного объекта ``pandas.Series`` или ``pandas.DataFrame`` посредством передачи в конструктор словаря с соответствующими кортежами в качестве ключей."
   ]
  },
  {
   "cell_type": "code",
   "execution_count": 67,
   "id": "1bbaf3c5-1e85-4e4b-a684-16999a0782ed",
   "metadata": {},
   "outputs": [
    {
     "data": {
      "text/plain": [
       "California  2000    33871648\n",
       "            2010    37253956\n",
       "Texas       2000    20851820\n",
       "            2010    25145561\n",
       "New York    2000    18976457\n",
       "            2010    19378102\n",
       "dtype: int64"
      ]
     },
     "execution_count": 67,
     "metadata": {},
     "output_type": "execute_result"
    }
   ],
   "source": [
    "data = {('California', 2000): 33871648,\n",
    "        ('California', 2010): 37253956,\n",
    "        ('Texas', 2000): 20851820,\n",
    "        ('Texas', 2010): 25145561,\n",
    "        ('New York', 2000): 18976457,\n",
    "        ('New York', 2010): 19378102}\n",
    "pd.Series(data)"
   ]
  },
  {
   "cell_type": "markdown",
   "id": "2ac3b4f5-4595-45e0-9aba-e9d9211c7435",
   "metadata": {},
   "source": [
    "## Явные методы создания мультииндексов"
   ]
  },
  {
   "cell_type": "markdown",
   "id": "74e25a2d-fa2e-4e4f-97cf-03764a686bf7",
   "metadata": {},
   "source": [
    "Объект ``pandas.MultiIndex`` можно создатьь из простого списка массивов, задающих значения индекса на каждом из уровней."
   ]
  },
  {
   "cell_type": "code",
   "execution_count": 68,
   "id": "b5ddb6fb-7351-4bfe-bb7c-878d302f8b49",
   "metadata": {},
   "outputs": [
    {
     "data": {
      "text/plain": [
       "MultiIndex([('a', 1),\n",
       "            ('a', 2),\n",
       "            ('b', 1),\n",
       "            ('b', 2)],\n",
       "           )"
      ]
     },
     "execution_count": 68,
     "metadata": {},
     "output_type": "execute_result"
    }
   ],
   "source": [
    "pd.MultiIndex.from_arrays([['a', 'a', 'b', 'b'], [1, 2, 1, 2]])"
   ]
  },
  {
   "cell_type": "markdown",
   "id": "e34a10c6-96aa-4dcc-bd75-5f172a568b7a",
   "metadata": {},
   "source": [
    "Объект ``pandas.MultiIndex`` можно создать из списка кортежей, задающих все значения индекса в каждой из точек."
   ]
  },
  {
   "cell_type": "code",
   "execution_count": 69,
   "id": "0e2a1b16-7e88-40ee-a0e2-41081a8bd2d1",
   "metadata": {},
   "outputs": [
    {
     "data": {
      "text/plain": [
       "MultiIndex([('a', 1),\n",
       "            ('a', 2),\n",
       "            ('b', 1),\n",
       "            ('b', 2)],\n",
       "           )"
      ]
     },
     "execution_count": 69,
     "metadata": {},
     "output_type": "execute_result"
    }
   ],
   "source": [
    "pd.MultiIndex.from_tuples([('a', 1), ('a', 2), ('b', 1), ('b', 2)])"
   ]
  },
  {
   "cell_type": "markdown",
   "id": "06b61bee-4e2f-43b0-91fa-7e4962c4f863",
   "metadata": {},
   "source": [
    "Объект ``pandas.MultiIndex`` можно создать из декартова произведения обычных индексов."
   ]
  },
  {
   "cell_type": "code",
   "execution_count": 70,
   "id": "6ac71285-af41-417e-b4d3-82c95e5d0204",
   "metadata": {},
   "outputs": [
    {
     "data": {
      "text/plain": [
       "MultiIndex([('a', 1),\n",
       "            ('a', 2),\n",
       "            ('b', 1),\n",
       "            ('b', 2)],\n",
       "           )"
      ]
     },
     "execution_count": 70,
     "metadata": {},
     "output_type": "execute_result"
    }
   ],
   "source": [
    "pd.MultiIndex.from_product([['a', 'b'], [1, 2]])"
   ]
  },
  {
   "cell_type": "markdown",
   "id": "2a90d278-6e14-4a0a-ac29-95602bbb374f",
   "metadata": {},
   "source": [
    "Объект ``pandas.MultiIndex`` можно создать непосредственно с помощью его внутреннего представления, передав в конструктор levels (список списков, содержащих имеющиеся значения индекса для каждого уровня) и codes (список списков меток)"
   ]
  },
  {
   "cell_type": "code",
   "execution_count": 71,
   "id": "35d60923-add8-40f1-aa14-88fe6b4f8b83",
   "metadata": {},
   "outputs": [
    {
     "data": {
      "text/plain": [
       "MultiIndex([('a', 1),\n",
       "            ('a', 2),\n",
       "            ('b', 1),\n",
       "            ('b', 2)],\n",
       "           )"
      ]
     },
     "execution_count": 71,
     "metadata": {},
     "output_type": "execute_result"
    }
   ],
   "source": [
    "pd.MultiIndex(levels=[['a', 'b'], [1, 2]],\n",
    "              codes=[[0, 0, 1, 1], [0, 1, 0, 1]])"
   ]
  },
  {
   "cell_type": "markdown",
   "id": "651a2a47-cccf-46fe-b0d8-98312906fa0a",
   "metadata": {},
   "source": [
    "Любой из этих объектов можно передать в качестве аргумента index при\n",
    "создании объектов ``pandas.Series`` или ``pandas.DataFrame`` или методу reindex уже существующих\n",
    "объектов ``pandas.Series`` или ``pandas.DataFrame``."
   ]
  },
  {
   "cell_type": "markdown",
   "id": "472b57c5-bba6-4071-9c9b-bf7f8aaa7576",
   "metadata": {},
   "source": [
    "### Названия уровней мультииндексов"
   ]
  },
  {
   "cell_type": "markdown",
   "id": "2d563ee3-f2a9-4bf7-af27-7f5e186ce1ec",
   "metadata": {},
   "source": [
    "Можно задать названия для уровней объекта ``pandas.MultiIndex``. Сделать это можно, передав аргумент names любому из вышеперечисленных конструкторов класса MultiIndex или задав значения атрибута names."
   ]
  },
  {
   "cell_type": "code",
   "execution_count": 72,
   "id": "4548e608-73c7-4d74-b708-713aaeaebfc3",
   "metadata": {},
   "outputs": [
    {
     "data": {
      "text/plain": [
       "state       year\n",
       "California  2000    33871648\n",
       "            2010    37253956\n",
       "New York    2000    18976457\n",
       "            2010    19378102\n",
       "Texas       2000    20851820\n",
       "            2010    25145561\n",
       "dtype: int64"
      ]
     },
     "execution_count": 72,
     "metadata": {},
     "output_type": "execute_result"
    }
   ],
   "source": [
    "population_series.index.names = ['state', 'year']\n",
    "population_series"
   ]
  },
  {
   "cell_type": "markdown",
   "id": "f951137c-e800-43c2-8001-bfb93b7020bd",
   "metadata": {},
   "source": [
    "### Мультииндекс для столбцов"
   ]
  },
  {
   "cell_type": "markdown",
   "id": "ab822278-159f-4651-90d3-67fccb4dcc19",
   "metadata": {},
   "source": [
    "Для объекта ``pandas.DataFrame`` строки и столбцы полностью симметричны, и у столбцов, точно так же, как и у строк, может быть несколько уровней индексов."
   ]
  },
  {
   "cell_type": "code",
   "execution_count": 73,
   "id": "31c5c1bb-0626-414f-b591-aaa52987b40a",
   "metadata": {},
   "outputs": [
    {
     "data": {
      "text/html": [
       "<div>\n",
       "<style scoped>\n",
       "    .dataframe tbody tr th:only-of-type {\n",
       "        vertical-align: middle;\n",
       "    }\n",
       "\n",
       "    .dataframe tbody tr th {\n",
       "        vertical-align: top;\n",
       "    }\n",
       "\n",
       "    .dataframe thead tr th {\n",
       "        text-align: left;\n",
       "    }\n",
       "\n",
       "    .dataframe thead tr:last-of-type th {\n",
       "        text-align: right;\n",
       "    }\n",
       "</style>\n",
       "<table border=\"1\" class=\"dataframe\">\n",
       "  <thead>\n",
       "    <tr>\n",
       "      <th></th>\n",
       "      <th>subject</th>\n",
       "      <th colspan=\"2\" halign=\"left\">Bob</th>\n",
       "      <th colspan=\"2\" halign=\"left\">Guido</th>\n",
       "      <th colspan=\"2\" halign=\"left\">Sue</th>\n",
       "    </tr>\n",
       "    <tr>\n",
       "      <th></th>\n",
       "      <th>type</th>\n",
       "      <th>HR</th>\n",
       "      <th>Temp</th>\n",
       "      <th>HR</th>\n",
       "      <th>Temp</th>\n",
       "      <th>HR</th>\n",
       "      <th>Temp</th>\n",
       "    </tr>\n",
       "    <tr>\n",
       "      <th>year</th>\n",
       "      <th>visit</th>\n",
       "      <th></th>\n",
       "      <th></th>\n",
       "      <th></th>\n",
       "      <th></th>\n",
       "      <th></th>\n",
       "      <th></th>\n",
       "    </tr>\n",
       "  </thead>\n",
       "  <tbody>\n",
       "    <tr>\n",
       "      <th rowspan=\"2\" valign=\"top\">2013</th>\n",
       "      <th>1</th>\n",
       "      <td>27.0</td>\n",
       "      <td>35.9</td>\n",
       "      <td>34.0</td>\n",
       "      <td>37.7</td>\n",
       "      <td>31.0</td>\n",
       "      <td>37.6</td>\n",
       "    </tr>\n",
       "    <tr>\n",
       "      <th>2</th>\n",
       "      <td>46.0</td>\n",
       "      <td>35.7</td>\n",
       "      <td>19.0</td>\n",
       "      <td>34.4</td>\n",
       "      <td>36.0</td>\n",
       "      <td>36.8</td>\n",
       "    </tr>\n",
       "    <tr>\n",
       "      <th rowspan=\"2\" valign=\"top\">2014</th>\n",
       "      <th>1</th>\n",
       "      <td>52.0</td>\n",
       "      <td>37.1</td>\n",
       "      <td>34.0</td>\n",
       "      <td>36.7</td>\n",
       "      <td>44.0</td>\n",
       "      <td>36.9</td>\n",
       "    </tr>\n",
       "    <tr>\n",
       "      <th>2</th>\n",
       "      <td>23.0</td>\n",
       "      <td>38.5</td>\n",
       "      <td>37.0</td>\n",
       "      <td>36.4</td>\n",
       "      <td>38.0</td>\n",
       "      <td>35.9</td>\n",
       "    </tr>\n",
       "  </tbody>\n",
       "</table>\n",
       "</div>"
      ],
      "text/plain": [
       "subject      Bob       Guido         Sue      \n",
       "type          HR  Temp    HR  Temp    HR  Temp\n",
       "year visit                                    \n",
       "2013 1      27.0  35.9  34.0  37.7  31.0  37.6\n",
       "     2      46.0  35.7  19.0  34.4  36.0  36.8\n",
       "2014 1      52.0  37.1  34.0  36.7  44.0  36.9\n",
       "     2      23.0  38.5  37.0  36.4  38.0  35.9"
      ]
     },
     "execution_count": 73,
     "metadata": {},
     "output_type": "execute_result"
    }
   ],
   "source": [
    "# hierarchical indices and columns\n",
    "index   = pd.MultiIndex.from_product([[2013, 2014], [1, 2]],\n",
    "                                   names=['year', 'visit'])\n",
    "columns = pd.MultiIndex.from_product([['Bob', 'Guido', 'Sue'], ['HR', 'Temp']],\n",
    "                                     names=['subject', 'type'])\n",
    "\n",
    "# mock some data\n",
    "data = np.round(np.random.randn(4, 6), 1)\n",
    "data[:, ::2] *= 10\n",
    "data += 37\n",
    "\n",
    "# create the DataFrame\n",
    "health_data = pd.DataFrame(data, index=index, columns=columns)\n",
    "health_data"
   ]
  },
  {
   "cell_type": "code",
   "execution_count": 74,
   "id": "b605f994-5fce-476c-9d14-50b99d6b3e80",
   "metadata": {},
   "outputs": [
    {
     "data": {
      "text/html": [
       "<div>\n",
       "<style scoped>\n",
       "    .dataframe tbody tr th:only-of-type {\n",
       "        vertical-align: middle;\n",
       "    }\n",
       "\n",
       "    .dataframe tbody tr th {\n",
       "        vertical-align: top;\n",
       "    }\n",
       "\n",
       "    .dataframe thead th {\n",
       "        text-align: right;\n",
       "    }\n",
       "</style>\n",
       "<table border=\"1\" class=\"dataframe\">\n",
       "  <thead>\n",
       "    <tr style=\"text-align: right;\">\n",
       "      <th></th>\n",
       "      <th>type</th>\n",
       "      <th>HR</th>\n",
       "      <th>Temp</th>\n",
       "    </tr>\n",
       "    <tr>\n",
       "      <th>year</th>\n",
       "      <th>visit</th>\n",
       "      <th></th>\n",
       "      <th></th>\n",
       "    </tr>\n",
       "  </thead>\n",
       "  <tbody>\n",
       "    <tr>\n",
       "      <th rowspan=\"2\" valign=\"top\">2013</th>\n",
       "      <th>1</th>\n",
       "      <td>34.0</td>\n",
       "      <td>37.7</td>\n",
       "    </tr>\n",
       "    <tr>\n",
       "      <th>2</th>\n",
       "      <td>19.0</td>\n",
       "      <td>34.4</td>\n",
       "    </tr>\n",
       "    <tr>\n",
       "      <th rowspan=\"2\" valign=\"top\">2014</th>\n",
       "      <th>1</th>\n",
       "      <td>34.0</td>\n",
       "      <td>36.7</td>\n",
       "    </tr>\n",
       "    <tr>\n",
       "      <th>2</th>\n",
       "      <td>37.0</td>\n",
       "      <td>36.4</td>\n",
       "    </tr>\n",
       "  </tbody>\n",
       "</table>\n",
       "</div>"
      ],
      "text/plain": [
       "type          HR  Temp\n",
       "year visit            \n",
       "2013 1      34.0  37.7\n",
       "     2      19.0  34.4\n",
       "2014 1      34.0  36.7\n",
       "     2      37.0  36.4"
      ]
     },
     "execution_count": 74,
     "metadata": {},
     "output_type": "execute_result"
    }
   ],
   "source": [
    "health_data['Guido']"
   ]
  },
  {
   "cell_type": "markdown",
   "id": "6569dbc1-1a27-449e-bd91-dd84ad52f18c",
   "metadata": {},
   "source": [
    "## Индексация и сечение по мультииндексу"
   ]
  },
  {
   "cell_type": "markdown",
   "id": "88f3b8f6-7967-4dd8-9515-28583e6efa8b",
   "metadata": {},
   "source": [
    "Объект ``pandas.MultiIndex`` позволяет эффективно выполнять индексацию и сечение по мультииндексу \n",
    "Рассмотрим сначала индексацию мультииндексированного объекта ``pandas.Series``, а затем мультииндексированного объекта ``pandas.DataFrame``."
   ]
  },
  {
   "cell_type": "markdown",
   "id": "d7242d3e-3687-4976-b64f-8701ace8aa66",
   "metadata": {},
   "source": [
    "## Мультииндексация объектов ``pandas.Series``"
   ]
  },
  {
   "cell_type": "code",
   "execution_count": 58,
   "id": "1ac962a8-451a-4476-843e-84e5a492850a",
   "metadata": {},
   "outputs": [
    {
     "data": {
      "text/plain": [
       "state       year\n",
       "California  2000    33871648\n",
       "            2010    37253956\n",
       "New York    2000    18976457\n",
       "            2010    19378102\n",
       "Texas       2000    20851820\n",
       "            2010    25145561\n",
       "dtype: int64"
      ]
     },
     "execution_count": 58,
     "metadata": {},
     "output_type": "execute_result"
    }
   ],
   "source": [
    "population_series"
   ]
  },
  {
   "cell_type": "code",
   "execution_count": 59,
   "id": "f96be428-c069-4ce8-bf4e-7ffffcd28b79",
   "metadata": {},
   "outputs": [
    {
     "data": {
      "text/plain": [
       "33871648"
      ]
     },
     "execution_count": 59,
     "metadata": {},
     "output_type": "execute_result"
    }
   ],
   "source": [
    "population_series['California', 2000]"
   ]
  },
  {
   "cell_type": "code",
   "execution_count": 60,
   "id": "67f2632b-0d76-4a5c-b76c-78a1e78603d0",
   "metadata": {},
   "outputs": [
    {
     "data": {
      "text/plain": [
       "state       year\n",
       "California  2000    33871648\n",
       "            2010    37253956\n",
       "New York    2000    18976457\n",
       "            2010    19378102\n",
       "dtype: int64"
      ]
     },
     "execution_count": 60,
     "metadata": {},
     "output_type": "execute_result"
    }
   ],
   "source": [
    "population_series.loc['California':'New York']"
   ]
  },
  {
   "cell_type": "code",
   "execution_count": 61,
   "id": "c052e643-87c6-4ca9-800e-038523d25362",
   "metadata": {},
   "outputs": [
    {
     "data": {
      "text/plain": [
       "state\n",
       "California    33871648\n",
       "New York      18976457\n",
       "Texas         20851820\n",
       "dtype: int64"
      ]
     },
     "execution_count": 61,
     "metadata": {},
     "output_type": "execute_result"
    }
   ],
   "source": [
    "population_series[:, 2000]"
   ]
  },
  {
   "cell_type": "code",
   "execution_count": 62,
   "id": "631fadce-cde3-4398-b6ad-1cf8d1e4229a",
   "metadata": {},
   "outputs": [
    {
     "data": {
      "text/plain": [
       "state       year\n",
       "California  2000    33871648\n",
       "            2010    37253956\n",
       "Texas       2000    20851820\n",
       "            2010    25145561\n",
       "dtype: int64"
      ]
     },
     "execution_count": 62,
     "metadata": {},
     "output_type": "execute_result"
    }
   ],
   "source": [
    "population_series[['California', 'Texas']]"
   ]
  },
  {
   "cell_type": "markdown",
   "id": "b77fc631-da04-48e2-88c7-37848ec50aba",
   "metadata": {},
   "source": [
    "## Мультииндексация объектов ``pandas.DataFrame``"
   ]
  },
  {
   "cell_type": "code",
   "execution_count": 79,
   "id": "b5f74ab4-a939-47ea-8a72-c75ea62e3dcd",
   "metadata": {},
   "outputs": [
    {
     "data": {
      "text/html": [
       "<div>\n",
       "<style scoped>\n",
       "    .dataframe tbody tr th:only-of-type {\n",
       "        vertical-align: middle;\n",
       "    }\n",
       "\n",
       "    .dataframe tbody tr th {\n",
       "        vertical-align: top;\n",
       "    }\n",
       "\n",
       "    .dataframe thead tr th {\n",
       "        text-align: left;\n",
       "    }\n",
       "\n",
       "    .dataframe thead tr:last-of-type th {\n",
       "        text-align: right;\n",
       "    }\n",
       "</style>\n",
       "<table border=\"1\" class=\"dataframe\">\n",
       "  <thead>\n",
       "    <tr>\n",
       "      <th></th>\n",
       "      <th>subject</th>\n",
       "      <th colspan=\"2\" halign=\"left\">Bob</th>\n",
       "      <th colspan=\"2\" halign=\"left\">Guido</th>\n",
       "      <th colspan=\"2\" halign=\"left\">Sue</th>\n",
       "    </tr>\n",
       "    <tr>\n",
       "      <th></th>\n",
       "      <th>type</th>\n",
       "      <th>HR</th>\n",
       "      <th>Temp</th>\n",
       "      <th>HR</th>\n",
       "      <th>Temp</th>\n",
       "      <th>HR</th>\n",
       "      <th>Temp</th>\n",
       "    </tr>\n",
       "    <tr>\n",
       "      <th>year</th>\n",
       "      <th>visit</th>\n",
       "      <th></th>\n",
       "      <th></th>\n",
       "      <th></th>\n",
       "      <th></th>\n",
       "      <th></th>\n",
       "      <th></th>\n",
       "    </tr>\n",
       "  </thead>\n",
       "  <tbody>\n",
       "    <tr>\n",
       "      <th rowspan=\"2\" valign=\"top\">2013</th>\n",
       "      <th>1</th>\n",
       "      <td>27.0</td>\n",
       "      <td>35.9</td>\n",
       "      <td>34.0</td>\n",
       "      <td>37.7</td>\n",
       "      <td>31.0</td>\n",
       "      <td>37.6</td>\n",
       "    </tr>\n",
       "    <tr>\n",
       "      <th>2</th>\n",
       "      <td>46.0</td>\n",
       "      <td>35.7</td>\n",
       "      <td>19.0</td>\n",
       "      <td>34.4</td>\n",
       "      <td>36.0</td>\n",
       "      <td>36.8</td>\n",
       "    </tr>\n",
       "    <tr>\n",
       "      <th rowspan=\"2\" valign=\"top\">2014</th>\n",
       "      <th>1</th>\n",
       "      <td>52.0</td>\n",
       "      <td>37.1</td>\n",
       "      <td>34.0</td>\n",
       "      <td>36.7</td>\n",
       "      <td>44.0</td>\n",
       "      <td>36.9</td>\n",
       "    </tr>\n",
       "    <tr>\n",
       "      <th>2</th>\n",
       "      <td>23.0</td>\n",
       "      <td>38.5</td>\n",
       "      <td>37.0</td>\n",
       "      <td>36.4</td>\n",
       "      <td>38.0</td>\n",
       "      <td>35.9</td>\n",
       "    </tr>\n",
       "  </tbody>\n",
       "</table>\n",
       "</div>"
      ],
      "text/plain": [
       "subject      Bob       Guido         Sue      \n",
       "type          HR  Temp    HR  Temp    HR  Temp\n",
       "year visit                                    \n",
       "2013 1      27.0  35.9  34.0  37.7  31.0  37.6\n",
       "     2      46.0  35.7  19.0  34.4  36.0  36.8\n",
       "2014 1      52.0  37.1  34.0  36.7  44.0  36.9\n",
       "     2      23.0  38.5  37.0  36.4  38.0  35.9"
      ]
     },
     "execution_count": 79,
     "metadata": {},
     "output_type": "execute_result"
    }
   ],
   "source": [
    "health_data"
   ]
  },
  {
   "cell_type": "markdown",
   "id": "33b96f3f-1312-4923-a924-46a2bcb692f8",
   "metadata": {},
   "source": [
    "В ``pandas.DataFrame`` основными являются столбцы, и используемый для мультииндексированных ``pandas.Series`` синтаксис применяется тоже к столбцам."
   ]
  },
  {
   "cell_type": "code",
   "execution_count": 80,
   "id": "82ddd7e2-c60e-4bdd-862f-f22dac77fda5",
   "metadata": {},
   "outputs": [
    {
     "data": {
      "text/plain": [
       "year  visit\n",
       "2013  1        34.0\n",
       "      2        19.0\n",
       "2014  1        34.0\n",
       "      2        37.0\n",
       "Name: (Guido, HR), dtype: float64"
      ]
     },
     "execution_count": 80,
     "metadata": {},
     "output_type": "execute_result"
    }
   ],
   "source": [
    "health_data['Guido', 'HR']"
   ]
  },
  {
   "cell_type": "code",
   "execution_count": 81,
   "id": "2d972a04-079c-4cce-8ba9-753134fa2d2d",
   "metadata": {},
   "outputs": [
    {
     "data": {
      "text/html": [
       "<div>\n",
       "<style scoped>\n",
       "    .dataframe tbody tr th:only-of-type {\n",
       "        vertical-align: middle;\n",
       "    }\n",
       "\n",
       "    .dataframe tbody tr th {\n",
       "        vertical-align: top;\n",
       "    }\n",
       "\n",
       "    .dataframe thead tr th {\n",
       "        text-align: left;\n",
       "    }\n",
       "\n",
       "    .dataframe thead tr:last-of-type th {\n",
       "        text-align: right;\n",
       "    }\n",
       "</style>\n",
       "<table border=\"1\" class=\"dataframe\">\n",
       "  <thead>\n",
       "    <tr>\n",
       "      <th></th>\n",
       "      <th>subject</th>\n",
       "      <th colspan=\"2\" halign=\"left\">Bob</th>\n",
       "    </tr>\n",
       "    <tr>\n",
       "      <th></th>\n",
       "      <th>type</th>\n",
       "      <th>HR</th>\n",
       "      <th>Temp</th>\n",
       "    </tr>\n",
       "    <tr>\n",
       "      <th>year</th>\n",
       "      <th>visit</th>\n",
       "      <th></th>\n",
       "      <th></th>\n",
       "    </tr>\n",
       "  </thead>\n",
       "  <tbody>\n",
       "    <tr>\n",
       "      <th rowspan=\"2\" valign=\"top\">2013</th>\n",
       "      <th>1</th>\n",
       "      <td>27.0</td>\n",
       "      <td>35.9</td>\n",
       "    </tr>\n",
       "    <tr>\n",
       "      <th>2</th>\n",
       "      <td>46.0</td>\n",
       "      <td>35.7</td>\n",
       "    </tr>\n",
       "  </tbody>\n",
       "</table>\n",
       "</div>"
      ],
      "text/plain": [
       "subject      Bob      \n",
       "type          HR  Temp\n",
       "year visit            \n",
       "2013 1      27.0  35.9\n",
       "     2      46.0  35.7"
      ]
     },
     "execution_count": 81,
     "metadata": {},
     "output_type": "execute_result"
    }
   ],
   "source": [
    "health_data.iloc[:2, :2]"
   ]
  },
  {
   "cell_type": "code",
   "execution_count": 82,
   "id": "64833d51-f5b5-45e7-89e0-c820f6898072",
   "metadata": {},
   "outputs": [
    {
     "data": {
      "text/plain": [
       "year  visit\n",
       "2013  1        27.0\n",
       "      2        46.0\n",
       "2014  1        52.0\n",
       "      2        23.0\n",
       "Name: (Bob, HR), dtype: float64"
      ]
     },
     "execution_count": 82,
     "metadata": {},
     "output_type": "execute_result"
    }
   ],
   "source": [
    "health_data.loc[:, ('Bob', 'HR')]"
   ]
  },
  {
   "cell_type": "markdown",
   "id": "00474e94-2e56-4804-ba35-108d8b6a52d1",
   "metadata": {},
   "source": [
    "Работать с сечениями в подобных кортежах индексов не очень удобно. Попытка создать сечение в кортеже может привести к синтаксической ошибке."
   ]
  },
  {
   "cell_type": "code",
   "execution_count": 85,
   "id": "120a8dda-2098-4305-9676-578cc4abf50d",
   "metadata": {},
   "outputs": [
    {
     "ename": "SyntaxError",
     "evalue": "invalid syntax (3311942670.py, line 1)",
     "output_type": "error",
     "traceback": [
      "\u001b[0;36m  File \u001b[0;32m\"/tmp/ipykernel_37934/3311942670.py\"\u001b[0;36m, line \u001b[0;32m1\u001b[0m\n\u001b[0;31m    health_data.loc[(:, 1), (:, 'HR')]\u001b[0m\n\u001b[0m                     ^\u001b[0m\n\u001b[0;31mSyntaxError\u001b[0m\u001b[0;31m:\u001b[0m invalid syntax\n"
     ]
    }
   ],
   "source": [
    "health_data.loc[(:, 1), (:, 'HR')]"
   ]
  },
  {
   "cell_type": "code",
   "execution_count": 86,
   "id": "88cb0d0c-3b9f-4744-9957-2b56b49e9b86",
   "metadata": {},
   "outputs": [
    {
     "data": {
      "text/html": [
       "<div>\n",
       "<style scoped>\n",
       "    .dataframe tbody tr th:only-of-type {\n",
       "        vertical-align: middle;\n",
       "    }\n",
       "\n",
       "    .dataframe tbody tr th {\n",
       "        vertical-align: top;\n",
       "    }\n",
       "\n",
       "    .dataframe thead tr th {\n",
       "        text-align: left;\n",
       "    }\n",
       "\n",
       "    .dataframe thead tr:last-of-type th {\n",
       "        text-align: right;\n",
       "    }\n",
       "</style>\n",
       "<table border=\"1\" class=\"dataframe\">\n",
       "  <thead>\n",
       "    <tr>\n",
       "      <th></th>\n",
       "      <th>subject</th>\n",
       "      <th>Bob</th>\n",
       "      <th>Guido</th>\n",
       "      <th>Sue</th>\n",
       "    </tr>\n",
       "    <tr>\n",
       "      <th></th>\n",
       "      <th>type</th>\n",
       "      <th>HR</th>\n",
       "      <th>HR</th>\n",
       "      <th>HR</th>\n",
       "    </tr>\n",
       "    <tr>\n",
       "      <th>year</th>\n",
       "      <th>visit</th>\n",
       "      <th></th>\n",
       "      <th></th>\n",
       "      <th></th>\n",
       "    </tr>\n",
       "  </thead>\n",
       "  <tbody>\n",
       "    <tr>\n",
       "      <th>2013</th>\n",
       "      <th>1</th>\n",
       "      <td>27.0</td>\n",
       "      <td>34.0</td>\n",
       "      <td>31.0</td>\n",
       "    </tr>\n",
       "    <tr>\n",
       "      <th>2014</th>\n",
       "      <th>1</th>\n",
       "      <td>52.0</td>\n",
       "      <td>34.0</td>\n",
       "      <td>44.0</td>\n",
       "    </tr>\n",
       "  </tbody>\n",
       "</table>\n",
       "</div>"
      ],
      "text/plain": [
       "subject      Bob Guido   Sue\n",
       "type          HR    HR    HR\n",
       "year visit                  \n",
       "2013 1      27.0  34.0  31.0\n",
       "2014 1      52.0  34.0  44.0"
      ]
     },
     "execution_count": 86,
     "metadata": {},
     "output_type": "execute_result"
    }
   ],
   "source": [
    "idx = pd.IndexSlice\n",
    "health_data.loc[idx[:, 1], idx[:, 'HR']]"
   ]
  },
  {
   "cell_type": "markdown",
   "id": "de4c0608-8b2e-4be2-a5fc-72b3f7905ffd",
   "metadata": {},
   "source": [
    "## Перегруппировка мультииндексов"
   ]
  },
  {
   "cell_type": "markdown",
   "id": "83e8e4de-f1ca-498d-a27f-b0dbf6acf404",
   "metadata": {},
   "source": [
    "Один из ключей к эффективной работе с мультииндексированными данными — умение эффективно преобразовывать данные. \n",
    "Существует немало операций, сохраняющих всю информацию из набора данных, но преобразующих ее ради удобства проведения различных вычислений. "
   ]
  },
  {
   "cell_type": "markdown",
   "id": "35cb7848-8730-426e-a6e7-a0c374627df6",
   "metadata": {},
   "source": [
    "### Отсортированные и неотсортированные индексы"
   ]
  },
  {
   "cell_type": "code",
   "execution_count": 87,
   "id": "08bbde5b-6d86-48df-bfc0-ae7e7c108353",
   "metadata": {},
   "outputs": [
    {
     "data": {
      "text/plain": [
       "char  int\n",
       "a     1      0.972244\n",
       "      2      0.837319\n",
       "c     1      0.271670\n",
       "      2      0.540400\n",
       "b     1      0.324134\n",
       "      2      0.307729\n",
       "dtype: float64"
      ]
     },
     "execution_count": 87,
     "metadata": {},
     "output_type": "execute_result"
    }
   ],
   "source": [
    "index = pd.MultiIndex.from_product([['a', 'c', 'b'], [1, 2]])\n",
    "data = pd.Series(np.random.rand(6), index=index)\n",
    "data.index.names = ['char', 'int']\n",
    "data"
   ]
  },
  {
   "cell_type": "code",
   "execution_count": 88,
   "id": "b297d6c4-42f9-47a1-8094-17bfdf755623",
   "metadata": {},
   "outputs": [
    {
     "name": "stdout",
     "output_type": "stream",
     "text": [
      "<class 'pandas.errors.UnsortedIndexError'>\n",
      "'Key length (1) was greater than MultiIndex lexsort depth (0)'\n"
     ]
    }
   ],
   "source": [
    "try:\n",
    "    data['a':'b']\n",
    "except KeyError as e:\n",
    "    print(type(e))\n",
    "    print(e)"
   ]
  },
  {
   "cell_type": "code",
   "execution_count": 89,
   "id": "6037491f-fe11-461a-a15d-49b992de6d1b",
   "metadata": {},
   "outputs": [
    {
     "data": {
      "text/plain": [
       "char  int\n",
       "a     1      0.972244\n",
       "      2      0.837319\n",
       "b     1      0.324134\n",
       "      2      0.307729\n",
       "c     1      0.271670\n",
       "      2      0.540400\n",
       "dtype: float64"
      ]
     },
     "execution_count": 89,
     "metadata": {},
     "output_type": "execute_result"
    }
   ],
   "source": [
    "data = data.sort_index()\n",
    "data"
   ]
  },
  {
   "cell_type": "code",
   "execution_count": 90,
   "id": "66a41e6c-1cca-4c09-b7c8-5520e620a9e8",
   "metadata": {},
   "outputs": [
    {
     "data": {
      "text/plain": [
       "char  int\n",
       "a     1      0.972244\n",
       "      2      0.837319\n",
       "b     1      0.324134\n",
       "      2      0.307729\n",
       "dtype: float64"
      ]
     },
     "execution_count": 90,
     "metadata": {},
     "output_type": "execute_result"
    }
   ],
   "source": [
    "data['a':'b']"
   ]
  },
  {
   "cell_type": "markdown",
   "id": "b965d620-5a1f-4107-9140-0dda1e3a6aee",
   "metadata": {},
   "source": [
    "### Выполнение над индексами операций stack и unstack"
   ]
  },
  {
   "cell_type": "code",
   "execution_count": 92,
   "id": "66268568-f08c-4593-9ead-355309a2e0ae",
   "metadata": {},
   "outputs": [
    {
     "data": {
      "text/html": [
       "<div>\n",
       "<style scoped>\n",
       "    .dataframe tbody tr th:only-of-type {\n",
       "        vertical-align: middle;\n",
       "    }\n",
       "\n",
       "    .dataframe tbody tr th {\n",
       "        vertical-align: top;\n",
       "    }\n",
       "\n",
       "    .dataframe thead th {\n",
       "        text-align: right;\n",
       "    }\n",
       "</style>\n",
       "<table border=\"1\" class=\"dataframe\">\n",
       "  <thead>\n",
       "    <tr style=\"text-align: right;\">\n",
       "      <th>state</th>\n",
       "      <th>California</th>\n",
       "      <th>New York</th>\n",
       "      <th>Texas</th>\n",
       "    </tr>\n",
       "    <tr>\n",
       "      <th>year</th>\n",
       "      <th></th>\n",
       "      <th></th>\n",
       "      <th></th>\n",
       "    </tr>\n",
       "  </thead>\n",
       "  <tbody>\n",
       "    <tr>\n",
       "      <th>2000</th>\n",
       "      <td>33871648</td>\n",
       "      <td>18976457</td>\n",
       "      <td>20851820</td>\n",
       "    </tr>\n",
       "    <tr>\n",
       "      <th>2010</th>\n",
       "      <td>37253956</td>\n",
       "      <td>19378102</td>\n",
       "      <td>25145561</td>\n",
       "    </tr>\n",
       "  </tbody>\n",
       "</table>\n",
       "</div>"
      ],
      "text/plain": [
       "state  California  New York     Texas\n",
       "year                                 \n",
       "2000     33871648  18976457  20851820\n",
       "2010     37253956  19378102  25145561"
      ]
     },
     "execution_count": 92,
     "metadata": {},
     "output_type": "execute_result"
    }
   ],
   "source": [
    "population_series.unstack(level=0)"
   ]
  },
  {
   "cell_type": "code",
   "execution_count": 93,
   "id": "12ecdf22-6840-4840-8cb9-892cb296b01c",
   "metadata": {},
   "outputs": [
    {
     "data": {
      "text/html": [
       "<div>\n",
       "<style scoped>\n",
       "    .dataframe tbody tr th:only-of-type {\n",
       "        vertical-align: middle;\n",
       "    }\n",
       "\n",
       "    .dataframe tbody tr th {\n",
       "        vertical-align: top;\n",
       "    }\n",
       "\n",
       "    .dataframe thead th {\n",
       "        text-align: right;\n",
       "    }\n",
       "</style>\n",
       "<table border=\"1\" class=\"dataframe\">\n",
       "  <thead>\n",
       "    <tr style=\"text-align: right;\">\n",
       "      <th>year</th>\n",
       "      <th>2000</th>\n",
       "      <th>2010</th>\n",
       "    </tr>\n",
       "    <tr>\n",
       "      <th>state</th>\n",
       "      <th></th>\n",
       "      <th></th>\n",
       "    </tr>\n",
       "  </thead>\n",
       "  <tbody>\n",
       "    <tr>\n",
       "      <th>California</th>\n",
       "      <td>33871648</td>\n",
       "      <td>37253956</td>\n",
       "    </tr>\n",
       "    <tr>\n",
       "      <th>New York</th>\n",
       "      <td>18976457</td>\n",
       "      <td>19378102</td>\n",
       "    </tr>\n",
       "    <tr>\n",
       "      <th>Texas</th>\n",
       "      <td>20851820</td>\n",
       "      <td>25145561</td>\n",
       "    </tr>\n",
       "  </tbody>\n",
       "</table>\n",
       "</div>"
      ],
      "text/plain": [
       "year            2000      2010\n",
       "state                         \n",
       "California  33871648  37253956\n",
       "New York    18976457  19378102\n",
       "Texas       20851820  25145561"
      ]
     },
     "execution_count": 93,
     "metadata": {},
     "output_type": "execute_result"
    }
   ],
   "source": [
    "population_series.unstack(level=1)"
   ]
  },
  {
   "cell_type": "code",
   "execution_count": 95,
   "id": "6c484fb2-8378-43c6-b246-5dd261711128",
   "metadata": {},
   "outputs": [
    {
     "data": {
      "text/plain": [
       "state       year\n",
       "California  2000    33871648\n",
       "            2010    37253956\n",
       "New York    2000    18976457\n",
       "            2010    19378102\n",
       "Texas       2000    20851820\n",
       "            2010    25145561\n",
       "dtype: int64"
      ]
     },
     "execution_count": 95,
     "metadata": {},
     "output_type": "execute_result"
    }
   ],
   "source": [
    "population_series.unstack().stack()"
   ]
  },
  {
   "cell_type": "markdown",
   "id": "20094504-e9e6-489b-8f4c-49d574902d3b",
   "metadata": {},
   "source": [
    "## Агрегирование по мультииндексам\n",
    "В библиотеке Pandas имеются встроенные методы для агрегирования данных, например ``mean()``, ``sum()`` и ``max()``. В случае иерархически индексированных данных им можно передать параметр level для указания подмножества данных, на котором будет вычисляться сводный показатель."
   ]
  },
  {
   "cell_type": "code",
   "execution_count": 96,
   "id": "4275073a-319d-4825-a8a9-9791f0564ecf",
   "metadata": {},
   "outputs": [
    {
     "data": {
      "text/html": [
       "<div>\n",
       "<style scoped>\n",
       "    .dataframe tbody tr th:only-of-type {\n",
       "        vertical-align: middle;\n",
       "    }\n",
       "\n",
       "    .dataframe tbody tr th {\n",
       "        vertical-align: top;\n",
       "    }\n",
       "\n",
       "    .dataframe thead tr th {\n",
       "        text-align: left;\n",
       "    }\n",
       "\n",
       "    .dataframe thead tr:last-of-type th {\n",
       "        text-align: right;\n",
       "    }\n",
       "</style>\n",
       "<table border=\"1\" class=\"dataframe\">\n",
       "  <thead>\n",
       "    <tr>\n",
       "      <th></th>\n",
       "      <th>subject</th>\n",
       "      <th colspan=\"2\" halign=\"left\">Bob</th>\n",
       "      <th colspan=\"2\" halign=\"left\">Guido</th>\n",
       "      <th colspan=\"2\" halign=\"left\">Sue</th>\n",
       "    </tr>\n",
       "    <tr>\n",
       "      <th></th>\n",
       "      <th>type</th>\n",
       "      <th>HR</th>\n",
       "      <th>Temp</th>\n",
       "      <th>HR</th>\n",
       "      <th>Temp</th>\n",
       "      <th>HR</th>\n",
       "      <th>Temp</th>\n",
       "    </tr>\n",
       "    <tr>\n",
       "      <th>year</th>\n",
       "      <th>visit</th>\n",
       "      <th></th>\n",
       "      <th></th>\n",
       "      <th></th>\n",
       "      <th></th>\n",
       "      <th></th>\n",
       "      <th></th>\n",
       "    </tr>\n",
       "  </thead>\n",
       "  <tbody>\n",
       "    <tr>\n",
       "      <th rowspan=\"2\" valign=\"top\">2013</th>\n",
       "      <th>1</th>\n",
       "      <td>27.0</td>\n",
       "      <td>35.9</td>\n",
       "      <td>34.0</td>\n",
       "      <td>37.7</td>\n",
       "      <td>31.0</td>\n",
       "      <td>37.6</td>\n",
       "    </tr>\n",
       "    <tr>\n",
       "      <th>2</th>\n",
       "      <td>46.0</td>\n",
       "      <td>35.7</td>\n",
       "      <td>19.0</td>\n",
       "      <td>34.4</td>\n",
       "      <td>36.0</td>\n",
       "      <td>36.8</td>\n",
       "    </tr>\n",
       "    <tr>\n",
       "      <th rowspan=\"2\" valign=\"top\">2014</th>\n",
       "      <th>1</th>\n",
       "      <td>52.0</td>\n",
       "      <td>37.1</td>\n",
       "      <td>34.0</td>\n",
       "      <td>36.7</td>\n",
       "      <td>44.0</td>\n",
       "      <td>36.9</td>\n",
       "    </tr>\n",
       "    <tr>\n",
       "      <th>2</th>\n",
       "      <td>23.0</td>\n",
       "      <td>38.5</td>\n",
       "      <td>37.0</td>\n",
       "      <td>36.4</td>\n",
       "      <td>38.0</td>\n",
       "      <td>35.9</td>\n",
       "    </tr>\n",
       "  </tbody>\n",
       "</table>\n",
       "</div>"
      ],
      "text/plain": [
       "subject      Bob       Guido         Sue      \n",
       "type          HR  Temp    HR  Temp    HR  Temp\n",
       "year visit                                    \n",
       "2013 1      27.0  35.9  34.0  37.7  31.0  37.6\n",
       "     2      46.0  35.7  19.0  34.4  36.0  36.8\n",
       "2014 1      52.0  37.1  34.0  36.7  44.0  36.9\n",
       "     2      23.0  38.5  37.0  36.4  38.0  35.9"
      ]
     },
     "execution_count": 96,
     "metadata": {},
     "output_type": "execute_result"
    }
   ],
   "source": [
    "health_data"
   ]
  },
  {
   "cell_type": "code",
   "execution_count": 97,
   "id": "d45572cf-12f4-48c1-a934-ef6cfc68ed02",
   "metadata": {},
   "outputs": [
    {
     "name": "stderr",
     "output_type": "stream",
     "text": [
      "/tmp/ipykernel_37934/2845460446.py:1: FutureWarning: Using the level keyword in DataFrame and Series aggregations is deprecated and will be removed in a future version. Use groupby instead. df.median(level=1) should use df.groupby(level=1).median().\n",
      "  data_mean = health_data.mean(level='year')\n"
     ]
    },
    {
     "data": {
      "text/html": [
       "<div>\n",
       "<style scoped>\n",
       "    .dataframe tbody tr th:only-of-type {\n",
       "        vertical-align: middle;\n",
       "    }\n",
       "\n",
       "    .dataframe tbody tr th {\n",
       "        vertical-align: top;\n",
       "    }\n",
       "\n",
       "    .dataframe thead tr th {\n",
       "        text-align: left;\n",
       "    }\n",
       "\n",
       "    .dataframe thead tr:last-of-type th {\n",
       "        text-align: right;\n",
       "    }\n",
       "</style>\n",
       "<table border=\"1\" class=\"dataframe\">\n",
       "  <thead>\n",
       "    <tr>\n",
       "      <th>subject</th>\n",
       "      <th colspan=\"2\" halign=\"left\">Bob</th>\n",
       "      <th colspan=\"2\" halign=\"left\">Guido</th>\n",
       "      <th colspan=\"2\" halign=\"left\">Sue</th>\n",
       "    </tr>\n",
       "    <tr>\n",
       "      <th>type</th>\n",
       "      <th>HR</th>\n",
       "      <th>Temp</th>\n",
       "      <th>HR</th>\n",
       "      <th>Temp</th>\n",
       "      <th>HR</th>\n",
       "      <th>Temp</th>\n",
       "    </tr>\n",
       "    <tr>\n",
       "      <th>year</th>\n",
       "      <th></th>\n",
       "      <th></th>\n",
       "      <th></th>\n",
       "      <th></th>\n",
       "      <th></th>\n",
       "      <th></th>\n",
       "    </tr>\n",
       "  </thead>\n",
       "  <tbody>\n",
       "    <tr>\n",
       "      <th>2013</th>\n",
       "      <td>36.5</td>\n",
       "      <td>35.8</td>\n",
       "      <td>26.5</td>\n",
       "      <td>36.05</td>\n",
       "      <td>33.5</td>\n",
       "      <td>37.2</td>\n",
       "    </tr>\n",
       "    <tr>\n",
       "      <th>2014</th>\n",
       "      <td>37.5</td>\n",
       "      <td>37.8</td>\n",
       "      <td>35.5</td>\n",
       "      <td>36.55</td>\n",
       "      <td>41.0</td>\n",
       "      <td>36.4</td>\n",
       "    </tr>\n",
       "  </tbody>\n",
       "</table>\n",
       "</div>"
      ],
      "text/plain": [
       "subject   Bob       Guido          Sue      \n",
       "type       HR  Temp    HR   Temp    HR  Temp\n",
       "year                                        \n",
       "2013     36.5  35.8  26.5  36.05  33.5  37.2\n",
       "2014     37.5  37.8  35.5  36.55  41.0  36.4"
      ]
     },
     "execution_count": 97,
     "metadata": {},
     "output_type": "execute_result"
    }
   ],
   "source": [
    "data_mean = health_data.mean(level='year')\n",
    "data_mean"
   ]
  },
  {
   "cell_type": "code",
   "execution_count": 98,
   "id": "92486df0-6129-4319-90a0-d83d2e19e5b7",
   "metadata": {},
   "outputs": [
    {
     "name": "stderr",
     "output_type": "stream",
     "text": [
      "/tmp/ipykernel_37934/1641729190.py:1: FutureWarning: Using the level keyword in DataFrame and Series aggregations is deprecated and will be removed in a future version. Use groupby instead. df.median(level=1) should use df.groupby(level=1).median().\n",
      "  data_mean.mean(axis=1, level='type')\n"
     ]
    },
    {
     "data": {
      "text/html": [
       "<div>\n",
       "<style scoped>\n",
       "    .dataframe tbody tr th:only-of-type {\n",
       "        vertical-align: middle;\n",
       "    }\n",
       "\n",
       "    .dataframe tbody tr th {\n",
       "        vertical-align: top;\n",
       "    }\n",
       "\n",
       "    .dataframe thead th {\n",
       "        text-align: right;\n",
       "    }\n",
       "</style>\n",
       "<table border=\"1\" class=\"dataframe\">\n",
       "  <thead>\n",
       "    <tr style=\"text-align: right;\">\n",
       "      <th>type</th>\n",
       "      <th>HR</th>\n",
       "      <th>Temp</th>\n",
       "    </tr>\n",
       "    <tr>\n",
       "      <th>year</th>\n",
       "      <th></th>\n",
       "      <th></th>\n",
       "    </tr>\n",
       "  </thead>\n",
       "  <tbody>\n",
       "    <tr>\n",
       "      <th>2013</th>\n",
       "      <td>32.166667</td>\n",
       "      <td>36.350000</td>\n",
       "    </tr>\n",
       "    <tr>\n",
       "      <th>2014</th>\n",
       "      <td>38.000000</td>\n",
       "      <td>36.916667</td>\n",
       "    </tr>\n",
       "  </tbody>\n",
       "</table>\n",
       "</div>"
      ],
      "text/plain": [
       "type         HR       Temp\n",
       "year                      \n",
       "2013  32.166667  36.350000\n",
       "2014  38.000000  36.916667"
      ]
     },
     "execution_count": 98,
     "metadata": {},
     "output_type": "execute_result"
    }
   ],
   "source": [
    "data_mean.mean(axis=1, level='type')"
   ]
  },
  {
   "cell_type": "markdown",
   "id": "b83088de-0190-4992-b1bc-6c988d7cbfc3",
   "metadata": {},
   "source": [
    "# Объединение наборов данных: конкатенация и добавление"
   ]
  },
  {
   "cell_type": "code",
   "execution_count": 99,
   "id": "2d3b50b0-da92-431e-a6b9-e3ca2a614606",
   "metadata": {},
   "outputs": [
    {
     "data": {
      "text/html": [
       "<div>\n",
       "<style scoped>\n",
       "    .dataframe tbody tr th:only-of-type {\n",
       "        vertical-align: middle;\n",
       "    }\n",
       "\n",
       "    .dataframe tbody tr th {\n",
       "        vertical-align: top;\n",
       "    }\n",
       "\n",
       "    .dataframe thead th {\n",
       "        text-align: right;\n",
       "    }\n",
       "</style>\n",
       "<table border=\"1\" class=\"dataframe\">\n",
       "  <thead>\n",
       "    <tr style=\"text-align: right;\">\n",
       "      <th></th>\n",
       "      <th>A</th>\n",
       "      <th>B</th>\n",
       "      <th>C</th>\n",
       "    </tr>\n",
       "  </thead>\n",
       "  <tbody>\n",
       "    <tr>\n",
       "      <th>0</th>\n",
       "      <td>A0</td>\n",
       "      <td>B0</td>\n",
       "      <td>C0</td>\n",
       "    </tr>\n",
       "    <tr>\n",
       "      <th>1</th>\n",
       "      <td>A1</td>\n",
       "      <td>B1</td>\n",
       "      <td>C1</td>\n",
       "    </tr>\n",
       "    <tr>\n",
       "      <th>2</th>\n",
       "      <td>A2</td>\n",
       "      <td>B2</td>\n",
       "      <td>C2</td>\n",
       "    </tr>\n",
       "  </tbody>\n",
       "</table>\n",
       "</div>"
      ],
      "text/plain": [
       "    A   B   C\n",
       "0  A0  B0  C0\n",
       "1  A1  B1  C1\n",
       "2  A2  B2  C2"
      ]
     },
     "execution_count": 99,
     "metadata": {},
     "output_type": "execute_result"
    }
   ],
   "source": [
    "def make_df(cols, ind):\n",
    "    \"\"\"Quickly make a DataFrame\"\"\"\n",
    "    data = {c: [str(c) + str(i) for i in ind]\n",
    "            for c in cols}\n",
    "    return pd.DataFrame(data, ind)\n",
    "\n",
    "# example DataFrame\n",
    "make_df('ABC', range(3))"
   ]
  },
  {
   "cell_type": "code",
   "execution_count": null,
   "id": "6b97c981-5301-434d-8539-cbb820ab8591",
   "metadata": {},
   "outputs": [],
   "source": [
    "class display(object):\n",
    "    \"\"\"Display HTML representation of multiple objects\"\"\"\n",
    "    template = \"\"\"<div style=\"float: left; padding: 10px;\">\n",
    "    <p style='font-family:\"Courier New\", Courier, monospace'>{0}</p>{1}\n",
    "    </div>\"\"\"\n",
    "    def __init__(self, *args):\n",
    "        self.args = args\n",
    "        \n",
    "    def _repr_html_(self):\n",
    "        return '\\n'.join(self.template.format(a, eval(a)._repr_html_())\n",
    "                         for a in self.args)\n",
    "    \n",
    "    def __repr__(self):\n",
    "        return '\\n\\n'.join(a + '\\n' + repr(eval(a))\n",
    "                           for a in self.args)"
   ]
  },
  {
   "cell_type": "markdown",
   "id": "066c26ce-b08c-4517-9ba6-399c0e43349e",
   "metadata": {},
   "source": [
    "## Конкатенация ``pandas.concat``"
   ]
  },
  {
   "cell_type": "markdown",
   "id": "892b9b4d-7161-4877-ba0c-56948fbcf092",
   "metadata": {},
   "source": [
    "Функция ``pandas.concat()`` имеет схожий синтаксис с ``numpy.concatenate``, но содержит ряд дополнительных возможностей.\n",
    "\n",
    "```python\n",
    "# Сигнатура в Pandas v2.03\n",
    "pandas.concat(objs, *, axis=0, join='outer', ignore_index=False, keys=None, levels=None, names=None, verify_integrity=False, sort=False, copy=None)\n",
    "```\n",
    "\n",
    "``pandas.concat()`` можно использовать для простой конкатенации объектов ``pandas.Series`` или ``pandas.DataFrame``, так же как ``numpy.concatenate()`` можно использовать для простой конкатенации массивов."
   ]
  },
  {
   "cell_type": "code",
   "execution_count": null,
   "id": "44ff0cfd-b650-489d-a304-fa1ce0c11c09",
   "metadata": {},
   "outputs": [],
   "source": [
    "ser1 = pd.Series(['A', 'B', 'C'], index=[1, 2, 3])\n",
    "ser2 = pd.Series(['D', 'E', 'F'], index=[4, 5, 6])\n",
    "pd.concat([ser1, ser2])"
   ]
  },
  {
   "cell_type": "code",
   "execution_count": null,
   "id": "41af8e74-20bf-4df6-9957-e58d92af08b5",
   "metadata": {},
   "outputs": [],
   "source": [
    "df1 = make_df('AB', [1, 2])\n",
    "df2 = make_df('AB', [3, 4])\n",
    "display('df1', 'df2', 'pd.concat([df1, df2], axis=0)')"
   ]
  },
  {
   "cell_type": "code",
   "execution_count": null,
   "id": "20dbf92e-42be-4342-8c47-4e716de19c30",
   "metadata": {},
   "outputs": [],
   "source": [
    "df3 = make_df('AB', [0, 1])\n",
    "df4 = make_df('CD', [0, 1])\n",
    "display('df3', 'df4', \"pd.concat([df3, df4], axis=1)\")"
   ]
  },
  {
   "cell_type": "markdown",
   "id": "195a1538-3fe1-42db-b95c-51185a2721e9",
   "metadata": {},
   "source": [
    "### Повторяющиеся индексы\n",
    "\n",
    "Отличие между ``numpy.concatenate`` и ``pandas.concat``: конкатенация Pandas *сохраняет индексы*, даже если результат будет иметь дублирующиеся индексы!"
   ]
  },
  {
   "cell_type": "code",
   "execution_count": null,
   "id": "1447ea7d-b48a-42cf-b08e-c7e827e64451",
   "metadata": {},
   "outputs": [],
   "source": [
    "x = make_df('AB', [0, 1])\n",
    "y = make_df('AB', [2, 3])\n",
    "y.index = x.index  # make duplicate indices!\n",
    "display('x', 'y', 'pd.concat([x, y])')"
   ]
  },
  {
   "cell_type": "markdown",
   "id": "f66ddb70-af49-4ad4-aacb-a5ed94ea60b3",
   "metadata": {},
   "source": [
    "#### Catching the repeats as an error\n",
    "\n",
    "If you'd like to simply verify that the indices in the result of ``pd.concat()`` do not overlap, you can specify the ``verify_integrity`` flag.\n",
    "With this set to True, the concatenation will raise an exception if there are duplicate indices.\n",
    "Here is an example, where for clarity we'll catch and print the error message:"
   ]
  },
  {
   "cell_type": "code",
   "execution_count": null,
   "id": "4cd0cdc6-ab9f-4947-a253-98f60dca35c9",
   "metadata": {},
   "outputs": [],
   "source": [
    "pd.concat([x, y], verify_integrity=True)"
   ]
  },
  {
   "cell_type": "markdown",
   "id": "13cbd3f2-8862-40a0-ab7e-b946853a449d",
   "metadata": {},
   "source": [
    "#### Игнорирование индекса"
   ]
  },
  {
   "cell_type": "code",
   "execution_count": null,
   "id": "0617d453-e71a-4ace-8111-43aff116446c",
   "metadata": {},
   "outputs": [],
   "source": [
    "display('x', 'y', 'pd.concat([x, y], ignore_index=True)')"
   ]
  },
  {
   "cell_type": "markdown",
   "id": "9fde660b-7b9c-4000-94c5-0cf8ca89f912",
   "metadata": {},
   "source": [
    "####  Добавление ключей мультииндекса"
   ]
  },
  {
   "cell_type": "code",
   "execution_count": null,
   "id": "db6eeff2-803b-45b8-a5bb-22a3164f6048",
   "metadata": {},
   "outputs": [],
   "source": [
    "display('x', 'y', \"pd.concat([x, y], keys=['x', 'y'])\")"
   ]
  },
  {
   "cell_type": "markdown",
   "id": "22344f6a-2c3e-4192-9b04-6817d4e46ba4",
   "metadata": {},
   "source": [
    "### Конкатенация \n",
    "\n",
    "In the simple examples we just looked at, we were mainly concatenating ``DataFrame``s with shared column names.\n",
    "In practice, data from different sources might have different sets of column names, and ``pd.concat`` offers several options in this case.\n",
    "Consider the concatenation of the following two ``DataFrame``s, which have some (but not all!) columns in common:"
   ]
  },
  {
   "cell_type": "code",
   "execution_count": null,
   "id": "9da43051-45c8-4f30-b9ed-71857619c2f7",
   "metadata": {},
   "outputs": [],
   "source": [
    "df5 = make_df('ABC', [1, 2])\n",
    "df6 = make_df('BCD', [3, 4])\n",
    "display('df5', 'df6', \"pd.concat([df5, df6], join='outer')\")"
   ]
  },
  {
   "cell_type": "code",
   "execution_count": null,
   "id": "22ef96d8-1b2f-46c4-8804-94102074050e",
   "metadata": {},
   "outputs": [],
   "source": [
    "display('df5', 'df6', \"pd.concat([df5, df6], join='inner')\")"
   ]
  },
  {
   "cell_type": "markdown",
   "id": "ae2be9ba-c79f-4391-9f5a-9fb159b93908",
   "metadata": {},
   "source": [
    "### Добавление ``pandas.append()``"
   ]
  },
  {
   "cell_type": "code",
   "execution_count": null,
   "id": "92015ecb-ab96-4939-a727-1bef3cee761f",
   "metadata": {},
   "outputs": [],
   "source": [
    "display('df1', 'df2', 'df1.append(df2)')"
   ]
  },
  {
   "cell_type": "markdown",
   "id": "7ef54f93-8659-44e3-b0ad-e3a13740a7fb",
   "metadata": {},
   "source": [
    "# Объединение наборов данных: соединение и слияние"
   ]
  },
  {
   "cell_type": "markdown",
   "id": "5b048fe5-0e72-4a4d-8066-6a6de6ff5bc8",
   "metadata": {},
   "source": [
    "## Виды соединения\n",
    "\n",
    "Функция ``pandas.merge()`` реализует множество типов соединений: «один-к-одному», «многие-к-одному» и «многие-ко-многим». Все эти три типа соединений доступны через один и тот же вызов pd.merge(), тип выполняемого соединения зависит от формы входных данных."
   ]
  },
  {
   "cell_type": "markdown",
   "id": "0417bea1-4887-431c-aed3-d3959d176014",
   "metadata": {},
   "source": [
    "### Соединение один к одному"
   ]
  },
  {
   "cell_type": "code",
   "execution_count": null,
   "id": "d44a26c5-8fa5-48e8-b535-95166d05399b",
   "metadata": {},
   "outputs": [],
   "source": [
    "df1 = pd.DataFrame({'employee': ['Bob', 'Jake', 'Lisa', 'Sue'],\n",
    "                    'group': ['Accounting', 'Engineering', 'Engineering', 'HR']})\n",
    "df2 = pd.DataFrame({'employee': ['Lisa', 'Bob', 'Jake', 'Sue'],\n",
    "                    'hire_date': [2004, 2008, 2012, 2014]})\n",
    "display('df1', 'df2')"
   ]
  },
  {
   "cell_type": "code",
   "execution_count": null,
   "id": "c40332c8-3f36-4ac6-a822-944a3b10c208",
   "metadata": {},
   "outputs": [],
   "source": [
    "df3 = pd.merge(df1, df2)\n",
    "df3"
   ]
  },
  {
   "cell_type": "markdown",
   "id": "f05dcdb6-7c3c-440d-9dbd-2aea2f6c2adf",
   "metadata": {},
   "source": [
    "### Соединение многие-к-одному"
   ]
  },
  {
   "cell_type": "code",
   "execution_count": null,
   "id": "453c17f9-3057-457b-97d8-3cd2246ded59",
   "metadata": {},
   "outputs": [],
   "source": [
    "df4 = pd.DataFrame({\n",
    "  'group'     : ['Accounting', 'Engineering', 'HR'],\n",
    "  'supervisor': ['Carly', 'Guido', 'Steve']\n",
    "})\n",
    "display('df3', 'df4', 'pd.merge(df3, df4)')"
   ]
  },
  {
   "cell_type": "markdown",
   "id": "ab4895ff-eb64-479f-8d1e-dcb26b34ca08",
   "metadata": {},
   "source": [
    "### Соединение многие-ко-многим"
   ]
  },
  {
   "cell_type": "code",
   "execution_count": null,
   "id": "a1f44190-decd-43fb-b03f-528df20d449c",
   "metadata": {},
   "outputs": [],
   "source": [
    "df5 = pd.DataFrame({'group': ['Accounting', 'Accounting',\n",
    "                              'Engineering', 'Engineering', 'HR', 'HR'],\n",
    "                    'skills': ['math', 'spreadsheets', 'coding', 'linux',\n",
    "                               'spreadsheets', 'organization']})\n",
    "display('df1', 'df5', \"pd.merge(df1, df5)\")"
   ]
  },
  {
   "cell_type": "markdown",
   "id": "c200e283-c09b-4ae1-8989-b7c7fddf097f",
   "metadata": {},
   "source": [
    "## Задание ключа слияния\n",
    "\n",
    "Метод ``pandas.merge()`` по умолчанию выполняет поиск в двух входных объектах соответствующих названий столбцов и использует результат в качестве ключа. Однако зачастую имена столбцов не совпадают точно, и в методе pd.merge() имеются параметры для такой ситуации."
   ]
  },
  {
   "cell_type": "markdown",
   "id": "83b09fc4-604e-4823-a551-8d05b304f0d2",
   "metadata": {},
   "source": [
    "### Ключевое слово ``on`` "
   ]
  },
  {
   "cell_type": "code",
   "execution_count": null,
   "id": "b63f6075-5412-47e4-bd77-583498a36186",
   "metadata": {},
   "outputs": [],
   "source": [
    "display('df1', 'df2', \"pd.merge(df1, df2, on='employee')\")"
   ]
  },
  {
   "cell_type": "markdown",
   "id": "49466917-9f9e-4c73-b513-fd33408ee914",
   "metadata": {},
   "source": [
    "### Ключевые слова ``left_on`` и ``right_on``"
   ]
  },
  {
   "cell_type": "code",
   "execution_count": null,
   "id": "8a1ded99-3b4a-48f5-9db6-03f7ce24a43c",
   "metadata": {},
   "outputs": [],
   "source": [
    "df3 = pd.DataFrame({'name': ['Bob', 'Jake', 'Lisa', 'Sue'],\n",
    "                    'salary': [70000, 80000, 120000, 90000]})\n",
    "display('df1', 'df3', 'pd.merge(df1, df3, left_on=\"employee\", right_on=\"name\")')"
   ]
  },
  {
   "cell_type": "code",
   "execution_count": null,
   "id": "1068b160-5406-4ea5-8a3f-7ade1efc2862",
   "metadata": {},
   "outputs": [],
   "source": [
    "pd.merge(df1, df3, left_on=\"employee\", right_on=\"name\").drop('name', axis=1)"
   ]
  },
  {
   "cell_type": "markdown",
   "id": "d7e3ce99-d79f-405e-9055-bcea4d7e94d8",
   "metadata": {},
   "source": [
    "### Ключевые слова ``left_index`` и ``right_index``"
   ]
  },
  {
   "cell_type": "code",
   "execution_count": null,
   "id": "a2130209-5483-4f80-b7d8-bee731b5ac2b",
   "metadata": {},
   "outputs": [],
   "source": [
    "df1a = df1.set_index('employee')\n",
    "df2a = df2.set_index('employee')\n",
    "display('df1a', 'df2a')"
   ]
  },
  {
   "cell_type": "code",
   "execution_count": null,
   "id": "41a236ee-e127-4e5b-8883-fff77821ec3d",
   "metadata": {},
   "outputs": [],
   "source": [
    "display('df1a', 'df2a',\"pd.merge(df1a, df2a, left_index=True, right_index=True)\")"
   ]
  },
  {
   "cell_type": "code",
   "execution_count": null,
   "id": "6c3f856f-6d58-4b0e-bf2b-284ecaf1cdcf",
   "metadata": {},
   "outputs": [],
   "source": [
    "display('df1a', 'df2a', 'df1a.join(df2a)')"
   ]
  },
  {
   "cell_type": "code",
   "execution_count": null,
   "id": "f574e4ca-1832-430b-8296-ca8a72e6e688",
   "metadata": {},
   "outputs": [],
   "source": [
    "display('df1a', 'df3', \"pd.merge(df1a, df3, left_index=True, right_on='name')\")"
   ]
  },
  {
   "cell_type": "markdown",
   "id": "92adf299-0b9e-4333-bc73-19c79e522a92",
   "metadata": {},
   "source": [
    "## Определение операций над множествами для соединений"
   ]
  },
  {
   "cell_type": "code",
   "execution_count": null,
   "id": "87b1ac53-69bf-40f0-aebc-dd2a3edad7a1",
   "metadata": {},
   "outputs": [],
   "source": [
    "df6 = pd.DataFrame({'name': ['Peter', 'Paul', 'Mary'],\n",
    "                    'food': ['fish', 'beans', 'bread']},\n",
    "                   columns=['name', 'food'])\n",
    "df7 = pd.DataFrame({'name': ['Mary', 'Joseph'],\n",
    "                    'drink': ['wine', 'beer']},\n",
    "                   columns=['name', 'drink'])\n",
    "display('df6', 'df7', 'pd.merge(df6, df7)')"
   ]
  },
  {
   "cell_type": "code",
   "execution_count": null,
   "id": "3e013f30-eb3f-432c-ba9c-752a43f9781b",
   "metadata": {},
   "outputs": [],
   "source": [
    "pd.merge(df6, df7, how='inner')"
   ]
  },
  {
   "cell_type": "code",
   "execution_count": null,
   "id": "af0f52e8-d062-407f-a1d8-c8ba998cf1ac",
   "metadata": {},
   "outputs": [],
   "source": [
    "display('df6', 'df7', \"pd.merge(df6, df7, how='outer')\")"
   ]
  },
  {
   "cell_type": "code",
   "execution_count": null,
   "id": "dd2edaf8-7aa6-4d6b-be80-82b70696892c",
   "metadata": {},
   "outputs": [],
   "source": [
    "display('df6', 'df7', \"pd.merge(df6, df7, how='left')\")"
   ]
  },
  {
   "cell_type": "markdown",
   "id": "0c118727-6a5f-483b-8824-75bcb44cd1bb",
   "metadata": {},
   "source": [
    "## Пересекающиеся названия столбцов. Ключевое слово suffixes"
   ]
  },
  {
   "cell_type": "code",
   "execution_count": null,
   "id": "b5517ac5-a159-41d3-9982-091757c2225f",
   "metadata": {},
   "outputs": [],
   "source": [
    "df8 = pd.DataFrame({'name': ['Bob', 'Jake', 'Lisa', 'Sue'],\n",
    "                    'rank': [1, 2, 3, 4]})\n",
    "df9 = pd.DataFrame({'name': ['Bob', 'Jake', 'Lisa', 'Sue'],\n",
    "                    'rank': [3, 1, 4, 2]})\n",
    "display('df8', 'df9', 'pd.merge(df8, df9, on=\"name\")')"
   ]
  },
  {
   "cell_type": "code",
   "execution_count": null,
   "id": "714cd068-9c15-4de5-8fa5-546dd38b0cfa",
   "metadata": {},
   "outputs": [],
   "source": [
    "display('df8', 'df9', 'pd.merge(df8, df9, on=\"name\", suffixes=[\"_L\", \"_R\"])')"
   ]
  },
  {
   "cell_type": "markdown",
   "id": "f0fef17b-871e-43ea-8a92-e970681e29ae",
   "metadata": {},
   "source": [
    "# Агрегирование и группировка"
   ]
  },
  {
   "cell_type": "markdown",
   "id": "ae894c03-a868-45cd-818a-adb9fc550828",
   "metadata": {},
   "source": [
    "## Практический набор данных\n",
    "\n",
    "Будем использовать набор данных Planets, доступный в пакете [Seaborn](http://seaborn.pydata.org/).\n",
    "В нем содержится информация о планетах, которые астрономы обнаружили вокруг других звезд. Его можно загрузить с помощью простой команды Seaborn:"
   ]
  },
  {
   "cell_type": "code",
   "execution_count": null,
   "id": "bf298632-f442-4c38-973a-76a775621248",
   "metadata": {},
   "outputs": [],
   "source": [
    "import seaborn as sns\n",
    "\n",
    "planets_dataset = sns.load_dataset('planets')\n",
    "planets_dataset.shape"
   ]
  },
  {
   "cell_type": "code",
   "execution_count": null,
   "id": "1615f62b-2eaa-42d0-8a15-f8629592225d",
   "metadata": {},
   "outputs": [],
   "source": [
    "planets_dataset.head()"
   ]
  },
  {
   "cell_type": "markdown",
   "id": "4a3c144c-2825-4ec3-a42a-458c58c755c6",
   "metadata": {},
   "source": [
    "## Агрегирование"
   ]
  },
  {
   "cell_type": "code",
   "execution_count": null,
   "id": "f68c87cb-4354-4161-86be-19105e7ff089",
   "metadata": {},
   "outputs": [],
   "source": [
    "rng = np.random.RandomState(42)\n",
    "ser = pd.Series(rng.rand(5))\n",
    "ser"
   ]
  },
  {
   "cell_type": "code",
   "execution_count": null,
   "id": "aae1c144-749d-48d6-92ae-fc3d761a4ac5",
   "metadata": {},
   "outputs": [],
   "source": [
    "ser.sum()"
   ]
  },
  {
   "cell_type": "code",
   "execution_count": null,
   "id": "77901f14-c619-406f-a1bc-297a445d7835",
   "metadata": {},
   "outputs": [],
   "source": [
    "ser.mean()"
   ]
  },
  {
   "cell_type": "code",
   "execution_count": null,
   "id": "b270f614-747e-442b-90d7-3b8eb35a2d35",
   "metadata": {},
   "outputs": [],
   "source": [
    "df = pd.DataFrame({'A': rng.rand(5),\n",
    "                   'B': rng.rand(5)})\n",
    "df"
   ]
  },
  {
   "cell_type": "code",
   "execution_count": null,
   "id": "28fbc14b-203d-4578-8299-0b8584dea24c",
   "metadata": {},
   "outputs": [],
   "source": [
    "df.mean(axis='index')"
   ]
  },
  {
   "cell_type": "code",
   "execution_count": null,
   "id": "db0d1ec5-7f75-4f5a-a6a4-063e524d25cd",
   "metadata": {},
   "outputs": [],
   "source": [
    "df.mean(axis='columns')"
   ]
  },
  {
   "cell_type": "markdown",
   "id": "e95aef29-9f1c-4289-b73a-91b6178828cc",
   "metadata": {},
   "source": [
    "Список агрегирующих методов библиотеки Pandas:\n",
    "\n",
    "| Aggregation              | Description                        |\n",
    "|--------------------------|------------------------------------|\n",
    "| ``count()``              | Общее количество элементов         |\n",
    "| ``first()``, ``last()``  | Первый и последний элементы        |\n",
    "| ``mean()``, ``median()`` | Среднее значение и медиана         |\n",
    "| ``min()``, ``max()``     | Минимум и максимум                 |\n",
    "| ``std()``, ``var()``     | Стандартное отклонение и дисперсия |\n",
    "| ``mad()``                | Среднее абсолютное отклонение      |\n",
    "| ``prod()``               | Произведение всех элементов        |\n",
    "| ``sum()``                | Сумма всех элементов               |\n"
   ]
  },
  {
   "cell_type": "code",
   "execution_count": null,
   "id": "60e2d680-d556-4160-a871-dd4afa833b91",
   "metadata": {},
   "outputs": [],
   "source": [
    "planets_dataset.dropna().describe()"
   ]
  },
  {
   "cell_type": "markdown",
   "id": "7b93d435-1150-48d9-9533-27476e540834",
   "metadata": {},
   "source": [
    "## Группировка данных (GroupBy)\n",
    "\n",
    "Часто требуется выполнить условую агрегацию согласно ключа, некоторой метки или индекса, в Pandas это реализуется посредством ``groupby``"
   ]
  },
  {
   "cell_type": "markdown",
   "id": "bc716d5b-c26b-4296-b5b0-2af2cff8a7f2",
   "metadata": {},
   "source": [
    "### Разбиение, применение, объединение (Split, Apply, Combine)\n",
    "\n",
    "Базовый пример этой ``Split-Apply-Combine`` операции, где ``Apply`` является суммирующей агрегацией."
   ]
  },
  {
   "cell_type": "markdown",
   "id": "064158ea-07c5-4617-9738-655e2e5b6628",
   "metadata": {},
   "source": [
    "![](images/03.08-split-apply-combine.png)[]"
   ]
  },
  {
   "cell_type": "markdown",
   "id": "5aa96f25-1eed-4b49-a23a-c7cc82a80f24",
   "metadata": {},
   "source": [
    "- Шаг *разделить* включает разбиение и группировку ``pandas.DataFrame'' в зависимости от значения указанного ключа.\n",
    "- Шаг *apply* включает применение некоторой функции, обычно агрегата, преобразования или фильтрации, в рамках отдельных групп.\n",
    "- Шаг *combine*, результаты предыдущих операций объединяются в выходной массив.\n",
    "\n",
    "Указанные операции можно выполнить вручную, используя некоторую комбинацию команд маскирования, агрегирования и объединения, рассмотренных ранее, важным моментом является то, что *промежуточные разбиения не нужно явно инстанцировать*. ``GroupBy`` может (часто) сделать это за один проход по данным, обновляя по пути сумму, среднее, количество, min или другие агрегаты для каждой группы.\n",
    "Сила ``GroupBy'' в том, что он абстрагирует эти шаги: пользователю не нужно думать о том, *как* выполняются вычисления под капотом, а нужно думать о *операции в целом*."
   ]
  },
  {
   "cell_type": "code",
   "execution_count": null,
   "id": "86000ccc-944e-462b-89d5-ec2e977537ff",
   "metadata": {},
   "outputs": [],
   "source": [
    "df = pd.DataFrame({'key': ['A', 'B', 'C', 'A', 'B', 'C'], 'data': range(6)}, columns=['key', 'data'])\n",
    "df"
   ]
  },
  {
   "cell_type": "markdown",
   "id": "512620a5-fd44-4468-a683-e8065d2470e0",
   "metadata": {},
   "source": [
    "Базовая операция ``Split-Apply-Combine`` вычисляется с помощью метода ``groupby()`` для ``pandas.DataFrame``."
   ]
  },
  {
   "cell_type": "code",
   "execution_count": null,
   "id": "71352e8c-194f-492f-af72-514835c59fd5",
   "metadata": {},
   "outputs": [],
   "source": [
    "df.groupby('key')"
   ]
  },
  {
   "cell_type": "markdown",
   "id": "286dc731-f970-4732-9c96-fb849065c35a",
   "metadata": {},
   "source": [
    "Результатом является объект ``pandas.DataFrameGroupBy``, специальное представление ``pandas.DataFrame``, которое позволяет работать с группами данных, но не выполняет никаких фактических вычислений до тех пор, пока не будет применена операция агрегирование."
   ]
  },
  {
   "cell_type": "code",
   "execution_count": null,
   "id": "9156bdfe-c88c-4761-9b0d-5efd5bb5480e",
   "metadata": {},
   "outputs": [],
   "source": [
    "df.groupby('key').sum()"
   ]
  },
  {
   "cell_type": "markdown",
   "id": "aed79d49-c673-4794-add0-26f0eacd9782",
   "metadata": {},
   "source": [
    "В качестве агрегирующей функции можно применить практически любую обычную агрегатную функцию Pandas или NumPy, а также практически любую допустимую операцию ``pandas.DataFrame``."
   ]
  },
  {
   "cell_type": "markdown",
   "id": "aa309934-b625-48a4-b666-8ad5a2a2143d",
   "metadata": {},
   "source": [
    "### Объект pandas.DataFrameGroupBy"
   ]
  },
  {
   "cell_type": "markdown",
   "id": "69ce7357-b26e-4c2d-a296-d9d228bd5c0f",
   "metadata": {},
   "source": [
    "#### Индексация столбцов\n",
    "\n",
    "Объект ``pandas.DataFrameGroupBy`` поддерживает индексацию столбцов так же, как и ``pandas.DataFrame``, и возвращает модифицированный объект ``pandas.SeriesGroupBy``."
   ]
  },
  {
   "cell_type": "code",
   "execution_count": null,
   "id": "b8d7ce54-d84b-4551-9266-86d89c98f3bd",
   "metadata": {},
   "outputs": [],
   "source": [
    "planets_dataset.groupby('method')"
   ]
  },
  {
   "cell_type": "code",
   "execution_count": null,
   "id": "02ab7d64-c925-4bd8-8e55-ca6946105833",
   "metadata": {},
   "outputs": [],
   "source": [
    "planets_dataset.groupby('method')['orbital_period']"
   ]
  },
  {
   "cell_type": "code",
   "execution_count": null,
   "id": "1ca75250-4556-4bab-b5a4-ffa0794afed0",
   "metadata": {},
   "outputs": [],
   "source": [
    "planets_dataset.groupby('method')['orbital_period'].median()"
   ]
  },
  {
   "cell_type": "markdown",
   "id": "3f483758-2770-45c7-b977-0afbaba59852",
   "metadata": {},
   "source": [
    "#### Итерация по группам"
   ]
  },
  {
   "cell_type": "code",
   "execution_count": null,
   "id": "22c9274b-c1c2-4d8b-ace1-a74a98145e9d",
   "metadata": {},
   "outputs": [],
   "source": [
    "for (method, group) in planets_dataset.groupby('method'):\n",
    "    print(\"{0:30s} shape={1}\".format(method, group.shape))"
   ]
  },
  {
   "cell_type": "markdown",
   "id": "1938dd6a-a16d-40fb-a2b9-d5f77a0d69a9",
   "metadata": {},
   "source": [
    "#### Диспетчеризация методов (Dispatch methods)\n",
    "\n",
    "Любой метод, не реализованный явно объектом ``pandas.DataFrameGroupBy``, будет передан и вызван для групп, будь то ``pandas.DataFrame`` или ``pandas.Series``."
   ]
  },
  {
   "cell_type": "code",
   "execution_count": null,
   "id": "89484c67-c7d3-4b74-b19b-3936923b2c43",
   "metadata": {},
   "outputs": [],
   "source": [
    "planets_dataset.groupby('method')['year'].describe()"
   ]
  },
  {
   "cell_type": "markdown",
   "id": "058a3b37-53c4-4a4d-8ef5-1f0ad476f3f1",
   "metadata": {},
   "source": [
    "Взгляд на эту таблицу помогает нам лучше понять данные: например, подавляющее большинство планет было открыто методами радиальной скорости и транзита, хотя последний стал распространенным (благодаря новым, более точным телескопам) только в последнее десятилетие.\n",
    "Самыми новыми методами, являются Transit Timing Variation и Orbital Brightness Modulation, которые не использовались для открытия новых планет до 2011 года."
   ]
  },
  {
   "cell_type": "markdown",
   "id": "a4e69484-50ef-48df-a05c-93ba96939867",
   "metadata": {},
   "source": [
    "### Агрегирование, фильтрация, преобразование, применение\n",
    "\n",
    "Объект ``pandas.GroupBy`` также имеет методы ``aggregate()`` , ``filter()`` , ``transform()`` и ``apply()``, которые позволяют эффективно выполнять множество полезных операций до операции группировки данных."
   ]
  },
  {
   "cell_type": "code",
   "execution_count": null,
   "id": "b16fbba4-315b-409d-8763-032f6f925b40",
   "metadata": {},
   "outputs": [],
   "source": [
    "rng = np.random.RandomState(0)\n",
    "df = pd.DataFrame({'key': ['A', 'B', 'C', 'A', 'B', 'C'],\n",
    "                   'data1': range(6),\n",
    "                   'data2': rng.randint(0, 10, 6)},\n",
    "                   columns = ['key', 'data1', 'data2'])\n",
    "df"
   ]
  },
  {
   "cell_type": "markdown",
   "id": "865bec70-101b-4f03-bf13-63274040b325",
   "metadata": {},
   "source": [
    "#### Агрегирование\n",
    "\n",
    "Метод ``aggregate()`` обеспечивает большую гибкость, чем методы ``sum()``, ``median()`` и т.п., он может принимать на вход строку, функцию или список и вычислять все сводные показатели сразу."
   ]
  },
  {
   "cell_type": "code",
   "execution_count": null,
   "id": "886a9b82-528c-4b40-abd3-f025b340abf7",
   "metadata": {},
   "outputs": [],
   "source": [
    "df.groupby('key').aggregate(['min', np.median, max])"
   ]
  },
  {
   "cell_type": "markdown",
   "id": "c001f8ca-56f5-4756-af98-9f1dc2d1ce7a",
   "metadata": {},
   "source": [
    "Также в метод ``aggregate()`` можно передать словарь, связывающий имена столбцов с операциями, которые должны быть применены к этим столбцам."
   ]
  },
  {
   "cell_type": "code",
   "execution_count": null,
   "id": "0651ea50-b31d-41ee-820c-29047b0ca0f2",
   "metadata": {},
   "outputs": [],
   "source": [
    "df.groupby('key').aggregate({'data1': 'min','data2': 'max'})"
   ]
  },
  {
   "cell_type": "markdown",
   "id": "31bbe514-fe15-426f-9d49-ccfd72e3551f",
   "metadata": {},
   "source": [
    "#### Фильтрация\n",
    "\n",
    "Операция фильтрации позволяет отбрасывать данные в зависимости от свойств группы. Например, можно сохранить все группы, в которых стандартное отклонение значений превышает некоторое значение."
   ]
  },
  {
   "cell_type": "code",
   "execution_count": null,
   "id": "e880ba60-746c-491b-9fd6-3ae2beb9a56e",
   "metadata": {},
   "outputs": [],
   "source": [
    "def filter_func(x):\n",
    "    return x['data2'].std() > 4\n",
    "\n",
    "display('df', \"df.groupby('key').std()\", \"df.groupby('key').filter(filter_func)\")"
   ]
  },
  {
   "cell_type": "markdown",
   "id": "e6c1b448-2218-4ec2-94c3-98e1eba993e4",
   "metadata": {},
   "source": [
    "Функция ``filter_func()`` возвращает булевое значение, определеяющее статус группы."
   ]
  },
  {
   "cell_type": "markdown",
   "id": "f440889d-3649-4546-90bf-bc2ddc08c98e",
   "metadata": {},
   "source": [
    "#### Преобразование\n",
    "\n",
    "Операция преобразования позволяет применить некторое преобразование к данным внутри группы."
   ]
  },
  {
   "cell_type": "code",
   "execution_count": null,
   "id": "d328138d-a2f8-4150-9da3-6c0c11742d17",
   "metadata": {},
   "outputs": [],
   "source": [
    "def apply_func(x):\n",
    "    # x is a DataFrame of group values\n",
    "    x['data1'] /= x['data2'].sum()\n",
    "    return x\n",
    "\n",
    "display('df', \"df.groupby('key').apply(apply_func)\")"
   ]
  },
  {
   "cell_type": "markdown",
   "id": "b2ce7065-81d4-4a9d-b2cb-0028f854f32b",
   "metadata": {},
   "source": [
    "Функция ``apply_func()`` принимает ``pandas.DataFrame`` и возвращает ``pandas.DataFrame``."
   ]
  },
  {
   "cell_type": "markdown",
   "id": "80db3ce2-a8ff-4c18-8d14-72c93ac88bb4",
   "metadata": {},
   "source": [
    "#### Задание ключа разбиения\n",
    "В представленных ранее простых примерах мы разбивали объект DataFrame по\n",
    "одному столбцу. Это лишь один из многих вариантов задания принципа формиро-\n",
    "вания групп, и мы сейчас рассмотрим некоторые другие возможности."
   ]
  },
  {
   "cell_type": "markdown",
   "id": "0ed2c042-9c14-4e48-a1ab-f6923d848fc4",
   "metadata": {},
   "source": [
    "#### Список, массив, объект pandas.Series и индекс в качестве ключа группировки"
   ]
  },
  {
   "cell_type": "code",
   "execution_count": null,
   "id": "80523ba3-c0ac-43ca-9e2e-761bf88ffa5d",
   "metadata": {},
   "outputs": [],
   "source": [
    "L = [0, 1, 0, 1, 2, 0]\n",
    "display('df', 'df.groupby(L).sum()')"
   ]
  },
  {
   "cell_type": "markdown",
   "id": "198b8f46-514b-4b26-b161-bce45a77582c",
   "metadata": {},
   "source": [
    "#### Словарь или объект pandas.Series, связывающий индекс и группу"
   ]
  },
  {
   "cell_type": "code",
   "execution_count": null,
   "id": "07971768-4e34-481a-9a73-60550eecbcdb",
   "metadata": {},
   "outputs": [],
   "source": [
    "df2 = df.set_index('key')\n",
    "mapping = {'A': 'vowel', 'B': 'consonant', 'C': 'consonant'}\n",
    "display('df2', 'df2.groupby(mapping).sum()')"
   ]
  },
  {
   "cell_type": "markdown",
   "id": "02502ab5-580a-437a-bbdc-e3b8779640e8",
   "metadata": {},
   "source": [
    "#### Любая функция языка Python"
   ]
  },
  {
   "cell_type": "code",
   "execution_count": null,
   "id": "6c05d8ca-0103-446f-91f2-0517c7d50f9e",
   "metadata": {},
   "outputs": [],
   "source": [
    "display('df2', 'df2.groupby(str.lower).mean()')"
   ]
  },
  {
   "cell_type": "markdown",
   "id": "80b55fb4-f639-408d-a7dd-c8a8ea58ab21",
   "metadata": {},
   "source": [
    "## Пример группировки данных"
   ]
  },
  {
   "cell_type": "code",
   "execution_count": null,
   "id": "b9e05777-e5ce-492a-beb0-430be99637b4",
   "metadata": {},
   "outputs": [],
   "source": [
    "decade = 10 * (planets_dataset['year'] // 10)\n",
    "decade = decade.astype(str) + 's'\n",
    "decade.name = 'decade'\n",
    "planets_dataset.groupby(['method', decade])['number'].sum().unstack().fillna(0)"
   ]
  },
  {
   "cell_type": "markdown",
   "id": "bb7b013a-1698-4eb2-84c9-33ce39737619",
   "metadata": {},
   "source": [
    "# Сводные таблицы\n",
    "\n",
    "Сводная таблица (pivot table) получает на входе простые данные в виде столбцов и группирует записи в двумерную таблицу, обеспечива­\n",
    "ющую многомерное представление данных. Сводные таблицы можно рассматривать, как многомерную версию группировки данных (GroupBy)."
   ]
  },
  {
   "cell_type": "markdown",
   "id": "35e1af23-9f4b-4e27-8d66-90678a141b1d",
   "metadata": {},
   "source": [
    "## Практический набор данных\n",
    "\n",
    "Воспользуемся набором данных пассажиров парохода «Титаник», набор данных содержит информацию о каждом пассажире рейса, включая пол, возраст, класс, стоимость билета и многое другое."
   ]
  },
  {
   "cell_type": "code",
   "execution_count": null,
   "id": "053e4f1d-c15f-4dc8-8d06-3d698660a64b",
   "metadata": {},
   "outputs": [],
   "source": [
    "titanic_dataset = sns.load_dataset('titanic')"
   ]
  },
  {
   "cell_type": "code",
   "execution_count": null,
   "id": "8e4f79ef-be15-4126-bb72-b74fed161955",
   "metadata": {},
   "outputs": [],
   "source": [
    "titanic_dataset.head()"
   ]
  },
  {
   "cell_type": "markdown",
   "id": "16df0142-26fb-4b32-a179-9ca404be8c86",
   "metadata": {},
   "source": [
    "## Сводные таблицы «вручную»"
   ]
  },
  {
   "cell_type": "code",
   "execution_count": null,
   "id": "a66131f7-dae8-4902-96a3-3b94def43439",
   "metadata": {},
   "outputs": [],
   "source": [
    "titanic_dataset.groupby('sex')[['survived']].mean()"
   ]
  },
  {
   "cell_type": "code",
   "execution_count": null,
   "id": "6333befe-c730-4761-b63a-895c9ff7632e",
   "metadata": {},
   "outputs": [],
   "source": [
    "titanic_dataset.groupby(['sex', 'class'])['survived'].aggregate('mean').unstack()"
   ]
  },
  {
   "cell_type": "markdown",
   "id": "1998f089-b168-4b02-9ddf-816d5c77d17f",
   "metadata": {},
   "source": [
    "## Синтаксис сводных таблиц"
   ]
  },
  {
   "cell_type": "code",
   "execution_count": null,
   "id": "16df80de-d7d6-4cf3-abc1-36ef32df4f90",
   "metadata": {},
   "outputs": [],
   "source": [
    "titanic_dataset.pivot_table('survived', index='sex', columns='class')"
   ]
  },
  {
   "cell_type": "markdown",
   "id": "0e8156ff-a097-4bbc-a2f4-314535bbf28f",
   "metadata": {},
   "source": [
    "### Многоуровневые сводные таблицы"
   ]
  },
  {
   "cell_type": "code",
   "execution_count": null,
   "id": "5687999d-3591-457b-8dc1-05774b9d21be",
   "metadata": {},
   "outputs": [],
   "source": [
    "age = pd.cut(titanic_dataset['age'], [0, 18, 80])\n",
    "titanic_dataset.pivot_table('survived', ['sex', age], 'class')"
   ]
  },
  {
   "cell_type": "code",
   "execution_count": null,
   "id": "514f4508-aef4-43c5-9400-4af719d8ba09",
   "metadata": {},
   "outputs": [],
   "source": [
    "fare = pd.qcut(titanic_dataset['fare'], 2)\n",
    "titanic_dataset.pivot_table('survived', ['sex', age], [fare, 'class'])"
   ]
  },
  {
   "cell_type": "markdown",
   "id": "6039b548-dbbf-438b-a049-d36d195cca6f",
   "metadata": {},
   "source": [
    "### Дополнительные параметры сводных таблиц"
   ]
  },
  {
   "cell_type": "markdown",
   "id": "5d835339-bf9c-48bb-8174-c69b6af3d2f7",
   "metadata": {},
   "source": [
    "Полная сигнатура вызова метода pivot_table объектов DataFrame выглядит следующим образом:\n",
    "\n",
    "```python\n",
    "pandas.DataFrame..pivot_table( \n",
    "    values=None, index=None, columns=None,\n",
    "    aggfunc='mean', fill_value=None, margins=False,\n",
    "    dropna=True, margins_name='All', observed=False,\n",
    "    sort=True,\n",
    ")\n",
    "```\n",
    "Мы уже видели примеры первых трех аргументов, в данном подразделе рассмотрим остальные. Два из параметров, fill_value и dropna , относятся к пропущенным значениям и интуитивно понятны.\n",
    "Ключевое слово aggfunc управляет тем, какой тип агрегирования применяется, по умолчанию это среднее значение. \n",
    "Как и в ``pandas.GroupBy`` , спецификация агрегирующей функции может быть строкой с одним из нескольких обычных вариантов\n",
    "( то есть ``'sum'``, ``'mean'``, ``'count'``, ``'min'``, ``'max'``, и т.п.) или функцией, реализующей агрегирование ( то есть ``np.sum()``, ``min()``, ``sum()``, и т.п.). \n",
    "Кроме того, агрегирование может быть задано в виде словаря, связывающего столбец с любым из вышеперечисленных\n",
    "вариантов."
   ]
  },
  {
   "cell_type": "code",
   "execution_count": null,
   "id": "efe8b11c-1f95-493e-9bba-054d2956c7e0",
   "metadata": {},
   "outputs": [],
   "source": [
    "titanic_dataset.pivot_table(index='sex', columns='class',\n",
    "                    aggfunc={'survived':sum, 'fare':'mean'})"
   ]
  },
  {
   "cell_type": "markdown",
   "id": "8fbb2b35-2b57-4548-8482-24218bc3a1ba",
   "metadata": {},
   "source": [
    "Иногда бывает полезно вычислять результат по каждой группе. \n",
    "Это можно сделать с помощью ключевого слова ``margins``."
   ]
  },
  {
   "cell_type": "code",
   "execution_count": null,
   "id": "9bb42041-dca0-4593-877e-7a6cdf1160cf",
   "metadata": {},
   "outputs": [],
   "source": [
    "titanic_dataset.pivot_table('survived', index='sex', columns='class', margins=True)"
   ]
  }
 ],
 "metadata": {
  "kernelspec": {
   "display_name": "Python 3 (ipykernel)",
   "language": "python",
   "name": "python3"
  },
  "language_info": {
   "codemirror_mode": {
    "name": "ipython",
    "version": 3
   },
   "file_extension": ".py",
   "mimetype": "text/x-python",
   "name": "python",
   "nbconvert_exporter": "python",
   "pygments_lexer": "ipython3",
   "version": "3.8.16"
  }
 },
 "nbformat": 4,
 "nbformat_minor": 5
}
