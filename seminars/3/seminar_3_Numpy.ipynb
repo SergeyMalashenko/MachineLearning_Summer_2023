{
 "cells": [
  {
   "cell_type": "markdown",
   "id": "7c52183b-cd76-42b9-8a1e-f8add6b9b442",
   "metadata": {},
   "source": [
    "# Введение в NumPy"
   ]
  },
  {
   "cell_type": "markdown",
   "id": "8b285b47-1bdd-4f6f-8bea-7c4820d1fbe6",
   "metadata": {},
   "source": [
    "<a href=\"https://colab.research.google.com/github/jakevdp/PythonDataScienceHandbook/blob/master/notebooks/02.00-Introduction-to-NumPy.ipynb\"><img align=\"left\" src=\"https://colab.research.google.com/assets/colab-badge.svg\" alt=\"Open in Colab\" title=\"Open and Execute in Google Colaboratory\"></a>"
   ]
  },
  {
   "cell_type": "code",
   "execution_count": 1,
   "id": "96c3e76e-654d-493c-892a-43ab5d950942",
   "metadata": {
    "tags": []
   },
   "outputs": [
    {
     "data": {
      "text/plain": [
       "'1.22.1'"
      ]
     },
     "execution_count": 1,
     "metadata": {},
     "output_type": "execute_result"
    }
   ],
   "source": [
    "import numpy\n",
    "numpy.__version__"
   ]
  },
  {
   "cell_type": "code",
   "execution_count": 2,
   "id": "f0e81c54-0b2a-4da5-b472-2ff9f091c22c",
   "metadata": {
    "tags": []
   },
   "outputs": [],
   "source": [
    "import numpy as np"
   ]
  },
  {
   "cell_type": "markdown",
   "id": "16173863-beb0-4e3b-82b6-a01f1abe1dd3",
   "metadata": {},
   "source": [
    "## Встроенная документация\n",
    "\n",
    "IPython дает вам возможность быстро изучить содержимое модуля, а также документацию к различным функциям (с помощью символа `?`). Для получения более подробной информации о них обратитесь к [Help and Documentation in IPython](01.01-Help-And-Documentation.ipynb).\n",
    "\n",
    "Например, чтобы отобразить все содержимое пространства имен NumPy, вы можете набрать следующее:\n",
    "\n",
    "```ipython\n",
    "В [3]: np.<TAB>\n",
    "```\n",
    "\n",
    "А чтобы отобразить встроенную документацию NumPy, вы можете использовать следующее:\n",
    "\n",
    "```ipython\n",
    "In [4]: np?\n",
    "```\n",
    "\n",
    "Более подробную документацию, а также учебники и другие ресурсы можно найти на сайте http://www.numpy.org."
   ]
  },
  {
   "cell_type": "markdown",
   "id": "96a0da87-91a4-43f1-a1dc-e5ec0499107a",
   "metadata": {},
   "source": [
    "# Понимание типов данных в языке Python"
   ]
  },
  {
   "cell_type": "markdown",
   "id": "a4dbff32-57ff-463d-a09b-cf95b8bde1db",
   "metadata": {},
   "source": [
    "Эффективные вычисления, основанные на данных, требуют понимания того, как хранятся данные и как ими манипулировать.\n",
    "дадим описание и сравним то, как массивы данных обрабатываются в самом языке Python, и как NumPy улучшает это.\n",
    "д\n",
    "Пользователей Python часто привлекает простота использования, одной из составляющих которой является динамическая типизация.\n",
    "В то время как статически типизированные языки, такие как C или Java, требуют явного объявления каждой переменной, динамически типизированные языки, такие как Python, пропускают эту спецификацию. Например, в языке C вы можете указать конкретную операцию следующим образом:\n",
    "\n",
    "```C\n",
    "/* Код на C */\n",
    "int result = 0;\n",
    "for(int i=0; i<100; i++){\n",
    "    result += i;\n",
    "}\n",
    "```\n",
    "\n",
    "В то время как в Python эквивалентная операция может быть записана следующим образом:\n",
    "\n",
    "```python\n",
    "# Python код\n",
    "результат = 0\n",
    "for i in range(100):\n",
    "    result += i\n",
    "```\n",
    "\n",
    "Обратите внимание на главное отличие: в C типы данных каждой переменной объявляются явно, а в Python типы определяются динамически. Это означает, что, например, мы можем присвоить любой тип данных любой переменной:\n",
    "\n",
    "```python\n",
    "# Python код\n",
    "x = 4\n",
    "x = \"четыре\"\n",
    "```\n",
    "\n",
    "Здесь мы поменяли содержимое ``x`` с целого числа на строку. То же самое в C привело бы (в зависимости от настроек компилятора) к ошибке компиляции или другим непредвиденным последствиям:\n",
    "\n",
    "```C\n",
    "/* Код на C */\n",
    "int x = 4;\n",
    "x = \"четыре\"; // ОШИБКА\n",
    "```\n",
    "\n",
    "Подобная гибкость - одна из составляющих, которая делает Python и другие динамически типизированные языки удобными и простыми в использовании.\n",
    "Понимание того, *как* это работает, является важной частью обучения эффективному анализу данных с помощью Python.\n",
    "Но гибкость типов также указывает на то, что переменные Python - это не просто их значение; они также содержат дополнительную информацию о типе значения."
   ]
  },
  {
   "cell_type": "markdown",
   "id": "7aafa7d1-5c35-45af-bc8c-df529f5cfc02",
   "metadata": {},
   "source": [
    "## Целое число в Python - это больше, чем просто целое число\n",
    "\n",
    "Стандартная реализация Python написана на языке C.\n",
    "Это означает, что каждый объект Python - это просто умело замаскированная структура языка C, которая содержит не только свое значение, но и другую информацию. Например, когда мы определяем целое число в Python, например, ``x = 10000``, ``x`` - это не просто \"сырое\" целое число. На самом деле это указатель на составную структуру C, которая содержит несколько значений.\n",
    "Просматривая исходный код Python 3.4, мы обнаруживаем, что определение типа integer (long) фактически выглядит следующим образом (после расширения макросов C):\n",
    "\n",
    "```C\n",
    "struct _longobject {\n",
    "    long ob_refcnt;\n",
    "    PyTypeObject *ob_type;\n",
    "    size_t ob_size;\n",
    "    long ob_digit[1];\n",
    "};\n",
    "```\n",
    "\n",
    "Одно целое число в Python 3.4 на самом деле содержит четыре части:\n",
    "\n",
    "- ``ob_refcnt``, счетчик ссылок, который помогает Python тихо обрабатывать выделение и удаление памяти\n",
    "- ``ob_type``, который кодирует тип переменной\n",
    "- ``ob_size``, который определяет размер следующих членов данных\n",
    "- ``ob_digit``, который содержит фактическое целочисленное значение, которое, как мы ожидаем, будет представлять переменная Python.\n",
    "\n",
    "Это означает, что хранение целого числа в Python требует определенных затрат по сравнению с целым числом в компилируемом языке, таком как C"
   ]
  },
  {
   "cell_type": "markdown",
   "id": "17f7ea56-47a2-4a22-a59d-03405e3aa7d1",
   "metadata": {},
   "source": [
    "![Integer Memory Layout](images/cint_vs_pyint.png)"
   ]
  },
  {
   "cell_type": "markdown",
   "id": "8e4be151-4408-4ec7-bce6-8160772f9816",
   "metadata": {},
   "source": [
    "Здесь ``PyObject_HEAD`` - это часть структуры, содержащая счетчик ссылок, код типа и другие части, упомянутые ранее.\n",
    "\n",
    "Обратите внимание на разницу: целое число в языке Си - это, по сути, метка для позиции в памяти, байты которой кодируют целочисленное значение.\n",
    "Целое число в Python - это указатель на позицию в памяти, содержащий всю информацию об объекте Python, включая байты, которые содержат целочисленное значение.\n",
    "Эта дополнительная информация в целочисленной структуре Python - то, что позволяет кодировать Python так свободно и динамично.\n",
    "Однако за всю эту дополнительную информацию в типах Python приходится платить, что становится особенно очевидным в структурах, объединяющих множество таких объектов."
   ]
  },
  {
   "cell_type": "markdown",
   "id": "8d5baeb7-35ab-41df-a7a5-8fd903af54c2",
   "metadata": {},
   "source": [
    "## Список Python - это больше, чем просто список\n",
    "\n",
    "Давайте теперь рассмотрим, что происходит, когда мы используем структуру данных Python, в которой хранится много объектов Python.\n",
    "Стандартным многоэлементным контейнером с возможностью изменения в Python является список.\n",
    "Мы можем создать список целых чисел следующим образом:"
   ]
  },
  {
   "cell_type": "code",
   "execution_count": 3,
   "id": "a629adc4-6e04-4a2e-84e2-ffe115f8ed25",
   "metadata": {},
   "outputs": [
    {
     "data": {
      "text/plain": [
       "[0, 1, 2, 3, 4, 5, 6, 7, 8, 9]"
      ]
     },
     "execution_count": 3,
     "metadata": {},
     "output_type": "execute_result"
    }
   ],
   "source": [
    "L = list(range(10))\n",
    "L"
   ]
  },
  {
   "cell_type": "code",
   "execution_count": 4,
   "id": "be9b3ff1-4769-409b-b0d6-1d7842f94bf6",
   "metadata": {},
   "outputs": [
    {
     "data": {
      "text/plain": [
       "int"
      ]
     },
     "execution_count": 4,
     "metadata": {},
     "output_type": "execute_result"
    }
   ],
   "source": [
    "type(L[0])"
   ]
  },
  {
   "cell_type": "code",
   "execution_count": 5,
   "id": "23e1f011-8017-4182-9e31-2329b60e3940",
   "metadata": {},
   "outputs": [
    {
     "data": {
      "text/plain": [
       "['0', '1', '2', '3', '4', '5', '6', '7', '8', '9']"
      ]
     },
     "execution_count": 5,
     "metadata": {},
     "output_type": "execute_result"
    }
   ],
   "source": [
    "L2 = [str(c) for c in L]\n",
    "L2"
   ]
  },
  {
   "cell_type": "code",
   "execution_count": 6,
   "id": "181e5a18-7a7a-4334-8888-6934289627ea",
   "metadata": {},
   "outputs": [
    {
     "data": {
      "text/plain": [
       "str"
      ]
     },
     "execution_count": 6,
     "metadata": {},
     "output_type": "execute_result"
    }
   ],
   "source": [
    "type(L2[0])"
   ]
  },
  {
   "cell_type": "code",
   "execution_count": 7,
   "id": "d9195ffa-711f-4b8e-a76a-5bae9b19e0a2",
   "metadata": {},
   "outputs": [
    {
     "data": {
      "text/plain": [
       "[bool, str, float, int]"
      ]
     },
     "execution_count": 7,
     "metadata": {},
     "output_type": "execute_result"
    }
   ],
   "source": [
    "L3 = [True, \"2\", 3.0, 4]\n",
    "[type(item) for item in L3]"
   ]
  },
  {
   "cell_type": "markdown",
   "id": "ba2b12ca-9455-4b0d-8ab0-4bb7564453eb",
   "metadata": {},
   "source": [
    "Но за эту гибкость приходится платить: чтобы обеспечить гибкость типов, каждый элемент списка должен содержать информацию о своем типе, количество ссылок и другую информацию - то есть, каждый элемент является полным объектом Python.\n",
    "В особом случае, когда все переменные имеют один тип, большая часть этой информации является избыточной: гораздо эффективнее хранить данные в массиве фиксированного типа."
   ]
  },
  {
   "cell_type": "markdown",
   "id": "51f681f9-89fd-4ebf-a388-0c9f283239d7",
   "metadata": {},
   "source": [
    "![Array Memory Layout](images/array_vs_list.png)"
   ]
  },
  {
   "cell_type": "markdown",
   "id": "dbf30682-c090-4f66-8c8f-8a5150d3db00",
   "metadata": {},
   "source": [
    "На уровне реализации массив, по сути, содержит один указатель на один непрерывный блок данных.\n",
    "Список Python, с другой стороны, содержит указатель на блок указателей, каждый из которых, в свою очередь, указывает на полный объект Python, такой как целое число Python, которое мы рассматривали ранее.\n",
    "Опять же, преимущество списка заключается в гибкости: поскольку каждый элемент списка представляет собой полную структуру, содержащую как данные, так и информацию о типе, список может быть заполнен данными любого желаемого типа.\n",
    "Массивы фиксированного типа в стиле NumPy лишены такой гибкости, но гораздо более эффективны для хранения и манипулирования данными."
   ]
  },
  {
   "cell_type": "code",
   "execution_count": 9,
   "id": "82949535-6ce8-4f4b-9f17-aa04f5d6b0f9",
   "metadata": {
    "tags": []
   },
   "outputs": [],
   "source": [
    "import numpy as np"
   ]
  },
  {
   "cell_type": "markdown",
   "id": "dcfb2135-0f39-47dd-8e4d-83437f583c3c",
   "metadata": {},
   "source": [
    "## Создание массива из списка Python"
   ]
  },
  {
   "cell_type": "code",
   "execution_count": 14,
   "id": "bc5ce4e9-4b21-4ce9-a38b-d3ec4aa8ba3a",
   "metadata": {},
   "outputs": [
    {
     "data": {
      "text/plain": [
       "array([[2, 3, 4],\n",
       "       [4, 5, 6],\n",
       "       [6, 7, 8]])"
      ]
     },
     "execution_count": 14,
     "metadata": {},
     "output_type": "execute_result"
    }
   ],
   "source": [
    "# Целочисленный массив\n",
    "np.array([1, 4, 2, 5, 3])\n",
    "# Массив чисел с плавающей точкой\n",
    "np.array([3.14, 4, 2, 3])\n",
    "np.array([1, 2, 3, 4], dtype='float32')\n",
    "# Многомерный массив из вложенных списков\n",
    "np.array([range(i, i + 3) for i in [2, 4, 6]])"
   ]
  },
  {
   "cell_type": "markdown",
   "id": "1171fd5a-ed09-41f0-b20a-337fd1567f65",
   "metadata": {},
   "source": [
    "## Создание массивов с нуля"
   ]
  },
  {
   "cell_type": "code",
   "execution_count": 16,
   "id": "1096b5ab-d3dd-4335-8190-8679a51287df",
   "metadata": {
    "tags": []
   },
   "outputs": [
    {
     "data": {
      "text/plain": [
       "array([[3.14, 3.14, 3.14, 3.14, 3.14],\n",
       "       [3.14, 3.14, 3.14, 3.14, 3.14],\n",
       "       [3.14, 3.14, 3.14, 3.14, 3.14]])"
      ]
     },
     "execution_count": 16,
     "metadata": {},
     "output_type": "execute_result"
    }
   ],
   "source": [
    "# Создание массива данных, заполненого нулями\n",
    "np.zeros(10, dtype=int)\n",
    "# Создание массива 3x5, заполенного единицами\n",
    "np.ones((3, 5), dtype=float)\n",
    "# Создание массива 3x5, заполенного 3.14\n",
    "np.full((3, 5), 3.14)\n",
    "# Create an array filled with a linear sequence\n",
    "# Starting at 0, ending at 20, stepping by 2\n",
    "# (this is similar to the built-in range() function)\n",
    "np.arange(0, 20, 2)\n",
    "# Create an array of five values evenly spaced between 0 and 1\n",
    "np.linspace(0, 1, 5)\n",
    "# Create a 3x3 array of uniformly distributed\n",
    "# random values between 0 and 1\n",
    "np.random.random((3, 3))\n",
    "# Create a 3x3 array of normally distributed random values\n",
    "# with mean 0 and standard deviation 1\n",
    "np.random.normal(0, 1, (3, 3))\n",
    "# Create a 3x3 array of random integers in the interval [0, 10)\n",
    "np.random.randint(0, 10, (3, 3))\n",
    "# Create a 3x3 identity matrix\n",
    "np.eye(3)\n",
    "# Create an uninitialized array of three integers\n",
    "# The values will be whatever happens to already exist at that memory location\n",
    "np.empty(3)"
   ]
  },
  {
   "cell_type": "markdown",
   "id": "837c640b-a1d7-441b-b6d8-5373b6376261",
   "metadata": {},
   "source": [
    "### NumPy стандартные типы данных\n",
    "\n",
    "Стандартные типы данных NumPy перечислены в следующей таблице.\n",
    "Обратите внимание, что при построении массива их можно указать с помощью строки:\n",
    "\n",
    "```python\n",
    "np.zeros(10, dtype='int16')\n",
    "```\n",
    "\n",
    "Или с помощью связанного объекта NumPy:\n",
    "\n",
    "```python\n",
    "np.zeros(10, dtype=np.int16)\n",
    "```\n",
    "\n",
    "| Data type\t | Description |\n",
    "|-------------|-------------|\n",
    "| `bool_`     | Boolean (True or False) stored as a byte |\n",
    "| `int_`      | Default integer type (same as C `long`; normally either `int64` or `int32`)| \n",
    "| `intc`      | Identical to C `int` (normally `int32` or `int64`)| \n",
    "| `intp`      | Integer used for indexing (same as C `ssize_t`; normally either `int32` or `int64`)| \n",
    "| `int8`      | Byte (–128 to 127)| \n",
    "| `int16`     | Integer (–32768 to 32767)|\n",
    "| `int32`     | Integer (–2147483648 to 2147483647)|\n",
    "| `int64`     | Integer (–9223372036854775808 to 9223372036854775807)| \n",
    "| `uint8`     | Unsigned integer (0 to 255)| \n",
    "| `uint16`    | Unsigned integer (0 to 65535)| \n",
    "| `uint32`    | Unsigned integer (0 to 4294967295)| \n",
    "| `uint64`    | Unsigned integer (0 to 18446744073709551615)| \n",
    "| `float_`    | Shorthand for `float64`| \n",
    "| `float16`   | Half-precision float: sign bit, 5 bits exponent, 10 bits mantissa| \n",
    "| `float32`   | Single-precision float: sign bit, 8 bits exponent, 23 bits mantissa| \n",
    "| `float64`   | Double-precision float: sign bit, 11 bits exponent, 52 bits mantissa| \n",
    "| `complex_`  | Shorthand for `complex128`| \n",
    "| `complex64` | Complex number, represented by two 32-bit floats| \n",
    "| `complex128`| Complex number, represented by two 64-bit floats| "
   ]
  },
  {
   "cell_type": "markdown",
   "id": "1cda4f25-40e0-4c66-b858-516916a7e9e9",
   "metadata": {},
   "source": [
    "# Основы работы с массивами NumPy"
   ]
  },
  {
   "cell_type": "markdown",
   "id": "fe6bd7e9-8d2c-4965-a4e6-045c74c62b5d",
   "metadata": {},
   "source": [
    "Работа с данными в Python практически синонимична работе с массивами NumPy: даже такие новые инструменты, как Pandas, построены вокруг массива NumPy.\n",
    "\n",
    "Здесь мы рассмотрим несколько категорий основных манипуляций с массивами:\n",
    "\n",
    "- *Атрибуты массивов*: Определение размера, формы, объема памяти и типов данных массивов.\n",
    "- *Индексация массивов*: Получение и установка значения отдельных элементов массива\n",
    "- *Разбиение массивов*: Получение и установка меньших подмассивов в большом массиве.\n",
    "- *Переформирование массивов*: Изменение формы заданного массива\n",
    "- *Соединение и разделение массивов*: объединение нескольких массивов в один и разбиение одного массива на множество."
   ]
  },
  {
   "cell_type": "markdown",
   "id": "6ec75377-6851-4ac2-b3e4-68b914179b1f",
   "metadata": {},
   "source": [
    "## Аттрибуты массивов NumPy"
   ]
  },
  {
   "cell_type": "code",
   "execution_count": 18,
   "id": "f7bd3a20-baf7-4142-93cf-e14441b913d2",
   "metadata": {},
   "outputs": [],
   "source": [
    "x1 = np.random.randint(10, size=6        )  # Одномерный массив\n",
    "x2 = np.random.randint(10, size=(3, 4)   )  # Двухмерных массив\n",
    "x3 = np.random.randint(10, size=(3, 4, 5))  # Трехмерный массив"
   ]
  },
  {
   "cell_type": "markdown",
   "id": "8ba2f3d7-45aa-4b47-82f9-d036a54ad955",
   "metadata": {},
   "source": [
    "Каждый массив имеет атрибуты ``ndim`` (количество измерений), ``shape`` (размер каждого измерения) и ``size`` (общий размер массива):"
   ]
  },
  {
   "cell_type": "code",
   "execution_count": 19,
   "id": "11c30a2e-fb70-4db2-aa83-77b97b3deeb1",
   "metadata": {},
   "outputs": [
    {
     "name": "stdout",
     "output_type": "stream",
     "text": [
      "x3 ndim:  3\n",
      "x3 shape: (3, 4, 5)\n",
      "x3 size:  60\n"
     ]
    }
   ],
   "source": [
    "print(\"x3 ndim: \", x3.ndim )\n",
    "print(\"x3 shape:\", x3.shape)\n",
    "print(\"x3 size: \", x3.size )"
   ]
  },
  {
   "cell_type": "markdown",
   "id": "04e38f10-d7f3-4f5b-91ee-3ac6f122649d",
   "metadata": {},
   "source": [
    "Другим полезным атрибутом является ``dtype``, тип данных массива"
   ]
  },
  {
   "cell_type": "code",
   "execution_count": 20,
   "id": "8c7cd1cd-2351-41e7-a172-dd34426654d9",
   "metadata": {},
   "outputs": [
    {
     "name": "stdout",
     "output_type": "stream",
     "text": [
      "dtype: int64\n"
     ]
    }
   ],
   "source": [
    "print(\"dtype:\", x3.dtype)"
   ]
  },
  {
   "cell_type": "markdown",
   "id": "4f7fd20f-ed3a-48c8-b02b-e15cf3d241a4",
   "metadata": {},
   "source": [
    "Другие атрибуты включают ``itemsize``, где указан размер (в байтах) каждого элемента массива, и ``nbytes``, где указан общий размер (в байтах) массива."
   ]
  },
  {
   "cell_type": "code",
   "execution_count": 21,
   "id": "fc6cf34b-2a62-4b32-b1c5-8b7df96fefdc",
   "metadata": {},
   "outputs": [
    {
     "name": "stdout",
     "output_type": "stream",
     "text": [
      "itemsize: 8 bytes\n",
      "nbytes: 480 bytes\n"
     ]
    }
   ],
   "source": [
    "print(\"itemsize:\", x3.itemsize, \"bytes\")\n",
    "print(\"nbytes:\"  , x3.nbytes  , \"bytes\")"
   ]
  },
  {
   "cell_type": "markdown",
   "id": "3cc17e95-61bb-4c5b-a16c-7af3f12bc4d1",
   "metadata": {},
   "source": [
    "## Индексирование массивов: доступ к отдельным элементам"
   ]
  },
  {
   "cell_type": "markdown",
   "id": "a86c5523-b54e-4a30-ba90-9ca9a65aed36",
   "metadata": {},
   "source": []
  },
  {
   "cell_type": "code",
   "execution_count": 22,
   "id": "447feadc-fb3b-43b3-b1b0-f8480bd762d2",
   "metadata": {},
   "outputs": [
    {
     "data": {
      "text/plain": [
       "array([1, 4, 9, 9, 1, 6])"
      ]
     },
     "execution_count": 22,
     "metadata": {},
     "output_type": "execute_result"
    }
   ],
   "source": [
    "x1"
   ]
  },
  {
   "cell_type": "code",
   "execution_count": 23,
   "id": "ff79b657-5d3f-4edb-b5c2-cc0c9d497ee2",
   "metadata": {},
   "outputs": [
    {
     "data": {
      "text/plain": [
       "1"
      ]
     },
     "execution_count": 23,
     "metadata": {},
     "output_type": "execute_result"
    }
   ],
   "source": [
    "x1[0]"
   ]
  },
  {
   "cell_type": "code",
   "execution_count": 24,
   "id": "9598735d-e6f8-4e55-8ba8-61f90a571ffe",
   "metadata": {},
   "outputs": [
    {
     "data": {
      "text/plain": [
       "1"
      ]
     },
     "execution_count": 24,
     "metadata": {},
     "output_type": "execute_result"
    }
   ],
   "source": [
    "x1[-2]"
   ]
  },
  {
   "cell_type": "code",
   "execution_count": 25,
   "id": "68e6895d-cea1-4a82-b843-45a7c9552f03",
   "metadata": {
    "scrolled": true
   },
   "outputs": [
    {
     "data": {
      "text/plain": [
       "array([[1, 5, 7, 2],\n",
       "       [8, 3, 2, 9],\n",
       "       [3, 2, 0, 5]])"
      ]
     },
     "execution_count": 25,
     "metadata": {},
     "output_type": "execute_result"
    }
   ],
   "source": [
    "x2"
   ]
  },
  {
   "cell_type": "code",
   "execution_count": 26,
   "id": "07b4501e-3620-41f3-8469-a8c1b5725048",
   "metadata": {},
   "outputs": [
    {
     "data": {
      "text/plain": [
       "1"
      ]
     },
     "execution_count": 26,
     "metadata": {},
     "output_type": "execute_result"
    }
   ],
   "source": [
    "x2[0, 0]"
   ]
  },
  {
   "cell_type": "code",
   "execution_count": 27,
   "id": "511e9386-98fc-4241-882b-1c5363afc7f6",
   "metadata": {},
   "outputs": [
    {
     "data": {
      "text/plain": [
       "array([[ 1,  5, 12,  2],\n",
       "       [ 8,  3,  2,  9],\n",
       "       [ 3,  2,  0,  5]])"
      ]
     },
     "execution_count": 27,
     "metadata": {},
     "output_type": "execute_result"
    }
   ],
   "source": [
    "x2[0, -2] = 12\n",
    "x2"
   ]
  },
  {
   "cell_type": "code",
   "execution_count": 31,
   "id": "a2d79216-4047-4962-9283-145b4fee1b24",
   "metadata": {},
   "outputs": [
    {
     "data": {
      "text/plain": [
       "array([3, 4, 3, 9, 3, 6])"
      ]
     },
     "execution_count": 31,
     "metadata": {},
     "output_type": "execute_result"
    }
   ],
   "source": [
    "x1[-2] = 3.14159  # будет усечено!\n",
    "x1"
   ]
  },
  {
   "cell_type": "markdown",
   "id": "e5a8537e-ef72-459e-af34-e2d045e74199",
   "metadata": {},
   "source": [
    "## Сечение массива: доступ к подмассивам"
   ]
  },
  {
   "cell_type": "markdown",
   "id": "709ba506-440d-434e-ac80-c8288a3b0e4c",
   "metadata": {},
   "source": [
    "Можно квадратные скобки использовать для доступа к подмассивам с помощью нотации *slice*, обозначенной символом двоеточия (``:``).\n",
    "Синтаксис сечения NumPy повторяет стандартный список Python; чтобы получить доступ к подмассива массива ``x`` используется следующий синтаксис:\n",
    "```python\n",
    "x[start:stop:step]\n",
    "```\n",
    "Если какой-либо из этих параметров не указан, то по умолчанию используются значения ``start=0``, ``stop=``*``размер размерности``*, ``step=1``.\n",
    "Мы рассмотрим доступ к подмассивам в одном измерении и в нескольких измерениях."
   ]
  },
  {
   "cell_type": "markdown",
   "id": "ffeef35d-853d-403b-a084-4bc95aea2442",
   "metadata": {},
   "source": [
    "### Одномерный подмассив"
   ]
  },
  {
   "cell_type": "code",
   "execution_count": 32,
   "id": "83310550-a49f-49ff-bea2-4ebad14f0e08",
   "metadata": {},
   "outputs": [
    {
     "data": {
      "text/plain": [
       "array([0, 1, 2, 3, 4, 5, 6, 7, 8, 9])"
      ]
     },
     "execution_count": 32,
     "metadata": {},
     "output_type": "execute_result"
    }
   ],
   "source": [
    "x = np.arange(10)\n",
    "x"
   ]
  },
  {
   "cell_type": "code",
   "execution_count": 38,
   "id": "946b31ac-d595-4a2a-ab98-bc0235e4f243",
   "metadata": {},
   "outputs": [
    {
     "data": {
      "text/plain": [
       "array([5, 3, 1])"
      ]
     },
     "execution_count": 38,
     "metadata": {},
     "output_type": "execute_result"
    }
   ],
   "source": [
    "x[:5]  \n",
    "x[5:]\n",
    "x[4:7]\n",
    "x[::2]\n",
    "x[5::-2]"
   ]
  },
  {
   "cell_type": "markdown",
   "id": "d83f28c8-f5d0-4288-aa02-ec99b2c7b512",
   "metadata": {},
   "source": [
    "### Многомерный подмассив\n",
    "\n",
    "Многомерные сечения работают аналогичным образом, при этом несколько сечений разделяются запятыми."
   ]
  },
  {
   "cell_type": "code",
   "execution_count": 39,
   "id": "c0919805-c1e2-471c-96c2-b9f9fa1b3623",
   "metadata": {},
   "outputs": [
    {
     "data": {
      "text/plain": [
       "array([[ 1,  5, 12,  2],\n",
       "       [ 8,  3,  2,  9],\n",
       "       [ 3,  2,  0,  5]])"
      ]
     },
     "execution_count": 39,
     "metadata": {},
     "output_type": "execute_result"
    }
   ],
   "source": [
    "x2"
   ]
  },
  {
   "cell_type": "code",
   "execution_count": 40,
   "id": "6b32ebfb-2b40-4896-9b09-473633290cab",
   "metadata": {},
   "outputs": [
    {
     "data": {
      "text/plain": [
       "array([[ 1,  5, 12],\n",
       "       [ 8,  3,  2]])"
      ]
     },
     "execution_count": 40,
     "metadata": {},
     "output_type": "execute_result"
    }
   ],
   "source": [
    "x2[:2, :3]"
   ]
  },
  {
   "cell_type": "code",
   "execution_count": 41,
   "id": "a686c403-e9e8-42a6-a4ae-ccee4291d9a2",
   "metadata": {},
   "outputs": [
    {
     "data": {
      "text/plain": [
       "array([[ 5,  0,  2,  3],\n",
       "       [ 9,  2,  3,  8],\n",
       "       [ 2, 12,  5,  1]])"
      ]
     },
     "execution_count": 41,
     "metadata": {},
     "output_type": "execute_result"
    }
   ],
   "source": [
    "x2[::-1, ::-1]"
   ]
  },
  {
   "cell_type": "markdown",
   "id": "56363e08-0ea1-4c84-befe-e7bcc20a01cc",
   "metadata": {},
   "source": [
    "#### Доступ к строкам и столбцам массива\n",
    "\n",
    "Одной из часто встречающихся процедур является доступ к отдельным строкам или столбцам массива."
   ]
  },
  {
   "cell_type": "code",
   "execution_count": 42,
   "id": "adc1b411-cb65-43c2-8fc6-ebbaeb6b7875",
   "metadata": {},
   "outputs": [
    {
     "name": "stdout",
     "output_type": "stream",
     "text": [
      "[1 8 3]\n"
     ]
    }
   ],
   "source": [
    "print(x2[:, 0])"
   ]
  },
  {
   "cell_type": "code",
   "execution_count": 43,
   "id": "e9c296d8-e5dc-4acb-94fd-0c2009c19f92",
   "metadata": {},
   "outputs": [
    {
     "name": "stdout",
     "output_type": "stream",
     "text": [
      "[ 1  5 12  2]\n"
     ]
    }
   ],
   "source": [
    "print(x2[0, :])"
   ]
  },
  {
   "cell_type": "code",
   "execution_count": 44,
   "id": "03dd00b1-9956-4972-8954-88265227ba38",
   "metadata": {},
   "outputs": [
    {
     "name": "stdout",
     "output_type": "stream",
     "text": [
      "[ 1  5 12  2]\n"
     ]
    }
   ],
   "source": [
    "print(x2[0]) "
   ]
  },
  {
   "cell_type": "markdown",
   "id": "b7d2ba70-bb62-4f3d-aac3-cb86905464fe",
   "metadata": {},
   "source": [
    "### Подмассивы как представления без копирования\n",
    "\n",
    "Одна важная и чрезвычайно полезная вещь, которую нужно знать о сечении массивов, заключается в том, что они возвращают *представления (view)*, а не *копии (copy)* данных массива.\n",
    "Это одна из областей, в которой нарезка массивов NumPy отличается от нарезки списков Python: в списках нарезки будут копиями."
   ]
  },
  {
   "cell_type": "code",
   "execution_count": 46,
   "id": "aef6f148-83cd-422e-aec6-331265542884",
   "metadata": {},
   "outputs": [
    {
     "name": "stdout",
     "output_type": "stream",
     "text": [
      "[[ 1  5 12  2]\n",
      " [ 8  3  2  9]\n",
      " [ 3  2  0  5]]\n"
     ]
    }
   ],
   "source": [
    "print(x2)"
   ]
  },
  {
   "cell_type": "code",
   "execution_count": 47,
   "id": "2127c05c-c203-4ed8-9ae7-3df8851fab07",
   "metadata": {},
   "outputs": [
    {
     "name": "stdout",
     "output_type": "stream",
     "text": [
      "[[1 5]\n",
      " [8 3]]\n"
     ]
    }
   ],
   "source": [
    "x2_sub = x2[:2, :2]\n",
    "print(x2_sub)"
   ]
  },
  {
   "cell_type": "code",
   "execution_count": 48,
   "id": "804527b4-9b1c-4c6c-93c0-def25459d575",
   "metadata": {},
   "outputs": [
    {
     "name": "stdout",
     "output_type": "stream",
     "text": [
      "[[99  5]\n",
      " [ 8  3]]\n"
     ]
    }
   ],
   "source": [
    "x2_sub[0, 0] = 99\n",
    "print(x2_sub)"
   ]
  },
  {
   "cell_type": "code",
   "execution_count": 50,
   "id": "50ca0302-9a6a-4ce5-9944-f7c7fda5e20b",
   "metadata": {},
   "outputs": [
    {
     "name": "stdout",
     "output_type": "stream",
     "text": [
      "[[99  5 12  2]\n",
      " [ 8  3  2  9]\n",
      " [ 3  2  0  5]]\n"
     ]
    }
   ],
   "source": [
    "print(x2)"
   ]
  },
  {
   "cell_type": "markdown",
   "id": "7e178fe8-fd48-460c-bc1c-c7ddf48f7b6d",
   "metadata": {},
   "source": [
    "Это поведение по умолчанию на самом деле довольно полезно: при работе с большими наборами данных мы можем получать доступ и обрабатывать их части без необходимости копировать основной буфер данных."
   ]
  },
  {
   "cell_type": "markdown",
   "id": "345be20b-fb40-45b9-8034-35d382ce16df",
   "metadata": {},
   "source": [
    "### Создание копий массивов\n",
    "\n",
    "Несмотря на приятные возможности представления массивов, иногда полезно явно копировать данные внутри массива или подмассива. Это проще всего сделать с помощью метода ``copy()``."
   ]
  },
  {
   "cell_type": "code",
   "execution_count": 51,
   "id": "f3577aa5-af9b-4899-9165-a34337ac4b60",
   "metadata": {},
   "outputs": [
    {
     "name": "stdout",
     "output_type": "stream",
     "text": [
      "[[99  5]\n",
      " [ 8  3]]\n"
     ]
    }
   ],
   "source": [
    "x2_sub_copy = x2[:2, :2].copy()\n",
    "print(x2_sub_copy)"
   ]
  },
  {
   "cell_type": "code",
   "execution_count": 52,
   "id": "c8756811-9f6d-4cbe-9fb2-13398603402c",
   "metadata": {},
   "outputs": [
    {
     "name": "stdout",
     "output_type": "stream",
     "text": [
      "[[42  5]\n",
      " [ 8  3]]\n"
     ]
    }
   ],
   "source": [
    "x2_sub_copy[0, 0] = 42\n",
    "print(x2_sub_copy)"
   ]
  },
  {
   "cell_type": "code",
   "execution_count": 53,
   "id": "6dcd187c-b513-4260-b77d-5274d95c4bc8",
   "metadata": {},
   "outputs": [
    {
     "name": "stdout",
     "output_type": "stream",
     "text": [
      "[[99  5 12  2]\n",
      " [ 8  3  2  9]\n",
      " [ 3  2  0  5]]\n"
     ]
    }
   ],
   "source": [
    "print(x2)"
   ]
  },
  {
   "cell_type": "markdown",
   "id": "dd5c531e-8941-45a4-aa9e-dd2f433b8923",
   "metadata": {},
   "source": [
    "## Изменение формы (reshaping) массивов\n",
    "\n",
    "Еще один полезный тип операций - изменение формы массивов.\n",
    "Наиболее гибко это можно сделать с помощью метода ``reshape``.\n",
    "Например, если вы хотите поместить числа от 1 до 9 в сетку $3 \\times 3$, вы можете сделать следующее:"
   ]
  },
  {
   "cell_type": "code",
   "execution_count": 54,
   "id": "39d93560-8d42-41c4-b930-acb31788b206",
   "metadata": {},
   "outputs": [
    {
     "name": "stdout",
     "output_type": "stream",
     "text": [
      "[[1 2 3]\n",
      " [4 5 6]\n",
      " [7 8 9]]\n"
     ]
    }
   ],
   "source": [
    "grid = np.arange(1, 10).reshape((3, 3))\n",
    "print(grid)"
   ]
  },
  {
   "cell_type": "markdown",
   "id": "67c3a4f3-71a1-481d-b85d-2ed3643fc3fe",
   "metadata": {},
   "source": [
    "Размер исходного массива должен соответствовать размеру массива c измененной формой. \n",
    "По возможности, метод ``reshape`` будет использовать представление исходного массива без копирования, но в случае с несмежными буферами памяти это не всегда так.\n",
    "\n",
    "Другим распространенным шаблоном изменение формы является преобразование одномерного массива в двумерную матрицу строк или столбцов.\n",
    "Это можно сделать с помощью метода ``reshape`` или проще - используя ключевое слово ``newaxis`` в операции сечения."
   ]
  },
  {
   "cell_type": "code",
   "execution_count": 55,
   "id": "279729ba-cbc3-44fa-9a43-9a751f4c56ff",
   "metadata": {},
   "outputs": [
    {
     "data": {
      "text/plain": [
       "array([[1, 2, 3]])"
      ]
     },
     "execution_count": 55,
     "metadata": {},
     "output_type": "execute_result"
    }
   ],
   "source": [
    "x = np.array([1, 2, 3])\n",
    "\n",
    "# row vector via reshape\n",
    "x.reshape((1, 3))"
   ]
  },
  {
   "cell_type": "code",
   "execution_count": 56,
   "id": "4e27b13a-832a-4dea-a06b-5cff6e90b5e8",
   "metadata": {},
   "outputs": [
    {
     "data": {
      "text/plain": [
       "array([[1, 2, 3]])"
      ]
     },
     "execution_count": 56,
     "metadata": {},
     "output_type": "execute_result"
    }
   ],
   "source": [
    "x[np.newaxis, :]"
   ]
  },
  {
   "cell_type": "code",
   "execution_count": 57,
   "id": "37cb4a0e-95bc-43dc-86b2-0572e9c3ae57",
   "metadata": {},
   "outputs": [
    {
     "data": {
      "text/plain": [
       "array([[1],\n",
       "       [2],\n",
       "       [3]])"
      ]
     },
     "execution_count": 57,
     "metadata": {},
     "output_type": "execute_result"
    }
   ],
   "source": [
    "x.reshape((3, 1))"
   ]
  },
  {
   "cell_type": "code",
   "execution_count": 58,
   "id": "8c616222-8855-45f9-9582-d75636833d15",
   "metadata": {},
   "outputs": [
    {
     "data": {
      "text/plain": [
       "array([[1],\n",
       "       [2],\n",
       "       [3]])"
      ]
     },
     "execution_count": 58,
     "metadata": {},
     "output_type": "execute_result"
    }
   ],
   "source": [
    "x[:, np.newaxis]"
   ]
  },
  {
   "cell_type": "markdown",
   "id": "6bb6d470-8fa1-4d9c-95ab-62ba4d38ab0b",
   "metadata": {},
   "source": [
    "## Конкатенация и разбиение массивов\n",
    "\n",
    "Все предыдущие процедуры работали с одиночными массивами. \n",
    "Можно также объединить несколько массивов в один и, наоборот, разделить один массив на несколько массивов."
   ]
  },
  {
   "cell_type": "markdown",
   "id": "e81c592c-5524-45f0-a8b8-d6ba20eb48f4",
   "metadata": {},
   "source": [
    "### Конкатенация массивов\n",
    "\n",
    "Конкатенация, или объединение двух массивов в NumPy, в основном выполняется с помощью процедур ``np.concatenate``, ``np.vstack`` и ``np.hstack``."
   ]
  },
  {
   "cell_type": "code",
   "execution_count": 61,
   "id": "457f8056-3f4b-48e0-ae5d-967bd653d6bd",
   "metadata": {},
   "outputs": [
    {
     "name": "stdout",
     "output_type": "stream",
     "text": [
      "[ 1  2  3  3  2  1 99 99 99]\n"
     ]
    }
   ],
   "source": [
    "x = np.array([ 1,  2,  3])\n",
    "y = np.array([ 3,  2,  1])\n",
    "z =          [99, 99, 99]\n",
    "print(np.concatenate([x, y, z]))"
   ]
  },
  {
   "cell_type": "code",
   "execution_count": 63,
   "id": "821f98a6-c996-481e-9a98-02957688f328",
   "metadata": {},
   "outputs": [],
   "source": [
    "grid = np.array([[1, 2, 3],[4, 5, 6]])"
   ]
  },
  {
   "cell_type": "code",
   "execution_count": 65,
   "id": "88dfe119-c681-43e9-bedf-ff448810df5d",
   "metadata": {},
   "outputs": [
    {
     "data": {
      "text/plain": [
       "array([[1, 2, 3],\n",
       "       [4, 5, 6],\n",
       "       [1, 2, 3],\n",
       "       [4, 5, 6]])"
      ]
     },
     "execution_count": 65,
     "metadata": {},
     "output_type": "execute_result"
    }
   ],
   "source": [
    "np.concatenate([grid, grid], axis=0)"
   ]
  },
  {
   "cell_type": "code",
   "execution_count": 64,
   "id": "1487eaca-c819-4ed4-a813-7de2da0e5916",
   "metadata": {},
   "outputs": [
    {
     "data": {
      "text/plain": [
       "array([[1, 2, 3, 1, 2, 3],\n",
       "       [4, 5, 6, 4, 5, 6]])"
      ]
     },
     "execution_count": 64,
     "metadata": {},
     "output_type": "execute_result"
    }
   ],
   "source": [
    "np.concatenate([grid, grid], axis=1)"
   ]
  },
  {
   "cell_type": "markdown",
   "id": "9996c193-3c46-4315-a41d-2b6dc755a79d",
   "metadata": {},
   "source": [
    "Для работы с массивами смешанных размеров может быть более понятным использование функций ``np.vstack`` вдоль первой оси и ``np.hstack`` вдоль второй оси, ``np.dstack`` вдоль третьей оси.."
   ]
  },
  {
   "cell_type": "code",
   "execution_count": 66,
   "id": "bde541d3-dcab-49bb-806e-feaa6f42cfc7",
   "metadata": {},
   "outputs": [
    {
     "data": {
      "text/plain": [
       "array([[1, 2, 3],\n",
       "       [9, 8, 7],\n",
       "       [6, 5, 4]])"
      ]
     },
     "execution_count": 66,
     "metadata": {},
     "output_type": "execute_result"
    }
   ],
   "source": [
    "x_1 = np.array([1, 2, 3])\n",
    "x_2 = np.array([[9, 8, 7],[6, 5, 4]])\n",
    "\n",
    "# vertically stack the arrays\n",
    "np.vstack([x_1, x_2])"
   ]
  },
  {
   "cell_type": "code",
   "execution_count": 68,
   "id": "c39318ba-f434-4092-adc0-e024dcf89f8e",
   "metadata": {},
   "outputs": [
    {
     "data": {
      "text/plain": [
       "array([[ 9,  8,  7, 99],\n",
       "       [ 6,  5,  4, 99]])"
      ]
     },
     "execution_count": 68,
     "metadata": {},
     "output_type": "execute_result"
    }
   ],
   "source": [
    "x_3 = np.array([[99],[99]])\n",
    "np.hstack([x_2, x_3])"
   ]
  },
  {
   "cell_type": "markdown",
   "id": "f106b77b-e600-4de4-ba5d-1d29ae09cb85",
   "metadata": {},
   "source": [
    "### Разбиение массивов\n",
    "\n",
    "Противоположностью конкатенации является разбиение, которое реализуется функциями ``np.split``, ``np.hsplit`` и ``np.vsplit``.  Для каждой из них мы можем передать список индексов, задающих точки разбиения."
   ]
  },
  {
   "cell_type": "code",
   "execution_count": 70,
   "id": "0f734d41-916d-4acb-aefe-64236333f689",
   "metadata": {},
   "outputs": [
    {
     "name": "stdout",
     "output_type": "stream",
     "text": [
      "[1 2 3] [99 99] [3 2 1]\n"
     ]
    }
   ],
   "source": [
    "x0 = [1, 2, 3, 99, 99, 3, 2, 1]\n",
    "x1, x2, x3 = np.split(x0, [3, 5])\n",
    "print(x1, x2, x3)"
   ]
  },
  {
   "cell_type": "code",
   "execution_count": null,
   "id": "b5d6d6b9-4f30-4884-b91a-18081de3325a",
   "metadata": {},
   "outputs": [],
   "source": []
  },
  {
   "cell_type": "code",
   "execution_count": null,
   "id": "62bb8fa7-79ca-4791-aeee-9e597c415d34",
   "metadata": {},
   "outputs": [],
   "source": []
  },
  {
   "cell_type": "code",
   "execution_count": null,
   "id": "64d73145-ed54-4ab8-b9b2-8143e6d0d167",
   "metadata": {},
   "outputs": [],
   "source": []
  },
  {
   "cell_type": "code",
   "execution_count": null,
   "id": "41d29dd5-d4bd-42f7-b52a-d2ab0f934554",
   "metadata": {},
   "outputs": [],
   "source": []
  },
  {
   "cell_type": "code",
   "execution_count": null,
   "id": "564de28d-7fec-4f5e-b677-23708e0def31",
   "metadata": {},
   "outputs": [],
   "source": []
  },
  {
   "cell_type": "code",
   "execution_count": null,
   "id": "cb2dff53-3901-4a0a-bf16-fdf0bb540b83",
   "metadata": {},
   "outputs": [],
   "source": []
  }
 ],
 "metadata": {
  "kernelspec": {
   "display_name": "Python 3 (ipykernel)",
   "language": "python",
   "name": "python3"
  },
  "language_info": {
   "codemirror_mode": {
    "name": "ipython",
    "version": 3
   },
   "file_extension": ".py",
   "mimetype": "text/x-python",
   "name": "python",
   "nbconvert_exporter": "python",
   "pygments_lexer": "ipython3",
   "version": "3.8.16"
  }
 },
 "nbformat": 4,
 "nbformat_minor": 5
}
